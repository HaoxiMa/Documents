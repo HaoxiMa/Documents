{
 "cells": [
  {
   "cell_type": "markdown",
   "id": "223174cc",
   "metadata": {},
   "source": [
    "<img src=\"../NiceStart.jpeg\" width=400 height=400 align=\"center\"/>"
   ]
  },
  {
   "cell_type": "markdown",
   "id": "99c0b96e",
   "metadata": {},
   "source": [
    "# Plotly and Cufflinks\n",
    "\n",
    "**Plotly** is a library that allows you to create interactive plots that you can use in dashboards or websites (you can save them as html files or static images)\n",
    "\n",
    "**Cufflinks** is a library that connects the Pandas data frame with Plotly enabling users to create visualizations directly from Pandas. The library binds the power of Plotly with the flexibility of Pandas for easy plotting."
   ]
  },
  {
   "cell_type": "code",
   "execution_count": 34,
   "id": "f01138fa",
   "metadata": {},
   "outputs": [],
   "source": [
    "#输出多个output\n",
    "from IPython.core.interactiveshell import InteractiveShell\n",
    "InteractiveShell.ast_node_interactivity='all'\n",
    "#Open hinterland\n",
    "%config Completer.use_jedi = False"
   ]
  },
  {
   "cell_type": "code",
   "execution_count": 35,
   "id": "613e33d6",
   "metadata": {},
   "outputs": [],
   "source": [
    "import numpy as np\n",
    "import pandas as pd"
   ]
  },
  {
   "cell_type": "code",
   "execution_count": 36,
   "id": "9ce76dec",
   "metadata": {},
   "outputs": [
    {
     "name": "stdout",
     "output_type": "stream",
     "text": [
      "4.14.3\n"
     ]
    }
   ],
   "source": [
    "from plotly import __version__\n",
    "from plotly.offline import download_plotlyjs, init_notebook_mode, plot, iplot #import the plotly offline use\n",
    "\n",
    "print(__version__) # requires version >= 1.9.0"
   ]
  },
  {
   "cell_type": "markdown",
   "id": "787f8994",
   "metadata": {},
   "source": [
    "More info on other options for Offline Plotly usage can be found [here](https://plot.ly/python/offline/)."
   ]
  },
  {
   "cell_type": "code",
   "execution_count": 37,
   "id": "246eee4e",
   "metadata": {},
   "outputs": [
    {
     "data": {
      "text/html": [
       "        <script type=\"text/javascript\">\n",
       "        window.PlotlyConfig = {MathJaxConfig: 'local'};\n",
       "        if (window.MathJax) {MathJax.Hub.Config({SVG: {font: \"STIX-Web\"}});}\n",
       "        if (typeof require !== 'undefined') {\n",
       "        require.undef(\"plotly\");\n",
       "        requirejs.config({\n",
       "            paths: {\n",
       "                'plotly': ['https://cdn.plot.ly/plotly-latest.min']\n",
       "            }\n",
       "        });\n",
       "        require(['plotly'], function(Plotly) {\n",
       "            window._Plotly = Plotly;\n",
       "        });\n",
       "        }\n",
       "        </script>\n",
       "        "
      ]
     },
     "metadata": {},
     "output_type": "display_data"
    }
   ],
   "source": [
    "#Connect the Javascript to your jupyter notebooks\n",
    "init_notebook_mode(connected=True)"
   ]
  },
  {
   "cell_type": "code",
   "execution_count": 38,
   "id": "19ee4fd1",
   "metadata": {},
   "outputs": [
    {
     "data": {
      "text/html": [
       "        <script type=\"text/javascript\">\n",
       "        window.PlotlyConfig = {MathJaxConfig: 'local'};\n",
       "        if (window.MathJax) {MathJax.Hub.Config({SVG: {font: \"STIX-Web\"}});}\n",
       "        if (typeof require !== 'undefined') {\n",
       "        require.undef(\"plotly\");\n",
       "        requirejs.config({\n",
       "            paths: {\n",
       "                'plotly': ['https://cdn.plot.ly/plotly-latest.min']\n",
       "            }\n",
       "        });\n",
       "        require(['plotly'], function(Plotly) {\n",
       "            window._Plotly = Plotly;\n",
       "        });\n",
       "        }\n",
       "        </script>\n",
       "        "
      ]
     },
     "metadata": {},
     "output_type": "display_data"
    }
   ],
   "source": [
    "import cufflinks as cf\n",
    "\n",
    "# For offline use\n",
    "cf.go_offline()"
   ]
  },
  {
   "cell_type": "markdown",
   "id": "5082cc2c",
   "metadata": {},
   "source": [
    "## Data"
   ]
  },
  {
   "cell_type": "code",
   "execution_count": 39,
   "id": "65515350",
   "metadata": {},
   "outputs": [
    {
     "data": {
      "text/html": [
       "<div>\n",
       "<style scoped>\n",
       "    .dataframe tbody tr th:only-of-type {\n",
       "        vertical-align: middle;\n",
       "    }\n",
       "\n",
       "    .dataframe tbody tr th {\n",
       "        vertical-align: top;\n",
       "    }\n",
       "\n",
       "    .dataframe thead th {\n",
       "        text-align: right;\n",
       "    }\n",
       "</style>\n",
       "<table border=\"1\" class=\"dataframe\">\n",
       "  <thead>\n",
       "    <tr style=\"text-align: right;\">\n",
       "      <th></th>\n",
       "      <th>A</th>\n",
       "      <th>B</th>\n",
       "      <th>C</th>\n",
       "      <th>D</th>\n",
       "    </tr>\n",
       "  </thead>\n",
       "  <tbody>\n",
       "    <tr>\n",
       "      <th>0</th>\n",
       "      <td>0.491589</td>\n",
       "      <td>-1.327593</td>\n",
       "      <td>0.729963</td>\n",
       "      <td>0.179912</td>\n",
       "    </tr>\n",
       "    <tr>\n",
       "      <th>1</th>\n",
       "      <td>-0.502709</td>\n",
       "      <td>-0.936340</td>\n",
       "      <td>2.355342</td>\n",
       "      <td>-0.881890</td>\n",
       "    </tr>\n",
       "    <tr>\n",
       "      <th>2</th>\n",
       "      <td>-0.439661</td>\n",
       "      <td>-0.136477</td>\n",
       "      <td>0.943916</td>\n",
       "      <td>1.339644</td>\n",
       "    </tr>\n",
       "    <tr>\n",
       "      <th>3</th>\n",
       "      <td>1.566587</td>\n",
       "      <td>-2.224064</td>\n",
       "      <td>-1.748567</td>\n",
       "      <td>1.696370</td>\n",
       "    </tr>\n",
       "    <tr>\n",
       "      <th>4</th>\n",
       "      <td>-0.621258</td>\n",
       "      <td>1.739462</td>\n",
       "      <td>0.673034</td>\n",
       "      <td>-1.017050</td>\n",
       "    </tr>\n",
       "    <tr>\n",
       "      <th>...</th>\n",
       "      <td>...</td>\n",
       "      <td>...</td>\n",
       "      <td>...</td>\n",
       "      <td>...</td>\n",
       "    </tr>\n",
       "    <tr>\n",
       "      <th>95</th>\n",
       "      <td>-0.771045</td>\n",
       "      <td>0.730611</td>\n",
       "      <td>-0.734954</td>\n",
       "      <td>-0.210948</td>\n",
       "    </tr>\n",
       "    <tr>\n",
       "      <th>96</th>\n",
       "      <td>-0.215223</td>\n",
       "      <td>-0.430839</td>\n",
       "      <td>0.492896</td>\n",
       "      <td>0.974994</td>\n",
       "    </tr>\n",
       "    <tr>\n",
       "      <th>97</th>\n",
       "      <td>0.287236</td>\n",
       "      <td>0.821522</td>\n",
       "      <td>-1.334427</td>\n",
       "      <td>0.632230</td>\n",
       "    </tr>\n",
       "    <tr>\n",
       "      <th>98</th>\n",
       "      <td>0.792476</td>\n",
       "      <td>-0.752275</td>\n",
       "      <td>0.282808</td>\n",
       "      <td>-0.189261</td>\n",
       "    </tr>\n",
       "    <tr>\n",
       "      <th>99</th>\n",
       "      <td>-0.168320</td>\n",
       "      <td>-1.299678</td>\n",
       "      <td>0.535457</td>\n",
       "      <td>0.274295</td>\n",
       "    </tr>\n",
       "  </tbody>\n",
       "</table>\n",
       "<p>100 rows × 4 columns</p>\n",
       "</div>"
      ],
      "text/plain": [
       "           A         B         C         D\n",
       "0   0.491589 -1.327593  0.729963  0.179912\n",
       "1  -0.502709 -0.936340  2.355342 -0.881890\n",
       "2  -0.439661 -0.136477  0.943916  1.339644\n",
       "3   1.566587 -2.224064 -1.748567  1.696370\n",
       "4  -0.621258  1.739462  0.673034 -1.017050\n",
       "..       ...       ...       ...       ...\n",
       "95 -0.771045  0.730611 -0.734954 -0.210948\n",
       "96 -0.215223 -0.430839  0.492896  0.974994\n",
       "97  0.287236  0.821522 -1.334427  0.632230\n",
       "98  0.792476 -0.752275  0.282808 -0.189261\n",
       "99 -0.168320 -1.299678  0.535457  0.274295\n",
       "\n",
       "[100 rows x 4 columns]"
      ]
     },
     "execution_count": 39,
     "metadata": {},
     "output_type": "execute_result"
    }
   ],
   "source": [
    "df = pd.DataFrame(np.random.randn(100,4), columns=\"A B C D\".split())\n",
    "df"
   ]
  },
  {
   "cell_type": "code",
   "execution_count": 40,
   "id": "064a03ed",
   "metadata": {},
   "outputs": [
    {
     "data": {
      "text/html": [
       "<div>\n",
       "<style scoped>\n",
       "    .dataframe tbody tr th:only-of-type {\n",
       "        vertical-align: middle;\n",
       "    }\n",
       "\n",
       "    .dataframe tbody tr th {\n",
       "        vertical-align: top;\n",
       "    }\n",
       "\n",
       "    .dataframe thead th {\n",
       "        text-align: right;\n",
       "    }\n",
       "</style>\n",
       "<table border=\"1\" class=\"dataframe\">\n",
       "  <thead>\n",
       "    <tr style=\"text-align: right;\">\n",
       "      <th></th>\n",
       "      <th>Category</th>\n",
       "      <th>Values</th>\n",
       "    </tr>\n",
       "  </thead>\n",
       "  <tbody>\n",
       "    <tr>\n",
       "      <th>0</th>\n",
       "      <td>A</td>\n",
       "      <td>32</td>\n",
       "    </tr>\n",
       "    <tr>\n",
       "      <th>1</th>\n",
       "      <td>B</td>\n",
       "      <td>43</td>\n",
       "    </tr>\n",
       "    <tr>\n",
       "      <th>2</th>\n",
       "      <td>C</td>\n",
       "      <td>50</td>\n",
       "    </tr>\n",
       "  </tbody>\n",
       "</table>\n",
       "</div>"
      ],
      "text/plain": [
       "  Category  Values\n",
       "0        A      32\n",
       "1        B      43\n",
       "2        C      50"
      ]
     },
     "execution_count": 40,
     "metadata": {},
     "output_type": "execute_result"
    }
   ],
   "source": [
    "df2 = pd.DataFrame({\"Category\":[\"A\",\"B\",\"C\"], \"Values\":[32,43,50]})\n",
    "df2"
   ]
  },
  {
   "cell_type": "markdown",
   "id": "7380f265",
   "metadata": {},
   "source": [
    "## Using Cufflinks and iplot()\n",
    "\n",
    "* scatter\n",
    "* bar\n",
    "* box\n",
    "* spread\n",
    "* ratio\n",
    "* heatmap\n",
    "* surface\n",
    "* histogram\n",
    "* bubble"
   ]
  },
  {
   "cell_type": "markdown",
   "id": "399b9b94",
   "metadata": {},
   "source": [
    "### Scatter"
   ]
  },
  {
   "cell_type": "code",
   "execution_count": 41,
   "id": "642d48a4",
   "metadata": {},
   "outputs": [
    {
     "data": {
      "application/vnd.plotly.v1+json": {
       "config": {
        "linkText": "Export to plot.ly",
        "plotlyServerURL": "https://plot.ly",
        "showLink": true
       },
       "data": [
        {
         "line": {
          "color": "rgba(255, 153, 51, 1.0)",
          "dash": "solid",
          "shape": "linear",
          "width": 1.3
         },
         "marker": {
          "size": 10,
          "symbol": "circle"
         },
         "mode": "markers",
         "name": "B",
         "text": "",
         "type": "scatter",
         "x": [
          0.4915889810451373,
          -0.502709032241364,
          -0.439660809274218,
          1.566586675251845,
          -0.6212578026798677,
          1.7776557644067656,
          0.8661298023840379,
          1.2706349857331831,
          1.1829527406936695,
          0.07381149895472465,
          0.4303466828369726,
          -0.9575027737008519,
          0.2448911967693874,
          0.04189873427502208,
          1.5647741213386723,
          0.5650390866380348,
          -0.4822423308956621,
          0.2877232264192255,
          1.2382658662292958,
          -0.703889579568911,
          -1.567758920770038,
          -0.02647700663406622,
          1.2742432983560472,
          0.24568074637287884,
          0.4093554625129669,
          -1.7037611549524168,
          0.3028826118549479,
          -1.3329700018952149,
          -2.3191071798134724,
          -0.4715275828898805,
          0.23336255517782983,
          -0.16015327795991532,
          -0.1009133565791417,
          -2.81926838345229,
          1.3654859862689102,
          0.4321785438498271,
          -0.8530812976871149,
          2.205208780788037,
          -1.036426166029101,
          -0.6148016609313836,
          -0.7804903323450012,
          0.31695605069133637,
          -0.36415029682631717,
          -0.11756535392984228,
          0.5012484638145545,
          0.14568939028348707,
          0.2748279734808271,
          -0.6781935523155721,
          0.2655237481306271,
          0.284077559638565,
          -1.7740915834552073,
          -1.2707521382258211,
          0.8654799498531212,
          0.531975731840595,
          -1.008064431305186,
          -1.047052004852239,
          0.15693951402710357,
          -0.061888674539695335,
          1.1472568799088285,
          -1.8232049204956886,
          -0.5088215335086028,
          0.8018888434820789,
          -1.193138125172003,
          1.1508657000784246,
          0.6197120558756081,
          -0.6717131229802509,
          -2.0860401916618696,
          -0.57342915056639,
          0.5374995212581878,
          -0.5328685673770484,
          -0.23785068830163442,
          0.45164324959069013,
          -0.01937340009535,
          0.11477937112607209,
          -0.14076154255896042,
          -0.13988385748639753,
          -0.7696645921042117,
          -0.18421016746021568,
          -0.21423330761126352,
          -0.00734890959141541,
          1.1328213530939724,
          -1.4287156552765827,
          -0.5516144642840903,
          -0.7931343423812411,
          0.5006083393739946,
          -0.0045120609205573795,
          0.05501801382379699,
          0.9560982713007699,
          1.179495400187467,
          -0.6439271361193529,
          -1.3620561504842512,
          1.6783810359332907,
          0.17790555885956716,
          -0.5337727464325431,
          0.529490162805114,
          -0.7710447878576198,
          -0.21522348807762237,
          0.2872358861077521,
          0.7924763496804115,
          -0.16831977505258977
         ],
         "y": [
          -1.3275926421452904,
          -0.936339741020361,
          -0.13647734868874586,
          -2.2240640578978677,
          1.7394620755462407,
          -0.9836121549376742,
          0.34626738417910974,
          1.2047434241013317,
          1.40716285017813,
          1.607297362862324,
          1.1471127354058306,
          -1.0290993380333546,
          0.3382366893151083,
          1.2171761981322033,
          -2.098208032554198,
          0.6029330801302344,
          0.7289001703024334,
          -0.9748621397718429,
          -1.1333611351564175,
          -0.6438327393385788,
          -0.05736388655202392,
          0.8174149798334428,
          0.38307197322024256,
          -0.33450585472427186,
          -0.3208347691514773,
          1.1646184189868694,
          0.5472252231873067,
          0.18021263465929316,
          -1.4688972064557497,
          -0.007503782506332852,
          0.3921883000604201,
          -1.3139502090164275,
          1.048607779460764,
          0.39367903297019263,
          -0.009051504564113558,
          -1.901214271538554,
          -0.5171755167242869,
          0.9229573561035125,
          0.21267983927716877,
          -0.4370929342827836,
          0.2283932101125965,
          1.2176223801186772,
          -1.2090570542595627,
          2.5505564530909055,
          -0.6075715148722199,
          0.19176390475104416,
          0.769852942774043,
          0.7882324532714438,
          -1.3143619973703013,
          0.42644098330579333,
          -1.711462519248761,
          -0.16901255652128294,
          0.0532722679248608,
          -1.4604290285910726,
          -0.36053699012217083,
          0.5088195386777494,
          0.25542311236157367,
          -0.11186811351887037,
          0.5405878809143965,
          -0.04386982384945076,
          -0.16917336542894204,
          0.6633191366843727,
          -0.4989147864827021,
          0.1560136225260184,
          0.05272802990970662,
          -1.850465429629844,
          1.3834059410341466,
          -0.9218299190591187,
          -0.6063394567698026,
          -1.1886063318225617,
          0.10019920073973819,
          -0.2595092728091105,
          2.2190005527839,
          0.7659999908718104,
          -0.560468590169831,
          -1.8182133054973348,
          -0.11258377212132896,
          0.538066045580072,
          -0.4241680278188642,
          1.1654127387433164,
          -1.1549015772976388,
          0.69925676362351,
          -0.9108643560764622,
          -0.24661187787572553,
          -0.934632536808109,
          -0.2714279182553495,
          0.16631843471957616,
          0.31353363861918293,
          -0.9107335599140366,
          -0.25980191444427614,
          0.4628327390827214,
          -1.0223280885294475,
          -0.11416392676936336,
          0.0005269853392635756,
          0.6425260963846305,
          0.7306111095911784,
          -0.4308391283122783,
          0.821522465586635,
          -0.7522745648552567,
          -1.299678462575494
         ]
        }
       ],
       "layout": {
        "legend": {
         "bgcolor": "#F5F6F9",
         "font": {
          "color": "#4D5663"
         }
        },
        "paper_bgcolor": "#F5F6F9",
        "plot_bgcolor": "#F5F6F9",
        "template": {
         "data": {
          "bar": [
           {
            "error_x": {
             "color": "#2a3f5f"
            },
            "error_y": {
             "color": "#2a3f5f"
            },
            "marker": {
             "line": {
              "color": "#E5ECF6",
              "width": 0.5
             }
            },
            "type": "bar"
           }
          ],
          "barpolar": [
           {
            "marker": {
             "line": {
              "color": "#E5ECF6",
              "width": 0.5
             }
            },
            "type": "barpolar"
           }
          ],
          "carpet": [
           {
            "aaxis": {
             "endlinecolor": "#2a3f5f",
             "gridcolor": "white",
             "linecolor": "white",
             "minorgridcolor": "white",
             "startlinecolor": "#2a3f5f"
            },
            "baxis": {
             "endlinecolor": "#2a3f5f",
             "gridcolor": "white",
             "linecolor": "white",
             "minorgridcolor": "white",
             "startlinecolor": "#2a3f5f"
            },
            "type": "carpet"
           }
          ],
          "choropleth": [
           {
            "colorbar": {
             "outlinewidth": 0,
             "ticks": ""
            },
            "type": "choropleth"
           }
          ],
          "contour": [
           {
            "colorbar": {
             "outlinewidth": 0,
             "ticks": ""
            },
            "colorscale": [
             [
              0,
              "#0d0887"
             ],
             [
              0.1111111111111111,
              "#46039f"
             ],
             [
              0.2222222222222222,
              "#7201a8"
             ],
             [
              0.3333333333333333,
              "#9c179e"
             ],
             [
              0.4444444444444444,
              "#bd3786"
             ],
             [
              0.5555555555555556,
              "#d8576b"
             ],
             [
              0.6666666666666666,
              "#ed7953"
             ],
             [
              0.7777777777777778,
              "#fb9f3a"
             ],
             [
              0.8888888888888888,
              "#fdca26"
             ],
             [
              1,
              "#f0f921"
             ]
            ],
            "type": "contour"
           }
          ],
          "contourcarpet": [
           {
            "colorbar": {
             "outlinewidth": 0,
             "ticks": ""
            },
            "type": "contourcarpet"
           }
          ],
          "heatmap": [
           {
            "colorbar": {
             "outlinewidth": 0,
             "ticks": ""
            },
            "colorscale": [
             [
              0,
              "#0d0887"
             ],
             [
              0.1111111111111111,
              "#46039f"
             ],
             [
              0.2222222222222222,
              "#7201a8"
             ],
             [
              0.3333333333333333,
              "#9c179e"
             ],
             [
              0.4444444444444444,
              "#bd3786"
             ],
             [
              0.5555555555555556,
              "#d8576b"
             ],
             [
              0.6666666666666666,
              "#ed7953"
             ],
             [
              0.7777777777777778,
              "#fb9f3a"
             ],
             [
              0.8888888888888888,
              "#fdca26"
             ],
             [
              1,
              "#f0f921"
             ]
            ],
            "type": "heatmap"
           }
          ],
          "heatmapgl": [
           {
            "colorbar": {
             "outlinewidth": 0,
             "ticks": ""
            },
            "colorscale": [
             [
              0,
              "#0d0887"
             ],
             [
              0.1111111111111111,
              "#46039f"
             ],
             [
              0.2222222222222222,
              "#7201a8"
             ],
             [
              0.3333333333333333,
              "#9c179e"
             ],
             [
              0.4444444444444444,
              "#bd3786"
             ],
             [
              0.5555555555555556,
              "#d8576b"
             ],
             [
              0.6666666666666666,
              "#ed7953"
             ],
             [
              0.7777777777777778,
              "#fb9f3a"
             ],
             [
              0.8888888888888888,
              "#fdca26"
             ],
             [
              1,
              "#f0f921"
             ]
            ],
            "type": "heatmapgl"
           }
          ],
          "histogram": [
           {
            "marker": {
             "colorbar": {
              "outlinewidth": 0,
              "ticks": ""
             }
            },
            "type": "histogram"
           }
          ],
          "histogram2d": [
           {
            "colorbar": {
             "outlinewidth": 0,
             "ticks": ""
            },
            "colorscale": [
             [
              0,
              "#0d0887"
             ],
             [
              0.1111111111111111,
              "#46039f"
             ],
             [
              0.2222222222222222,
              "#7201a8"
             ],
             [
              0.3333333333333333,
              "#9c179e"
             ],
             [
              0.4444444444444444,
              "#bd3786"
             ],
             [
              0.5555555555555556,
              "#d8576b"
             ],
             [
              0.6666666666666666,
              "#ed7953"
             ],
             [
              0.7777777777777778,
              "#fb9f3a"
             ],
             [
              0.8888888888888888,
              "#fdca26"
             ],
             [
              1,
              "#f0f921"
             ]
            ],
            "type": "histogram2d"
           }
          ],
          "histogram2dcontour": [
           {
            "colorbar": {
             "outlinewidth": 0,
             "ticks": ""
            },
            "colorscale": [
             [
              0,
              "#0d0887"
             ],
             [
              0.1111111111111111,
              "#46039f"
             ],
             [
              0.2222222222222222,
              "#7201a8"
             ],
             [
              0.3333333333333333,
              "#9c179e"
             ],
             [
              0.4444444444444444,
              "#bd3786"
             ],
             [
              0.5555555555555556,
              "#d8576b"
             ],
             [
              0.6666666666666666,
              "#ed7953"
             ],
             [
              0.7777777777777778,
              "#fb9f3a"
             ],
             [
              0.8888888888888888,
              "#fdca26"
             ],
             [
              1,
              "#f0f921"
             ]
            ],
            "type": "histogram2dcontour"
           }
          ],
          "mesh3d": [
           {
            "colorbar": {
             "outlinewidth": 0,
             "ticks": ""
            },
            "type": "mesh3d"
           }
          ],
          "parcoords": [
           {
            "line": {
             "colorbar": {
              "outlinewidth": 0,
              "ticks": ""
             }
            },
            "type": "parcoords"
           }
          ],
          "pie": [
           {
            "automargin": true,
            "type": "pie"
           }
          ],
          "scatter": [
           {
            "marker": {
             "colorbar": {
              "outlinewidth": 0,
              "ticks": ""
             }
            },
            "type": "scatter"
           }
          ],
          "scatter3d": [
           {
            "line": {
             "colorbar": {
              "outlinewidth": 0,
              "ticks": ""
             }
            },
            "marker": {
             "colorbar": {
              "outlinewidth": 0,
              "ticks": ""
             }
            },
            "type": "scatter3d"
           }
          ],
          "scattercarpet": [
           {
            "marker": {
             "colorbar": {
              "outlinewidth": 0,
              "ticks": ""
             }
            },
            "type": "scattercarpet"
           }
          ],
          "scattergeo": [
           {
            "marker": {
             "colorbar": {
              "outlinewidth": 0,
              "ticks": ""
             }
            },
            "type": "scattergeo"
           }
          ],
          "scattergl": [
           {
            "marker": {
             "colorbar": {
              "outlinewidth": 0,
              "ticks": ""
             }
            },
            "type": "scattergl"
           }
          ],
          "scattermapbox": [
           {
            "marker": {
             "colorbar": {
              "outlinewidth": 0,
              "ticks": ""
             }
            },
            "type": "scattermapbox"
           }
          ],
          "scatterpolar": [
           {
            "marker": {
             "colorbar": {
              "outlinewidth": 0,
              "ticks": ""
             }
            },
            "type": "scatterpolar"
           }
          ],
          "scatterpolargl": [
           {
            "marker": {
             "colorbar": {
              "outlinewidth": 0,
              "ticks": ""
             }
            },
            "type": "scatterpolargl"
           }
          ],
          "scatterternary": [
           {
            "marker": {
             "colorbar": {
              "outlinewidth": 0,
              "ticks": ""
             }
            },
            "type": "scatterternary"
           }
          ],
          "surface": [
           {
            "colorbar": {
             "outlinewidth": 0,
             "ticks": ""
            },
            "colorscale": [
             [
              0,
              "#0d0887"
             ],
             [
              0.1111111111111111,
              "#46039f"
             ],
             [
              0.2222222222222222,
              "#7201a8"
             ],
             [
              0.3333333333333333,
              "#9c179e"
             ],
             [
              0.4444444444444444,
              "#bd3786"
             ],
             [
              0.5555555555555556,
              "#d8576b"
             ],
             [
              0.6666666666666666,
              "#ed7953"
             ],
             [
              0.7777777777777778,
              "#fb9f3a"
             ],
             [
              0.8888888888888888,
              "#fdca26"
             ],
             [
              1,
              "#f0f921"
             ]
            ],
            "type": "surface"
           }
          ],
          "table": [
           {
            "cells": {
             "fill": {
              "color": "#EBF0F8"
             },
             "line": {
              "color": "white"
             }
            },
            "header": {
             "fill": {
              "color": "#C8D4E3"
             },
             "line": {
              "color": "white"
             }
            },
            "type": "table"
           }
          ]
         },
         "layout": {
          "annotationdefaults": {
           "arrowcolor": "#2a3f5f",
           "arrowhead": 0,
           "arrowwidth": 1
          },
          "autotypenumbers": "strict",
          "coloraxis": {
           "colorbar": {
            "outlinewidth": 0,
            "ticks": ""
           }
          },
          "colorscale": {
           "diverging": [
            [
             0,
             "#8e0152"
            ],
            [
             0.1,
             "#c51b7d"
            ],
            [
             0.2,
             "#de77ae"
            ],
            [
             0.3,
             "#f1b6da"
            ],
            [
             0.4,
             "#fde0ef"
            ],
            [
             0.5,
             "#f7f7f7"
            ],
            [
             0.6,
             "#e6f5d0"
            ],
            [
             0.7,
             "#b8e186"
            ],
            [
             0.8,
             "#7fbc41"
            ],
            [
             0.9,
             "#4d9221"
            ],
            [
             1,
             "#276419"
            ]
           ],
           "sequential": [
            [
             0,
             "#0d0887"
            ],
            [
             0.1111111111111111,
             "#46039f"
            ],
            [
             0.2222222222222222,
             "#7201a8"
            ],
            [
             0.3333333333333333,
             "#9c179e"
            ],
            [
             0.4444444444444444,
             "#bd3786"
            ],
            [
             0.5555555555555556,
             "#d8576b"
            ],
            [
             0.6666666666666666,
             "#ed7953"
            ],
            [
             0.7777777777777778,
             "#fb9f3a"
            ],
            [
             0.8888888888888888,
             "#fdca26"
            ],
            [
             1,
             "#f0f921"
            ]
           ],
           "sequentialminus": [
            [
             0,
             "#0d0887"
            ],
            [
             0.1111111111111111,
             "#46039f"
            ],
            [
             0.2222222222222222,
             "#7201a8"
            ],
            [
             0.3333333333333333,
             "#9c179e"
            ],
            [
             0.4444444444444444,
             "#bd3786"
            ],
            [
             0.5555555555555556,
             "#d8576b"
            ],
            [
             0.6666666666666666,
             "#ed7953"
            ],
            [
             0.7777777777777778,
             "#fb9f3a"
            ],
            [
             0.8888888888888888,
             "#fdca26"
            ],
            [
             1,
             "#f0f921"
            ]
           ]
          },
          "colorway": [
           "#636efa",
           "#EF553B",
           "#00cc96",
           "#ab63fa",
           "#FFA15A",
           "#19d3f3",
           "#FF6692",
           "#B6E880",
           "#FF97FF",
           "#FECB52"
          ],
          "font": {
           "color": "#2a3f5f"
          },
          "geo": {
           "bgcolor": "white",
           "lakecolor": "white",
           "landcolor": "#E5ECF6",
           "showlakes": true,
           "showland": true,
           "subunitcolor": "white"
          },
          "hoverlabel": {
           "align": "left"
          },
          "hovermode": "closest",
          "mapbox": {
           "style": "light"
          },
          "paper_bgcolor": "white",
          "plot_bgcolor": "#E5ECF6",
          "polar": {
           "angularaxis": {
            "gridcolor": "white",
            "linecolor": "white",
            "ticks": ""
           },
           "bgcolor": "#E5ECF6",
           "radialaxis": {
            "gridcolor": "white",
            "linecolor": "white",
            "ticks": ""
           }
          },
          "scene": {
           "xaxis": {
            "backgroundcolor": "#E5ECF6",
            "gridcolor": "white",
            "gridwidth": 2,
            "linecolor": "white",
            "showbackground": true,
            "ticks": "",
            "zerolinecolor": "white"
           },
           "yaxis": {
            "backgroundcolor": "#E5ECF6",
            "gridcolor": "white",
            "gridwidth": 2,
            "linecolor": "white",
            "showbackground": true,
            "ticks": "",
            "zerolinecolor": "white"
           },
           "zaxis": {
            "backgroundcolor": "#E5ECF6",
            "gridcolor": "white",
            "gridwidth": 2,
            "linecolor": "white",
            "showbackground": true,
            "ticks": "",
            "zerolinecolor": "white"
           }
          },
          "shapedefaults": {
           "line": {
            "color": "#2a3f5f"
           }
          },
          "ternary": {
           "aaxis": {
            "gridcolor": "white",
            "linecolor": "white",
            "ticks": ""
           },
           "baxis": {
            "gridcolor": "white",
            "linecolor": "white",
            "ticks": ""
           },
           "bgcolor": "#E5ECF6",
           "caxis": {
            "gridcolor": "white",
            "linecolor": "white",
            "ticks": ""
           }
          },
          "title": {
           "x": 0.05
          },
          "xaxis": {
           "automargin": true,
           "gridcolor": "white",
           "linecolor": "white",
           "ticks": "",
           "title": {
            "standoff": 15
           },
           "zerolinecolor": "white",
           "zerolinewidth": 2
          },
          "yaxis": {
           "automargin": true,
           "gridcolor": "white",
           "linecolor": "white",
           "ticks": "",
           "title": {
            "standoff": 15
           },
           "zerolinecolor": "white",
           "zerolinewidth": 2
          }
         }
        },
        "title": {
         "font": {
          "color": "#4D5663"
         }
        },
        "xaxis": {
         "gridcolor": "#E1E5ED",
         "showgrid": true,
         "tickfont": {
          "color": "#4D5663"
         },
         "title": {
          "font": {
           "color": "#4D5663"
          },
          "text": ""
         },
         "zerolinecolor": "#E1E5ED"
        },
        "yaxis": {
         "gridcolor": "#E1E5ED",
         "showgrid": true,
         "tickfont": {
          "color": "#4D5663"
         },
         "title": {
          "font": {
           "color": "#4D5663"
          },
          "text": ""
         },
         "zerolinecolor": "#E1E5ED"
        }
       }
      },
      "text/html": [
       "<div>                            <div id=\"4bfaee21-f998-4383-9a4f-9b3b0db912a1\" class=\"plotly-graph-div\" style=\"height:525px; width:100%;\"></div>            <script type=\"text/javascript\">                require([\"plotly\"], function(Plotly) {                    window.PLOTLYENV=window.PLOTLYENV || {};\n",
       "                    window.PLOTLYENV.BASE_URL='https://plot.ly';                                    if (document.getElementById(\"4bfaee21-f998-4383-9a4f-9b3b0db912a1\")) {                    Plotly.newPlot(                        \"4bfaee21-f998-4383-9a4f-9b3b0db912a1\",                        [{\"line\": {\"color\": \"rgba(255, 153, 51, 1.0)\", \"dash\": \"solid\", \"shape\": \"linear\", \"width\": 1.3}, \"marker\": {\"size\": 10, \"symbol\": \"circle\"}, \"mode\": \"markers\", \"name\": \"B\", \"text\": \"\", \"type\": \"scatter\", \"x\": [0.4915889810451373, -0.502709032241364, -0.439660809274218, 1.566586675251845, -0.6212578026798677, 1.7776557644067656, 0.8661298023840379, 1.2706349857331831, 1.1829527406936695, 0.07381149895472465, 0.4303466828369726, -0.9575027737008519, 0.2448911967693874, 0.04189873427502208, 1.5647741213386723, 0.5650390866380348, -0.4822423308956621, 0.2877232264192255, 1.2382658662292958, -0.703889579568911, -1.567758920770038, -0.02647700663406622, 1.2742432983560472, 0.24568074637287884, 0.4093554625129669, -1.7037611549524168, 0.3028826118549479, -1.3329700018952149, -2.3191071798134724, -0.4715275828898805, 0.23336255517782983, -0.16015327795991532, -0.1009133565791417, -2.81926838345229, 1.3654859862689102, 0.4321785438498271, -0.8530812976871149, 2.205208780788037, -1.036426166029101, -0.6148016609313836, -0.7804903323450012, 0.31695605069133637, -0.36415029682631717, -0.11756535392984228, 0.5012484638145545, 0.14568939028348707, 0.2748279734808271, -0.6781935523155721, 0.2655237481306271, 0.284077559638565, -1.7740915834552073, -1.2707521382258211, 0.8654799498531212, 0.531975731840595, -1.008064431305186, -1.047052004852239, 0.15693951402710357, -0.061888674539695335, 1.1472568799088285, -1.8232049204956886, -0.5088215335086028, 0.8018888434820789, -1.193138125172003, 1.1508657000784246, 0.6197120558756081, -0.6717131229802509, -2.0860401916618696, -0.57342915056639, 0.5374995212581878, -0.5328685673770484, -0.23785068830163442, 0.45164324959069013, -0.01937340009535, 0.11477937112607209, -0.14076154255896042, -0.13988385748639753, -0.7696645921042117, -0.18421016746021568, -0.21423330761126352, -0.00734890959141541, 1.1328213530939724, -1.4287156552765827, -0.5516144642840903, -0.7931343423812411, 0.5006083393739946, -0.0045120609205573795, 0.05501801382379699, 0.9560982713007699, 1.179495400187467, -0.6439271361193529, -1.3620561504842512, 1.6783810359332907, 0.17790555885956716, -0.5337727464325431, 0.529490162805114, -0.7710447878576198, -0.21522348807762237, 0.2872358861077521, 0.7924763496804115, -0.16831977505258977], \"y\": [-1.3275926421452904, -0.936339741020361, -0.13647734868874586, -2.2240640578978677, 1.7394620755462407, -0.9836121549376742, 0.34626738417910974, 1.2047434241013317, 1.40716285017813, 1.607297362862324, 1.1471127354058306, -1.0290993380333546, 0.3382366893151083, 1.2171761981322033, -2.098208032554198, 0.6029330801302344, 0.7289001703024334, -0.9748621397718429, -1.1333611351564175, -0.6438327393385788, -0.05736388655202392, 0.8174149798334428, 0.38307197322024256, -0.33450585472427186, -0.3208347691514773, 1.1646184189868694, 0.5472252231873067, 0.18021263465929316, -1.4688972064557497, -0.007503782506332852, 0.3921883000604201, -1.3139502090164275, 1.048607779460764, 0.39367903297019263, -0.009051504564113558, -1.901214271538554, -0.5171755167242869, 0.9229573561035125, 0.21267983927716877, -0.4370929342827836, 0.2283932101125965, 1.2176223801186772, -1.2090570542595627, 2.5505564530909055, -0.6075715148722199, 0.19176390475104416, 0.769852942774043, 0.7882324532714438, -1.3143619973703013, 0.42644098330579333, -1.711462519248761, -0.16901255652128294, 0.0532722679248608, -1.4604290285910726, -0.36053699012217083, 0.5088195386777494, 0.25542311236157367, -0.11186811351887037, 0.5405878809143965, -0.04386982384945076, -0.16917336542894204, 0.6633191366843727, -0.4989147864827021, 0.1560136225260184, 0.05272802990970662, -1.850465429629844, 1.3834059410341466, -0.9218299190591187, -0.6063394567698026, -1.1886063318225617, 0.10019920073973819, -0.2595092728091105, 2.2190005527839, 0.7659999908718104, -0.560468590169831, -1.8182133054973348, -0.11258377212132896, 0.538066045580072, -0.4241680278188642, 1.1654127387433164, -1.1549015772976388, 0.69925676362351, -0.9108643560764622, -0.24661187787572553, -0.934632536808109, -0.2714279182553495, 0.16631843471957616, 0.31353363861918293, -0.9107335599140366, -0.25980191444427614, 0.4628327390827214, -1.0223280885294475, -0.11416392676936336, 0.0005269853392635756, 0.6425260963846305, 0.7306111095911784, -0.4308391283122783, 0.821522465586635, -0.7522745648552567, -1.299678462575494]}],                        {\"legend\": {\"bgcolor\": \"#F5F6F9\", \"font\": {\"color\": \"#4D5663\"}}, \"paper_bgcolor\": \"#F5F6F9\", \"plot_bgcolor\": \"#F5F6F9\", \"template\": {\"data\": {\"bar\": [{\"error_x\": {\"color\": \"#2a3f5f\"}, \"error_y\": {\"color\": \"#2a3f5f\"}, \"marker\": {\"line\": {\"color\": \"#E5ECF6\", \"width\": 0.5}}, \"type\": \"bar\"}], \"barpolar\": [{\"marker\": {\"line\": {\"color\": \"#E5ECF6\", \"width\": 0.5}}, \"type\": \"barpolar\"}], \"carpet\": [{\"aaxis\": {\"endlinecolor\": \"#2a3f5f\", \"gridcolor\": \"white\", \"linecolor\": \"white\", \"minorgridcolor\": \"white\", \"startlinecolor\": \"#2a3f5f\"}, \"baxis\": {\"endlinecolor\": \"#2a3f5f\", \"gridcolor\": \"white\", \"linecolor\": \"white\", \"minorgridcolor\": \"white\", \"startlinecolor\": \"#2a3f5f\"}, \"type\": \"carpet\"}], \"choropleth\": [{\"colorbar\": {\"outlinewidth\": 0, \"ticks\": \"\"}, \"type\": \"choropleth\"}], \"contour\": [{\"colorbar\": {\"outlinewidth\": 0, \"ticks\": \"\"}, \"colorscale\": [[0.0, \"#0d0887\"], [0.1111111111111111, \"#46039f\"], [0.2222222222222222, \"#7201a8\"], [0.3333333333333333, \"#9c179e\"], [0.4444444444444444, \"#bd3786\"], [0.5555555555555556, \"#d8576b\"], [0.6666666666666666, \"#ed7953\"], [0.7777777777777778, \"#fb9f3a\"], [0.8888888888888888, \"#fdca26\"], [1.0, \"#f0f921\"]], \"type\": \"contour\"}], \"contourcarpet\": [{\"colorbar\": {\"outlinewidth\": 0, \"ticks\": \"\"}, \"type\": \"contourcarpet\"}], \"heatmap\": [{\"colorbar\": {\"outlinewidth\": 0, \"ticks\": \"\"}, \"colorscale\": [[0.0, \"#0d0887\"], [0.1111111111111111, \"#46039f\"], [0.2222222222222222, \"#7201a8\"], [0.3333333333333333, \"#9c179e\"], [0.4444444444444444, \"#bd3786\"], [0.5555555555555556, \"#d8576b\"], [0.6666666666666666, \"#ed7953\"], [0.7777777777777778, \"#fb9f3a\"], [0.8888888888888888, \"#fdca26\"], [1.0, \"#f0f921\"]], \"type\": \"heatmap\"}], \"heatmapgl\": [{\"colorbar\": {\"outlinewidth\": 0, \"ticks\": \"\"}, \"colorscale\": [[0.0, \"#0d0887\"], [0.1111111111111111, \"#46039f\"], [0.2222222222222222, \"#7201a8\"], [0.3333333333333333, \"#9c179e\"], [0.4444444444444444, \"#bd3786\"], [0.5555555555555556, \"#d8576b\"], [0.6666666666666666, \"#ed7953\"], [0.7777777777777778, \"#fb9f3a\"], [0.8888888888888888, \"#fdca26\"], [1.0, \"#f0f921\"]], \"type\": \"heatmapgl\"}], \"histogram\": [{\"marker\": {\"colorbar\": {\"outlinewidth\": 0, \"ticks\": \"\"}}, \"type\": \"histogram\"}], \"histogram2d\": [{\"colorbar\": {\"outlinewidth\": 0, \"ticks\": \"\"}, \"colorscale\": [[0.0, \"#0d0887\"], [0.1111111111111111, \"#46039f\"], [0.2222222222222222, \"#7201a8\"], [0.3333333333333333, \"#9c179e\"], [0.4444444444444444, \"#bd3786\"], [0.5555555555555556, \"#d8576b\"], [0.6666666666666666, \"#ed7953\"], [0.7777777777777778, \"#fb9f3a\"], [0.8888888888888888, \"#fdca26\"], [1.0, \"#f0f921\"]], \"type\": \"histogram2d\"}], \"histogram2dcontour\": [{\"colorbar\": {\"outlinewidth\": 0, \"ticks\": \"\"}, \"colorscale\": [[0.0, \"#0d0887\"], [0.1111111111111111, \"#46039f\"], [0.2222222222222222, \"#7201a8\"], [0.3333333333333333, \"#9c179e\"], [0.4444444444444444, \"#bd3786\"], [0.5555555555555556, \"#d8576b\"], [0.6666666666666666, \"#ed7953\"], [0.7777777777777778, \"#fb9f3a\"], [0.8888888888888888, \"#fdca26\"], [1.0, \"#f0f921\"]], \"type\": \"histogram2dcontour\"}], \"mesh3d\": [{\"colorbar\": {\"outlinewidth\": 0, \"ticks\": \"\"}, \"type\": \"mesh3d\"}], \"parcoords\": [{\"line\": {\"colorbar\": {\"outlinewidth\": 0, \"ticks\": \"\"}}, \"type\": \"parcoords\"}], \"pie\": [{\"automargin\": true, \"type\": \"pie\"}], \"scatter\": [{\"marker\": {\"colorbar\": {\"outlinewidth\": 0, \"ticks\": \"\"}}, \"type\": \"scatter\"}], \"scatter3d\": [{\"line\": {\"colorbar\": {\"outlinewidth\": 0, \"ticks\": \"\"}}, \"marker\": {\"colorbar\": {\"outlinewidth\": 0, \"ticks\": \"\"}}, \"type\": \"scatter3d\"}], \"scattercarpet\": [{\"marker\": {\"colorbar\": {\"outlinewidth\": 0, \"ticks\": \"\"}}, \"type\": \"scattercarpet\"}], \"scattergeo\": [{\"marker\": {\"colorbar\": {\"outlinewidth\": 0, \"ticks\": \"\"}}, \"type\": \"scattergeo\"}], \"scattergl\": [{\"marker\": {\"colorbar\": {\"outlinewidth\": 0, \"ticks\": \"\"}}, \"type\": \"scattergl\"}], \"scattermapbox\": [{\"marker\": {\"colorbar\": {\"outlinewidth\": 0, \"ticks\": \"\"}}, \"type\": \"scattermapbox\"}], \"scatterpolar\": [{\"marker\": {\"colorbar\": {\"outlinewidth\": 0, \"ticks\": \"\"}}, \"type\": \"scatterpolar\"}], \"scatterpolargl\": [{\"marker\": {\"colorbar\": {\"outlinewidth\": 0, \"ticks\": \"\"}}, \"type\": \"scatterpolargl\"}], \"scatterternary\": [{\"marker\": {\"colorbar\": {\"outlinewidth\": 0, \"ticks\": \"\"}}, \"type\": \"scatterternary\"}], \"surface\": [{\"colorbar\": {\"outlinewidth\": 0, \"ticks\": \"\"}, \"colorscale\": [[0.0, \"#0d0887\"], [0.1111111111111111, \"#46039f\"], [0.2222222222222222, \"#7201a8\"], [0.3333333333333333, \"#9c179e\"], [0.4444444444444444, \"#bd3786\"], [0.5555555555555556, \"#d8576b\"], [0.6666666666666666, \"#ed7953\"], [0.7777777777777778, \"#fb9f3a\"], [0.8888888888888888, \"#fdca26\"], [1.0, \"#f0f921\"]], \"type\": \"surface\"}], \"table\": [{\"cells\": {\"fill\": {\"color\": \"#EBF0F8\"}, \"line\": {\"color\": \"white\"}}, \"header\": {\"fill\": {\"color\": \"#C8D4E3\"}, \"line\": {\"color\": \"white\"}}, \"type\": \"table\"}]}, \"layout\": {\"annotationdefaults\": {\"arrowcolor\": \"#2a3f5f\", \"arrowhead\": 0, \"arrowwidth\": 1}, \"autotypenumbers\": \"strict\", \"coloraxis\": {\"colorbar\": {\"outlinewidth\": 0, \"ticks\": \"\"}}, \"colorscale\": {\"diverging\": [[0, \"#8e0152\"], [0.1, \"#c51b7d\"], [0.2, \"#de77ae\"], [0.3, \"#f1b6da\"], [0.4, \"#fde0ef\"], [0.5, \"#f7f7f7\"], [0.6, \"#e6f5d0\"], [0.7, \"#b8e186\"], [0.8, \"#7fbc41\"], [0.9, \"#4d9221\"], [1, \"#276419\"]], \"sequential\": [[0.0, \"#0d0887\"], [0.1111111111111111, \"#46039f\"], [0.2222222222222222, \"#7201a8\"], [0.3333333333333333, \"#9c179e\"], [0.4444444444444444, \"#bd3786\"], [0.5555555555555556, \"#d8576b\"], [0.6666666666666666, \"#ed7953\"], [0.7777777777777778, \"#fb9f3a\"], [0.8888888888888888, \"#fdca26\"], [1.0, \"#f0f921\"]], \"sequentialminus\": [[0.0, \"#0d0887\"], [0.1111111111111111, \"#46039f\"], [0.2222222222222222, \"#7201a8\"], [0.3333333333333333, \"#9c179e\"], [0.4444444444444444, \"#bd3786\"], [0.5555555555555556, \"#d8576b\"], [0.6666666666666666, \"#ed7953\"], [0.7777777777777778, \"#fb9f3a\"], [0.8888888888888888, \"#fdca26\"], [1.0, \"#f0f921\"]]}, \"colorway\": [\"#636efa\", \"#EF553B\", \"#00cc96\", \"#ab63fa\", \"#FFA15A\", \"#19d3f3\", \"#FF6692\", \"#B6E880\", \"#FF97FF\", \"#FECB52\"], \"font\": {\"color\": \"#2a3f5f\"}, \"geo\": {\"bgcolor\": \"white\", \"lakecolor\": \"white\", \"landcolor\": \"#E5ECF6\", \"showlakes\": true, \"showland\": true, \"subunitcolor\": \"white\"}, \"hoverlabel\": {\"align\": \"left\"}, \"hovermode\": \"closest\", \"mapbox\": {\"style\": \"light\"}, \"paper_bgcolor\": \"white\", \"plot_bgcolor\": \"#E5ECF6\", \"polar\": {\"angularaxis\": {\"gridcolor\": \"white\", \"linecolor\": \"white\", \"ticks\": \"\"}, \"bgcolor\": \"#E5ECF6\", \"radialaxis\": {\"gridcolor\": \"white\", \"linecolor\": \"white\", \"ticks\": \"\"}}, \"scene\": {\"xaxis\": {\"backgroundcolor\": \"#E5ECF6\", \"gridcolor\": \"white\", \"gridwidth\": 2, \"linecolor\": \"white\", \"showbackground\": true, \"ticks\": \"\", \"zerolinecolor\": \"white\"}, \"yaxis\": {\"backgroundcolor\": \"#E5ECF6\", \"gridcolor\": \"white\", \"gridwidth\": 2, \"linecolor\": \"white\", \"showbackground\": true, \"ticks\": \"\", \"zerolinecolor\": \"white\"}, \"zaxis\": {\"backgroundcolor\": \"#E5ECF6\", \"gridcolor\": \"white\", \"gridwidth\": 2, \"linecolor\": \"white\", \"showbackground\": true, \"ticks\": \"\", \"zerolinecolor\": \"white\"}}, \"shapedefaults\": {\"line\": {\"color\": \"#2a3f5f\"}}, \"ternary\": {\"aaxis\": {\"gridcolor\": \"white\", \"linecolor\": \"white\", \"ticks\": \"\"}, \"baxis\": {\"gridcolor\": \"white\", \"linecolor\": \"white\", \"ticks\": \"\"}, \"bgcolor\": \"#E5ECF6\", \"caxis\": {\"gridcolor\": \"white\", \"linecolor\": \"white\", \"ticks\": \"\"}}, \"title\": {\"x\": 0.05}, \"xaxis\": {\"automargin\": true, \"gridcolor\": \"white\", \"linecolor\": \"white\", \"ticks\": \"\", \"title\": {\"standoff\": 15}, \"zerolinecolor\": \"white\", \"zerolinewidth\": 2}, \"yaxis\": {\"automargin\": true, \"gridcolor\": \"white\", \"linecolor\": \"white\", \"ticks\": \"\", \"title\": {\"standoff\": 15}, \"zerolinecolor\": \"white\", \"zerolinewidth\": 2}}}, \"title\": {\"font\": {\"color\": \"#4D5663\"}}, \"xaxis\": {\"gridcolor\": \"#E1E5ED\", \"showgrid\": true, \"tickfont\": {\"color\": \"#4D5663\"}, \"title\": {\"font\": {\"color\": \"#4D5663\"}, \"text\": \"\"}, \"zerolinecolor\": \"#E1E5ED\"}, \"yaxis\": {\"gridcolor\": \"#E1E5ED\", \"showgrid\": true, \"tickfont\": {\"color\": \"#4D5663\"}, \"title\": {\"font\": {\"color\": \"#4D5663\"}, \"text\": \"\"}, \"zerolinecolor\": \"#E1E5ED\"}},                        {\"showLink\": true, \"linkText\": \"Export to plot.ly\", \"plotlyServerURL\": \"https://plot.ly\", \"responsive\": true}                    ).then(function(){\n",
       "                            \n",
       "var gd = document.getElementById('4bfaee21-f998-4383-9a4f-9b3b0db912a1');\n",
       "var x = new MutationObserver(function (mutations, observer) {{\n",
       "        var display = window.getComputedStyle(gd).display;\n",
       "        if (!display || display === 'none') {{\n",
       "            console.log([gd, 'removed!']);\n",
       "            Plotly.purge(gd);\n",
       "            observer.disconnect();\n",
       "        }}\n",
       "}});\n",
       "\n",
       "// Listen for the removal of the full notebook cells\n",
       "var notebookContainer = gd.closest('#notebook-container');\n",
       "if (notebookContainer) {{\n",
       "    x.observe(notebookContainer, {childList: true});\n",
       "}}\n",
       "\n",
       "// Listen for the clearing of the current output cell\n",
       "var outputEl = gd.closest('.output');\n",
       "if (outputEl) {{\n",
       "    x.observe(outputEl, {childList: true});\n",
       "}}\n",
       "\n",
       "                        })                };                });            </script>        </div>"
      ]
     },
     "metadata": {},
     "output_type": "display_data"
    }
   ],
   "source": [
    "df.iplot(kind=\"scatter\", x=\"A\", y=\"B\", mode=\"markers\", size=10)"
   ]
  },
  {
   "cell_type": "markdown",
   "id": "992ec0df",
   "metadata": {},
   "source": [
    "### Bar Plots"
   ]
  },
  {
   "cell_type": "code",
   "execution_count": 42,
   "id": "07c830f7",
   "metadata": {},
   "outputs": [
    {
     "data": {
      "application/vnd.plotly.v1+json": {
       "config": {
        "linkText": "Export to plot.ly",
        "plotlyServerURL": "https://plot.ly",
        "showLink": true
       },
       "data": [
        {
         "marker": {
          "color": "rgba(255, 153, 51, 0.6)",
          "line": {
           "color": "rgba(255, 153, 51, 1.0)",
           "width": 1
          }
         },
         "name": "Values",
         "orientation": "v",
         "text": "",
         "type": "bar",
         "x": [
          "A",
          "B",
          "C"
         ],
         "y": [
          32,
          43,
          50
         ]
        }
       ],
       "layout": {
        "legend": {
         "bgcolor": "#F5F6F9",
         "font": {
          "color": "#4D5663"
         }
        },
        "paper_bgcolor": "#F5F6F9",
        "plot_bgcolor": "#F5F6F9",
        "template": {
         "data": {
          "bar": [
           {
            "error_x": {
             "color": "#2a3f5f"
            },
            "error_y": {
             "color": "#2a3f5f"
            },
            "marker": {
             "line": {
              "color": "#E5ECF6",
              "width": 0.5
             }
            },
            "type": "bar"
           }
          ],
          "barpolar": [
           {
            "marker": {
             "line": {
              "color": "#E5ECF6",
              "width": 0.5
             }
            },
            "type": "barpolar"
           }
          ],
          "carpet": [
           {
            "aaxis": {
             "endlinecolor": "#2a3f5f",
             "gridcolor": "white",
             "linecolor": "white",
             "minorgridcolor": "white",
             "startlinecolor": "#2a3f5f"
            },
            "baxis": {
             "endlinecolor": "#2a3f5f",
             "gridcolor": "white",
             "linecolor": "white",
             "minorgridcolor": "white",
             "startlinecolor": "#2a3f5f"
            },
            "type": "carpet"
           }
          ],
          "choropleth": [
           {
            "colorbar": {
             "outlinewidth": 0,
             "ticks": ""
            },
            "type": "choropleth"
           }
          ],
          "contour": [
           {
            "colorbar": {
             "outlinewidth": 0,
             "ticks": ""
            },
            "colorscale": [
             [
              0,
              "#0d0887"
             ],
             [
              0.1111111111111111,
              "#46039f"
             ],
             [
              0.2222222222222222,
              "#7201a8"
             ],
             [
              0.3333333333333333,
              "#9c179e"
             ],
             [
              0.4444444444444444,
              "#bd3786"
             ],
             [
              0.5555555555555556,
              "#d8576b"
             ],
             [
              0.6666666666666666,
              "#ed7953"
             ],
             [
              0.7777777777777778,
              "#fb9f3a"
             ],
             [
              0.8888888888888888,
              "#fdca26"
             ],
             [
              1,
              "#f0f921"
             ]
            ],
            "type": "contour"
           }
          ],
          "contourcarpet": [
           {
            "colorbar": {
             "outlinewidth": 0,
             "ticks": ""
            },
            "type": "contourcarpet"
           }
          ],
          "heatmap": [
           {
            "colorbar": {
             "outlinewidth": 0,
             "ticks": ""
            },
            "colorscale": [
             [
              0,
              "#0d0887"
             ],
             [
              0.1111111111111111,
              "#46039f"
             ],
             [
              0.2222222222222222,
              "#7201a8"
             ],
             [
              0.3333333333333333,
              "#9c179e"
             ],
             [
              0.4444444444444444,
              "#bd3786"
             ],
             [
              0.5555555555555556,
              "#d8576b"
             ],
             [
              0.6666666666666666,
              "#ed7953"
             ],
             [
              0.7777777777777778,
              "#fb9f3a"
             ],
             [
              0.8888888888888888,
              "#fdca26"
             ],
             [
              1,
              "#f0f921"
             ]
            ],
            "type": "heatmap"
           }
          ],
          "heatmapgl": [
           {
            "colorbar": {
             "outlinewidth": 0,
             "ticks": ""
            },
            "colorscale": [
             [
              0,
              "#0d0887"
             ],
             [
              0.1111111111111111,
              "#46039f"
             ],
             [
              0.2222222222222222,
              "#7201a8"
             ],
             [
              0.3333333333333333,
              "#9c179e"
             ],
             [
              0.4444444444444444,
              "#bd3786"
             ],
             [
              0.5555555555555556,
              "#d8576b"
             ],
             [
              0.6666666666666666,
              "#ed7953"
             ],
             [
              0.7777777777777778,
              "#fb9f3a"
             ],
             [
              0.8888888888888888,
              "#fdca26"
             ],
             [
              1,
              "#f0f921"
             ]
            ],
            "type": "heatmapgl"
           }
          ],
          "histogram": [
           {
            "marker": {
             "colorbar": {
              "outlinewidth": 0,
              "ticks": ""
             }
            },
            "type": "histogram"
           }
          ],
          "histogram2d": [
           {
            "colorbar": {
             "outlinewidth": 0,
             "ticks": ""
            },
            "colorscale": [
             [
              0,
              "#0d0887"
             ],
             [
              0.1111111111111111,
              "#46039f"
             ],
             [
              0.2222222222222222,
              "#7201a8"
             ],
             [
              0.3333333333333333,
              "#9c179e"
             ],
             [
              0.4444444444444444,
              "#bd3786"
             ],
             [
              0.5555555555555556,
              "#d8576b"
             ],
             [
              0.6666666666666666,
              "#ed7953"
             ],
             [
              0.7777777777777778,
              "#fb9f3a"
             ],
             [
              0.8888888888888888,
              "#fdca26"
             ],
             [
              1,
              "#f0f921"
             ]
            ],
            "type": "histogram2d"
           }
          ],
          "histogram2dcontour": [
           {
            "colorbar": {
             "outlinewidth": 0,
             "ticks": ""
            },
            "colorscale": [
             [
              0,
              "#0d0887"
             ],
             [
              0.1111111111111111,
              "#46039f"
             ],
             [
              0.2222222222222222,
              "#7201a8"
             ],
             [
              0.3333333333333333,
              "#9c179e"
             ],
             [
              0.4444444444444444,
              "#bd3786"
             ],
             [
              0.5555555555555556,
              "#d8576b"
             ],
             [
              0.6666666666666666,
              "#ed7953"
             ],
             [
              0.7777777777777778,
              "#fb9f3a"
             ],
             [
              0.8888888888888888,
              "#fdca26"
             ],
             [
              1,
              "#f0f921"
             ]
            ],
            "type": "histogram2dcontour"
           }
          ],
          "mesh3d": [
           {
            "colorbar": {
             "outlinewidth": 0,
             "ticks": ""
            },
            "type": "mesh3d"
           }
          ],
          "parcoords": [
           {
            "line": {
             "colorbar": {
              "outlinewidth": 0,
              "ticks": ""
             }
            },
            "type": "parcoords"
           }
          ],
          "pie": [
           {
            "automargin": true,
            "type": "pie"
           }
          ],
          "scatter": [
           {
            "marker": {
             "colorbar": {
              "outlinewidth": 0,
              "ticks": ""
             }
            },
            "type": "scatter"
           }
          ],
          "scatter3d": [
           {
            "line": {
             "colorbar": {
              "outlinewidth": 0,
              "ticks": ""
             }
            },
            "marker": {
             "colorbar": {
              "outlinewidth": 0,
              "ticks": ""
             }
            },
            "type": "scatter3d"
           }
          ],
          "scattercarpet": [
           {
            "marker": {
             "colorbar": {
              "outlinewidth": 0,
              "ticks": ""
             }
            },
            "type": "scattercarpet"
           }
          ],
          "scattergeo": [
           {
            "marker": {
             "colorbar": {
              "outlinewidth": 0,
              "ticks": ""
             }
            },
            "type": "scattergeo"
           }
          ],
          "scattergl": [
           {
            "marker": {
             "colorbar": {
              "outlinewidth": 0,
              "ticks": ""
             }
            },
            "type": "scattergl"
           }
          ],
          "scattermapbox": [
           {
            "marker": {
             "colorbar": {
              "outlinewidth": 0,
              "ticks": ""
             }
            },
            "type": "scattermapbox"
           }
          ],
          "scatterpolar": [
           {
            "marker": {
             "colorbar": {
              "outlinewidth": 0,
              "ticks": ""
             }
            },
            "type": "scatterpolar"
           }
          ],
          "scatterpolargl": [
           {
            "marker": {
             "colorbar": {
              "outlinewidth": 0,
              "ticks": ""
             }
            },
            "type": "scatterpolargl"
           }
          ],
          "scatterternary": [
           {
            "marker": {
             "colorbar": {
              "outlinewidth": 0,
              "ticks": ""
             }
            },
            "type": "scatterternary"
           }
          ],
          "surface": [
           {
            "colorbar": {
             "outlinewidth": 0,
             "ticks": ""
            },
            "colorscale": [
             [
              0,
              "#0d0887"
             ],
             [
              0.1111111111111111,
              "#46039f"
             ],
             [
              0.2222222222222222,
              "#7201a8"
             ],
             [
              0.3333333333333333,
              "#9c179e"
             ],
             [
              0.4444444444444444,
              "#bd3786"
             ],
             [
              0.5555555555555556,
              "#d8576b"
             ],
             [
              0.6666666666666666,
              "#ed7953"
             ],
             [
              0.7777777777777778,
              "#fb9f3a"
             ],
             [
              0.8888888888888888,
              "#fdca26"
             ],
             [
              1,
              "#f0f921"
             ]
            ],
            "type": "surface"
           }
          ],
          "table": [
           {
            "cells": {
             "fill": {
              "color": "#EBF0F8"
             },
             "line": {
              "color": "white"
             }
            },
            "header": {
             "fill": {
              "color": "#C8D4E3"
             },
             "line": {
              "color": "white"
             }
            },
            "type": "table"
           }
          ]
         },
         "layout": {
          "annotationdefaults": {
           "arrowcolor": "#2a3f5f",
           "arrowhead": 0,
           "arrowwidth": 1
          },
          "autotypenumbers": "strict",
          "coloraxis": {
           "colorbar": {
            "outlinewidth": 0,
            "ticks": ""
           }
          },
          "colorscale": {
           "diverging": [
            [
             0,
             "#8e0152"
            ],
            [
             0.1,
             "#c51b7d"
            ],
            [
             0.2,
             "#de77ae"
            ],
            [
             0.3,
             "#f1b6da"
            ],
            [
             0.4,
             "#fde0ef"
            ],
            [
             0.5,
             "#f7f7f7"
            ],
            [
             0.6,
             "#e6f5d0"
            ],
            [
             0.7,
             "#b8e186"
            ],
            [
             0.8,
             "#7fbc41"
            ],
            [
             0.9,
             "#4d9221"
            ],
            [
             1,
             "#276419"
            ]
           ],
           "sequential": [
            [
             0,
             "#0d0887"
            ],
            [
             0.1111111111111111,
             "#46039f"
            ],
            [
             0.2222222222222222,
             "#7201a8"
            ],
            [
             0.3333333333333333,
             "#9c179e"
            ],
            [
             0.4444444444444444,
             "#bd3786"
            ],
            [
             0.5555555555555556,
             "#d8576b"
            ],
            [
             0.6666666666666666,
             "#ed7953"
            ],
            [
             0.7777777777777778,
             "#fb9f3a"
            ],
            [
             0.8888888888888888,
             "#fdca26"
            ],
            [
             1,
             "#f0f921"
            ]
           ],
           "sequentialminus": [
            [
             0,
             "#0d0887"
            ],
            [
             0.1111111111111111,
             "#46039f"
            ],
            [
             0.2222222222222222,
             "#7201a8"
            ],
            [
             0.3333333333333333,
             "#9c179e"
            ],
            [
             0.4444444444444444,
             "#bd3786"
            ],
            [
             0.5555555555555556,
             "#d8576b"
            ],
            [
             0.6666666666666666,
             "#ed7953"
            ],
            [
             0.7777777777777778,
             "#fb9f3a"
            ],
            [
             0.8888888888888888,
             "#fdca26"
            ],
            [
             1,
             "#f0f921"
            ]
           ]
          },
          "colorway": [
           "#636efa",
           "#EF553B",
           "#00cc96",
           "#ab63fa",
           "#FFA15A",
           "#19d3f3",
           "#FF6692",
           "#B6E880",
           "#FF97FF",
           "#FECB52"
          ],
          "font": {
           "color": "#2a3f5f"
          },
          "geo": {
           "bgcolor": "white",
           "lakecolor": "white",
           "landcolor": "#E5ECF6",
           "showlakes": true,
           "showland": true,
           "subunitcolor": "white"
          },
          "hoverlabel": {
           "align": "left"
          },
          "hovermode": "closest",
          "mapbox": {
           "style": "light"
          },
          "paper_bgcolor": "white",
          "plot_bgcolor": "#E5ECF6",
          "polar": {
           "angularaxis": {
            "gridcolor": "white",
            "linecolor": "white",
            "ticks": ""
           },
           "bgcolor": "#E5ECF6",
           "radialaxis": {
            "gridcolor": "white",
            "linecolor": "white",
            "ticks": ""
           }
          },
          "scene": {
           "xaxis": {
            "backgroundcolor": "#E5ECF6",
            "gridcolor": "white",
            "gridwidth": 2,
            "linecolor": "white",
            "showbackground": true,
            "ticks": "",
            "zerolinecolor": "white"
           },
           "yaxis": {
            "backgroundcolor": "#E5ECF6",
            "gridcolor": "white",
            "gridwidth": 2,
            "linecolor": "white",
            "showbackground": true,
            "ticks": "",
            "zerolinecolor": "white"
           },
           "zaxis": {
            "backgroundcolor": "#E5ECF6",
            "gridcolor": "white",
            "gridwidth": 2,
            "linecolor": "white",
            "showbackground": true,
            "ticks": "",
            "zerolinecolor": "white"
           }
          },
          "shapedefaults": {
           "line": {
            "color": "#2a3f5f"
           }
          },
          "ternary": {
           "aaxis": {
            "gridcolor": "white",
            "linecolor": "white",
            "ticks": ""
           },
           "baxis": {
            "gridcolor": "white",
            "linecolor": "white",
            "ticks": ""
           },
           "bgcolor": "#E5ECF6",
           "caxis": {
            "gridcolor": "white",
            "linecolor": "white",
            "ticks": ""
           }
          },
          "title": {
           "x": 0.05
          },
          "xaxis": {
           "automargin": true,
           "gridcolor": "white",
           "linecolor": "white",
           "ticks": "",
           "title": {
            "standoff": 15
           },
           "zerolinecolor": "white",
           "zerolinewidth": 2
          },
          "yaxis": {
           "automargin": true,
           "gridcolor": "white",
           "linecolor": "white",
           "ticks": "",
           "title": {
            "standoff": 15
           },
           "zerolinecolor": "white",
           "zerolinewidth": 2
          }
         }
        },
        "title": {
         "font": {
          "color": "#4D5663"
         }
        },
        "xaxis": {
         "gridcolor": "#E1E5ED",
         "showgrid": true,
         "tickfont": {
          "color": "#4D5663"
         },
         "title": {
          "font": {
           "color": "#4D5663"
          },
          "text": ""
         },
         "zerolinecolor": "#E1E5ED"
        },
        "yaxis": {
         "gridcolor": "#E1E5ED",
         "showgrid": true,
         "tickfont": {
          "color": "#4D5663"
         },
         "title": {
          "font": {
           "color": "#4D5663"
          },
          "text": ""
         },
         "zerolinecolor": "#E1E5ED"
        }
       }
      },
      "text/html": [
       "<div>                            <div id=\"05ed4e1e-2981-4ab9-9840-eb065a303deb\" class=\"plotly-graph-div\" style=\"height:525px; width:100%;\"></div>            <script type=\"text/javascript\">                require([\"plotly\"], function(Plotly) {                    window.PLOTLYENV=window.PLOTLYENV || {};\n",
       "                    window.PLOTLYENV.BASE_URL='https://plot.ly';                                    if (document.getElementById(\"05ed4e1e-2981-4ab9-9840-eb065a303deb\")) {                    Plotly.newPlot(                        \"05ed4e1e-2981-4ab9-9840-eb065a303deb\",                        [{\"marker\": {\"color\": \"rgba(255, 153, 51, 0.6)\", \"line\": {\"color\": \"rgba(255, 153, 51, 1.0)\", \"width\": 1}}, \"name\": \"Values\", \"orientation\": \"v\", \"text\": \"\", \"type\": \"bar\", \"x\": [\"A\", \"B\", \"C\"], \"y\": [32, 43, 50]}],                        {\"legend\": {\"bgcolor\": \"#F5F6F9\", \"font\": {\"color\": \"#4D5663\"}}, \"paper_bgcolor\": \"#F5F6F9\", \"plot_bgcolor\": \"#F5F6F9\", \"template\": {\"data\": {\"bar\": [{\"error_x\": {\"color\": \"#2a3f5f\"}, \"error_y\": {\"color\": \"#2a3f5f\"}, \"marker\": {\"line\": {\"color\": \"#E5ECF6\", \"width\": 0.5}}, \"type\": \"bar\"}], \"barpolar\": [{\"marker\": {\"line\": {\"color\": \"#E5ECF6\", \"width\": 0.5}}, \"type\": \"barpolar\"}], \"carpet\": [{\"aaxis\": {\"endlinecolor\": \"#2a3f5f\", \"gridcolor\": \"white\", \"linecolor\": \"white\", \"minorgridcolor\": \"white\", \"startlinecolor\": \"#2a3f5f\"}, \"baxis\": {\"endlinecolor\": \"#2a3f5f\", \"gridcolor\": \"white\", \"linecolor\": \"white\", \"minorgridcolor\": \"white\", \"startlinecolor\": \"#2a3f5f\"}, \"type\": \"carpet\"}], \"choropleth\": [{\"colorbar\": {\"outlinewidth\": 0, \"ticks\": \"\"}, \"type\": \"choropleth\"}], \"contour\": [{\"colorbar\": {\"outlinewidth\": 0, \"ticks\": \"\"}, \"colorscale\": [[0.0, \"#0d0887\"], [0.1111111111111111, \"#46039f\"], [0.2222222222222222, \"#7201a8\"], [0.3333333333333333, \"#9c179e\"], [0.4444444444444444, \"#bd3786\"], [0.5555555555555556, \"#d8576b\"], [0.6666666666666666, \"#ed7953\"], [0.7777777777777778, \"#fb9f3a\"], [0.8888888888888888, \"#fdca26\"], [1.0, \"#f0f921\"]], \"type\": \"contour\"}], \"contourcarpet\": [{\"colorbar\": {\"outlinewidth\": 0, \"ticks\": \"\"}, \"type\": \"contourcarpet\"}], \"heatmap\": [{\"colorbar\": {\"outlinewidth\": 0, \"ticks\": \"\"}, \"colorscale\": [[0.0, \"#0d0887\"], [0.1111111111111111, \"#46039f\"], [0.2222222222222222, \"#7201a8\"], [0.3333333333333333, \"#9c179e\"], [0.4444444444444444, \"#bd3786\"], [0.5555555555555556, \"#d8576b\"], [0.6666666666666666, \"#ed7953\"], [0.7777777777777778, \"#fb9f3a\"], [0.8888888888888888, \"#fdca26\"], [1.0, \"#f0f921\"]], \"type\": \"heatmap\"}], \"heatmapgl\": [{\"colorbar\": {\"outlinewidth\": 0, \"ticks\": \"\"}, \"colorscale\": [[0.0, \"#0d0887\"], [0.1111111111111111, \"#46039f\"], [0.2222222222222222, \"#7201a8\"], [0.3333333333333333, \"#9c179e\"], [0.4444444444444444, \"#bd3786\"], [0.5555555555555556, \"#d8576b\"], [0.6666666666666666, \"#ed7953\"], [0.7777777777777778, \"#fb9f3a\"], [0.8888888888888888, \"#fdca26\"], [1.0, \"#f0f921\"]], \"type\": \"heatmapgl\"}], \"histogram\": [{\"marker\": {\"colorbar\": {\"outlinewidth\": 0, \"ticks\": \"\"}}, \"type\": \"histogram\"}], \"histogram2d\": [{\"colorbar\": {\"outlinewidth\": 0, \"ticks\": \"\"}, \"colorscale\": [[0.0, \"#0d0887\"], [0.1111111111111111, \"#46039f\"], [0.2222222222222222, \"#7201a8\"], [0.3333333333333333, \"#9c179e\"], [0.4444444444444444, \"#bd3786\"], [0.5555555555555556, \"#d8576b\"], [0.6666666666666666, \"#ed7953\"], [0.7777777777777778, \"#fb9f3a\"], [0.8888888888888888, \"#fdca26\"], [1.0, \"#f0f921\"]], \"type\": \"histogram2d\"}], \"histogram2dcontour\": [{\"colorbar\": {\"outlinewidth\": 0, \"ticks\": \"\"}, \"colorscale\": [[0.0, \"#0d0887\"], [0.1111111111111111, \"#46039f\"], [0.2222222222222222, \"#7201a8\"], [0.3333333333333333, \"#9c179e\"], [0.4444444444444444, \"#bd3786\"], [0.5555555555555556, \"#d8576b\"], [0.6666666666666666, \"#ed7953\"], [0.7777777777777778, \"#fb9f3a\"], [0.8888888888888888, \"#fdca26\"], [1.0, \"#f0f921\"]], \"type\": \"histogram2dcontour\"}], \"mesh3d\": [{\"colorbar\": {\"outlinewidth\": 0, \"ticks\": \"\"}, \"type\": \"mesh3d\"}], \"parcoords\": [{\"line\": {\"colorbar\": {\"outlinewidth\": 0, \"ticks\": \"\"}}, \"type\": \"parcoords\"}], \"pie\": [{\"automargin\": true, \"type\": \"pie\"}], \"scatter\": [{\"marker\": {\"colorbar\": {\"outlinewidth\": 0, \"ticks\": \"\"}}, \"type\": \"scatter\"}], \"scatter3d\": [{\"line\": {\"colorbar\": {\"outlinewidth\": 0, \"ticks\": \"\"}}, \"marker\": {\"colorbar\": {\"outlinewidth\": 0, \"ticks\": \"\"}}, \"type\": \"scatter3d\"}], \"scattercarpet\": [{\"marker\": {\"colorbar\": {\"outlinewidth\": 0, \"ticks\": \"\"}}, \"type\": \"scattercarpet\"}], \"scattergeo\": [{\"marker\": {\"colorbar\": {\"outlinewidth\": 0, \"ticks\": \"\"}}, \"type\": \"scattergeo\"}], \"scattergl\": [{\"marker\": {\"colorbar\": {\"outlinewidth\": 0, \"ticks\": \"\"}}, \"type\": \"scattergl\"}], \"scattermapbox\": [{\"marker\": {\"colorbar\": {\"outlinewidth\": 0, \"ticks\": \"\"}}, \"type\": \"scattermapbox\"}], \"scatterpolar\": [{\"marker\": {\"colorbar\": {\"outlinewidth\": 0, \"ticks\": \"\"}}, \"type\": \"scatterpolar\"}], \"scatterpolargl\": [{\"marker\": {\"colorbar\": {\"outlinewidth\": 0, \"ticks\": \"\"}}, \"type\": \"scatterpolargl\"}], \"scatterternary\": [{\"marker\": {\"colorbar\": {\"outlinewidth\": 0, \"ticks\": \"\"}}, \"type\": \"scatterternary\"}], \"surface\": [{\"colorbar\": {\"outlinewidth\": 0, \"ticks\": \"\"}, \"colorscale\": [[0.0, \"#0d0887\"], [0.1111111111111111, \"#46039f\"], [0.2222222222222222, \"#7201a8\"], [0.3333333333333333, \"#9c179e\"], [0.4444444444444444, \"#bd3786\"], [0.5555555555555556, \"#d8576b\"], [0.6666666666666666, \"#ed7953\"], [0.7777777777777778, \"#fb9f3a\"], [0.8888888888888888, \"#fdca26\"], [1.0, \"#f0f921\"]], \"type\": \"surface\"}], \"table\": [{\"cells\": {\"fill\": {\"color\": \"#EBF0F8\"}, \"line\": {\"color\": \"white\"}}, \"header\": {\"fill\": {\"color\": \"#C8D4E3\"}, \"line\": {\"color\": \"white\"}}, \"type\": \"table\"}]}, \"layout\": {\"annotationdefaults\": {\"arrowcolor\": \"#2a3f5f\", \"arrowhead\": 0, \"arrowwidth\": 1}, \"autotypenumbers\": \"strict\", \"coloraxis\": {\"colorbar\": {\"outlinewidth\": 0, \"ticks\": \"\"}}, \"colorscale\": {\"diverging\": [[0, \"#8e0152\"], [0.1, \"#c51b7d\"], [0.2, \"#de77ae\"], [0.3, \"#f1b6da\"], [0.4, \"#fde0ef\"], [0.5, \"#f7f7f7\"], [0.6, \"#e6f5d0\"], [0.7, \"#b8e186\"], [0.8, \"#7fbc41\"], [0.9, \"#4d9221\"], [1, \"#276419\"]], \"sequential\": [[0.0, \"#0d0887\"], [0.1111111111111111, \"#46039f\"], [0.2222222222222222, \"#7201a8\"], [0.3333333333333333, \"#9c179e\"], [0.4444444444444444, \"#bd3786\"], [0.5555555555555556, \"#d8576b\"], [0.6666666666666666, \"#ed7953\"], [0.7777777777777778, \"#fb9f3a\"], [0.8888888888888888, \"#fdca26\"], [1.0, \"#f0f921\"]], \"sequentialminus\": [[0.0, \"#0d0887\"], [0.1111111111111111, \"#46039f\"], [0.2222222222222222, \"#7201a8\"], [0.3333333333333333, \"#9c179e\"], [0.4444444444444444, \"#bd3786\"], [0.5555555555555556, \"#d8576b\"], [0.6666666666666666, \"#ed7953\"], [0.7777777777777778, \"#fb9f3a\"], [0.8888888888888888, \"#fdca26\"], [1.0, \"#f0f921\"]]}, \"colorway\": [\"#636efa\", \"#EF553B\", \"#00cc96\", \"#ab63fa\", \"#FFA15A\", \"#19d3f3\", \"#FF6692\", \"#B6E880\", \"#FF97FF\", \"#FECB52\"], \"font\": {\"color\": \"#2a3f5f\"}, \"geo\": {\"bgcolor\": \"white\", \"lakecolor\": \"white\", \"landcolor\": \"#E5ECF6\", \"showlakes\": true, \"showland\": true, \"subunitcolor\": \"white\"}, \"hoverlabel\": {\"align\": \"left\"}, \"hovermode\": \"closest\", \"mapbox\": {\"style\": \"light\"}, \"paper_bgcolor\": \"white\", \"plot_bgcolor\": \"#E5ECF6\", \"polar\": {\"angularaxis\": {\"gridcolor\": \"white\", \"linecolor\": \"white\", \"ticks\": \"\"}, \"bgcolor\": \"#E5ECF6\", \"radialaxis\": {\"gridcolor\": \"white\", \"linecolor\": \"white\", \"ticks\": \"\"}}, \"scene\": {\"xaxis\": {\"backgroundcolor\": \"#E5ECF6\", \"gridcolor\": \"white\", \"gridwidth\": 2, \"linecolor\": \"white\", \"showbackground\": true, \"ticks\": \"\", \"zerolinecolor\": \"white\"}, \"yaxis\": {\"backgroundcolor\": \"#E5ECF6\", \"gridcolor\": \"white\", \"gridwidth\": 2, \"linecolor\": \"white\", \"showbackground\": true, \"ticks\": \"\", \"zerolinecolor\": \"white\"}, \"zaxis\": {\"backgroundcolor\": \"#E5ECF6\", \"gridcolor\": \"white\", \"gridwidth\": 2, \"linecolor\": \"white\", \"showbackground\": true, \"ticks\": \"\", \"zerolinecolor\": \"white\"}}, \"shapedefaults\": {\"line\": {\"color\": \"#2a3f5f\"}}, \"ternary\": {\"aaxis\": {\"gridcolor\": \"white\", \"linecolor\": \"white\", \"ticks\": \"\"}, \"baxis\": {\"gridcolor\": \"white\", \"linecolor\": \"white\", \"ticks\": \"\"}, \"bgcolor\": \"#E5ECF6\", \"caxis\": {\"gridcolor\": \"white\", \"linecolor\": \"white\", \"ticks\": \"\"}}, \"title\": {\"x\": 0.05}, \"xaxis\": {\"automargin\": true, \"gridcolor\": \"white\", \"linecolor\": \"white\", \"ticks\": \"\", \"title\": {\"standoff\": 15}, \"zerolinecolor\": \"white\", \"zerolinewidth\": 2}, \"yaxis\": {\"automargin\": true, \"gridcolor\": \"white\", \"linecolor\": \"white\", \"ticks\": \"\", \"title\": {\"standoff\": 15}, \"zerolinecolor\": \"white\", \"zerolinewidth\": 2}}}, \"title\": {\"font\": {\"color\": \"#4D5663\"}}, \"xaxis\": {\"gridcolor\": \"#E1E5ED\", \"showgrid\": true, \"tickfont\": {\"color\": \"#4D5663\"}, \"title\": {\"font\": {\"color\": \"#4D5663\"}, \"text\": \"\"}, \"zerolinecolor\": \"#E1E5ED\"}, \"yaxis\": {\"gridcolor\": \"#E1E5ED\", \"showgrid\": true, \"tickfont\": {\"color\": \"#4D5663\"}, \"title\": {\"font\": {\"color\": \"#4D5663\"}, \"text\": \"\"}, \"zerolinecolor\": \"#E1E5ED\"}},                        {\"showLink\": true, \"linkText\": \"Export to plot.ly\", \"plotlyServerURL\": \"https://plot.ly\", \"responsive\": true}                    ).then(function(){\n",
       "                            \n",
       "var gd = document.getElementById('05ed4e1e-2981-4ab9-9840-eb065a303deb');\n",
       "var x = new MutationObserver(function (mutations, observer) {{\n",
       "        var display = window.getComputedStyle(gd).display;\n",
       "        if (!display || display === 'none') {{\n",
       "            console.log([gd, 'removed!']);\n",
       "            Plotly.purge(gd);\n",
       "            observer.disconnect();\n",
       "        }}\n",
       "}});\n",
       "\n",
       "// Listen for the removal of the full notebook cells\n",
       "var notebookContainer = gd.closest('#notebook-container');\n",
       "if (notebookContainer) {{\n",
       "    x.observe(notebookContainer, {childList: true});\n",
       "}}\n",
       "\n",
       "// Listen for the clearing of the current output cell\n",
       "var outputEl = gd.closest('.output');\n",
       "if (outputEl) {{\n",
       "    x.observe(outputEl, {childList: true});\n",
       "}}\n",
       "\n",
       "                        })                };                });            </script>        </div>"
      ]
     },
     "metadata": {},
     "output_type": "display_data"
    }
   ],
   "source": [
    "df2.iplot(kind=\"bar\", x=\"Category\", y=\"Values\")"
   ]
  },
  {
   "cell_type": "code",
   "execution_count": 43,
   "id": "a2c05620",
   "metadata": {},
   "outputs": [
    {
     "data": {
      "application/vnd.plotly.v1+json": {
       "config": {
        "linkText": "Export to plot.ly",
        "plotlyServerURL": "https://plot.ly",
        "showLink": true
       },
       "data": [
        {
         "marker": {
          "color": "rgba(255, 153, 51, 0.6)",
          "line": {
           "color": "rgba(255, 153, 51, 1.0)",
           "width": 1
          }
         },
         "name": "None",
         "orientation": "v",
         "text": "",
         "type": "bar",
         "x": [
          "A",
          "B",
          "C",
          "D"
         ],
         "y": [
          100,
          100,
          100,
          100
         ]
        }
       ],
       "layout": {
        "legend": {
         "bgcolor": "#F5F6F9",
         "font": {
          "color": "#4D5663"
         }
        },
        "paper_bgcolor": "#F5F6F9",
        "plot_bgcolor": "#F5F6F9",
        "template": {
         "data": {
          "bar": [
           {
            "error_x": {
             "color": "#2a3f5f"
            },
            "error_y": {
             "color": "#2a3f5f"
            },
            "marker": {
             "line": {
              "color": "#E5ECF6",
              "width": 0.5
             }
            },
            "type": "bar"
           }
          ],
          "barpolar": [
           {
            "marker": {
             "line": {
              "color": "#E5ECF6",
              "width": 0.5
             }
            },
            "type": "barpolar"
           }
          ],
          "carpet": [
           {
            "aaxis": {
             "endlinecolor": "#2a3f5f",
             "gridcolor": "white",
             "linecolor": "white",
             "minorgridcolor": "white",
             "startlinecolor": "#2a3f5f"
            },
            "baxis": {
             "endlinecolor": "#2a3f5f",
             "gridcolor": "white",
             "linecolor": "white",
             "minorgridcolor": "white",
             "startlinecolor": "#2a3f5f"
            },
            "type": "carpet"
           }
          ],
          "choropleth": [
           {
            "colorbar": {
             "outlinewidth": 0,
             "ticks": ""
            },
            "type": "choropleth"
           }
          ],
          "contour": [
           {
            "colorbar": {
             "outlinewidth": 0,
             "ticks": ""
            },
            "colorscale": [
             [
              0,
              "#0d0887"
             ],
             [
              0.1111111111111111,
              "#46039f"
             ],
             [
              0.2222222222222222,
              "#7201a8"
             ],
             [
              0.3333333333333333,
              "#9c179e"
             ],
             [
              0.4444444444444444,
              "#bd3786"
             ],
             [
              0.5555555555555556,
              "#d8576b"
             ],
             [
              0.6666666666666666,
              "#ed7953"
             ],
             [
              0.7777777777777778,
              "#fb9f3a"
             ],
             [
              0.8888888888888888,
              "#fdca26"
             ],
             [
              1,
              "#f0f921"
             ]
            ],
            "type": "contour"
           }
          ],
          "contourcarpet": [
           {
            "colorbar": {
             "outlinewidth": 0,
             "ticks": ""
            },
            "type": "contourcarpet"
           }
          ],
          "heatmap": [
           {
            "colorbar": {
             "outlinewidth": 0,
             "ticks": ""
            },
            "colorscale": [
             [
              0,
              "#0d0887"
             ],
             [
              0.1111111111111111,
              "#46039f"
             ],
             [
              0.2222222222222222,
              "#7201a8"
             ],
             [
              0.3333333333333333,
              "#9c179e"
             ],
             [
              0.4444444444444444,
              "#bd3786"
             ],
             [
              0.5555555555555556,
              "#d8576b"
             ],
             [
              0.6666666666666666,
              "#ed7953"
             ],
             [
              0.7777777777777778,
              "#fb9f3a"
             ],
             [
              0.8888888888888888,
              "#fdca26"
             ],
             [
              1,
              "#f0f921"
             ]
            ],
            "type": "heatmap"
           }
          ],
          "heatmapgl": [
           {
            "colorbar": {
             "outlinewidth": 0,
             "ticks": ""
            },
            "colorscale": [
             [
              0,
              "#0d0887"
             ],
             [
              0.1111111111111111,
              "#46039f"
             ],
             [
              0.2222222222222222,
              "#7201a8"
             ],
             [
              0.3333333333333333,
              "#9c179e"
             ],
             [
              0.4444444444444444,
              "#bd3786"
             ],
             [
              0.5555555555555556,
              "#d8576b"
             ],
             [
              0.6666666666666666,
              "#ed7953"
             ],
             [
              0.7777777777777778,
              "#fb9f3a"
             ],
             [
              0.8888888888888888,
              "#fdca26"
             ],
             [
              1,
              "#f0f921"
             ]
            ],
            "type": "heatmapgl"
           }
          ],
          "histogram": [
           {
            "marker": {
             "colorbar": {
              "outlinewidth": 0,
              "ticks": ""
             }
            },
            "type": "histogram"
           }
          ],
          "histogram2d": [
           {
            "colorbar": {
             "outlinewidth": 0,
             "ticks": ""
            },
            "colorscale": [
             [
              0,
              "#0d0887"
             ],
             [
              0.1111111111111111,
              "#46039f"
             ],
             [
              0.2222222222222222,
              "#7201a8"
             ],
             [
              0.3333333333333333,
              "#9c179e"
             ],
             [
              0.4444444444444444,
              "#bd3786"
             ],
             [
              0.5555555555555556,
              "#d8576b"
             ],
             [
              0.6666666666666666,
              "#ed7953"
             ],
             [
              0.7777777777777778,
              "#fb9f3a"
             ],
             [
              0.8888888888888888,
              "#fdca26"
             ],
             [
              1,
              "#f0f921"
             ]
            ],
            "type": "histogram2d"
           }
          ],
          "histogram2dcontour": [
           {
            "colorbar": {
             "outlinewidth": 0,
             "ticks": ""
            },
            "colorscale": [
             [
              0,
              "#0d0887"
             ],
             [
              0.1111111111111111,
              "#46039f"
             ],
             [
              0.2222222222222222,
              "#7201a8"
             ],
             [
              0.3333333333333333,
              "#9c179e"
             ],
             [
              0.4444444444444444,
              "#bd3786"
             ],
             [
              0.5555555555555556,
              "#d8576b"
             ],
             [
              0.6666666666666666,
              "#ed7953"
             ],
             [
              0.7777777777777778,
              "#fb9f3a"
             ],
             [
              0.8888888888888888,
              "#fdca26"
             ],
             [
              1,
              "#f0f921"
             ]
            ],
            "type": "histogram2dcontour"
           }
          ],
          "mesh3d": [
           {
            "colorbar": {
             "outlinewidth": 0,
             "ticks": ""
            },
            "type": "mesh3d"
           }
          ],
          "parcoords": [
           {
            "line": {
             "colorbar": {
              "outlinewidth": 0,
              "ticks": ""
             }
            },
            "type": "parcoords"
           }
          ],
          "pie": [
           {
            "automargin": true,
            "type": "pie"
           }
          ],
          "scatter": [
           {
            "marker": {
             "colorbar": {
              "outlinewidth": 0,
              "ticks": ""
             }
            },
            "type": "scatter"
           }
          ],
          "scatter3d": [
           {
            "line": {
             "colorbar": {
              "outlinewidth": 0,
              "ticks": ""
             }
            },
            "marker": {
             "colorbar": {
              "outlinewidth": 0,
              "ticks": ""
             }
            },
            "type": "scatter3d"
           }
          ],
          "scattercarpet": [
           {
            "marker": {
             "colorbar": {
              "outlinewidth": 0,
              "ticks": ""
             }
            },
            "type": "scattercarpet"
           }
          ],
          "scattergeo": [
           {
            "marker": {
             "colorbar": {
              "outlinewidth": 0,
              "ticks": ""
             }
            },
            "type": "scattergeo"
           }
          ],
          "scattergl": [
           {
            "marker": {
             "colorbar": {
              "outlinewidth": 0,
              "ticks": ""
             }
            },
            "type": "scattergl"
           }
          ],
          "scattermapbox": [
           {
            "marker": {
             "colorbar": {
              "outlinewidth": 0,
              "ticks": ""
             }
            },
            "type": "scattermapbox"
           }
          ],
          "scatterpolar": [
           {
            "marker": {
             "colorbar": {
              "outlinewidth": 0,
              "ticks": ""
             }
            },
            "type": "scatterpolar"
           }
          ],
          "scatterpolargl": [
           {
            "marker": {
             "colorbar": {
              "outlinewidth": 0,
              "ticks": ""
             }
            },
            "type": "scatterpolargl"
           }
          ],
          "scatterternary": [
           {
            "marker": {
             "colorbar": {
              "outlinewidth": 0,
              "ticks": ""
             }
            },
            "type": "scatterternary"
           }
          ],
          "surface": [
           {
            "colorbar": {
             "outlinewidth": 0,
             "ticks": ""
            },
            "colorscale": [
             [
              0,
              "#0d0887"
             ],
             [
              0.1111111111111111,
              "#46039f"
             ],
             [
              0.2222222222222222,
              "#7201a8"
             ],
             [
              0.3333333333333333,
              "#9c179e"
             ],
             [
              0.4444444444444444,
              "#bd3786"
             ],
             [
              0.5555555555555556,
              "#d8576b"
             ],
             [
              0.6666666666666666,
              "#ed7953"
             ],
             [
              0.7777777777777778,
              "#fb9f3a"
             ],
             [
              0.8888888888888888,
              "#fdca26"
             ],
             [
              1,
              "#f0f921"
             ]
            ],
            "type": "surface"
           }
          ],
          "table": [
           {
            "cells": {
             "fill": {
              "color": "#EBF0F8"
             },
             "line": {
              "color": "white"
             }
            },
            "header": {
             "fill": {
              "color": "#C8D4E3"
             },
             "line": {
              "color": "white"
             }
            },
            "type": "table"
           }
          ]
         },
         "layout": {
          "annotationdefaults": {
           "arrowcolor": "#2a3f5f",
           "arrowhead": 0,
           "arrowwidth": 1
          },
          "autotypenumbers": "strict",
          "coloraxis": {
           "colorbar": {
            "outlinewidth": 0,
            "ticks": ""
           }
          },
          "colorscale": {
           "diverging": [
            [
             0,
             "#8e0152"
            ],
            [
             0.1,
             "#c51b7d"
            ],
            [
             0.2,
             "#de77ae"
            ],
            [
             0.3,
             "#f1b6da"
            ],
            [
             0.4,
             "#fde0ef"
            ],
            [
             0.5,
             "#f7f7f7"
            ],
            [
             0.6,
             "#e6f5d0"
            ],
            [
             0.7,
             "#b8e186"
            ],
            [
             0.8,
             "#7fbc41"
            ],
            [
             0.9,
             "#4d9221"
            ],
            [
             1,
             "#276419"
            ]
           ],
           "sequential": [
            [
             0,
             "#0d0887"
            ],
            [
             0.1111111111111111,
             "#46039f"
            ],
            [
             0.2222222222222222,
             "#7201a8"
            ],
            [
             0.3333333333333333,
             "#9c179e"
            ],
            [
             0.4444444444444444,
             "#bd3786"
            ],
            [
             0.5555555555555556,
             "#d8576b"
            ],
            [
             0.6666666666666666,
             "#ed7953"
            ],
            [
             0.7777777777777778,
             "#fb9f3a"
            ],
            [
             0.8888888888888888,
             "#fdca26"
            ],
            [
             1,
             "#f0f921"
            ]
           ],
           "sequentialminus": [
            [
             0,
             "#0d0887"
            ],
            [
             0.1111111111111111,
             "#46039f"
            ],
            [
             0.2222222222222222,
             "#7201a8"
            ],
            [
             0.3333333333333333,
             "#9c179e"
            ],
            [
             0.4444444444444444,
             "#bd3786"
            ],
            [
             0.5555555555555556,
             "#d8576b"
            ],
            [
             0.6666666666666666,
             "#ed7953"
            ],
            [
             0.7777777777777778,
             "#fb9f3a"
            ],
            [
             0.8888888888888888,
             "#fdca26"
            ],
            [
             1,
             "#f0f921"
            ]
           ]
          },
          "colorway": [
           "#636efa",
           "#EF553B",
           "#00cc96",
           "#ab63fa",
           "#FFA15A",
           "#19d3f3",
           "#FF6692",
           "#B6E880",
           "#FF97FF",
           "#FECB52"
          ],
          "font": {
           "color": "#2a3f5f"
          },
          "geo": {
           "bgcolor": "white",
           "lakecolor": "white",
           "landcolor": "#E5ECF6",
           "showlakes": true,
           "showland": true,
           "subunitcolor": "white"
          },
          "hoverlabel": {
           "align": "left"
          },
          "hovermode": "closest",
          "mapbox": {
           "style": "light"
          },
          "paper_bgcolor": "white",
          "plot_bgcolor": "#E5ECF6",
          "polar": {
           "angularaxis": {
            "gridcolor": "white",
            "linecolor": "white",
            "ticks": ""
           },
           "bgcolor": "#E5ECF6",
           "radialaxis": {
            "gridcolor": "white",
            "linecolor": "white",
            "ticks": ""
           }
          },
          "scene": {
           "xaxis": {
            "backgroundcolor": "#E5ECF6",
            "gridcolor": "white",
            "gridwidth": 2,
            "linecolor": "white",
            "showbackground": true,
            "ticks": "",
            "zerolinecolor": "white"
           },
           "yaxis": {
            "backgroundcolor": "#E5ECF6",
            "gridcolor": "white",
            "gridwidth": 2,
            "linecolor": "white",
            "showbackground": true,
            "ticks": "",
            "zerolinecolor": "white"
           },
           "zaxis": {
            "backgroundcolor": "#E5ECF6",
            "gridcolor": "white",
            "gridwidth": 2,
            "linecolor": "white",
            "showbackground": true,
            "ticks": "",
            "zerolinecolor": "white"
           }
          },
          "shapedefaults": {
           "line": {
            "color": "#2a3f5f"
           }
          },
          "ternary": {
           "aaxis": {
            "gridcolor": "white",
            "linecolor": "white",
            "ticks": ""
           },
           "baxis": {
            "gridcolor": "white",
            "linecolor": "white",
            "ticks": ""
           },
           "bgcolor": "#E5ECF6",
           "caxis": {
            "gridcolor": "white",
            "linecolor": "white",
            "ticks": ""
           }
          },
          "title": {
           "x": 0.05
          },
          "xaxis": {
           "automargin": true,
           "gridcolor": "white",
           "linecolor": "white",
           "ticks": "",
           "title": {
            "standoff": 15
           },
           "zerolinecolor": "white",
           "zerolinewidth": 2
          },
          "yaxis": {
           "automargin": true,
           "gridcolor": "white",
           "linecolor": "white",
           "ticks": "",
           "title": {
            "standoff": 15
           },
           "zerolinecolor": "white",
           "zerolinewidth": 2
          }
         }
        },
        "title": {
         "font": {
          "color": "#4D5663"
         }
        },
        "xaxis": {
         "gridcolor": "#E1E5ED",
         "showgrid": true,
         "tickfont": {
          "color": "#4D5663"
         },
         "title": {
          "font": {
           "color": "#4D5663"
          },
          "text": ""
         },
         "zerolinecolor": "#E1E5ED"
        },
        "yaxis": {
         "gridcolor": "#E1E5ED",
         "showgrid": true,
         "tickfont": {
          "color": "#4D5663"
         },
         "title": {
          "font": {
           "color": "#4D5663"
          },
          "text": ""
         },
         "zerolinecolor": "#E1E5ED"
        }
       }
      },
      "text/html": [
       "<div>                            <div id=\"09eebbe0-e4f5-4ebf-aea0-82c0a836e8cc\" class=\"plotly-graph-div\" style=\"height:525px; width:100%;\"></div>            <script type=\"text/javascript\">                require([\"plotly\"], function(Plotly) {                    window.PLOTLYENV=window.PLOTLYENV || {};\n",
       "                    window.PLOTLYENV.BASE_URL='https://plot.ly';                                    if (document.getElementById(\"09eebbe0-e4f5-4ebf-aea0-82c0a836e8cc\")) {                    Plotly.newPlot(                        \"09eebbe0-e4f5-4ebf-aea0-82c0a836e8cc\",                        [{\"marker\": {\"color\": \"rgba(255, 153, 51, 0.6)\", \"line\": {\"color\": \"rgba(255, 153, 51, 1.0)\", \"width\": 1}}, \"name\": \"None\", \"orientation\": \"v\", \"text\": \"\", \"type\": \"bar\", \"x\": [\"A\", \"B\", \"C\", \"D\"], \"y\": [100, 100, 100, 100]}],                        {\"legend\": {\"bgcolor\": \"#F5F6F9\", \"font\": {\"color\": \"#4D5663\"}}, \"paper_bgcolor\": \"#F5F6F9\", \"plot_bgcolor\": \"#F5F6F9\", \"template\": {\"data\": {\"bar\": [{\"error_x\": {\"color\": \"#2a3f5f\"}, \"error_y\": {\"color\": \"#2a3f5f\"}, \"marker\": {\"line\": {\"color\": \"#E5ECF6\", \"width\": 0.5}}, \"type\": \"bar\"}], \"barpolar\": [{\"marker\": {\"line\": {\"color\": \"#E5ECF6\", \"width\": 0.5}}, \"type\": \"barpolar\"}], \"carpet\": [{\"aaxis\": {\"endlinecolor\": \"#2a3f5f\", \"gridcolor\": \"white\", \"linecolor\": \"white\", \"minorgridcolor\": \"white\", \"startlinecolor\": \"#2a3f5f\"}, \"baxis\": {\"endlinecolor\": \"#2a3f5f\", \"gridcolor\": \"white\", \"linecolor\": \"white\", \"minorgridcolor\": \"white\", \"startlinecolor\": \"#2a3f5f\"}, \"type\": \"carpet\"}], \"choropleth\": [{\"colorbar\": {\"outlinewidth\": 0, \"ticks\": \"\"}, \"type\": \"choropleth\"}], \"contour\": [{\"colorbar\": {\"outlinewidth\": 0, \"ticks\": \"\"}, \"colorscale\": [[0.0, \"#0d0887\"], [0.1111111111111111, \"#46039f\"], [0.2222222222222222, \"#7201a8\"], [0.3333333333333333, \"#9c179e\"], [0.4444444444444444, \"#bd3786\"], [0.5555555555555556, \"#d8576b\"], [0.6666666666666666, \"#ed7953\"], [0.7777777777777778, \"#fb9f3a\"], [0.8888888888888888, \"#fdca26\"], [1.0, \"#f0f921\"]], \"type\": \"contour\"}], \"contourcarpet\": [{\"colorbar\": {\"outlinewidth\": 0, \"ticks\": \"\"}, \"type\": \"contourcarpet\"}], \"heatmap\": [{\"colorbar\": {\"outlinewidth\": 0, \"ticks\": \"\"}, \"colorscale\": [[0.0, \"#0d0887\"], [0.1111111111111111, \"#46039f\"], [0.2222222222222222, \"#7201a8\"], [0.3333333333333333, \"#9c179e\"], [0.4444444444444444, \"#bd3786\"], [0.5555555555555556, \"#d8576b\"], [0.6666666666666666, \"#ed7953\"], [0.7777777777777778, \"#fb9f3a\"], [0.8888888888888888, \"#fdca26\"], [1.0, \"#f0f921\"]], \"type\": \"heatmap\"}], \"heatmapgl\": [{\"colorbar\": {\"outlinewidth\": 0, \"ticks\": \"\"}, \"colorscale\": [[0.0, \"#0d0887\"], [0.1111111111111111, \"#46039f\"], [0.2222222222222222, \"#7201a8\"], [0.3333333333333333, \"#9c179e\"], [0.4444444444444444, \"#bd3786\"], [0.5555555555555556, \"#d8576b\"], [0.6666666666666666, \"#ed7953\"], [0.7777777777777778, \"#fb9f3a\"], [0.8888888888888888, \"#fdca26\"], [1.0, \"#f0f921\"]], \"type\": \"heatmapgl\"}], \"histogram\": [{\"marker\": {\"colorbar\": {\"outlinewidth\": 0, \"ticks\": \"\"}}, \"type\": \"histogram\"}], \"histogram2d\": [{\"colorbar\": {\"outlinewidth\": 0, \"ticks\": \"\"}, \"colorscale\": [[0.0, \"#0d0887\"], [0.1111111111111111, \"#46039f\"], [0.2222222222222222, \"#7201a8\"], [0.3333333333333333, \"#9c179e\"], [0.4444444444444444, \"#bd3786\"], [0.5555555555555556, \"#d8576b\"], [0.6666666666666666, \"#ed7953\"], [0.7777777777777778, \"#fb9f3a\"], [0.8888888888888888, \"#fdca26\"], [1.0, \"#f0f921\"]], \"type\": \"histogram2d\"}], \"histogram2dcontour\": [{\"colorbar\": {\"outlinewidth\": 0, \"ticks\": \"\"}, \"colorscale\": [[0.0, \"#0d0887\"], [0.1111111111111111, \"#46039f\"], [0.2222222222222222, \"#7201a8\"], [0.3333333333333333, \"#9c179e\"], [0.4444444444444444, \"#bd3786\"], [0.5555555555555556, \"#d8576b\"], [0.6666666666666666, \"#ed7953\"], [0.7777777777777778, \"#fb9f3a\"], [0.8888888888888888, \"#fdca26\"], [1.0, \"#f0f921\"]], \"type\": \"histogram2dcontour\"}], \"mesh3d\": [{\"colorbar\": {\"outlinewidth\": 0, \"ticks\": \"\"}, \"type\": \"mesh3d\"}], \"parcoords\": [{\"line\": {\"colorbar\": {\"outlinewidth\": 0, \"ticks\": \"\"}}, \"type\": \"parcoords\"}], \"pie\": [{\"automargin\": true, \"type\": \"pie\"}], \"scatter\": [{\"marker\": {\"colorbar\": {\"outlinewidth\": 0, \"ticks\": \"\"}}, \"type\": \"scatter\"}], \"scatter3d\": [{\"line\": {\"colorbar\": {\"outlinewidth\": 0, \"ticks\": \"\"}}, \"marker\": {\"colorbar\": {\"outlinewidth\": 0, \"ticks\": \"\"}}, \"type\": \"scatter3d\"}], \"scattercarpet\": [{\"marker\": {\"colorbar\": {\"outlinewidth\": 0, \"ticks\": \"\"}}, \"type\": \"scattercarpet\"}], \"scattergeo\": [{\"marker\": {\"colorbar\": {\"outlinewidth\": 0, \"ticks\": \"\"}}, \"type\": \"scattergeo\"}], \"scattergl\": [{\"marker\": {\"colorbar\": {\"outlinewidth\": 0, \"ticks\": \"\"}}, \"type\": \"scattergl\"}], \"scattermapbox\": [{\"marker\": {\"colorbar\": {\"outlinewidth\": 0, \"ticks\": \"\"}}, \"type\": \"scattermapbox\"}], \"scatterpolar\": [{\"marker\": {\"colorbar\": {\"outlinewidth\": 0, \"ticks\": \"\"}}, \"type\": \"scatterpolar\"}], \"scatterpolargl\": [{\"marker\": {\"colorbar\": {\"outlinewidth\": 0, \"ticks\": \"\"}}, \"type\": \"scatterpolargl\"}], \"scatterternary\": [{\"marker\": {\"colorbar\": {\"outlinewidth\": 0, \"ticks\": \"\"}}, \"type\": \"scatterternary\"}], \"surface\": [{\"colorbar\": {\"outlinewidth\": 0, \"ticks\": \"\"}, \"colorscale\": [[0.0, \"#0d0887\"], [0.1111111111111111, \"#46039f\"], [0.2222222222222222, \"#7201a8\"], [0.3333333333333333, \"#9c179e\"], [0.4444444444444444, \"#bd3786\"], [0.5555555555555556, \"#d8576b\"], [0.6666666666666666, \"#ed7953\"], [0.7777777777777778, \"#fb9f3a\"], [0.8888888888888888, \"#fdca26\"], [1.0, \"#f0f921\"]], \"type\": \"surface\"}], \"table\": [{\"cells\": {\"fill\": {\"color\": \"#EBF0F8\"}, \"line\": {\"color\": \"white\"}}, \"header\": {\"fill\": {\"color\": \"#C8D4E3\"}, \"line\": {\"color\": \"white\"}}, \"type\": \"table\"}]}, \"layout\": {\"annotationdefaults\": {\"arrowcolor\": \"#2a3f5f\", \"arrowhead\": 0, \"arrowwidth\": 1}, \"autotypenumbers\": \"strict\", \"coloraxis\": {\"colorbar\": {\"outlinewidth\": 0, \"ticks\": \"\"}}, \"colorscale\": {\"diverging\": [[0, \"#8e0152\"], [0.1, \"#c51b7d\"], [0.2, \"#de77ae\"], [0.3, \"#f1b6da\"], [0.4, \"#fde0ef\"], [0.5, \"#f7f7f7\"], [0.6, \"#e6f5d0\"], [0.7, \"#b8e186\"], [0.8, \"#7fbc41\"], [0.9, \"#4d9221\"], [1, \"#276419\"]], \"sequential\": [[0.0, \"#0d0887\"], [0.1111111111111111, \"#46039f\"], [0.2222222222222222, \"#7201a8\"], [0.3333333333333333, \"#9c179e\"], [0.4444444444444444, \"#bd3786\"], [0.5555555555555556, \"#d8576b\"], [0.6666666666666666, \"#ed7953\"], [0.7777777777777778, \"#fb9f3a\"], [0.8888888888888888, \"#fdca26\"], [1.0, \"#f0f921\"]], \"sequentialminus\": [[0.0, \"#0d0887\"], [0.1111111111111111, \"#46039f\"], [0.2222222222222222, \"#7201a8\"], [0.3333333333333333, \"#9c179e\"], [0.4444444444444444, \"#bd3786\"], [0.5555555555555556, \"#d8576b\"], [0.6666666666666666, \"#ed7953\"], [0.7777777777777778, \"#fb9f3a\"], [0.8888888888888888, \"#fdca26\"], [1.0, \"#f0f921\"]]}, \"colorway\": [\"#636efa\", \"#EF553B\", \"#00cc96\", \"#ab63fa\", \"#FFA15A\", \"#19d3f3\", \"#FF6692\", \"#B6E880\", \"#FF97FF\", \"#FECB52\"], \"font\": {\"color\": \"#2a3f5f\"}, \"geo\": {\"bgcolor\": \"white\", \"lakecolor\": \"white\", \"landcolor\": \"#E5ECF6\", \"showlakes\": true, \"showland\": true, \"subunitcolor\": \"white\"}, \"hoverlabel\": {\"align\": \"left\"}, \"hovermode\": \"closest\", \"mapbox\": {\"style\": \"light\"}, \"paper_bgcolor\": \"white\", \"plot_bgcolor\": \"#E5ECF6\", \"polar\": {\"angularaxis\": {\"gridcolor\": \"white\", \"linecolor\": \"white\", \"ticks\": \"\"}, \"bgcolor\": \"#E5ECF6\", \"radialaxis\": {\"gridcolor\": \"white\", \"linecolor\": \"white\", \"ticks\": \"\"}}, \"scene\": {\"xaxis\": {\"backgroundcolor\": \"#E5ECF6\", \"gridcolor\": \"white\", \"gridwidth\": 2, \"linecolor\": \"white\", \"showbackground\": true, \"ticks\": \"\", \"zerolinecolor\": \"white\"}, \"yaxis\": {\"backgroundcolor\": \"#E5ECF6\", \"gridcolor\": \"white\", \"gridwidth\": 2, \"linecolor\": \"white\", \"showbackground\": true, \"ticks\": \"\", \"zerolinecolor\": \"white\"}, \"zaxis\": {\"backgroundcolor\": \"#E5ECF6\", \"gridcolor\": \"white\", \"gridwidth\": 2, \"linecolor\": \"white\", \"showbackground\": true, \"ticks\": \"\", \"zerolinecolor\": \"white\"}}, \"shapedefaults\": {\"line\": {\"color\": \"#2a3f5f\"}}, \"ternary\": {\"aaxis\": {\"gridcolor\": \"white\", \"linecolor\": \"white\", \"ticks\": \"\"}, \"baxis\": {\"gridcolor\": \"white\", \"linecolor\": \"white\", \"ticks\": \"\"}, \"bgcolor\": \"#E5ECF6\", \"caxis\": {\"gridcolor\": \"white\", \"linecolor\": \"white\", \"ticks\": \"\"}}, \"title\": {\"x\": 0.05}, \"xaxis\": {\"automargin\": true, \"gridcolor\": \"white\", \"linecolor\": \"white\", \"ticks\": \"\", \"title\": {\"standoff\": 15}, \"zerolinecolor\": \"white\", \"zerolinewidth\": 2}, \"yaxis\": {\"automargin\": true, \"gridcolor\": \"white\", \"linecolor\": \"white\", \"ticks\": \"\", \"title\": {\"standoff\": 15}, \"zerolinecolor\": \"white\", \"zerolinewidth\": 2}}}, \"title\": {\"font\": {\"color\": \"#4D5663\"}}, \"xaxis\": {\"gridcolor\": \"#E1E5ED\", \"showgrid\": true, \"tickfont\": {\"color\": \"#4D5663\"}, \"title\": {\"font\": {\"color\": \"#4D5663\"}, \"text\": \"\"}, \"zerolinecolor\": \"#E1E5ED\"}, \"yaxis\": {\"gridcolor\": \"#E1E5ED\", \"showgrid\": true, \"tickfont\": {\"color\": \"#4D5663\"}, \"title\": {\"font\": {\"color\": \"#4D5663\"}, \"text\": \"\"}, \"zerolinecolor\": \"#E1E5ED\"}},                        {\"showLink\": true, \"linkText\": \"Export to plot.ly\", \"plotlyServerURL\": \"https://plot.ly\", \"responsive\": true}                    ).then(function(){\n",
       "                            \n",
       "var gd = document.getElementById('09eebbe0-e4f5-4ebf-aea0-82c0a836e8cc');\n",
       "var x = new MutationObserver(function (mutations, observer) {{\n",
       "        var display = window.getComputedStyle(gd).display;\n",
       "        if (!display || display === 'none') {{\n",
       "            console.log([gd, 'removed!']);\n",
       "            Plotly.purge(gd);\n",
       "            observer.disconnect();\n",
       "        }}\n",
       "}});\n",
       "\n",
       "// Listen for the removal of the full notebook cells\n",
       "var notebookContainer = gd.closest('#notebook-container');\n",
       "if (notebookContainer) {{\n",
       "    x.observe(notebookContainer, {childList: true});\n",
       "}}\n",
       "\n",
       "// Listen for the clearing of the current output cell\n",
       "var outputEl = gd.closest('.output');\n",
       "if (outputEl) {{\n",
       "    x.observe(outputEl, {childList: true});\n",
       "}}\n",
       "\n",
       "                        })                };                });            </script>        </div>"
      ]
     },
     "metadata": {},
     "output_type": "display_data"
    }
   ],
   "source": [
    "df.count().iplot(kind='bar')"
   ]
  },
  {
   "cell_type": "markdown",
   "id": "68c1d069",
   "metadata": {},
   "source": [
    "### Boxplots"
   ]
  },
  {
   "cell_type": "code",
   "execution_count": 44,
   "id": "d1aee242",
   "metadata": {},
   "outputs": [
    {
     "data": {
      "application/vnd.plotly.v1+json": {
       "config": {
        "linkText": "Export to plot.ly",
        "plotlyServerURL": "https://plot.ly",
        "showLink": true
       },
       "data": [
        {
         "boxpoints": false,
         "line": {
          "width": 1.3
         },
         "marker": {
          "color": "rgba(255, 153, 51, 1.0)"
         },
         "name": "A",
         "orientation": "v",
         "type": "box",
         "y": [
          0.4915889810451373,
          -0.502709032241364,
          -0.439660809274218,
          1.566586675251845,
          -0.6212578026798677,
          1.7776557644067656,
          0.8661298023840379,
          1.2706349857331831,
          1.1829527406936695,
          0.07381149895472465,
          0.4303466828369726,
          -0.9575027737008519,
          0.2448911967693874,
          0.04189873427502208,
          1.5647741213386723,
          0.5650390866380348,
          -0.4822423308956621,
          0.2877232264192255,
          1.2382658662292958,
          -0.703889579568911,
          -1.567758920770038,
          -0.02647700663406622,
          1.2742432983560472,
          0.24568074637287884,
          0.4093554625129669,
          -1.7037611549524168,
          0.3028826118549479,
          -1.3329700018952149,
          -2.3191071798134724,
          -0.4715275828898805,
          0.23336255517782983,
          -0.16015327795991532,
          -0.1009133565791417,
          -2.81926838345229,
          1.3654859862689102,
          0.4321785438498271,
          -0.8530812976871149,
          2.205208780788037,
          -1.036426166029101,
          -0.6148016609313836,
          -0.7804903323450012,
          0.31695605069133637,
          -0.36415029682631717,
          -0.11756535392984228,
          0.5012484638145545,
          0.14568939028348707,
          0.2748279734808271,
          -0.6781935523155721,
          0.2655237481306271,
          0.284077559638565,
          -1.7740915834552073,
          -1.2707521382258211,
          0.8654799498531212,
          0.531975731840595,
          -1.008064431305186,
          -1.047052004852239,
          0.15693951402710357,
          -0.061888674539695335,
          1.1472568799088285,
          -1.8232049204956886,
          -0.5088215335086028,
          0.8018888434820789,
          -1.193138125172003,
          1.1508657000784246,
          0.6197120558756081,
          -0.6717131229802509,
          -2.0860401916618696,
          -0.57342915056639,
          0.5374995212581878,
          -0.5328685673770484,
          -0.23785068830163442,
          0.45164324959069013,
          -0.01937340009535,
          0.11477937112607209,
          -0.14076154255896042,
          -0.13988385748639753,
          -0.7696645921042117,
          -0.18421016746021568,
          -0.21423330761126352,
          -0.00734890959141541,
          1.1328213530939724,
          -1.4287156552765827,
          -0.5516144642840903,
          -0.7931343423812411,
          0.5006083393739946,
          -0.0045120609205573795,
          0.05501801382379699,
          0.9560982713007699,
          1.179495400187467,
          -0.6439271361193529,
          -1.3620561504842512,
          1.6783810359332907,
          0.17790555885956716,
          -0.5337727464325431,
          0.529490162805114,
          -0.7710447878576198,
          -0.21522348807762237,
          0.2872358861077521,
          0.7924763496804115,
          -0.16831977505258977
         ]
        },
        {
         "boxpoints": false,
         "line": {
          "width": 1.3
         },
         "marker": {
          "color": "rgba(55, 128, 191, 1.0)"
         },
         "name": "B",
         "orientation": "v",
         "type": "box",
         "y": [
          -1.3275926421452904,
          -0.936339741020361,
          -0.13647734868874586,
          -2.2240640578978677,
          1.7394620755462407,
          -0.9836121549376742,
          0.34626738417910974,
          1.2047434241013317,
          1.40716285017813,
          1.607297362862324,
          1.1471127354058306,
          -1.0290993380333546,
          0.3382366893151083,
          1.2171761981322033,
          -2.098208032554198,
          0.6029330801302344,
          0.7289001703024334,
          -0.9748621397718429,
          -1.1333611351564175,
          -0.6438327393385788,
          -0.05736388655202392,
          0.8174149798334428,
          0.38307197322024256,
          -0.33450585472427186,
          -0.3208347691514773,
          1.1646184189868694,
          0.5472252231873067,
          0.18021263465929316,
          -1.4688972064557497,
          -0.007503782506332852,
          0.3921883000604201,
          -1.3139502090164275,
          1.048607779460764,
          0.39367903297019263,
          -0.009051504564113558,
          -1.901214271538554,
          -0.5171755167242869,
          0.9229573561035125,
          0.21267983927716877,
          -0.4370929342827836,
          0.2283932101125965,
          1.2176223801186772,
          -1.2090570542595627,
          2.5505564530909055,
          -0.6075715148722199,
          0.19176390475104416,
          0.769852942774043,
          0.7882324532714438,
          -1.3143619973703013,
          0.42644098330579333,
          -1.711462519248761,
          -0.16901255652128294,
          0.0532722679248608,
          -1.4604290285910726,
          -0.36053699012217083,
          0.5088195386777494,
          0.25542311236157367,
          -0.11186811351887037,
          0.5405878809143965,
          -0.04386982384945076,
          -0.16917336542894204,
          0.6633191366843727,
          -0.4989147864827021,
          0.1560136225260184,
          0.05272802990970662,
          -1.850465429629844,
          1.3834059410341466,
          -0.9218299190591187,
          -0.6063394567698026,
          -1.1886063318225617,
          0.10019920073973819,
          -0.2595092728091105,
          2.2190005527839,
          0.7659999908718104,
          -0.560468590169831,
          -1.8182133054973348,
          -0.11258377212132896,
          0.538066045580072,
          -0.4241680278188642,
          1.1654127387433164,
          -1.1549015772976388,
          0.69925676362351,
          -0.9108643560764622,
          -0.24661187787572553,
          -0.934632536808109,
          -0.2714279182553495,
          0.16631843471957616,
          0.31353363861918293,
          -0.9107335599140366,
          -0.25980191444427614,
          0.4628327390827214,
          -1.0223280885294475,
          -0.11416392676936336,
          0.0005269853392635756,
          0.6425260963846305,
          0.7306111095911784,
          -0.4308391283122783,
          0.821522465586635,
          -0.7522745648552567,
          -1.299678462575494
         ]
        },
        {
         "boxpoints": false,
         "line": {
          "width": 1.3
         },
         "marker": {
          "color": "rgba(50, 171, 96, 1.0)"
         },
         "name": "C",
         "orientation": "v",
         "type": "box",
         "y": [
          0.7299625284862286,
          2.3553416977424178,
          0.9439163197043687,
          -1.7485668461634558,
          0.67303371795341,
          -0.5827088164406231,
          -0.2298437357287439,
          -0.25299429402279805,
          2.243376147690324,
          0.026678264182821525,
          -0.009326706571950632,
          -1.28103276971166,
          -0.9018097255727358,
          -2.316355818136636,
          0.5765390416190728,
          -0.5461091032849023,
          -0.8367310170947283,
          -0.10534783116365523,
          1.5267070285714082,
          -1.9147501133533784,
          -0.5179575970987909,
          -1.060722722859043,
          -0.6002336281882471,
          1.4405474123808457,
          0.7600485110526476,
          -0.6111759262953101,
          0.5252641852189067,
          0.35234677933198255,
          -1.256464159844944,
          -0.4328089054815595,
          -0.564944070367201,
          1.3937889852249814,
          -0.6120421309973892,
          -1.9675877843906422,
          -0.41288518037872285,
          -0.1568912040337323,
          1.0096741355529157,
          -0.6497081922716762,
          0.4258224548117755,
          0.03419617577775748,
          0.2544273158327501,
          -1.2130175397650842,
          2.3039996012372805,
          -1.6914934829063475,
          -0.7401624318559102,
          0.4620462894350896,
          0.7961878899891845,
          0.806258868435501,
          0.7431934103318454,
          -0.20573033233185833,
          1.6716873719469132,
          -0.04951833789026921,
          1.4169100195351396,
          -0.4346643636616852,
          1.6271435354582984,
          -0.2125027399496185,
          -0.02916701828161739,
          -0.25266723938880226,
          1.9761466932774905,
          0.11007665834811947,
          0.2921641158126787,
          -0.9605877946560205,
          1.199755946328249,
          -0.15512336924943296,
          0.9932606411511252,
          0.46631966023247334,
          -0.8871888295482587,
          -0.38177735170627886,
          0.7880515178140529,
          -0.9196931896060868,
          1.2894821795957643,
          -0.8448972917184487,
          -0.11451821513216144,
          0.8822791063972072,
          -2.080895983039389,
          1.4661993777627285,
          0.27195893179757347,
          -2.4541448160069357,
          0.7955709411989315,
          -1.9578482622294364,
          -0.013272646509554342,
          -0.7987542104110034,
          1.27290935113707,
          1.245872469152833,
          0.6783887133174455,
          1.2203139391698046,
          0.18857306794771148,
          -0.12981951489743296,
          -0.3209816313541664,
          1.0042691846843708,
          -0.31179723886458666,
          0.6727438201213922,
          -0.13274620751416147,
          -0.4359416099838764,
          1.4825171216305515,
          -0.7349535329592677,
          0.4928961852590263,
          -1.334426537004841,
          0.2828080600024883,
          0.5354572657235364
         ]
        },
        {
         "boxpoints": false,
         "line": {
          "width": 1.3
         },
         "marker": {
          "color": "rgba(128, 0, 128, 1.0)"
         },
         "name": "D",
         "orientation": "v",
         "type": "box",
         "y": [
          0.17991151079674725,
          -0.8818903411696254,
          1.3396439701998577,
          1.696369655122254,
          -1.0170500743214117,
          0.9603589234497253,
          -0.5349114716957325,
          0.4312769284383472,
          -0.3939466022989687,
          -1.8390185998560094,
          -1.1313497571724336,
          1.901325649462984,
          0.6176164163701985,
          1.0542740552600596,
          -0.3840010843845273,
          0.8046073397273489,
          0.7841681451038326,
          -0.20004483375073087,
          -1.749805329024341,
          2.0139347918697927,
          1.102392118546163,
          0.5522964480257804,
          2.05685740313035,
          -0.290733835517606,
          2.316511549409668,
          0.2959399927339611,
          -2.1132641218016053,
          -2.4300130296167217,
          -0.20485450728479654,
          0.6151779208026293,
          -1.0369765204767676,
          0.9747137403714647,
          -0.6494041640418141,
          1.0214755133988165,
          -0.8083215035935389,
          -0.31708033874340197,
          -0.7074597122841649,
          0.5224799578028866,
          0.22314406620526706,
          1.0941308108555794,
          0.47059586801987585,
          1.617159855769574,
          -0.051782952977217064,
          0.49416903624601183,
          0.1374397219014256,
          -0.08125070664670438,
          0.41113960855405046,
          2.8434878484149735,
          -0.4499474136429881,
          -0.34481772452587217,
          1.3211447457021126,
          -1.3702997023912453,
          -2.4255657807136135,
          0.5397403971280657,
          -0.19062789328622026,
          -0.9803472848041662,
          0.6909063868697634,
          0.4101978167870579,
          -0.4715904537104075,
          0.278648053040416,
          -0.7592271707557713,
          1.4616578784460046,
          0.4098348999974717,
          0.31247051172196,
          -0.2549830016008637,
          -0.4401095504059153,
          -0.7977524197572258,
          -0.6094420744605716,
          0.13091200126183208,
          -0.3801814420807549,
          1.3252737961337921,
          -0.2712713813504625,
          -0.9441856769131897,
          -0.26134997431370866,
          -0.9988584715638273,
          1.5987048602259983,
          0.5445833903546733,
          -1.320378767639152,
          1.775006643180901,
          0.586076337208009,
          -0.2077034039617294,
          2.4043382124218446,
          -1.47900009750594,
          -1.9456475559711623,
          0.8532309696471242,
          -1.4822782895641395,
          2.8566202001860277,
          -0.9745444965686464,
          0.6341673693827251,
          1.5556971061323803,
          -0.7989512908345607,
          -0.3780272524410559,
          -1.7850324919265543,
          -0.04581736762010171,
          0.7724989771290007,
          -0.2109479207225484,
          0.9749941979637414,
          0.632229746732128,
          -0.18926098483585838,
          0.2742948244476812
         ]
        }
       ],
       "layout": {
        "legend": {
         "bgcolor": "#F5F6F9",
         "font": {
          "color": "#4D5663"
         }
        },
        "paper_bgcolor": "#F5F6F9",
        "plot_bgcolor": "#F5F6F9",
        "template": {
         "data": {
          "bar": [
           {
            "error_x": {
             "color": "#2a3f5f"
            },
            "error_y": {
             "color": "#2a3f5f"
            },
            "marker": {
             "line": {
              "color": "#E5ECF6",
              "width": 0.5
             }
            },
            "type": "bar"
           }
          ],
          "barpolar": [
           {
            "marker": {
             "line": {
              "color": "#E5ECF6",
              "width": 0.5
             }
            },
            "type": "barpolar"
           }
          ],
          "carpet": [
           {
            "aaxis": {
             "endlinecolor": "#2a3f5f",
             "gridcolor": "white",
             "linecolor": "white",
             "minorgridcolor": "white",
             "startlinecolor": "#2a3f5f"
            },
            "baxis": {
             "endlinecolor": "#2a3f5f",
             "gridcolor": "white",
             "linecolor": "white",
             "minorgridcolor": "white",
             "startlinecolor": "#2a3f5f"
            },
            "type": "carpet"
           }
          ],
          "choropleth": [
           {
            "colorbar": {
             "outlinewidth": 0,
             "ticks": ""
            },
            "type": "choropleth"
           }
          ],
          "contour": [
           {
            "colorbar": {
             "outlinewidth": 0,
             "ticks": ""
            },
            "colorscale": [
             [
              0,
              "#0d0887"
             ],
             [
              0.1111111111111111,
              "#46039f"
             ],
             [
              0.2222222222222222,
              "#7201a8"
             ],
             [
              0.3333333333333333,
              "#9c179e"
             ],
             [
              0.4444444444444444,
              "#bd3786"
             ],
             [
              0.5555555555555556,
              "#d8576b"
             ],
             [
              0.6666666666666666,
              "#ed7953"
             ],
             [
              0.7777777777777778,
              "#fb9f3a"
             ],
             [
              0.8888888888888888,
              "#fdca26"
             ],
             [
              1,
              "#f0f921"
             ]
            ],
            "type": "contour"
           }
          ],
          "contourcarpet": [
           {
            "colorbar": {
             "outlinewidth": 0,
             "ticks": ""
            },
            "type": "contourcarpet"
           }
          ],
          "heatmap": [
           {
            "colorbar": {
             "outlinewidth": 0,
             "ticks": ""
            },
            "colorscale": [
             [
              0,
              "#0d0887"
             ],
             [
              0.1111111111111111,
              "#46039f"
             ],
             [
              0.2222222222222222,
              "#7201a8"
             ],
             [
              0.3333333333333333,
              "#9c179e"
             ],
             [
              0.4444444444444444,
              "#bd3786"
             ],
             [
              0.5555555555555556,
              "#d8576b"
             ],
             [
              0.6666666666666666,
              "#ed7953"
             ],
             [
              0.7777777777777778,
              "#fb9f3a"
             ],
             [
              0.8888888888888888,
              "#fdca26"
             ],
             [
              1,
              "#f0f921"
             ]
            ],
            "type": "heatmap"
           }
          ],
          "heatmapgl": [
           {
            "colorbar": {
             "outlinewidth": 0,
             "ticks": ""
            },
            "colorscale": [
             [
              0,
              "#0d0887"
             ],
             [
              0.1111111111111111,
              "#46039f"
             ],
             [
              0.2222222222222222,
              "#7201a8"
             ],
             [
              0.3333333333333333,
              "#9c179e"
             ],
             [
              0.4444444444444444,
              "#bd3786"
             ],
             [
              0.5555555555555556,
              "#d8576b"
             ],
             [
              0.6666666666666666,
              "#ed7953"
             ],
             [
              0.7777777777777778,
              "#fb9f3a"
             ],
             [
              0.8888888888888888,
              "#fdca26"
             ],
             [
              1,
              "#f0f921"
             ]
            ],
            "type": "heatmapgl"
           }
          ],
          "histogram": [
           {
            "marker": {
             "colorbar": {
              "outlinewidth": 0,
              "ticks": ""
             }
            },
            "type": "histogram"
           }
          ],
          "histogram2d": [
           {
            "colorbar": {
             "outlinewidth": 0,
             "ticks": ""
            },
            "colorscale": [
             [
              0,
              "#0d0887"
             ],
             [
              0.1111111111111111,
              "#46039f"
             ],
             [
              0.2222222222222222,
              "#7201a8"
             ],
             [
              0.3333333333333333,
              "#9c179e"
             ],
             [
              0.4444444444444444,
              "#bd3786"
             ],
             [
              0.5555555555555556,
              "#d8576b"
             ],
             [
              0.6666666666666666,
              "#ed7953"
             ],
             [
              0.7777777777777778,
              "#fb9f3a"
             ],
             [
              0.8888888888888888,
              "#fdca26"
             ],
             [
              1,
              "#f0f921"
             ]
            ],
            "type": "histogram2d"
           }
          ],
          "histogram2dcontour": [
           {
            "colorbar": {
             "outlinewidth": 0,
             "ticks": ""
            },
            "colorscale": [
             [
              0,
              "#0d0887"
             ],
             [
              0.1111111111111111,
              "#46039f"
             ],
             [
              0.2222222222222222,
              "#7201a8"
             ],
             [
              0.3333333333333333,
              "#9c179e"
             ],
             [
              0.4444444444444444,
              "#bd3786"
             ],
             [
              0.5555555555555556,
              "#d8576b"
             ],
             [
              0.6666666666666666,
              "#ed7953"
             ],
             [
              0.7777777777777778,
              "#fb9f3a"
             ],
             [
              0.8888888888888888,
              "#fdca26"
             ],
             [
              1,
              "#f0f921"
             ]
            ],
            "type": "histogram2dcontour"
           }
          ],
          "mesh3d": [
           {
            "colorbar": {
             "outlinewidth": 0,
             "ticks": ""
            },
            "type": "mesh3d"
           }
          ],
          "parcoords": [
           {
            "line": {
             "colorbar": {
              "outlinewidth": 0,
              "ticks": ""
             }
            },
            "type": "parcoords"
           }
          ],
          "pie": [
           {
            "automargin": true,
            "type": "pie"
           }
          ],
          "scatter": [
           {
            "marker": {
             "colorbar": {
              "outlinewidth": 0,
              "ticks": ""
             }
            },
            "type": "scatter"
           }
          ],
          "scatter3d": [
           {
            "line": {
             "colorbar": {
              "outlinewidth": 0,
              "ticks": ""
             }
            },
            "marker": {
             "colorbar": {
              "outlinewidth": 0,
              "ticks": ""
             }
            },
            "type": "scatter3d"
           }
          ],
          "scattercarpet": [
           {
            "marker": {
             "colorbar": {
              "outlinewidth": 0,
              "ticks": ""
             }
            },
            "type": "scattercarpet"
           }
          ],
          "scattergeo": [
           {
            "marker": {
             "colorbar": {
              "outlinewidth": 0,
              "ticks": ""
             }
            },
            "type": "scattergeo"
           }
          ],
          "scattergl": [
           {
            "marker": {
             "colorbar": {
              "outlinewidth": 0,
              "ticks": ""
             }
            },
            "type": "scattergl"
           }
          ],
          "scattermapbox": [
           {
            "marker": {
             "colorbar": {
              "outlinewidth": 0,
              "ticks": ""
             }
            },
            "type": "scattermapbox"
           }
          ],
          "scatterpolar": [
           {
            "marker": {
             "colorbar": {
              "outlinewidth": 0,
              "ticks": ""
             }
            },
            "type": "scatterpolar"
           }
          ],
          "scatterpolargl": [
           {
            "marker": {
             "colorbar": {
              "outlinewidth": 0,
              "ticks": ""
             }
            },
            "type": "scatterpolargl"
           }
          ],
          "scatterternary": [
           {
            "marker": {
             "colorbar": {
              "outlinewidth": 0,
              "ticks": ""
             }
            },
            "type": "scatterternary"
           }
          ],
          "surface": [
           {
            "colorbar": {
             "outlinewidth": 0,
             "ticks": ""
            },
            "colorscale": [
             [
              0,
              "#0d0887"
             ],
             [
              0.1111111111111111,
              "#46039f"
             ],
             [
              0.2222222222222222,
              "#7201a8"
             ],
             [
              0.3333333333333333,
              "#9c179e"
             ],
             [
              0.4444444444444444,
              "#bd3786"
             ],
             [
              0.5555555555555556,
              "#d8576b"
             ],
             [
              0.6666666666666666,
              "#ed7953"
             ],
             [
              0.7777777777777778,
              "#fb9f3a"
             ],
             [
              0.8888888888888888,
              "#fdca26"
             ],
             [
              1,
              "#f0f921"
             ]
            ],
            "type": "surface"
           }
          ],
          "table": [
           {
            "cells": {
             "fill": {
              "color": "#EBF0F8"
             },
             "line": {
              "color": "white"
             }
            },
            "header": {
             "fill": {
              "color": "#C8D4E3"
             },
             "line": {
              "color": "white"
             }
            },
            "type": "table"
           }
          ]
         },
         "layout": {
          "annotationdefaults": {
           "arrowcolor": "#2a3f5f",
           "arrowhead": 0,
           "arrowwidth": 1
          },
          "autotypenumbers": "strict",
          "coloraxis": {
           "colorbar": {
            "outlinewidth": 0,
            "ticks": ""
           }
          },
          "colorscale": {
           "diverging": [
            [
             0,
             "#8e0152"
            ],
            [
             0.1,
             "#c51b7d"
            ],
            [
             0.2,
             "#de77ae"
            ],
            [
             0.3,
             "#f1b6da"
            ],
            [
             0.4,
             "#fde0ef"
            ],
            [
             0.5,
             "#f7f7f7"
            ],
            [
             0.6,
             "#e6f5d0"
            ],
            [
             0.7,
             "#b8e186"
            ],
            [
             0.8,
             "#7fbc41"
            ],
            [
             0.9,
             "#4d9221"
            ],
            [
             1,
             "#276419"
            ]
           ],
           "sequential": [
            [
             0,
             "#0d0887"
            ],
            [
             0.1111111111111111,
             "#46039f"
            ],
            [
             0.2222222222222222,
             "#7201a8"
            ],
            [
             0.3333333333333333,
             "#9c179e"
            ],
            [
             0.4444444444444444,
             "#bd3786"
            ],
            [
             0.5555555555555556,
             "#d8576b"
            ],
            [
             0.6666666666666666,
             "#ed7953"
            ],
            [
             0.7777777777777778,
             "#fb9f3a"
            ],
            [
             0.8888888888888888,
             "#fdca26"
            ],
            [
             1,
             "#f0f921"
            ]
           ],
           "sequentialminus": [
            [
             0,
             "#0d0887"
            ],
            [
             0.1111111111111111,
             "#46039f"
            ],
            [
             0.2222222222222222,
             "#7201a8"
            ],
            [
             0.3333333333333333,
             "#9c179e"
            ],
            [
             0.4444444444444444,
             "#bd3786"
            ],
            [
             0.5555555555555556,
             "#d8576b"
            ],
            [
             0.6666666666666666,
             "#ed7953"
            ],
            [
             0.7777777777777778,
             "#fb9f3a"
            ],
            [
             0.8888888888888888,
             "#fdca26"
            ],
            [
             1,
             "#f0f921"
            ]
           ]
          },
          "colorway": [
           "#636efa",
           "#EF553B",
           "#00cc96",
           "#ab63fa",
           "#FFA15A",
           "#19d3f3",
           "#FF6692",
           "#B6E880",
           "#FF97FF",
           "#FECB52"
          ],
          "font": {
           "color": "#2a3f5f"
          },
          "geo": {
           "bgcolor": "white",
           "lakecolor": "white",
           "landcolor": "#E5ECF6",
           "showlakes": true,
           "showland": true,
           "subunitcolor": "white"
          },
          "hoverlabel": {
           "align": "left"
          },
          "hovermode": "closest",
          "mapbox": {
           "style": "light"
          },
          "paper_bgcolor": "white",
          "plot_bgcolor": "#E5ECF6",
          "polar": {
           "angularaxis": {
            "gridcolor": "white",
            "linecolor": "white",
            "ticks": ""
           },
           "bgcolor": "#E5ECF6",
           "radialaxis": {
            "gridcolor": "white",
            "linecolor": "white",
            "ticks": ""
           }
          },
          "scene": {
           "xaxis": {
            "backgroundcolor": "#E5ECF6",
            "gridcolor": "white",
            "gridwidth": 2,
            "linecolor": "white",
            "showbackground": true,
            "ticks": "",
            "zerolinecolor": "white"
           },
           "yaxis": {
            "backgroundcolor": "#E5ECF6",
            "gridcolor": "white",
            "gridwidth": 2,
            "linecolor": "white",
            "showbackground": true,
            "ticks": "",
            "zerolinecolor": "white"
           },
           "zaxis": {
            "backgroundcolor": "#E5ECF6",
            "gridcolor": "white",
            "gridwidth": 2,
            "linecolor": "white",
            "showbackground": true,
            "ticks": "",
            "zerolinecolor": "white"
           }
          },
          "shapedefaults": {
           "line": {
            "color": "#2a3f5f"
           }
          },
          "ternary": {
           "aaxis": {
            "gridcolor": "white",
            "linecolor": "white",
            "ticks": ""
           },
           "baxis": {
            "gridcolor": "white",
            "linecolor": "white",
            "ticks": ""
           },
           "bgcolor": "#E5ECF6",
           "caxis": {
            "gridcolor": "white",
            "linecolor": "white",
            "ticks": ""
           }
          },
          "title": {
           "x": 0.05
          },
          "xaxis": {
           "automargin": true,
           "gridcolor": "white",
           "linecolor": "white",
           "ticks": "",
           "title": {
            "standoff": 15
           },
           "zerolinecolor": "white",
           "zerolinewidth": 2
          },
          "yaxis": {
           "automargin": true,
           "gridcolor": "white",
           "linecolor": "white",
           "ticks": "",
           "title": {
            "standoff": 15
           },
           "zerolinecolor": "white",
           "zerolinewidth": 2
          }
         }
        },
        "title": {
         "font": {
          "color": "#4D5663"
         }
        },
        "xaxis": {
         "gridcolor": "#E1E5ED",
         "showgrid": true,
         "tickfont": {
          "color": "#4D5663"
         },
         "title": {
          "font": {
           "color": "#4D5663"
          },
          "text": ""
         },
         "zerolinecolor": "#E1E5ED"
        },
        "yaxis": {
         "gridcolor": "#E1E5ED",
         "showgrid": true,
         "tickfont": {
          "color": "#4D5663"
         },
         "title": {
          "font": {
           "color": "#4D5663"
          },
          "text": ""
         },
         "zerolinecolor": "#E1E5ED"
        }
       }
      },
      "text/html": [
       "<div>                            <div id=\"8272dc6a-d40c-43c1-9106-bf20447b7c08\" class=\"plotly-graph-div\" style=\"height:525px; width:100%;\"></div>            <script type=\"text/javascript\">                require([\"plotly\"], function(Plotly) {                    window.PLOTLYENV=window.PLOTLYENV || {};\n",
       "                    window.PLOTLYENV.BASE_URL='https://plot.ly';                                    if (document.getElementById(\"8272dc6a-d40c-43c1-9106-bf20447b7c08\")) {                    Plotly.newPlot(                        \"8272dc6a-d40c-43c1-9106-bf20447b7c08\",                        [{\"boxpoints\": false, \"line\": {\"width\": 1.3}, \"marker\": {\"color\": \"rgba(255, 153, 51, 1.0)\"}, \"name\": \"A\", \"orientation\": \"v\", \"type\": \"box\", \"y\": [0.4915889810451373, -0.502709032241364, -0.439660809274218, 1.566586675251845, -0.6212578026798677, 1.7776557644067656, 0.8661298023840379, 1.2706349857331831, 1.1829527406936695, 0.07381149895472465, 0.4303466828369726, -0.9575027737008519, 0.2448911967693874, 0.04189873427502208, 1.5647741213386723, 0.5650390866380348, -0.4822423308956621, 0.2877232264192255, 1.2382658662292958, -0.703889579568911, -1.567758920770038, -0.02647700663406622, 1.2742432983560472, 0.24568074637287884, 0.4093554625129669, -1.7037611549524168, 0.3028826118549479, -1.3329700018952149, -2.3191071798134724, -0.4715275828898805, 0.23336255517782983, -0.16015327795991532, -0.1009133565791417, -2.81926838345229, 1.3654859862689102, 0.4321785438498271, -0.8530812976871149, 2.205208780788037, -1.036426166029101, -0.6148016609313836, -0.7804903323450012, 0.31695605069133637, -0.36415029682631717, -0.11756535392984228, 0.5012484638145545, 0.14568939028348707, 0.2748279734808271, -0.6781935523155721, 0.2655237481306271, 0.284077559638565, -1.7740915834552073, -1.2707521382258211, 0.8654799498531212, 0.531975731840595, -1.008064431305186, -1.047052004852239, 0.15693951402710357, -0.061888674539695335, 1.1472568799088285, -1.8232049204956886, -0.5088215335086028, 0.8018888434820789, -1.193138125172003, 1.1508657000784246, 0.6197120558756081, -0.6717131229802509, -2.0860401916618696, -0.57342915056639, 0.5374995212581878, -0.5328685673770484, -0.23785068830163442, 0.45164324959069013, -0.01937340009535, 0.11477937112607209, -0.14076154255896042, -0.13988385748639753, -0.7696645921042117, -0.18421016746021568, -0.21423330761126352, -0.00734890959141541, 1.1328213530939724, -1.4287156552765827, -0.5516144642840903, -0.7931343423812411, 0.5006083393739946, -0.0045120609205573795, 0.05501801382379699, 0.9560982713007699, 1.179495400187467, -0.6439271361193529, -1.3620561504842512, 1.6783810359332907, 0.17790555885956716, -0.5337727464325431, 0.529490162805114, -0.7710447878576198, -0.21522348807762237, 0.2872358861077521, 0.7924763496804115, -0.16831977505258977]}, {\"boxpoints\": false, \"line\": {\"width\": 1.3}, \"marker\": {\"color\": \"rgba(55, 128, 191, 1.0)\"}, \"name\": \"B\", \"orientation\": \"v\", \"type\": \"box\", \"y\": [-1.3275926421452904, -0.936339741020361, -0.13647734868874586, -2.2240640578978677, 1.7394620755462407, -0.9836121549376742, 0.34626738417910974, 1.2047434241013317, 1.40716285017813, 1.607297362862324, 1.1471127354058306, -1.0290993380333546, 0.3382366893151083, 1.2171761981322033, -2.098208032554198, 0.6029330801302344, 0.7289001703024334, -0.9748621397718429, -1.1333611351564175, -0.6438327393385788, -0.05736388655202392, 0.8174149798334428, 0.38307197322024256, -0.33450585472427186, -0.3208347691514773, 1.1646184189868694, 0.5472252231873067, 0.18021263465929316, -1.4688972064557497, -0.007503782506332852, 0.3921883000604201, -1.3139502090164275, 1.048607779460764, 0.39367903297019263, -0.009051504564113558, -1.901214271538554, -0.5171755167242869, 0.9229573561035125, 0.21267983927716877, -0.4370929342827836, 0.2283932101125965, 1.2176223801186772, -1.2090570542595627, 2.5505564530909055, -0.6075715148722199, 0.19176390475104416, 0.769852942774043, 0.7882324532714438, -1.3143619973703013, 0.42644098330579333, -1.711462519248761, -0.16901255652128294, 0.0532722679248608, -1.4604290285910726, -0.36053699012217083, 0.5088195386777494, 0.25542311236157367, -0.11186811351887037, 0.5405878809143965, -0.04386982384945076, -0.16917336542894204, 0.6633191366843727, -0.4989147864827021, 0.1560136225260184, 0.05272802990970662, -1.850465429629844, 1.3834059410341466, -0.9218299190591187, -0.6063394567698026, -1.1886063318225617, 0.10019920073973819, -0.2595092728091105, 2.2190005527839, 0.7659999908718104, -0.560468590169831, -1.8182133054973348, -0.11258377212132896, 0.538066045580072, -0.4241680278188642, 1.1654127387433164, -1.1549015772976388, 0.69925676362351, -0.9108643560764622, -0.24661187787572553, -0.934632536808109, -0.2714279182553495, 0.16631843471957616, 0.31353363861918293, -0.9107335599140366, -0.25980191444427614, 0.4628327390827214, -1.0223280885294475, -0.11416392676936336, 0.0005269853392635756, 0.6425260963846305, 0.7306111095911784, -0.4308391283122783, 0.821522465586635, -0.7522745648552567, -1.299678462575494]}, {\"boxpoints\": false, \"line\": {\"width\": 1.3}, \"marker\": {\"color\": \"rgba(50, 171, 96, 1.0)\"}, \"name\": \"C\", \"orientation\": \"v\", \"type\": \"box\", \"y\": [0.7299625284862286, 2.3553416977424178, 0.9439163197043687, -1.7485668461634558, 0.67303371795341, -0.5827088164406231, -0.2298437357287439, -0.25299429402279805, 2.243376147690324, 0.026678264182821525, -0.009326706571950632, -1.28103276971166, -0.9018097255727358, -2.316355818136636, 0.5765390416190728, -0.5461091032849023, -0.8367310170947283, -0.10534783116365523, 1.5267070285714082, -1.9147501133533784, -0.5179575970987909, -1.060722722859043, -0.6002336281882471, 1.4405474123808457, 0.7600485110526476, -0.6111759262953101, 0.5252641852189067, 0.35234677933198255, -1.256464159844944, -0.4328089054815595, -0.564944070367201, 1.3937889852249814, -0.6120421309973892, -1.9675877843906422, -0.41288518037872285, -0.1568912040337323, 1.0096741355529157, -0.6497081922716762, 0.4258224548117755, 0.03419617577775748, 0.2544273158327501, -1.2130175397650842, 2.3039996012372805, -1.6914934829063475, -0.7401624318559102, 0.4620462894350896, 0.7961878899891845, 0.806258868435501, 0.7431934103318454, -0.20573033233185833, 1.6716873719469132, -0.04951833789026921, 1.4169100195351396, -0.4346643636616852, 1.6271435354582984, -0.2125027399496185, -0.02916701828161739, -0.25266723938880226, 1.9761466932774905, 0.11007665834811947, 0.2921641158126787, -0.9605877946560205, 1.199755946328249, -0.15512336924943296, 0.9932606411511252, 0.46631966023247334, -0.8871888295482587, -0.38177735170627886, 0.7880515178140529, -0.9196931896060868, 1.2894821795957643, -0.8448972917184487, -0.11451821513216144, 0.8822791063972072, -2.080895983039389, 1.4661993777627285, 0.27195893179757347, -2.4541448160069357, 0.7955709411989315, -1.9578482622294364, -0.013272646509554342, -0.7987542104110034, 1.27290935113707, 1.245872469152833, 0.6783887133174455, 1.2203139391698046, 0.18857306794771148, -0.12981951489743296, -0.3209816313541664, 1.0042691846843708, -0.31179723886458666, 0.6727438201213922, -0.13274620751416147, -0.4359416099838764, 1.4825171216305515, -0.7349535329592677, 0.4928961852590263, -1.334426537004841, 0.2828080600024883, 0.5354572657235364]}, {\"boxpoints\": false, \"line\": {\"width\": 1.3}, \"marker\": {\"color\": \"rgba(128, 0, 128, 1.0)\"}, \"name\": \"D\", \"orientation\": \"v\", \"type\": \"box\", \"y\": [0.17991151079674725, -0.8818903411696254, 1.3396439701998577, 1.696369655122254, -1.0170500743214117, 0.9603589234497253, -0.5349114716957325, 0.4312769284383472, -0.3939466022989687, -1.8390185998560094, -1.1313497571724336, 1.901325649462984, 0.6176164163701985, 1.0542740552600596, -0.3840010843845273, 0.8046073397273489, 0.7841681451038326, -0.20004483375073087, -1.749805329024341, 2.0139347918697927, 1.102392118546163, 0.5522964480257804, 2.05685740313035, -0.290733835517606, 2.316511549409668, 0.2959399927339611, -2.1132641218016053, -2.4300130296167217, -0.20485450728479654, 0.6151779208026293, -1.0369765204767676, 0.9747137403714647, -0.6494041640418141, 1.0214755133988165, -0.8083215035935389, -0.31708033874340197, -0.7074597122841649, 0.5224799578028866, 0.22314406620526706, 1.0941308108555794, 0.47059586801987585, 1.617159855769574, -0.051782952977217064, 0.49416903624601183, 0.1374397219014256, -0.08125070664670438, 0.41113960855405046, 2.8434878484149735, -0.4499474136429881, -0.34481772452587217, 1.3211447457021126, -1.3702997023912453, -2.4255657807136135, 0.5397403971280657, -0.19062789328622026, -0.9803472848041662, 0.6909063868697634, 0.4101978167870579, -0.4715904537104075, 0.278648053040416, -0.7592271707557713, 1.4616578784460046, 0.4098348999974717, 0.31247051172196, -0.2549830016008637, -0.4401095504059153, -0.7977524197572258, -0.6094420744605716, 0.13091200126183208, -0.3801814420807549, 1.3252737961337921, -0.2712713813504625, -0.9441856769131897, -0.26134997431370866, -0.9988584715638273, 1.5987048602259983, 0.5445833903546733, -1.320378767639152, 1.775006643180901, 0.586076337208009, -0.2077034039617294, 2.4043382124218446, -1.47900009750594, -1.9456475559711623, 0.8532309696471242, -1.4822782895641395, 2.8566202001860277, -0.9745444965686464, 0.6341673693827251, 1.5556971061323803, -0.7989512908345607, -0.3780272524410559, -1.7850324919265543, -0.04581736762010171, 0.7724989771290007, -0.2109479207225484, 0.9749941979637414, 0.632229746732128, -0.18926098483585838, 0.2742948244476812]}],                        {\"legend\": {\"bgcolor\": \"#F5F6F9\", \"font\": {\"color\": \"#4D5663\"}}, \"paper_bgcolor\": \"#F5F6F9\", \"plot_bgcolor\": \"#F5F6F9\", \"template\": {\"data\": {\"bar\": [{\"error_x\": {\"color\": \"#2a3f5f\"}, \"error_y\": {\"color\": \"#2a3f5f\"}, \"marker\": {\"line\": {\"color\": \"#E5ECF6\", \"width\": 0.5}}, \"type\": \"bar\"}], \"barpolar\": [{\"marker\": {\"line\": {\"color\": \"#E5ECF6\", \"width\": 0.5}}, \"type\": \"barpolar\"}], \"carpet\": [{\"aaxis\": {\"endlinecolor\": \"#2a3f5f\", \"gridcolor\": \"white\", \"linecolor\": \"white\", \"minorgridcolor\": \"white\", \"startlinecolor\": \"#2a3f5f\"}, \"baxis\": {\"endlinecolor\": \"#2a3f5f\", \"gridcolor\": \"white\", \"linecolor\": \"white\", \"minorgridcolor\": \"white\", \"startlinecolor\": \"#2a3f5f\"}, \"type\": \"carpet\"}], \"choropleth\": [{\"colorbar\": {\"outlinewidth\": 0, \"ticks\": \"\"}, \"type\": \"choropleth\"}], \"contour\": [{\"colorbar\": {\"outlinewidth\": 0, \"ticks\": \"\"}, \"colorscale\": [[0.0, \"#0d0887\"], [0.1111111111111111, \"#46039f\"], [0.2222222222222222, \"#7201a8\"], [0.3333333333333333, \"#9c179e\"], [0.4444444444444444, \"#bd3786\"], [0.5555555555555556, \"#d8576b\"], [0.6666666666666666, \"#ed7953\"], [0.7777777777777778, \"#fb9f3a\"], [0.8888888888888888, \"#fdca26\"], [1.0, \"#f0f921\"]], \"type\": \"contour\"}], \"contourcarpet\": [{\"colorbar\": {\"outlinewidth\": 0, \"ticks\": \"\"}, \"type\": \"contourcarpet\"}], \"heatmap\": [{\"colorbar\": {\"outlinewidth\": 0, \"ticks\": \"\"}, \"colorscale\": [[0.0, \"#0d0887\"], [0.1111111111111111, \"#46039f\"], [0.2222222222222222, \"#7201a8\"], [0.3333333333333333, \"#9c179e\"], [0.4444444444444444, \"#bd3786\"], [0.5555555555555556, \"#d8576b\"], [0.6666666666666666, \"#ed7953\"], [0.7777777777777778, \"#fb9f3a\"], [0.8888888888888888, \"#fdca26\"], [1.0, \"#f0f921\"]], \"type\": \"heatmap\"}], \"heatmapgl\": [{\"colorbar\": {\"outlinewidth\": 0, \"ticks\": \"\"}, \"colorscale\": [[0.0, \"#0d0887\"], [0.1111111111111111, \"#46039f\"], [0.2222222222222222, \"#7201a8\"], [0.3333333333333333, \"#9c179e\"], [0.4444444444444444, \"#bd3786\"], [0.5555555555555556, \"#d8576b\"], [0.6666666666666666, \"#ed7953\"], [0.7777777777777778, \"#fb9f3a\"], [0.8888888888888888, \"#fdca26\"], [1.0, \"#f0f921\"]], \"type\": \"heatmapgl\"}], \"histogram\": [{\"marker\": {\"colorbar\": {\"outlinewidth\": 0, \"ticks\": \"\"}}, \"type\": \"histogram\"}], \"histogram2d\": [{\"colorbar\": {\"outlinewidth\": 0, \"ticks\": \"\"}, \"colorscale\": [[0.0, \"#0d0887\"], [0.1111111111111111, \"#46039f\"], [0.2222222222222222, \"#7201a8\"], [0.3333333333333333, \"#9c179e\"], [0.4444444444444444, \"#bd3786\"], [0.5555555555555556, \"#d8576b\"], [0.6666666666666666, \"#ed7953\"], [0.7777777777777778, \"#fb9f3a\"], [0.8888888888888888, \"#fdca26\"], [1.0, \"#f0f921\"]], \"type\": \"histogram2d\"}], \"histogram2dcontour\": [{\"colorbar\": {\"outlinewidth\": 0, \"ticks\": \"\"}, \"colorscale\": [[0.0, \"#0d0887\"], [0.1111111111111111, \"#46039f\"], [0.2222222222222222, \"#7201a8\"], [0.3333333333333333, \"#9c179e\"], [0.4444444444444444, \"#bd3786\"], [0.5555555555555556, \"#d8576b\"], [0.6666666666666666, \"#ed7953\"], [0.7777777777777778, \"#fb9f3a\"], [0.8888888888888888, \"#fdca26\"], [1.0, \"#f0f921\"]], \"type\": \"histogram2dcontour\"}], \"mesh3d\": [{\"colorbar\": {\"outlinewidth\": 0, \"ticks\": \"\"}, \"type\": \"mesh3d\"}], \"parcoords\": [{\"line\": {\"colorbar\": {\"outlinewidth\": 0, \"ticks\": \"\"}}, \"type\": \"parcoords\"}], \"pie\": [{\"automargin\": true, \"type\": \"pie\"}], \"scatter\": [{\"marker\": {\"colorbar\": {\"outlinewidth\": 0, \"ticks\": \"\"}}, \"type\": \"scatter\"}], \"scatter3d\": [{\"line\": {\"colorbar\": {\"outlinewidth\": 0, \"ticks\": \"\"}}, \"marker\": {\"colorbar\": {\"outlinewidth\": 0, \"ticks\": \"\"}}, \"type\": \"scatter3d\"}], \"scattercarpet\": [{\"marker\": {\"colorbar\": {\"outlinewidth\": 0, \"ticks\": \"\"}}, \"type\": \"scattercarpet\"}], \"scattergeo\": [{\"marker\": {\"colorbar\": {\"outlinewidth\": 0, \"ticks\": \"\"}}, \"type\": \"scattergeo\"}], \"scattergl\": [{\"marker\": {\"colorbar\": {\"outlinewidth\": 0, \"ticks\": \"\"}}, \"type\": \"scattergl\"}], \"scattermapbox\": [{\"marker\": {\"colorbar\": {\"outlinewidth\": 0, \"ticks\": \"\"}}, \"type\": \"scattermapbox\"}], \"scatterpolar\": [{\"marker\": {\"colorbar\": {\"outlinewidth\": 0, \"ticks\": \"\"}}, \"type\": \"scatterpolar\"}], \"scatterpolargl\": [{\"marker\": {\"colorbar\": {\"outlinewidth\": 0, \"ticks\": \"\"}}, \"type\": \"scatterpolargl\"}], \"scatterternary\": [{\"marker\": {\"colorbar\": {\"outlinewidth\": 0, \"ticks\": \"\"}}, \"type\": \"scatterternary\"}], \"surface\": [{\"colorbar\": {\"outlinewidth\": 0, \"ticks\": \"\"}, \"colorscale\": [[0.0, \"#0d0887\"], [0.1111111111111111, \"#46039f\"], [0.2222222222222222, \"#7201a8\"], [0.3333333333333333, \"#9c179e\"], [0.4444444444444444, \"#bd3786\"], [0.5555555555555556, \"#d8576b\"], [0.6666666666666666, \"#ed7953\"], [0.7777777777777778, \"#fb9f3a\"], [0.8888888888888888, \"#fdca26\"], [1.0, \"#f0f921\"]], \"type\": \"surface\"}], \"table\": [{\"cells\": {\"fill\": {\"color\": \"#EBF0F8\"}, \"line\": {\"color\": \"white\"}}, \"header\": {\"fill\": {\"color\": \"#C8D4E3\"}, \"line\": {\"color\": \"white\"}}, \"type\": \"table\"}]}, \"layout\": {\"annotationdefaults\": {\"arrowcolor\": \"#2a3f5f\", \"arrowhead\": 0, \"arrowwidth\": 1}, \"autotypenumbers\": \"strict\", \"coloraxis\": {\"colorbar\": {\"outlinewidth\": 0, \"ticks\": \"\"}}, \"colorscale\": {\"diverging\": [[0, \"#8e0152\"], [0.1, \"#c51b7d\"], [0.2, \"#de77ae\"], [0.3, \"#f1b6da\"], [0.4, \"#fde0ef\"], [0.5, \"#f7f7f7\"], [0.6, \"#e6f5d0\"], [0.7, \"#b8e186\"], [0.8, \"#7fbc41\"], [0.9, \"#4d9221\"], [1, \"#276419\"]], \"sequential\": [[0.0, \"#0d0887\"], [0.1111111111111111, \"#46039f\"], [0.2222222222222222, \"#7201a8\"], [0.3333333333333333, \"#9c179e\"], [0.4444444444444444, \"#bd3786\"], [0.5555555555555556, \"#d8576b\"], [0.6666666666666666, \"#ed7953\"], [0.7777777777777778, \"#fb9f3a\"], [0.8888888888888888, \"#fdca26\"], [1.0, \"#f0f921\"]], \"sequentialminus\": [[0.0, \"#0d0887\"], [0.1111111111111111, \"#46039f\"], [0.2222222222222222, \"#7201a8\"], [0.3333333333333333, \"#9c179e\"], [0.4444444444444444, \"#bd3786\"], [0.5555555555555556, \"#d8576b\"], [0.6666666666666666, \"#ed7953\"], [0.7777777777777778, \"#fb9f3a\"], [0.8888888888888888, \"#fdca26\"], [1.0, \"#f0f921\"]]}, \"colorway\": [\"#636efa\", \"#EF553B\", \"#00cc96\", \"#ab63fa\", \"#FFA15A\", \"#19d3f3\", \"#FF6692\", \"#B6E880\", \"#FF97FF\", \"#FECB52\"], \"font\": {\"color\": \"#2a3f5f\"}, \"geo\": {\"bgcolor\": \"white\", \"lakecolor\": \"white\", \"landcolor\": \"#E5ECF6\", \"showlakes\": true, \"showland\": true, \"subunitcolor\": \"white\"}, \"hoverlabel\": {\"align\": \"left\"}, \"hovermode\": \"closest\", \"mapbox\": {\"style\": \"light\"}, \"paper_bgcolor\": \"white\", \"plot_bgcolor\": \"#E5ECF6\", \"polar\": {\"angularaxis\": {\"gridcolor\": \"white\", \"linecolor\": \"white\", \"ticks\": \"\"}, \"bgcolor\": \"#E5ECF6\", \"radialaxis\": {\"gridcolor\": \"white\", \"linecolor\": \"white\", \"ticks\": \"\"}}, \"scene\": {\"xaxis\": {\"backgroundcolor\": \"#E5ECF6\", \"gridcolor\": \"white\", \"gridwidth\": 2, \"linecolor\": \"white\", \"showbackground\": true, \"ticks\": \"\", \"zerolinecolor\": \"white\"}, \"yaxis\": {\"backgroundcolor\": \"#E5ECF6\", \"gridcolor\": \"white\", \"gridwidth\": 2, \"linecolor\": \"white\", \"showbackground\": true, \"ticks\": \"\", \"zerolinecolor\": \"white\"}, \"zaxis\": {\"backgroundcolor\": \"#E5ECF6\", \"gridcolor\": \"white\", \"gridwidth\": 2, \"linecolor\": \"white\", \"showbackground\": true, \"ticks\": \"\", \"zerolinecolor\": \"white\"}}, \"shapedefaults\": {\"line\": {\"color\": \"#2a3f5f\"}}, \"ternary\": {\"aaxis\": {\"gridcolor\": \"white\", \"linecolor\": \"white\", \"ticks\": \"\"}, \"baxis\": {\"gridcolor\": \"white\", \"linecolor\": \"white\", \"ticks\": \"\"}, \"bgcolor\": \"#E5ECF6\", \"caxis\": {\"gridcolor\": \"white\", \"linecolor\": \"white\", \"ticks\": \"\"}}, \"title\": {\"x\": 0.05}, \"xaxis\": {\"automargin\": true, \"gridcolor\": \"white\", \"linecolor\": \"white\", \"ticks\": \"\", \"title\": {\"standoff\": 15}, \"zerolinecolor\": \"white\", \"zerolinewidth\": 2}, \"yaxis\": {\"automargin\": true, \"gridcolor\": \"white\", \"linecolor\": \"white\", \"ticks\": \"\", \"title\": {\"standoff\": 15}, \"zerolinecolor\": \"white\", \"zerolinewidth\": 2}}}, \"title\": {\"font\": {\"color\": \"#4D5663\"}}, \"xaxis\": {\"gridcolor\": \"#E1E5ED\", \"showgrid\": true, \"tickfont\": {\"color\": \"#4D5663\"}, \"title\": {\"font\": {\"color\": \"#4D5663\"}, \"text\": \"\"}, \"zerolinecolor\": \"#E1E5ED\"}, \"yaxis\": {\"gridcolor\": \"#E1E5ED\", \"showgrid\": true, \"tickfont\": {\"color\": \"#4D5663\"}, \"title\": {\"font\": {\"color\": \"#4D5663\"}, \"text\": \"\"}, \"zerolinecolor\": \"#E1E5ED\"}},                        {\"showLink\": true, \"linkText\": \"Export to plot.ly\", \"plotlyServerURL\": \"https://plot.ly\", \"responsive\": true}                    ).then(function(){\n",
       "                            \n",
       "var gd = document.getElementById('8272dc6a-d40c-43c1-9106-bf20447b7c08');\n",
       "var x = new MutationObserver(function (mutations, observer) {{\n",
       "        var display = window.getComputedStyle(gd).display;\n",
       "        if (!display || display === 'none') {{\n",
       "            console.log([gd, 'removed!']);\n",
       "            Plotly.purge(gd);\n",
       "            observer.disconnect();\n",
       "        }}\n",
       "}});\n",
       "\n",
       "// Listen for the removal of the full notebook cells\n",
       "var notebookContainer = gd.closest('#notebook-container');\n",
       "if (notebookContainer) {{\n",
       "    x.observe(notebookContainer, {childList: true});\n",
       "}}\n",
       "\n",
       "// Listen for the clearing of the current output cell\n",
       "var outputEl = gd.closest('.output');\n",
       "if (outputEl) {{\n",
       "    x.observe(outputEl, {childList: true});\n",
       "}}\n",
       "\n",
       "                        })                };                });            </script>        </div>"
      ]
     },
     "metadata": {},
     "output_type": "display_data"
    }
   ],
   "source": [
    "df.iplot(kind=\"box\")"
   ]
  },
  {
   "cell_type": "markdown",
   "id": "90ea1779",
   "metadata": {},
   "source": [
    "### 3d Surface"
   ]
  },
  {
   "cell_type": "code",
   "execution_count": 45,
   "id": "fe9f5e8a",
   "metadata": {},
   "outputs": [
    {
     "data": {
      "application/vnd.plotly.v1+json": {
       "config": {
        "linkText": "Export to plot.ly",
        "plotlyServerURL": "https://plot.ly",
        "showLink": true
       },
       "data": [
        {
         "colorscale": [
          [
           0,
           "rgb(165,0,38)"
          ],
          [
           0.1,
           "rgb(215,48,39)"
          ],
          [
           0.2,
           "rgb(244,109,67)"
          ],
          [
           0.3,
           "rgb(253,174,97)"
          ],
          [
           0.4,
           "rgb(254,224,144)"
          ],
          [
           0.5,
           "rgb(255,255,191)"
          ],
          [
           0.6,
           "rgb(224,243,248)"
          ],
          [
           0.7,
           "rgb(171,217,233)"
          ],
          [
           0.8,
           "rgb(116,173,209)"
          ],
          [
           0.9,
           "rgb(69,117,180)"
          ],
          [
           1,
           "rgb(49,54,149)"
          ]
         ],
         "type": "surface",
         "x": [
          0,
          1,
          2,
          3,
          4
         ],
         "y": [
          "x",
          "y",
          "z"
         ],
         "z": [
          [
           1,
           2,
           3,
           4,
           5
          ],
          [
           10,
           20,
           30,
           20,
           10
          ],
          [
           5,
           4,
           3,
           2,
           1
          ]
         ]
        }
       ],
       "layout": {
        "legend": {
         "bgcolor": "#F5F6F9",
         "font": {
          "color": "#4D5663"
         }
        },
        "paper_bgcolor": "#F5F6F9",
        "plot_bgcolor": "#F5F6F9",
        "template": {
         "data": {
          "bar": [
           {
            "error_x": {
             "color": "#2a3f5f"
            },
            "error_y": {
             "color": "#2a3f5f"
            },
            "marker": {
             "line": {
              "color": "#E5ECF6",
              "width": 0.5
             }
            },
            "type": "bar"
           }
          ],
          "barpolar": [
           {
            "marker": {
             "line": {
              "color": "#E5ECF6",
              "width": 0.5
             }
            },
            "type": "barpolar"
           }
          ],
          "carpet": [
           {
            "aaxis": {
             "endlinecolor": "#2a3f5f",
             "gridcolor": "white",
             "linecolor": "white",
             "minorgridcolor": "white",
             "startlinecolor": "#2a3f5f"
            },
            "baxis": {
             "endlinecolor": "#2a3f5f",
             "gridcolor": "white",
             "linecolor": "white",
             "minorgridcolor": "white",
             "startlinecolor": "#2a3f5f"
            },
            "type": "carpet"
           }
          ],
          "choropleth": [
           {
            "colorbar": {
             "outlinewidth": 0,
             "ticks": ""
            },
            "type": "choropleth"
           }
          ],
          "contour": [
           {
            "colorbar": {
             "outlinewidth": 0,
             "ticks": ""
            },
            "colorscale": [
             [
              0,
              "#0d0887"
             ],
             [
              0.1111111111111111,
              "#46039f"
             ],
             [
              0.2222222222222222,
              "#7201a8"
             ],
             [
              0.3333333333333333,
              "#9c179e"
             ],
             [
              0.4444444444444444,
              "#bd3786"
             ],
             [
              0.5555555555555556,
              "#d8576b"
             ],
             [
              0.6666666666666666,
              "#ed7953"
             ],
             [
              0.7777777777777778,
              "#fb9f3a"
             ],
             [
              0.8888888888888888,
              "#fdca26"
             ],
             [
              1,
              "#f0f921"
             ]
            ],
            "type": "contour"
           }
          ],
          "contourcarpet": [
           {
            "colorbar": {
             "outlinewidth": 0,
             "ticks": ""
            },
            "type": "contourcarpet"
           }
          ],
          "heatmap": [
           {
            "colorbar": {
             "outlinewidth": 0,
             "ticks": ""
            },
            "colorscale": [
             [
              0,
              "#0d0887"
             ],
             [
              0.1111111111111111,
              "#46039f"
             ],
             [
              0.2222222222222222,
              "#7201a8"
             ],
             [
              0.3333333333333333,
              "#9c179e"
             ],
             [
              0.4444444444444444,
              "#bd3786"
             ],
             [
              0.5555555555555556,
              "#d8576b"
             ],
             [
              0.6666666666666666,
              "#ed7953"
             ],
             [
              0.7777777777777778,
              "#fb9f3a"
             ],
             [
              0.8888888888888888,
              "#fdca26"
             ],
             [
              1,
              "#f0f921"
             ]
            ],
            "type": "heatmap"
           }
          ],
          "heatmapgl": [
           {
            "colorbar": {
             "outlinewidth": 0,
             "ticks": ""
            },
            "colorscale": [
             [
              0,
              "#0d0887"
             ],
             [
              0.1111111111111111,
              "#46039f"
             ],
             [
              0.2222222222222222,
              "#7201a8"
             ],
             [
              0.3333333333333333,
              "#9c179e"
             ],
             [
              0.4444444444444444,
              "#bd3786"
             ],
             [
              0.5555555555555556,
              "#d8576b"
             ],
             [
              0.6666666666666666,
              "#ed7953"
             ],
             [
              0.7777777777777778,
              "#fb9f3a"
             ],
             [
              0.8888888888888888,
              "#fdca26"
             ],
             [
              1,
              "#f0f921"
             ]
            ],
            "type": "heatmapgl"
           }
          ],
          "histogram": [
           {
            "marker": {
             "colorbar": {
              "outlinewidth": 0,
              "ticks": ""
             }
            },
            "type": "histogram"
           }
          ],
          "histogram2d": [
           {
            "colorbar": {
             "outlinewidth": 0,
             "ticks": ""
            },
            "colorscale": [
             [
              0,
              "#0d0887"
             ],
             [
              0.1111111111111111,
              "#46039f"
             ],
             [
              0.2222222222222222,
              "#7201a8"
             ],
             [
              0.3333333333333333,
              "#9c179e"
             ],
             [
              0.4444444444444444,
              "#bd3786"
             ],
             [
              0.5555555555555556,
              "#d8576b"
             ],
             [
              0.6666666666666666,
              "#ed7953"
             ],
             [
              0.7777777777777778,
              "#fb9f3a"
             ],
             [
              0.8888888888888888,
              "#fdca26"
             ],
             [
              1,
              "#f0f921"
             ]
            ],
            "type": "histogram2d"
           }
          ],
          "histogram2dcontour": [
           {
            "colorbar": {
             "outlinewidth": 0,
             "ticks": ""
            },
            "colorscale": [
             [
              0,
              "#0d0887"
             ],
             [
              0.1111111111111111,
              "#46039f"
             ],
             [
              0.2222222222222222,
              "#7201a8"
             ],
             [
              0.3333333333333333,
              "#9c179e"
             ],
             [
              0.4444444444444444,
              "#bd3786"
             ],
             [
              0.5555555555555556,
              "#d8576b"
             ],
             [
              0.6666666666666666,
              "#ed7953"
             ],
             [
              0.7777777777777778,
              "#fb9f3a"
             ],
             [
              0.8888888888888888,
              "#fdca26"
             ],
             [
              1,
              "#f0f921"
             ]
            ],
            "type": "histogram2dcontour"
           }
          ],
          "mesh3d": [
           {
            "colorbar": {
             "outlinewidth": 0,
             "ticks": ""
            },
            "type": "mesh3d"
           }
          ],
          "parcoords": [
           {
            "line": {
             "colorbar": {
              "outlinewidth": 0,
              "ticks": ""
             }
            },
            "type": "parcoords"
           }
          ],
          "pie": [
           {
            "automargin": true,
            "type": "pie"
           }
          ],
          "scatter": [
           {
            "marker": {
             "colorbar": {
              "outlinewidth": 0,
              "ticks": ""
             }
            },
            "type": "scatter"
           }
          ],
          "scatter3d": [
           {
            "line": {
             "colorbar": {
              "outlinewidth": 0,
              "ticks": ""
             }
            },
            "marker": {
             "colorbar": {
              "outlinewidth": 0,
              "ticks": ""
             }
            },
            "type": "scatter3d"
           }
          ],
          "scattercarpet": [
           {
            "marker": {
             "colorbar": {
              "outlinewidth": 0,
              "ticks": ""
             }
            },
            "type": "scattercarpet"
           }
          ],
          "scattergeo": [
           {
            "marker": {
             "colorbar": {
              "outlinewidth": 0,
              "ticks": ""
             }
            },
            "type": "scattergeo"
           }
          ],
          "scattergl": [
           {
            "marker": {
             "colorbar": {
              "outlinewidth": 0,
              "ticks": ""
             }
            },
            "type": "scattergl"
           }
          ],
          "scattermapbox": [
           {
            "marker": {
             "colorbar": {
              "outlinewidth": 0,
              "ticks": ""
             }
            },
            "type": "scattermapbox"
           }
          ],
          "scatterpolar": [
           {
            "marker": {
             "colorbar": {
              "outlinewidth": 0,
              "ticks": ""
             }
            },
            "type": "scatterpolar"
           }
          ],
          "scatterpolargl": [
           {
            "marker": {
             "colorbar": {
              "outlinewidth": 0,
              "ticks": ""
             }
            },
            "type": "scatterpolargl"
           }
          ],
          "scatterternary": [
           {
            "marker": {
             "colorbar": {
              "outlinewidth": 0,
              "ticks": ""
             }
            },
            "type": "scatterternary"
           }
          ],
          "surface": [
           {
            "colorbar": {
             "outlinewidth": 0,
             "ticks": ""
            },
            "colorscale": [
             [
              0,
              "#0d0887"
             ],
             [
              0.1111111111111111,
              "#46039f"
             ],
             [
              0.2222222222222222,
              "#7201a8"
             ],
             [
              0.3333333333333333,
              "#9c179e"
             ],
             [
              0.4444444444444444,
              "#bd3786"
             ],
             [
              0.5555555555555556,
              "#d8576b"
             ],
             [
              0.6666666666666666,
              "#ed7953"
             ],
             [
              0.7777777777777778,
              "#fb9f3a"
             ],
             [
              0.8888888888888888,
              "#fdca26"
             ],
             [
              1,
              "#f0f921"
             ]
            ],
            "type": "surface"
           }
          ],
          "table": [
           {
            "cells": {
             "fill": {
              "color": "#EBF0F8"
             },
             "line": {
              "color": "white"
             }
            },
            "header": {
             "fill": {
              "color": "#C8D4E3"
             },
             "line": {
              "color": "white"
             }
            },
            "type": "table"
           }
          ]
         },
         "layout": {
          "annotationdefaults": {
           "arrowcolor": "#2a3f5f",
           "arrowhead": 0,
           "arrowwidth": 1
          },
          "autotypenumbers": "strict",
          "coloraxis": {
           "colorbar": {
            "outlinewidth": 0,
            "ticks": ""
           }
          },
          "colorscale": {
           "diverging": [
            [
             0,
             "#8e0152"
            ],
            [
             0.1,
             "#c51b7d"
            ],
            [
             0.2,
             "#de77ae"
            ],
            [
             0.3,
             "#f1b6da"
            ],
            [
             0.4,
             "#fde0ef"
            ],
            [
             0.5,
             "#f7f7f7"
            ],
            [
             0.6,
             "#e6f5d0"
            ],
            [
             0.7,
             "#b8e186"
            ],
            [
             0.8,
             "#7fbc41"
            ],
            [
             0.9,
             "#4d9221"
            ],
            [
             1,
             "#276419"
            ]
           ],
           "sequential": [
            [
             0,
             "#0d0887"
            ],
            [
             0.1111111111111111,
             "#46039f"
            ],
            [
             0.2222222222222222,
             "#7201a8"
            ],
            [
             0.3333333333333333,
             "#9c179e"
            ],
            [
             0.4444444444444444,
             "#bd3786"
            ],
            [
             0.5555555555555556,
             "#d8576b"
            ],
            [
             0.6666666666666666,
             "#ed7953"
            ],
            [
             0.7777777777777778,
             "#fb9f3a"
            ],
            [
             0.8888888888888888,
             "#fdca26"
            ],
            [
             1,
             "#f0f921"
            ]
           ],
           "sequentialminus": [
            [
             0,
             "#0d0887"
            ],
            [
             0.1111111111111111,
             "#46039f"
            ],
            [
             0.2222222222222222,
             "#7201a8"
            ],
            [
             0.3333333333333333,
             "#9c179e"
            ],
            [
             0.4444444444444444,
             "#bd3786"
            ],
            [
             0.5555555555555556,
             "#d8576b"
            ],
            [
             0.6666666666666666,
             "#ed7953"
            ],
            [
             0.7777777777777778,
             "#fb9f3a"
            ],
            [
             0.8888888888888888,
             "#fdca26"
            ],
            [
             1,
             "#f0f921"
            ]
           ]
          },
          "colorway": [
           "#636efa",
           "#EF553B",
           "#00cc96",
           "#ab63fa",
           "#FFA15A",
           "#19d3f3",
           "#FF6692",
           "#B6E880",
           "#FF97FF",
           "#FECB52"
          ],
          "font": {
           "color": "#2a3f5f"
          },
          "geo": {
           "bgcolor": "white",
           "lakecolor": "white",
           "landcolor": "#E5ECF6",
           "showlakes": true,
           "showland": true,
           "subunitcolor": "white"
          },
          "hoverlabel": {
           "align": "left"
          },
          "hovermode": "closest",
          "mapbox": {
           "style": "light"
          },
          "paper_bgcolor": "white",
          "plot_bgcolor": "#E5ECF6",
          "polar": {
           "angularaxis": {
            "gridcolor": "white",
            "linecolor": "white",
            "ticks": ""
           },
           "bgcolor": "#E5ECF6",
           "radialaxis": {
            "gridcolor": "white",
            "linecolor": "white",
            "ticks": ""
           }
          },
          "scene": {
           "xaxis": {
            "backgroundcolor": "#E5ECF6",
            "gridcolor": "white",
            "gridwidth": 2,
            "linecolor": "white",
            "showbackground": true,
            "ticks": "",
            "zerolinecolor": "white"
           },
           "yaxis": {
            "backgroundcolor": "#E5ECF6",
            "gridcolor": "white",
            "gridwidth": 2,
            "linecolor": "white",
            "showbackground": true,
            "ticks": "",
            "zerolinecolor": "white"
           },
           "zaxis": {
            "backgroundcolor": "#E5ECF6",
            "gridcolor": "white",
            "gridwidth": 2,
            "linecolor": "white",
            "showbackground": true,
            "ticks": "",
            "zerolinecolor": "white"
           }
          },
          "shapedefaults": {
           "line": {
            "color": "#2a3f5f"
           }
          },
          "ternary": {
           "aaxis": {
            "gridcolor": "white",
            "linecolor": "white",
            "ticks": ""
           },
           "baxis": {
            "gridcolor": "white",
            "linecolor": "white",
            "ticks": ""
           },
           "bgcolor": "#E5ECF6",
           "caxis": {
            "gridcolor": "white",
            "linecolor": "white",
            "ticks": ""
           }
          },
          "title": {
           "x": 0.05
          },
          "xaxis": {
           "automargin": true,
           "gridcolor": "white",
           "linecolor": "white",
           "ticks": "",
           "title": {
            "standoff": 15
           },
           "zerolinecolor": "white",
           "zerolinewidth": 2
          },
          "yaxis": {
           "automargin": true,
           "gridcolor": "white",
           "linecolor": "white",
           "ticks": "",
           "title": {
            "standoff": 15
           },
           "zerolinecolor": "white",
           "zerolinewidth": 2
          }
         }
        },
        "title": {
         "font": {
          "color": "#4D5663"
         }
        },
        "xaxis": {
         "gridcolor": "#E1E5ED",
         "showgrid": true,
         "tickfont": {
          "color": "#4D5663"
         },
         "title": {
          "font": {
           "color": "#4D5663"
          },
          "text": ""
         },
         "zerolinecolor": "#E1E5ED"
        },
        "yaxis": {
         "gridcolor": "#E1E5ED",
         "showgrid": true,
         "tickfont": {
          "color": "#4D5663"
         },
         "title": {
          "font": {
           "color": "#4D5663"
          },
          "text": ""
         },
         "zerolinecolor": "#E1E5ED"
        }
       }
      },
      "text/html": [
       "<div>                            <div id=\"305dd2b3-624f-4039-99b9-60577f23ec77\" class=\"plotly-graph-div\" style=\"height:525px; width:100%;\"></div>            <script type=\"text/javascript\">                require([\"plotly\"], function(Plotly) {                    window.PLOTLYENV=window.PLOTLYENV || {};\n",
       "                    window.PLOTLYENV.BASE_URL='https://plot.ly';                                    if (document.getElementById(\"305dd2b3-624f-4039-99b9-60577f23ec77\")) {                    Plotly.newPlot(                        \"305dd2b3-624f-4039-99b9-60577f23ec77\",                        [{\"colorscale\": [[0.0, \"rgb(165,0,38)\"], [0.1, \"rgb(215,48,39)\"], [0.2, \"rgb(244,109,67)\"], [0.3, \"rgb(253,174,97)\"], [0.4, \"rgb(254,224,144)\"], [0.5, \"rgb(255,255,191)\"], [0.6, \"rgb(224,243,248)\"], [0.7, \"rgb(171,217,233)\"], [0.8, \"rgb(116,173,209)\"], [0.9, \"rgb(69,117,180)\"], [1.0, \"rgb(49,54,149)\"]], \"type\": \"surface\", \"x\": [0, 1, 2, 3, 4], \"y\": [\"x\", \"y\", \"z\"], \"z\": [[1, 2, 3, 4, 5], [10, 20, 30, 20, 10], [5, 4, 3, 2, 1]]}],                        {\"legend\": {\"bgcolor\": \"#F5F6F9\", \"font\": {\"color\": \"#4D5663\"}}, \"paper_bgcolor\": \"#F5F6F9\", \"plot_bgcolor\": \"#F5F6F9\", \"template\": {\"data\": {\"bar\": [{\"error_x\": {\"color\": \"#2a3f5f\"}, \"error_y\": {\"color\": \"#2a3f5f\"}, \"marker\": {\"line\": {\"color\": \"#E5ECF6\", \"width\": 0.5}}, \"type\": \"bar\"}], \"barpolar\": [{\"marker\": {\"line\": {\"color\": \"#E5ECF6\", \"width\": 0.5}}, \"type\": \"barpolar\"}], \"carpet\": [{\"aaxis\": {\"endlinecolor\": \"#2a3f5f\", \"gridcolor\": \"white\", \"linecolor\": \"white\", \"minorgridcolor\": \"white\", \"startlinecolor\": \"#2a3f5f\"}, \"baxis\": {\"endlinecolor\": \"#2a3f5f\", \"gridcolor\": \"white\", \"linecolor\": \"white\", \"minorgridcolor\": \"white\", \"startlinecolor\": \"#2a3f5f\"}, \"type\": \"carpet\"}], \"choropleth\": [{\"colorbar\": {\"outlinewidth\": 0, \"ticks\": \"\"}, \"type\": \"choropleth\"}], \"contour\": [{\"colorbar\": {\"outlinewidth\": 0, \"ticks\": \"\"}, \"colorscale\": [[0.0, \"#0d0887\"], [0.1111111111111111, \"#46039f\"], [0.2222222222222222, \"#7201a8\"], [0.3333333333333333, \"#9c179e\"], [0.4444444444444444, \"#bd3786\"], [0.5555555555555556, \"#d8576b\"], [0.6666666666666666, \"#ed7953\"], [0.7777777777777778, \"#fb9f3a\"], [0.8888888888888888, \"#fdca26\"], [1.0, \"#f0f921\"]], \"type\": \"contour\"}], \"contourcarpet\": [{\"colorbar\": {\"outlinewidth\": 0, \"ticks\": \"\"}, \"type\": \"contourcarpet\"}], \"heatmap\": [{\"colorbar\": {\"outlinewidth\": 0, \"ticks\": \"\"}, \"colorscale\": [[0.0, \"#0d0887\"], [0.1111111111111111, \"#46039f\"], [0.2222222222222222, \"#7201a8\"], [0.3333333333333333, \"#9c179e\"], [0.4444444444444444, \"#bd3786\"], [0.5555555555555556, \"#d8576b\"], [0.6666666666666666, \"#ed7953\"], [0.7777777777777778, \"#fb9f3a\"], [0.8888888888888888, \"#fdca26\"], [1.0, \"#f0f921\"]], \"type\": \"heatmap\"}], \"heatmapgl\": [{\"colorbar\": {\"outlinewidth\": 0, \"ticks\": \"\"}, \"colorscale\": [[0.0, \"#0d0887\"], [0.1111111111111111, \"#46039f\"], [0.2222222222222222, \"#7201a8\"], [0.3333333333333333, \"#9c179e\"], [0.4444444444444444, \"#bd3786\"], [0.5555555555555556, \"#d8576b\"], [0.6666666666666666, \"#ed7953\"], [0.7777777777777778, \"#fb9f3a\"], [0.8888888888888888, \"#fdca26\"], [1.0, \"#f0f921\"]], \"type\": \"heatmapgl\"}], \"histogram\": [{\"marker\": {\"colorbar\": {\"outlinewidth\": 0, \"ticks\": \"\"}}, \"type\": \"histogram\"}], \"histogram2d\": [{\"colorbar\": {\"outlinewidth\": 0, \"ticks\": \"\"}, \"colorscale\": [[0.0, \"#0d0887\"], [0.1111111111111111, \"#46039f\"], [0.2222222222222222, \"#7201a8\"], [0.3333333333333333, \"#9c179e\"], [0.4444444444444444, \"#bd3786\"], [0.5555555555555556, \"#d8576b\"], [0.6666666666666666, \"#ed7953\"], [0.7777777777777778, \"#fb9f3a\"], [0.8888888888888888, \"#fdca26\"], [1.0, \"#f0f921\"]], \"type\": \"histogram2d\"}], \"histogram2dcontour\": [{\"colorbar\": {\"outlinewidth\": 0, \"ticks\": \"\"}, \"colorscale\": [[0.0, \"#0d0887\"], [0.1111111111111111, \"#46039f\"], [0.2222222222222222, \"#7201a8\"], [0.3333333333333333, \"#9c179e\"], [0.4444444444444444, \"#bd3786\"], [0.5555555555555556, \"#d8576b\"], [0.6666666666666666, \"#ed7953\"], [0.7777777777777778, \"#fb9f3a\"], [0.8888888888888888, \"#fdca26\"], [1.0, \"#f0f921\"]], \"type\": \"histogram2dcontour\"}], \"mesh3d\": [{\"colorbar\": {\"outlinewidth\": 0, \"ticks\": \"\"}, \"type\": \"mesh3d\"}], \"parcoords\": [{\"line\": {\"colorbar\": {\"outlinewidth\": 0, \"ticks\": \"\"}}, \"type\": \"parcoords\"}], \"pie\": [{\"automargin\": true, \"type\": \"pie\"}], \"scatter\": [{\"marker\": {\"colorbar\": {\"outlinewidth\": 0, \"ticks\": \"\"}}, \"type\": \"scatter\"}], \"scatter3d\": [{\"line\": {\"colorbar\": {\"outlinewidth\": 0, \"ticks\": \"\"}}, \"marker\": {\"colorbar\": {\"outlinewidth\": 0, \"ticks\": \"\"}}, \"type\": \"scatter3d\"}], \"scattercarpet\": [{\"marker\": {\"colorbar\": {\"outlinewidth\": 0, \"ticks\": \"\"}}, \"type\": \"scattercarpet\"}], \"scattergeo\": [{\"marker\": {\"colorbar\": {\"outlinewidth\": 0, \"ticks\": \"\"}}, \"type\": \"scattergeo\"}], \"scattergl\": [{\"marker\": {\"colorbar\": {\"outlinewidth\": 0, \"ticks\": \"\"}}, \"type\": \"scattergl\"}], \"scattermapbox\": [{\"marker\": {\"colorbar\": {\"outlinewidth\": 0, \"ticks\": \"\"}}, \"type\": \"scattermapbox\"}], \"scatterpolar\": [{\"marker\": {\"colorbar\": {\"outlinewidth\": 0, \"ticks\": \"\"}}, \"type\": \"scatterpolar\"}], \"scatterpolargl\": [{\"marker\": {\"colorbar\": {\"outlinewidth\": 0, \"ticks\": \"\"}}, \"type\": \"scatterpolargl\"}], \"scatterternary\": [{\"marker\": {\"colorbar\": {\"outlinewidth\": 0, \"ticks\": \"\"}}, \"type\": \"scatterternary\"}], \"surface\": [{\"colorbar\": {\"outlinewidth\": 0, \"ticks\": \"\"}, \"colorscale\": [[0.0, \"#0d0887\"], [0.1111111111111111, \"#46039f\"], [0.2222222222222222, \"#7201a8\"], [0.3333333333333333, \"#9c179e\"], [0.4444444444444444, \"#bd3786\"], [0.5555555555555556, \"#d8576b\"], [0.6666666666666666, \"#ed7953\"], [0.7777777777777778, \"#fb9f3a\"], [0.8888888888888888, \"#fdca26\"], [1.0, \"#f0f921\"]], \"type\": \"surface\"}], \"table\": [{\"cells\": {\"fill\": {\"color\": \"#EBF0F8\"}, \"line\": {\"color\": \"white\"}}, \"header\": {\"fill\": {\"color\": \"#C8D4E3\"}, \"line\": {\"color\": \"white\"}}, \"type\": \"table\"}]}, \"layout\": {\"annotationdefaults\": {\"arrowcolor\": \"#2a3f5f\", \"arrowhead\": 0, \"arrowwidth\": 1}, \"autotypenumbers\": \"strict\", \"coloraxis\": {\"colorbar\": {\"outlinewidth\": 0, \"ticks\": \"\"}}, \"colorscale\": {\"diverging\": [[0, \"#8e0152\"], [0.1, \"#c51b7d\"], [0.2, \"#de77ae\"], [0.3, \"#f1b6da\"], [0.4, \"#fde0ef\"], [0.5, \"#f7f7f7\"], [0.6, \"#e6f5d0\"], [0.7, \"#b8e186\"], [0.8, \"#7fbc41\"], [0.9, \"#4d9221\"], [1, \"#276419\"]], \"sequential\": [[0.0, \"#0d0887\"], [0.1111111111111111, \"#46039f\"], [0.2222222222222222, \"#7201a8\"], [0.3333333333333333, \"#9c179e\"], [0.4444444444444444, \"#bd3786\"], [0.5555555555555556, \"#d8576b\"], [0.6666666666666666, \"#ed7953\"], [0.7777777777777778, \"#fb9f3a\"], [0.8888888888888888, \"#fdca26\"], [1.0, \"#f0f921\"]], \"sequentialminus\": [[0.0, \"#0d0887\"], [0.1111111111111111, \"#46039f\"], [0.2222222222222222, \"#7201a8\"], [0.3333333333333333, \"#9c179e\"], [0.4444444444444444, \"#bd3786\"], [0.5555555555555556, \"#d8576b\"], [0.6666666666666666, \"#ed7953\"], [0.7777777777777778, \"#fb9f3a\"], [0.8888888888888888, \"#fdca26\"], [1.0, \"#f0f921\"]]}, \"colorway\": [\"#636efa\", \"#EF553B\", \"#00cc96\", \"#ab63fa\", \"#FFA15A\", \"#19d3f3\", \"#FF6692\", \"#B6E880\", \"#FF97FF\", \"#FECB52\"], \"font\": {\"color\": \"#2a3f5f\"}, \"geo\": {\"bgcolor\": \"white\", \"lakecolor\": \"white\", \"landcolor\": \"#E5ECF6\", \"showlakes\": true, \"showland\": true, \"subunitcolor\": \"white\"}, \"hoverlabel\": {\"align\": \"left\"}, \"hovermode\": \"closest\", \"mapbox\": {\"style\": \"light\"}, \"paper_bgcolor\": \"white\", \"plot_bgcolor\": \"#E5ECF6\", \"polar\": {\"angularaxis\": {\"gridcolor\": \"white\", \"linecolor\": \"white\", \"ticks\": \"\"}, \"bgcolor\": \"#E5ECF6\", \"radialaxis\": {\"gridcolor\": \"white\", \"linecolor\": \"white\", \"ticks\": \"\"}}, \"scene\": {\"xaxis\": {\"backgroundcolor\": \"#E5ECF6\", \"gridcolor\": \"white\", \"gridwidth\": 2, \"linecolor\": \"white\", \"showbackground\": true, \"ticks\": \"\", \"zerolinecolor\": \"white\"}, \"yaxis\": {\"backgroundcolor\": \"#E5ECF6\", \"gridcolor\": \"white\", \"gridwidth\": 2, \"linecolor\": \"white\", \"showbackground\": true, \"ticks\": \"\", \"zerolinecolor\": \"white\"}, \"zaxis\": {\"backgroundcolor\": \"#E5ECF6\", \"gridcolor\": \"white\", \"gridwidth\": 2, \"linecolor\": \"white\", \"showbackground\": true, \"ticks\": \"\", \"zerolinecolor\": \"white\"}}, \"shapedefaults\": {\"line\": {\"color\": \"#2a3f5f\"}}, \"ternary\": {\"aaxis\": {\"gridcolor\": \"white\", \"linecolor\": \"white\", \"ticks\": \"\"}, \"baxis\": {\"gridcolor\": \"white\", \"linecolor\": \"white\", \"ticks\": \"\"}, \"bgcolor\": \"#E5ECF6\", \"caxis\": {\"gridcolor\": \"white\", \"linecolor\": \"white\", \"ticks\": \"\"}}, \"title\": {\"x\": 0.05}, \"xaxis\": {\"automargin\": true, \"gridcolor\": \"white\", \"linecolor\": \"white\", \"ticks\": \"\", \"title\": {\"standoff\": 15}, \"zerolinecolor\": \"white\", \"zerolinewidth\": 2}, \"yaxis\": {\"automargin\": true, \"gridcolor\": \"white\", \"linecolor\": \"white\", \"ticks\": \"\", \"title\": {\"standoff\": 15}, \"zerolinecolor\": \"white\", \"zerolinewidth\": 2}}}, \"title\": {\"font\": {\"color\": \"#4D5663\"}}, \"xaxis\": {\"gridcolor\": \"#E1E5ED\", \"showgrid\": true, \"tickfont\": {\"color\": \"#4D5663\"}, \"title\": {\"font\": {\"color\": \"#4D5663\"}, \"text\": \"\"}, \"zerolinecolor\": \"#E1E5ED\"}, \"yaxis\": {\"gridcolor\": \"#E1E5ED\", \"showgrid\": true, \"tickfont\": {\"color\": \"#4D5663\"}, \"title\": {\"font\": {\"color\": \"#4D5663\"}, \"text\": \"\"}, \"zerolinecolor\": \"#E1E5ED\"}},                        {\"showLink\": true, \"linkText\": \"Export to plot.ly\", \"plotlyServerURL\": \"https://plot.ly\", \"responsive\": true}                    ).then(function(){\n",
       "                            \n",
       "var gd = document.getElementById('305dd2b3-624f-4039-99b9-60577f23ec77');\n",
       "var x = new MutationObserver(function (mutations, observer) {{\n",
       "        var display = window.getComputedStyle(gd).display;\n",
       "        if (!display || display === 'none') {{\n",
       "            console.log([gd, 'removed!']);\n",
       "            Plotly.purge(gd);\n",
       "            observer.disconnect();\n",
       "        }}\n",
       "}});\n",
       "\n",
       "// Listen for the removal of the full notebook cells\n",
       "var notebookContainer = gd.closest('#notebook-container');\n",
       "if (notebookContainer) {{\n",
       "    x.observe(notebookContainer, {childList: true});\n",
       "}}\n",
       "\n",
       "// Listen for the clearing of the current output cell\n",
       "var outputEl = gd.closest('.output');\n",
       "if (outputEl) {{\n",
       "    x.observe(outputEl, {childList: true});\n",
       "}}\n",
       "\n",
       "                        })                };                });            </script>        </div>"
      ]
     },
     "metadata": {},
     "output_type": "display_data"
    }
   ],
   "source": [
    "df3 = pd.DataFrame({'x':[1,2,3,4,5],'y':[10,20,30,20,10],'z':[5,4,3,2,1]})\n",
    "df3.iplot(kind='surface',colorscale='rdylbu')"
   ]
  },
  {
   "cell_type": "markdown",
   "id": "1596e172",
   "metadata": {},
   "source": [
    "### Spread"
   ]
  },
  {
   "cell_type": "code",
   "execution_count": 46,
   "id": "ef897b5f",
   "metadata": {},
   "outputs": [
    {
     "name": "stderr",
     "output_type": "stream",
     "text": [
      "/Users/mahaoxi/opt/anaconda3/lib/python3.7/site-packages/cufflinks/plotlytools.py:849: FutureWarning:\n",
      "\n",
      "The pandas.np module is deprecated and will be removed from pandas in a future version. Import numpy directly instead\n",
      "\n",
      "/Users/mahaoxi/opt/anaconda3/lib/python3.7/site-packages/cufflinks/plotlytools.py:850: FutureWarning:\n",
      "\n",
      "The pandas.np module is deprecated and will be removed from pandas in a future version. Import numpy directly instead\n",
      "\n"
     ]
    },
    {
     "data": {
      "application/vnd.plotly.v1+json": {
       "config": {
        "linkText": "Export to plot.ly",
        "plotlyServerURL": "https://plot.ly",
        "showLink": true
       },
       "data": [
        {
         "line": {
          "color": "rgba(255, 153, 51, 1.0)",
          "dash": "solid",
          "shape": "linear",
          "width": 1.3
         },
         "mode": "lines",
         "name": "A",
         "text": "",
         "type": "scatter",
         "x": [
          0,
          1,
          2,
          3,
          4,
          5,
          6,
          7,
          8,
          9,
          10,
          11,
          12,
          13,
          14,
          15,
          16,
          17,
          18,
          19,
          20,
          21,
          22,
          23,
          24,
          25,
          26,
          27,
          28,
          29,
          30,
          31,
          32,
          33,
          34,
          35,
          36,
          37,
          38,
          39,
          40,
          41,
          42,
          43,
          44,
          45,
          46,
          47,
          48,
          49,
          50,
          51,
          52,
          53,
          54,
          55,
          56,
          57,
          58,
          59,
          60,
          61,
          62,
          63,
          64,
          65,
          66,
          67,
          68,
          69,
          70,
          71,
          72,
          73,
          74,
          75,
          76,
          77,
          78,
          79,
          80,
          81,
          82,
          83,
          84,
          85,
          86,
          87,
          88,
          89,
          90,
          91,
          92,
          93,
          94,
          95,
          96,
          97,
          98,
          99
         ],
         "y": [
          0.4915889810451373,
          -0.502709032241364,
          -0.439660809274218,
          1.566586675251845,
          -0.6212578026798677,
          1.7776557644067656,
          0.8661298023840379,
          1.2706349857331831,
          1.1829527406936695,
          0.07381149895472465,
          0.4303466828369726,
          -0.9575027737008519,
          0.2448911967693874,
          0.04189873427502208,
          1.5647741213386723,
          0.5650390866380348,
          -0.4822423308956621,
          0.2877232264192255,
          1.2382658662292958,
          -0.703889579568911,
          -1.567758920770038,
          -0.02647700663406622,
          1.2742432983560472,
          0.24568074637287884,
          0.4093554625129669,
          -1.7037611549524168,
          0.3028826118549479,
          -1.3329700018952149,
          -2.3191071798134724,
          -0.4715275828898805,
          0.23336255517782983,
          -0.16015327795991532,
          -0.1009133565791417,
          -2.81926838345229,
          1.3654859862689102,
          0.4321785438498271,
          -0.8530812976871149,
          2.205208780788037,
          -1.036426166029101,
          -0.6148016609313836,
          -0.7804903323450012,
          0.31695605069133637,
          -0.36415029682631717,
          -0.11756535392984228,
          0.5012484638145545,
          0.14568939028348707,
          0.2748279734808271,
          -0.6781935523155721,
          0.2655237481306271,
          0.284077559638565,
          -1.7740915834552073,
          -1.2707521382258211,
          0.8654799498531212,
          0.531975731840595,
          -1.008064431305186,
          -1.047052004852239,
          0.15693951402710357,
          -0.061888674539695335,
          1.1472568799088285,
          -1.8232049204956886,
          -0.5088215335086028,
          0.8018888434820789,
          -1.193138125172003,
          1.1508657000784246,
          0.6197120558756081,
          -0.6717131229802509,
          -2.0860401916618696,
          -0.57342915056639,
          0.5374995212581878,
          -0.5328685673770484,
          -0.23785068830163442,
          0.45164324959069013,
          -0.01937340009535,
          0.11477937112607209,
          -0.14076154255896042,
          -0.13988385748639753,
          -0.7696645921042117,
          -0.18421016746021568,
          -0.21423330761126352,
          -0.00734890959141541,
          1.1328213530939724,
          -1.4287156552765827,
          -0.5516144642840903,
          -0.7931343423812411,
          0.5006083393739946,
          -0.0045120609205573795,
          0.05501801382379699,
          0.9560982713007699,
          1.179495400187467,
          -0.6439271361193529,
          -1.3620561504842512,
          1.6783810359332907,
          0.17790555885956716,
          -0.5337727464325431,
          0.529490162805114,
          -0.7710447878576198,
          -0.21522348807762237,
          0.2872358861077521,
          0.7924763496804115,
          -0.16831977505258977
         ]
        },
        {
         "line": {
          "color": "rgba(55, 128, 191, 1.0)",
          "dash": "solid",
          "shape": "linear",
          "width": 1.3
         },
         "mode": "lines",
         "name": "B",
         "text": "",
         "type": "scatter",
         "x": [
          0,
          1,
          2,
          3,
          4,
          5,
          6,
          7,
          8,
          9,
          10,
          11,
          12,
          13,
          14,
          15,
          16,
          17,
          18,
          19,
          20,
          21,
          22,
          23,
          24,
          25,
          26,
          27,
          28,
          29,
          30,
          31,
          32,
          33,
          34,
          35,
          36,
          37,
          38,
          39,
          40,
          41,
          42,
          43,
          44,
          45,
          46,
          47,
          48,
          49,
          50,
          51,
          52,
          53,
          54,
          55,
          56,
          57,
          58,
          59,
          60,
          61,
          62,
          63,
          64,
          65,
          66,
          67,
          68,
          69,
          70,
          71,
          72,
          73,
          74,
          75,
          76,
          77,
          78,
          79,
          80,
          81,
          82,
          83,
          84,
          85,
          86,
          87,
          88,
          89,
          90,
          91,
          92,
          93,
          94,
          95,
          96,
          97,
          98,
          99
         ],
         "y": [
          -1.3275926421452904,
          -0.936339741020361,
          -0.13647734868874586,
          -2.2240640578978677,
          1.7394620755462407,
          -0.9836121549376742,
          0.34626738417910974,
          1.2047434241013317,
          1.40716285017813,
          1.607297362862324,
          1.1471127354058306,
          -1.0290993380333546,
          0.3382366893151083,
          1.2171761981322033,
          -2.098208032554198,
          0.6029330801302344,
          0.7289001703024334,
          -0.9748621397718429,
          -1.1333611351564175,
          -0.6438327393385788,
          -0.05736388655202392,
          0.8174149798334428,
          0.38307197322024256,
          -0.33450585472427186,
          -0.3208347691514773,
          1.1646184189868694,
          0.5472252231873067,
          0.18021263465929316,
          -1.4688972064557497,
          -0.007503782506332852,
          0.3921883000604201,
          -1.3139502090164275,
          1.048607779460764,
          0.39367903297019263,
          -0.009051504564113558,
          -1.901214271538554,
          -0.5171755167242869,
          0.9229573561035125,
          0.21267983927716877,
          -0.4370929342827836,
          0.2283932101125965,
          1.2176223801186772,
          -1.2090570542595627,
          2.5505564530909055,
          -0.6075715148722199,
          0.19176390475104416,
          0.769852942774043,
          0.7882324532714438,
          -1.3143619973703013,
          0.42644098330579333,
          -1.711462519248761,
          -0.16901255652128294,
          0.0532722679248608,
          -1.4604290285910726,
          -0.36053699012217083,
          0.5088195386777494,
          0.25542311236157367,
          -0.11186811351887037,
          0.5405878809143965,
          -0.04386982384945076,
          -0.16917336542894204,
          0.6633191366843727,
          -0.4989147864827021,
          0.1560136225260184,
          0.05272802990970662,
          -1.850465429629844,
          1.3834059410341466,
          -0.9218299190591187,
          -0.6063394567698026,
          -1.1886063318225617,
          0.10019920073973819,
          -0.2595092728091105,
          2.2190005527839,
          0.7659999908718104,
          -0.560468590169831,
          -1.8182133054973348,
          -0.11258377212132896,
          0.538066045580072,
          -0.4241680278188642,
          1.1654127387433164,
          -1.1549015772976388,
          0.69925676362351,
          -0.9108643560764622,
          -0.24661187787572553,
          -0.934632536808109,
          -0.2714279182553495,
          0.16631843471957616,
          0.31353363861918293,
          -0.9107335599140366,
          -0.25980191444427614,
          0.4628327390827214,
          -1.0223280885294475,
          -0.11416392676936336,
          0.0005269853392635756,
          0.6425260963846305,
          0.7306111095911784,
          -0.4308391283122783,
          0.821522465586635,
          -0.7522745648552567,
          -1.299678462575494
         ]
        },
        {
         "connectgaps": false,
         "fill": "tozeroy",
         "line": {
          "color": "green",
          "dash": "solid",
          "shape": "linear",
          "width": 0.5
         },
         "mode": "lines",
         "name": "Spread",
         "showlegend": false,
         "type": "scatter",
         "x": [
          0,
          1,
          2,
          3,
          4,
          5,
          6,
          7,
          8,
          9,
          10,
          11,
          12,
          13,
          14,
          15,
          16,
          17,
          18,
          19,
          20,
          21,
          22,
          23,
          24,
          25,
          26,
          27,
          28,
          29,
          30,
          31,
          32,
          33,
          34,
          35,
          36,
          37,
          38,
          39,
          40,
          41,
          42,
          43,
          44,
          45,
          46,
          47,
          48,
          49,
          50,
          51,
          52,
          53,
          54,
          55,
          56,
          57,
          58,
          59,
          60,
          61,
          62,
          63,
          64,
          65,
          66,
          67,
          68,
          69,
          70,
          71,
          72,
          73,
          74,
          75,
          76,
          77,
          78,
          79,
          80,
          81,
          82,
          83,
          84,
          85,
          86,
          87,
          88,
          89,
          90,
          91,
          92,
          93,
          94,
          95,
          96,
          97,
          98,
          99
         ],
         "xaxis": "x2",
         "y": [
          1.8191816231904276,
          0.433630708778997,
          "",
          3.790650733149713,
          "",
          2.76126791934444,
          0.5198624182049282,
          0.06589156163185139,
          "",
          "",
          "",
          0.07159656433250272,
          "",
          "",
          3.6629821538928704,
          "",
          "",
          1.2625853661910684,
          2.371627001385713,
          "",
          "",
          "",
          0.8911713251358047,
          0.5801866010971507,
          0.7301902316644442,
          "",
          "",
          "",
          "",
          "",
          "",
          1.1537969310565122,
          "",
          "",
          1.3745374908330237,
          2.333392815388381,
          "",
          1.2822514246845247,
          "",
          "",
          "",
          "",
          0.8449067574332455,
          "",
          1.1088199786867743,
          "",
          "",
          "",
          1.5798857455009285,
          "",
          "",
          "",
          0.8122076819282603,
          1.9924047604316675,
          "",
          "",
          "",
          0.049979438979175034,
          0.606668998994432,
          "",
          "",
          0.1385697067977062,
          "",
          0.9948520775524062,
          0.5669840259659015,
          1.178752306649593,
          "",
          0.3484007684927287,
          1.1438389780279903,
          0.6557377644455133,
          "",
          0.7111525223998006,
          "",
          "",
          0.4197070476108705,
          1.6783294480109374,
          "",
          "",
          0.20993472020760068,
          "",
          2.2877229303916113,
          "",
          0.3592498917923719,
          "",
          1.4352408761821036,
          0.2669158573347921,
          "",
          0.6425646326815869,
          2.0902289601015034,
          "",
          "",
          2.700709124462738,
          0.29206948562893054,
          "",
          "",
          "",
          0.2156156402346559,
          "",
          1.5447509145356682,
          1.1313586875229042
         ],
         "yaxis": "y2"
        },
        {
         "connectgaps": false,
         "fill": "tozeroy",
         "line": {
          "color": "red",
          "dash": "solid",
          "shape": "linear",
          "width": 0.5
         },
         "mode": "lines",
         "name": "Spread",
         "showlegend": false,
         "type": "scatter",
         "x": [
          0,
          1,
          2,
          3,
          4,
          5,
          6,
          7,
          8,
          9,
          10,
          11,
          12,
          13,
          14,
          15,
          16,
          17,
          18,
          19,
          20,
          21,
          22,
          23,
          24,
          25,
          26,
          27,
          28,
          29,
          30,
          31,
          32,
          33,
          34,
          35,
          36,
          37,
          38,
          39,
          40,
          41,
          42,
          43,
          44,
          45,
          46,
          47,
          48,
          49,
          50,
          51,
          52,
          53,
          54,
          55,
          56,
          57,
          58,
          59,
          60,
          61,
          62,
          63,
          64,
          65,
          66,
          67,
          68,
          69,
          70,
          71,
          72,
          73,
          74,
          75,
          76,
          77,
          78,
          79,
          80,
          81,
          82,
          83,
          84,
          85,
          86,
          87,
          88,
          89,
          90,
          91,
          92,
          93,
          94,
          95,
          96,
          97,
          98,
          99
         ],
         "xaxis": "x2",
         "y": [
          "",
          "",
          -0.3031834605854722,
          "",
          -2.3607198782261083,
          "",
          "",
          "",
          -0.2242101094844604,
          -1.5334858639075992,
          -0.716766052568858,
          "",
          -0.09334549254572092,
          -1.1752774638571812,
          "",
          -0.037893993492199574,
          -1.2111425011980954,
          "",
          "",
          -0.0600568402303322,
          -1.5103950342180141,
          -0.8438919864675091,
          "",
          "",
          "",
          -2.8683795739392863,
          -0.2443426113323588,
          -1.513182636554508,
          -0.8502099733577226,
          -0.4640238003835476,
          -0.15882574488259027,
          "",
          -1.1495211360399058,
          -3.2129474164224825,
          "",
          "",
          -0.3359057809628281,
          "",
          -1.2491060053062697,
          -0.17770872664859994,
          -1.0088835424575977,
          -0.9006663294273408,
          "",
          -2.6681218070207477,
          "",
          -0.04607451446755709,
          -0.49502496929321593,
          -1.466426005587016,
          "",
          -0.14236342366722832,
          -0.06262906420644643,
          -1.1017395817045381,
          "",
          "",
          -0.6475274411830152,
          -1.5558715435299884,
          -0.0984835983344701,
          "",
          "",
          -1.7793350966462378,
          -0.3396481680796608,
          "",
          -0.6942233386893009,
          "",
          "",
          "",
          -3.4694461326960164,
          "",
          "",
          "",
          -0.3380498890413726,
          "",
          -2.23837395287925,
          -0.6512206197457383,
          "",
          "",
          -0.6570808199828827,
          -0.7222762130402877,
          "",
          -1.1727616483347318,
          "",
          -2.1279724189000926,
          "",
          -0.5465224645055156,
          "",
          "",
          -0.11130042089577917,
          "",
          "",
          -0.3841252216750768,
          -1.8248888895669726,
          "",
          "",
          -0.5342997317718067,
          -0.11303593357951658,
          -1.5016558974487981,
          "",
          -0.5342865794788829,
          "",
          ""
         ],
         "yaxis": "y2"
        }
       ],
       "layout": {
        "hovermode": "x",
        "legend": {
         "bgcolor": "#F5F6F9",
         "font": {
          "color": "#4D5663"
         }
        },
        "paper_bgcolor": "#F5F6F9",
        "plot_bgcolor": "#F5F6F9",
        "template": {
         "data": {
          "bar": [
           {
            "error_x": {
             "color": "#2a3f5f"
            },
            "error_y": {
             "color": "#2a3f5f"
            },
            "marker": {
             "line": {
              "color": "#E5ECF6",
              "width": 0.5
             }
            },
            "type": "bar"
           }
          ],
          "barpolar": [
           {
            "marker": {
             "line": {
              "color": "#E5ECF6",
              "width": 0.5
             }
            },
            "type": "barpolar"
           }
          ],
          "carpet": [
           {
            "aaxis": {
             "endlinecolor": "#2a3f5f",
             "gridcolor": "white",
             "linecolor": "white",
             "minorgridcolor": "white",
             "startlinecolor": "#2a3f5f"
            },
            "baxis": {
             "endlinecolor": "#2a3f5f",
             "gridcolor": "white",
             "linecolor": "white",
             "minorgridcolor": "white",
             "startlinecolor": "#2a3f5f"
            },
            "type": "carpet"
           }
          ],
          "choropleth": [
           {
            "colorbar": {
             "outlinewidth": 0,
             "ticks": ""
            },
            "type": "choropleth"
           }
          ],
          "contour": [
           {
            "colorbar": {
             "outlinewidth": 0,
             "ticks": ""
            },
            "colorscale": [
             [
              0,
              "#0d0887"
             ],
             [
              0.1111111111111111,
              "#46039f"
             ],
             [
              0.2222222222222222,
              "#7201a8"
             ],
             [
              0.3333333333333333,
              "#9c179e"
             ],
             [
              0.4444444444444444,
              "#bd3786"
             ],
             [
              0.5555555555555556,
              "#d8576b"
             ],
             [
              0.6666666666666666,
              "#ed7953"
             ],
             [
              0.7777777777777778,
              "#fb9f3a"
             ],
             [
              0.8888888888888888,
              "#fdca26"
             ],
             [
              1,
              "#f0f921"
             ]
            ],
            "type": "contour"
           }
          ],
          "contourcarpet": [
           {
            "colorbar": {
             "outlinewidth": 0,
             "ticks": ""
            },
            "type": "contourcarpet"
           }
          ],
          "heatmap": [
           {
            "colorbar": {
             "outlinewidth": 0,
             "ticks": ""
            },
            "colorscale": [
             [
              0,
              "#0d0887"
             ],
             [
              0.1111111111111111,
              "#46039f"
             ],
             [
              0.2222222222222222,
              "#7201a8"
             ],
             [
              0.3333333333333333,
              "#9c179e"
             ],
             [
              0.4444444444444444,
              "#bd3786"
             ],
             [
              0.5555555555555556,
              "#d8576b"
             ],
             [
              0.6666666666666666,
              "#ed7953"
             ],
             [
              0.7777777777777778,
              "#fb9f3a"
             ],
             [
              0.8888888888888888,
              "#fdca26"
             ],
             [
              1,
              "#f0f921"
             ]
            ],
            "type": "heatmap"
           }
          ],
          "heatmapgl": [
           {
            "colorbar": {
             "outlinewidth": 0,
             "ticks": ""
            },
            "colorscale": [
             [
              0,
              "#0d0887"
             ],
             [
              0.1111111111111111,
              "#46039f"
             ],
             [
              0.2222222222222222,
              "#7201a8"
             ],
             [
              0.3333333333333333,
              "#9c179e"
             ],
             [
              0.4444444444444444,
              "#bd3786"
             ],
             [
              0.5555555555555556,
              "#d8576b"
             ],
             [
              0.6666666666666666,
              "#ed7953"
             ],
             [
              0.7777777777777778,
              "#fb9f3a"
             ],
             [
              0.8888888888888888,
              "#fdca26"
             ],
             [
              1,
              "#f0f921"
             ]
            ],
            "type": "heatmapgl"
           }
          ],
          "histogram": [
           {
            "marker": {
             "colorbar": {
              "outlinewidth": 0,
              "ticks": ""
             }
            },
            "type": "histogram"
           }
          ],
          "histogram2d": [
           {
            "colorbar": {
             "outlinewidth": 0,
             "ticks": ""
            },
            "colorscale": [
             [
              0,
              "#0d0887"
             ],
             [
              0.1111111111111111,
              "#46039f"
             ],
             [
              0.2222222222222222,
              "#7201a8"
             ],
             [
              0.3333333333333333,
              "#9c179e"
             ],
             [
              0.4444444444444444,
              "#bd3786"
             ],
             [
              0.5555555555555556,
              "#d8576b"
             ],
             [
              0.6666666666666666,
              "#ed7953"
             ],
             [
              0.7777777777777778,
              "#fb9f3a"
             ],
             [
              0.8888888888888888,
              "#fdca26"
             ],
             [
              1,
              "#f0f921"
             ]
            ],
            "type": "histogram2d"
           }
          ],
          "histogram2dcontour": [
           {
            "colorbar": {
             "outlinewidth": 0,
             "ticks": ""
            },
            "colorscale": [
             [
              0,
              "#0d0887"
             ],
             [
              0.1111111111111111,
              "#46039f"
             ],
             [
              0.2222222222222222,
              "#7201a8"
             ],
             [
              0.3333333333333333,
              "#9c179e"
             ],
             [
              0.4444444444444444,
              "#bd3786"
             ],
             [
              0.5555555555555556,
              "#d8576b"
             ],
             [
              0.6666666666666666,
              "#ed7953"
             ],
             [
              0.7777777777777778,
              "#fb9f3a"
             ],
             [
              0.8888888888888888,
              "#fdca26"
             ],
             [
              1,
              "#f0f921"
             ]
            ],
            "type": "histogram2dcontour"
           }
          ],
          "mesh3d": [
           {
            "colorbar": {
             "outlinewidth": 0,
             "ticks": ""
            },
            "type": "mesh3d"
           }
          ],
          "parcoords": [
           {
            "line": {
             "colorbar": {
              "outlinewidth": 0,
              "ticks": ""
             }
            },
            "type": "parcoords"
           }
          ],
          "pie": [
           {
            "automargin": true,
            "type": "pie"
           }
          ],
          "scatter": [
           {
            "marker": {
             "colorbar": {
              "outlinewidth": 0,
              "ticks": ""
             }
            },
            "type": "scatter"
           }
          ],
          "scatter3d": [
           {
            "line": {
             "colorbar": {
              "outlinewidth": 0,
              "ticks": ""
             }
            },
            "marker": {
             "colorbar": {
              "outlinewidth": 0,
              "ticks": ""
             }
            },
            "type": "scatter3d"
           }
          ],
          "scattercarpet": [
           {
            "marker": {
             "colorbar": {
              "outlinewidth": 0,
              "ticks": ""
             }
            },
            "type": "scattercarpet"
           }
          ],
          "scattergeo": [
           {
            "marker": {
             "colorbar": {
              "outlinewidth": 0,
              "ticks": ""
             }
            },
            "type": "scattergeo"
           }
          ],
          "scattergl": [
           {
            "marker": {
             "colorbar": {
              "outlinewidth": 0,
              "ticks": ""
             }
            },
            "type": "scattergl"
           }
          ],
          "scattermapbox": [
           {
            "marker": {
             "colorbar": {
              "outlinewidth": 0,
              "ticks": ""
             }
            },
            "type": "scattermapbox"
           }
          ],
          "scatterpolar": [
           {
            "marker": {
             "colorbar": {
              "outlinewidth": 0,
              "ticks": ""
             }
            },
            "type": "scatterpolar"
           }
          ],
          "scatterpolargl": [
           {
            "marker": {
             "colorbar": {
              "outlinewidth": 0,
              "ticks": ""
             }
            },
            "type": "scatterpolargl"
           }
          ],
          "scatterternary": [
           {
            "marker": {
             "colorbar": {
              "outlinewidth": 0,
              "ticks": ""
             }
            },
            "type": "scatterternary"
           }
          ],
          "surface": [
           {
            "colorbar": {
             "outlinewidth": 0,
             "ticks": ""
            },
            "colorscale": [
             [
              0,
              "#0d0887"
             ],
             [
              0.1111111111111111,
              "#46039f"
             ],
             [
              0.2222222222222222,
              "#7201a8"
             ],
             [
              0.3333333333333333,
              "#9c179e"
             ],
             [
              0.4444444444444444,
              "#bd3786"
             ],
             [
              0.5555555555555556,
              "#d8576b"
             ],
             [
              0.6666666666666666,
              "#ed7953"
             ],
             [
              0.7777777777777778,
              "#fb9f3a"
             ],
             [
              0.8888888888888888,
              "#fdca26"
             ],
             [
              1,
              "#f0f921"
             ]
            ],
            "type": "surface"
           }
          ],
          "table": [
           {
            "cells": {
             "fill": {
              "color": "#EBF0F8"
             },
             "line": {
              "color": "white"
             }
            },
            "header": {
             "fill": {
              "color": "#C8D4E3"
             },
             "line": {
              "color": "white"
             }
            },
            "type": "table"
           }
          ]
         },
         "layout": {
          "annotationdefaults": {
           "arrowcolor": "#2a3f5f",
           "arrowhead": 0,
           "arrowwidth": 1
          },
          "autotypenumbers": "strict",
          "coloraxis": {
           "colorbar": {
            "outlinewidth": 0,
            "ticks": ""
           }
          },
          "colorscale": {
           "diverging": [
            [
             0,
             "#8e0152"
            ],
            [
             0.1,
             "#c51b7d"
            ],
            [
             0.2,
             "#de77ae"
            ],
            [
             0.3,
             "#f1b6da"
            ],
            [
             0.4,
             "#fde0ef"
            ],
            [
             0.5,
             "#f7f7f7"
            ],
            [
             0.6,
             "#e6f5d0"
            ],
            [
             0.7,
             "#b8e186"
            ],
            [
             0.8,
             "#7fbc41"
            ],
            [
             0.9,
             "#4d9221"
            ],
            [
             1,
             "#276419"
            ]
           ],
           "sequential": [
            [
             0,
             "#0d0887"
            ],
            [
             0.1111111111111111,
             "#46039f"
            ],
            [
             0.2222222222222222,
             "#7201a8"
            ],
            [
             0.3333333333333333,
             "#9c179e"
            ],
            [
             0.4444444444444444,
             "#bd3786"
            ],
            [
             0.5555555555555556,
             "#d8576b"
            ],
            [
             0.6666666666666666,
             "#ed7953"
            ],
            [
             0.7777777777777778,
             "#fb9f3a"
            ],
            [
             0.8888888888888888,
             "#fdca26"
            ],
            [
             1,
             "#f0f921"
            ]
           ],
           "sequentialminus": [
            [
             0,
             "#0d0887"
            ],
            [
             0.1111111111111111,
             "#46039f"
            ],
            [
             0.2222222222222222,
             "#7201a8"
            ],
            [
             0.3333333333333333,
             "#9c179e"
            ],
            [
             0.4444444444444444,
             "#bd3786"
            ],
            [
             0.5555555555555556,
             "#d8576b"
            ],
            [
             0.6666666666666666,
             "#ed7953"
            ],
            [
             0.7777777777777778,
             "#fb9f3a"
            ],
            [
             0.8888888888888888,
             "#fdca26"
            ],
            [
             1,
             "#f0f921"
            ]
           ]
          },
          "colorway": [
           "#636efa",
           "#EF553B",
           "#00cc96",
           "#ab63fa",
           "#FFA15A",
           "#19d3f3",
           "#FF6692",
           "#B6E880",
           "#FF97FF",
           "#FECB52"
          ],
          "font": {
           "color": "#2a3f5f"
          },
          "geo": {
           "bgcolor": "white",
           "lakecolor": "white",
           "landcolor": "#E5ECF6",
           "showlakes": true,
           "showland": true,
           "subunitcolor": "white"
          },
          "hoverlabel": {
           "align": "left"
          },
          "hovermode": "closest",
          "mapbox": {
           "style": "light"
          },
          "paper_bgcolor": "white",
          "plot_bgcolor": "#E5ECF6",
          "polar": {
           "angularaxis": {
            "gridcolor": "white",
            "linecolor": "white",
            "ticks": ""
           },
           "bgcolor": "#E5ECF6",
           "radialaxis": {
            "gridcolor": "white",
            "linecolor": "white",
            "ticks": ""
           }
          },
          "scene": {
           "xaxis": {
            "backgroundcolor": "#E5ECF6",
            "gridcolor": "white",
            "gridwidth": 2,
            "linecolor": "white",
            "showbackground": true,
            "ticks": "",
            "zerolinecolor": "white"
           },
           "yaxis": {
            "backgroundcolor": "#E5ECF6",
            "gridcolor": "white",
            "gridwidth": 2,
            "linecolor": "white",
            "showbackground": true,
            "ticks": "",
            "zerolinecolor": "white"
           },
           "zaxis": {
            "backgroundcolor": "#E5ECF6",
            "gridcolor": "white",
            "gridwidth": 2,
            "linecolor": "white",
            "showbackground": true,
            "ticks": "",
            "zerolinecolor": "white"
           }
          },
          "shapedefaults": {
           "line": {
            "color": "#2a3f5f"
           }
          },
          "ternary": {
           "aaxis": {
            "gridcolor": "white",
            "linecolor": "white",
            "ticks": ""
           },
           "baxis": {
            "gridcolor": "white",
            "linecolor": "white",
            "ticks": ""
           },
           "bgcolor": "#E5ECF6",
           "caxis": {
            "gridcolor": "white",
            "linecolor": "white",
            "ticks": ""
           }
          },
          "title": {
           "x": 0.05
          },
          "xaxis": {
           "automargin": true,
           "gridcolor": "white",
           "linecolor": "white",
           "ticks": "",
           "title": {
            "standoff": 15
           },
           "zerolinecolor": "white",
           "zerolinewidth": 2
          },
          "yaxis": {
           "automargin": true,
           "gridcolor": "white",
           "linecolor": "white",
           "ticks": "",
           "title": {
            "standoff": 15
           },
           "zerolinecolor": "white",
           "zerolinewidth": 2
          }
         }
        },
        "title": {
         "font": {
          "color": "#4D5663"
         }
        },
        "xaxis": {
         "gridcolor": "#E1E5ED",
         "showgrid": true,
         "tickfont": {
          "color": "#4D5663"
         },
         "title": {
          "font": {
           "color": "#4D5663"
          },
          "text": ""
         },
         "zerolinecolor": "#E1E5ED"
        },
        "xaxis2": {
         "anchor": "y2",
         "gridcolor": "#E1E5ED",
         "showgrid": true,
         "showticklabels": false,
         "tickfont": {
          "color": "#4D5663"
         },
         "title": {
          "font": {
           "color": "#4D5663"
          },
          "text": ""
         },
         "zerolinecolor": "#E1E5ED"
        },
        "yaxis": {
         "domain": [
          0.3,
          1
         ],
         "gridcolor": "#E1E5ED",
         "showgrid": true,
         "tickfont": {
          "color": "#4D5663"
         },
         "title": {
          "font": {
           "color": "#4D5663"
          },
          "text": ""
         },
         "zerolinecolor": "#E1E5ED"
        },
        "yaxis2": {
         "domain": [
          0,
          0.25
         ],
         "gridcolor": "#E1E5ED",
         "showgrid": true,
         "tickfont": {
          "color": "#4D5663"
         },
         "title": {
          "font": {
           "color": "#4D5663"
          },
          "text": "Spread"
         },
         "zerolinecolor": "#E1E5ED"
        }
       }
      },
      "text/html": [
       "<div>                            <div id=\"753c0adf-661a-4f1a-9023-cd34f1cc6069\" class=\"plotly-graph-div\" style=\"height:525px; width:100%;\"></div>            <script type=\"text/javascript\">                require([\"plotly\"], function(Plotly) {                    window.PLOTLYENV=window.PLOTLYENV || {};\n",
       "                    window.PLOTLYENV.BASE_URL='https://plot.ly';                                    if (document.getElementById(\"753c0adf-661a-4f1a-9023-cd34f1cc6069\")) {                    Plotly.newPlot(                        \"753c0adf-661a-4f1a-9023-cd34f1cc6069\",                        [{\"line\": {\"color\": \"rgba(255, 153, 51, 1.0)\", \"dash\": \"solid\", \"shape\": \"linear\", \"width\": 1.3}, \"mode\": \"lines\", \"name\": \"A\", \"text\": \"\", \"type\": \"scatter\", \"x\": [0, 1, 2, 3, 4, 5, 6, 7, 8, 9, 10, 11, 12, 13, 14, 15, 16, 17, 18, 19, 20, 21, 22, 23, 24, 25, 26, 27, 28, 29, 30, 31, 32, 33, 34, 35, 36, 37, 38, 39, 40, 41, 42, 43, 44, 45, 46, 47, 48, 49, 50, 51, 52, 53, 54, 55, 56, 57, 58, 59, 60, 61, 62, 63, 64, 65, 66, 67, 68, 69, 70, 71, 72, 73, 74, 75, 76, 77, 78, 79, 80, 81, 82, 83, 84, 85, 86, 87, 88, 89, 90, 91, 92, 93, 94, 95, 96, 97, 98, 99], \"y\": [0.4915889810451373, -0.502709032241364, -0.439660809274218, 1.566586675251845, -0.6212578026798677, 1.7776557644067656, 0.8661298023840379, 1.2706349857331831, 1.1829527406936695, 0.07381149895472465, 0.4303466828369726, -0.9575027737008519, 0.2448911967693874, 0.04189873427502208, 1.5647741213386723, 0.5650390866380348, -0.4822423308956621, 0.2877232264192255, 1.2382658662292958, -0.703889579568911, -1.567758920770038, -0.02647700663406622, 1.2742432983560472, 0.24568074637287884, 0.4093554625129669, -1.7037611549524168, 0.3028826118549479, -1.3329700018952149, -2.3191071798134724, -0.4715275828898805, 0.23336255517782983, -0.16015327795991532, -0.1009133565791417, -2.81926838345229, 1.3654859862689102, 0.4321785438498271, -0.8530812976871149, 2.205208780788037, -1.036426166029101, -0.6148016609313836, -0.7804903323450012, 0.31695605069133637, -0.36415029682631717, -0.11756535392984228, 0.5012484638145545, 0.14568939028348707, 0.2748279734808271, -0.6781935523155721, 0.2655237481306271, 0.284077559638565, -1.7740915834552073, -1.2707521382258211, 0.8654799498531212, 0.531975731840595, -1.008064431305186, -1.047052004852239, 0.15693951402710357, -0.061888674539695335, 1.1472568799088285, -1.8232049204956886, -0.5088215335086028, 0.8018888434820789, -1.193138125172003, 1.1508657000784246, 0.6197120558756081, -0.6717131229802509, -2.0860401916618696, -0.57342915056639, 0.5374995212581878, -0.5328685673770484, -0.23785068830163442, 0.45164324959069013, -0.01937340009535, 0.11477937112607209, -0.14076154255896042, -0.13988385748639753, -0.7696645921042117, -0.18421016746021568, -0.21423330761126352, -0.00734890959141541, 1.1328213530939724, -1.4287156552765827, -0.5516144642840903, -0.7931343423812411, 0.5006083393739946, -0.0045120609205573795, 0.05501801382379699, 0.9560982713007699, 1.179495400187467, -0.6439271361193529, -1.3620561504842512, 1.6783810359332907, 0.17790555885956716, -0.5337727464325431, 0.529490162805114, -0.7710447878576198, -0.21522348807762237, 0.2872358861077521, 0.7924763496804115, -0.16831977505258977]}, {\"line\": {\"color\": \"rgba(55, 128, 191, 1.0)\", \"dash\": \"solid\", \"shape\": \"linear\", \"width\": 1.3}, \"mode\": \"lines\", \"name\": \"B\", \"text\": \"\", \"type\": \"scatter\", \"x\": [0, 1, 2, 3, 4, 5, 6, 7, 8, 9, 10, 11, 12, 13, 14, 15, 16, 17, 18, 19, 20, 21, 22, 23, 24, 25, 26, 27, 28, 29, 30, 31, 32, 33, 34, 35, 36, 37, 38, 39, 40, 41, 42, 43, 44, 45, 46, 47, 48, 49, 50, 51, 52, 53, 54, 55, 56, 57, 58, 59, 60, 61, 62, 63, 64, 65, 66, 67, 68, 69, 70, 71, 72, 73, 74, 75, 76, 77, 78, 79, 80, 81, 82, 83, 84, 85, 86, 87, 88, 89, 90, 91, 92, 93, 94, 95, 96, 97, 98, 99], \"y\": [-1.3275926421452904, -0.936339741020361, -0.13647734868874586, -2.2240640578978677, 1.7394620755462407, -0.9836121549376742, 0.34626738417910974, 1.2047434241013317, 1.40716285017813, 1.607297362862324, 1.1471127354058306, -1.0290993380333546, 0.3382366893151083, 1.2171761981322033, -2.098208032554198, 0.6029330801302344, 0.7289001703024334, -0.9748621397718429, -1.1333611351564175, -0.6438327393385788, -0.05736388655202392, 0.8174149798334428, 0.38307197322024256, -0.33450585472427186, -0.3208347691514773, 1.1646184189868694, 0.5472252231873067, 0.18021263465929316, -1.4688972064557497, -0.007503782506332852, 0.3921883000604201, -1.3139502090164275, 1.048607779460764, 0.39367903297019263, -0.009051504564113558, -1.901214271538554, -0.5171755167242869, 0.9229573561035125, 0.21267983927716877, -0.4370929342827836, 0.2283932101125965, 1.2176223801186772, -1.2090570542595627, 2.5505564530909055, -0.6075715148722199, 0.19176390475104416, 0.769852942774043, 0.7882324532714438, -1.3143619973703013, 0.42644098330579333, -1.711462519248761, -0.16901255652128294, 0.0532722679248608, -1.4604290285910726, -0.36053699012217083, 0.5088195386777494, 0.25542311236157367, -0.11186811351887037, 0.5405878809143965, -0.04386982384945076, -0.16917336542894204, 0.6633191366843727, -0.4989147864827021, 0.1560136225260184, 0.05272802990970662, -1.850465429629844, 1.3834059410341466, -0.9218299190591187, -0.6063394567698026, -1.1886063318225617, 0.10019920073973819, -0.2595092728091105, 2.2190005527839, 0.7659999908718104, -0.560468590169831, -1.8182133054973348, -0.11258377212132896, 0.538066045580072, -0.4241680278188642, 1.1654127387433164, -1.1549015772976388, 0.69925676362351, -0.9108643560764622, -0.24661187787572553, -0.934632536808109, -0.2714279182553495, 0.16631843471957616, 0.31353363861918293, -0.9107335599140366, -0.25980191444427614, 0.4628327390827214, -1.0223280885294475, -0.11416392676936336, 0.0005269853392635756, 0.6425260963846305, 0.7306111095911784, -0.4308391283122783, 0.821522465586635, -0.7522745648552567, -1.299678462575494]}, {\"connectgaps\": false, \"fill\": \"tozeroy\", \"line\": {\"color\": \"green\", \"dash\": \"solid\", \"shape\": \"linear\", \"width\": 0.5}, \"mode\": \"lines\", \"name\": \"Spread\", \"showlegend\": false, \"type\": \"scatter\", \"x\": [0, 1, 2, 3, 4, 5, 6, 7, 8, 9, 10, 11, 12, 13, 14, 15, 16, 17, 18, 19, 20, 21, 22, 23, 24, 25, 26, 27, 28, 29, 30, 31, 32, 33, 34, 35, 36, 37, 38, 39, 40, 41, 42, 43, 44, 45, 46, 47, 48, 49, 50, 51, 52, 53, 54, 55, 56, 57, 58, 59, 60, 61, 62, 63, 64, 65, 66, 67, 68, 69, 70, 71, 72, 73, 74, 75, 76, 77, 78, 79, 80, 81, 82, 83, 84, 85, 86, 87, 88, 89, 90, 91, 92, 93, 94, 95, 96, 97, 98, 99], \"xaxis\": \"x2\", \"y\": [1.8191816231904276, 0.433630708778997, \"\", 3.790650733149713, \"\", 2.76126791934444, 0.5198624182049282, 0.06589156163185139, \"\", \"\", \"\", 0.07159656433250272, \"\", \"\", 3.6629821538928704, \"\", \"\", 1.2625853661910684, 2.371627001385713, \"\", \"\", \"\", 0.8911713251358047, 0.5801866010971507, 0.7301902316644442, \"\", \"\", \"\", \"\", \"\", \"\", 1.1537969310565122, \"\", \"\", 1.3745374908330237, 2.333392815388381, \"\", 1.2822514246845247, \"\", \"\", \"\", \"\", 0.8449067574332455, \"\", 1.1088199786867743, \"\", \"\", \"\", 1.5798857455009285, \"\", \"\", \"\", 0.8122076819282603, 1.9924047604316675, \"\", \"\", \"\", 0.049979438979175034, 0.606668998994432, \"\", \"\", 0.1385697067977062, \"\", 0.9948520775524062, 0.5669840259659015, 1.178752306649593, \"\", 0.3484007684927287, 1.1438389780279903, 0.6557377644455133, \"\", 0.7111525223998006, \"\", \"\", 0.4197070476108705, 1.6783294480109374, \"\", \"\", 0.20993472020760068, \"\", 2.2877229303916113, \"\", 0.3592498917923719, \"\", 1.4352408761821036, 0.2669158573347921, \"\", 0.6425646326815869, 2.0902289601015034, \"\", \"\", 2.700709124462738, 0.29206948562893054, \"\", \"\", \"\", 0.2156156402346559, \"\", 1.5447509145356682, 1.1313586875229042], \"yaxis\": \"y2\"}, {\"connectgaps\": false, \"fill\": \"tozeroy\", \"line\": {\"color\": \"red\", \"dash\": \"solid\", \"shape\": \"linear\", \"width\": 0.5}, \"mode\": \"lines\", \"name\": \"Spread\", \"showlegend\": false, \"type\": \"scatter\", \"x\": [0, 1, 2, 3, 4, 5, 6, 7, 8, 9, 10, 11, 12, 13, 14, 15, 16, 17, 18, 19, 20, 21, 22, 23, 24, 25, 26, 27, 28, 29, 30, 31, 32, 33, 34, 35, 36, 37, 38, 39, 40, 41, 42, 43, 44, 45, 46, 47, 48, 49, 50, 51, 52, 53, 54, 55, 56, 57, 58, 59, 60, 61, 62, 63, 64, 65, 66, 67, 68, 69, 70, 71, 72, 73, 74, 75, 76, 77, 78, 79, 80, 81, 82, 83, 84, 85, 86, 87, 88, 89, 90, 91, 92, 93, 94, 95, 96, 97, 98, 99], \"xaxis\": \"x2\", \"y\": [\"\", \"\", -0.3031834605854722, \"\", -2.3607198782261083, \"\", \"\", \"\", -0.2242101094844604, -1.5334858639075992, -0.716766052568858, \"\", -0.09334549254572092, -1.1752774638571812, \"\", -0.037893993492199574, -1.2111425011980954, \"\", \"\", -0.0600568402303322, -1.5103950342180141, -0.8438919864675091, \"\", \"\", \"\", -2.8683795739392863, -0.2443426113323588, -1.513182636554508, -0.8502099733577226, -0.4640238003835476, -0.15882574488259027, \"\", -1.1495211360399058, -3.2129474164224825, \"\", \"\", -0.3359057809628281, \"\", -1.2491060053062697, -0.17770872664859994, -1.0088835424575977, -0.9006663294273408, \"\", -2.6681218070207477, \"\", -0.04607451446755709, -0.49502496929321593, -1.466426005587016, \"\", -0.14236342366722832, -0.06262906420644643, -1.1017395817045381, \"\", \"\", -0.6475274411830152, -1.5558715435299884, -0.0984835983344701, \"\", \"\", -1.7793350966462378, -0.3396481680796608, \"\", -0.6942233386893009, \"\", \"\", \"\", -3.4694461326960164, \"\", \"\", \"\", -0.3380498890413726, \"\", -2.23837395287925, -0.6512206197457383, \"\", \"\", -0.6570808199828827, -0.7222762130402877, \"\", -1.1727616483347318, \"\", -2.1279724189000926, \"\", -0.5465224645055156, \"\", \"\", -0.11130042089577917, \"\", \"\", -0.3841252216750768, -1.8248888895669726, \"\", \"\", -0.5342997317718067, -0.11303593357951658, -1.5016558974487981, \"\", -0.5342865794788829, \"\", \"\"], \"yaxis\": \"y2\"}],                        {\"hovermode\": \"x\", \"legend\": {\"bgcolor\": \"#F5F6F9\", \"font\": {\"color\": \"#4D5663\"}}, \"paper_bgcolor\": \"#F5F6F9\", \"plot_bgcolor\": \"#F5F6F9\", \"template\": {\"data\": {\"bar\": [{\"error_x\": {\"color\": \"#2a3f5f\"}, \"error_y\": {\"color\": \"#2a3f5f\"}, \"marker\": {\"line\": {\"color\": \"#E5ECF6\", \"width\": 0.5}}, \"type\": \"bar\"}], \"barpolar\": [{\"marker\": {\"line\": {\"color\": \"#E5ECF6\", \"width\": 0.5}}, \"type\": \"barpolar\"}], \"carpet\": [{\"aaxis\": {\"endlinecolor\": \"#2a3f5f\", \"gridcolor\": \"white\", \"linecolor\": \"white\", \"minorgridcolor\": \"white\", \"startlinecolor\": \"#2a3f5f\"}, \"baxis\": {\"endlinecolor\": \"#2a3f5f\", \"gridcolor\": \"white\", \"linecolor\": \"white\", \"minorgridcolor\": \"white\", \"startlinecolor\": \"#2a3f5f\"}, \"type\": \"carpet\"}], \"choropleth\": [{\"colorbar\": {\"outlinewidth\": 0, \"ticks\": \"\"}, \"type\": \"choropleth\"}], \"contour\": [{\"colorbar\": {\"outlinewidth\": 0, \"ticks\": \"\"}, \"colorscale\": [[0.0, \"#0d0887\"], [0.1111111111111111, \"#46039f\"], [0.2222222222222222, \"#7201a8\"], [0.3333333333333333, \"#9c179e\"], [0.4444444444444444, \"#bd3786\"], [0.5555555555555556, \"#d8576b\"], [0.6666666666666666, \"#ed7953\"], [0.7777777777777778, \"#fb9f3a\"], [0.8888888888888888, \"#fdca26\"], [1.0, \"#f0f921\"]], \"type\": \"contour\"}], \"contourcarpet\": [{\"colorbar\": {\"outlinewidth\": 0, \"ticks\": \"\"}, \"type\": \"contourcarpet\"}], \"heatmap\": [{\"colorbar\": {\"outlinewidth\": 0, \"ticks\": \"\"}, \"colorscale\": [[0.0, \"#0d0887\"], [0.1111111111111111, \"#46039f\"], [0.2222222222222222, \"#7201a8\"], [0.3333333333333333, \"#9c179e\"], [0.4444444444444444, \"#bd3786\"], [0.5555555555555556, \"#d8576b\"], [0.6666666666666666, \"#ed7953\"], [0.7777777777777778, \"#fb9f3a\"], [0.8888888888888888, \"#fdca26\"], [1.0, \"#f0f921\"]], \"type\": \"heatmap\"}], \"heatmapgl\": [{\"colorbar\": {\"outlinewidth\": 0, \"ticks\": \"\"}, \"colorscale\": [[0.0, \"#0d0887\"], [0.1111111111111111, \"#46039f\"], [0.2222222222222222, \"#7201a8\"], [0.3333333333333333, \"#9c179e\"], [0.4444444444444444, \"#bd3786\"], [0.5555555555555556, \"#d8576b\"], [0.6666666666666666, \"#ed7953\"], [0.7777777777777778, \"#fb9f3a\"], [0.8888888888888888, \"#fdca26\"], [1.0, \"#f0f921\"]], \"type\": \"heatmapgl\"}], \"histogram\": [{\"marker\": {\"colorbar\": {\"outlinewidth\": 0, \"ticks\": \"\"}}, \"type\": \"histogram\"}], \"histogram2d\": [{\"colorbar\": {\"outlinewidth\": 0, \"ticks\": \"\"}, \"colorscale\": [[0.0, \"#0d0887\"], [0.1111111111111111, \"#46039f\"], [0.2222222222222222, \"#7201a8\"], [0.3333333333333333, \"#9c179e\"], [0.4444444444444444, \"#bd3786\"], [0.5555555555555556, \"#d8576b\"], [0.6666666666666666, \"#ed7953\"], [0.7777777777777778, \"#fb9f3a\"], [0.8888888888888888, \"#fdca26\"], [1.0, \"#f0f921\"]], \"type\": \"histogram2d\"}], \"histogram2dcontour\": [{\"colorbar\": {\"outlinewidth\": 0, \"ticks\": \"\"}, \"colorscale\": [[0.0, \"#0d0887\"], [0.1111111111111111, \"#46039f\"], [0.2222222222222222, \"#7201a8\"], [0.3333333333333333, \"#9c179e\"], [0.4444444444444444, \"#bd3786\"], [0.5555555555555556, \"#d8576b\"], [0.6666666666666666, \"#ed7953\"], [0.7777777777777778, \"#fb9f3a\"], [0.8888888888888888, \"#fdca26\"], [1.0, \"#f0f921\"]], \"type\": \"histogram2dcontour\"}], \"mesh3d\": [{\"colorbar\": {\"outlinewidth\": 0, \"ticks\": \"\"}, \"type\": \"mesh3d\"}], \"parcoords\": [{\"line\": {\"colorbar\": {\"outlinewidth\": 0, \"ticks\": \"\"}}, \"type\": \"parcoords\"}], \"pie\": [{\"automargin\": true, \"type\": \"pie\"}], \"scatter\": [{\"marker\": {\"colorbar\": {\"outlinewidth\": 0, \"ticks\": \"\"}}, \"type\": \"scatter\"}], \"scatter3d\": [{\"line\": {\"colorbar\": {\"outlinewidth\": 0, \"ticks\": \"\"}}, \"marker\": {\"colorbar\": {\"outlinewidth\": 0, \"ticks\": \"\"}}, \"type\": \"scatter3d\"}], \"scattercarpet\": [{\"marker\": {\"colorbar\": {\"outlinewidth\": 0, \"ticks\": \"\"}}, \"type\": \"scattercarpet\"}], \"scattergeo\": [{\"marker\": {\"colorbar\": {\"outlinewidth\": 0, \"ticks\": \"\"}}, \"type\": \"scattergeo\"}], \"scattergl\": [{\"marker\": {\"colorbar\": {\"outlinewidth\": 0, \"ticks\": \"\"}}, \"type\": \"scattergl\"}], \"scattermapbox\": [{\"marker\": {\"colorbar\": {\"outlinewidth\": 0, \"ticks\": \"\"}}, \"type\": \"scattermapbox\"}], \"scatterpolar\": [{\"marker\": {\"colorbar\": {\"outlinewidth\": 0, \"ticks\": \"\"}}, \"type\": \"scatterpolar\"}], \"scatterpolargl\": [{\"marker\": {\"colorbar\": {\"outlinewidth\": 0, \"ticks\": \"\"}}, \"type\": \"scatterpolargl\"}], \"scatterternary\": [{\"marker\": {\"colorbar\": {\"outlinewidth\": 0, \"ticks\": \"\"}}, \"type\": \"scatterternary\"}], \"surface\": [{\"colorbar\": {\"outlinewidth\": 0, \"ticks\": \"\"}, \"colorscale\": [[0.0, \"#0d0887\"], [0.1111111111111111, \"#46039f\"], [0.2222222222222222, \"#7201a8\"], [0.3333333333333333, \"#9c179e\"], [0.4444444444444444, \"#bd3786\"], [0.5555555555555556, \"#d8576b\"], [0.6666666666666666, \"#ed7953\"], [0.7777777777777778, \"#fb9f3a\"], [0.8888888888888888, \"#fdca26\"], [1.0, \"#f0f921\"]], \"type\": \"surface\"}], \"table\": [{\"cells\": {\"fill\": {\"color\": \"#EBF0F8\"}, \"line\": {\"color\": \"white\"}}, \"header\": {\"fill\": {\"color\": \"#C8D4E3\"}, \"line\": {\"color\": \"white\"}}, \"type\": \"table\"}]}, \"layout\": {\"annotationdefaults\": {\"arrowcolor\": \"#2a3f5f\", \"arrowhead\": 0, \"arrowwidth\": 1}, \"autotypenumbers\": \"strict\", \"coloraxis\": {\"colorbar\": {\"outlinewidth\": 0, \"ticks\": \"\"}}, \"colorscale\": {\"diverging\": [[0, \"#8e0152\"], [0.1, \"#c51b7d\"], [0.2, \"#de77ae\"], [0.3, \"#f1b6da\"], [0.4, \"#fde0ef\"], [0.5, \"#f7f7f7\"], [0.6, \"#e6f5d0\"], [0.7, \"#b8e186\"], [0.8, \"#7fbc41\"], [0.9, \"#4d9221\"], [1, \"#276419\"]], \"sequential\": [[0.0, \"#0d0887\"], [0.1111111111111111, \"#46039f\"], [0.2222222222222222, \"#7201a8\"], [0.3333333333333333, \"#9c179e\"], [0.4444444444444444, \"#bd3786\"], [0.5555555555555556, \"#d8576b\"], [0.6666666666666666, \"#ed7953\"], [0.7777777777777778, \"#fb9f3a\"], [0.8888888888888888, \"#fdca26\"], [1.0, \"#f0f921\"]], \"sequentialminus\": [[0.0, \"#0d0887\"], [0.1111111111111111, \"#46039f\"], [0.2222222222222222, \"#7201a8\"], [0.3333333333333333, \"#9c179e\"], [0.4444444444444444, \"#bd3786\"], [0.5555555555555556, \"#d8576b\"], [0.6666666666666666, \"#ed7953\"], [0.7777777777777778, \"#fb9f3a\"], [0.8888888888888888, \"#fdca26\"], [1.0, \"#f0f921\"]]}, \"colorway\": [\"#636efa\", \"#EF553B\", \"#00cc96\", \"#ab63fa\", \"#FFA15A\", \"#19d3f3\", \"#FF6692\", \"#B6E880\", \"#FF97FF\", \"#FECB52\"], \"font\": {\"color\": \"#2a3f5f\"}, \"geo\": {\"bgcolor\": \"white\", \"lakecolor\": \"white\", \"landcolor\": \"#E5ECF6\", \"showlakes\": true, \"showland\": true, \"subunitcolor\": \"white\"}, \"hoverlabel\": {\"align\": \"left\"}, \"hovermode\": \"closest\", \"mapbox\": {\"style\": \"light\"}, \"paper_bgcolor\": \"white\", \"plot_bgcolor\": \"#E5ECF6\", \"polar\": {\"angularaxis\": {\"gridcolor\": \"white\", \"linecolor\": \"white\", \"ticks\": \"\"}, \"bgcolor\": \"#E5ECF6\", \"radialaxis\": {\"gridcolor\": \"white\", \"linecolor\": \"white\", \"ticks\": \"\"}}, \"scene\": {\"xaxis\": {\"backgroundcolor\": \"#E5ECF6\", \"gridcolor\": \"white\", \"gridwidth\": 2, \"linecolor\": \"white\", \"showbackground\": true, \"ticks\": \"\", \"zerolinecolor\": \"white\"}, \"yaxis\": {\"backgroundcolor\": \"#E5ECF6\", \"gridcolor\": \"white\", \"gridwidth\": 2, \"linecolor\": \"white\", \"showbackground\": true, \"ticks\": \"\", \"zerolinecolor\": \"white\"}, \"zaxis\": {\"backgroundcolor\": \"#E5ECF6\", \"gridcolor\": \"white\", \"gridwidth\": 2, \"linecolor\": \"white\", \"showbackground\": true, \"ticks\": \"\", \"zerolinecolor\": \"white\"}}, \"shapedefaults\": {\"line\": {\"color\": \"#2a3f5f\"}}, \"ternary\": {\"aaxis\": {\"gridcolor\": \"white\", \"linecolor\": \"white\", \"ticks\": \"\"}, \"baxis\": {\"gridcolor\": \"white\", \"linecolor\": \"white\", \"ticks\": \"\"}, \"bgcolor\": \"#E5ECF6\", \"caxis\": {\"gridcolor\": \"white\", \"linecolor\": \"white\", \"ticks\": \"\"}}, \"title\": {\"x\": 0.05}, \"xaxis\": {\"automargin\": true, \"gridcolor\": \"white\", \"linecolor\": \"white\", \"ticks\": \"\", \"title\": {\"standoff\": 15}, \"zerolinecolor\": \"white\", \"zerolinewidth\": 2}, \"yaxis\": {\"automargin\": true, \"gridcolor\": \"white\", \"linecolor\": \"white\", \"ticks\": \"\", \"title\": {\"standoff\": 15}, \"zerolinecolor\": \"white\", \"zerolinewidth\": 2}}}, \"title\": {\"font\": {\"color\": \"#4D5663\"}}, \"xaxis\": {\"gridcolor\": \"#E1E5ED\", \"showgrid\": true, \"tickfont\": {\"color\": \"#4D5663\"}, \"title\": {\"font\": {\"color\": \"#4D5663\"}, \"text\": \"\"}, \"zerolinecolor\": \"#E1E5ED\"}, \"xaxis2\": {\"anchor\": \"y2\", \"gridcolor\": \"#E1E5ED\", \"showgrid\": true, \"showticklabels\": false, \"tickfont\": {\"color\": \"#4D5663\"}, \"title\": {\"font\": {\"color\": \"#4D5663\"}, \"text\": \"\"}, \"zerolinecolor\": \"#E1E5ED\"}, \"yaxis\": {\"domain\": [0.3, 1], \"gridcolor\": \"#E1E5ED\", \"showgrid\": true, \"tickfont\": {\"color\": \"#4D5663\"}, \"title\": {\"font\": {\"color\": \"#4D5663\"}, \"text\": \"\"}, \"zerolinecolor\": \"#E1E5ED\"}, \"yaxis2\": {\"domain\": [0, 0.25], \"gridcolor\": \"#E1E5ED\", \"showgrid\": true, \"tickfont\": {\"color\": \"#4D5663\"}, \"title\": {\"font\": {\"color\": \"#4D5663\"}, \"text\": \"Spread\"}, \"zerolinecolor\": \"#E1E5ED\"}},                        {\"showLink\": true, \"linkText\": \"Export to plot.ly\", \"plotlyServerURL\": \"https://plot.ly\", \"responsive\": true}                    ).then(function(){\n",
       "                            \n",
       "var gd = document.getElementById('753c0adf-661a-4f1a-9023-cd34f1cc6069');\n",
       "var x = new MutationObserver(function (mutations, observer) {{\n",
       "        var display = window.getComputedStyle(gd).display;\n",
       "        if (!display || display === 'none') {{\n",
       "            console.log([gd, 'removed!']);\n",
       "            Plotly.purge(gd);\n",
       "            observer.disconnect();\n",
       "        }}\n",
       "}});\n",
       "\n",
       "// Listen for the removal of the full notebook cells\n",
       "var notebookContainer = gd.closest('#notebook-container');\n",
       "if (notebookContainer) {{\n",
       "    x.observe(notebookContainer, {childList: true});\n",
       "}}\n",
       "\n",
       "// Listen for the clearing of the current output cell\n",
       "var outputEl = gd.closest('.output');\n",
       "if (outputEl) {{\n",
       "    x.observe(outputEl, {childList: true});\n",
       "}}\n",
       "\n",
       "                        })                };                });            </script>        </div>"
      ]
     },
     "metadata": {},
     "output_type": "display_data"
    }
   ],
   "source": [
    "df[['A','B']].iplot(kind='spread')"
   ]
  },
  {
   "cell_type": "code",
   "execution_count": 47,
   "id": "46aca52a",
   "metadata": {},
   "outputs": [
    {
     "data": {
      "application/vnd.plotly.v1+json": {
       "config": {
        "linkText": "Export to plot.ly",
        "plotlyServerURL": "https://plot.ly",
        "showLink": true
       },
       "data": [
        {
         "line": {
          "color": "rgba(255, 153, 51, 1.0)",
          "dash": "solid",
          "shape": "linear",
          "width": 1.3
         },
         "mode": "lines",
         "name": "A",
         "text": "",
         "type": "scatter",
         "x": [
          0,
          1,
          2,
          3,
          4,
          5,
          6,
          7,
          8,
          9,
          10,
          11,
          12,
          13,
          14,
          15,
          16,
          17,
          18,
          19,
          20,
          21,
          22,
          23,
          24,
          25,
          26,
          27,
          28,
          29,
          30,
          31,
          32,
          33,
          34,
          35,
          36,
          37,
          38,
          39,
          40,
          41,
          42,
          43,
          44,
          45,
          46,
          47,
          48,
          49,
          50,
          51,
          52,
          53,
          54,
          55,
          56,
          57,
          58,
          59,
          60,
          61,
          62,
          63,
          64,
          65,
          66,
          67,
          68,
          69,
          70,
          71,
          72,
          73,
          74,
          75,
          76,
          77,
          78,
          79,
          80,
          81,
          82,
          83,
          84,
          85,
          86,
          87,
          88,
          89,
          90,
          91,
          92,
          93,
          94,
          95,
          96,
          97,
          98,
          99
         ],
         "y": [
          0.4915889810451373,
          -0.502709032241364,
          -0.439660809274218,
          1.566586675251845,
          -0.6212578026798677,
          1.7776557644067656,
          0.8661298023840379,
          1.2706349857331831,
          1.1829527406936695,
          0.07381149895472465,
          0.4303466828369726,
          -0.9575027737008519,
          0.2448911967693874,
          0.04189873427502208,
          1.5647741213386723,
          0.5650390866380348,
          -0.4822423308956621,
          0.2877232264192255,
          1.2382658662292958,
          -0.703889579568911,
          -1.567758920770038,
          -0.02647700663406622,
          1.2742432983560472,
          0.24568074637287884,
          0.4093554625129669,
          -1.7037611549524168,
          0.3028826118549479,
          -1.3329700018952149,
          -2.3191071798134724,
          -0.4715275828898805,
          0.23336255517782983,
          -0.16015327795991532,
          -0.1009133565791417,
          -2.81926838345229,
          1.3654859862689102,
          0.4321785438498271,
          -0.8530812976871149,
          2.205208780788037,
          -1.036426166029101,
          -0.6148016609313836,
          -0.7804903323450012,
          0.31695605069133637,
          -0.36415029682631717,
          -0.11756535392984228,
          0.5012484638145545,
          0.14568939028348707,
          0.2748279734808271,
          -0.6781935523155721,
          0.2655237481306271,
          0.284077559638565,
          -1.7740915834552073,
          -1.2707521382258211,
          0.8654799498531212,
          0.531975731840595,
          -1.008064431305186,
          -1.047052004852239,
          0.15693951402710357,
          -0.061888674539695335,
          1.1472568799088285,
          -1.8232049204956886,
          -0.5088215335086028,
          0.8018888434820789,
          -1.193138125172003,
          1.1508657000784246,
          0.6197120558756081,
          -0.6717131229802509,
          -2.0860401916618696,
          -0.57342915056639,
          0.5374995212581878,
          -0.5328685673770484,
          -0.23785068830163442,
          0.45164324959069013,
          -0.01937340009535,
          0.11477937112607209,
          -0.14076154255896042,
          -0.13988385748639753,
          -0.7696645921042117,
          -0.18421016746021568,
          -0.21423330761126352,
          -0.00734890959141541,
          1.1328213530939724,
          -1.4287156552765827,
          -0.5516144642840903,
          -0.7931343423812411,
          0.5006083393739946,
          -0.0045120609205573795,
          0.05501801382379699,
          0.9560982713007699,
          1.179495400187467,
          -0.6439271361193529,
          -1.3620561504842512,
          1.6783810359332907,
          0.17790555885956716,
          -0.5337727464325431,
          0.529490162805114,
          -0.7710447878576198,
          -0.21522348807762237,
          0.2872358861077521,
          0.7924763496804115,
          -0.16831977505258977
         ]
        },
        {
         "line": {
          "color": "rgba(55, 128, 191, 1.0)",
          "dash": "solid",
          "shape": "linear",
          "width": 1.3
         },
         "mode": "lines",
         "name": "B",
         "text": "",
         "type": "scatter",
         "x": [
          0,
          1,
          2,
          3,
          4,
          5,
          6,
          7,
          8,
          9,
          10,
          11,
          12,
          13,
          14,
          15,
          16,
          17,
          18,
          19,
          20,
          21,
          22,
          23,
          24,
          25,
          26,
          27,
          28,
          29,
          30,
          31,
          32,
          33,
          34,
          35,
          36,
          37,
          38,
          39,
          40,
          41,
          42,
          43,
          44,
          45,
          46,
          47,
          48,
          49,
          50,
          51,
          52,
          53,
          54,
          55,
          56,
          57,
          58,
          59,
          60,
          61,
          62,
          63,
          64,
          65,
          66,
          67,
          68,
          69,
          70,
          71,
          72,
          73,
          74,
          75,
          76,
          77,
          78,
          79,
          80,
          81,
          82,
          83,
          84,
          85,
          86,
          87,
          88,
          89,
          90,
          91,
          92,
          93,
          94,
          95,
          96,
          97,
          98,
          99
         ],
         "y": [
          -1.3275926421452904,
          -0.936339741020361,
          -0.13647734868874586,
          -2.2240640578978677,
          1.7394620755462407,
          -0.9836121549376742,
          0.34626738417910974,
          1.2047434241013317,
          1.40716285017813,
          1.607297362862324,
          1.1471127354058306,
          -1.0290993380333546,
          0.3382366893151083,
          1.2171761981322033,
          -2.098208032554198,
          0.6029330801302344,
          0.7289001703024334,
          -0.9748621397718429,
          -1.1333611351564175,
          -0.6438327393385788,
          -0.05736388655202392,
          0.8174149798334428,
          0.38307197322024256,
          -0.33450585472427186,
          -0.3208347691514773,
          1.1646184189868694,
          0.5472252231873067,
          0.18021263465929316,
          -1.4688972064557497,
          -0.007503782506332852,
          0.3921883000604201,
          -1.3139502090164275,
          1.048607779460764,
          0.39367903297019263,
          -0.009051504564113558,
          -1.901214271538554,
          -0.5171755167242869,
          0.9229573561035125,
          0.21267983927716877,
          -0.4370929342827836,
          0.2283932101125965,
          1.2176223801186772,
          -1.2090570542595627,
          2.5505564530909055,
          -0.6075715148722199,
          0.19176390475104416,
          0.769852942774043,
          0.7882324532714438,
          -1.3143619973703013,
          0.42644098330579333,
          -1.711462519248761,
          -0.16901255652128294,
          0.0532722679248608,
          -1.4604290285910726,
          -0.36053699012217083,
          0.5088195386777494,
          0.25542311236157367,
          -0.11186811351887037,
          0.5405878809143965,
          -0.04386982384945076,
          -0.16917336542894204,
          0.6633191366843727,
          -0.4989147864827021,
          0.1560136225260184,
          0.05272802990970662,
          -1.850465429629844,
          1.3834059410341466,
          -0.9218299190591187,
          -0.6063394567698026,
          -1.1886063318225617,
          0.10019920073973819,
          -0.2595092728091105,
          2.2190005527839,
          0.7659999908718104,
          -0.560468590169831,
          -1.8182133054973348,
          -0.11258377212132896,
          0.538066045580072,
          -0.4241680278188642,
          1.1654127387433164,
          -1.1549015772976388,
          0.69925676362351,
          -0.9108643560764622,
          -0.24661187787572553,
          -0.934632536808109,
          -0.2714279182553495,
          0.16631843471957616,
          0.31353363861918293,
          -0.9107335599140366,
          -0.25980191444427614,
          0.4628327390827214,
          -1.0223280885294475,
          -0.11416392676936336,
          0.0005269853392635756,
          0.6425260963846305,
          0.7306111095911784,
          -0.4308391283122783,
          0.821522465586635,
          -0.7522745648552567,
          -1.299678462575494
         ]
        }
       ],
       "layout": {
        "legend": {
         "bgcolor": "#F5F6F9",
         "font": {
          "color": "#4D5663"
         }
        },
        "paper_bgcolor": "#F5F6F9",
        "plot_bgcolor": "#F5F6F9",
        "template": {
         "data": {
          "bar": [
           {
            "error_x": {
             "color": "#2a3f5f"
            },
            "error_y": {
             "color": "#2a3f5f"
            },
            "marker": {
             "line": {
              "color": "#E5ECF6",
              "width": 0.5
             }
            },
            "type": "bar"
           }
          ],
          "barpolar": [
           {
            "marker": {
             "line": {
              "color": "#E5ECF6",
              "width": 0.5
             }
            },
            "type": "barpolar"
           }
          ],
          "carpet": [
           {
            "aaxis": {
             "endlinecolor": "#2a3f5f",
             "gridcolor": "white",
             "linecolor": "white",
             "minorgridcolor": "white",
             "startlinecolor": "#2a3f5f"
            },
            "baxis": {
             "endlinecolor": "#2a3f5f",
             "gridcolor": "white",
             "linecolor": "white",
             "minorgridcolor": "white",
             "startlinecolor": "#2a3f5f"
            },
            "type": "carpet"
           }
          ],
          "choropleth": [
           {
            "colorbar": {
             "outlinewidth": 0,
             "ticks": ""
            },
            "type": "choropleth"
           }
          ],
          "contour": [
           {
            "colorbar": {
             "outlinewidth": 0,
             "ticks": ""
            },
            "colorscale": [
             [
              0,
              "#0d0887"
             ],
             [
              0.1111111111111111,
              "#46039f"
             ],
             [
              0.2222222222222222,
              "#7201a8"
             ],
             [
              0.3333333333333333,
              "#9c179e"
             ],
             [
              0.4444444444444444,
              "#bd3786"
             ],
             [
              0.5555555555555556,
              "#d8576b"
             ],
             [
              0.6666666666666666,
              "#ed7953"
             ],
             [
              0.7777777777777778,
              "#fb9f3a"
             ],
             [
              0.8888888888888888,
              "#fdca26"
             ],
             [
              1,
              "#f0f921"
             ]
            ],
            "type": "contour"
           }
          ],
          "contourcarpet": [
           {
            "colorbar": {
             "outlinewidth": 0,
             "ticks": ""
            },
            "type": "contourcarpet"
           }
          ],
          "heatmap": [
           {
            "colorbar": {
             "outlinewidth": 0,
             "ticks": ""
            },
            "colorscale": [
             [
              0,
              "#0d0887"
             ],
             [
              0.1111111111111111,
              "#46039f"
             ],
             [
              0.2222222222222222,
              "#7201a8"
             ],
             [
              0.3333333333333333,
              "#9c179e"
             ],
             [
              0.4444444444444444,
              "#bd3786"
             ],
             [
              0.5555555555555556,
              "#d8576b"
             ],
             [
              0.6666666666666666,
              "#ed7953"
             ],
             [
              0.7777777777777778,
              "#fb9f3a"
             ],
             [
              0.8888888888888888,
              "#fdca26"
             ],
             [
              1,
              "#f0f921"
             ]
            ],
            "type": "heatmap"
           }
          ],
          "heatmapgl": [
           {
            "colorbar": {
             "outlinewidth": 0,
             "ticks": ""
            },
            "colorscale": [
             [
              0,
              "#0d0887"
             ],
             [
              0.1111111111111111,
              "#46039f"
             ],
             [
              0.2222222222222222,
              "#7201a8"
             ],
             [
              0.3333333333333333,
              "#9c179e"
             ],
             [
              0.4444444444444444,
              "#bd3786"
             ],
             [
              0.5555555555555556,
              "#d8576b"
             ],
             [
              0.6666666666666666,
              "#ed7953"
             ],
             [
              0.7777777777777778,
              "#fb9f3a"
             ],
             [
              0.8888888888888888,
              "#fdca26"
             ],
             [
              1,
              "#f0f921"
             ]
            ],
            "type": "heatmapgl"
           }
          ],
          "histogram": [
           {
            "marker": {
             "colorbar": {
              "outlinewidth": 0,
              "ticks": ""
             }
            },
            "type": "histogram"
           }
          ],
          "histogram2d": [
           {
            "colorbar": {
             "outlinewidth": 0,
             "ticks": ""
            },
            "colorscale": [
             [
              0,
              "#0d0887"
             ],
             [
              0.1111111111111111,
              "#46039f"
             ],
             [
              0.2222222222222222,
              "#7201a8"
             ],
             [
              0.3333333333333333,
              "#9c179e"
             ],
             [
              0.4444444444444444,
              "#bd3786"
             ],
             [
              0.5555555555555556,
              "#d8576b"
             ],
             [
              0.6666666666666666,
              "#ed7953"
             ],
             [
              0.7777777777777778,
              "#fb9f3a"
             ],
             [
              0.8888888888888888,
              "#fdca26"
             ],
             [
              1,
              "#f0f921"
             ]
            ],
            "type": "histogram2d"
           }
          ],
          "histogram2dcontour": [
           {
            "colorbar": {
             "outlinewidth": 0,
             "ticks": ""
            },
            "colorscale": [
             [
              0,
              "#0d0887"
             ],
             [
              0.1111111111111111,
              "#46039f"
             ],
             [
              0.2222222222222222,
              "#7201a8"
             ],
             [
              0.3333333333333333,
              "#9c179e"
             ],
             [
              0.4444444444444444,
              "#bd3786"
             ],
             [
              0.5555555555555556,
              "#d8576b"
             ],
             [
              0.6666666666666666,
              "#ed7953"
             ],
             [
              0.7777777777777778,
              "#fb9f3a"
             ],
             [
              0.8888888888888888,
              "#fdca26"
             ],
             [
              1,
              "#f0f921"
             ]
            ],
            "type": "histogram2dcontour"
           }
          ],
          "mesh3d": [
           {
            "colorbar": {
             "outlinewidth": 0,
             "ticks": ""
            },
            "type": "mesh3d"
           }
          ],
          "parcoords": [
           {
            "line": {
             "colorbar": {
              "outlinewidth": 0,
              "ticks": ""
             }
            },
            "type": "parcoords"
           }
          ],
          "pie": [
           {
            "automargin": true,
            "type": "pie"
           }
          ],
          "scatter": [
           {
            "marker": {
             "colorbar": {
              "outlinewidth": 0,
              "ticks": ""
             }
            },
            "type": "scatter"
           }
          ],
          "scatter3d": [
           {
            "line": {
             "colorbar": {
              "outlinewidth": 0,
              "ticks": ""
             }
            },
            "marker": {
             "colorbar": {
              "outlinewidth": 0,
              "ticks": ""
             }
            },
            "type": "scatter3d"
           }
          ],
          "scattercarpet": [
           {
            "marker": {
             "colorbar": {
              "outlinewidth": 0,
              "ticks": ""
             }
            },
            "type": "scattercarpet"
           }
          ],
          "scattergeo": [
           {
            "marker": {
             "colorbar": {
              "outlinewidth": 0,
              "ticks": ""
             }
            },
            "type": "scattergeo"
           }
          ],
          "scattergl": [
           {
            "marker": {
             "colorbar": {
              "outlinewidth": 0,
              "ticks": ""
             }
            },
            "type": "scattergl"
           }
          ],
          "scattermapbox": [
           {
            "marker": {
             "colorbar": {
              "outlinewidth": 0,
              "ticks": ""
             }
            },
            "type": "scattermapbox"
           }
          ],
          "scatterpolar": [
           {
            "marker": {
             "colorbar": {
              "outlinewidth": 0,
              "ticks": ""
             }
            },
            "type": "scatterpolar"
           }
          ],
          "scatterpolargl": [
           {
            "marker": {
             "colorbar": {
              "outlinewidth": 0,
              "ticks": ""
             }
            },
            "type": "scatterpolargl"
           }
          ],
          "scatterternary": [
           {
            "marker": {
             "colorbar": {
              "outlinewidth": 0,
              "ticks": ""
             }
            },
            "type": "scatterternary"
           }
          ],
          "surface": [
           {
            "colorbar": {
             "outlinewidth": 0,
             "ticks": ""
            },
            "colorscale": [
             [
              0,
              "#0d0887"
             ],
             [
              0.1111111111111111,
              "#46039f"
             ],
             [
              0.2222222222222222,
              "#7201a8"
             ],
             [
              0.3333333333333333,
              "#9c179e"
             ],
             [
              0.4444444444444444,
              "#bd3786"
             ],
             [
              0.5555555555555556,
              "#d8576b"
             ],
             [
              0.6666666666666666,
              "#ed7953"
             ],
             [
              0.7777777777777778,
              "#fb9f3a"
             ],
             [
              0.8888888888888888,
              "#fdca26"
             ],
             [
              1,
              "#f0f921"
             ]
            ],
            "type": "surface"
           }
          ],
          "table": [
           {
            "cells": {
             "fill": {
              "color": "#EBF0F8"
             },
             "line": {
              "color": "white"
             }
            },
            "header": {
             "fill": {
              "color": "#C8D4E3"
             },
             "line": {
              "color": "white"
             }
            },
            "type": "table"
           }
          ]
         },
         "layout": {
          "annotationdefaults": {
           "arrowcolor": "#2a3f5f",
           "arrowhead": 0,
           "arrowwidth": 1
          },
          "autotypenumbers": "strict",
          "coloraxis": {
           "colorbar": {
            "outlinewidth": 0,
            "ticks": ""
           }
          },
          "colorscale": {
           "diverging": [
            [
             0,
             "#8e0152"
            ],
            [
             0.1,
             "#c51b7d"
            ],
            [
             0.2,
             "#de77ae"
            ],
            [
             0.3,
             "#f1b6da"
            ],
            [
             0.4,
             "#fde0ef"
            ],
            [
             0.5,
             "#f7f7f7"
            ],
            [
             0.6,
             "#e6f5d0"
            ],
            [
             0.7,
             "#b8e186"
            ],
            [
             0.8,
             "#7fbc41"
            ],
            [
             0.9,
             "#4d9221"
            ],
            [
             1,
             "#276419"
            ]
           ],
           "sequential": [
            [
             0,
             "#0d0887"
            ],
            [
             0.1111111111111111,
             "#46039f"
            ],
            [
             0.2222222222222222,
             "#7201a8"
            ],
            [
             0.3333333333333333,
             "#9c179e"
            ],
            [
             0.4444444444444444,
             "#bd3786"
            ],
            [
             0.5555555555555556,
             "#d8576b"
            ],
            [
             0.6666666666666666,
             "#ed7953"
            ],
            [
             0.7777777777777778,
             "#fb9f3a"
            ],
            [
             0.8888888888888888,
             "#fdca26"
            ],
            [
             1,
             "#f0f921"
            ]
           ],
           "sequentialminus": [
            [
             0,
             "#0d0887"
            ],
            [
             0.1111111111111111,
             "#46039f"
            ],
            [
             0.2222222222222222,
             "#7201a8"
            ],
            [
             0.3333333333333333,
             "#9c179e"
            ],
            [
             0.4444444444444444,
             "#bd3786"
            ],
            [
             0.5555555555555556,
             "#d8576b"
            ],
            [
             0.6666666666666666,
             "#ed7953"
            ],
            [
             0.7777777777777778,
             "#fb9f3a"
            ],
            [
             0.8888888888888888,
             "#fdca26"
            ],
            [
             1,
             "#f0f921"
            ]
           ]
          },
          "colorway": [
           "#636efa",
           "#EF553B",
           "#00cc96",
           "#ab63fa",
           "#FFA15A",
           "#19d3f3",
           "#FF6692",
           "#B6E880",
           "#FF97FF",
           "#FECB52"
          ],
          "font": {
           "color": "#2a3f5f"
          },
          "geo": {
           "bgcolor": "white",
           "lakecolor": "white",
           "landcolor": "#E5ECF6",
           "showlakes": true,
           "showland": true,
           "subunitcolor": "white"
          },
          "hoverlabel": {
           "align": "left"
          },
          "hovermode": "closest",
          "mapbox": {
           "style": "light"
          },
          "paper_bgcolor": "white",
          "plot_bgcolor": "#E5ECF6",
          "polar": {
           "angularaxis": {
            "gridcolor": "white",
            "linecolor": "white",
            "ticks": ""
           },
           "bgcolor": "#E5ECF6",
           "radialaxis": {
            "gridcolor": "white",
            "linecolor": "white",
            "ticks": ""
           }
          },
          "scene": {
           "xaxis": {
            "backgroundcolor": "#E5ECF6",
            "gridcolor": "white",
            "gridwidth": 2,
            "linecolor": "white",
            "showbackground": true,
            "ticks": "",
            "zerolinecolor": "white"
           },
           "yaxis": {
            "backgroundcolor": "#E5ECF6",
            "gridcolor": "white",
            "gridwidth": 2,
            "linecolor": "white",
            "showbackground": true,
            "ticks": "",
            "zerolinecolor": "white"
           },
           "zaxis": {
            "backgroundcolor": "#E5ECF6",
            "gridcolor": "white",
            "gridwidth": 2,
            "linecolor": "white",
            "showbackground": true,
            "ticks": "",
            "zerolinecolor": "white"
           }
          },
          "shapedefaults": {
           "line": {
            "color": "#2a3f5f"
           }
          },
          "ternary": {
           "aaxis": {
            "gridcolor": "white",
            "linecolor": "white",
            "ticks": ""
           },
           "baxis": {
            "gridcolor": "white",
            "linecolor": "white",
            "ticks": ""
           },
           "bgcolor": "#E5ECF6",
           "caxis": {
            "gridcolor": "white",
            "linecolor": "white",
            "ticks": ""
           }
          },
          "title": {
           "x": 0.05
          },
          "xaxis": {
           "automargin": true,
           "gridcolor": "white",
           "linecolor": "white",
           "ticks": "",
           "title": {
            "standoff": 15
           },
           "zerolinecolor": "white",
           "zerolinewidth": 2
          },
          "yaxis": {
           "automargin": true,
           "gridcolor": "white",
           "linecolor": "white",
           "ticks": "",
           "title": {
            "standoff": 15
           },
           "zerolinecolor": "white",
           "zerolinewidth": 2
          }
         }
        },
        "title": {
         "font": {
          "color": "#4D5663"
         }
        },
        "xaxis": {
         "gridcolor": "#E1E5ED",
         "showgrid": true,
         "tickfont": {
          "color": "#4D5663"
         },
         "title": {
          "font": {
           "color": "#4D5663"
          },
          "text": ""
         },
         "zerolinecolor": "#E1E5ED"
        },
        "yaxis": {
         "gridcolor": "#E1E5ED",
         "showgrid": true,
         "tickfont": {
          "color": "#4D5663"
         },
         "title": {
          "font": {
           "color": "#4D5663"
          },
          "text": ""
         },
         "zerolinecolor": "#E1E5ED"
        }
       }
      },
      "text/html": [
       "<div>                            <div id=\"21390cfe-f1db-4934-b90f-24ce6fbd0ced\" class=\"plotly-graph-div\" style=\"height:525px; width:100%;\"></div>            <script type=\"text/javascript\">                require([\"plotly\"], function(Plotly) {                    window.PLOTLYENV=window.PLOTLYENV || {};\n",
       "                    window.PLOTLYENV.BASE_URL='https://plot.ly';                                    if (document.getElementById(\"21390cfe-f1db-4934-b90f-24ce6fbd0ced\")) {                    Plotly.newPlot(                        \"21390cfe-f1db-4934-b90f-24ce6fbd0ced\",                        [{\"line\": {\"color\": \"rgba(255, 153, 51, 1.0)\", \"dash\": \"solid\", \"shape\": \"linear\", \"width\": 1.3}, \"mode\": \"lines\", \"name\": \"A\", \"text\": \"\", \"type\": \"scatter\", \"x\": [0, 1, 2, 3, 4, 5, 6, 7, 8, 9, 10, 11, 12, 13, 14, 15, 16, 17, 18, 19, 20, 21, 22, 23, 24, 25, 26, 27, 28, 29, 30, 31, 32, 33, 34, 35, 36, 37, 38, 39, 40, 41, 42, 43, 44, 45, 46, 47, 48, 49, 50, 51, 52, 53, 54, 55, 56, 57, 58, 59, 60, 61, 62, 63, 64, 65, 66, 67, 68, 69, 70, 71, 72, 73, 74, 75, 76, 77, 78, 79, 80, 81, 82, 83, 84, 85, 86, 87, 88, 89, 90, 91, 92, 93, 94, 95, 96, 97, 98, 99], \"y\": [0.4915889810451373, -0.502709032241364, -0.439660809274218, 1.566586675251845, -0.6212578026798677, 1.7776557644067656, 0.8661298023840379, 1.2706349857331831, 1.1829527406936695, 0.07381149895472465, 0.4303466828369726, -0.9575027737008519, 0.2448911967693874, 0.04189873427502208, 1.5647741213386723, 0.5650390866380348, -0.4822423308956621, 0.2877232264192255, 1.2382658662292958, -0.703889579568911, -1.567758920770038, -0.02647700663406622, 1.2742432983560472, 0.24568074637287884, 0.4093554625129669, -1.7037611549524168, 0.3028826118549479, -1.3329700018952149, -2.3191071798134724, -0.4715275828898805, 0.23336255517782983, -0.16015327795991532, -0.1009133565791417, -2.81926838345229, 1.3654859862689102, 0.4321785438498271, -0.8530812976871149, 2.205208780788037, -1.036426166029101, -0.6148016609313836, -0.7804903323450012, 0.31695605069133637, -0.36415029682631717, -0.11756535392984228, 0.5012484638145545, 0.14568939028348707, 0.2748279734808271, -0.6781935523155721, 0.2655237481306271, 0.284077559638565, -1.7740915834552073, -1.2707521382258211, 0.8654799498531212, 0.531975731840595, -1.008064431305186, -1.047052004852239, 0.15693951402710357, -0.061888674539695335, 1.1472568799088285, -1.8232049204956886, -0.5088215335086028, 0.8018888434820789, -1.193138125172003, 1.1508657000784246, 0.6197120558756081, -0.6717131229802509, -2.0860401916618696, -0.57342915056639, 0.5374995212581878, -0.5328685673770484, -0.23785068830163442, 0.45164324959069013, -0.01937340009535, 0.11477937112607209, -0.14076154255896042, -0.13988385748639753, -0.7696645921042117, -0.18421016746021568, -0.21423330761126352, -0.00734890959141541, 1.1328213530939724, -1.4287156552765827, -0.5516144642840903, -0.7931343423812411, 0.5006083393739946, -0.0045120609205573795, 0.05501801382379699, 0.9560982713007699, 1.179495400187467, -0.6439271361193529, -1.3620561504842512, 1.6783810359332907, 0.17790555885956716, -0.5337727464325431, 0.529490162805114, -0.7710447878576198, -0.21522348807762237, 0.2872358861077521, 0.7924763496804115, -0.16831977505258977]}, {\"line\": {\"color\": \"rgba(55, 128, 191, 1.0)\", \"dash\": \"solid\", \"shape\": \"linear\", \"width\": 1.3}, \"mode\": \"lines\", \"name\": \"B\", \"text\": \"\", \"type\": \"scatter\", \"x\": [0, 1, 2, 3, 4, 5, 6, 7, 8, 9, 10, 11, 12, 13, 14, 15, 16, 17, 18, 19, 20, 21, 22, 23, 24, 25, 26, 27, 28, 29, 30, 31, 32, 33, 34, 35, 36, 37, 38, 39, 40, 41, 42, 43, 44, 45, 46, 47, 48, 49, 50, 51, 52, 53, 54, 55, 56, 57, 58, 59, 60, 61, 62, 63, 64, 65, 66, 67, 68, 69, 70, 71, 72, 73, 74, 75, 76, 77, 78, 79, 80, 81, 82, 83, 84, 85, 86, 87, 88, 89, 90, 91, 92, 93, 94, 95, 96, 97, 98, 99], \"y\": [-1.3275926421452904, -0.936339741020361, -0.13647734868874586, -2.2240640578978677, 1.7394620755462407, -0.9836121549376742, 0.34626738417910974, 1.2047434241013317, 1.40716285017813, 1.607297362862324, 1.1471127354058306, -1.0290993380333546, 0.3382366893151083, 1.2171761981322033, -2.098208032554198, 0.6029330801302344, 0.7289001703024334, -0.9748621397718429, -1.1333611351564175, -0.6438327393385788, -0.05736388655202392, 0.8174149798334428, 0.38307197322024256, -0.33450585472427186, -0.3208347691514773, 1.1646184189868694, 0.5472252231873067, 0.18021263465929316, -1.4688972064557497, -0.007503782506332852, 0.3921883000604201, -1.3139502090164275, 1.048607779460764, 0.39367903297019263, -0.009051504564113558, -1.901214271538554, -0.5171755167242869, 0.9229573561035125, 0.21267983927716877, -0.4370929342827836, 0.2283932101125965, 1.2176223801186772, -1.2090570542595627, 2.5505564530909055, -0.6075715148722199, 0.19176390475104416, 0.769852942774043, 0.7882324532714438, -1.3143619973703013, 0.42644098330579333, -1.711462519248761, -0.16901255652128294, 0.0532722679248608, -1.4604290285910726, -0.36053699012217083, 0.5088195386777494, 0.25542311236157367, -0.11186811351887037, 0.5405878809143965, -0.04386982384945076, -0.16917336542894204, 0.6633191366843727, -0.4989147864827021, 0.1560136225260184, 0.05272802990970662, -1.850465429629844, 1.3834059410341466, -0.9218299190591187, -0.6063394567698026, -1.1886063318225617, 0.10019920073973819, -0.2595092728091105, 2.2190005527839, 0.7659999908718104, -0.560468590169831, -1.8182133054973348, -0.11258377212132896, 0.538066045580072, -0.4241680278188642, 1.1654127387433164, -1.1549015772976388, 0.69925676362351, -0.9108643560764622, -0.24661187787572553, -0.934632536808109, -0.2714279182553495, 0.16631843471957616, 0.31353363861918293, -0.9107335599140366, -0.25980191444427614, 0.4628327390827214, -1.0223280885294475, -0.11416392676936336, 0.0005269853392635756, 0.6425260963846305, 0.7306111095911784, -0.4308391283122783, 0.821522465586635, -0.7522745648552567, -1.299678462575494]}],                        {\"legend\": {\"bgcolor\": \"#F5F6F9\", \"font\": {\"color\": \"#4D5663\"}}, \"paper_bgcolor\": \"#F5F6F9\", \"plot_bgcolor\": \"#F5F6F9\", \"template\": {\"data\": {\"bar\": [{\"error_x\": {\"color\": \"#2a3f5f\"}, \"error_y\": {\"color\": \"#2a3f5f\"}, \"marker\": {\"line\": {\"color\": \"#E5ECF6\", \"width\": 0.5}}, \"type\": \"bar\"}], \"barpolar\": [{\"marker\": {\"line\": {\"color\": \"#E5ECF6\", \"width\": 0.5}}, \"type\": \"barpolar\"}], \"carpet\": [{\"aaxis\": {\"endlinecolor\": \"#2a3f5f\", \"gridcolor\": \"white\", \"linecolor\": \"white\", \"minorgridcolor\": \"white\", \"startlinecolor\": \"#2a3f5f\"}, \"baxis\": {\"endlinecolor\": \"#2a3f5f\", \"gridcolor\": \"white\", \"linecolor\": \"white\", \"minorgridcolor\": \"white\", \"startlinecolor\": \"#2a3f5f\"}, \"type\": \"carpet\"}], \"choropleth\": [{\"colorbar\": {\"outlinewidth\": 0, \"ticks\": \"\"}, \"type\": \"choropleth\"}], \"contour\": [{\"colorbar\": {\"outlinewidth\": 0, \"ticks\": \"\"}, \"colorscale\": [[0.0, \"#0d0887\"], [0.1111111111111111, \"#46039f\"], [0.2222222222222222, \"#7201a8\"], [0.3333333333333333, \"#9c179e\"], [0.4444444444444444, \"#bd3786\"], [0.5555555555555556, \"#d8576b\"], [0.6666666666666666, \"#ed7953\"], [0.7777777777777778, \"#fb9f3a\"], [0.8888888888888888, \"#fdca26\"], [1.0, \"#f0f921\"]], \"type\": \"contour\"}], \"contourcarpet\": [{\"colorbar\": {\"outlinewidth\": 0, \"ticks\": \"\"}, \"type\": \"contourcarpet\"}], \"heatmap\": [{\"colorbar\": {\"outlinewidth\": 0, \"ticks\": \"\"}, \"colorscale\": [[0.0, \"#0d0887\"], [0.1111111111111111, \"#46039f\"], [0.2222222222222222, \"#7201a8\"], [0.3333333333333333, \"#9c179e\"], [0.4444444444444444, \"#bd3786\"], [0.5555555555555556, \"#d8576b\"], [0.6666666666666666, \"#ed7953\"], [0.7777777777777778, \"#fb9f3a\"], [0.8888888888888888, \"#fdca26\"], [1.0, \"#f0f921\"]], \"type\": \"heatmap\"}], \"heatmapgl\": [{\"colorbar\": {\"outlinewidth\": 0, \"ticks\": \"\"}, \"colorscale\": [[0.0, \"#0d0887\"], [0.1111111111111111, \"#46039f\"], [0.2222222222222222, \"#7201a8\"], [0.3333333333333333, \"#9c179e\"], [0.4444444444444444, \"#bd3786\"], [0.5555555555555556, \"#d8576b\"], [0.6666666666666666, \"#ed7953\"], [0.7777777777777778, \"#fb9f3a\"], [0.8888888888888888, \"#fdca26\"], [1.0, \"#f0f921\"]], \"type\": \"heatmapgl\"}], \"histogram\": [{\"marker\": {\"colorbar\": {\"outlinewidth\": 0, \"ticks\": \"\"}}, \"type\": \"histogram\"}], \"histogram2d\": [{\"colorbar\": {\"outlinewidth\": 0, \"ticks\": \"\"}, \"colorscale\": [[0.0, \"#0d0887\"], [0.1111111111111111, \"#46039f\"], [0.2222222222222222, \"#7201a8\"], [0.3333333333333333, \"#9c179e\"], [0.4444444444444444, \"#bd3786\"], [0.5555555555555556, \"#d8576b\"], [0.6666666666666666, \"#ed7953\"], [0.7777777777777778, \"#fb9f3a\"], [0.8888888888888888, \"#fdca26\"], [1.0, \"#f0f921\"]], \"type\": \"histogram2d\"}], \"histogram2dcontour\": [{\"colorbar\": {\"outlinewidth\": 0, \"ticks\": \"\"}, \"colorscale\": [[0.0, \"#0d0887\"], [0.1111111111111111, \"#46039f\"], [0.2222222222222222, \"#7201a8\"], [0.3333333333333333, \"#9c179e\"], [0.4444444444444444, \"#bd3786\"], [0.5555555555555556, \"#d8576b\"], [0.6666666666666666, \"#ed7953\"], [0.7777777777777778, \"#fb9f3a\"], [0.8888888888888888, \"#fdca26\"], [1.0, \"#f0f921\"]], \"type\": \"histogram2dcontour\"}], \"mesh3d\": [{\"colorbar\": {\"outlinewidth\": 0, \"ticks\": \"\"}, \"type\": \"mesh3d\"}], \"parcoords\": [{\"line\": {\"colorbar\": {\"outlinewidth\": 0, \"ticks\": \"\"}}, \"type\": \"parcoords\"}], \"pie\": [{\"automargin\": true, \"type\": \"pie\"}], \"scatter\": [{\"marker\": {\"colorbar\": {\"outlinewidth\": 0, \"ticks\": \"\"}}, \"type\": \"scatter\"}], \"scatter3d\": [{\"line\": {\"colorbar\": {\"outlinewidth\": 0, \"ticks\": \"\"}}, \"marker\": {\"colorbar\": {\"outlinewidth\": 0, \"ticks\": \"\"}}, \"type\": \"scatter3d\"}], \"scattercarpet\": [{\"marker\": {\"colorbar\": {\"outlinewidth\": 0, \"ticks\": \"\"}}, \"type\": \"scattercarpet\"}], \"scattergeo\": [{\"marker\": {\"colorbar\": {\"outlinewidth\": 0, \"ticks\": \"\"}}, \"type\": \"scattergeo\"}], \"scattergl\": [{\"marker\": {\"colorbar\": {\"outlinewidth\": 0, \"ticks\": \"\"}}, \"type\": \"scattergl\"}], \"scattermapbox\": [{\"marker\": {\"colorbar\": {\"outlinewidth\": 0, \"ticks\": \"\"}}, \"type\": \"scattermapbox\"}], \"scatterpolar\": [{\"marker\": {\"colorbar\": {\"outlinewidth\": 0, \"ticks\": \"\"}}, \"type\": \"scatterpolar\"}], \"scatterpolargl\": [{\"marker\": {\"colorbar\": {\"outlinewidth\": 0, \"ticks\": \"\"}}, \"type\": \"scatterpolargl\"}], \"scatterternary\": [{\"marker\": {\"colorbar\": {\"outlinewidth\": 0, \"ticks\": \"\"}}, \"type\": \"scatterternary\"}], \"surface\": [{\"colorbar\": {\"outlinewidth\": 0, \"ticks\": \"\"}, \"colorscale\": [[0.0, \"#0d0887\"], [0.1111111111111111, \"#46039f\"], [0.2222222222222222, \"#7201a8\"], [0.3333333333333333, \"#9c179e\"], [0.4444444444444444, \"#bd3786\"], [0.5555555555555556, \"#d8576b\"], [0.6666666666666666, \"#ed7953\"], [0.7777777777777778, \"#fb9f3a\"], [0.8888888888888888, \"#fdca26\"], [1.0, \"#f0f921\"]], \"type\": \"surface\"}], \"table\": [{\"cells\": {\"fill\": {\"color\": \"#EBF0F8\"}, \"line\": {\"color\": \"white\"}}, \"header\": {\"fill\": {\"color\": \"#C8D4E3\"}, \"line\": {\"color\": \"white\"}}, \"type\": \"table\"}]}, \"layout\": {\"annotationdefaults\": {\"arrowcolor\": \"#2a3f5f\", \"arrowhead\": 0, \"arrowwidth\": 1}, \"autotypenumbers\": \"strict\", \"coloraxis\": {\"colorbar\": {\"outlinewidth\": 0, \"ticks\": \"\"}}, \"colorscale\": {\"diverging\": [[0, \"#8e0152\"], [0.1, \"#c51b7d\"], [0.2, \"#de77ae\"], [0.3, \"#f1b6da\"], [0.4, \"#fde0ef\"], [0.5, \"#f7f7f7\"], [0.6, \"#e6f5d0\"], [0.7, \"#b8e186\"], [0.8, \"#7fbc41\"], [0.9, \"#4d9221\"], [1, \"#276419\"]], \"sequential\": [[0.0, \"#0d0887\"], [0.1111111111111111, \"#46039f\"], [0.2222222222222222, \"#7201a8\"], [0.3333333333333333, \"#9c179e\"], [0.4444444444444444, \"#bd3786\"], [0.5555555555555556, \"#d8576b\"], [0.6666666666666666, \"#ed7953\"], [0.7777777777777778, \"#fb9f3a\"], [0.8888888888888888, \"#fdca26\"], [1.0, \"#f0f921\"]], \"sequentialminus\": [[0.0, \"#0d0887\"], [0.1111111111111111, \"#46039f\"], [0.2222222222222222, \"#7201a8\"], [0.3333333333333333, \"#9c179e\"], [0.4444444444444444, \"#bd3786\"], [0.5555555555555556, \"#d8576b\"], [0.6666666666666666, \"#ed7953\"], [0.7777777777777778, \"#fb9f3a\"], [0.8888888888888888, \"#fdca26\"], [1.0, \"#f0f921\"]]}, \"colorway\": [\"#636efa\", \"#EF553B\", \"#00cc96\", \"#ab63fa\", \"#FFA15A\", \"#19d3f3\", \"#FF6692\", \"#B6E880\", \"#FF97FF\", \"#FECB52\"], \"font\": {\"color\": \"#2a3f5f\"}, \"geo\": {\"bgcolor\": \"white\", \"lakecolor\": \"white\", \"landcolor\": \"#E5ECF6\", \"showlakes\": true, \"showland\": true, \"subunitcolor\": \"white\"}, \"hoverlabel\": {\"align\": \"left\"}, \"hovermode\": \"closest\", \"mapbox\": {\"style\": \"light\"}, \"paper_bgcolor\": \"white\", \"plot_bgcolor\": \"#E5ECF6\", \"polar\": {\"angularaxis\": {\"gridcolor\": \"white\", \"linecolor\": \"white\", \"ticks\": \"\"}, \"bgcolor\": \"#E5ECF6\", \"radialaxis\": {\"gridcolor\": \"white\", \"linecolor\": \"white\", \"ticks\": \"\"}}, \"scene\": {\"xaxis\": {\"backgroundcolor\": \"#E5ECF6\", \"gridcolor\": \"white\", \"gridwidth\": 2, \"linecolor\": \"white\", \"showbackground\": true, \"ticks\": \"\", \"zerolinecolor\": \"white\"}, \"yaxis\": {\"backgroundcolor\": \"#E5ECF6\", \"gridcolor\": \"white\", \"gridwidth\": 2, \"linecolor\": \"white\", \"showbackground\": true, \"ticks\": \"\", \"zerolinecolor\": \"white\"}, \"zaxis\": {\"backgroundcolor\": \"#E5ECF6\", \"gridcolor\": \"white\", \"gridwidth\": 2, \"linecolor\": \"white\", \"showbackground\": true, \"ticks\": \"\", \"zerolinecolor\": \"white\"}}, \"shapedefaults\": {\"line\": {\"color\": \"#2a3f5f\"}}, \"ternary\": {\"aaxis\": {\"gridcolor\": \"white\", \"linecolor\": \"white\", \"ticks\": \"\"}, \"baxis\": {\"gridcolor\": \"white\", \"linecolor\": \"white\", \"ticks\": \"\"}, \"bgcolor\": \"#E5ECF6\", \"caxis\": {\"gridcolor\": \"white\", \"linecolor\": \"white\", \"ticks\": \"\"}}, \"title\": {\"x\": 0.05}, \"xaxis\": {\"automargin\": true, \"gridcolor\": \"white\", \"linecolor\": \"white\", \"ticks\": \"\", \"title\": {\"standoff\": 15}, \"zerolinecolor\": \"white\", \"zerolinewidth\": 2}, \"yaxis\": {\"automargin\": true, \"gridcolor\": \"white\", \"linecolor\": \"white\", \"ticks\": \"\", \"title\": {\"standoff\": 15}, \"zerolinecolor\": \"white\", \"zerolinewidth\": 2}}}, \"title\": {\"font\": {\"color\": \"#4D5663\"}}, \"xaxis\": {\"gridcolor\": \"#E1E5ED\", \"showgrid\": true, \"tickfont\": {\"color\": \"#4D5663\"}, \"title\": {\"font\": {\"color\": \"#4D5663\"}, \"text\": \"\"}, \"zerolinecolor\": \"#E1E5ED\"}, \"yaxis\": {\"gridcolor\": \"#E1E5ED\", \"showgrid\": true, \"tickfont\": {\"color\": \"#4D5663\"}, \"title\": {\"font\": {\"color\": \"#4D5663\"}, \"text\": \"\"}, \"zerolinecolor\": \"#E1E5ED\"}},                        {\"showLink\": true, \"linkText\": \"Export to plot.ly\", \"plotlyServerURL\": \"https://plot.ly\", \"responsive\": true}                    ).then(function(){\n",
       "                            \n",
       "var gd = document.getElementById('21390cfe-f1db-4934-b90f-24ce6fbd0ced');\n",
       "var x = new MutationObserver(function (mutations, observer) {{\n",
       "        var display = window.getComputedStyle(gd).display;\n",
       "        if (!display || display === 'none') {{\n",
       "            console.log([gd, 'removed!']);\n",
       "            Plotly.purge(gd);\n",
       "            observer.disconnect();\n",
       "        }}\n",
       "}});\n",
       "\n",
       "// Listen for the removal of the full notebook cells\n",
       "var notebookContainer = gd.closest('#notebook-container');\n",
       "if (notebookContainer) {{\n",
       "    x.observe(notebookContainer, {childList: true});\n",
       "}}\n",
       "\n",
       "// Listen for the clearing of the current output cell\n",
       "var outputEl = gd.closest('.output');\n",
       "if (outputEl) {{\n",
       "    x.observe(outputEl, {childList: true});\n",
       "}}\n",
       "\n",
       "                        })                };                });            </script>        </div>"
      ]
     },
     "metadata": {},
     "output_type": "display_data"
    }
   ],
   "source": [
    "df[['A','B']].iplot()"
   ]
  },
  {
   "cell_type": "markdown",
   "id": "df5b346d",
   "metadata": {},
   "source": [
    "### Histogram"
   ]
  },
  {
   "cell_type": "code",
   "execution_count": 48,
   "id": "1f642dee",
   "metadata": {},
   "outputs": [
    {
     "data": {
      "application/vnd.plotly.v1+json": {
       "config": {
        "linkText": "Export to plot.ly",
        "plotlyServerURL": "https://plot.ly",
        "showLink": true
       },
       "data": [
        {
         "histfunc": "count",
         "histnorm": "",
         "marker": {
          "color": "rgba(255, 153, 51, 1.0)",
          "line": {
           "color": "#4D5663",
           "width": 1.3
          }
         },
         "name": "A",
         "nbinsx": 50,
         "opacity": 0.8,
         "orientation": "v",
         "type": "histogram",
         "x": [
          0.4915889810451373,
          -0.502709032241364,
          -0.439660809274218,
          1.566586675251845,
          -0.6212578026798677,
          1.7776557644067656,
          0.8661298023840379,
          1.2706349857331831,
          1.1829527406936695,
          0.07381149895472465,
          0.4303466828369726,
          -0.9575027737008519,
          0.2448911967693874,
          0.04189873427502208,
          1.5647741213386723,
          0.5650390866380348,
          -0.4822423308956621,
          0.2877232264192255,
          1.2382658662292958,
          -0.703889579568911,
          -1.567758920770038,
          -0.02647700663406622,
          1.2742432983560472,
          0.24568074637287884,
          0.4093554625129669,
          -1.7037611549524168,
          0.3028826118549479,
          -1.3329700018952149,
          -2.3191071798134724,
          -0.4715275828898805,
          0.23336255517782983,
          -0.16015327795991532,
          -0.1009133565791417,
          -2.81926838345229,
          1.3654859862689102,
          0.4321785438498271,
          -0.8530812976871149,
          2.205208780788037,
          -1.036426166029101,
          -0.6148016609313836,
          -0.7804903323450012,
          0.31695605069133637,
          -0.36415029682631717,
          -0.11756535392984228,
          0.5012484638145545,
          0.14568939028348707,
          0.2748279734808271,
          -0.6781935523155721,
          0.2655237481306271,
          0.284077559638565,
          -1.7740915834552073,
          -1.2707521382258211,
          0.8654799498531212,
          0.531975731840595,
          -1.008064431305186,
          -1.047052004852239,
          0.15693951402710357,
          -0.061888674539695335,
          1.1472568799088285,
          -1.8232049204956886,
          -0.5088215335086028,
          0.8018888434820789,
          -1.193138125172003,
          1.1508657000784246,
          0.6197120558756081,
          -0.6717131229802509,
          -2.0860401916618696,
          -0.57342915056639,
          0.5374995212581878,
          -0.5328685673770484,
          -0.23785068830163442,
          0.45164324959069013,
          -0.01937340009535,
          0.11477937112607209,
          -0.14076154255896042,
          -0.13988385748639753,
          -0.7696645921042117,
          -0.18421016746021568,
          -0.21423330761126352,
          -0.00734890959141541,
          1.1328213530939724,
          -1.4287156552765827,
          -0.5516144642840903,
          -0.7931343423812411,
          0.5006083393739946,
          -0.0045120609205573795,
          0.05501801382379699,
          0.9560982713007699,
          1.179495400187467,
          -0.6439271361193529,
          -1.3620561504842512,
          1.6783810359332907,
          0.17790555885956716,
          -0.5337727464325431,
          0.529490162805114,
          -0.7710447878576198,
          -0.21522348807762237,
          0.2872358861077521,
          0.7924763496804115,
          -0.16831977505258977
         ]
        },
        {
         "histfunc": "count",
         "histnorm": "",
         "marker": {
          "color": "rgba(55, 128, 191, 1.0)",
          "line": {
           "color": "#4D5663",
           "width": 1.3
          }
         },
         "name": "B",
         "nbinsx": 50,
         "opacity": 0.8,
         "orientation": "v",
         "type": "histogram",
         "x": [
          -1.3275926421452904,
          -0.936339741020361,
          -0.13647734868874586,
          -2.2240640578978677,
          1.7394620755462407,
          -0.9836121549376742,
          0.34626738417910974,
          1.2047434241013317,
          1.40716285017813,
          1.607297362862324,
          1.1471127354058306,
          -1.0290993380333546,
          0.3382366893151083,
          1.2171761981322033,
          -2.098208032554198,
          0.6029330801302344,
          0.7289001703024334,
          -0.9748621397718429,
          -1.1333611351564175,
          -0.6438327393385788,
          -0.05736388655202392,
          0.8174149798334428,
          0.38307197322024256,
          -0.33450585472427186,
          -0.3208347691514773,
          1.1646184189868694,
          0.5472252231873067,
          0.18021263465929316,
          -1.4688972064557497,
          -0.007503782506332852,
          0.3921883000604201,
          -1.3139502090164275,
          1.048607779460764,
          0.39367903297019263,
          -0.009051504564113558,
          -1.901214271538554,
          -0.5171755167242869,
          0.9229573561035125,
          0.21267983927716877,
          -0.4370929342827836,
          0.2283932101125965,
          1.2176223801186772,
          -1.2090570542595627,
          2.5505564530909055,
          -0.6075715148722199,
          0.19176390475104416,
          0.769852942774043,
          0.7882324532714438,
          -1.3143619973703013,
          0.42644098330579333,
          -1.711462519248761,
          -0.16901255652128294,
          0.0532722679248608,
          -1.4604290285910726,
          -0.36053699012217083,
          0.5088195386777494,
          0.25542311236157367,
          -0.11186811351887037,
          0.5405878809143965,
          -0.04386982384945076,
          -0.16917336542894204,
          0.6633191366843727,
          -0.4989147864827021,
          0.1560136225260184,
          0.05272802990970662,
          -1.850465429629844,
          1.3834059410341466,
          -0.9218299190591187,
          -0.6063394567698026,
          -1.1886063318225617,
          0.10019920073973819,
          -0.2595092728091105,
          2.2190005527839,
          0.7659999908718104,
          -0.560468590169831,
          -1.8182133054973348,
          -0.11258377212132896,
          0.538066045580072,
          -0.4241680278188642,
          1.1654127387433164,
          -1.1549015772976388,
          0.69925676362351,
          -0.9108643560764622,
          -0.24661187787572553,
          -0.934632536808109,
          -0.2714279182553495,
          0.16631843471957616,
          0.31353363861918293,
          -0.9107335599140366,
          -0.25980191444427614,
          0.4628327390827214,
          -1.0223280885294475,
          -0.11416392676936336,
          0.0005269853392635756,
          0.6425260963846305,
          0.7306111095911784,
          -0.4308391283122783,
          0.821522465586635,
          -0.7522745648552567,
          -1.299678462575494
         ]
        },
        {
         "histfunc": "count",
         "histnorm": "",
         "marker": {
          "color": "rgba(50, 171, 96, 1.0)",
          "line": {
           "color": "#4D5663",
           "width": 1.3
          }
         },
         "name": "C",
         "nbinsx": 50,
         "opacity": 0.8,
         "orientation": "v",
         "type": "histogram",
         "x": [
          0.7299625284862286,
          2.3553416977424178,
          0.9439163197043687,
          -1.7485668461634558,
          0.67303371795341,
          -0.5827088164406231,
          -0.2298437357287439,
          -0.25299429402279805,
          2.243376147690324,
          0.026678264182821525,
          -0.009326706571950632,
          -1.28103276971166,
          -0.9018097255727358,
          -2.316355818136636,
          0.5765390416190728,
          -0.5461091032849023,
          -0.8367310170947283,
          -0.10534783116365523,
          1.5267070285714082,
          -1.9147501133533784,
          -0.5179575970987909,
          -1.060722722859043,
          -0.6002336281882471,
          1.4405474123808457,
          0.7600485110526476,
          -0.6111759262953101,
          0.5252641852189067,
          0.35234677933198255,
          -1.256464159844944,
          -0.4328089054815595,
          -0.564944070367201,
          1.3937889852249814,
          -0.6120421309973892,
          -1.9675877843906422,
          -0.41288518037872285,
          -0.1568912040337323,
          1.0096741355529157,
          -0.6497081922716762,
          0.4258224548117755,
          0.03419617577775748,
          0.2544273158327501,
          -1.2130175397650842,
          2.3039996012372805,
          -1.6914934829063475,
          -0.7401624318559102,
          0.4620462894350896,
          0.7961878899891845,
          0.806258868435501,
          0.7431934103318454,
          -0.20573033233185833,
          1.6716873719469132,
          -0.04951833789026921,
          1.4169100195351396,
          -0.4346643636616852,
          1.6271435354582984,
          -0.2125027399496185,
          -0.02916701828161739,
          -0.25266723938880226,
          1.9761466932774905,
          0.11007665834811947,
          0.2921641158126787,
          -0.9605877946560205,
          1.199755946328249,
          -0.15512336924943296,
          0.9932606411511252,
          0.46631966023247334,
          -0.8871888295482587,
          -0.38177735170627886,
          0.7880515178140529,
          -0.9196931896060868,
          1.2894821795957643,
          -0.8448972917184487,
          -0.11451821513216144,
          0.8822791063972072,
          -2.080895983039389,
          1.4661993777627285,
          0.27195893179757347,
          -2.4541448160069357,
          0.7955709411989315,
          -1.9578482622294364,
          -0.013272646509554342,
          -0.7987542104110034,
          1.27290935113707,
          1.245872469152833,
          0.6783887133174455,
          1.2203139391698046,
          0.18857306794771148,
          -0.12981951489743296,
          -0.3209816313541664,
          1.0042691846843708,
          -0.31179723886458666,
          0.6727438201213922,
          -0.13274620751416147,
          -0.4359416099838764,
          1.4825171216305515,
          -0.7349535329592677,
          0.4928961852590263,
          -1.334426537004841,
          0.2828080600024883,
          0.5354572657235364
         ]
        },
        {
         "histfunc": "count",
         "histnorm": "",
         "marker": {
          "color": "rgba(128, 0, 128, 1.0)",
          "line": {
           "color": "#4D5663",
           "width": 1.3
          }
         },
         "name": "D",
         "nbinsx": 50,
         "opacity": 0.8,
         "orientation": "v",
         "type": "histogram",
         "x": [
          0.17991151079674725,
          -0.8818903411696254,
          1.3396439701998577,
          1.696369655122254,
          -1.0170500743214117,
          0.9603589234497253,
          -0.5349114716957325,
          0.4312769284383472,
          -0.3939466022989687,
          -1.8390185998560094,
          -1.1313497571724336,
          1.901325649462984,
          0.6176164163701985,
          1.0542740552600596,
          -0.3840010843845273,
          0.8046073397273489,
          0.7841681451038326,
          -0.20004483375073087,
          -1.749805329024341,
          2.0139347918697927,
          1.102392118546163,
          0.5522964480257804,
          2.05685740313035,
          -0.290733835517606,
          2.316511549409668,
          0.2959399927339611,
          -2.1132641218016053,
          -2.4300130296167217,
          -0.20485450728479654,
          0.6151779208026293,
          -1.0369765204767676,
          0.9747137403714647,
          -0.6494041640418141,
          1.0214755133988165,
          -0.8083215035935389,
          -0.31708033874340197,
          -0.7074597122841649,
          0.5224799578028866,
          0.22314406620526706,
          1.0941308108555794,
          0.47059586801987585,
          1.617159855769574,
          -0.051782952977217064,
          0.49416903624601183,
          0.1374397219014256,
          -0.08125070664670438,
          0.41113960855405046,
          2.8434878484149735,
          -0.4499474136429881,
          -0.34481772452587217,
          1.3211447457021126,
          -1.3702997023912453,
          -2.4255657807136135,
          0.5397403971280657,
          -0.19062789328622026,
          -0.9803472848041662,
          0.6909063868697634,
          0.4101978167870579,
          -0.4715904537104075,
          0.278648053040416,
          -0.7592271707557713,
          1.4616578784460046,
          0.4098348999974717,
          0.31247051172196,
          -0.2549830016008637,
          -0.4401095504059153,
          -0.7977524197572258,
          -0.6094420744605716,
          0.13091200126183208,
          -0.3801814420807549,
          1.3252737961337921,
          -0.2712713813504625,
          -0.9441856769131897,
          -0.26134997431370866,
          -0.9988584715638273,
          1.5987048602259983,
          0.5445833903546733,
          -1.320378767639152,
          1.775006643180901,
          0.586076337208009,
          -0.2077034039617294,
          2.4043382124218446,
          -1.47900009750594,
          -1.9456475559711623,
          0.8532309696471242,
          -1.4822782895641395,
          2.8566202001860277,
          -0.9745444965686464,
          0.6341673693827251,
          1.5556971061323803,
          -0.7989512908345607,
          -0.3780272524410559,
          -1.7850324919265543,
          -0.04581736762010171,
          0.7724989771290007,
          -0.2109479207225484,
          0.9749941979637414,
          0.632229746732128,
          -0.18926098483585838,
          0.2742948244476812
         ]
        }
       ],
       "layout": {
        "barmode": "overlay",
        "legend": {
         "bgcolor": "#F5F6F9",
         "font": {
          "color": "#4D5663"
         }
        },
        "paper_bgcolor": "#F5F6F9",
        "plot_bgcolor": "#F5F6F9",
        "template": {
         "data": {
          "bar": [
           {
            "error_x": {
             "color": "#2a3f5f"
            },
            "error_y": {
             "color": "#2a3f5f"
            },
            "marker": {
             "line": {
              "color": "#E5ECF6",
              "width": 0.5
             }
            },
            "type": "bar"
           }
          ],
          "barpolar": [
           {
            "marker": {
             "line": {
              "color": "#E5ECF6",
              "width": 0.5
             }
            },
            "type": "barpolar"
           }
          ],
          "carpet": [
           {
            "aaxis": {
             "endlinecolor": "#2a3f5f",
             "gridcolor": "white",
             "linecolor": "white",
             "minorgridcolor": "white",
             "startlinecolor": "#2a3f5f"
            },
            "baxis": {
             "endlinecolor": "#2a3f5f",
             "gridcolor": "white",
             "linecolor": "white",
             "minorgridcolor": "white",
             "startlinecolor": "#2a3f5f"
            },
            "type": "carpet"
           }
          ],
          "choropleth": [
           {
            "colorbar": {
             "outlinewidth": 0,
             "ticks": ""
            },
            "type": "choropleth"
           }
          ],
          "contour": [
           {
            "colorbar": {
             "outlinewidth": 0,
             "ticks": ""
            },
            "colorscale": [
             [
              0,
              "#0d0887"
             ],
             [
              0.1111111111111111,
              "#46039f"
             ],
             [
              0.2222222222222222,
              "#7201a8"
             ],
             [
              0.3333333333333333,
              "#9c179e"
             ],
             [
              0.4444444444444444,
              "#bd3786"
             ],
             [
              0.5555555555555556,
              "#d8576b"
             ],
             [
              0.6666666666666666,
              "#ed7953"
             ],
             [
              0.7777777777777778,
              "#fb9f3a"
             ],
             [
              0.8888888888888888,
              "#fdca26"
             ],
             [
              1,
              "#f0f921"
             ]
            ],
            "type": "contour"
           }
          ],
          "contourcarpet": [
           {
            "colorbar": {
             "outlinewidth": 0,
             "ticks": ""
            },
            "type": "contourcarpet"
           }
          ],
          "heatmap": [
           {
            "colorbar": {
             "outlinewidth": 0,
             "ticks": ""
            },
            "colorscale": [
             [
              0,
              "#0d0887"
             ],
             [
              0.1111111111111111,
              "#46039f"
             ],
             [
              0.2222222222222222,
              "#7201a8"
             ],
             [
              0.3333333333333333,
              "#9c179e"
             ],
             [
              0.4444444444444444,
              "#bd3786"
             ],
             [
              0.5555555555555556,
              "#d8576b"
             ],
             [
              0.6666666666666666,
              "#ed7953"
             ],
             [
              0.7777777777777778,
              "#fb9f3a"
             ],
             [
              0.8888888888888888,
              "#fdca26"
             ],
             [
              1,
              "#f0f921"
             ]
            ],
            "type": "heatmap"
           }
          ],
          "heatmapgl": [
           {
            "colorbar": {
             "outlinewidth": 0,
             "ticks": ""
            },
            "colorscale": [
             [
              0,
              "#0d0887"
             ],
             [
              0.1111111111111111,
              "#46039f"
             ],
             [
              0.2222222222222222,
              "#7201a8"
             ],
             [
              0.3333333333333333,
              "#9c179e"
             ],
             [
              0.4444444444444444,
              "#bd3786"
             ],
             [
              0.5555555555555556,
              "#d8576b"
             ],
             [
              0.6666666666666666,
              "#ed7953"
             ],
             [
              0.7777777777777778,
              "#fb9f3a"
             ],
             [
              0.8888888888888888,
              "#fdca26"
             ],
             [
              1,
              "#f0f921"
             ]
            ],
            "type": "heatmapgl"
           }
          ],
          "histogram": [
           {
            "marker": {
             "colorbar": {
              "outlinewidth": 0,
              "ticks": ""
             }
            },
            "type": "histogram"
           }
          ],
          "histogram2d": [
           {
            "colorbar": {
             "outlinewidth": 0,
             "ticks": ""
            },
            "colorscale": [
             [
              0,
              "#0d0887"
             ],
             [
              0.1111111111111111,
              "#46039f"
             ],
             [
              0.2222222222222222,
              "#7201a8"
             ],
             [
              0.3333333333333333,
              "#9c179e"
             ],
             [
              0.4444444444444444,
              "#bd3786"
             ],
             [
              0.5555555555555556,
              "#d8576b"
             ],
             [
              0.6666666666666666,
              "#ed7953"
             ],
             [
              0.7777777777777778,
              "#fb9f3a"
             ],
             [
              0.8888888888888888,
              "#fdca26"
             ],
             [
              1,
              "#f0f921"
             ]
            ],
            "type": "histogram2d"
           }
          ],
          "histogram2dcontour": [
           {
            "colorbar": {
             "outlinewidth": 0,
             "ticks": ""
            },
            "colorscale": [
             [
              0,
              "#0d0887"
             ],
             [
              0.1111111111111111,
              "#46039f"
             ],
             [
              0.2222222222222222,
              "#7201a8"
             ],
             [
              0.3333333333333333,
              "#9c179e"
             ],
             [
              0.4444444444444444,
              "#bd3786"
             ],
             [
              0.5555555555555556,
              "#d8576b"
             ],
             [
              0.6666666666666666,
              "#ed7953"
             ],
             [
              0.7777777777777778,
              "#fb9f3a"
             ],
             [
              0.8888888888888888,
              "#fdca26"
             ],
             [
              1,
              "#f0f921"
             ]
            ],
            "type": "histogram2dcontour"
           }
          ],
          "mesh3d": [
           {
            "colorbar": {
             "outlinewidth": 0,
             "ticks": ""
            },
            "type": "mesh3d"
           }
          ],
          "parcoords": [
           {
            "line": {
             "colorbar": {
              "outlinewidth": 0,
              "ticks": ""
             }
            },
            "type": "parcoords"
           }
          ],
          "pie": [
           {
            "automargin": true,
            "type": "pie"
           }
          ],
          "scatter": [
           {
            "marker": {
             "colorbar": {
              "outlinewidth": 0,
              "ticks": ""
             }
            },
            "type": "scatter"
           }
          ],
          "scatter3d": [
           {
            "line": {
             "colorbar": {
              "outlinewidth": 0,
              "ticks": ""
             }
            },
            "marker": {
             "colorbar": {
              "outlinewidth": 0,
              "ticks": ""
             }
            },
            "type": "scatter3d"
           }
          ],
          "scattercarpet": [
           {
            "marker": {
             "colorbar": {
              "outlinewidth": 0,
              "ticks": ""
             }
            },
            "type": "scattercarpet"
           }
          ],
          "scattergeo": [
           {
            "marker": {
             "colorbar": {
              "outlinewidth": 0,
              "ticks": ""
             }
            },
            "type": "scattergeo"
           }
          ],
          "scattergl": [
           {
            "marker": {
             "colorbar": {
              "outlinewidth": 0,
              "ticks": ""
             }
            },
            "type": "scattergl"
           }
          ],
          "scattermapbox": [
           {
            "marker": {
             "colorbar": {
              "outlinewidth": 0,
              "ticks": ""
             }
            },
            "type": "scattermapbox"
           }
          ],
          "scatterpolar": [
           {
            "marker": {
             "colorbar": {
              "outlinewidth": 0,
              "ticks": ""
             }
            },
            "type": "scatterpolar"
           }
          ],
          "scatterpolargl": [
           {
            "marker": {
             "colorbar": {
              "outlinewidth": 0,
              "ticks": ""
             }
            },
            "type": "scatterpolargl"
           }
          ],
          "scatterternary": [
           {
            "marker": {
             "colorbar": {
              "outlinewidth": 0,
              "ticks": ""
             }
            },
            "type": "scatterternary"
           }
          ],
          "surface": [
           {
            "colorbar": {
             "outlinewidth": 0,
             "ticks": ""
            },
            "colorscale": [
             [
              0,
              "#0d0887"
             ],
             [
              0.1111111111111111,
              "#46039f"
             ],
             [
              0.2222222222222222,
              "#7201a8"
             ],
             [
              0.3333333333333333,
              "#9c179e"
             ],
             [
              0.4444444444444444,
              "#bd3786"
             ],
             [
              0.5555555555555556,
              "#d8576b"
             ],
             [
              0.6666666666666666,
              "#ed7953"
             ],
             [
              0.7777777777777778,
              "#fb9f3a"
             ],
             [
              0.8888888888888888,
              "#fdca26"
             ],
             [
              1,
              "#f0f921"
             ]
            ],
            "type": "surface"
           }
          ],
          "table": [
           {
            "cells": {
             "fill": {
              "color": "#EBF0F8"
             },
             "line": {
              "color": "white"
             }
            },
            "header": {
             "fill": {
              "color": "#C8D4E3"
             },
             "line": {
              "color": "white"
             }
            },
            "type": "table"
           }
          ]
         },
         "layout": {
          "annotationdefaults": {
           "arrowcolor": "#2a3f5f",
           "arrowhead": 0,
           "arrowwidth": 1
          },
          "autotypenumbers": "strict",
          "coloraxis": {
           "colorbar": {
            "outlinewidth": 0,
            "ticks": ""
           }
          },
          "colorscale": {
           "diverging": [
            [
             0,
             "#8e0152"
            ],
            [
             0.1,
             "#c51b7d"
            ],
            [
             0.2,
             "#de77ae"
            ],
            [
             0.3,
             "#f1b6da"
            ],
            [
             0.4,
             "#fde0ef"
            ],
            [
             0.5,
             "#f7f7f7"
            ],
            [
             0.6,
             "#e6f5d0"
            ],
            [
             0.7,
             "#b8e186"
            ],
            [
             0.8,
             "#7fbc41"
            ],
            [
             0.9,
             "#4d9221"
            ],
            [
             1,
             "#276419"
            ]
           ],
           "sequential": [
            [
             0,
             "#0d0887"
            ],
            [
             0.1111111111111111,
             "#46039f"
            ],
            [
             0.2222222222222222,
             "#7201a8"
            ],
            [
             0.3333333333333333,
             "#9c179e"
            ],
            [
             0.4444444444444444,
             "#bd3786"
            ],
            [
             0.5555555555555556,
             "#d8576b"
            ],
            [
             0.6666666666666666,
             "#ed7953"
            ],
            [
             0.7777777777777778,
             "#fb9f3a"
            ],
            [
             0.8888888888888888,
             "#fdca26"
            ],
            [
             1,
             "#f0f921"
            ]
           ],
           "sequentialminus": [
            [
             0,
             "#0d0887"
            ],
            [
             0.1111111111111111,
             "#46039f"
            ],
            [
             0.2222222222222222,
             "#7201a8"
            ],
            [
             0.3333333333333333,
             "#9c179e"
            ],
            [
             0.4444444444444444,
             "#bd3786"
            ],
            [
             0.5555555555555556,
             "#d8576b"
            ],
            [
             0.6666666666666666,
             "#ed7953"
            ],
            [
             0.7777777777777778,
             "#fb9f3a"
            ],
            [
             0.8888888888888888,
             "#fdca26"
            ],
            [
             1,
             "#f0f921"
            ]
           ]
          },
          "colorway": [
           "#636efa",
           "#EF553B",
           "#00cc96",
           "#ab63fa",
           "#FFA15A",
           "#19d3f3",
           "#FF6692",
           "#B6E880",
           "#FF97FF",
           "#FECB52"
          ],
          "font": {
           "color": "#2a3f5f"
          },
          "geo": {
           "bgcolor": "white",
           "lakecolor": "white",
           "landcolor": "#E5ECF6",
           "showlakes": true,
           "showland": true,
           "subunitcolor": "white"
          },
          "hoverlabel": {
           "align": "left"
          },
          "hovermode": "closest",
          "mapbox": {
           "style": "light"
          },
          "paper_bgcolor": "white",
          "plot_bgcolor": "#E5ECF6",
          "polar": {
           "angularaxis": {
            "gridcolor": "white",
            "linecolor": "white",
            "ticks": ""
           },
           "bgcolor": "#E5ECF6",
           "radialaxis": {
            "gridcolor": "white",
            "linecolor": "white",
            "ticks": ""
           }
          },
          "scene": {
           "xaxis": {
            "backgroundcolor": "#E5ECF6",
            "gridcolor": "white",
            "gridwidth": 2,
            "linecolor": "white",
            "showbackground": true,
            "ticks": "",
            "zerolinecolor": "white"
           },
           "yaxis": {
            "backgroundcolor": "#E5ECF6",
            "gridcolor": "white",
            "gridwidth": 2,
            "linecolor": "white",
            "showbackground": true,
            "ticks": "",
            "zerolinecolor": "white"
           },
           "zaxis": {
            "backgroundcolor": "#E5ECF6",
            "gridcolor": "white",
            "gridwidth": 2,
            "linecolor": "white",
            "showbackground": true,
            "ticks": "",
            "zerolinecolor": "white"
           }
          },
          "shapedefaults": {
           "line": {
            "color": "#2a3f5f"
           }
          },
          "ternary": {
           "aaxis": {
            "gridcolor": "white",
            "linecolor": "white",
            "ticks": ""
           },
           "baxis": {
            "gridcolor": "white",
            "linecolor": "white",
            "ticks": ""
           },
           "bgcolor": "#E5ECF6",
           "caxis": {
            "gridcolor": "white",
            "linecolor": "white",
            "ticks": ""
           }
          },
          "title": {
           "x": 0.05
          },
          "xaxis": {
           "automargin": true,
           "gridcolor": "white",
           "linecolor": "white",
           "ticks": "",
           "title": {
            "standoff": 15
           },
           "zerolinecolor": "white",
           "zerolinewidth": 2
          },
          "yaxis": {
           "automargin": true,
           "gridcolor": "white",
           "linecolor": "white",
           "ticks": "",
           "title": {
            "standoff": 15
           },
           "zerolinecolor": "white",
           "zerolinewidth": 2
          }
         }
        },
        "title": {
         "font": {
          "color": "#4D5663"
         }
        },
        "xaxis": {
         "gridcolor": "#E1E5ED",
         "showgrid": true,
         "tickfont": {
          "color": "#4D5663"
         },
         "title": {
          "font": {
           "color": "#4D5663"
          },
          "text": ""
         },
         "zerolinecolor": "#E1E5ED"
        },
        "yaxis": {
         "gridcolor": "#E1E5ED",
         "showgrid": true,
         "tickfont": {
          "color": "#4D5663"
         },
         "title": {
          "font": {
           "color": "#4D5663"
          },
          "text": ""
         },
         "zerolinecolor": "#E1E5ED"
        }
       }
      },
      "text/html": [
       "<div>                            <div id=\"45f501a7-e85d-47bb-a364-0f3f617a606d\" class=\"plotly-graph-div\" style=\"height:525px; width:100%;\"></div>            <script type=\"text/javascript\">                require([\"plotly\"], function(Plotly) {                    window.PLOTLYENV=window.PLOTLYENV || {};\n",
       "                    window.PLOTLYENV.BASE_URL='https://plot.ly';                                    if (document.getElementById(\"45f501a7-e85d-47bb-a364-0f3f617a606d\")) {                    Plotly.newPlot(                        \"45f501a7-e85d-47bb-a364-0f3f617a606d\",                        [{\"histfunc\": \"count\", \"histnorm\": \"\", \"marker\": {\"color\": \"rgba(255, 153, 51, 1.0)\", \"line\": {\"color\": \"#4D5663\", \"width\": 1.3}}, \"name\": \"A\", \"nbinsx\": 50, \"opacity\": 0.8, \"orientation\": \"v\", \"type\": \"histogram\", \"x\": [0.4915889810451373, -0.502709032241364, -0.439660809274218, 1.566586675251845, -0.6212578026798677, 1.7776557644067656, 0.8661298023840379, 1.2706349857331831, 1.1829527406936695, 0.07381149895472465, 0.4303466828369726, -0.9575027737008519, 0.2448911967693874, 0.04189873427502208, 1.5647741213386723, 0.5650390866380348, -0.4822423308956621, 0.2877232264192255, 1.2382658662292958, -0.703889579568911, -1.567758920770038, -0.02647700663406622, 1.2742432983560472, 0.24568074637287884, 0.4093554625129669, -1.7037611549524168, 0.3028826118549479, -1.3329700018952149, -2.3191071798134724, -0.4715275828898805, 0.23336255517782983, -0.16015327795991532, -0.1009133565791417, -2.81926838345229, 1.3654859862689102, 0.4321785438498271, -0.8530812976871149, 2.205208780788037, -1.036426166029101, -0.6148016609313836, -0.7804903323450012, 0.31695605069133637, -0.36415029682631717, -0.11756535392984228, 0.5012484638145545, 0.14568939028348707, 0.2748279734808271, -0.6781935523155721, 0.2655237481306271, 0.284077559638565, -1.7740915834552073, -1.2707521382258211, 0.8654799498531212, 0.531975731840595, -1.008064431305186, -1.047052004852239, 0.15693951402710357, -0.061888674539695335, 1.1472568799088285, -1.8232049204956886, -0.5088215335086028, 0.8018888434820789, -1.193138125172003, 1.1508657000784246, 0.6197120558756081, -0.6717131229802509, -2.0860401916618696, -0.57342915056639, 0.5374995212581878, -0.5328685673770484, -0.23785068830163442, 0.45164324959069013, -0.01937340009535, 0.11477937112607209, -0.14076154255896042, -0.13988385748639753, -0.7696645921042117, -0.18421016746021568, -0.21423330761126352, -0.00734890959141541, 1.1328213530939724, -1.4287156552765827, -0.5516144642840903, -0.7931343423812411, 0.5006083393739946, -0.0045120609205573795, 0.05501801382379699, 0.9560982713007699, 1.179495400187467, -0.6439271361193529, -1.3620561504842512, 1.6783810359332907, 0.17790555885956716, -0.5337727464325431, 0.529490162805114, -0.7710447878576198, -0.21522348807762237, 0.2872358861077521, 0.7924763496804115, -0.16831977505258977]}, {\"histfunc\": \"count\", \"histnorm\": \"\", \"marker\": {\"color\": \"rgba(55, 128, 191, 1.0)\", \"line\": {\"color\": \"#4D5663\", \"width\": 1.3}}, \"name\": \"B\", \"nbinsx\": 50, \"opacity\": 0.8, \"orientation\": \"v\", \"type\": \"histogram\", \"x\": [-1.3275926421452904, -0.936339741020361, -0.13647734868874586, -2.2240640578978677, 1.7394620755462407, -0.9836121549376742, 0.34626738417910974, 1.2047434241013317, 1.40716285017813, 1.607297362862324, 1.1471127354058306, -1.0290993380333546, 0.3382366893151083, 1.2171761981322033, -2.098208032554198, 0.6029330801302344, 0.7289001703024334, -0.9748621397718429, -1.1333611351564175, -0.6438327393385788, -0.05736388655202392, 0.8174149798334428, 0.38307197322024256, -0.33450585472427186, -0.3208347691514773, 1.1646184189868694, 0.5472252231873067, 0.18021263465929316, -1.4688972064557497, -0.007503782506332852, 0.3921883000604201, -1.3139502090164275, 1.048607779460764, 0.39367903297019263, -0.009051504564113558, -1.901214271538554, -0.5171755167242869, 0.9229573561035125, 0.21267983927716877, -0.4370929342827836, 0.2283932101125965, 1.2176223801186772, -1.2090570542595627, 2.5505564530909055, -0.6075715148722199, 0.19176390475104416, 0.769852942774043, 0.7882324532714438, -1.3143619973703013, 0.42644098330579333, -1.711462519248761, -0.16901255652128294, 0.0532722679248608, -1.4604290285910726, -0.36053699012217083, 0.5088195386777494, 0.25542311236157367, -0.11186811351887037, 0.5405878809143965, -0.04386982384945076, -0.16917336542894204, 0.6633191366843727, -0.4989147864827021, 0.1560136225260184, 0.05272802990970662, -1.850465429629844, 1.3834059410341466, -0.9218299190591187, -0.6063394567698026, -1.1886063318225617, 0.10019920073973819, -0.2595092728091105, 2.2190005527839, 0.7659999908718104, -0.560468590169831, -1.8182133054973348, -0.11258377212132896, 0.538066045580072, -0.4241680278188642, 1.1654127387433164, -1.1549015772976388, 0.69925676362351, -0.9108643560764622, -0.24661187787572553, -0.934632536808109, -0.2714279182553495, 0.16631843471957616, 0.31353363861918293, -0.9107335599140366, -0.25980191444427614, 0.4628327390827214, -1.0223280885294475, -0.11416392676936336, 0.0005269853392635756, 0.6425260963846305, 0.7306111095911784, -0.4308391283122783, 0.821522465586635, -0.7522745648552567, -1.299678462575494]}, {\"histfunc\": \"count\", \"histnorm\": \"\", \"marker\": {\"color\": \"rgba(50, 171, 96, 1.0)\", \"line\": {\"color\": \"#4D5663\", \"width\": 1.3}}, \"name\": \"C\", \"nbinsx\": 50, \"opacity\": 0.8, \"orientation\": \"v\", \"type\": \"histogram\", \"x\": [0.7299625284862286, 2.3553416977424178, 0.9439163197043687, -1.7485668461634558, 0.67303371795341, -0.5827088164406231, -0.2298437357287439, -0.25299429402279805, 2.243376147690324, 0.026678264182821525, -0.009326706571950632, -1.28103276971166, -0.9018097255727358, -2.316355818136636, 0.5765390416190728, -0.5461091032849023, -0.8367310170947283, -0.10534783116365523, 1.5267070285714082, -1.9147501133533784, -0.5179575970987909, -1.060722722859043, -0.6002336281882471, 1.4405474123808457, 0.7600485110526476, -0.6111759262953101, 0.5252641852189067, 0.35234677933198255, -1.256464159844944, -0.4328089054815595, -0.564944070367201, 1.3937889852249814, -0.6120421309973892, -1.9675877843906422, -0.41288518037872285, -0.1568912040337323, 1.0096741355529157, -0.6497081922716762, 0.4258224548117755, 0.03419617577775748, 0.2544273158327501, -1.2130175397650842, 2.3039996012372805, -1.6914934829063475, -0.7401624318559102, 0.4620462894350896, 0.7961878899891845, 0.806258868435501, 0.7431934103318454, -0.20573033233185833, 1.6716873719469132, -0.04951833789026921, 1.4169100195351396, -0.4346643636616852, 1.6271435354582984, -0.2125027399496185, -0.02916701828161739, -0.25266723938880226, 1.9761466932774905, 0.11007665834811947, 0.2921641158126787, -0.9605877946560205, 1.199755946328249, -0.15512336924943296, 0.9932606411511252, 0.46631966023247334, -0.8871888295482587, -0.38177735170627886, 0.7880515178140529, -0.9196931896060868, 1.2894821795957643, -0.8448972917184487, -0.11451821513216144, 0.8822791063972072, -2.080895983039389, 1.4661993777627285, 0.27195893179757347, -2.4541448160069357, 0.7955709411989315, -1.9578482622294364, -0.013272646509554342, -0.7987542104110034, 1.27290935113707, 1.245872469152833, 0.6783887133174455, 1.2203139391698046, 0.18857306794771148, -0.12981951489743296, -0.3209816313541664, 1.0042691846843708, -0.31179723886458666, 0.6727438201213922, -0.13274620751416147, -0.4359416099838764, 1.4825171216305515, -0.7349535329592677, 0.4928961852590263, -1.334426537004841, 0.2828080600024883, 0.5354572657235364]}, {\"histfunc\": \"count\", \"histnorm\": \"\", \"marker\": {\"color\": \"rgba(128, 0, 128, 1.0)\", \"line\": {\"color\": \"#4D5663\", \"width\": 1.3}}, \"name\": \"D\", \"nbinsx\": 50, \"opacity\": 0.8, \"orientation\": \"v\", \"type\": \"histogram\", \"x\": [0.17991151079674725, -0.8818903411696254, 1.3396439701998577, 1.696369655122254, -1.0170500743214117, 0.9603589234497253, -0.5349114716957325, 0.4312769284383472, -0.3939466022989687, -1.8390185998560094, -1.1313497571724336, 1.901325649462984, 0.6176164163701985, 1.0542740552600596, -0.3840010843845273, 0.8046073397273489, 0.7841681451038326, -0.20004483375073087, -1.749805329024341, 2.0139347918697927, 1.102392118546163, 0.5522964480257804, 2.05685740313035, -0.290733835517606, 2.316511549409668, 0.2959399927339611, -2.1132641218016053, -2.4300130296167217, -0.20485450728479654, 0.6151779208026293, -1.0369765204767676, 0.9747137403714647, -0.6494041640418141, 1.0214755133988165, -0.8083215035935389, -0.31708033874340197, -0.7074597122841649, 0.5224799578028866, 0.22314406620526706, 1.0941308108555794, 0.47059586801987585, 1.617159855769574, -0.051782952977217064, 0.49416903624601183, 0.1374397219014256, -0.08125070664670438, 0.41113960855405046, 2.8434878484149735, -0.4499474136429881, -0.34481772452587217, 1.3211447457021126, -1.3702997023912453, -2.4255657807136135, 0.5397403971280657, -0.19062789328622026, -0.9803472848041662, 0.6909063868697634, 0.4101978167870579, -0.4715904537104075, 0.278648053040416, -0.7592271707557713, 1.4616578784460046, 0.4098348999974717, 0.31247051172196, -0.2549830016008637, -0.4401095504059153, -0.7977524197572258, -0.6094420744605716, 0.13091200126183208, -0.3801814420807549, 1.3252737961337921, -0.2712713813504625, -0.9441856769131897, -0.26134997431370866, -0.9988584715638273, 1.5987048602259983, 0.5445833903546733, -1.320378767639152, 1.775006643180901, 0.586076337208009, -0.2077034039617294, 2.4043382124218446, -1.47900009750594, -1.9456475559711623, 0.8532309696471242, -1.4822782895641395, 2.8566202001860277, -0.9745444965686464, 0.6341673693827251, 1.5556971061323803, -0.7989512908345607, -0.3780272524410559, -1.7850324919265543, -0.04581736762010171, 0.7724989771290007, -0.2109479207225484, 0.9749941979637414, 0.632229746732128, -0.18926098483585838, 0.2742948244476812]}],                        {\"barmode\": \"overlay\", \"legend\": {\"bgcolor\": \"#F5F6F9\", \"font\": {\"color\": \"#4D5663\"}}, \"paper_bgcolor\": \"#F5F6F9\", \"plot_bgcolor\": \"#F5F6F9\", \"template\": {\"data\": {\"bar\": [{\"error_x\": {\"color\": \"#2a3f5f\"}, \"error_y\": {\"color\": \"#2a3f5f\"}, \"marker\": {\"line\": {\"color\": \"#E5ECF6\", \"width\": 0.5}}, \"type\": \"bar\"}], \"barpolar\": [{\"marker\": {\"line\": {\"color\": \"#E5ECF6\", \"width\": 0.5}}, \"type\": \"barpolar\"}], \"carpet\": [{\"aaxis\": {\"endlinecolor\": \"#2a3f5f\", \"gridcolor\": \"white\", \"linecolor\": \"white\", \"minorgridcolor\": \"white\", \"startlinecolor\": \"#2a3f5f\"}, \"baxis\": {\"endlinecolor\": \"#2a3f5f\", \"gridcolor\": \"white\", \"linecolor\": \"white\", \"minorgridcolor\": \"white\", \"startlinecolor\": \"#2a3f5f\"}, \"type\": \"carpet\"}], \"choropleth\": [{\"colorbar\": {\"outlinewidth\": 0, \"ticks\": \"\"}, \"type\": \"choropleth\"}], \"contour\": [{\"colorbar\": {\"outlinewidth\": 0, \"ticks\": \"\"}, \"colorscale\": [[0.0, \"#0d0887\"], [0.1111111111111111, \"#46039f\"], [0.2222222222222222, \"#7201a8\"], [0.3333333333333333, \"#9c179e\"], [0.4444444444444444, \"#bd3786\"], [0.5555555555555556, \"#d8576b\"], [0.6666666666666666, \"#ed7953\"], [0.7777777777777778, \"#fb9f3a\"], [0.8888888888888888, \"#fdca26\"], [1.0, \"#f0f921\"]], \"type\": \"contour\"}], \"contourcarpet\": [{\"colorbar\": {\"outlinewidth\": 0, \"ticks\": \"\"}, \"type\": \"contourcarpet\"}], \"heatmap\": [{\"colorbar\": {\"outlinewidth\": 0, \"ticks\": \"\"}, \"colorscale\": [[0.0, \"#0d0887\"], [0.1111111111111111, \"#46039f\"], [0.2222222222222222, \"#7201a8\"], [0.3333333333333333, \"#9c179e\"], [0.4444444444444444, \"#bd3786\"], [0.5555555555555556, \"#d8576b\"], [0.6666666666666666, \"#ed7953\"], [0.7777777777777778, \"#fb9f3a\"], [0.8888888888888888, \"#fdca26\"], [1.0, \"#f0f921\"]], \"type\": \"heatmap\"}], \"heatmapgl\": [{\"colorbar\": {\"outlinewidth\": 0, \"ticks\": \"\"}, \"colorscale\": [[0.0, \"#0d0887\"], [0.1111111111111111, \"#46039f\"], [0.2222222222222222, \"#7201a8\"], [0.3333333333333333, \"#9c179e\"], [0.4444444444444444, \"#bd3786\"], [0.5555555555555556, \"#d8576b\"], [0.6666666666666666, \"#ed7953\"], [0.7777777777777778, \"#fb9f3a\"], [0.8888888888888888, \"#fdca26\"], [1.0, \"#f0f921\"]], \"type\": \"heatmapgl\"}], \"histogram\": [{\"marker\": {\"colorbar\": {\"outlinewidth\": 0, \"ticks\": \"\"}}, \"type\": \"histogram\"}], \"histogram2d\": [{\"colorbar\": {\"outlinewidth\": 0, \"ticks\": \"\"}, \"colorscale\": [[0.0, \"#0d0887\"], [0.1111111111111111, \"#46039f\"], [0.2222222222222222, \"#7201a8\"], [0.3333333333333333, \"#9c179e\"], [0.4444444444444444, \"#bd3786\"], [0.5555555555555556, \"#d8576b\"], [0.6666666666666666, \"#ed7953\"], [0.7777777777777778, \"#fb9f3a\"], [0.8888888888888888, \"#fdca26\"], [1.0, \"#f0f921\"]], \"type\": \"histogram2d\"}], \"histogram2dcontour\": [{\"colorbar\": {\"outlinewidth\": 0, \"ticks\": \"\"}, \"colorscale\": [[0.0, \"#0d0887\"], [0.1111111111111111, \"#46039f\"], [0.2222222222222222, \"#7201a8\"], [0.3333333333333333, \"#9c179e\"], [0.4444444444444444, \"#bd3786\"], [0.5555555555555556, \"#d8576b\"], [0.6666666666666666, \"#ed7953\"], [0.7777777777777778, \"#fb9f3a\"], [0.8888888888888888, \"#fdca26\"], [1.0, \"#f0f921\"]], \"type\": \"histogram2dcontour\"}], \"mesh3d\": [{\"colorbar\": {\"outlinewidth\": 0, \"ticks\": \"\"}, \"type\": \"mesh3d\"}], \"parcoords\": [{\"line\": {\"colorbar\": {\"outlinewidth\": 0, \"ticks\": \"\"}}, \"type\": \"parcoords\"}], \"pie\": [{\"automargin\": true, \"type\": \"pie\"}], \"scatter\": [{\"marker\": {\"colorbar\": {\"outlinewidth\": 0, \"ticks\": \"\"}}, \"type\": \"scatter\"}], \"scatter3d\": [{\"line\": {\"colorbar\": {\"outlinewidth\": 0, \"ticks\": \"\"}}, \"marker\": {\"colorbar\": {\"outlinewidth\": 0, \"ticks\": \"\"}}, \"type\": \"scatter3d\"}], \"scattercarpet\": [{\"marker\": {\"colorbar\": {\"outlinewidth\": 0, \"ticks\": \"\"}}, \"type\": \"scattercarpet\"}], \"scattergeo\": [{\"marker\": {\"colorbar\": {\"outlinewidth\": 0, \"ticks\": \"\"}}, \"type\": \"scattergeo\"}], \"scattergl\": [{\"marker\": {\"colorbar\": {\"outlinewidth\": 0, \"ticks\": \"\"}}, \"type\": \"scattergl\"}], \"scattermapbox\": [{\"marker\": {\"colorbar\": {\"outlinewidth\": 0, \"ticks\": \"\"}}, \"type\": \"scattermapbox\"}], \"scatterpolar\": [{\"marker\": {\"colorbar\": {\"outlinewidth\": 0, \"ticks\": \"\"}}, \"type\": \"scatterpolar\"}], \"scatterpolargl\": [{\"marker\": {\"colorbar\": {\"outlinewidth\": 0, \"ticks\": \"\"}}, \"type\": \"scatterpolargl\"}], \"scatterternary\": [{\"marker\": {\"colorbar\": {\"outlinewidth\": 0, \"ticks\": \"\"}}, \"type\": \"scatterternary\"}], \"surface\": [{\"colorbar\": {\"outlinewidth\": 0, \"ticks\": \"\"}, \"colorscale\": [[0.0, \"#0d0887\"], [0.1111111111111111, \"#46039f\"], [0.2222222222222222, \"#7201a8\"], [0.3333333333333333, \"#9c179e\"], [0.4444444444444444, \"#bd3786\"], [0.5555555555555556, \"#d8576b\"], [0.6666666666666666, \"#ed7953\"], [0.7777777777777778, \"#fb9f3a\"], [0.8888888888888888, \"#fdca26\"], [1.0, \"#f0f921\"]], \"type\": \"surface\"}], \"table\": [{\"cells\": {\"fill\": {\"color\": \"#EBF0F8\"}, \"line\": {\"color\": \"white\"}}, \"header\": {\"fill\": {\"color\": \"#C8D4E3\"}, \"line\": {\"color\": \"white\"}}, \"type\": \"table\"}]}, \"layout\": {\"annotationdefaults\": {\"arrowcolor\": \"#2a3f5f\", \"arrowhead\": 0, \"arrowwidth\": 1}, \"autotypenumbers\": \"strict\", \"coloraxis\": {\"colorbar\": {\"outlinewidth\": 0, \"ticks\": \"\"}}, \"colorscale\": {\"diverging\": [[0, \"#8e0152\"], [0.1, \"#c51b7d\"], [0.2, \"#de77ae\"], [0.3, \"#f1b6da\"], [0.4, \"#fde0ef\"], [0.5, \"#f7f7f7\"], [0.6, \"#e6f5d0\"], [0.7, \"#b8e186\"], [0.8, \"#7fbc41\"], [0.9, \"#4d9221\"], [1, \"#276419\"]], \"sequential\": [[0.0, \"#0d0887\"], [0.1111111111111111, \"#46039f\"], [0.2222222222222222, \"#7201a8\"], [0.3333333333333333, \"#9c179e\"], [0.4444444444444444, \"#bd3786\"], [0.5555555555555556, \"#d8576b\"], [0.6666666666666666, \"#ed7953\"], [0.7777777777777778, \"#fb9f3a\"], [0.8888888888888888, \"#fdca26\"], [1.0, \"#f0f921\"]], \"sequentialminus\": [[0.0, \"#0d0887\"], [0.1111111111111111, \"#46039f\"], [0.2222222222222222, \"#7201a8\"], [0.3333333333333333, \"#9c179e\"], [0.4444444444444444, \"#bd3786\"], [0.5555555555555556, \"#d8576b\"], [0.6666666666666666, \"#ed7953\"], [0.7777777777777778, \"#fb9f3a\"], [0.8888888888888888, \"#fdca26\"], [1.0, \"#f0f921\"]]}, \"colorway\": [\"#636efa\", \"#EF553B\", \"#00cc96\", \"#ab63fa\", \"#FFA15A\", \"#19d3f3\", \"#FF6692\", \"#B6E880\", \"#FF97FF\", \"#FECB52\"], \"font\": {\"color\": \"#2a3f5f\"}, \"geo\": {\"bgcolor\": \"white\", \"lakecolor\": \"white\", \"landcolor\": \"#E5ECF6\", \"showlakes\": true, \"showland\": true, \"subunitcolor\": \"white\"}, \"hoverlabel\": {\"align\": \"left\"}, \"hovermode\": \"closest\", \"mapbox\": {\"style\": \"light\"}, \"paper_bgcolor\": \"white\", \"plot_bgcolor\": \"#E5ECF6\", \"polar\": {\"angularaxis\": {\"gridcolor\": \"white\", \"linecolor\": \"white\", \"ticks\": \"\"}, \"bgcolor\": \"#E5ECF6\", \"radialaxis\": {\"gridcolor\": \"white\", \"linecolor\": \"white\", \"ticks\": \"\"}}, \"scene\": {\"xaxis\": {\"backgroundcolor\": \"#E5ECF6\", \"gridcolor\": \"white\", \"gridwidth\": 2, \"linecolor\": \"white\", \"showbackground\": true, \"ticks\": \"\", \"zerolinecolor\": \"white\"}, \"yaxis\": {\"backgroundcolor\": \"#E5ECF6\", \"gridcolor\": \"white\", \"gridwidth\": 2, \"linecolor\": \"white\", \"showbackground\": true, \"ticks\": \"\", \"zerolinecolor\": \"white\"}, \"zaxis\": {\"backgroundcolor\": \"#E5ECF6\", \"gridcolor\": \"white\", \"gridwidth\": 2, \"linecolor\": \"white\", \"showbackground\": true, \"ticks\": \"\", \"zerolinecolor\": \"white\"}}, \"shapedefaults\": {\"line\": {\"color\": \"#2a3f5f\"}}, \"ternary\": {\"aaxis\": {\"gridcolor\": \"white\", \"linecolor\": \"white\", \"ticks\": \"\"}, \"baxis\": {\"gridcolor\": \"white\", \"linecolor\": \"white\", \"ticks\": \"\"}, \"bgcolor\": \"#E5ECF6\", \"caxis\": {\"gridcolor\": \"white\", \"linecolor\": \"white\", \"ticks\": \"\"}}, \"title\": {\"x\": 0.05}, \"xaxis\": {\"automargin\": true, \"gridcolor\": \"white\", \"linecolor\": \"white\", \"ticks\": \"\", \"title\": {\"standoff\": 15}, \"zerolinecolor\": \"white\", \"zerolinewidth\": 2}, \"yaxis\": {\"automargin\": true, \"gridcolor\": \"white\", \"linecolor\": \"white\", \"ticks\": \"\", \"title\": {\"standoff\": 15}, \"zerolinecolor\": \"white\", \"zerolinewidth\": 2}}}, \"title\": {\"font\": {\"color\": \"#4D5663\"}}, \"xaxis\": {\"gridcolor\": \"#E1E5ED\", \"showgrid\": true, \"tickfont\": {\"color\": \"#4D5663\"}, \"title\": {\"font\": {\"color\": \"#4D5663\"}, \"text\": \"\"}, \"zerolinecolor\": \"#E1E5ED\"}, \"yaxis\": {\"gridcolor\": \"#E1E5ED\", \"showgrid\": true, \"tickfont\": {\"color\": \"#4D5663\"}, \"title\": {\"font\": {\"color\": \"#4D5663\"}, \"text\": \"\"}, \"zerolinecolor\": \"#E1E5ED\"}},                        {\"showLink\": true, \"linkText\": \"Export to plot.ly\", \"plotlyServerURL\": \"https://plot.ly\", \"responsive\": true}                    ).then(function(){\n",
       "                            \n",
       "var gd = document.getElementById('45f501a7-e85d-47bb-a364-0f3f617a606d');\n",
       "var x = new MutationObserver(function (mutations, observer) {{\n",
       "        var display = window.getComputedStyle(gd).display;\n",
       "        if (!display || display === 'none') {{\n",
       "            console.log([gd, 'removed!']);\n",
       "            Plotly.purge(gd);\n",
       "            observer.disconnect();\n",
       "        }}\n",
       "}});\n",
       "\n",
       "// Listen for the removal of the full notebook cells\n",
       "var notebookContainer = gd.closest('#notebook-container');\n",
       "if (notebookContainer) {{\n",
       "    x.observe(notebookContainer, {childList: true});\n",
       "}}\n",
       "\n",
       "// Listen for the clearing of the current output cell\n",
       "var outputEl = gd.closest('.output');\n",
       "if (outputEl) {{\n",
       "    x.observe(outputEl, {childList: true});\n",
       "}}\n",
       "\n",
       "                        })                };                });            </script>        </div>"
      ]
     },
     "metadata": {},
     "output_type": "display_data"
    }
   ],
   "source": [
    "df.iplot(kind='hist',bins=50)"
   ]
  },
  {
   "cell_type": "markdown",
   "id": "f6cdbbb8",
   "metadata": {},
   "source": [
    "### Bubble Plot"
   ]
  },
  {
   "cell_type": "code",
   "execution_count": 49,
   "id": "e8d5ce57",
   "metadata": {
    "scrolled": false
   },
   "outputs": [
    {
     "data": {
      "application/vnd.plotly.v1+json": {
       "config": {
        "linkText": "Export to plot.ly",
        "plotlyServerURL": "https://plot.ly",
        "showLink": true
       },
       "data": [
        {
         "marker": {
          "color": [
           "red",
           "red",
           "red",
           "red",
           "red",
           "red",
           "red",
           "red",
           "red",
           "red",
           "red",
           "red",
           "red",
           "red",
           "red",
           "red",
           "red",
           "red",
           "red",
           "red",
           "red",
           "red",
           "red",
           "red",
           "red",
           "red",
           "red",
           "red",
           "red",
           "red",
           "red",
           "red",
           "red",
           "red",
           "red",
           "red",
           "red",
           "red",
           "red",
           "red",
           "red",
           "red",
           "red",
           "red",
           "red",
           "red",
           "red",
           "red",
           "red",
           "red",
           "red",
           "red",
           "red",
           "red",
           "red",
           "red",
           "red",
           "red",
           "red",
           "red",
           "red",
           "red",
           "red",
           "red",
           "red",
           "red",
           "red",
           "red",
           "red",
           "red",
           "red",
           "red",
           "red",
           "red",
           "red",
           "red",
           "red",
           "red",
           "red",
           "red",
           "red",
           "red",
           "red",
           "red",
           "red",
           "red",
           "red",
           "red",
           "red",
           "red",
           "red",
           "red",
           "red",
           "red",
           "red",
           "red",
           "red",
           "red",
           "red",
           "red"
          ],
          "line": {
           "width": 1.3
          },
          "size": [
           78,
           112,
           82,
           26,
           77,
           50,
           58,
           57,
           109,
           63,
           62,
           36,
           44,
           14,
           75,
           51,
           45,
           60,
           94,
           23,
           52,
           40,
           50,
           92,
           78,
           50,
           73,
           70,
           36,
           54,
           51,
           92,
           50,
           22,
           54,
           59,
           84,
           49,
           71,
           63,
           68,
           37,
           110,
           27,
           47,
           72,
           79,
           79,
           78,
           58,
           97,
           61,
           92,
           53,
           96,
           58,
           62,
           57,
           104,
           65,
           69,
           43,
           87,
           59,
           83,
           72,
           44,
           55,
           79,
           43,
           89,
           45,
           60,
           81,
           19,
           93,
           68,
           12,
           79,
           22,
           62,
           46,
           89,
           88,
           77,
           88,
           66,
           60,
           56,
           83,
           56,
           77,
           60,
           53,
           93,
           47,
           73,
           35,
           68,
           74
          ],
          "symbol": "circle"
         },
         "mode": "markers",
         "text": "",
         "type": "scatter",
         "x": [
          0.4915889810451373,
          -0.502709032241364,
          -0.439660809274218,
          1.566586675251845,
          -0.6212578026798677,
          1.7776557644067656,
          0.8661298023840379,
          1.2706349857331831,
          1.1829527406936695,
          0.07381149895472465,
          0.4303466828369726,
          -0.9575027737008519,
          0.2448911967693874,
          0.04189873427502208,
          1.5647741213386723,
          0.5650390866380348,
          -0.4822423308956621,
          0.2877232264192255,
          1.2382658662292958,
          -0.703889579568911,
          -1.567758920770038,
          -0.02647700663406622,
          1.2742432983560472,
          0.24568074637287884,
          0.4093554625129669,
          -1.7037611549524168,
          0.3028826118549479,
          -1.3329700018952149,
          -2.3191071798134724,
          -0.4715275828898805,
          0.23336255517782983,
          -0.16015327795991532,
          -0.1009133565791417,
          -2.81926838345229,
          1.3654859862689102,
          0.4321785438498271,
          -0.8530812976871149,
          2.205208780788037,
          -1.036426166029101,
          -0.6148016609313836,
          -0.7804903323450012,
          0.31695605069133637,
          -0.36415029682631717,
          -0.11756535392984228,
          0.5012484638145545,
          0.14568939028348707,
          0.2748279734808271,
          -0.6781935523155721,
          0.2655237481306271,
          0.284077559638565,
          -1.7740915834552073,
          -1.2707521382258211,
          0.8654799498531212,
          0.531975731840595,
          -1.008064431305186,
          -1.047052004852239,
          0.15693951402710357,
          -0.061888674539695335,
          1.1472568799088285,
          -1.8232049204956886,
          -0.5088215335086028,
          0.8018888434820789,
          -1.193138125172003,
          1.1508657000784246,
          0.6197120558756081,
          -0.6717131229802509,
          -2.0860401916618696,
          -0.57342915056639,
          0.5374995212581878,
          -0.5328685673770484,
          -0.23785068830163442,
          0.45164324959069013,
          -0.01937340009535,
          0.11477937112607209,
          -0.14076154255896042,
          -0.13988385748639753,
          -0.7696645921042117,
          -0.18421016746021568,
          -0.21423330761126352,
          -0.00734890959141541,
          1.1328213530939724,
          -1.4287156552765827,
          -0.5516144642840903,
          -0.7931343423812411,
          0.5006083393739946,
          -0.0045120609205573795,
          0.05501801382379699,
          0.9560982713007699,
          1.179495400187467,
          -0.6439271361193529,
          -1.3620561504842512,
          1.6783810359332907,
          0.17790555885956716,
          -0.5337727464325431,
          0.529490162805114,
          -0.7710447878576198,
          -0.21522348807762237,
          0.2872358861077521,
          0.7924763496804115,
          -0.16831977505258977
         ],
         "y": [
          -1.3275926421452904,
          -0.936339741020361,
          -0.13647734868874586,
          -2.2240640578978677,
          1.7394620755462407,
          -0.9836121549376742,
          0.34626738417910974,
          1.2047434241013317,
          1.40716285017813,
          1.607297362862324,
          1.1471127354058306,
          -1.0290993380333546,
          0.3382366893151083,
          1.2171761981322033,
          -2.098208032554198,
          0.6029330801302344,
          0.7289001703024334,
          -0.9748621397718429,
          -1.1333611351564175,
          -0.6438327393385788,
          -0.05736388655202392,
          0.8174149798334428,
          0.38307197322024256,
          -0.33450585472427186,
          -0.3208347691514773,
          1.1646184189868694,
          0.5472252231873067,
          0.18021263465929316,
          -1.4688972064557497,
          -0.007503782506332852,
          0.3921883000604201,
          -1.3139502090164275,
          1.048607779460764,
          0.39367903297019263,
          -0.009051504564113558,
          -1.901214271538554,
          -0.5171755167242869,
          0.9229573561035125,
          0.21267983927716877,
          -0.4370929342827836,
          0.2283932101125965,
          1.2176223801186772,
          -1.2090570542595627,
          2.5505564530909055,
          -0.6075715148722199,
          0.19176390475104416,
          0.769852942774043,
          0.7882324532714438,
          -1.3143619973703013,
          0.42644098330579333,
          -1.711462519248761,
          -0.16901255652128294,
          0.0532722679248608,
          -1.4604290285910726,
          -0.36053699012217083,
          0.5088195386777494,
          0.25542311236157367,
          -0.11186811351887037,
          0.5405878809143965,
          -0.04386982384945076,
          -0.16917336542894204,
          0.6633191366843727,
          -0.4989147864827021,
          0.1560136225260184,
          0.05272802990970662,
          -1.850465429629844,
          1.3834059410341466,
          -0.9218299190591187,
          -0.6063394567698026,
          -1.1886063318225617,
          0.10019920073973819,
          -0.2595092728091105,
          2.2190005527839,
          0.7659999908718104,
          -0.560468590169831,
          -1.8182133054973348,
          -0.11258377212132896,
          0.538066045580072,
          -0.4241680278188642,
          1.1654127387433164,
          -1.1549015772976388,
          0.69925676362351,
          -0.9108643560764622,
          -0.24661187787572553,
          -0.934632536808109,
          -0.2714279182553495,
          0.16631843471957616,
          0.31353363861918293,
          -0.9107335599140366,
          -0.25980191444427614,
          0.4628327390827214,
          -1.0223280885294475,
          -0.11416392676936336,
          0.0005269853392635756,
          0.6425260963846305,
          0.7306111095911784,
          -0.4308391283122783,
          0.821522465586635,
          -0.7522745648552567,
          -1.299678462575494
         ]
        }
       ],
       "layout": {
        "legend": {
         "bgcolor": "#F5F6F9",
         "font": {
          "color": "#4D5663"
         }
        },
        "paper_bgcolor": "#F5F6F9",
        "plot_bgcolor": "#F5F6F9",
        "template": {
         "data": {
          "bar": [
           {
            "error_x": {
             "color": "#2a3f5f"
            },
            "error_y": {
             "color": "#2a3f5f"
            },
            "marker": {
             "line": {
              "color": "#E5ECF6",
              "width": 0.5
             }
            },
            "type": "bar"
           }
          ],
          "barpolar": [
           {
            "marker": {
             "line": {
              "color": "#E5ECF6",
              "width": 0.5
             }
            },
            "type": "barpolar"
           }
          ],
          "carpet": [
           {
            "aaxis": {
             "endlinecolor": "#2a3f5f",
             "gridcolor": "white",
             "linecolor": "white",
             "minorgridcolor": "white",
             "startlinecolor": "#2a3f5f"
            },
            "baxis": {
             "endlinecolor": "#2a3f5f",
             "gridcolor": "white",
             "linecolor": "white",
             "minorgridcolor": "white",
             "startlinecolor": "#2a3f5f"
            },
            "type": "carpet"
           }
          ],
          "choropleth": [
           {
            "colorbar": {
             "outlinewidth": 0,
             "ticks": ""
            },
            "type": "choropleth"
           }
          ],
          "contour": [
           {
            "colorbar": {
             "outlinewidth": 0,
             "ticks": ""
            },
            "colorscale": [
             [
              0,
              "#0d0887"
             ],
             [
              0.1111111111111111,
              "#46039f"
             ],
             [
              0.2222222222222222,
              "#7201a8"
             ],
             [
              0.3333333333333333,
              "#9c179e"
             ],
             [
              0.4444444444444444,
              "#bd3786"
             ],
             [
              0.5555555555555556,
              "#d8576b"
             ],
             [
              0.6666666666666666,
              "#ed7953"
             ],
             [
              0.7777777777777778,
              "#fb9f3a"
             ],
             [
              0.8888888888888888,
              "#fdca26"
             ],
             [
              1,
              "#f0f921"
             ]
            ],
            "type": "contour"
           }
          ],
          "contourcarpet": [
           {
            "colorbar": {
             "outlinewidth": 0,
             "ticks": ""
            },
            "type": "contourcarpet"
           }
          ],
          "heatmap": [
           {
            "colorbar": {
             "outlinewidth": 0,
             "ticks": ""
            },
            "colorscale": [
             [
              0,
              "#0d0887"
             ],
             [
              0.1111111111111111,
              "#46039f"
             ],
             [
              0.2222222222222222,
              "#7201a8"
             ],
             [
              0.3333333333333333,
              "#9c179e"
             ],
             [
              0.4444444444444444,
              "#bd3786"
             ],
             [
              0.5555555555555556,
              "#d8576b"
             ],
             [
              0.6666666666666666,
              "#ed7953"
             ],
             [
              0.7777777777777778,
              "#fb9f3a"
             ],
             [
              0.8888888888888888,
              "#fdca26"
             ],
             [
              1,
              "#f0f921"
             ]
            ],
            "type": "heatmap"
           }
          ],
          "heatmapgl": [
           {
            "colorbar": {
             "outlinewidth": 0,
             "ticks": ""
            },
            "colorscale": [
             [
              0,
              "#0d0887"
             ],
             [
              0.1111111111111111,
              "#46039f"
             ],
             [
              0.2222222222222222,
              "#7201a8"
             ],
             [
              0.3333333333333333,
              "#9c179e"
             ],
             [
              0.4444444444444444,
              "#bd3786"
             ],
             [
              0.5555555555555556,
              "#d8576b"
             ],
             [
              0.6666666666666666,
              "#ed7953"
             ],
             [
              0.7777777777777778,
              "#fb9f3a"
             ],
             [
              0.8888888888888888,
              "#fdca26"
             ],
             [
              1,
              "#f0f921"
             ]
            ],
            "type": "heatmapgl"
           }
          ],
          "histogram": [
           {
            "marker": {
             "colorbar": {
              "outlinewidth": 0,
              "ticks": ""
             }
            },
            "type": "histogram"
           }
          ],
          "histogram2d": [
           {
            "colorbar": {
             "outlinewidth": 0,
             "ticks": ""
            },
            "colorscale": [
             [
              0,
              "#0d0887"
             ],
             [
              0.1111111111111111,
              "#46039f"
             ],
             [
              0.2222222222222222,
              "#7201a8"
             ],
             [
              0.3333333333333333,
              "#9c179e"
             ],
             [
              0.4444444444444444,
              "#bd3786"
             ],
             [
              0.5555555555555556,
              "#d8576b"
             ],
             [
              0.6666666666666666,
              "#ed7953"
             ],
             [
              0.7777777777777778,
              "#fb9f3a"
             ],
             [
              0.8888888888888888,
              "#fdca26"
             ],
             [
              1,
              "#f0f921"
             ]
            ],
            "type": "histogram2d"
           }
          ],
          "histogram2dcontour": [
           {
            "colorbar": {
             "outlinewidth": 0,
             "ticks": ""
            },
            "colorscale": [
             [
              0,
              "#0d0887"
             ],
             [
              0.1111111111111111,
              "#46039f"
             ],
             [
              0.2222222222222222,
              "#7201a8"
             ],
             [
              0.3333333333333333,
              "#9c179e"
             ],
             [
              0.4444444444444444,
              "#bd3786"
             ],
             [
              0.5555555555555556,
              "#d8576b"
             ],
             [
              0.6666666666666666,
              "#ed7953"
             ],
             [
              0.7777777777777778,
              "#fb9f3a"
             ],
             [
              0.8888888888888888,
              "#fdca26"
             ],
             [
              1,
              "#f0f921"
             ]
            ],
            "type": "histogram2dcontour"
           }
          ],
          "mesh3d": [
           {
            "colorbar": {
             "outlinewidth": 0,
             "ticks": ""
            },
            "type": "mesh3d"
           }
          ],
          "parcoords": [
           {
            "line": {
             "colorbar": {
              "outlinewidth": 0,
              "ticks": ""
             }
            },
            "type": "parcoords"
           }
          ],
          "pie": [
           {
            "automargin": true,
            "type": "pie"
           }
          ],
          "scatter": [
           {
            "marker": {
             "colorbar": {
              "outlinewidth": 0,
              "ticks": ""
             }
            },
            "type": "scatter"
           }
          ],
          "scatter3d": [
           {
            "line": {
             "colorbar": {
              "outlinewidth": 0,
              "ticks": ""
             }
            },
            "marker": {
             "colorbar": {
              "outlinewidth": 0,
              "ticks": ""
             }
            },
            "type": "scatter3d"
           }
          ],
          "scattercarpet": [
           {
            "marker": {
             "colorbar": {
              "outlinewidth": 0,
              "ticks": ""
             }
            },
            "type": "scattercarpet"
           }
          ],
          "scattergeo": [
           {
            "marker": {
             "colorbar": {
              "outlinewidth": 0,
              "ticks": ""
             }
            },
            "type": "scattergeo"
           }
          ],
          "scattergl": [
           {
            "marker": {
             "colorbar": {
              "outlinewidth": 0,
              "ticks": ""
             }
            },
            "type": "scattergl"
           }
          ],
          "scattermapbox": [
           {
            "marker": {
             "colorbar": {
              "outlinewidth": 0,
              "ticks": ""
             }
            },
            "type": "scattermapbox"
           }
          ],
          "scatterpolar": [
           {
            "marker": {
             "colorbar": {
              "outlinewidth": 0,
              "ticks": ""
             }
            },
            "type": "scatterpolar"
           }
          ],
          "scatterpolargl": [
           {
            "marker": {
             "colorbar": {
              "outlinewidth": 0,
              "ticks": ""
             }
            },
            "type": "scatterpolargl"
           }
          ],
          "scatterternary": [
           {
            "marker": {
             "colorbar": {
              "outlinewidth": 0,
              "ticks": ""
             }
            },
            "type": "scatterternary"
           }
          ],
          "surface": [
           {
            "colorbar": {
             "outlinewidth": 0,
             "ticks": ""
            },
            "colorscale": [
             [
              0,
              "#0d0887"
             ],
             [
              0.1111111111111111,
              "#46039f"
             ],
             [
              0.2222222222222222,
              "#7201a8"
             ],
             [
              0.3333333333333333,
              "#9c179e"
             ],
             [
              0.4444444444444444,
              "#bd3786"
             ],
             [
              0.5555555555555556,
              "#d8576b"
             ],
             [
              0.6666666666666666,
              "#ed7953"
             ],
             [
              0.7777777777777778,
              "#fb9f3a"
             ],
             [
              0.8888888888888888,
              "#fdca26"
             ],
             [
              1,
              "#f0f921"
             ]
            ],
            "type": "surface"
           }
          ],
          "table": [
           {
            "cells": {
             "fill": {
              "color": "#EBF0F8"
             },
             "line": {
              "color": "white"
             }
            },
            "header": {
             "fill": {
              "color": "#C8D4E3"
             },
             "line": {
              "color": "white"
             }
            },
            "type": "table"
           }
          ]
         },
         "layout": {
          "annotationdefaults": {
           "arrowcolor": "#2a3f5f",
           "arrowhead": 0,
           "arrowwidth": 1
          },
          "autotypenumbers": "strict",
          "coloraxis": {
           "colorbar": {
            "outlinewidth": 0,
            "ticks": ""
           }
          },
          "colorscale": {
           "diverging": [
            [
             0,
             "#8e0152"
            ],
            [
             0.1,
             "#c51b7d"
            ],
            [
             0.2,
             "#de77ae"
            ],
            [
             0.3,
             "#f1b6da"
            ],
            [
             0.4,
             "#fde0ef"
            ],
            [
             0.5,
             "#f7f7f7"
            ],
            [
             0.6,
             "#e6f5d0"
            ],
            [
             0.7,
             "#b8e186"
            ],
            [
             0.8,
             "#7fbc41"
            ],
            [
             0.9,
             "#4d9221"
            ],
            [
             1,
             "#276419"
            ]
           ],
           "sequential": [
            [
             0,
             "#0d0887"
            ],
            [
             0.1111111111111111,
             "#46039f"
            ],
            [
             0.2222222222222222,
             "#7201a8"
            ],
            [
             0.3333333333333333,
             "#9c179e"
            ],
            [
             0.4444444444444444,
             "#bd3786"
            ],
            [
             0.5555555555555556,
             "#d8576b"
            ],
            [
             0.6666666666666666,
             "#ed7953"
            ],
            [
             0.7777777777777778,
             "#fb9f3a"
            ],
            [
             0.8888888888888888,
             "#fdca26"
            ],
            [
             1,
             "#f0f921"
            ]
           ],
           "sequentialminus": [
            [
             0,
             "#0d0887"
            ],
            [
             0.1111111111111111,
             "#46039f"
            ],
            [
             0.2222222222222222,
             "#7201a8"
            ],
            [
             0.3333333333333333,
             "#9c179e"
            ],
            [
             0.4444444444444444,
             "#bd3786"
            ],
            [
             0.5555555555555556,
             "#d8576b"
            ],
            [
             0.6666666666666666,
             "#ed7953"
            ],
            [
             0.7777777777777778,
             "#fb9f3a"
            ],
            [
             0.8888888888888888,
             "#fdca26"
            ],
            [
             1,
             "#f0f921"
            ]
           ]
          },
          "colorway": [
           "#636efa",
           "#EF553B",
           "#00cc96",
           "#ab63fa",
           "#FFA15A",
           "#19d3f3",
           "#FF6692",
           "#B6E880",
           "#FF97FF",
           "#FECB52"
          ],
          "font": {
           "color": "#2a3f5f"
          },
          "geo": {
           "bgcolor": "white",
           "lakecolor": "white",
           "landcolor": "#E5ECF6",
           "showlakes": true,
           "showland": true,
           "subunitcolor": "white"
          },
          "hoverlabel": {
           "align": "left"
          },
          "hovermode": "closest",
          "mapbox": {
           "style": "light"
          },
          "paper_bgcolor": "white",
          "plot_bgcolor": "#E5ECF6",
          "polar": {
           "angularaxis": {
            "gridcolor": "white",
            "linecolor": "white",
            "ticks": ""
           },
           "bgcolor": "#E5ECF6",
           "radialaxis": {
            "gridcolor": "white",
            "linecolor": "white",
            "ticks": ""
           }
          },
          "scene": {
           "xaxis": {
            "backgroundcolor": "#E5ECF6",
            "gridcolor": "white",
            "gridwidth": 2,
            "linecolor": "white",
            "showbackground": true,
            "ticks": "",
            "zerolinecolor": "white"
           },
           "yaxis": {
            "backgroundcolor": "#E5ECF6",
            "gridcolor": "white",
            "gridwidth": 2,
            "linecolor": "white",
            "showbackground": true,
            "ticks": "",
            "zerolinecolor": "white"
           },
           "zaxis": {
            "backgroundcolor": "#E5ECF6",
            "gridcolor": "white",
            "gridwidth": 2,
            "linecolor": "white",
            "showbackground": true,
            "ticks": "",
            "zerolinecolor": "white"
           }
          },
          "shapedefaults": {
           "line": {
            "color": "#2a3f5f"
           }
          },
          "ternary": {
           "aaxis": {
            "gridcolor": "white",
            "linecolor": "white",
            "ticks": ""
           },
           "baxis": {
            "gridcolor": "white",
            "linecolor": "white",
            "ticks": ""
           },
           "bgcolor": "#E5ECF6",
           "caxis": {
            "gridcolor": "white",
            "linecolor": "white",
            "ticks": ""
           }
          },
          "title": {
           "x": 0.05
          },
          "xaxis": {
           "automargin": true,
           "gridcolor": "white",
           "linecolor": "white",
           "ticks": "",
           "title": {
            "standoff": 15
           },
           "zerolinecolor": "white",
           "zerolinewidth": 2
          },
          "yaxis": {
           "automargin": true,
           "gridcolor": "white",
           "linecolor": "white",
           "ticks": "",
           "title": {
            "standoff": 15
           },
           "zerolinecolor": "white",
           "zerolinewidth": 2
          }
         }
        },
        "title": {
         "font": {
          "color": "#4D5663"
         }
        },
        "xaxis": {
         "gridcolor": "#E1E5ED",
         "showgrid": true,
         "tickfont": {
          "color": "#4D5663"
         },
         "title": {
          "font": {
           "color": "#4D5663"
          },
          "text": ""
         },
         "zerolinecolor": "#E1E5ED"
        },
        "yaxis": {
         "gridcolor": "#E1E5ED",
         "showgrid": true,
         "tickfont": {
          "color": "#4D5663"
         },
         "title": {
          "font": {
           "color": "#4D5663"
          },
          "text": ""
         },
         "zerolinecolor": "#E1E5ED"
        }
       }
      },
      "text/html": [
       "<div>                            <div id=\"ae6840ae-63a8-425a-a071-bafa23e44ec6\" class=\"plotly-graph-div\" style=\"height:525px; width:100%;\"></div>            <script type=\"text/javascript\">                require([\"plotly\"], function(Plotly) {                    window.PLOTLYENV=window.PLOTLYENV || {};\n",
       "                    window.PLOTLYENV.BASE_URL='https://plot.ly';                                    if (document.getElementById(\"ae6840ae-63a8-425a-a071-bafa23e44ec6\")) {                    Plotly.newPlot(                        \"ae6840ae-63a8-425a-a071-bafa23e44ec6\",                        [{\"marker\": {\"color\": [\"red\", \"red\", \"red\", \"red\", \"red\", \"red\", \"red\", \"red\", \"red\", \"red\", \"red\", \"red\", \"red\", \"red\", \"red\", \"red\", \"red\", \"red\", \"red\", \"red\", \"red\", \"red\", \"red\", \"red\", \"red\", \"red\", \"red\", \"red\", \"red\", \"red\", \"red\", \"red\", \"red\", \"red\", \"red\", \"red\", \"red\", \"red\", \"red\", \"red\", \"red\", \"red\", \"red\", \"red\", \"red\", \"red\", \"red\", \"red\", \"red\", \"red\", \"red\", \"red\", \"red\", \"red\", \"red\", \"red\", \"red\", \"red\", \"red\", \"red\", \"red\", \"red\", \"red\", \"red\", \"red\", \"red\", \"red\", \"red\", \"red\", \"red\", \"red\", \"red\", \"red\", \"red\", \"red\", \"red\", \"red\", \"red\", \"red\", \"red\", \"red\", \"red\", \"red\", \"red\", \"red\", \"red\", \"red\", \"red\", \"red\", \"red\", \"red\", \"red\", \"red\", \"red\", \"red\", \"red\", \"red\", \"red\", \"red\", \"red\"], \"line\": {\"width\": 1.3}, \"size\": [78, 112, 82, 26, 77, 50, 58, 57, 109, 63, 62, 36, 44, 14, 75, 51, 45, 60, 94, 23, 52, 40, 50, 92, 78, 50, 73, 70, 36, 54, 51, 92, 50, 22, 54, 59, 84, 49, 71, 63, 68, 37, 110, 27, 47, 72, 79, 79, 78, 58, 97, 61, 92, 53, 96, 58, 62, 57, 104, 65, 69, 43, 87, 59, 83, 72, 44, 55, 79, 43, 89, 45, 60, 81, 19, 93, 68, 12, 79, 22, 62, 46, 89, 88, 77, 88, 66, 60, 56, 83, 56, 77, 60, 53, 93, 47, 73, 35, 68, 74], \"symbol\": \"circle\"}, \"mode\": \"markers\", \"text\": \"\", \"type\": \"scatter\", \"x\": [0.4915889810451373, -0.502709032241364, -0.439660809274218, 1.566586675251845, -0.6212578026798677, 1.7776557644067656, 0.8661298023840379, 1.2706349857331831, 1.1829527406936695, 0.07381149895472465, 0.4303466828369726, -0.9575027737008519, 0.2448911967693874, 0.04189873427502208, 1.5647741213386723, 0.5650390866380348, -0.4822423308956621, 0.2877232264192255, 1.2382658662292958, -0.703889579568911, -1.567758920770038, -0.02647700663406622, 1.2742432983560472, 0.24568074637287884, 0.4093554625129669, -1.7037611549524168, 0.3028826118549479, -1.3329700018952149, -2.3191071798134724, -0.4715275828898805, 0.23336255517782983, -0.16015327795991532, -0.1009133565791417, -2.81926838345229, 1.3654859862689102, 0.4321785438498271, -0.8530812976871149, 2.205208780788037, -1.036426166029101, -0.6148016609313836, -0.7804903323450012, 0.31695605069133637, -0.36415029682631717, -0.11756535392984228, 0.5012484638145545, 0.14568939028348707, 0.2748279734808271, -0.6781935523155721, 0.2655237481306271, 0.284077559638565, -1.7740915834552073, -1.2707521382258211, 0.8654799498531212, 0.531975731840595, -1.008064431305186, -1.047052004852239, 0.15693951402710357, -0.061888674539695335, 1.1472568799088285, -1.8232049204956886, -0.5088215335086028, 0.8018888434820789, -1.193138125172003, 1.1508657000784246, 0.6197120558756081, -0.6717131229802509, -2.0860401916618696, -0.57342915056639, 0.5374995212581878, -0.5328685673770484, -0.23785068830163442, 0.45164324959069013, -0.01937340009535, 0.11477937112607209, -0.14076154255896042, -0.13988385748639753, -0.7696645921042117, -0.18421016746021568, -0.21423330761126352, -0.00734890959141541, 1.1328213530939724, -1.4287156552765827, -0.5516144642840903, -0.7931343423812411, 0.5006083393739946, -0.0045120609205573795, 0.05501801382379699, 0.9560982713007699, 1.179495400187467, -0.6439271361193529, -1.3620561504842512, 1.6783810359332907, 0.17790555885956716, -0.5337727464325431, 0.529490162805114, -0.7710447878576198, -0.21522348807762237, 0.2872358861077521, 0.7924763496804115, -0.16831977505258977], \"y\": [-1.3275926421452904, -0.936339741020361, -0.13647734868874586, -2.2240640578978677, 1.7394620755462407, -0.9836121549376742, 0.34626738417910974, 1.2047434241013317, 1.40716285017813, 1.607297362862324, 1.1471127354058306, -1.0290993380333546, 0.3382366893151083, 1.2171761981322033, -2.098208032554198, 0.6029330801302344, 0.7289001703024334, -0.9748621397718429, -1.1333611351564175, -0.6438327393385788, -0.05736388655202392, 0.8174149798334428, 0.38307197322024256, -0.33450585472427186, -0.3208347691514773, 1.1646184189868694, 0.5472252231873067, 0.18021263465929316, -1.4688972064557497, -0.007503782506332852, 0.3921883000604201, -1.3139502090164275, 1.048607779460764, 0.39367903297019263, -0.009051504564113558, -1.901214271538554, -0.5171755167242869, 0.9229573561035125, 0.21267983927716877, -0.4370929342827836, 0.2283932101125965, 1.2176223801186772, -1.2090570542595627, 2.5505564530909055, -0.6075715148722199, 0.19176390475104416, 0.769852942774043, 0.7882324532714438, -1.3143619973703013, 0.42644098330579333, -1.711462519248761, -0.16901255652128294, 0.0532722679248608, -1.4604290285910726, -0.36053699012217083, 0.5088195386777494, 0.25542311236157367, -0.11186811351887037, 0.5405878809143965, -0.04386982384945076, -0.16917336542894204, 0.6633191366843727, -0.4989147864827021, 0.1560136225260184, 0.05272802990970662, -1.850465429629844, 1.3834059410341466, -0.9218299190591187, -0.6063394567698026, -1.1886063318225617, 0.10019920073973819, -0.2595092728091105, 2.2190005527839, 0.7659999908718104, -0.560468590169831, -1.8182133054973348, -0.11258377212132896, 0.538066045580072, -0.4241680278188642, 1.1654127387433164, -1.1549015772976388, 0.69925676362351, -0.9108643560764622, -0.24661187787572553, -0.934632536808109, -0.2714279182553495, 0.16631843471957616, 0.31353363861918293, -0.9107335599140366, -0.25980191444427614, 0.4628327390827214, -1.0223280885294475, -0.11416392676936336, 0.0005269853392635756, 0.6425260963846305, 0.7306111095911784, -0.4308391283122783, 0.821522465586635, -0.7522745648552567, -1.299678462575494]}],                        {\"legend\": {\"bgcolor\": \"#F5F6F9\", \"font\": {\"color\": \"#4D5663\"}}, \"paper_bgcolor\": \"#F5F6F9\", \"plot_bgcolor\": \"#F5F6F9\", \"template\": {\"data\": {\"bar\": [{\"error_x\": {\"color\": \"#2a3f5f\"}, \"error_y\": {\"color\": \"#2a3f5f\"}, \"marker\": {\"line\": {\"color\": \"#E5ECF6\", \"width\": 0.5}}, \"type\": \"bar\"}], \"barpolar\": [{\"marker\": {\"line\": {\"color\": \"#E5ECF6\", \"width\": 0.5}}, \"type\": \"barpolar\"}], \"carpet\": [{\"aaxis\": {\"endlinecolor\": \"#2a3f5f\", \"gridcolor\": \"white\", \"linecolor\": \"white\", \"minorgridcolor\": \"white\", \"startlinecolor\": \"#2a3f5f\"}, \"baxis\": {\"endlinecolor\": \"#2a3f5f\", \"gridcolor\": \"white\", \"linecolor\": \"white\", \"minorgridcolor\": \"white\", \"startlinecolor\": \"#2a3f5f\"}, \"type\": \"carpet\"}], \"choropleth\": [{\"colorbar\": {\"outlinewidth\": 0, \"ticks\": \"\"}, \"type\": \"choropleth\"}], \"contour\": [{\"colorbar\": {\"outlinewidth\": 0, \"ticks\": \"\"}, \"colorscale\": [[0.0, \"#0d0887\"], [0.1111111111111111, \"#46039f\"], [0.2222222222222222, \"#7201a8\"], [0.3333333333333333, \"#9c179e\"], [0.4444444444444444, \"#bd3786\"], [0.5555555555555556, \"#d8576b\"], [0.6666666666666666, \"#ed7953\"], [0.7777777777777778, \"#fb9f3a\"], [0.8888888888888888, \"#fdca26\"], [1.0, \"#f0f921\"]], \"type\": \"contour\"}], \"contourcarpet\": [{\"colorbar\": {\"outlinewidth\": 0, \"ticks\": \"\"}, \"type\": \"contourcarpet\"}], \"heatmap\": [{\"colorbar\": {\"outlinewidth\": 0, \"ticks\": \"\"}, \"colorscale\": [[0.0, \"#0d0887\"], [0.1111111111111111, \"#46039f\"], [0.2222222222222222, \"#7201a8\"], [0.3333333333333333, \"#9c179e\"], [0.4444444444444444, \"#bd3786\"], [0.5555555555555556, \"#d8576b\"], [0.6666666666666666, \"#ed7953\"], [0.7777777777777778, \"#fb9f3a\"], [0.8888888888888888, \"#fdca26\"], [1.0, \"#f0f921\"]], \"type\": \"heatmap\"}], \"heatmapgl\": [{\"colorbar\": {\"outlinewidth\": 0, \"ticks\": \"\"}, \"colorscale\": [[0.0, \"#0d0887\"], [0.1111111111111111, \"#46039f\"], [0.2222222222222222, \"#7201a8\"], [0.3333333333333333, \"#9c179e\"], [0.4444444444444444, \"#bd3786\"], [0.5555555555555556, \"#d8576b\"], [0.6666666666666666, \"#ed7953\"], [0.7777777777777778, \"#fb9f3a\"], [0.8888888888888888, \"#fdca26\"], [1.0, \"#f0f921\"]], \"type\": \"heatmapgl\"}], \"histogram\": [{\"marker\": {\"colorbar\": {\"outlinewidth\": 0, \"ticks\": \"\"}}, \"type\": \"histogram\"}], \"histogram2d\": [{\"colorbar\": {\"outlinewidth\": 0, \"ticks\": \"\"}, \"colorscale\": [[0.0, \"#0d0887\"], [0.1111111111111111, \"#46039f\"], [0.2222222222222222, \"#7201a8\"], [0.3333333333333333, \"#9c179e\"], [0.4444444444444444, \"#bd3786\"], [0.5555555555555556, \"#d8576b\"], [0.6666666666666666, \"#ed7953\"], [0.7777777777777778, \"#fb9f3a\"], [0.8888888888888888, \"#fdca26\"], [1.0, \"#f0f921\"]], \"type\": \"histogram2d\"}], \"histogram2dcontour\": [{\"colorbar\": {\"outlinewidth\": 0, \"ticks\": \"\"}, \"colorscale\": [[0.0, \"#0d0887\"], [0.1111111111111111, \"#46039f\"], [0.2222222222222222, \"#7201a8\"], [0.3333333333333333, \"#9c179e\"], [0.4444444444444444, \"#bd3786\"], [0.5555555555555556, \"#d8576b\"], [0.6666666666666666, \"#ed7953\"], [0.7777777777777778, \"#fb9f3a\"], [0.8888888888888888, \"#fdca26\"], [1.0, \"#f0f921\"]], \"type\": \"histogram2dcontour\"}], \"mesh3d\": [{\"colorbar\": {\"outlinewidth\": 0, \"ticks\": \"\"}, \"type\": \"mesh3d\"}], \"parcoords\": [{\"line\": {\"colorbar\": {\"outlinewidth\": 0, \"ticks\": \"\"}}, \"type\": \"parcoords\"}], \"pie\": [{\"automargin\": true, \"type\": \"pie\"}], \"scatter\": [{\"marker\": {\"colorbar\": {\"outlinewidth\": 0, \"ticks\": \"\"}}, \"type\": \"scatter\"}], \"scatter3d\": [{\"line\": {\"colorbar\": {\"outlinewidth\": 0, \"ticks\": \"\"}}, \"marker\": {\"colorbar\": {\"outlinewidth\": 0, \"ticks\": \"\"}}, \"type\": \"scatter3d\"}], \"scattercarpet\": [{\"marker\": {\"colorbar\": {\"outlinewidth\": 0, \"ticks\": \"\"}}, \"type\": \"scattercarpet\"}], \"scattergeo\": [{\"marker\": {\"colorbar\": {\"outlinewidth\": 0, \"ticks\": \"\"}}, \"type\": \"scattergeo\"}], \"scattergl\": [{\"marker\": {\"colorbar\": {\"outlinewidth\": 0, \"ticks\": \"\"}}, \"type\": \"scattergl\"}], \"scattermapbox\": [{\"marker\": {\"colorbar\": {\"outlinewidth\": 0, \"ticks\": \"\"}}, \"type\": \"scattermapbox\"}], \"scatterpolar\": [{\"marker\": {\"colorbar\": {\"outlinewidth\": 0, \"ticks\": \"\"}}, \"type\": \"scatterpolar\"}], \"scatterpolargl\": [{\"marker\": {\"colorbar\": {\"outlinewidth\": 0, \"ticks\": \"\"}}, \"type\": \"scatterpolargl\"}], \"scatterternary\": [{\"marker\": {\"colorbar\": {\"outlinewidth\": 0, \"ticks\": \"\"}}, \"type\": \"scatterternary\"}], \"surface\": [{\"colorbar\": {\"outlinewidth\": 0, \"ticks\": \"\"}, \"colorscale\": [[0.0, \"#0d0887\"], [0.1111111111111111, \"#46039f\"], [0.2222222222222222, \"#7201a8\"], [0.3333333333333333, \"#9c179e\"], [0.4444444444444444, \"#bd3786\"], [0.5555555555555556, \"#d8576b\"], [0.6666666666666666, \"#ed7953\"], [0.7777777777777778, \"#fb9f3a\"], [0.8888888888888888, \"#fdca26\"], [1.0, \"#f0f921\"]], \"type\": \"surface\"}], \"table\": [{\"cells\": {\"fill\": {\"color\": \"#EBF0F8\"}, \"line\": {\"color\": \"white\"}}, \"header\": {\"fill\": {\"color\": \"#C8D4E3\"}, \"line\": {\"color\": \"white\"}}, \"type\": \"table\"}]}, \"layout\": {\"annotationdefaults\": {\"arrowcolor\": \"#2a3f5f\", \"arrowhead\": 0, \"arrowwidth\": 1}, \"autotypenumbers\": \"strict\", \"coloraxis\": {\"colorbar\": {\"outlinewidth\": 0, \"ticks\": \"\"}}, \"colorscale\": {\"diverging\": [[0, \"#8e0152\"], [0.1, \"#c51b7d\"], [0.2, \"#de77ae\"], [0.3, \"#f1b6da\"], [0.4, \"#fde0ef\"], [0.5, \"#f7f7f7\"], [0.6, \"#e6f5d0\"], [0.7, \"#b8e186\"], [0.8, \"#7fbc41\"], [0.9, \"#4d9221\"], [1, \"#276419\"]], \"sequential\": [[0.0, \"#0d0887\"], [0.1111111111111111, \"#46039f\"], [0.2222222222222222, \"#7201a8\"], [0.3333333333333333, \"#9c179e\"], [0.4444444444444444, \"#bd3786\"], [0.5555555555555556, \"#d8576b\"], [0.6666666666666666, \"#ed7953\"], [0.7777777777777778, \"#fb9f3a\"], [0.8888888888888888, \"#fdca26\"], [1.0, \"#f0f921\"]], \"sequentialminus\": [[0.0, \"#0d0887\"], [0.1111111111111111, \"#46039f\"], [0.2222222222222222, \"#7201a8\"], [0.3333333333333333, \"#9c179e\"], [0.4444444444444444, \"#bd3786\"], [0.5555555555555556, \"#d8576b\"], [0.6666666666666666, \"#ed7953\"], [0.7777777777777778, \"#fb9f3a\"], [0.8888888888888888, \"#fdca26\"], [1.0, \"#f0f921\"]]}, \"colorway\": [\"#636efa\", \"#EF553B\", \"#00cc96\", \"#ab63fa\", \"#FFA15A\", \"#19d3f3\", \"#FF6692\", \"#B6E880\", \"#FF97FF\", \"#FECB52\"], \"font\": {\"color\": \"#2a3f5f\"}, \"geo\": {\"bgcolor\": \"white\", \"lakecolor\": \"white\", \"landcolor\": \"#E5ECF6\", \"showlakes\": true, \"showland\": true, \"subunitcolor\": \"white\"}, \"hoverlabel\": {\"align\": \"left\"}, \"hovermode\": \"closest\", \"mapbox\": {\"style\": \"light\"}, \"paper_bgcolor\": \"white\", \"plot_bgcolor\": \"#E5ECF6\", \"polar\": {\"angularaxis\": {\"gridcolor\": \"white\", \"linecolor\": \"white\", \"ticks\": \"\"}, \"bgcolor\": \"#E5ECF6\", \"radialaxis\": {\"gridcolor\": \"white\", \"linecolor\": \"white\", \"ticks\": \"\"}}, \"scene\": {\"xaxis\": {\"backgroundcolor\": \"#E5ECF6\", \"gridcolor\": \"white\", \"gridwidth\": 2, \"linecolor\": \"white\", \"showbackground\": true, \"ticks\": \"\", \"zerolinecolor\": \"white\"}, \"yaxis\": {\"backgroundcolor\": \"#E5ECF6\", \"gridcolor\": \"white\", \"gridwidth\": 2, \"linecolor\": \"white\", \"showbackground\": true, \"ticks\": \"\", \"zerolinecolor\": \"white\"}, \"zaxis\": {\"backgroundcolor\": \"#E5ECF6\", \"gridcolor\": \"white\", \"gridwidth\": 2, \"linecolor\": \"white\", \"showbackground\": true, \"ticks\": \"\", \"zerolinecolor\": \"white\"}}, \"shapedefaults\": {\"line\": {\"color\": \"#2a3f5f\"}}, \"ternary\": {\"aaxis\": {\"gridcolor\": \"white\", \"linecolor\": \"white\", \"ticks\": \"\"}, \"baxis\": {\"gridcolor\": \"white\", \"linecolor\": \"white\", \"ticks\": \"\"}, \"bgcolor\": \"#E5ECF6\", \"caxis\": {\"gridcolor\": \"white\", \"linecolor\": \"white\", \"ticks\": \"\"}}, \"title\": {\"x\": 0.05}, \"xaxis\": {\"automargin\": true, \"gridcolor\": \"white\", \"linecolor\": \"white\", \"ticks\": \"\", \"title\": {\"standoff\": 15}, \"zerolinecolor\": \"white\", \"zerolinewidth\": 2}, \"yaxis\": {\"automargin\": true, \"gridcolor\": \"white\", \"linecolor\": \"white\", \"ticks\": \"\", \"title\": {\"standoff\": 15}, \"zerolinecolor\": \"white\", \"zerolinewidth\": 2}}}, \"title\": {\"font\": {\"color\": \"#4D5663\"}}, \"xaxis\": {\"gridcolor\": \"#E1E5ED\", \"showgrid\": true, \"tickfont\": {\"color\": \"#4D5663\"}, \"title\": {\"font\": {\"color\": \"#4D5663\"}, \"text\": \"\"}, \"zerolinecolor\": \"#E1E5ED\"}, \"yaxis\": {\"gridcolor\": \"#E1E5ED\", \"showgrid\": true, \"tickfont\": {\"color\": \"#4D5663\"}, \"title\": {\"font\": {\"color\": \"#4D5663\"}, \"text\": \"\"}, \"zerolinecolor\": \"#E1E5ED\"}},                        {\"showLink\": true, \"linkText\": \"Export to plot.ly\", \"plotlyServerURL\": \"https://plot.ly\", \"responsive\": true}                    ).then(function(){\n",
       "                            \n",
       "var gd = document.getElementById('ae6840ae-63a8-425a-a071-bafa23e44ec6');\n",
       "var x = new MutationObserver(function (mutations, observer) {{\n",
       "        var display = window.getComputedStyle(gd).display;\n",
       "        if (!display || display === 'none') {{\n",
       "            console.log([gd, 'removed!']);\n",
       "            Plotly.purge(gd);\n",
       "            observer.disconnect();\n",
       "        }}\n",
       "}});\n",
       "\n",
       "// Listen for the removal of the full notebook cells\n",
       "var notebookContainer = gd.closest('#notebook-container');\n",
       "if (notebookContainer) {{\n",
       "    x.observe(notebookContainer, {childList: true});\n",
       "}}\n",
       "\n",
       "// Listen for the clearing of the current output cell\n",
       "var outputEl = gd.closest('.output');\n",
       "if (outputEl) {{\n",
       "    x.observe(outputEl, {childList: true});\n",
       "}}\n",
       "\n",
       "                        })                };                });            </script>        </div>"
      ]
     },
     "metadata": {},
     "output_type": "display_data"
    }
   ],
   "source": [
    "df.iplot(kind='bubble',x='A',y='B',size='C',colors=\"red\")"
   ]
  },
  {
   "cell_type": "markdown",
   "id": "b79adfcb",
   "metadata": {},
   "source": [
    "### Scatter Matrix"
   ]
  },
  {
   "cell_type": "code",
   "execution_count": 50,
   "id": "23fac8bd",
   "metadata": {},
   "outputs": [
    {
     "data": {
      "application/vnd.plotly.v1+json": {
       "config": {
        "linkText": "Export to plot.ly",
        "plotlyServerURL": "https://plot.ly",
        "showLink": true
       },
       "data": [
        {
         "histfunc": "count",
         "histnorm": "",
         "marker": {
          "color": "rgba(255, 153, 51, 1.0)",
          "line": {
           "color": "#4D5663",
           "width": 1.3
          }
         },
         "name": "A",
         "nbinsx": 10,
         "opacity": 0.8,
         "orientation": "v",
         "type": "histogram",
         "x": [
          0.4915889810451373,
          -0.502709032241364,
          -0.439660809274218,
          1.566586675251845,
          -0.6212578026798677,
          1.7776557644067656,
          0.8661298023840379,
          1.2706349857331831,
          1.1829527406936695,
          0.07381149895472465,
          0.4303466828369726,
          -0.9575027737008519,
          0.2448911967693874,
          0.04189873427502208,
          1.5647741213386723,
          0.5650390866380348,
          -0.4822423308956621,
          0.2877232264192255,
          1.2382658662292958,
          -0.703889579568911,
          -1.567758920770038,
          -0.02647700663406622,
          1.2742432983560472,
          0.24568074637287884,
          0.4093554625129669,
          -1.7037611549524168,
          0.3028826118549479,
          -1.3329700018952149,
          -2.3191071798134724,
          -0.4715275828898805,
          0.23336255517782983,
          -0.16015327795991532,
          -0.1009133565791417,
          -2.81926838345229,
          1.3654859862689102,
          0.4321785438498271,
          -0.8530812976871149,
          2.205208780788037,
          -1.036426166029101,
          -0.6148016609313836,
          -0.7804903323450012,
          0.31695605069133637,
          -0.36415029682631717,
          -0.11756535392984228,
          0.5012484638145545,
          0.14568939028348707,
          0.2748279734808271,
          -0.6781935523155721,
          0.2655237481306271,
          0.284077559638565,
          -1.7740915834552073,
          -1.2707521382258211,
          0.8654799498531212,
          0.531975731840595,
          -1.008064431305186,
          -1.047052004852239,
          0.15693951402710357,
          -0.061888674539695335,
          1.1472568799088285,
          -1.8232049204956886,
          -0.5088215335086028,
          0.8018888434820789,
          -1.193138125172003,
          1.1508657000784246,
          0.6197120558756081,
          -0.6717131229802509,
          -2.0860401916618696,
          -0.57342915056639,
          0.5374995212581878,
          -0.5328685673770484,
          -0.23785068830163442,
          0.45164324959069013,
          -0.01937340009535,
          0.11477937112607209,
          -0.14076154255896042,
          -0.13988385748639753,
          -0.7696645921042117,
          -0.18421016746021568,
          -0.21423330761126352,
          -0.00734890959141541,
          1.1328213530939724,
          -1.4287156552765827,
          -0.5516144642840903,
          -0.7931343423812411,
          0.5006083393739946,
          -0.0045120609205573795,
          0.05501801382379699,
          0.9560982713007699,
          1.179495400187467,
          -0.6439271361193529,
          -1.3620561504842512,
          1.6783810359332907,
          0.17790555885956716,
          -0.5337727464325431,
          0.529490162805114,
          -0.7710447878576198,
          -0.21522348807762237,
          0.2872358861077521,
          0.7924763496804115,
          -0.16831977505258977
         ],
         "xaxis": "x",
         "yaxis": "y"
        },
        {
         "line": {
          "color": "rgba(128, 128, 128, 1.0)",
          "dash": "solid",
          "shape": "linear",
          "width": 1.3
         },
         "marker": {
          "size": 2,
          "symbol": "circle"
         },
         "mode": "markers",
         "name": "A",
         "text": "",
         "type": "scatter",
         "x": [
          -1.3275926421452904,
          -0.936339741020361,
          -0.13647734868874586,
          -2.2240640578978677,
          1.7394620755462407,
          -0.9836121549376742,
          0.34626738417910974,
          1.2047434241013317,
          1.40716285017813,
          1.607297362862324,
          1.1471127354058306,
          -1.0290993380333546,
          0.3382366893151083,
          1.2171761981322033,
          -2.098208032554198,
          0.6029330801302344,
          0.7289001703024334,
          -0.9748621397718429,
          -1.1333611351564175,
          -0.6438327393385788,
          -0.05736388655202392,
          0.8174149798334428,
          0.38307197322024256,
          -0.33450585472427186,
          -0.3208347691514773,
          1.1646184189868694,
          0.5472252231873067,
          0.18021263465929316,
          -1.4688972064557497,
          -0.007503782506332852,
          0.3921883000604201,
          -1.3139502090164275,
          1.048607779460764,
          0.39367903297019263,
          -0.009051504564113558,
          -1.901214271538554,
          -0.5171755167242869,
          0.9229573561035125,
          0.21267983927716877,
          -0.4370929342827836,
          0.2283932101125965,
          1.2176223801186772,
          -1.2090570542595627,
          2.5505564530909055,
          -0.6075715148722199,
          0.19176390475104416,
          0.769852942774043,
          0.7882324532714438,
          -1.3143619973703013,
          0.42644098330579333,
          -1.711462519248761,
          -0.16901255652128294,
          0.0532722679248608,
          -1.4604290285910726,
          -0.36053699012217083,
          0.5088195386777494,
          0.25542311236157367,
          -0.11186811351887037,
          0.5405878809143965,
          -0.04386982384945076,
          -0.16917336542894204,
          0.6633191366843727,
          -0.4989147864827021,
          0.1560136225260184,
          0.05272802990970662,
          -1.850465429629844,
          1.3834059410341466,
          -0.9218299190591187,
          -0.6063394567698026,
          -1.1886063318225617,
          0.10019920073973819,
          -0.2595092728091105,
          2.2190005527839,
          0.7659999908718104,
          -0.560468590169831,
          -1.8182133054973348,
          -0.11258377212132896,
          0.538066045580072,
          -0.4241680278188642,
          1.1654127387433164,
          -1.1549015772976388,
          0.69925676362351,
          -0.9108643560764622,
          -0.24661187787572553,
          -0.934632536808109,
          -0.2714279182553495,
          0.16631843471957616,
          0.31353363861918293,
          -0.9107335599140366,
          -0.25980191444427614,
          0.4628327390827214,
          -1.0223280885294475,
          -0.11416392676936336,
          0.0005269853392635756,
          0.6425260963846305,
          0.7306111095911784,
          -0.4308391283122783,
          0.821522465586635,
          -0.7522745648552567,
          -1.299678462575494
         ],
         "xaxis": "x2",
         "y": [
          0.4915889810451373,
          -0.502709032241364,
          -0.439660809274218,
          1.566586675251845,
          -0.6212578026798677,
          1.7776557644067656,
          0.8661298023840379,
          1.2706349857331831,
          1.1829527406936695,
          0.07381149895472465,
          0.4303466828369726,
          -0.9575027737008519,
          0.2448911967693874,
          0.04189873427502208,
          1.5647741213386723,
          0.5650390866380348,
          -0.4822423308956621,
          0.2877232264192255,
          1.2382658662292958,
          -0.703889579568911,
          -1.567758920770038,
          -0.02647700663406622,
          1.2742432983560472,
          0.24568074637287884,
          0.4093554625129669,
          -1.7037611549524168,
          0.3028826118549479,
          -1.3329700018952149,
          -2.3191071798134724,
          -0.4715275828898805,
          0.23336255517782983,
          -0.16015327795991532,
          -0.1009133565791417,
          -2.81926838345229,
          1.3654859862689102,
          0.4321785438498271,
          -0.8530812976871149,
          2.205208780788037,
          -1.036426166029101,
          -0.6148016609313836,
          -0.7804903323450012,
          0.31695605069133637,
          -0.36415029682631717,
          -0.11756535392984228,
          0.5012484638145545,
          0.14568939028348707,
          0.2748279734808271,
          -0.6781935523155721,
          0.2655237481306271,
          0.284077559638565,
          -1.7740915834552073,
          -1.2707521382258211,
          0.8654799498531212,
          0.531975731840595,
          -1.008064431305186,
          -1.047052004852239,
          0.15693951402710357,
          -0.061888674539695335,
          1.1472568799088285,
          -1.8232049204956886,
          -0.5088215335086028,
          0.8018888434820789,
          -1.193138125172003,
          1.1508657000784246,
          0.6197120558756081,
          -0.6717131229802509,
          -2.0860401916618696,
          -0.57342915056639,
          0.5374995212581878,
          -0.5328685673770484,
          -0.23785068830163442,
          0.45164324959069013,
          -0.01937340009535,
          0.11477937112607209,
          -0.14076154255896042,
          -0.13988385748639753,
          -0.7696645921042117,
          -0.18421016746021568,
          -0.21423330761126352,
          -0.00734890959141541,
          1.1328213530939724,
          -1.4287156552765827,
          -0.5516144642840903,
          -0.7931343423812411,
          0.5006083393739946,
          -0.0045120609205573795,
          0.05501801382379699,
          0.9560982713007699,
          1.179495400187467,
          -0.6439271361193529,
          -1.3620561504842512,
          1.6783810359332907,
          0.17790555885956716,
          -0.5337727464325431,
          0.529490162805114,
          -0.7710447878576198,
          -0.21522348807762237,
          0.2872358861077521,
          0.7924763496804115,
          -0.16831977505258977
         ],
         "yaxis": "y2"
        },
        {
         "line": {
          "color": "rgba(128, 128, 128, 1.0)",
          "dash": "solid",
          "shape": "linear",
          "width": 1.3
         },
         "marker": {
          "size": 2,
          "symbol": "circle"
         },
         "mode": "markers",
         "name": "A",
         "text": "",
         "type": "scatter",
         "x": [
          0.7299625284862286,
          2.3553416977424178,
          0.9439163197043687,
          -1.7485668461634558,
          0.67303371795341,
          -0.5827088164406231,
          -0.2298437357287439,
          -0.25299429402279805,
          2.243376147690324,
          0.026678264182821525,
          -0.009326706571950632,
          -1.28103276971166,
          -0.9018097255727358,
          -2.316355818136636,
          0.5765390416190728,
          -0.5461091032849023,
          -0.8367310170947283,
          -0.10534783116365523,
          1.5267070285714082,
          -1.9147501133533784,
          -0.5179575970987909,
          -1.060722722859043,
          -0.6002336281882471,
          1.4405474123808457,
          0.7600485110526476,
          -0.6111759262953101,
          0.5252641852189067,
          0.35234677933198255,
          -1.256464159844944,
          -0.4328089054815595,
          -0.564944070367201,
          1.3937889852249814,
          -0.6120421309973892,
          -1.9675877843906422,
          -0.41288518037872285,
          -0.1568912040337323,
          1.0096741355529157,
          -0.6497081922716762,
          0.4258224548117755,
          0.03419617577775748,
          0.2544273158327501,
          -1.2130175397650842,
          2.3039996012372805,
          -1.6914934829063475,
          -0.7401624318559102,
          0.4620462894350896,
          0.7961878899891845,
          0.806258868435501,
          0.7431934103318454,
          -0.20573033233185833,
          1.6716873719469132,
          -0.04951833789026921,
          1.4169100195351396,
          -0.4346643636616852,
          1.6271435354582984,
          -0.2125027399496185,
          -0.02916701828161739,
          -0.25266723938880226,
          1.9761466932774905,
          0.11007665834811947,
          0.2921641158126787,
          -0.9605877946560205,
          1.199755946328249,
          -0.15512336924943296,
          0.9932606411511252,
          0.46631966023247334,
          -0.8871888295482587,
          -0.38177735170627886,
          0.7880515178140529,
          -0.9196931896060868,
          1.2894821795957643,
          -0.8448972917184487,
          -0.11451821513216144,
          0.8822791063972072,
          -2.080895983039389,
          1.4661993777627285,
          0.27195893179757347,
          -2.4541448160069357,
          0.7955709411989315,
          -1.9578482622294364,
          -0.013272646509554342,
          -0.7987542104110034,
          1.27290935113707,
          1.245872469152833,
          0.6783887133174455,
          1.2203139391698046,
          0.18857306794771148,
          -0.12981951489743296,
          -0.3209816313541664,
          1.0042691846843708,
          -0.31179723886458666,
          0.6727438201213922,
          -0.13274620751416147,
          -0.4359416099838764,
          1.4825171216305515,
          -0.7349535329592677,
          0.4928961852590263,
          -1.334426537004841,
          0.2828080600024883,
          0.5354572657235364
         ],
         "xaxis": "x3",
         "y": [
          0.4915889810451373,
          -0.502709032241364,
          -0.439660809274218,
          1.566586675251845,
          -0.6212578026798677,
          1.7776557644067656,
          0.8661298023840379,
          1.2706349857331831,
          1.1829527406936695,
          0.07381149895472465,
          0.4303466828369726,
          -0.9575027737008519,
          0.2448911967693874,
          0.04189873427502208,
          1.5647741213386723,
          0.5650390866380348,
          -0.4822423308956621,
          0.2877232264192255,
          1.2382658662292958,
          -0.703889579568911,
          -1.567758920770038,
          -0.02647700663406622,
          1.2742432983560472,
          0.24568074637287884,
          0.4093554625129669,
          -1.7037611549524168,
          0.3028826118549479,
          -1.3329700018952149,
          -2.3191071798134724,
          -0.4715275828898805,
          0.23336255517782983,
          -0.16015327795991532,
          -0.1009133565791417,
          -2.81926838345229,
          1.3654859862689102,
          0.4321785438498271,
          -0.8530812976871149,
          2.205208780788037,
          -1.036426166029101,
          -0.6148016609313836,
          -0.7804903323450012,
          0.31695605069133637,
          -0.36415029682631717,
          -0.11756535392984228,
          0.5012484638145545,
          0.14568939028348707,
          0.2748279734808271,
          -0.6781935523155721,
          0.2655237481306271,
          0.284077559638565,
          -1.7740915834552073,
          -1.2707521382258211,
          0.8654799498531212,
          0.531975731840595,
          -1.008064431305186,
          -1.047052004852239,
          0.15693951402710357,
          -0.061888674539695335,
          1.1472568799088285,
          -1.8232049204956886,
          -0.5088215335086028,
          0.8018888434820789,
          -1.193138125172003,
          1.1508657000784246,
          0.6197120558756081,
          -0.6717131229802509,
          -2.0860401916618696,
          -0.57342915056639,
          0.5374995212581878,
          -0.5328685673770484,
          -0.23785068830163442,
          0.45164324959069013,
          -0.01937340009535,
          0.11477937112607209,
          -0.14076154255896042,
          -0.13988385748639753,
          -0.7696645921042117,
          -0.18421016746021568,
          -0.21423330761126352,
          -0.00734890959141541,
          1.1328213530939724,
          -1.4287156552765827,
          -0.5516144642840903,
          -0.7931343423812411,
          0.5006083393739946,
          -0.0045120609205573795,
          0.05501801382379699,
          0.9560982713007699,
          1.179495400187467,
          -0.6439271361193529,
          -1.3620561504842512,
          1.6783810359332907,
          0.17790555885956716,
          -0.5337727464325431,
          0.529490162805114,
          -0.7710447878576198,
          -0.21522348807762237,
          0.2872358861077521,
          0.7924763496804115,
          -0.16831977505258977
         ],
         "yaxis": "y3"
        },
        {
         "line": {
          "color": "rgba(128, 128, 128, 1.0)",
          "dash": "solid",
          "shape": "linear",
          "width": 1.3
         },
         "marker": {
          "size": 2,
          "symbol": "circle"
         },
         "mode": "markers",
         "name": "A",
         "text": "",
         "type": "scatter",
         "x": [
          0.17991151079674725,
          -0.8818903411696254,
          1.3396439701998577,
          1.696369655122254,
          -1.0170500743214117,
          0.9603589234497253,
          -0.5349114716957325,
          0.4312769284383472,
          -0.3939466022989687,
          -1.8390185998560094,
          -1.1313497571724336,
          1.901325649462984,
          0.6176164163701985,
          1.0542740552600596,
          -0.3840010843845273,
          0.8046073397273489,
          0.7841681451038326,
          -0.20004483375073087,
          -1.749805329024341,
          2.0139347918697927,
          1.102392118546163,
          0.5522964480257804,
          2.05685740313035,
          -0.290733835517606,
          2.316511549409668,
          0.2959399927339611,
          -2.1132641218016053,
          -2.4300130296167217,
          -0.20485450728479654,
          0.6151779208026293,
          -1.0369765204767676,
          0.9747137403714647,
          -0.6494041640418141,
          1.0214755133988165,
          -0.8083215035935389,
          -0.31708033874340197,
          -0.7074597122841649,
          0.5224799578028866,
          0.22314406620526706,
          1.0941308108555794,
          0.47059586801987585,
          1.617159855769574,
          -0.051782952977217064,
          0.49416903624601183,
          0.1374397219014256,
          -0.08125070664670438,
          0.41113960855405046,
          2.8434878484149735,
          -0.4499474136429881,
          -0.34481772452587217,
          1.3211447457021126,
          -1.3702997023912453,
          -2.4255657807136135,
          0.5397403971280657,
          -0.19062789328622026,
          -0.9803472848041662,
          0.6909063868697634,
          0.4101978167870579,
          -0.4715904537104075,
          0.278648053040416,
          -0.7592271707557713,
          1.4616578784460046,
          0.4098348999974717,
          0.31247051172196,
          -0.2549830016008637,
          -0.4401095504059153,
          -0.7977524197572258,
          -0.6094420744605716,
          0.13091200126183208,
          -0.3801814420807549,
          1.3252737961337921,
          -0.2712713813504625,
          -0.9441856769131897,
          -0.26134997431370866,
          -0.9988584715638273,
          1.5987048602259983,
          0.5445833903546733,
          -1.320378767639152,
          1.775006643180901,
          0.586076337208009,
          -0.2077034039617294,
          2.4043382124218446,
          -1.47900009750594,
          -1.9456475559711623,
          0.8532309696471242,
          -1.4822782895641395,
          2.8566202001860277,
          -0.9745444965686464,
          0.6341673693827251,
          1.5556971061323803,
          -0.7989512908345607,
          -0.3780272524410559,
          -1.7850324919265543,
          -0.04581736762010171,
          0.7724989771290007,
          -0.2109479207225484,
          0.9749941979637414,
          0.632229746732128,
          -0.18926098483585838,
          0.2742948244476812
         ],
         "xaxis": "x4",
         "y": [
          0.4915889810451373,
          -0.502709032241364,
          -0.439660809274218,
          1.566586675251845,
          -0.6212578026798677,
          1.7776557644067656,
          0.8661298023840379,
          1.2706349857331831,
          1.1829527406936695,
          0.07381149895472465,
          0.4303466828369726,
          -0.9575027737008519,
          0.2448911967693874,
          0.04189873427502208,
          1.5647741213386723,
          0.5650390866380348,
          -0.4822423308956621,
          0.2877232264192255,
          1.2382658662292958,
          -0.703889579568911,
          -1.567758920770038,
          -0.02647700663406622,
          1.2742432983560472,
          0.24568074637287884,
          0.4093554625129669,
          -1.7037611549524168,
          0.3028826118549479,
          -1.3329700018952149,
          -2.3191071798134724,
          -0.4715275828898805,
          0.23336255517782983,
          -0.16015327795991532,
          -0.1009133565791417,
          -2.81926838345229,
          1.3654859862689102,
          0.4321785438498271,
          -0.8530812976871149,
          2.205208780788037,
          -1.036426166029101,
          -0.6148016609313836,
          -0.7804903323450012,
          0.31695605069133637,
          -0.36415029682631717,
          -0.11756535392984228,
          0.5012484638145545,
          0.14568939028348707,
          0.2748279734808271,
          -0.6781935523155721,
          0.2655237481306271,
          0.284077559638565,
          -1.7740915834552073,
          -1.2707521382258211,
          0.8654799498531212,
          0.531975731840595,
          -1.008064431305186,
          -1.047052004852239,
          0.15693951402710357,
          -0.061888674539695335,
          1.1472568799088285,
          -1.8232049204956886,
          -0.5088215335086028,
          0.8018888434820789,
          -1.193138125172003,
          1.1508657000784246,
          0.6197120558756081,
          -0.6717131229802509,
          -2.0860401916618696,
          -0.57342915056639,
          0.5374995212581878,
          -0.5328685673770484,
          -0.23785068830163442,
          0.45164324959069013,
          -0.01937340009535,
          0.11477937112607209,
          -0.14076154255896042,
          -0.13988385748639753,
          -0.7696645921042117,
          -0.18421016746021568,
          -0.21423330761126352,
          -0.00734890959141541,
          1.1328213530939724,
          -1.4287156552765827,
          -0.5516144642840903,
          -0.7931343423812411,
          0.5006083393739946,
          -0.0045120609205573795,
          0.05501801382379699,
          0.9560982713007699,
          1.179495400187467,
          -0.6439271361193529,
          -1.3620561504842512,
          1.6783810359332907,
          0.17790555885956716,
          -0.5337727464325431,
          0.529490162805114,
          -0.7710447878576198,
          -0.21522348807762237,
          0.2872358861077521,
          0.7924763496804115,
          -0.16831977505258977
         ],
         "yaxis": "y4"
        },
        {
         "line": {
          "color": "rgba(128, 128, 128, 1.0)",
          "dash": "solid",
          "shape": "linear",
          "width": 1.3
         },
         "marker": {
          "size": 2,
          "symbol": "circle"
         },
         "mode": "markers",
         "name": "B",
         "text": "",
         "type": "scatter",
         "x": [
          0.4915889810451373,
          -0.502709032241364,
          -0.439660809274218,
          1.566586675251845,
          -0.6212578026798677,
          1.7776557644067656,
          0.8661298023840379,
          1.2706349857331831,
          1.1829527406936695,
          0.07381149895472465,
          0.4303466828369726,
          -0.9575027737008519,
          0.2448911967693874,
          0.04189873427502208,
          1.5647741213386723,
          0.5650390866380348,
          -0.4822423308956621,
          0.2877232264192255,
          1.2382658662292958,
          -0.703889579568911,
          -1.567758920770038,
          -0.02647700663406622,
          1.2742432983560472,
          0.24568074637287884,
          0.4093554625129669,
          -1.7037611549524168,
          0.3028826118549479,
          -1.3329700018952149,
          -2.3191071798134724,
          -0.4715275828898805,
          0.23336255517782983,
          -0.16015327795991532,
          -0.1009133565791417,
          -2.81926838345229,
          1.3654859862689102,
          0.4321785438498271,
          -0.8530812976871149,
          2.205208780788037,
          -1.036426166029101,
          -0.6148016609313836,
          -0.7804903323450012,
          0.31695605069133637,
          -0.36415029682631717,
          -0.11756535392984228,
          0.5012484638145545,
          0.14568939028348707,
          0.2748279734808271,
          -0.6781935523155721,
          0.2655237481306271,
          0.284077559638565,
          -1.7740915834552073,
          -1.2707521382258211,
          0.8654799498531212,
          0.531975731840595,
          -1.008064431305186,
          -1.047052004852239,
          0.15693951402710357,
          -0.061888674539695335,
          1.1472568799088285,
          -1.8232049204956886,
          -0.5088215335086028,
          0.8018888434820789,
          -1.193138125172003,
          1.1508657000784246,
          0.6197120558756081,
          -0.6717131229802509,
          -2.0860401916618696,
          -0.57342915056639,
          0.5374995212581878,
          -0.5328685673770484,
          -0.23785068830163442,
          0.45164324959069013,
          -0.01937340009535,
          0.11477937112607209,
          -0.14076154255896042,
          -0.13988385748639753,
          -0.7696645921042117,
          -0.18421016746021568,
          -0.21423330761126352,
          -0.00734890959141541,
          1.1328213530939724,
          -1.4287156552765827,
          -0.5516144642840903,
          -0.7931343423812411,
          0.5006083393739946,
          -0.0045120609205573795,
          0.05501801382379699,
          0.9560982713007699,
          1.179495400187467,
          -0.6439271361193529,
          -1.3620561504842512,
          1.6783810359332907,
          0.17790555885956716,
          -0.5337727464325431,
          0.529490162805114,
          -0.7710447878576198,
          -0.21522348807762237,
          0.2872358861077521,
          0.7924763496804115,
          -0.16831977505258977
         ],
         "xaxis": "x5",
         "y": [
          -1.3275926421452904,
          -0.936339741020361,
          -0.13647734868874586,
          -2.2240640578978677,
          1.7394620755462407,
          -0.9836121549376742,
          0.34626738417910974,
          1.2047434241013317,
          1.40716285017813,
          1.607297362862324,
          1.1471127354058306,
          -1.0290993380333546,
          0.3382366893151083,
          1.2171761981322033,
          -2.098208032554198,
          0.6029330801302344,
          0.7289001703024334,
          -0.9748621397718429,
          -1.1333611351564175,
          -0.6438327393385788,
          -0.05736388655202392,
          0.8174149798334428,
          0.38307197322024256,
          -0.33450585472427186,
          -0.3208347691514773,
          1.1646184189868694,
          0.5472252231873067,
          0.18021263465929316,
          -1.4688972064557497,
          -0.007503782506332852,
          0.3921883000604201,
          -1.3139502090164275,
          1.048607779460764,
          0.39367903297019263,
          -0.009051504564113558,
          -1.901214271538554,
          -0.5171755167242869,
          0.9229573561035125,
          0.21267983927716877,
          -0.4370929342827836,
          0.2283932101125965,
          1.2176223801186772,
          -1.2090570542595627,
          2.5505564530909055,
          -0.6075715148722199,
          0.19176390475104416,
          0.769852942774043,
          0.7882324532714438,
          -1.3143619973703013,
          0.42644098330579333,
          -1.711462519248761,
          -0.16901255652128294,
          0.0532722679248608,
          -1.4604290285910726,
          -0.36053699012217083,
          0.5088195386777494,
          0.25542311236157367,
          -0.11186811351887037,
          0.5405878809143965,
          -0.04386982384945076,
          -0.16917336542894204,
          0.6633191366843727,
          -0.4989147864827021,
          0.1560136225260184,
          0.05272802990970662,
          -1.850465429629844,
          1.3834059410341466,
          -0.9218299190591187,
          -0.6063394567698026,
          -1.1886063318225617,
          0.10019920073973819,
          -0.2595092728091105,
          2.2190005527839,
          0.7659999908718104,
          -0.560468590169831,
          -1.8182133054973348,
          -0.11258377212132896,
          0.538066045580072,
          -0.4241680278188642,
          1.1654127387433164,
          -1.1549015772976388,
          0.69925676362351,
          -0.9108643560764622,
          -0.24661187787572553,
          -0.934632536808109,
          -0.2714279182553495,
          0.16631843471957616,
          0.31353363861918293,
          -0.9107335599140366,
          -0.25980191444427614,
          0.4628327390827214,
          -1.0223280885294475,
          -0.11416392676936336,
          0.0005269853392635756,
          0.6425260963846305,
          0.7306111095911784,
          -0.4308391283122783,
          0.821522465586635,
          -0.7522745648552567,
          -1.299678462575494
         ],
         "yaxis": "y5"
        },
        {
         "histfunc": "count",
         "histnorm": "",
         "marker": {
          "color": "rgba(55, 128, 191, 1.0)",
          "line": {
           "color": "#4D5663",
           "width": 1.3
          }
         },
         "name": "B",
         "nbinsx": 10,
         "opacity": 0.8,
         "orientation": "v",
         "type": "histogram",
         "x": [
          -1.3275926421452904,
          -0.936339741020361,
          -0.13647734868874586,
          -2.2240640578978677,
          1.7394620755462407,
          -0.9836121549376742,
          0.34626738417910974,
          1.2047434241013317,
          1.40716285017813,
          1.607297362862324,
          1.1471127354058306,
          -1.0290993380333546,
          0.3382366893151083,
          1.2171761981322033,
          -2.098208032554198,
          0.6029330801302344,
          0.7289001703024334,
          -0.9748621397718429,
          -1.1333611351564175,
          -0.6438327393385788,
          -0.05736388655202392,
          0.8174149798334428,
          0.38307197322024256,
          -0.33450585472427186,
          -0.3208347691514773,
          1.1646184189868694,
          0.5472252231873067,
          0.18021263465929316,
          -1.4688972064557497,
          -0.007503782506332852,
          0.3921883000604201,
          -1.3139502090164275,
          1.048607779460764,
          0.39367903297019263,
          -0.009051504564113558,
          -1.901214271538554,
          -0.5171755167242869,
          0.9229573561035125,
          0.21267983927716877,
          -0.4370929342827836,
          0.2283932101125965,
          1.2176223801186772,
          -1.2090570542595627,
          2.5505564530909055,
          -0.6075715148722199,
          0.19176390475104416,
          0.769852942774043,
          0.7882324532714438,
          -1.3143619973703013,
          0.42644098330579333,
          -1.711462519248761,
          -0.16901255652128294,
          0.0532722679248608,
          -1.4604290285910726,
          -0.36053699012217083,
          0.5088195386777494,
          0.25542311236157367,
          -0.11186811351887037,
          0.5405878809143965,
          -0.04386982384945076,
          -0.16917336542894204,
          0.6633191366843727,
          -0.4989147864827021,
          0.1560136225260184,
          0.05272802990970662,
          -1.850465429629844,
          1.3834059410341466,
          -0.9218299190591187,
          -0.6063394567698026,
          -1.1886063318225617,
          0.10019920073973819,
          -0.2595092728091105,
          2.2190005527839,
          0.7659999908718104,
          -0.560468590169831,
          -1.8182133054973348,
          -0.11258377212132896,
          0.538066045580072,
          -0.4241680278188642,
          1.1654127387433164,
          -1.1549015772976388,
          0.69925676362351,
          -0.9108643560764622,
          -0.24661187787572553,
          -0.934632536808109,
          -0.2714279182553495,
          0.16631843471957616,
          0.31353363861918293,
          -0.9107335599140366,
          -0.25980191444427614,
          0.4628327390827214,
          -1.0223280885294475,
          -0.11416392676936336,
          0.0005269853392635756,
          0.6425260963846305,
          0.7306111095911784,
          -0.4308391283122783,
          0.821522465586635,
          -0.7522745648552567,
          -1.299678462575494
         ],
         "xaxis": "x6",
         "yaxis": "y6"
        },
        {
         "line": {
          "color": "rgba(128, 128, 128, 1.0)",
          "dash": "solid",
          "shape": "linear",
          "width": 1.3
         },
         "marker": {
          "size": 2,
          "symbol": "circle"
         },
         "mode": "markers",
         "name": "B",
         "text": "",
         "type": "scatter",
         "x": [
          0.7299625284862286,
          2.3553416977424178,
          0.9439163197043687,
          -1.7485668461634558,
          0.67303371795341,
          -0.5827088164406231,
          -0.2298437357287439,
          -0.25299429402279805,
          2.243376147690324,
          0.026678264182821525,
          -0.009326706571950632,
          -1.28103276971166,
          -0.9018097255727358,
          -2.316355818136636,
          0.5765390416190728,
          -0.5461091032849023,
          -0.8367310170947283,
          -0.10534783116365523,
          1.5267070285714082,
          -1.9147501133533784,
          -0.5179575970987909,
          -1.060722722859043,
          -0.6002336281882471,
          1.4405474123808457,
          0.7600485110526476,
          -0.6111759262953101,
          0.5252641852189067,
          0.35234677933198255,
          -1.256464159844944,
          -0.4328089054815595,
          -0.564944070367201,
          1.3937889852249814,
          -0.6120421309973892,
          -1.9675877843906422,
          -0.41288518037872285,
          -0.1568912040337323,
          1.0096741355529157,
          -0.6497081922716762,
          0.4258224548117755,
          0.03419617577775748,
          0.2544273158327501,
          -1.2130175397650842,
          2.3039996012372805,
          -1.6914934829063475,
          -0.7401624318559102,
          0.4620462894350896,
          0.7961878899891845,
          0.806258868435501,
          0.7431934103318454,
          -0.20573033233185833,
          1.6716873719469132,
          -0.04951833789026921,
          1.4169100195351396,
          -0.4346643636616852,
          1.6271435354582984,
          -0.2125027399496185,
          -0.02916701828161739,
          -0.25266723938880226,
          1.9761466932774905,
          0.11007665834811947,
          0.2921641158126787,
          -0.9605877946560205,
          1.199755946328249,
          -0.15512336924943296,
          0.9932606411511252,
          0.46631966023247334,
          -0.8871888295482587,
          -0.38177735170627886,
          0.7880515178140529,
          -0.9196931896060868,
          1.2894821795957643,
          -0.8448972917184487,
          -0.11451821513216144,
          0.8822791063972072,
          -2.080895983039389,
          1.4661993777627285,
          0.27195893179757347,
          -2.4541448160069357,
          0.7955709411989315,
          -1.9578482622294364,
          -0.013272646509554342,
          -0.7987542104110034,
          1.27290935113707,
          1.245872469152833,
          0.6783887133174455,
          1.2203139391698046,
          0.18857306794771148,
          -0.12981951489743296,
          -0.3209816313541664,
          1.0042691846843708,
          -0.31179723886458666,
          0.6727438201213922,
          -0.13274620751416147,
          -0.4359416099838764,
          1.4825171216305515,
          -0.7349535329592677,
          0.4928961852590263,
          -1.334426537004841,
          0.2828080600024883,
          0.5354572657235364
         ],
         "xaxis": "x7",
         "y": [
          -1.3275926421452904,
          -0.936339741020361,
          -0.13647734868874586,
          -2.2240640578978677,
          1.7394620755462407,
          -0.9836121549376742,
          0.34626738417910974,
          1.2047434241013317,
          1.40716285017813,
          1.607297362862324,
          1.1471127354058306,
          -1.0290993380333546,
          0.3382366893151083,
          1.2171761981322033,
          -2.098208032554198,
          0.6029330801302344,
          0.7289001703024334,
          -0.9748621397718429,
          -1.1333611351564175,
          -0.6438327393385788,
          -0.05736388655202392,
          0.8174149798334428,
          0.38307197322024256,
          -0.33450585472427186,
          -0.3208347691514773,
          1.1646184189868694,
          0.5472252231873067,
          0.18021263465929316,
          -1.4688972064557497,
          -0.007503782506332852,
          0.3921883000604201,
          -1.3139502090164275,
          1.048607779460764,
          0.39367903297019263,
          -0.009051504564113558,
          -1.901214271538554,
          -0.5171755167242869,
          0.9229573561035125,
          0.21267983927716877,
          -0.4370929342827836,
          0.2283932101125965,
          1.2176223801186772,
          -1.2090570542595627,
          2.5505564530909055,
          -0.6075715148722199,
          0.19176390475104416,
          0.769852942774043,
          0.7882324532714438,
          -1.3143619973703013,
          0.42644098330579333,
          -1.711462519248761,
          -0.16901255652128294,
          0.0532722679248608,
          -1.4604290285910726,
          -0.36053699012217083,
          0.5088195386777494,
          0.25542311236157367,
          -0.11186811351887037,
          0.5405878809143965,
          -0.04386982384945076,
          -0.16917336542894204,
          0.6633191366843727,
          -0.4989147864827021,
          0.1560136225260184,
          0.05272802990970662,
          -1.850465429629844,
          1.3834059410341466,
          -0.9218299190591187,
          -0.6063394567698026,
          -1.1886063318225617,
          0.10019920073973819,
          -0.2595092728091105,
          2.2190005527839,
          0.7659999908718104,
          -0.560468590169831,
          -1.8182133054973348,
          -0.11258377212132896,
          0.538066045580072,
          -0.4241680278188642,
          1.1654127387433164,
          -1.1549015772976388,
          0.69925676362351,
          -0.9108643560764622,
          -0.24661187787572553,
          -0.934632536808109,
          -0.2714279182553495,
          0.16631843471957616,
          0.31353363861918293,
          -0.9107335599140366,
          -0.25980191444427614,
          0.4628327390827214,
          -1.0223280885294475,
          -0.11416392676936336,
          0.0005269853392635756,
          0.6425260963846305,
          0.7306111095911784,
          -0.4308391283122783,
          0.821522465586635,
          -0.7522745648552567,
          -1.299678462575494
         ],
         "yaxis": "y7"
        },
        {
         "line": {
          "color": "rgba(128, 128, 128, 1.0)",
          "dash": "solid",
          "shape": "linear",
          "width": 1.3
         },
         "marker": {
          "size": 2,
          "symbol": "circle"
         },
         "mode": "markers",
         "name": "B",
         "text": "",
         "type": "scatter",
         "x": [
          0.17991151079674725,
          -0.8818903411696254,
          1.3396439701998577,
          1.696369655122254,
          -1.0170500743214117,
          0.9603589234497253,
          -0.5349114716957325,
          0.4312769284383472,
          -0.3939466022989687,
          -1.8390185998560094,
          -1.1313497571724336,
          1.901325649462984,
          0.6176164163701985,
          1.0542740552600596,
          -0.3840010843845273,
          0.8046073397273489,
          0.7841681451038326,
          -0.20004483375073087,
          -1.749805329024341,
          2.0139347918697927,
          1.102392118546163,
          0.5522964480257804,
          2.05685740313035,
          -0.290733835517606,
          2.316511549409668,
          0.2959399927339611,
          -2.1132641218016053,
          -2.4300130296167217,
          -0.20485450728479654,
          0.6151779208026293,
          -1.0369765204767676,
          0.9747137403714647,
          -0.6494041640418141,
          1.0214755133988165,
          -0.8083215035935389,
          -0.31708033874340197,
          -0.7074597122841649,
          0.5224799578028866,
          0.22314406620526706,
          1.0941308108555794,
          0.47059586801987585,
          1.617159855769574,
          -0.051782952977217064,
          0.49416903624601183,
          0.1374397219014256,
          -0.08125070664670438,
          0.41113960855405046,
          2.8434878484149735,
          -0.4499474136429881,
          -0.34481772452587217,
          1.3211447457021126,
          -1.3702997023912453,
          -2.4255657807136135,
          0.5397403971280657,
          -0.19062789328622026,
          -0.9803472848041662,
          0.6909063868697634,
          0.4101978167870579,
          -0.4715904537104075,
          0.278648053040416,
          -0.7592271707557713,
          1.4616578784460046,
          0.4098348999974717,
          0.31247051172196,
          -0.2549830016008637,
          -0.4401095504059153,
          -0.7977524197572258,
          -0.6094420744605716,
          0.13091200126183208,
          -0.3801814420807549,
          1.3252737961337921,
          -0.2712713813504625,
          -0.9441856769131897,
          -0.26134997431370866,
          -0.9988584715638273,
          1.5987048602259983,
          0.5445833903546733,
          -1.320378767639152,
          1.775006643180901,
          0.586076337208009,
          -0.2077034039617294,
          2.4043382124218446,
          -1.47900009750594,
          -1.9456475559711623,
          0.8532309696471242,
          -1.4822782895641395,
          2.8566202001860277,
          -0.9745444965686464,
          0.6341673693827251,
          1.5556971061323803,
          -0.7989512908345607,
          -0.3780272524410559,
          -1.7850324919265543,
          -0.04581736762010171,
          0.7724989771290007,
          -0.2109479207225484,
          0.9749941979637414,
          0.632229746732128,
          -0.18926098483585838,
          0.2742948244476812
         ],
         "xaxis": "x8",
         "y": [
          -1.3275926421452904,
          -0.936339741020361,
          -0.13647734868874586,
          -2.2240640578978677,
          1.7394620755462407,
          -0.9836121549376742,
          0.34626738417910974,
          1.2047434241013317,
          1.40716285017813,
          1.607297362862324,
          1.1471127354058306,
          -1.0290993380333546,
          0.3382366893151083,
          1.2171761981322033,
          -2.098208032554198,
          0.6029330801302344,
          0.7289001703024334,
          -0.9748621397718429,
          -1.1333611351564175,
          -0.6438327393385788,
          -0.05736388655202392,
          0.8174149798334428,
          0.38307197322024256,
          -0.33450585472427186,
          -0.3208347691514773,
          1.1646184189868694,
          0.5472252231873067,
          0.18021263465929316,
          -1.4688972064557497,
          -0.007503782506332852,
          0.3921883000604201,
          -1.3139502090164275,
          1.048607779460764,
          0.39367903297019263,
          -0.009051504564113558,
          -1.901214271538554,
          -0.5171755167242869,
          0.9229573561035125,
          0.21267983927716877,
          -0.4370929342827836,
          0.2283932101125965,
          1.2176223801186772,
          -1.2090570542595627,
          2.5505564530909055,
          -0.6075715148722199,
          0.19176390475104416,
          0.769852942774043,
          0.7882324532714438,
          -1.3143619973703013,
          0.42644098330579333,
          -1.711462519248761,
          -0.16901255652128294,
          0.0532722679248608,
          -1.4604290285910726,
          -0.36053699012217083,
          0.5088195386777494,
          0.25542311236157367,
          -0.11186811351887037,
          0.5405878809143965,
          -0.04386982384945076,
          -0.16917336542894204,
          0.6633191366843727,
          -0.4989147864827021,
          0.1560136225260184,
          0.05272802990970662,
          -1.850465429629844,
          1.3834059410341466,
          -0.9218299190591187,
          -0.6063394567698026,
          -1.1886063318225617,
          0.10019920073973819,
          -0.2595092728091105,
          2.2190005527839,
          0.7659999908718104,
          -0.560468590169831,
          -1.8182133054973348,
          -0.11258377212132896,
          0.538066045580072,
          -0.4241680278188642,
          1.1654127387433164,
          -1.1549015772976388,
          0.69925676362351,
          -0.9108643560764622,
          -0.24661187787572553,
          -0.934632536808109,
          -0.2714279182553495,
          0.16631843471957616,
          0.31353363861918293,
          -0.9107335599140366,
          -0.25980191444427614,
          0.4628327390827214,
          -1.0223280885294475,
          -0.11416392676936336,
          0.0005269853392635756,
          0.6425260963846305,
          0.7306111095911784,
          -0.4308391283122783,
          0.821522465586635,
          -0.7522745648552567,
          -1.299678462575494
         ],
         "yaxis": "y8"
        },
        {
         "line": {
          "color": "rgba(128, 128, 128, 1.0)",
          "dash": "solid",
          "shape": "linear",
          "width": 1.3
         },
         "marker": {
          "size": 2,
          "symbol": "circle"
         },
         "mode": "markers",
         "name": "C",
         "text": "",
         "type": "scatter",
         "x": [
          0.4915889810451373,
          -0.502709032241364,
          -0.439660809274218,
          1.566586675251845,
          -0.6212578026798677,
          1.7776557644067656,
          0.8661298023840379,
          1.2706349857331831,
          1.1829527406936695,
          0.07381149895472465,
          0.4303466828369726,
          -0.9575027737008519,
          0.2448911967693874,
          0.04189873427502208,
          1.5647741213386723,
          0.5650390866380348,
          -0.4822423308956621,
          0.2877232264192255,
          1.2382658662292958,
          -0.703889579568911,
          -1.567758920770038,
          -0.02647700663406622,
          1.2742432983560472,
          0.24568074637287884,
          0.4093554625129669,
          -1.7037611549524168,
          0.3028826118549479,
          -1.3329700018952149,
          -2.3191071798134724,
          -0.4715275828898805,
          0.23336255517782983,
          -0.16015327795991532,
          -0.1009133565791417,
          -2.81926838345229,
          1.3654859862689102,
          0.4321785438498271,
          -0.8530812976871149,
          2.205208780788037,
          -1.036426166029101,
          -0.6148016609313836,
          -0.7804903323450012,
          0.31695605069133637,
          -0.36415029682631717,
          -0.11756535392984228,
          0.5012484638145545,
          0.14568939028348707,
          0.2748279734808271,
          -0.6781935523155721,
          0.2655237481306271,
          0.284077559638565,
          -1.7740915834552073,
          -1.2707521382258211,
          0.8654799498531212,
          0.531975731840595,
          -1.008064431305186,
          -1.047052004852239,
          0.15693951402710357,
          -0.061888674539695335,
          1.1472568799088285,
          -1.8232049204956886,
          -0.5088215335086028,
          0.8018888434820789,
          -1.193138125172003,
          1.1508657000784246,
          0.6197120558756081,
          -0.6717131229802509,
          -2.0860401916618696,
          -0.57342915056639,
          0.5374995212581878,
          -0.5328685673770484,
          -0.23785068830163442,
          0.45164324959069013,
          -0.01937340009535,
          0.11477937112607209,
          -0.14076154255896042,
          -0.13988385748639753,
          -0.7696645921042117,
          -0.18421016746021568,
          -0.21423330761126352,
          -0.00734890959141541,
          1.1328213530939724,
          -1.4287156552765827,
          -0.5516144642840903,
          -0.7931343423812411,
          0.5006083393739946,
          -0.0045120609205573795,
          0.05501801382379699,
          0.9560982713007699,
          1.179495400187467,
          -0.6439271361193529,
          -1.3620561504842512,
          1.6783810359332907,
          0.17790555885956716,
          -0.5337727464325431,
          0.529490162805114,
          -0.7710447878576198,
          -0.21522348807762237,
          0.2872358861077521,
          0.7924763496804115,
          -0.16831977505258977
         ],
         "xaxis": "x9",
         "y": [
          0.7299625284862286,
          2.3553416977424178,
          0.9439163197043687,
          -1.7485668461634558,
          0.67303371795341,
          -0.5827088164406231,
          -0.2298437357287439,
          -0.25299429402279805,
          2.243376147690324,
          0.026678264182821525,
          -0.009326706571950632,
          -1.28103276971166,
          -0.9018097255727358,
          -2.316355818136636,
          0.5765390416190728,
          -0.5461091032849023,
          -0.8367310170947283,
          -0.10534783116365523,
          1.5267070285714082,
          -1.9147501133533784,
          -0.5179575970987909,
          -1.060722722859043,
          -0.6002336281882471,
          1.4405474123808457,
          0.7600485110526476,
          -0.6111759262953101,
          0.5252641852189067,
          0.35234677933198255,
          -1.256464159844944,
          -0.4328089054815595,
          -0.564944070367201,
          1.3937889852249814,
          -0.6120421309973892,
          -1.9675877843906422,
          -0.41288518037872285,
          -0.1568912040337323,
          1.0096741355529157,
          -0.6497081922716762,
          0.4258224548117755,
          0.03419617577775748,
          0.2544273158327501,
          -1.2130175397650842,
          2.3039996012372805,
          -1.6914934829063475,
          -0.7401624318559102,
          0.4620462894350896,
          0.7961878899891845,
          0.806258868435501,
          0.7431934103318454,
          -0.20573033233185833,
          1.6716873719469132,
          -0.04951833789026921,
          1.4169100195351396,
          -0.4346643636616852,
          1.6271435354582984,
          -0.2125027399496185,
          -0.02916701828161739,
          -0.25266723938880226,
          1.9761466932774905,
          0.11007665834811947,
          0.2921641158126787,
          -0.9605877946560205,
          1.199755946328249,
          -0.15512336924943296,
          0.9932606411511252,
          0.46631966023247334,
          -0.8871888295482587,
          -0.38177735170627886,
          0.7880515178140529,
          -0.9196931896060868,
          1.2894821795957643,
          -0.8448972917184487,
          -0.11451821513216144,
          0.8822791063972072,
          -2.080895983039389,
          1.4661993777627285,
          0.27195893179757347,
          -2.4541448160069357,
          0.7955709411989315,
          -1.9578482622294364,
          -0.013272646509554342,
          -0.7987542104110034,
          1.27290935113707,
          1.245872469152833,
          0.6783887133174455,
          1.2203139391698046,
          0.18857306794771148,
          -0.12981951489743296,
          -0.3209816313541664,
          1.0042691846843708,
          -0.31179723886458666,
          0.6727438201213922,
          -0.13274620751416147,
          -0.4359416099838764,
          1.4825171216305515,
          -0.7349535329592677,
          0.4928961852590263,
          -1.334426537004841,
          0.2828080600024883,
          0.5354572657235364
         ],
         "yaxis": "y9"
        },
        {
         "line": {
          "color": "rgba(128, 128, 128, 1.0)",
          "dash": "solid",
          "shape": "linear",
          "width": 1.3
         },
         "marker": {
          "size": 2,
          "symbol": "circle"
         },
         "mode": "markers",
         "name": "C",
         "text": "",
         "type": "scatter",
         "x": [
          -1.3275926421452904,
          -0.936339741020361,
          -0.13647734868874586,
          -2.2240640578978677,
          1.7394620755462407,
          -0.9836121549376742,
          0.34626738417910974,
          1.2047434241013317,
          1.40716285017813,
          1.607297362862324,
          1.1471127354058306,
          -1.0290993380333546,
          0.3382366893151083,
          1.2171761981322033,
          -2.098208032554198,
          0.6029330801302344,
          0.7289001703024334,
          -0.9748621397718429,
          -1.1333611351564175,
          -0.6438327393385788,
          -0.05736388655202392,
          0.8174149798334428,
          0.38307197322024256,
          -0.33450585472427186,
          -0.3208347691514773,
          1.1646184189868694,
          0.5472252231873067,
          0.18021263465929316,
          -1.4688972064557497,
          -0.007503782506332852,
          0.3921883000604201,
          -1.3139502090164275,
          1.048607779460764,
          0.39367903297019263,
          -0.009051504564113558,
          -1.901214271538554,
          -0.5171755167242869,
          0.9229573561035125,
          0.21267983927716877,
          -0.4370929342827836,
          0.2283932101125965,
          1.2176223801186772,
          -1.2090570542595627,
          2.5505564530909055,
          -0.6075715148722199,
          0.19176390475104416,
          0.769852942774043,
          0.7882324532714438,
          -1.3143619973703013,
          0.42644098330579333,
          -1.711462519248761,
          -0.16901255652128294,
          0.0532722679248608,
          -1.4604290285910726,
          -0.36053699012217083,
          0.5088195386777494,
          0.25542311236157367,
          -0.11186811351887037,
          0.5405878809143965,
          -0.04386982384945076,
          -0.16917336542894204,
          0.6633191366843727,
          -0.4989147864827021,
          0.1560136225260184,
          0.05272802990970662,
          -1.850465429629844,
          1.3834059410341466,
          -0.9218299190591187,
          -0.6063394567698026,
          -1.1886063318225617,
          0.10019920073973819,
          -0.2595092728091105,
          2.2190005527839,
          0.7659999908718104,
          -0.560468590169831,
          -1.8182133054973348,
          -0.11258377212132896,
          0.538066045580072,
          -0.4241680278188642,
          1.1654127387433164,
          -1.1549015772976388,
          0.69925676362351,
          -0.9108643560764622,
          -0.24661187787572553,
          -0.934632536808109,
          -0.2714279182553495,
          0.16631843471957616,
          0.31353363861918293,
          -0.9107335599140366,
          -0.25980191444427614,
          0.4628327390827214,
          -1.0223280885294475,
          -0.11416392676936336,
          0.0005269853392635756,
          0.6425260963846305,
          0.7306111095911784,
          -0.4308391283122783,
          0.821522465586635,
          -0.7522745648552567,
          -1.299678462575494
         ],
         "xaxis": "x10",
         "y": [
          0.7299625284862286,
          2.3553416977424178,
          0.9439163197043687,
          -1.7485668461634558,
          0.67303371795341,
          -0.5827088164406231,
          -0.2298437357287439,
          -0.25299429402279805,
          2.243376147690324,
          0.026678264182821525,
          -0.009326706571950632,
          -1.28103276971166,
          -0.9018097255727358,
          -2.316355818136636,
          0.5765390416190728,
          -0.5461091032849023,
          -0.8367310170947283,
          -0.10534783116365523,
          1.5267070285714082,
          -1.9147501133533784,
          -0.5179575970987909,
          -1.060722722859043,
          -0.6002336281882471,
          1.4405474123808457,
          0.7600485110526476,
          -0.6111759262953101,
          0.5252641852189067,
          0.35234677933198255,
          -1.256464159844944,
          -0.4328089054815595,
          -0.564944070367201,
          1.3937889852249814,
          -0.6120421309973892,
          -1.9675877843906422,
          -0.41288518037872285,
          -0.1568912040337323,
          1.0096741355529157,
          -0.6497081922716762,
          0.4258224548117755,
          0.03419617577775748,
          0.2544273158327501,
          -1.2130175397650842,
          2.3039996012372805,
          -1.6914934829063475,
          -0.7401624318559102,
          0.4620462894350896,
          0.7961878899891845,
          0.806258868435501,
          0.7431934103318454,
          -0.20573033233185833,
          1.6716873719469132,
          -0.04951833789026921,
          1.4169100195351396,
          -0.4346643636616852,
          1.6271435354582984,
          -0.2125027399496185,
          -0.02916701828161739,
          -0.25266723938880226,
          1.9761466932774905,
          0.11007665834811947,
          0.2921641158126787,
          -0.9605877946560205,
          1.199755946328249,
          -0.15512336924943296,
          0.9932606411511252,
          0.46631966023247334,
          -0.8871888295482587,
          -0.38177735170627886,
          0.7880515178140529,
          -0.9196931896060868,
          1.2894821795957643,
          -0.8448972917184487,
          -0.11451821513216144,
          0.8822791063972072,
          -2.080895983039389,
          1.4661993777627285,
          0.27195893179757347,
          -2.4541448160069357,
          0.7955709411989315,
          -1.9578482622294364,
          -0.013272646509554342,
          -0.7987542104110034,
          1.27290935113707,
          1.245872469152833,
          0.6783887133174455,
          1.2203139391698046,
          0.18857306794771148,
          -0.12981951489743296,
          -0.3209816313541664,
          1.0042691846843708,
          -0.31179723886458666,
          0.6727438201213922,
          -0.13274620751416147,
          -0.4359416099838764,
          1.4825171216305515,
          -0.7349535329592677,
          0.4928961852590263,
          -1.334426537004841,
          0.2828080600024883,
          0.5354572657235364
         ],
         "yaxis": "y10"
        },
        {
         "histfunc": "count",
         "histnorm": "",
         "marker": {
          "color": "rgba(50, 171, 96, 1.0)",
          "line": {
           "color": "#4D5663",
           "width": 1.3
          }
         },
         "name": "C",
         "nbinsx": 10,
         "opacity": 0.8,
         "orientation": "v",
         "type": "histogram",
         "x": [
          0.7299625284862286,
          2.3553416977424178,
          0.9439163197043687,
          -1.7485668461634558,
          0.67303371795341,
          -0.5827088164406231,
          -0.2298437357287439,
          -0.25299429402279805,
          2.243376147690324,
          0.026678264182821525,
          -0.009326706571950632,
          -1.28103276971166,
          -0.9018097255727358,
          -2.316355818136636,
          0.5765390416190728,
          -0.5461091032849023,
          -0.8367310170947283,
          -0.10534783116365523,
          1.5267070285714082,
          -1.9147501133533784,
          -0.5179575970987909,
          -1.060722722859043,
          -0.6002336281882471,
          1.4405474123808457,
          0.7600485110526476,
          -0.6111759262953101,
          0.5252641852189067,
          0.35234677933198255,
          -1.256464159844944,
          -0.4328089054815595,
          -0.564944070367201,
          1.3937889852249814,
          -0.6120421309973892,
          -1.9675877843906422,
          -0.41288518037872285,
          -0.1568912040337323,
          1.0096741355529157,
          -0.6497081922716762,
          0.4258224548117755,
          0.03419617577775748,
          0.2544273158327501,
          -1.2130175397650842,
          2.3039996012372805,
          -1.6914934829063475,
          -0.7401624318559102,
          0.4620462894350896,
          0.7961878899891845,
          0.806258868435501,
          0.7431934103318454,
          -0.20573033233185833,
          1.6716873719469132,
          -0.04951833789026921,
          1.4169100195351396,
          -0.4346643636616852,
          1.6271435354582984,
          -0.2125027399496185,
          -0.02916701828161739,
          -0.25266723938880226,
          1.9761466932774905,
          0.11007665834811947,
          0.2921641158126787,
          -0.9605877946560205,
          1.199755946328249,
          -0.15512336924943296,
          0.9932606411511252,
          0.46631966023247334,
          -0.8871888295482587,
          -0.38177735170627886,
          0.7880515178140529,
          -0.9196931896060868,
          1.2894821795957643,
          -0.8448972917184487,
          -0.11451821513216144,
          0.8822791063972072,
          -2.080895983039389,
          1.4661993777627285,
          0.27195893179757347,
          -2.4541448160069357,
          0.7955709411989315,
          -1.9578482622294364,
          -0.013272646509554342,
          -0.7987542104110034,
          1.27290935113707,
          1.245872469152833,
          0.6783887133174455,
          1.2203139391698046,
          0.18857306794771148,
          -0.12981951489743296,
          -0.3209816313541664,
          1.0042691846843708,
          -0.31179723886458666,
          0.6727438201213922,
          -0.13274620751416147,
          -0.4359416099838764,
          1.4825171216305515,
          -0.7349535329592677,
          0.4928961852590263,
          -1.334426537004841,
          0.2828080600024883,
          0.5354572657235364
         ],
         "xaxis": "x11",
         "yaxis": "y11"
        },
        {
         "line": {
          "color": "rgba(128, 128, 128, 1.0)",
          "dash": "solid",
          "shape": "linear",
          "width": 1.3
         },
         "marker": {
          "size": 2,
          "symbol": "circle"
         },
         "mode": "markers",
         "name": "C",
         "text": "",
         "type": "scatter",
         "x": [
          0.17991151079674725,
          -0.8818903411696254,
          1.3396439701998577,
          1.696369655122254,
          -1.0170500743214117,
          0.9603589234497253,
          -0.5349114716957325,
          0.4312769284383472,
          -0.3939466022989687,
          -1.8390185998560094,
          -1.1313497571724336,
          1.901325649462984,
          0.6176164163701985,
          1.0542740552600596,
          -0.3840010843845273,
          0.8046073397273489,
          0.7841681451038326,
          -0.20004483375073087,
          -1.749805329024341,
          2.0139347918697927,
          1.102392118546163,
          0.5522964480257804,
          2.05685740313035,
          -0.290733835517606,
          2.316511549409668,
          0.2959399927339611,
          -2.1132641218016053,
          -2.4300130296167217,
          -0.20485450728479654,
          0.6151779208026293,
          -1.0369765204767676,
          0.9747137403714647,
          -0.6494041640418141,
          1.0214755133988165,
          -0.8083215035935389,
          -0.31708033874340197,
          -0.7074597122841649,
          0.5224799578028866,
          0.22314406620526706,
          1.0941308108555794,
          0.47059586801987585,
          1.617159855769574,
          -0.051782952977217064,
          0.49416903624601183,
          0.1374397219014256,
          -0.08125070664670438,
          0.41113960855405046,
          2.8434878484149735,
          -0.4499474136429881,
          -0.34481772452587217,
          1.3211447457021126,
          -1.3702997023912453,
          -2.4255657807136135,
          0.5397403971280657,
          -0.19062789328622026,
          -0.9803472848041662,
          0.6909063868697634,
          0.4101978167870579,
          -0.4715904537104075,
          0.278648053040416,
          -0.7592271707557713,
          1.4616578784460046,
          0.4098348999974717,
          0.31247051172196,
          -0.2549830016008637,
          -0.4401095504059153,
          -0.7977524197572258,
          -0.6094420744605716,
          0.13091200126183208,
          -0.3801814420807549,
          1.3252737961337921,
          -0.2712713813504625,
          -0.9441856769131897,
          -0.26134997431370866,
          -0.9988584715638273,
          1.5987048602259983,
          0.5445833903546733,
          -1.320378767639152,
          1.775006643180901,
          0.586076337208009,
          -0.2077034039617294,
          2.4043382124218446,
          -1.47900009750594,
          -1.9456475559711623,
          0.8532309696471242,
          -1.4822782895641395,
          2.8566202001860277,
          -0.9745444965686464,
          0.6341673693827251,
          1.5556971061323803,
          -0.7989512908345607,
          -0.3780272524410559,
          -1.7850324919265543,
          -0.04581736762010171,
          0.7724989771290007,
          -0.2109479207225484,
          0.9749941979637414,
          0.632229746732128,
          -0.18926098483585838,
          0.2742948244476812
         ],
         "xaxis": "x12",
         "y": [
          0.7299625284862286,
          2.3553416977424178,
          0.9439163197043687,
          -1.7485668461634558,
          0.67303371795341,
          -0.5827088164406231,
          -0.2298437357287439,
          -0.25299429402279805,
          2.243376147690324,
          0.026678264182821525,
          -0.009326706571950632,
          -1.28103276971166,
          -0.9018097255727358,
          -2.316355818136636,
          0.5765390416190728,
          -0.5461091032849023,
          -0.8367310170947283,
          -0.10534783116365523,
          1.5267070285714082,
          -1.9147501133533784,
          -0.5179575970987909,
          -1.060722722859043,
          -0.6002336281882471,
          1.4405474123808457,
          0.7600485110526476,
          -0.6111759262953101,
          0.5252641852189067,
          0.35234677933198255,
          -1.256464159844944,
          -0.4328089054815595,
          -0.564944070367201,
          1.3937889852249814,
          -0.6120421309973892,
          -1.9675877843906422,
          -0.41288518037872285,
          -0.1568912040337323,
          1.0096741355529157,
          -0.6497081922716762,
          0.4258224548117755,
          0.03419617577775748,
          0.2544273158327501,
          -1.2130175397650842,
          2.3039996012372805,
          -1.6914934829063475,
          -0.7401624318559102,
          0.4620462894350896,
          0.7961878899891845,
          0.806258868435501,
          0.7431934103318454,
          -0.20573033233185833,
          1.6716873719469132,
          -0.04951833789026921,
          1.4169100195351396,
          -0.4346643636616852,
          1.6271435354582984,
          -0.2125027399496185,
          -0.02916701828161739,
          -0.25266723938880226,
          1.9761466932774905,
          0.11007665834811947,
          0.2921641158126787,
          -0.9605877946560205,
          1.199755946328249,
          -0.15512336924943296,
          0.9932606411511252,
          0.46631966023247334,
          -0.8871888295482587,
          -0.38177735170627886,
          0.7880515178140529,
          -0.9196931896060868,
          1.2894821795957643,
          -0.8448972917184487,
          -0.11451821513216144,
          0.8822791063972072,
          -2.080895983039389,
          1.4661993777627285,
          0.27195893179757347,
          -2.4541448160069357,
          0.7955709411989315,
          -1.9578482622294364,
          -0.013272646509554342,
          -0.7987542104110034,
          1.27290935113707,
          1.245872469152833,
          0.6783887133174455,
          1.2203139391698046,
          0.18857306794771148,
          -0.12981951489743296,
          -0.3209816313541664,
          1.0042691846843708,
          -0.31179723886458666,
          0.6727438201213922,
          -0.13274620751416147,
          -0.4359416099838764,
          1.4825171216305515,
          -0.7349535329592677,
          0.4928961852590263,
          -1.334426537004841,
          0.2828080600024883,
          0.5354572657235364
         ],
         "yaxis": "y12"
        },
        {
         "line": {
          "color": "rgba(128, 128, 128, 1.0)",
          "dash": "solid",
          "shape": "linear",
          "width": 1.3
         },
         "marker": {
          "size": 2,
          "symbol": "circle"
         },
         "mode": "markers",
         "name": "D",
         "text": "",
         "type": "scatter",
         "x": [
          0.4915889810451373,
          -0.502709032241364,
          -0.439660809274218,
          1.566586675251845,
          -0.6212578026798677,
          1.7776557644067656,
          0.8661298023840379,
          1.2706349857331831,
          1.1829527406936695,
          0.07381149895472465,
          0.4303466828369726,
          -0.9575027737008519,
          0.2448911967693874,
          0.04189873427502208,
          1.5647741213386723,
          0.5650390866380348,
          -0.4822423308956621,
          0.2877232264192255,
          1.2382658662292958,
          -0.703889579568911,
          -1.567758920770038,
          -0.02647700663406622,
          1.2742432983560472,
          0.24568074637287884,
          0.4093554625129669,
          -1.7037611549524168,
          0.3028826118549479,
          -1.3329700018952149,
          -2.3191071798134724,
          -0.4715275828898805,
          0.23336255517782983,
          -0.16015327795991532,
          -0.1009133565791417,
          -2.81926838345229,
          1.3654859862689102,
          0.4321785438498271,
          -0.8530812976871149,
          2.205208780788037,
          -1.036426166029101,
          -0.6148016609313836,
          -0.7804903323450012,
          0.31695605069133637,
          -0.36415029682631717,
          -0.11756535392984228,
          0.5012484638145545,
          0.14568939028348707,
          0.2748279734808271,
          -0.6781935523155721,
          0.2655237481306271,
          0.284077559638565,
          -1.7740915834552073,
          -1.2707521382258211,
          0.8654799498531212,
          0.531975731840595,
          -1.008064431305186,
          -1.047052004852239,
          0.15693951402710357,
          -0.061888674539695335,
          1.1472568799088285,
          -1.8232049204956886,
          -0.5088215335086028,
          0.8018888434820789,
          -1.193138125172003,
          1.1508657000784246,
          0.6197120558756081,
          -0.6717131229802509,
          -2.0860401916618696,
          -0.57342915056639,
          0.5374995212581878,
          -0.5328685673770484,
          -0.23785068830163442,
          0.45164324959069013,
          -0.01937340009535,
          0.11477937112607209,
          -0.14076154255896042,
          -0.13988385748639753,
          -0.7696645921042117,
          -0.18421016746021568,
          -0.21423330761126352,
          -0.00734890959141541,
          1.1328213530939724,
          -1.4287156552765827,
          -0.5516144642840903,
          -0.7931343423812411,
          0.5006083393739946,
          -0.0045120609205573795,
          0.05501801382379699,
          0.9560982713007699,
          1.179495400187467,
          -0.6439271361193529,
          -1.3620561504842512,
          1.6783810359332907,
          0.17790555885956716,
          -0.5337727464325431,
          0.529490162805114,
          -0.7710447878576198,
          -0.21522348807762237,
          0.2872358861077521,
          0.7924763496804115,
          -0.16831977505258977
         ],
         "xaxis": "x13",
         "y": [
          0.17991151079674725,
          -0.8818903411696254,
          1.3396439701998577,
          1.696369655122254,
          -1.0170500743214117,
          0.9603589234497253,
          -0.5349114716957325,
          0.4312769284383472,
          -0.3939466022989687,
          -1.8390185998560094,
          -1.1313497571724336,
          1.901325649462984,
          0.6176164163701985,
          1.0542740552600596,
          -0.3840010843845273,
          0.8046073397273489,
          0.7841681451038326,
          -0.20004483375073087,
          -1.749805329024341,
          2.0139347918697927,
          1.102392118546163,
          0.5522964480257804,
          2.05685740313035,
          -0.290733835517606,
          2.316511549409668,
          0.2959399927339611,
          -2.1132641218016053,
          -2.4300130296167217,
          -0.20485450728479654,
          0.6151779208026293,
          -1.0369765204767676,
          0.9747137403714647,
          -0.6494041640418141,
          1.0214755133988165,
          -0.8083215035935389,
          -0.31708033874340197,
          -0.7074597122841649,
          0.5224799578028866,
          0.22314406620526706,
          1.0941308108555794,
          0.47059586801987585,
          1.617159855769574,
          -0.051782952977217064,
          0.49416903624601183,
          0.1374397219014256,
          -0.08125070664670438,
          0.41113960855405046,
          2.8434878484149735,
          -0.4499474136429881,
          -0.34481772452587217,
          1.3211447457021126,
          -1.3702997023912453,
          -2.4255657807136135,
          0.5397403971280657,
          -0.19062789328622026,
          -0.9803472848041662,
          0.6909063868697634,
          0.4101978167870579,
          -0.4715904537104075,
          0.278648053040416,
          -0.7592271707557713,
          1.4616578784460046,
          0.4098348999974717,
          0.31247051172196,
          -0.2549830016008637,
          -0.4401095504059153,
          -0.7977524197572258,
          -0.6094420744605716,
          0.13091200126183208,
          -0.3801814420807549,
          1.3252737961337921,
          -0.2712713813504625,
          -0.9441856769131897,
          -0.26134997431370866,
          -0.9988584715638273,
          1.5987048602259983,
          0.5445833903546733,
          -1.320378767639152,
          1.775006643180901,
          0.586076337208009,
          -0.2077034039617294,
          2.4043382124218446,
          -1.47900009750594,
          -1.9456475559711623,
          0.8532309696471242,
          -1.4822782895641395,
          2.8566202001860277,
          -0.9745444965686464,
          0.6341673693827251,
          1.5556971061323803,
          -0.7989512908345607,
          -0.3780272524410559,
          -1.7850324919265543,
          -0.04581736762010171,
          0.7724989771290007,
          -0.2109479207225484,
          0.9749941979637414,
          0.632229746732128,
          -0.18926098483585838,
          0.2742948244476812
         ],
         "yaxis": "y13"
        },
        {
         "line": {
          "color": "rgba(128, 128, 128, 1.0)",
          "dash": "solid",
          "shape": "linear",
          "width": 1.3
         },
         "marker": {
          "size": 2,
          "symbol": "circle"
         },
         "mode": "markers",
         "name": "D",
         "text": "",
         "type": "scatter",
         "x": [
          -1.3275926421452904,
          -0.936339741020361,
          -0.13647734868874586,
          -2.2240640578978677,
          1.7394620755462407,
          -0.9836121549376742,
          0.34626738417910974,
          1.2047434241013317,
          1.40716285017813,
          1.607297362862324,
          1.1471127354058306,
          -1.0290993380333546,
          0.3382366893151083,
          1.2171761981322033,
          -2.098208032554198,
          0.6029330801302344,
          0.7289001703024334,
          -0.9748621397718429,
          -1.1333611351564175,
          -0.6438327393385788,
          -0.05736388655202392,
          0.8174149798334428,
          0.38307197322024256,
          -0.33450585472427186,
          -0.3208347691514773,
          1.1646184189868694,
          0.5472252231873067,
          0.18021263465929316,
          -1.4688972064557497,
          -0.007503782506332852,
          0.3921883000604201,
          -1.3139502090164275,
          1.048607779460764,
          0.39367903297019263,
          -0.009051504564113558,
          -1.901214271538554,
          -0.5171755167242869,
          0.9229573561035125,
          0.21267983927716877,
          -0.4370929342827836,
          0.2283932101125965,
          1.2176223801186772,
          -1.2090570542595627,
          2.5505564530909055,
          -0.6075715148722199,
          0.19176390475104416,
          0.769852942774043,
          0.7882324532714438,
          -1.3143619973703013,
          0.42644098330579333,
          -1.711462519248761,
          -0.16901255652128294,
          0.0532722679248608,
          -1.4604290285910726,
          -0.36053699012217083,
          0.5088195386777494,
          0.25542311236157367,
          -0.11186811351887037,
          0.5405878809143965,
          -0.04386982384945076,
          -0.16917336542894204,
          0.6633191366843727,
          -0.4989147864827021,
          0.1560136225260184,
          0.05272802990970662,
          -1.850465429629844,
          1.3834059410341466,
          -0.9218299190591187,
          -0.6063394567698026,
          -1.1886063318225617,
          0.10019920073973819,
          -0.2595092728091105,
          2.2190005527839,
          0.7659999908718104,
          -0.560468590169831,
          -1.8182133054973348,
          -0.11258377212132896,
          0.538066045580072,
          -0.4241680278188642,
          1.1654127387433164,
          -1.1549015772976388,
          0.69925676362351,
          -0.9108643560764622,
          -0.24661187787572553,
          -0.934632536808109,
          -0.2714279182553495,
          0.16631843471957616,
          0.31353363861918293,
          -0.9107335599140366,
          -0.25980191444427614,
          0.4628327390827214,
          -1.0223280885294475,
          -0.11416392676936336,
          0.0005269853392635756,
          0.6425260963846305,
          0.7306111095911784,
          -0.4308391283122783,
          0.821522465586635,
          -0.7522745648552567,
          -1.299678462575494
         ],
         "xaxis": "x14",
         "y": [
          0.17991151079674725,
          -0.8818903411696254,
          1.3396439701998577,
          1.696369655122254,
          -1.0170500743214117,
          0.9603589234497253,
          -0.5349114716957325,
          0.4312769284383472,
          -0.3939466022989687,
          -1.8390185998560094,
          -1.1313497571724336,
          1.901325649462984,
          0.6176164163701985,
          1.0542740552600596,
          -0.3840010843845273,
          0.8046073397273489,
          0.7841681451038326,
          -0.20004483375073087,
          -1.749805329024341,
          2.0139347918697927,
          1.102392118546163,
          0.5522964480257804,
          2.05685740313035,
          -0.290733835517606,
          2.316511549409668,
          0.2959399927339611,
          -2.1132641218016053,
          -2.4300130296167217,
          -0.20485450728479654,
          0.6151779208026293,
          -1.0369765204767676,
          0.9747137403714647,
          -0.6494041640418141,
          1.0214755133988165,
          -0.8083215035935389,
          -0.31708033874340197,
          -0.7074597122841649,
          0.5224799578028866,
          0.22314406620526706,
          1.0941308108555794,
          0.47059586801987585,
          1.617159855769574,
          -0.051782952977217064,
          0.49416903624601183,
          0.1374397219014256,
          -0.08125070664670438,
          0.41113960855405046,
          2.8434878484149735,
          -0.4499474136429881,
          -0.34481772452587217,
          1.3211447457021126,
          -1.3702997023912453,
          -2.4255657807136135,
          0.5397403971280657,
          -0.19062789328622026,
          -0.9803472848041662,
          0.6909063868697634,
          0.4101978167870579,
          -0.4715904537104075,
          0.278648053040416,
          -0.7592271707557713,
          1.4616578784460046,
          0.4098348999974717,
          0.31247051172196,
          -0.2549830016008637,
          -0.4401095504059153,
          -0.7977524197572258,
          -0.6094420744605716,
          0.13091200126183208,
          -0.3801814420807549,
          1.3252737961337921,
          -0.2712713813504625,
          -0.9441856769131897,
          -0.26134997431370866,
          -0.9988584715638273,
          1.5987048602259983,
          0.5445833903546733,
          -1.320378767639152,
          1.775006643180901,
          0.586076337208009,
          -0.2077034039617294,
          2.4043382124218446,
          -1.47900009750594,
          -1.9456475559711623,
          0.8532309696471242,
          -1.4822782895641395,
          2.8566202001860277,
          -0.9745444965686464,
          0.6341673693827251,
          1.5556971061323803,
          -0.7989512908345607,
          -0.3780272524410559,
          -1.7850324919265543,
          -0.04581736762010171,
          0.7724989771290007,
          -0.2109479207225484,
          0.9749941979637414,
          0.632229746732128,
          -0.18926098483585838,
          0.2742948244476812
         ],
         "yaxis": "y14"
        },
        {
         "line": {
          "color": "rgba(128, 128, 128, 1.0)",
          "dash": "solid",
          "shape": "linear",
          "width": 1.3
         },
         "marker": {
          "size": 2,
          "symbol": "circle"
         },
         "mode": "markers",
         "name": "D",
         "text": "",
         "type": "scatter",
         "x": [
          0.7299625284862286,
          2.3553416977424178,
          0.9439163197043687,
          -1.7485668461634558,
          0.67303371795341,
          -0.5827088164406231,
          -0.2298437357287439,
          -0.25299429402279805,
          2.243376147690324,
          0.026678264182821525,
          -0.009326706571950632,
          -1.28103276971166,
          -0.9018097255727358,
          -2.316355818136636,
          0.5765390416190728,
          -0.5461091032849023,
          -0.8367310170947283,
          -0.10534783116365523,
          1.5267070285714082,
          -1.9147501133533784,
          -0.5179575970987909,
          -1.060722722859043,
          -0.6002336281882471,
          1.4405474123808457,
          0.7600485110526476,
          -0.6111759262953101,
          0.5252641852189067,
          0.35234677933198255,
          -1.256464159844944,
          -0.4328089054815595,
          -0.564944070367201,
          1.3937889852249814,
          -0.6120421309973892,
          -1.9675877843906422,
          -0.41288518037872285,
          -0.1568912040337323,
          1.0096741355529157,
          -0.6497081922716762,
          0.4258224548117755,
          0.03419617577775748,
          0.2544273158327501,
          -1.2130175397650842,
          2.3039996012372805,
          -1.6914934829063475,
          -0.7401624318559102,
          0.4620462894350896,
          0.7961878899891845,
          0.806258868435501,
          0.7431934103318454,
          -0.20573033233185833,
          1.6716873719469132,
          -0.04951833789026921,
          1.4169100195351396,
          -0.4346643636616852,
          1.6271435354582984,
          -0.2125027399496185,
          -0.02916701828161739,
          -0.25266723938880226,
          1.9761466932774905,
          0.11007665834811947,
          0.2921641158126787,
          -0.9605877946560205,
          1.199755946328249,
          -0.15512336924943296,
          0.9932606411511252,
          0.46631966023247334,
          -0.8871888295482587,
          -0.38177735170627886,
          0.7880515178140529,
          -0.9196931896060868,
          1.2894821795957643,
          -0.8448972917184487,
          -0.11451821513216144,
          0.8822791063972072,
          -2.080895983039389,
          1.4661993777627285,
          0.27195893179757347,
          -2.4541448160069357,
          0.7955709411989315,
          -1.9578482622294364,
          -0.013272646509554342,
          -0.7987542104110034,
          1.27290935113707,
          1.245872469152833,
          0.6783887133174455,
          1.2203139391698046,
          0.18857306794771148,
          -0.12981951489743296,
          -0.3209816313541664,
          1.0042691846843708,
          -0.31179723886458666,
          0.6727438201213922,
          -0.13274620751416147,
          -0.4359416099838764,
          1.4825171216305515,
          -0.7349535329592677,
          0.4928961852590263,
          -1.334426537004841,
          0.2828080600024883,
          0.5354572657235364
         ],
         "xaxis": "x15",
         "y": [
          0.17991151079674725,
          -0.8818903411696254,
          1.3396439701998577,
          1.696369655122254,
          -1.0170500743214117,
          0.9603589234497253,
          -0.5349114716957325,
          0.4312769284383472,
          -0.3939466022989687,
          -1.8390185998560094,
          -1.1313497571724336,
          1.901325649462984,
          0.6176164163701985,
          1.0542740552600596,
          -0.3840010843845273,
          0.8046073397273489,
          0.7841681451038326,
          -0.20004483375073087,
          -1.749805329024341,
          2.0139347918697927,
          1.102392118546163,
          0.5522964480257804,
          2.05685740313035,
          -0.290733835517606,
          2.316511549409668,
          0.2959399927339611,
          -2.1132641218016053,
          -2.4300130296167217,
          -0.20485450728479654,
          0.6151779208026293,
          -1.0369765204767676,
          0.9747137403714647,
          -0.6494041640418141,
          1.0214755133988165,
          -0.8083215035935389,
          -0.31708033874340197,
          -0.7074597122841649,
          0.5224799578028866,
          0.22314406620526706,
          1.0941308108555794,
          0.47059586801987585,
          1.617159855769574,
          -0.051782952977217064,
          0.49416903624601183,
          0.1374397219014256,
          -0.08125070664670438,
          0.41113960855405046,
          2.8434878484149735,
          -0.4499474136429881,
          -0.34481772452587217,
          1.3211447457021126,
          -1.3702997023912453,
          -2.4255657807136135,
          0.5397403971280657,
          -0.19062789328622026,
          -0.9803472848041662,
          0.6909063868697634,
          0.4101978167870579,
          -0.4715904537104075,
          0.278648053040416,
          -0.7592271707557713,
          1.4616578784460046,
          0.4098348999974717,
          0.31247051172196,
          -0.2549830016008637,
          -0.4401095504059153,
          -0.7977524197572258,
          -0.6094420744605716,
          0.13091200126183208,
          -0.3801814420807549,
          1.3252737961337921,
          -0.2712713813504625,
          -0.9441856769131897,
          -0.26134997431370866,
          -0.9988584715638273,
          1.5987048602259983,
          0.5445833903546733,
          -1.320378767639152,
          1.775006643180901,
          0.586076337208009,
          -0.2077034039617294,
          2.4043382124218446,
          -1.47900009750594,
          -1.9456475559711623,
          0.8532309696471242,
          -1.4822782895641395,
          2.8566202001860277,
          -0.9745444965686464,
          0.6341673693827251,
          1.5556971061323803,
          -0.7989512908345607,
          -0.3780272524410559,
          -1.7850324919265543,
          -0.04581736762010171,
          0.7724989771290007,
          -0.2109479207225484,
          0.9749941979637414,
          0.632229746732128,
          -0.18926098483585838,
          0.2742948244476812
         ],
         "yaxis": "y15"
        },
        {
         "histfunc": "count",
         "histnorm": "",
         "marker": {
          "color": "rgba(128, 0, 128, 1.0)",
          "line": {
           "color": "#4D5663",
           "width": 1.3
          }
         },
         "name": "D",
         "nbinsx": 10,
         "opacity": 0.8,
         "orientation": "v",
         "type": "histogram",
         "x": [
          0.17991151079674725,
          -0.8818903411696254,
          1.3396439701998577,
          1.696369655122254,
          -1.0170500743214117,
          0.9603589234497253,
          -0.5349114716957325,
          0.4312769284383472,
          -0.3939466022989687,
          -1.8390185998560094,
          -1.1313497571724336,
          1.901325649462984,
          0.6176164163701985,
          1.0542740552600596,
          -0.3840010843845273,
          0.8046073397273489,
          0.7841681451038326,
          -0.20004483375073087,
          -1.749805329024341,
          2.0139347918697927,
          1.102392118546163,
          0.5522964480257804,
          2.05685740313035,
          -0.290733835517606,
          2.316511549409668,
          0.2959399927339611,
          -2.1132641218016053,
          -2.4300130296167217,
          -0.20485450728479654,
          0.6151779208026293,
          -1.0369765204767676,
          0.9747137403714647,
          -0.6494041640418141,
          1.0214755133988165,
          -0.8083215035935389,
          -0.31708033874340197,
          -0.7074597122841649,
          0.5224799578028866,
          0.22314406620526706,
          1.0941308108555794,
          0.47059586801987585,
          1.617159855769574,
          -0.051782952977217064,
          0.49416903624601183,
          0.1374397219014256,
          -0.08125070664670438,
          0.41113960855405046,
          2.8434878484149735,
          -0.4499474136429881,
          -0.34481772452587217,
          1.3211447457021126,
          -1.3702997023912453,
          -2.4255657807136135,
          0.5397403971280657,
          -0.19062789328622026,
          -0.9803472848041662,
          0.6909063868697634,
          0.4101978167870579,
          -0.4715904537104075,
          0.278648053040416,
          -0.7592271707557713,
          1.4616578784460046,
          0.4098348999974717,
          0.31247051172196,
          -0.2549830016008637,
          -0.4401095504059153,
          -0.7977524197572258,
          -0.6094420744605716,
          0.13091200126183208,
          -0.3801814420807549,
          1.3252737961337921,
          -0.2712713813504625,
          -0.9441856769131897,
          -0.26134997431370866,
          -0.9988584715638273,
          1.5987048602259983,
          0.5445833903546733,
          -1.320378767639152,
          1.775006643180901,
          0.586076337208009,
          -0.2077034039617294,
          2.4043382124218446,
          -1.47900009750594,
          -1.9456475559711623,
          0.8532309696471242,
          -1.4822782895641395,
          2.8566202001860277,
          -0.9745444965686464,
          0.6341673693827251,
          1.5556971061323803,
          -0.7989512908345607,
          -0.3780272524410559,
          -1.7850324919265543,
          -0.04581736762010171,
          0.7724989771290007,
          -0.2109479207225484,
          0.9749941979637414,
          0.632229746732128,
          -0.18926098483585838,
          0.2742948244476812
         ],
         "xaxis": "x16",
         "yaxis": "y16"
        }
       ],
       "layout": {
        "bargap": 0.02,
        "legend": {
         "bgcolor": "#F5F6F9",
         "font": {
          "color": "#4D5663"
         }
        },
        "paper_bgcolor": "#F5F6F9",
        "plot_bgcolor": "#F5F6F9",
        "showlegend": false,
        "template": {
         "data": {
          "bar": [
           {
            "error_x": {
             "color": "#2a3f5f"
            },
            "error_y": {
             "color": "#2a3f5f"
            },
            "marker": {
             "line": {
              "color": "#E5ECF6",
              "width": 0.5
             }
            },
            "type": "bar"
           }
          ],
          "barpolar": [
           {
            "marker": {
             "line": {
              "color": "#E5ECF6",
              "width": 0.5
             }
            },
            "type": "barpolar"
           }
          ],
          "carpet": [
           {
            "aaxis": {
             "endlinecolor": "#2a3f5f",
             "gridcolor": "white",
             "linecolor": "white",
             "minorgridcolor": "white",
             "startlinecolor": "#2a3f5f"
            },
            "baxis": {
             "endlinecolor": "#2a3f5f",
             "gridcolor": "white",
             "linecolor": "white",
             "minorgridcolor": "white",
             "startlinecolor": "#2a3f5f"
            },
            "type": "carpet"
           }
          ],
          "choropleth": [
           {
            "colorbar": {
             "outlinewidth": 0,
             "ticks": ""
            },
            "type": "choropleth"
           }
          ],
          "contour": [
           {
            "colorbar": {
             "outlinewidth": 0,
             "ticks": ""
            },
            "colorscale": [
             [
              0,
              "#0d0887"
             ],
             [
              0.1111111111111111,
              "#46039f"
             ],
             [
              0.2222222222222222,
              "#7201a8"
             ],
             [
              0.3333333333333333,
              "#9c179e"
             ],
             [
              0.4444444444444444,
              "#bd3786"
             ],
             [
              0.5555555555555556,
              "#d8576b"
             ],
             [
              0.6666666666666666,
              "#ed7953"
             ],
             [
              0.7777777777777778,
              "#fb9f3a"
             ],
             [
              0.8888888888888888,
              "#fdca26"
             ],
             [
              1,
              "#f0f921"
             ]
            ],
            "type": "contour"
           }
          ],
          "contourcarpet": [
           {
            "colorbar": {
             "outlinewidth": 0,
             "ticks": ""
            },
            "type": "contourcarpet"
           }
          ],
          "heatmap": [
           {
            "colorbar": {
             "outlinewidth": 0,
             "ticks": ""
            },
            "colorscale": [
             [
              0,
              "#0d0887"
             ],
             [
              0.1111111111111111,
              "#46039f"
             ],
             [
              0.2222222222222222,
              "#7201a8"
             ],
             [
              0.3333333333333333,
              "#9c179e"
             ],
             [
              0.4444444444444444,
              "#bd3786"
             ],
             [
              0.5555555555555556,
              "#d8576b"
             ],
             [
              0.6666666666666666,
              "#ed7953"
             ],
             [
              0.7777777777777778,
              "#fb9f3a"
             ],
             [
              0.8888888888888888,
              "#fdca26"
             ],
             [
              1,
              "#f0f921"
             ]
            ],
            "type": "heatmap"
           }
          ],
          "heatmapgl": [
           {
            "colorbar": {
             "outlinewidth": 0,
             "ticks": ""
            },
            "colorscale": [
             [
              0,
              "#0d0887"
             ],
             [
              0.1111111111111111,
              "#46039f"
             ],
             [
              0.2222222222222222,
              "#7201a8"
             ],
             [
              0.3333333333333333,
              "#9c179e"
             ],
             [
              0.4444444444444444,
              "#bd3786"
             ],
             [
              0.5555555555555556,
              "#d8576b"
             ],
             [
              0.6666666666666666,
              "#ed7953"
             ],
             [
              0.7777777777777778,
              "#fb9f3a"
             ],
             [
              0.8888888888888888,
              "#fdca26"
             ],
             [
              1,
              "#f0f921"
             ]
            ],
            "type": "heatmapgl"
           }
          ],
          "histogram": [
           {
            "marker": {
             "colorbar": {
              "outlinewidth": 0,
              "ticks": ""
             }
            },
            "type": "histogram"
           }
          ],
          "histogram2d": [
           {
            "colorbar": {
             "outlinewidth": 0,
             "ticks": ""
            },
            "colorscale": [
             [
              0,
              "#0d0887"
             ],
             [
              0.1111111111111111,
              "#46039f"
             ],
             [
              0.2222222222222222,
              "#7201a8"
             ],
             [
              0.3333333333333333,
              "#9c179e"
             ],
             [
              0.4444444444444444,
              "#bd3786"
             ],
             [
              0.5555555555555556,
              "#d8576b"
             ],
             [
              0.6666666666666666,
              "#ed7953"
             ],
             [
              0.7777777777777778,
              "#fb9f3a"
             ],
             [
              0.8888888888888888,
              "#fdca26"
             ],
             [
              1,
              "#f0f921"
             ]
            ],
            "type": "histogram2d"
           }
          ],
          "histogram2dcontour": [
           {
            "colorbar": {
             "outlinewidth": 0,
             "ticks": ""
            },
            "colorscale": [
             [
              0,
              "#0d0887"
             ],
             [
              0.1111111111111111,
              "#46039f"
             ],
             [
              0.2222222222222222,
              "#7201a8"
             ],
             [
              0.3333333333333333,
              "#9c179e"
             ],
             [
              0.4444444444444444,
              "#bd3786"
             ],
             [
              0.5555555555555556,
              "#d8576b"
             ],
             [
              0.6666666666666666,
              "#ed7953"
             ],
             [
              0.7777777777777778,
              "#fb9f3a"
             ],
             [
              0.8888888888888888,
              "#fdca26"
             ],
             [
              1,
              "#f0f921"
             ]
            ],
            "type": "histogram2dcontour"
           }
          ],
          "mesh3d": [
           {
            "colorbar": {
             "outlinewidth": 0,
             "ticks": ""
            },
            "type": "mesh3d"
           }
          ],
          "parcoords": [
           {
            "line": {
             "colorbar": {
              "outlinewidth": 0,
              "ticks": ""
             }
            },
            "type": "parcoords"
           }
          ],
          "pie": [
           {
            "automargin": true,
            "type": "pie"
           }
          ],
          "scatter": [
           {
            "marker": {
             "colorbar": {
              "outlinewidth": 0,
              "ticks": ""
             }
            },
            "type": "scatter"
           }
          ],
          "scatter3d": [
           {
            "line": {
             "colorbar": {
              "outlinewidth": 0,
              "ticks": ""
             }
            },
            "marker": {
             "colorbar": {
              "outlinewidth": 0,
              "ticks": ""
             }
            },
            "type": "scatter3d"
           }
          ],
          "scattercarpet": [
           {
            "marker": {
             "colorbar": {
              "outlinewidth": 0,
              "ticks": ""
             }
            },
            "type": "scattercarpet"
           }
          ],
          "scattergeo": [
           {
            "marker": {
             "colorbar": {
              "outlinewidth": 0,
              "ticks": ""
             }
            },
            "type": "scattergeo"
           }
          ],
          "scattergl": [
           {
            "marker": {
             "colorbar": {
              "outlinewidth": 0,
              "ticks": ""
             }
            },
            "type": "scattergl"
           }
          ],
          "scattermapbox": [
           {
            "marker": {
             "colorbar": {
              "outlinewidth": 0,
              "ticks": ""
             }
            },
            "type": "scattermapbox"
           }
          ],
          "scatterpolar": [
           {
            "marker": {
             "colorbar": {
              "outlinewidth": 0,
              "ticks": ""
             }
            },
            "type": "scatterpolar"
           }
          ],
          "scatterpolargl": [
           {
            "marker": {
             "colorbar": {
              "outlinewidth": 0,
              "ticks": ""
             }
            },
            "type": "scatterpolargl"
           }
          ],
          "scatterternary": [
           {
            "marker": {
             "colorbar": {
              "outlinewidth": 0,
              "ticks": ""
             }
            },
            "type": "scatterternary"
           }
          ],
          "surface": [
           {
            "colorbar": {
             "outlinewidth": 0,
             "ticks": ""
            },
            "colorscale": [
             [
              0,
              "#0d0887"
             ],
             [
              0.1111111111111111,
              "#46039f"
             ],
             [
              0.2222222222222222,
              "#7201a8"
             ],
             [
              0.3333333333333333,
              "#9c179e"
             ],
             [
              0.4444444444444444,
              "#bd3786"
             ],
             [
              0.5555555555555556,
              "#d8576b"
             ],
             [
              0.6666666666666666,
              "#ed7953"
             ],
             [
              0.7777777777777778,
              "#fb9f3a"
             ],
             [
              0.8888888888888888,
              "#fdca26"
             ],
             [
              1,
              "#f0f921"
             ]
            ],
            "type": "surface"
           }
          ],
          "table": [
           {
            "cells": {
             "fill": {
              "color": "#EBF0F8"
             },
             "line": {
              "color": "white"
             }
            },
            "header": {
             "fill": {
              "color": "#C8D4E3"
             },
             "line": {
              "color": "white"
             }
            },
            "type": "table"
           }
          ]
         },
         "layout": {
          "annotationdefaults": {
           "arrowcolor": "#2a3f5f",
           "arrowhead": 0,
           "arrowwidth": 1
          },
          "autotypenumbers": "strict",
          "coloraxis": {
           "colorbar": {
            "outlinewidth": 0,
            "ticks": ""
           }
          },
          "colorscale": {
           "diverging": [
            [
             0,
             "#8e0152"
            ],
            [
             0.1,
             "#c51b7d"
            ],
            [
             0.2,
             "#de77ae"
            ],
            [
             0.3,
             "#f1b6da"
            ],
            [
             0.4,
             "#fde0ef"
            ],
            [
             0.5,
             "#f7f7f7"
            ],
            [
             0.6,
             "#e6f5d0"
            ],
            [
             0.7,
             "#b8e186"
            ],
            [
             0.8,
             "#7fbc41"
            ],
            [
             0.9,
             "#4d9221"
            ],
            [
             1,
             "#276419"
            ]
           ],
           "sequential": [
            [
             0,
             "#0d0887"
            ],
            [
             0.1111111111111111,
             "#46039f"
            ],
            [
             0.2222222222222222,
             "#7201a8"
            ],
            [
             0.3333333333333333,
             "#9c179e"
            ],
            [
             0.4444444444444444,
             "#bd3786"
            ],
            [
             0.5555555555555556,
             "#d8576b"
            ],
            [
             0.6666666666666666,
             "#ed7953"
            ],
            [
             0.7777777777777778,
             "#fb9f3a"
            ],
            [
             0.8888888888888888,
             "#fdca26"
            ],
            [
             1,
             "#f0f921"
            ]
           ],
           "sequentialminus": [
            [
             0,
             "#0d0887"
            ],
            [
             0.1111111111111111,
             "#46039f"
            ],
            [
             0.2222222222222222,
             "#7201a8"
            ],
            [
             0.3333333333333333,
             "#9c179e"
            ],
            [
             0.4444444444444444,
             "#bd3786"
            ],
            [
             0.5555555555555556,
             "#d8576b"
            ],
            [
             0.6666666666666666,
             "#ed7953"
            ],
            [
             0.7777777777777778,
             "#fb9f3a"
            ],
            [
             0.8888888888888888,
             "#fdca26"
            ],
            [
             1,
             "#f0f921"
            ]
           ]
          },
          "colorway": [
           "#636efa",
           "#EF553B",
           "#00cc96",
           "#ab63fa",
           "#FFA15A",
           "#19d3f3",
           "#FF6692",
           "#B6E880",
           "#FF97FF",
           "#FECB52"
          ],
          "font": {
           "color": "#2a3f5f"
          },
          "geo": {
           "bgcolor": "white",
           "lakecolor": "white",
           "landcolor": "#E5ECF6",
           "showlakes": true,
           "showland": true,
           "subunitcolor": "white"
          },
          "hoverlabel": {
           "align": "left"
          },
          "hovermode": "closest",
          "mapbox": {
           "style": "light"
          },
          "paper_bgcolor": "white",
          "plot_bgcolor": "#E5ECF6",
          "polar": {
           "angularaxis": {
            "gridcolor": "white",
            "linecolor": "white",
            "ticks": ""
           },
           "bgcolor": "#E5ECF6",
           "radialaxis": {
            "gridcolor": "white",
            "linecolor": "white",
            "ticks": ""
           }
          },
          "scene": {
           "xaxis": {
            "backgroundcolor": "#E5ECF6",
            "gridcolor": "white",
            "gridwidth": 2,
            "linecolor": "white",
            "showbackground": true,
            "ticks": "",
            "zerolinecolor": "white"
           },
           "yaxis": {
            "backgroundcolor": "#E5ECF6",
            "gridcolor": "white",
            "gridwidth": 2,
            "linecolor": "white",
            "showbackground": true,
            "ticks": "",
            "zerolinecolor": "white"
           },
           "zaxis": {
            "backgroundcolor": "#E5ECF6",
            "gridcolor": "white",
            "gridwidth": 2,
            "linecolor": "white",
            "showbackground": true,
            "ticks": "",
            "zerolinecolor": "white"
           }
          },
          "shapedefaults": {
           "line": {
            "color": "#2a3f5f"
           }
          },
          "ternary": {
           "aaxis": {
            "gridcolor": "white",
            "linecolor": "white",
            "ticks": ""
           },
           "baxis": {
            "gridcolor": "white",
            "linecolor": "white",
            "ticks": ""
           },
           "bgcolor": "#E5ECF6",
           "caxis": {
            "gridcolor": "white",
            "linecolor": "white",
            "ticks": ""
           }
          },
          "title": {
           "x": 0.05
          },
          "xaxis": {
           "automargin": true,
           "gridcolor": "white",
           "linecolor": "white",
           "ticks": "",
           "title": {
            "standoff": 15
           },
           "zerolinecolor": "white",
           "zerolinewidth": 2
          },
          "yaxis": {
           "automargin": true,
           "gridcolor": "white",
           "linecolor": "white",
           "ticks": "",
           "title": {
            "standoff": 15
           },
           "zerolinecolor": "white",
           "zerolinewidth": 2
          }
         }
        },
        "title": {
         "font": {
          "color": "#4D5663"
         }
        },
        "xaxis": {
         "anchor": "y",
         "domain": [
          0,
          0.2125
         ],
         "gridcolor": "#E1E5ED",
         "showgrid": false,
         "tickfont": {
          "color": "#4D5663"
         },
         "title": {
          "font": {
           "color": "#4D5663"
          },
          "text": ""
         },
         "zerolinecolor": "#E1E5ED"
        },
        "xaxis10": {
         "anchor": "y10",
         "domain": [
          0.2625,
          0.475
         ],
         "gridcolor": "#E1E5ED",
         "showgrid": false,
         "tickfont": {
          "color": "#4D5663"
         },
         "title": {
          "font": {
           "color": "#4D5663"
          },
          "text": ""
         },
         "zerolinecolor": "#E1E5ED"
        },
        "xaxis11": {
         "anchor": "y11",
         "domain": [
          0.525,
          0.7375
         ],
         "gridcolor": "#E1E5ED",
         "showgrid": false,
         "tickfont": {
          "color": "#4D5663"
         },
         "title": {
          "font": {
           "color": "#4D5663"
          },
          "text": ""
         },
         "zerolinecolor": "#E1E5ED"
        },
        "xaxis12": {
         "anchor": "y12",
         "domain": [
          0.7875,
          1
         ],
         "gridcolor": "#E1E5ED",
         "showgrid": false,
         "tickfont": {
          "color": "#4D5663"
         },
         "title": {
          "font": {
           "color": "#4D5663"
          },
          "text": ""
         },
         "zerolinecolor": "#E1E5ED"
        },
        "xaxis13": {
         "anchor": "y13",
         "domain": [
          0,
          0.2125
         ],
         "gridcolor": "#E1E5ED",
         "showgrid": false,
         "tickfont": {
          "color": "#4D5663"
         },
         "title": {
          "font": {
           "color": "#4D5663"
          },
          "text": ""
         },
         "zerolinecolor": "#E1E5ED"
        },
        "xaxis14": {
         "anchor": "y14",
         "domain": [
          0.2625,
          0.475
         ],
         "gridcolor": "#E1E5ED",
         "showgrid": false,
         "tickfont": {
          "color": "#4D5663"
         },
         "title": {
          "font": {
           "color": "#4D5663"
          },
          "text": ""
         },
         "zerolinecolor": "#E1E5ED"
        },
        "xaxis15": {
         "anchor": "y15",
         "domain": [
          0.525,
          0.7375
         ],
         "gridcolor": "#E1E5ED",
         "showgrid": false,
         "tickfont": {
          "color": "#4D5663"
         },
         "title": {
          "font": {
           "color": "#4D5663"
          },
          "text": ""
         },
         "zerolinecolor": "#E1E5ED"
        },
        "xaxis16": {
         "anchor": "y16",
         "domain": [
          0.7875,
          1
         ],
         "gridcolor": "#E1E5ED",
         "showgrid": false,
         "tickfont": {
          "color": "#4D5663"
         },
         "title": {
          "font": {
           "color": "#4D5663"
          },
          "text": ""
         },
         "zerolinecolor": "#E1E5ED"
        },
        "xaxis2": {
         "anchor": "y2",
         "domain": [
          0.2625,
          0.475
         ],
         "gridcolor": "#E1E5ED",
         "showgrid": false,
         "tickfont": {
          "color": "#4D5663"
         },
         "title": {
          "font": {
           "color": "#4D5663"
          },
          "text": ""
         },
         "zerolinecolor": "#E1E5ED"
        },
        "xaxis3": {
         "anchor": "y3",
         "domain": [
          0.525,
          0.7375
         ],
         "gridcolor": "#E1E5ED",
         "showgrid": false,
         "tickfont": {
          "color": "#4D5663"
         },
         "title": {
          "font": {
           "color": "#4D5663"
          },
          "text": ""
         },
         "zerolinecolor": "#E1E5ED"
        },
        "xaxis4": {
         "anchor": "y4",
         "domain": [
          0.7875,
          1
         ],
         "gridcolor": "#E1E5ED",
         "showgrid": false,
         "tickfont": {
          "color": "#4D5663"
         },
         "title": {
          "font": {
           "color": "#4D5663"
          },
          "text": ""
         },
         "zerolinecolor": "#E1E5ED"
        },
        "xaxis5": {
         "anchor": "y5",
         "domain": [
          0,
          0.2125
         ],
         "gridcolor": "#E1E5ED",
         "showgrid": false,
         "tickfont": {
          "color": "#4D5663"
         },
         "title": {
          "font": {
           "color": "#4D5663"
          },
          "text": ""
         },
         "zerolinecolor": "#E1E5ED"
        },
        "xaxis6": {
         "anchor": "y6",
         "domain": [
          0.2625,
          0.475
         ],
         "gridcolor": "#E1E5ED",
         "showgrid": false,
         "tickfont": {
          "color": "#4D5663"
         },
         "title": {
          "font": {
           "color": "#4D5663"
          },
          "text": ""
         },
         "zerolinecolor": "#E1E5ED"
        },
        "xaxis7": {
         "anchor": "y7",
         "domain": [
          0.525,
          0.7375
         ],
         "gridcolor": "#E1E5ED",
         "showgrid": false,
         "tickfont": {
          "color": "#4D5663"
         },
         "title": {
          "font": {
           "color": "#4D5663"
          },
          "text": ""
         },
         "zerolinecolor": "#E1E5ED"
        },
        "xaxis8": {
         "anchor": "y8",
         "domain": [
          0.7875,
          1
         ],
         "gridcolor": "#E1E5ED",
         "showgrid": false,
         "tickfont": {
          "color": "#4D5663"
         },
         "title": {
          "font": {
           "color": "#4D5663"
          },
          "text": ""
         },
         "zerolinecolor": "#E1E5ED"
        },
        "xaxis9": {
         "anchor": "y9",
         "domain": [
          0,
          0.2125
         ],
         "gridcolor": "#E1E5ED",
         "showgrid": false,
         "tickfont": {
          "color": "#4D5663"
         },
         "title": {
          "font": {
           "color": "#4D5663"
          },
          "text": ""
         },
         "zerolinecolor": "#E1E5ED"
        },
        "yaxis": {
         "anchor": "x",
         "domain": [
          0.8025,
          1
         ],
         "gridcolor": "#E1E5ED",
         "showgrid": false,
         "tickfont": {
          "color": "#4D5663"
         },
         "title": {
          "font": {
           "color": "#4D5663"
          },
          "text": ""
         },
         "zerolinecolor": "#E1E5ED"
        },
        "yaxis10": {
         "anchor": "x10",
         "domain": [
          0.2675,
          0.465
         ],
         "gridcolor": "#E1E5ED",
         "showgrid": false,
         "tickfont": {
          "color": "#4D5663"
         },
         "title": {
          "font": {
           "color": "#4D5663"
          },
          "text": ""
         },
         "zerolinecolor": "#E1E5ED"
        },
        "yaxis11": {
         "anchor": "x11",
         "domain": [
          0.2675,
          0.465
         ],
         "gridcolor": "#E1E5ED",
         "showgrid": false,
         "tickfont": {
          "color": "#4D5663"
         },
         "title": {
          "font": {
           "color": "#4D5663"
          },
          "text": ""
         },
         "zerolinecolor": "#E1E5ED"
        },
        "yaxis12": {
         "anchor": "x12",
         "domain": [
          0.2675,
          0.465
         ],
         "gridcolor": "#E1E5ED",
         "showgrid": false,
         "tickfont": {
          "color": "#4D5663"
         },
         "title": {
          "font": {
           "color": "#4D5663"
          },
          "text": ""
         },
         "zerolinecolor": "#E1E5ED"
        },
        "yaxis13": {
         "anchor": "x13",
         "domain": [
          0,
          0.1975
         ],
         "gridcolor": "#E1E5ED",
         "showgrid": false,
         "tickfont": {
          "color": "#4D5663"
         },
         "title": {
          "font": {
           "color": "#4D5663"
          },
          "text": ""
         },
         "zerolinecolor": "#E1E5ED"
        },
        "yaxis14": {
         "anchor": "x14",
         "domain": [
          0,
          0.1975
         ],
         "gridcolor": "#E1E5ED",
         "showgrid": false,
         "tickfont": {
          "color": "#4D5663"
         },
         "title": {
          "font": {
           "color": "#4D5663"
          },
          "text": ""
         },
         "zerolinecolor": "#E1E5ED"
        },
        "yaxis15": {
         "anchor": "x15",
         "domain": [
          0,
          0.1975
         ],
         "gridcolor": "#E1E5ED",
         "showgrid": false,
         "tickfont": {
          "color": "#4D5663"
         },
         "title": {
          "font": {
           "color": "#4D5663"
          },
          "text": ""
         },
         "zerolinecolor": "#E1E5ED"
        },
        "yaxis16": {
         "anchor": "x16",
         "domain": [
          0,
          0.1975
         ],
         "gridcolor": "#E1E5ED",
         "showgrid": false,
         "tickfont": {
          "color": "#4D5663"
         },
         "title": {
          "font": {
           "color": "#4D5663"
          },
          "text": ""
         },
         "zerolinecolor": "#E1E5ED"
        },
        "yaxis2": {
         "anchor": "x2",
         "domain": [
          0.8025,
          1
         ],
         "gridcolor": "#E1E5ED",
         "showgrid": false,
         "tickfont": {
          "color": "#4D5663"
         },
         "title": {
          "font": {
           "color": "#4D5663"
          },
          "text": ""
         },
         "zerolinecolor": "#E1E5ED"
        },
        "yaxis3": {
         "anchor": "x3",
         "domain": [
          0.8025,
          1
         ],
         "gridcolor": "#E1E5ED",
         "showgrid": false,
         "tickfont": {
          "color": "#4D5663"
         },
         "title": {
          "font": {
           "color": "#4D5663"
          },
          "text": ""
         },
         "zerolinecolor": "#E1E5ED"
        },
        "yaxis4": {
         "anchor": "x4",
         "domain": [
          0.8025,
          1
         ],
         "gridcolor": "#E1E5ED",
         "showgrid": false,
         "tickfont": {
          "color": "#4D5663"
         },
         "title": {
          "font": {
           "color": "#4D5663"
          },
          "text": ""
         },
         "zerolinecolor": "#E1E5ED"
        },
        "yaxis5": {
         "anchor": "x5",
         "domain": [
          0.535,
          0.7325
         ],
         "gridcolor": "#E1E5ED",
         "showgrid": false,
         "tickfont": {
          "color": "#4D5663"
         },
         "title": {
          "font": {
           "color": "#4D5663"
          },
          "text": ""
         },
         "zerolinecolor": "#E1E5ED"
        },
        "yaxis6": {
         "anchor": "x6",
         "domain": [
          0.535,
          0.7325
         ],
         "gridcolor": "#E1E5ED",
         "showgrid": false,
         "tickfont": {
          "color": "#4D5663"
         },
         "title": {
          "font": {
           "color": "#4D5663"
          },
          "text": ""
         },
         "zerolinecolor": "#E1E5ED"
        },
        "yaxis7": {
         "anchor": "x7",
         "domain": [
          0.535,
          0.7325
         ],
         "gridcolor": "#E1E5ED",
         "showgrid": false,
         "tickfont": {
          "color": "#4D5663"
         },
         "title": {
          "font": {
           "color": "#4D5663"
          },
          "text": ""
         },
         "zerolinecolor": "#E1E5ED"
        },
        "yaxis8": {
         "anchor": "x8",
         "domain": [
          0.535,
          0.7325
         ],
         "gridcolor": "#E1E5ED",
         "showgrid": false,
         "tickfont": {
          "color": "#4D5663"
         },
         "title": {
          "font": {
           "color": "#4D5663"
          },
          "text": ""
         },
         "zerolinecolor": "#E1E5ED"
        },
        "yaxis9": {
         "anchor": "x9",
         "domain": [
          0.2675,
          0.465
         ],
         "gridcolor": "#E1E5ED",
         "showgrid": false,
         "tickfont": {
          "color": "#4D5663"
         },
         "title": {
          "font": {
           "color": "#4D5663"
          },
          "text": ""
         },
         "zerolinecolor": "#E1E5ED"
        }
       }
      },
      "text/html": [
       "<div>                            <div id=\"25134014-4215-4513-b4a8-3cd41b983e1e\" class=\"plotly-graph-div\" style=\"height:525px; width:100%;\"></div>            <script type=\"text/javascript\">                require([\"plotly\"], function(Plotly) {                    window.PLOTLYENV=window.PLOTLYENV || {};\n",
       "                    window.PLOTLYENV.BASE_URL='https://plot.ly';                                    if (document.getElementById(\"25134014-4215-4513-b4a8-3cd41b983e1e\")) {                    Plotly.newPlot(                        \"25134014-4215-4513-b4a8-3cd41b983e1e\",                        [{\"histfunc\": \"count\", \"histnorm\": \"\", \"marker\": {\"color\": \"rgba(255, 153, 51, 1.0)\", \"line\": {\"color\": \"#4D5663\", \"width\": 1.3}}, \"name\": \"A\", \"nbinsx\": 10, \"opacity\": 0.8, \"orientation\": \"v\", \"type\": \"histogram\", \"x\": [0.4915889810451373, -0.502709032241364, -0.439660809274218, 1.566586675251845, -0.6212578026798677, 1.7776557644067656, 0.8661298023840379, 1.2706349857331831, 1.1829527406936695, 0.07381149895472465, 0.4303466828369726, -0.9575027737008519, 0.2448911967693874, 0.04189873427502208, 1.5647741213386723, 0.5650390866380348, -0.4822423308956621, 0.2877232264192255, 1.2382658662292958, -0.703889579568911, -1.567758920770038, -0.02647700663406622, 1.2742432983560472, 0.24568074637287884, 0.4093554625129669, -1.7037611549524168, 0.3028826118549479, -1.3329700018952149, -2.3191071798134724, -0.4715275828898805, 0.23336255517782983, -0.16015327795991532, -0.1009133565791417, -2.81926838345229, 1.3654859862689102, 0.4321785438498271, -0.8530812976871149, 2.205208780788037, -1.036426166029101, -0.6148016609313836, -0.7804903323450012, 0.31695605069133637, -0.36415029682631717, -0.11756535392984228, 0.5012484638145545, 0.14568939028348707, 0.2748279734808271, -0.6781935523155721, 0.2655237481306271, 0.284077559638565, -1.7740915834552073, -1.2707521382258211, 0.8654799498531212, 0.531975731840595, -1.008064431305186, -1.047052004852239, 0.15693951402710357, -0.061888674539695335, 1.1472568799088285, -1.8232049204956886, -0.5088215335086028, 0.8018888434820789, -1.193138125172003, 1.1508657000784246, 0.6197120558756081, -0.6717131229802509, -2.0860401916618696, -0.57342915056639, 0.5374995212581878, -0.5328685673770484, -0.23785068830163442, 0.45164324959069013, -0.01937340009535, 0.11477937112607209, -0.14076154255896042, -0.13988385748639753, -0.7696645921042117, -0.18421016746021568, -0.21423330761126352, -0.00734890959141541, 1.1328213530939724, -1.4287156552765827, -0.5516144642840903, -0.7931343423812411, 0.5006083393739946, -0.0045120609205573795, 0.05501801382379699, 0.9560982713007699, 1.179495400187467, -0.6439271361193529, -1.3620561504842512, 1.6783810359332907, 0.17790555885956716, -0.5337727464325431, 0.529490162805114, -0.7710447878576198, -0.21522348807762237, 0.2872358861077521, 0.7924763496804115, -0.16831977505258977], \"xaxis\": \"x\", \"yaxis\": \"y\"}, {\"line\": {\"color\": \"rgba(128, 128, 128, 1.0)\", \"dash\": \"solid\", \"shape\": \"linear\", \"width\": 1.3}, \"marker\": {\"size\": 2, \"symbol\": \"circle\"}, \"mode\": \"markers\", \"name\": \"A\", \"text\": \"\", \"type\": \"scatter\", \"x\": [-1.3275926421452904, -0.936339741020361, -0.13647734868874586, -2.2240640578978677, 1.7394620755462407, -0.9836121549376742, 0.34626738417910974, 1.2047434241013317, 1.40716285017813, 1.607297362862324, 1.1471127354058306, -1.0290993380333546, 0.3382366893151083, 1.2171761981322033, -2.098208032554198, 0.6029330801302344, 0.7289001703024334, -0.9748621397718429, -1.1333611351564175, -0.6438327393385788, -0.05736388655202392, 0.8174149798334428, 0.38307197322024256, -0.33450585472427186, -0.3208347691514773, 1.1646184189868694, 0.5472252231873067, 0.18021263465929316, -1.4688972064557497, -0.007503782506332852, 0.3921883000604201, -1.3139502090164275, 1.048607779460764, 0.39367903297019263, -0.009051504564113558, -1.901214271538554, -0.5171755167242869, 0.9229573561035125, 0.21267983927716877, -0.4370929342827836, 0.2283932101125965, 1.2176223801186772, -1.2090570542595627, 2.5505564530909055, -0.6075715148722199, 0.19176390475104416, 0.769852942774043, 0.7882324532714438, -1.3143619973703013, 0.42644098330579333, -1.711462519248761, -0.16901255652128294, 0.0532722679248608, -1.4604290285910726, -0.36053699012217083, 0.5088195386777494, 0.25542311236157367, -0.11186811351887037, 0.5405878809143965, -0.04386982384945076, -0.16917336542894204, 0.6633191366843727, -0.4989147864827021, 0.1560136225260184, 0.05272802990970662, -1.850465429629844, 1.3834059410341466, -0.9218299190591187, -0.6063394567698026, -1.1886063318225617, 0.10019920073973819, -0.2595092728091105, 2.2190005527839, 0.7659999908718104, -0.560468590169831, -1.8182133054973348, -0.11258377212132896, 0.538066045580072, -0.4241680278188642, 1.1654127387433164, -1.1549015772976388, 0.69925676362351, -0.9108643560764622, -0.24661187787572553, -0.934632536808109, -0.2714279182553495, 0.16631843471957616, 0.31353363861918293, -0.9107335599140366, -0.25980191444427614, 0.4628327390827214, -1.0223280885294475, -0.11416392676936336, 0.0005269853392635756, 0.6425260963846305, 0.7306111095911784, -0.4308391283122783, 0.821522465586635, -0.7522745648552567, -1.299678462575494], \"xaxis\": \"x2\", \"y\": [0.4915889810451373, -0.502709032241364, -0.439660809274218, 1.566586675251845, -0.6212578026798677, 1.7776557644067656, 0.8661298023840379, 1.2706349857331831, 1.1829527406936695, 0.07381149895472465, 0.4303466828369726, -0.9575027737008519, 0.2448911967693874, 0.04189873427502208, 1.5647741213386723, 0.5650390866380348, -0.4822423308956621, 0.2877232264192255, 1.2382658662292958, -0.703889579568911, -1.567758920770038, -0.02647700663406622, 1.2742432983560472, 0.24568074637287884, 0.4093554625129669, -1.7037611549524168, 0.3028826118549479, -1.3329700018952149, -2.3191071798134724, -0.4715275828898805, 0.23336255517782983, -0.16015327795991532, -0.1009133565791417, -2.81926838345229, 1.3654859862689102, 0.4321785438498271, -0.8530812976871149, 2.205208780788037, -1.036426166029101, -0.6148016609313836, -0.7804903323450012, 0.31695605069133637, -0.36415029682631717, -0.11756535392984228, 0.5012484638145545, 0.14568939028348707, 0.2748279734808271, -0.6781935523155721, 0.2655237481306271, 0.284077559638565, -1.7740915834552073, -1.2707521382258211, 0.8654799498531212, 0.531975731840595, -1.008064431305186, -1.047052004852239, 0.15693951402710357, -0.061888674539695335, 1.1472568799088285, -1.8232049204956886, -0.5088215335086028, 0.8018888434820789, -1.193138125172003, 1.1508657000784246, 0.6197120558756081, -0.6717131229802509, -2.0860401916618696, -0.57342915056639, 0.5374995212581878, -0.5328685673770484, -0.23785068830163442, 0.45164324959069013, -0.01937340009535, 0.11477937112607209, -0.14076154255896042, -0.13988385748639753, -0.7696645921042117, -0.18421016746021568, -0.21423330761126352, -0.00734890959141541, 1.1328213530939724, -1.4287156552765827, -0.5516144642840903, -0.7931343423812411, 0.5006083393739946, -0.0045120609205573795, 0.05501801382379699, 0.9560982713007699, 1.179495400187467, -0.6439271361193529, -1.3620561504842512, 1.6783810359332907, 0.17790555885956716, -0.5337727464325431, 0.529490162805114, -0.7710447878576198, -0.21522348807762237, 0.2872358861077521, 0.7924763496804115, -0.16831977505258977], \"yaxis\": \"y2\"}, {\"line\": {\"color\": \"rgba(128, 128, 128, 1.0)\", \"dash\": \"solid\", \"shape\": \"linear\", \"width\": 1.3}, \"marker\": {\"size\": 2, \"symbol\": \"circle\"}, \"mode\": \"markers\", \"name\": \"A\", \"text\": \"\", \"type\": \"scatter\", \"x\": [0.7299625284862286, 2.3553416977424178, 0.9439163197043687, -1.7485668461634558, 0.67303371795341, -0.5827088164406231, -0.2298437357287439, -0.25299429402279805, 2.243376147690324, 0.026678264182821525, -0.009326706571950632, -1.28103276971166, -0.9018097255727358, -2.316355818136636, 0.5765390416190728, -0.5461091032849023, -0.8367310170947283, -0.10534783116365523, 1.5267070285714082, -1.9147501133533784, -0.5179575970987909, -1.060722722859043, -0.6002336281882471, 1.4405474123808457, 0.7600485110526476, -0.6111759262953101, 0.5252641852189067, 0.35234677933198255, -1.256464159844944, -0.4328089054815595, -0.564944070367201, 1.3937889852249814, -0.6120421309973892, -1.9675877843906422, -0.41288518037872285, -0.1568912040337323, 1.0096741355529157, -0.6497081922716762, 0.4258224548117755, 0.03419617577775748, 0.2544273158327501, -1.2130175397650842, 2.3039996012372805, -1.6914934829063475, -0.7401624318559102, 0.4620462894350896, 0.7961878899891845, 0.806258868435501, 0.7431934103318454, -0.20573033233185833, 1.6716873719469132, -0.04951833789026921, 1.4169100195351396, -0.4346643636616852, 1.6271435354582984, -0.2125027399496185, -0.02916701828161739, -0.25266723938880226, 1.9761466932774905, 0.11007665834811947, 0.2921641158126787, -0.9605877946560205, 1.199755946328249, -0.15512336924943296, 0.9932606411511252, 0.46631966023247334, -0.8871888295482587, -0.38177735170627886, 0.7880515178140529, -0.9196931896060868, 1.2894821795957643, -0.8448972917184487, -0.11451821513216144, 0.8822791063972072, -2.080895983039389, 1.4661993777627285, 0.27195893179757347, -2.4541448160069357, 0.7955709411989315, -1.9578482622294364, -0.013272646509554342, -0.7987542104110034, 1.27290935113707, 1.245872469152833, 0.6783887133174455, 1.2203139391698046, 0.18857306794771148, -0.12981951489743296, -0.3209816313541664, 1.0042691846843708, -0.31179723886458666, 0.6727438201213922, -0.13274620751416147, -0.4359416099838764, 1.4825171216305515, -0.7349535329592677, 0.4928961852590263, -1.334426537004841, 0.2828080600024883, 0.5354572657235364], \"xaxis\": \"x3\", \"y\": [0.4915889810451373, -0.502709032241364, -0.439660809274218, 1.566586675251845, -0.6212578026798677, 1.7776557644067656, 0.8661298023840379, 1.2706349857331831, 1.1829527406936695, 0.07381149895472465, 0.4303466828369726, -0.9575027737008519, 0.2448911967693874, 0.04189873427502208, 1.5647741213386723, 0.5650390866380348, -0.4822423308956621, 0.2877232264192255, 1.2382658662292958, -0.703889579568911, -1.567758920770038, -0.02647700663406622, 1.2742432983560472, 0.24568074637287884, 0.4093554625129669, -1.7037611549524168, 0.3028826118549479, -1.3329700018952149, -2.3191071798134724, -0.4715275828898805, 0.23336255517782983, -0.16015327795991532, -0.1009133565791417, -2.81926838345229, 1.3654859862689102, 0.4321785438498271, -0.8530812976871149, 2.205208780788037, -1.036426166029101, -0.6148016609313836, -0.7804903323450012, 0.31695605069133637, -0.36415029682631717, -0.11756535392984228, 0.5012484638145545, 0.14568939028348707, 0.2748279734808271, -0.6781935523155721, 0.2655237481306271, 0.284077559638565, -1.7740915834552073, -1.2707521382258211, 0.8654799498531212, 0.531975731840595, -1.008064431305186, -1.047052004852239, 0.15693951402710357, -0.061888674539695335, 1.1472568799088285, -1.8232049204956886, -0.5088215335086028, 0.8018888434820789, -1.193138125172003, 1.1508657000784246, 0.6197120558756081, -0.6717131229802509, -2.0860401916618696, -0.57342915056639, 0.5374995212581878, -0.5328685673770484, -0.23785068830163442, 0.45164324959069013, -0.01937340009535, 0.11477937112607209, -0.14076154255896042, -0.13988385748639753, -0.7696645921042117, -0.18421016746021568, -0.21423330761126352, -0.00734890959141541, 1.1328213530939724, -1.4287156552765827, -0.5516144642840903, -0.7931343423812411, 0.5006083393739946, -0.0045120609205573795, 0.05501801382379699, 0.9560982713007699, 1.179495400187467, -0.6439271361193529, -1.3620561504842512, 1.6783810359332907, 0.17790555885956716, -0.5337727464325431, 0.529490162805114, -0.7710447878576198, -0.21522348807762237, 0.2872358861077521, 0.7924763496804115, -0.16831977505258977], \"yaxis\": \"y3\"}, {\"line\": {\"color\": \"rgba(128, 128, 128, 1.0)\", \"dash\": \"solid\", \"shape\": \"linear\", \"width\": 1.3}, \"marker\": {\"size\": 2, \"symbol\": \"circle\"}, \"mode\": \"markers\", \"name\": \"A\", \"text\": \"\", \"type\": \"scatter\", \"x\": [0.17991151079674725, -0.8818903411696254, 1.3396439701998577, 1.696369655122254, -1.0170500743214117, 0.9603589234497253, -0.5349114716957325, 0.4312769284383472, -0.3939466022989687, -1.8390185998560094, -1.1313497571724336, 1.901325649462984, 0.6176164163701985, 1.0542740552600596, -0.3840010843845273, 0.8046073397273489, 0.7841681451038326, -0.20004483375073087, -1.749805329024341, 2.0139347918697927, 1.102392118546163, 0.5522964480257804, 2.05685740313035, -0.290733835517606, 2.316511549409668, 0.2959399927339611, -2.1132641218016053, -2.4300130296167217, -0.20485450728479654, 0.6151779208026293, -1.0369765204767676, 0.9747137403714647, -0.6494041640418141, 1.0214755133988165, -0.8083215035935389, -0.31708033874340197, -0.7074597122841649, 0.5224799578028866, 0.22314406620526706, 1.0941308108555794, 0.47059586801987585, 1.617159855769574, -0.051782952977217064, 0.49416903624601183, 0.1374397219014256, -0.08125070664670438, 0.41113960855405046, 2.8434878484149735, -0.4499474136429881, -0.34481772452587217, 1.3211447457021126, -1.3702997023912453, -2.4255657807136135, 0.5397403971280657, -0.19062789328622026, -0.9803472848041662, 0.6909063868697634, 0.4101978167870579, -0.4715904537104075, 0.278648053040416, -0.7592271707557713, 1.4616578784460046, 0.4098348999974717, 0.31247051172196, -0.2549830016008637, -0.4401095504059153, -0.7977524197572258, -0.6094420744605716, 0.13091200126183208, -0.3801814420807549, 1.3252737961337921, -0.2712713813504625, -0.9441856769131897, -0.26134997431370866, -0.9988584715638273, 1.5987048602259983, 0.5445833903546733, -1.320378767639152, 1.775006643180901, 0.586076337208009, -0.2077034039617294, 2.4043382124218446, -1.47900009750594, -1.9456475559711623, 0.8532309696471242, -1.4822782895641395, 2.8566202001860277, -0.9745444965686464, 0.6341673693827251, 1.5556971061323803, -0.7989512908345607, -0.3780272524410559, -1.7850324919265543, -0.04581736762010171, 0.7724989771290007, -0.2109479207225484, 0.9749941979637414, 0.632229746732128, -0.18926098483585838, 0.2742948244476812], \"xaxis\": \"x4\", \"y\": [0.4915889810451373, -0.502709032241364, -0.439660809274218, 1.566586675251845, -0.6212578026798677, 1.7776557644067656, 0.8661298023840379, 1.2706349857331831, 1.1829527406936695, 0.07381149895472465, 0.4303466828369726, -0.9575027737008519, 0.2448911967693874, 0.04189873427502208, 1.5647741213386723, 0.5650390866380348, -0.4822423308956621, 0.2877232264192255, 1.2382658662292958, -0.703889579568911, -1.567758920770038, -0.02647700663406622, 1.2742432983560472, 0.24568074637287884, 0.4093554625129669, -1.7037611549524168, 0.3028826118549479, -1.3329700018952149, -2.3191071798134724, -0.4715275828898805, 0.23336255517782983, -0.16015327795991532, -0.1009133565791417, -2.81926838345229, 1.3654859862689102, 0.4321785438498271, -0.8530812976871149, 2.205208780788037, -1.036426166029101, -0.6148016609313836, -0.7804903323450012, 0.31695605069133637, -0.36415029682631717, -0.11756535392984228, 0.5012484638145545, 0.14568939028348707, 0.2748279734808271, -0.6781935523155721, 0.2655237481306271, 0.284077559638565, -1.7740915834552073, -1.2707521382258211, 0.8654799498531212, 0.531975731840595, -1.008064431305186, -1.047052004852239, 0.15693951402710357, -0.061888674539695335, 1.1472568799088285, -1.8232049204956886, -0.5088215335086028, 0.8018888434820789, -1.193138125172003, 1.1508657000784246, 0.6197120558756081, -0.6717131229802509, -2.0860401916618696, -0.57342915056639, 0.5374995212581878, -0.5328685673770484, -0.23785068830163442, 0.45164324959069013, -0.01937340009535, 0.11477937112607209, -0.14076154255896042, -0.13988385748639753, -0.7696645921042117, -0.18421016746021568, -0.21423330761126352, -0.00734890959141541, 1.1328213530939724, -1.4287156552765827, -0.5516144642840903, -0.7931343423812411, 0.5006083393739946, -0.0045120609205573795, 0.05501801382379699, 0.9560982713007699, 1.179495400187467, -0.6439271361193529, -1.3620561504842512, 1.6783810359332907, 0.17790555885956716, -0.5337727464325431, 0.529490162805114, -0.7710447878576198, -0.21522348807762237, 0.2872358861077521, 0.7924763496804115, -0.16831977505258977], \"yaxis\": \"y4\"}, {\"line\": {\"color\": \"rgba(128, 128, 128, 1.0)\", \"dash\": \"solid\", \"shape\": \"linear\", \"width\": 1.3}, \"marker\": {\"size\": 2, \"symbol\": \"circle\"}, \"mode\": \"markers\", \"name\": \"B\", \"text\": \"\", \"type\": \"scatter\", \"x\": [0.4915889810451373, -0.502709032241364, -0.439660809274218, 1.566586675251845, -0.6212578026798677, 1.7776557644067656, 0.8661298023840379, 1.2706349857331831, 1.1829527406936695, 0.07381149895472465, 0.4303466828369726, -0.9575027737008519, 0.2448911967693874, 0.04189873427502208, 1.5647741213386723, 0.5650390866380348, -0.4822423308956621, 0.2877232264192255, 1.2382658662292958, -0.703889579568911, -1.567758920770038, -0.02647700663406622, 1.2742432983560472, 0.24568074637287884, 0.4093554625129669, -1.7037611549524168, 0.3028826118549479, -1.3329700018952149, -2.3191071798134724, -0.4715275828898805, 0.23336255517782983, -0.16015327795991532, -0.1009133565791417, -2.81926838345229, 1.3654859862689102, 0.4321785438498271, -0.8530812976871149, 2.205208780788037, -1.036426166029101, -0.6148016609313836, -0.7804903323450012, 0.31695605069133637, -0.36415029682631717, -0.11756535392984228, 0.5012484638145545, 0.14568939028348707, 0.2748279734808271, -0.6781935523155721, 0.2655237481306271, 0.284077559638565, -1.7740915834552073, -1.2707521382258211, 0.8654799498531212, 0.531975731840595, -1.008064431305186, -1.047052004852239, 0.15693951402710357, -0.061888674539695335, 1.1472568799088285, -1.8232049204956886, -0.5088215335086028, 0.8018888434820789, -1.193138125172003, 1.1508657000784246, 0.6197120558756081, -0.6717131229802509, -2.0860401916618696, -0.57342915056639, 0.5374995212581878, -0.5328685673770484, -0.23785068830163442, 0.45164324959069013, -0.01937340009535, 0.11477937112607209, -0.14076154255896042, -0.13988385748639753, -0.7696645921042117, -0.18421016746021568, -0.21423330761126352, -0.00734890959141541, 1.1328213530939724, -1.4287156552765827, -0.5516144642840903, -0.7931343423812411, 0.5006083393739946, -0.0045120609205573795, 0.05501801382379699, 0.9560982713007699, 1.179495400187467, -0.6439271361193529, -1.3620561504842512, 1.6783810359332907, 0.17790555885956716, -0.5337727464325431, 0.529490162805114, -0.7710447878576198, -0.21522348807762237, 0.2872358861077521, 0.7924763496804115, -0.16831977505258977], \"xaxis\": \"x5\", \"y\": [-1.3275926421452904, -0.936339741020361, -0.13647734868874586, -2.2240640578978677, 1.7394620755462407, -0.9836121549376742, 0.34626738417910974, 1.2047434241013317, 1.40716285017813, 1.607297362862324, 1.1471127354058306, -1.0290993380333546, 0.3382366893151083, 1.2171761981322033, -2.098208032554198, 0.6029330801302344, 0.7289001703024334, -0.9748621397718429, -1.1333611351564175, -0.6438327393385788, -0.05736388655202392, 0.8174149798334428, 0.38307197322024256, -0.33450585472427186, -0.3208347691514773, 1.1646184189868694, 0.5472252231873067, 0.18021263465929316, -1.4688972064557497, -0.007503782506332852, 0.3921883000604201, -1.3139502090164275, 1.048607779460764, 0.39367903297019263, -0.009051504564113558, -1.901214271538554, -0.5171755167242869, 0.9229573561035125, 0.21267983927716877, -0.4370929342827836, 0.2283932101125965, 1.2176223801186772, -1.2090570542595627, 2.5505564530909055, -0.6075715148722199, 0.19176390475104416, 0.769852942774043, 0.7882324532714438, -1.3143619973703013, 0.42644098330579333, -1.711462519248761, -0.16901255652128294, 0.0532722679248608, -1.4604290285910726, -0.36053699012217083, 0.5088195386777494, 0.25542311236157367, -0.11186811351887037, 0.5405878809143965, -0.04386982384945076, -0.16917336542894204, 0.6633191366843727, -0.4989147864827021, 0.1560136225260184, 0.05272802990970662, -1.850465429629844, 1.3834059410341466, -0.9218299190591187, -0.6063394567698026, -1.1886063318225617, 0.10019920073973819, -0.2595092728091105, 2.2190005527839, 0.7659999908718104, -0.560468590169831, -1.8182133054973348, -0.11258377212132896, 0.538066045580072, -0.4241680278188642, 1.1654127387433164, -1.1549015772976388, 0.69925676362351, -0.9108643560764622, -0.24661187787572553, -0.934632536808109, -0.2714279182553495, 0.16631843471957616, 0.31353363861918293, -0.9107335599140366, -0.25980191444427614, 0.4628327390827214, -1.0223280885294475, -0.11416392676936336, 0.0005269853392635756, 0.6425260963846305, 0.7306111095911784, -0.4308391283122783, 0.821522465586635, -0.7522745648552567, -1.299678462575494], \"yaxis\": \"y5\"}, {\"histfunc\": \"count\", \"histnorm\": \"\", \"marker\": {\"color\": \"rgba(55, 128, 191, 1.0)\", \"line\": {\"color\": \"#4D5663\", \"width\": 1.3}}, \"name\": \"B\", \"nbinsx\": 10, \"opacity\": 0.8, \"orientation\": \"v\", \"type\": \"histogram\", \"x\": [-1.3275926421452904, -0.936339741020361, -0.13647734868874586, -2.2240640578978677, 1.7394620755462407, -0.9836121549376742, 0.34626738417910974, 1.2047434241013317, 1.40716285017813, 1.607297362862324, 1.1471127354058306, -1.0290993380333546, 0.3382366893151083, 1.2171761981322033, -2.098208032554198, 0.6029330801302344, 0.7289001703024334, -0.9748621397718429, -1.1333611351564175, -0.6438327393385788, -0.05736388655202392, 0.8174149798334428, 0.38307197322024256, -0.33450585472427186, -0.3208347691514773, 1.1646184189868694, 0.5472252231873067, 0.18021263465929316, -1.4688972064557497, -0.007503782506332852, 0.3921883000604201, -1.3139502090164275, 1.048607779460764, 0.39367903297019263, -0.009051504564113558, -1.901214271538554, -0.5171755167242869, 0.9229573561035125, 0.21267983927716877, -0.4370929342827836, 0.2283932101125965, 1.2176223801186772, -1.2090570542595627, 2.5505564530909055, -0.6075715148722199, 0.19176390475104416, 0.769852942774043, 0.7882324532714438, -1.3143619973703013, 0.42644098330579333, -1.711462519248761, -0.16901255652128294, 0.0532722679248608, -1.4604290285910726, -0.36053699012217083, 0.5088195386777494, 0.25542311236157367, -0.11186811351887037, 0.5405878809143965, -0.04386982384945076, -0.16917336542894204, 0.6633191366843727, -0.4989147864827021, 0.1560136225260184, 0.05272802990970662, -1.850465429629844, 1.3834059410341466, -0.9218299190591187, -0.6063394567698026, -1.1886063318225617, 0.10019920073973819, -0.2595092728091105, 2.2190005527839, 0.7659999908718104, -0.560468590169831, -1.8182133054973348, -0.11258377212132896, 0.538066045580072, -0.4241680278188642, 1.1654127387433164, -1.1549015772976388, 0.69925676362351, -0.9108643560764622, -0.24661187787572553, -0.934632536808109, -0.2714279182553495, 0.16631843471957616, 0.31353363861918293, -0.9107335599140366, -0.25980191444427614, 0.4628327390827214, -1.0223280885294475, -0.11416392676936336, 0.0005269853392635756, 0.6425260963846305, 0.7306111095911784, -0.4308391283122783, 0.821522465586635, -0.7522745648552567, -1.299678462575494], \"xaxis\": \"x6\", \"yaxis\": \"y6\"}, {\"line\": {\"color\": \"rgba(128, 128, 128, 1.0)\", \"dash\": \"solid\", \"shape\": \"linear\", \"width\": 1.3}, \"marker\": {\"size\": 2, \"symbol\": \"circle\"}, \"mode\": \"markers\", \"name\": \"B\", \"text\": \"\", \"type\": \"scatter\", \"x\": [0.7299625284862286, 2.3553416977424178, 0.9439163197043687, -1.7485668461634558, 0.67303371795341, -0.5827088164406231, -0.2298437357287439, -0.25299429402279805, 2.243376147690324, 0.026678264182821525, -0.009326706571950632, -1.28103276971166, -0.9018097255727358, -2.316355818136636, 0.5765390416190728, -0.5461091032849023, -0.8367310170947283, -0.10534783116365523, 1.5267070285714082, -1.9147501133533784, -0.5179575970987909, -1.060722722859043, -0.6002336281882471, 1.4405474123808457, 0.7600485110526476, -0.6111759262953101, 0.5252641852189067, 0.35234677933198255, -1.256464159844944, -0.4328089054815595, -0.564944070367201, 1.3937889852249814, -0.6120421309973892, -1.9675877843906422, -0.41288518037872285, -0.1568912040337323, 1.0096741355529157, -0.6497081922716762, 0.4258224548117755, 0.03419617577775748, 0.2544273158327501, -1.2130175397650842, 2.3039996012372805, -1.6914934829063475, -0.7401624318559102, 0.4620462894350896, 0.7961878899891845, 0.806258868435501, 0.7431934103318454, -0.20573033233185833, 1.6716873719469132, -0.04951833789026921, 1.4169100195351396, -0.4346643636616852, 1.6271435354582984, -0.2125027399496185, -0.02916701828161739, -0.25266723938880226, 1.9761466932774905, 0.11007665834811947, 0.2921641158126787, -0.9605877946560205, 1.199755946328249, -0.15512336924943296, 0.9932606411511252, 0.46631966023247334, -0.8871888295482587, -0.38177735170627886, 0.7880515178140529, -0.9196931896060868, 1.2894821795957643, -0.8448972917184487, -0.11451821513216144, 0.8822791063972072, -2.080895983039389, 1.4661993777627285, 0.27195893179757347, -2.4541448160069357, 0.7955709411989315, -1.9578482622294364, -0.013272646509554342, -0.7987542104110034, 1.27290935113707, 1.245872469152833, 0.6783887133174455, 1.2203139391698046, 0.18857306794771148, -0.12981951489743296, -0.3209816313541664, 1.0042691846843708, -0.31179723886458666, 0.6727438201213922, -0.13274620751416147, -0.4359416099838764, 1.4825171216305515, -0.7349535329592677, 0.4928961852590263, -1.334426537004841, 0.2828080600024883, 0.5354572657235364], \"xaxis\": \"x7\", \"y\": [-1.3275926421452904, -0.936339741020361, -0.13647734868874586, -2.2240640578978677, 1.7394620755462407, -0.9836121549376742, 0.34626738417910974, 1.2047434241013317, 1.40716285017813, 1.607297362862324, 1.1471127354058306, -1.0290993380333546, 0.3382366893151083, 1.2171761981322033, -2.098208032554198, 0.6029330801302344, 0.7289001703024334, -0.9748621397718429, -1.1333611351564175, -0.6438327393385788, -0.05736388655202392, 0.8174149798334428, 0.38307197322024256, -0.33450585472427186, -0.3208347691514773, 1.1646184189868694, 0.5472252231873067, 0.18021263465929316, -1.4688972064557497, -0.007503782506332852, 0.3921883000604201, -1.3139502090164275, 1.048607779460764, 0.39367903297019263, -0.009051504564113558, -1.901214271538554, -0.5171755167242869, 0.9229573561035125, 0.21267983927716877, -0.4370929342827836, 0.2283932101125965, 1.2176223801186772, -1.2090570542595627, 2.5505564530909055, -0.6075715148722199, 0.19176390475104416, 0.769852942774043, 0.7882324532714438, -1.3143619973703013, 0.42644098330579333, -1.711462519248761, -0.16901255652128294, 0.0532722679248608, -1.4604290285910726, -0.36053699012217083, 0.5088195386777494, 0.25542311236157367, -0.11186811351887037, 0.5405878809143965, -0.04386982384945076, -0.16917336542894204, 0.6633191366843727, -0.4989147864827021, 0.1560136225260184, 0.05272802990970662, -1.850465429629844, 1.3834059410341466, -0.9218299190591187, -0.6063394567698026, -1.1886063318225617, 0.10019920073973819, -0.2595092728091105, 2.2190005527839, 0.7659999908718104, -0.560468590169831, -1.8182133054973348, -0.11258377212132896, 0.538066045580072, -0.4241680278188642, 1.1654127387433164, -1.1549015772976388, 0.69925676362351, -0.9108643560764622, -0.24661187787572553, -0.934632536808109, -0.2714279182553495, 0.16631843471957616, 0.31353363861918293, -0.9107335599140366, -0.25980191444427614, 0.4628327390827214, -1.0223280885294475, -0.11416392676936336, 0.0005269853392635756, 0.6425260963846305, 0.7306111095911784, -0.4308391283122783, 0.821522465586635, -0.7522745648552567, -1.299678462575494], \"yaxis\": \"y7\"}, {\"line\": {\"color\": \"rgba(128, 128, 128, 1.0)\", \"dash\": \"solid\", \"shape\": \"linear\", \"width\": 1.3}, \"marker\": {\"size\": 2, \"symbol\": \"circle\"}, \"mode\": \"markers\", \"name\": \"B\", \"text\": \"\", \"type\": \"scatter\", \"x\": [0.17991151079674725, -0.8818903411696254, 1.3396439701998577, 1.696369655122254, -1.0170500743214117, 0.9603589234497253, -0.5349114716957325, 0.4312769284383472, -0.3939466022989687, -1.8390185998560094, -1.1313497571724336, 1.901325649462984, 0.6176164163701985, 1.0542740552600596, -0.3840010843845273, 0.8046073397273489, 0.7841681451038326, -0.20004483375073087, -1.749805329024341, 2.0139347918697927, 1.102392118546163, 0.5522964480257804, 2.05685740313035, -0.290733835517606, 2.316511549409668, 0.2959399927339611, -2.1132641218016053, -2.4300130296167217, -0.20485450728479654, 0.6151779208026293, -1.0369765204767676, 0.9747137403714647, -0.6494041640418141, 1.0214755133988165, -0.8083215035935389, -0.31708033874340197, -0.7074597122841649, 0.5224799578028866, 0.22314406620526706, 1.0941308108555794, 0.47059586801987585, 1.617159855769574, -0.051782952977217064, 0.49416903624601183, 0.1374397219014256, -0.08125070664670438, 0.41113960855405046, 2.8434878484149735, -0.4499474136429881, -0.34481772452587217, 1.3211447457021126, -1.3702997023912453, -2.4255657807136135, 0.5397403971280657, -0.19062789328622026, -0.9803472848041662, 0.6909063868697634, 0.4101978167870579, -0.4715904537104075, 0.278648053040416, -0.7592271707557713, 1.4616578784460046, 0.4098348999974717, 0.31247051172196, -0.2549830016008637, -0.4401095504059153, -0.7977524197572258, -0.6094420744605716, 0.13091200126183208, -0.3801814420807549, 1.3252737961337921, -0.2712713813504625, -0.9441856769131897, -0.26134997431370866, -0.9988584715638273, 1.5987048602259983, 0.5445833903546733, -1.320378767639152, 1.775006643180901, 0.586076337208009, -0.2077034039617294, 2.4043382124218446, -1.47900009750594, -1.9456475559711623, 0.8532309696471242, -1.4822782895641395, 2.8566202001860277, -0.9745444965686464, 0.6341673693827251, 1.5556971061323803, -0.7989512908345607, -0.3780272524410559, -1.7850324919265543, -0.04581736762010171, 0.7724989771290007, -0.2109479207225484, 0.9749941979637414, 0.632229746732128, -0.18926098483585838, 0.2742948244476812], \"xaxis\": \"x8\", \"y\": [-1.3275926421452904, -0.936339741020361, -0.13647734868874586, -2.2240640578978677, 1.7394620755462407, -0.9836121549376742, 0.34626738417910974, 1.2047434241013317, 1.40716285017813, 1.607297362862324, 1.1471127354058306, -1.0290993380333546, 0.3382366893151083, 1.2171761981322033, -2.098208032554198, 0.6029330801302344, 0.7289001703024334, -0.9748621397718429, -1.1333611351564175, -0.6438327393385788, -0.05736388655202392, 0.8174149798334428, 0.38307197322024256, -0.33450585472427186, -0.3208347691514773, 1.1646184189868694, 0.5472252231873067, 0.18021263465929316, -1.4688972064557497, -0.007503782506332852, 0.3921883000604201, -1.3139502090164275, 1.048607779460764, 0.39367903297019263, -0.009051504564113558, -1.901214271538554, -0.5171755167242869, 0.9229573561035125, 0.21267983927716877, -0.4370929342827836, 0.2283932101125965, 1.2176223801186772, -1.2090570542595627, 2.5505564530909055, -0.6075715148722199, 0.19176390475104416, 0.769852942774043, 0.7882324532714438, -1.3143619973703013, 0.42644098330579333, -1.711462519248761, -0.16901255652128294, 0.0532722679248608, -1.4604290285910726, -0.36053699012217083, 0.5088195386777494, 0.25542311236157367, -0.11186811351887037, 0.5405878809143965, -0.04386982384945076, -0.16917336542894204, 0.6633191366843727, -0.4989147864827021, 0.1560136225260184, 0.05272802990970662, -1.850465429629844, 1.3834059410341466, -0.9218299190591187, -0.6063394567698026, -1.1886063318225617, 0.10019920073973819, -0.2595092728091105, 2.2190005527839, 0.7659999908718104, -0.560468590169831, -1.8182133054973348, -0.11258377212132896, 0.538066045580072, -0.4241680278188642, 1.1654127387433164, -1.1549015772976388, 0.69925676362351, -0.9108643560764622, -0.24661187787572553, -0.934632536808109, -0.2714279182553495, 0.16631843471957616, 0.31353363861918293, -0.9107335599140366, -0.25980191444427614, 0.4628327390827214, -1.0223280885294475, -0.11416392676936336, 0.0005269853392635756, 0.6425260963846305, 0.7306111095911784, -0.4308391283122783, 0.821522465586635, -0.7522745648552567, -1.299678462575494], \"yaxis\": \"y8\"}, {\"line\": {\"color\": \"rgba(128, 128, 128, 1.0)\", \"dash\": \"solid\", \"shape\": \"linear\", \"width\": 1.3}, \"marker\": {\"size\": 2, \"symbol\": \"circle\"}, \"mode\": \"markers\", \"name\": \"C\", \"text\": \"\", \"type\": \"scatter\", \"x\": [0.4915889810451373, -0.502709032241364, -0.439660809274218, 1.566586675251845, -0.6212578026798677, 1.7776557644067656, 0.8661298023840379, 1.2706349857331831, 1.1829527406936695, 0.07381149895472465, 0.4303466828369726, -0.9575027737008519, 0.2448911967693874, 0.04189873427502208, 1.5647741213386723, 0.5650390866380348, -0.4822423308956621, 0.2877232264192255, 1.2382658662292958, -0.703889579568911, -1.567758920770038, -0.02647700663406622, 1.2742432983560472, 0.24568074637287884, 0.4093554625129669, -1.7037611549524168, 0.3028826118549479, -1.3329700018952149, -2.3191071798134724, -0.4715275828898805, 0.23336255517782983, -0.16015327795991532, -0.1009133565791417, -2.81926838345229, 1.3654859862689102, 0.4321785438498271, -0.8530812976871149, 2.205208780788037, -1.036426166029101, -0.6148016609313836, -0.7804903323450012, 0.31695605069133637, -0.36415029682631717, -0.11756535392984228, 0.5012484638145545, 0.14568939028348707, 0.2748279734808271, -0.6781935523155721, 0.2655237481306271, 0.284077559638565, -1.7740915834552073, -1.2707521382258211, 0.8654799498531212, 0.531975731840595, -1.008064431305186, -1.047052004852239, 0.15693951402710357, -0.061888674539695335, 1.1472568799088285, -1.8232049204956886, -0.5088215335086028, 0.8018888434820789, -1.193138125172003, 1.1508657000784246, 0.6197120558756081, -0.6717131229802509, -2.0860401916618696, -0.57342915056639, 0.5374995212581878, -0.5328685673770484, -0.23785068830163442, 0.45164324959069013, -0.01937340009535, 0.11477937112607209, -0.14076154255896042, -0.13988385748639753, -0.7696645921042117, -0.18421016746021568, -0.21423330761126352, -0.00734890959141541, 1.1328213530939724, -1.4287156552765827, -0.5516144642840903, -0.7931343423812411, 0.5006083393739946, -0.0045120609205573795, 0.05501801382379699, 0.9560982713007699, 1.179495400187467, -0.6439271361193529, -1.3620561504842512, 1.6783810359332907, 0.17790555885956716, -0.5337727464325431, 0.529490162805114, -0.7710447878576198, -0.21522348807762237, 0.2872358861077521, 0.7924763496804115, -0.16831977505258977], \"xaxis\": \"x9\", \"y\": [0.7299625284862286, 2.3553416977424178, 0.9439163197043687, -1.7485668461634558, 0.67303371795341, -0.5827088164406231, -0.2298437357287439, -0.25299429402279805, 2.243376147690324, 0.026678264182821525, -0.009326706571950632, -1.28103276971166, -0.9018097255727358, -2.316355818136636, 0.5765390416190728, -0.5461091032849023, -0.8367310170947283, -0.10534783116365523, 1.5267070285714082, -1.9147501133533784, -0.5179575970987909, -1.060722722859043, -0.6002336281882471, 1.4405474123808457, 0.7600485110526476, -0.6111759262953101, 0.5252641852189067, 0.35234677933198255, -1.256464159844944, -0.4328089054815595, -0.564944070367201, 1.3937889852249814, -0.6120421309973892, -1.9675877843906422, -0.41288518037872285, -0.1568912040337323, 1.0096741355529157, -0.6497081922716762, 0.4258224548117755, 0.03419617577775748, 0.2544273158327501, -1.2130175397650842, 2.3039996012372805, -1.6914934829063475, -0.7401624318559102, 0.4620462894350896, 0.7961878899891845, 0.806258868435501, 0.7431934103318454, -0.20573033233185833, 1.6716873719469132, -0.04951833789026921, 1.4169100195351396, -0.4346643636616852, 1.6271435354582984, -0.2125027399496185, -0.02916701828161739, -0.25266723938880226, 1.9761466932774905, 0.11007665834811947, 0.2921641158126787, -0.9605877946560205, 1.199755946328249, -0.15512336924943296, 0.9932606411511252, 0.46631966023247334, -0.8871888295482587, -0.38177735170627886, 0.7880515178140529, -0.9196931896060868, 1.2894821795957643, -0.8448972917184487, -0.11451821513216144, 0.8822791063972072, -2.080895983039389, 1.4661993777627285, 0.27195893179757347, -2.4541448160069357, 0.7955709411989315, -1.9578482622294364, -0.013272646509554342, -0.7987542104110034, 1.27290935113707, 1.245872469152833, 0.6783887133174455, 1.2203139391698046, 0.18857306794771148, -0.12981951489743296, -0.3209816313541664, 1.0042691846843708, -0.31179723886458666, 0.6727438201213922, -0.13274620751416147, -0.4359416099838764, 1.4825171216305515, -0.7349535329592677, 0.4928961852590263, -1.334426537004841, 0.2828080600024883, 0.5354572657235364], \"yaxis\": \"y9\"}, {\"line\": {\"color\": \"rgba(128, 128, 128, 1.0)\", \"dash\": \"solid\", \"shape\": \"linear\", \"width\": 1.3}, \"marker\": {\"size\": 2, \"symbol\": \"circle\"}, \"mode\": \"markers\", \"name\": \"C\", \"text\": \"\", \"type\": \"scatter\", \"x\": [-1.3275926421452904, -0.936339741020361, -0.13647734868874586, -2.2240640578978677, 1.7394620755462407, -0.9836121549376742, 0.34626738417910974, 1.2047434241013317, 1.40716285017813, 1.607297362862324, 1.1471127354058306, -1.0290993380333546, 0.3382366893151083, 1.2171761981322033, -2.098208032554198, 0.6029330801302344, 0.7289001703024334, -0.9748621397718429, -1.1333611351564175, -0.6438327393385788, -0.05736388655202392, 0.8174149798334428, 0.38307197322024256, -0.33450585472427186, -0.3208347691514773, 1.1646184189868694, 0.5472252231873067, 0.18021263465929316, -1.4688972064557497, -0.007503782506332852, 0.3921883000604201, -1.3139502090164275, 1.048607779460764, 0.39367903297019263, -0.009051504564113558, -1.901214271538554, -0.5171755167242869, 0.9229573561035125, 0.21267983927716877, -0.4370929342827836, 0.2283932101125965, 1.2176223801186772, -1.2090570542595627, 2.5505564530909055, -0.6075715148722199, 0.19176390475104416, 0.769852942774043, 0.7882324532714438, -1.3143619973703013, 0.42644098330579333, -1.711462519248761, -0.16901255652128294, 0.0532722679248608, -1.4604290285910726, -0.36053699012217083, 0.5088195386777494, 0.25542311236157367, -0.11186811351887037, 0.5405878809143965, -0.04386982384945076, -0.16917336542894204, 0.6633191366843727, -0.4989147864827021, 0.1560136225260184, 0.05272802990970662, -1.850465429629844, 1.3834059410341466, -0.9218299190591187, -0.6063394567698026, -1.1886063318225617, 0.10019920073973819, -0.2595092728091105, 2.2190005527839, 0.7659999908718104, -0.560468590169831, -1.8182133054973348, -0.11258377212132896, 0.538066045580072, -0.4241680278188642, 1.1654127387433164, -1.1549015772976388, 0.69925676362351, -0.9108643560764622, -0.24661187787572553, -0.934632536808109, -0.2714279182553495, 0.16631843471957616, 0.31353363861918293, -0.9107335599140366, -0.25980191444427614, 0.4628327390827214, -1.0223280885294475, -0.11416392676936336, 0.0005269853392635756, 0.6425260963846305, 0.7306111095911784, -0.4308391283122783, 0.821522465586635, -0.7522745648552567, -1.299678462575494], \"xaxis\": \"x10\", \"y\": [0.7299625284862286, 2.3553416977424178, 0.9439163197043687, -1.7485668461634558, 0.67303371795341, -0.5827088164406231, -0.2298437357287439, -0.25299429402279805, 2.243376147690324, 0.026678264182821525, -0.009326706571950632, -1.28103276971166, -0.9018097255727358, -2.316355818136636, 0.5765390416190728, -0.5461091032849023, -0.8367310170947283, -0.10534783116365523, 1.5267070285714082, -1.9147501133533784, -0.5179575970987909, -1.060722722859043, -0.6002336281882471, 1.4405474123808457, 0.7600485110526476, -0.6111759262953101, 0.5252641852189067, 0.35234677933198255, -1.256464159844944, -0.4328089054815595, -0.564944070367201, 1.3937889852249814, -0.6120421309973892, -1.9675877843906422, -0.41288518037872285, -0.1568912040337323, 1.0096741355529157, -0.6497081922716762, 0.4258224548117755, 0.03419617577775748, 0.2544273158327501, -1.2130175397650842, 2.3039996012372805, -1.6914934829063475, -0.7401624318559102, 0.4620462894350896, 0.7961878899891845, 0.806258868435501, 0.7431934103318454, -0.20573033233185833, 1.6716873719469132, -0.04951833789026921, 1.4169100195351396, -0.4346643636616852, 1.6271435354582984, -0.2125027399496185, -0.02916701828161739, -0.25266723938880226, 1.9761466932774905, 0.11007665834811947, 0.2921641158126787, -0.9605877946560205, 1.199755946328249, -0.15512336924943296, 0.9932606411511252, 0.46631966023247334, -0.8871888295482587, -0.38177735170627886, 0.7880515178140529, -0.9196931896060868, 1.2894821795957643, -0.8448972917184487, -0.11451821513216144, 0.8822791063972072, -2.080895983039389, 1.4661993777627285, 0.27195893179757347, -2.4541448160069357, 0.7955709411989315, -1.9578482622294364, -0.013272646509554342, -0.7987542104110034, 1.27290935113707, 1.245872469152833, 0.6783887133174455, 1.2203139391698046, 0.18857306794771148, -0.12981951489743296, -0.3209816313541664, 1.0042691846843708, -0.31179723886458666, 0.6727438201213922, -0.13274620751416147, -0.4359416099838764, 1.4825171216305515, -0.7349535329592677, 0.4928961852590263, -1.334426537004841, 0.2828080600024883, 0.5354572657235364], \"yaxis\": \"y10\"}, {\"histfunc\": \"count\", \"histnorm\": \"\", \"marker\": {\"color\": \"rgba(50, 171, 96, 1.0)\", \"line\": {\"color\": \"#4D5663\", \"width\": 1.3}}, \"name\": \"C\", \"nbinsx\": 10, \"opacity\": 0.8, \"orientation\": \"v\", \"type\": \"histogram\", \"x\": [0.7299625284862286, 2.3553416977424178, 0.9439163197043687, -1.7485668461634558, 0.67303371795341, -0.5827088164406231, -0.2298437357287439, -0.25299429402279805, 2.243376147690324, 0.026678264182821525, -0.009326706571950632, -1.28103276971166, -0.9018097255727358, -2.316355818136636, 0.5765390416190728, -0.5461091032849023, -0.8367310170947283, -0.10534783116365523, 1.5267070285714082, -1.9147501133533784, -0.5179575970987909, -1.060722722859043, -0.6002336281882471, 1.4405474123808457, 0.7600485110526476, -0.6111759262953101, 0.5252641852189067, 0.35234677933198255, -1.256464159844944, -0.4328089054815595, -0.564944070367201, 1.3937889852249814, -0.6120421309973892, -1.9675877843906422, -0.41288518037872285, -0.1568912040337323, 1.0096741355529157, -0.6497081922716762, 0.4258224548117755, 0.03419617577775748, 0.2544273158327501, -1.2130175397650842, 2.3039996012372805, -1.6914934829063475, -0.7401624318559102, 0.4620462894350896, 0.7961878899891845, 0.806258868435501, 0.7431934103318454, -0.20573033233185833, 1.6716873719469132, -0.04951833789026921, 1.4169100195351396, -0.4346643636616852, 1.6271435354582984, -0.2125027399496185, -0.02916701828161739, -0.25266723938880226, 1.9761466932774905, 0.11007665834811947, 0.2921641158126787, -0.9605877946560205, 1.199755946328249, -0.15512336924943296, 0.9932606411511252, 0.46631966023247334, -0.8871888295482587, -0.38177735170627886, 0.7880515178140529, -0.9196931896060868, 1.2894821795957643, -0.8448972917184487, -0.11451821513216144, 0.8822791063972072, -2.080895983039389, 1.4661993777627285, 0.27195893179757347, -2.4541448160069357, 0.7955709411989315, -1.9578482622294364, -0.013272646509554342, -0.7987542104110034, 1.27290935113707, 1.245872469152833, 0.6783887133174455, 1.2203139391698046, 0.18857306794771148, -0.12981951489743296, -0.3209816313541664, 1.0042691846843708, -0.31179723886458666, 0.6727438201213922, -0.13274620751416147, -0.4359416099838764, 1.4825171216305515, -0.7349535329592677, 0.4928961852590263, -1.334426537004841, 0.2828080600024883, 0.5354572657235364], \"xaxis\": \"x11\", \"yaxis\": \"y11\"}, {\"line\": {\"color\": \"rgba(128, 128, 128, 1.0)\", \"dash\": \"solid\", \"shape\": \"linear\", \"width\": 1.3}, \"marker\": {\"size\": 2, \"symbol\": \"circle\"}, \"mode\": \"markers\", \"name\": \"C\", \"text\": \"\", \"type\": \"scatter\", \"x\": [0.17991151079674725, -0.8818903411696254, 1.3396439701998577, 1.696369655122254, -1.0170500743214117, 0.9603589234497253, -0.5349114716957325, 0.4312769284383472, -0.3939466022989687, -1.8390185998560094, -1.1313497571724336, 1.901325649462984, 0.6176164163701985, 1.0542740552600596, -0.3840010843845273, 0.8046073397273489, 0.7841681451038326, -0.20004483375073087, -1.749805329024341, 2.0139347918697927, 1.102392118546163, 0.5522964480257804, 2.05685740313035, -0.290733835517606, 2.316511549409668, 0.2959399927339611, -2.1132641218016053, -2.4300130296167217, -0.20485450728479654, 0.6151779208026293, -1.0369765204767676, 0.9747137403714647, -0.6494041640418141, 1.0214755133988165, -0.8083215035935389, -0.31708033874340197, -0.7074597122841649, 0.5224799578028866, 0.22314406620526706, 1.0941308108555794, 0.47059586801987585, 1.617159855769574, -0.051782952977217064, 0.49416903624601183, 0.1374397219014256, -0.08125070664670438, 0.41113960855405046, 2.8434878484149735, -0.4499474136429881, -0.34481772452587217, 1.3211447457021126, -1.3702997023912453, -2.4255657807136135, 0.5397403971280657, -0.19062789328622026, -0.9803472848041662, 0.6909063868697634, 0.4101978167870579, -0.4715904537104075, 0.278648053040416, -0.7592271707557713, 1.4616578784460046, 0.4098348999974717, 0.31247051172196, -0.2549830016008637, -0.4401095504059153, -0.7977524197572258, -0.6094420744605716, 0.13091200126183208, -0.3801814420807549, 1.3252737961337921, -0.2712713813504625, -0.9441856769131897, -0.26134997431370866, -0.9988584715638273, 1.5987048602259983, 0.5445833903546733, -1.320378767639152, 1.775006643180901, 0.586076337208009, -0.2077034039617294, 2.4043382124218446, -1.47900009750594, -1.9456475559711623, 0.8532309696471242, -1.4822782895641395, 2.8566202001860277, -0.9745444965686464, 0.6341673693827251, 1.5556971061323803, -0.7989512908345607, -0.3780272524410559, -1.7850324919265543, -0.04581736762010171, 0.7724989771290007, -0.2109479207225484, 0.9749941979637414, 0.632229746732128, -0.18926098483585838, 0.2742948244476812], \"xaxis\": \"x12\", \"y\": [0.7299625284862286, 2.3553416977424178, 0.9439163197043687, -1.7485668461634558, 0.67303371795341, -0.5827088164406231, -0.2298437357287439, -0.25299429402279805, 2.243376147690324, 0.026678264182821525, -0.009326706571950632, -1.28103276971166, -0.9018097255727358, -2.316355818136636, 0.5765390416190728, -0.5461091032849023, -0.8367310170947283, -0.10534783116365523, 1.5267070285714082, -1.9147501133533784, -0.5179575970987909, -1.060722722859043, -0.6002336281882471, 1.4405474123808457, 0.7600485110526476, -0.6111759262953101, 0.5252641852189067, 0.35234677933198255, -1.256464159844944, -0.4328089054815595, -0.564944070367201, 1.3937889852249814, -0.6120421309973892, -1.9675877843906422, -0.41288518037872285, -0.1568912040337323, 1.0096741355529157, -0.6497081922716762, 0.4258224548117755, 0.03419617577775748, 0.2544273158327501, -1.2130175397650842, 2.3039996012372805, -1.6914934829063475, -0.7401624318559102, 0.4620462894350896, 0.7961878899891845, 0.806258868435501, 0.7431934103318454, -0.20573033233185833, 1.6716873719469132, -0.04951833789026921, 1.4169100195351396, -0.4346643636616852, 1.6271435354582984, -0.2125027399496185, -0.02916701828161739, -0.25266723938880226, 1.9761466932774905, 0.11007665834811947, 0.2921641158126787, -0.9605877946560205, 1.199755946328249, -0.15512336924943296, 0.9932606411511252, 0.46631966023247334, -0.8871888295482587, -0.38177735170627886, 0.7880515178140529, -0.9196931896060868, 1.2894821795957643, -0.8448972917184487, -0.11451821513216144, 0.8822791063972072, -2.080895983039389, 1.4661993777627285, 0.27195893179757347, -2.4541448160069357, 0.7955709411989315, -1.9578482622294364, -0.013272646509554342, -0.7987542104110034, 1.27290935113707, 1.245872469152833, 0.6783887133174455, 1.2203139391698046, 0.18857306794771148, -0.12981951489743296, -0.3209816313541664, 1.0042691846843708, -0.31179723886458666, 0.6727438201213922, -0.13274620751416147, -0.4359416099838764, 1.4825171216305515, -0.7349535329592677, 0.4928961852590263, -1.334426537004841, 0.2828080600024883, 0.5354572657235364], \"yaxis\": \"y12\"}, {\"line\": {\"color\": \"rgba(128, 128, 128, 1.0)\", \"dash\": \"solid\", \"shape\": \"linear\", \"width\": 1.3}, \"marker\": {\"size\": 2, \"symbol\": \"circle\"}, \"mode\": \"markers\", \"name\": \"D\", \"text\": \"\", \"type\": \"scatter\", \"x\": [0.4915889810451373, -0.502709032241364, -0.439660809274218, 1.566586675251845, -0.6212578026798677, 1.7776557644067656, 0.8661298023840379, 1.2706349857331831, 1.1829527406936695, 0.07381149895472465, 0.4303466828369726, -0.9575027737008519, 0.2448911967693874, 0.04189873427502208, 1.5647741213386723, 0.5650390866380348, -0.4822423308956621, 0.2877232264192255, 1.2382658662292958, -0.703889579568911, -1.567758920770038, -0.02647700663406622, 1.2742432983560472, 0.24568074637287884, 0.4093554625129669, -1.7037611549524168, 0.3028826118549479, -1.3329700018952149, -2.3191071798134724, -0.4715275828898805, 0.23336255517782983, -0.16015327795991532, -0.1009133565791417, -2.81926838345229, 1.3654859862689102, 0.4321785438498271, -0.8530812976871149, 2.205208780788037, -1.036426166029101, -0.6148016609313836, -0.7804903323450012, 0.31695605069133637, -0.36415029682631717, -0.11756535392984228, 0.5012484638145545, 0.14568939028348707, 0.2748279734808271, -0.6781935523155721, 0.2655237481306271, 0.284077559638565, -1.7740915834552073, -1.2707521382258211, 0.8654799498531212, 0.531975731840595, -1.008064431305186, -1.047052004852239, 0.15693951402710357, -0.061888674539695335, 1.1472568799088285, -1.8232049204956886, -0.5088215335086028, 0.8018888434820789, -1.193138125172003, 1.1508657000784246, 0.6197120558756081, -0.6717131229802509, -2.0860401916618696, -0.57342915056639, 0.5374995212581878, -0.5328685673770484, -0.23785068830163442, 0.45164324959069013, -0.01937340009535, 0.11477937112607209, -0.14076154255896042, -0.13988385748639753, -0.7696645921042117, -0.18421016746021568, -0.21423330761126352, -0.00734890959141541, 1.1328213530939724, -1.4287156552765827, -0.5516144642840903, -0.7931343423812411, 0.5006083393739946, -0.0045120609205573795, 0.05501801382379699, 0.9560982713007699, 1.179495400187467, -0.6439271361193529, -1.3620561504842512, 1.6783810359332907, 0.17790555885956716, -0.5337727464325431, 0.529490162805114, -0.7710447878576198, -0.21522348807762237, 0.2872358861077521, 0.7924763496804115, -0.16831977505258977], \"xaxis\": \"x13\", \"y\": [0.17991151079674725, -0.8818903411696254, 1.3396439701998577, 1.696369655122254, -1.0170500743214117, 0.9603589234497253, -0.5349114716957325, 0.4312769284383472, -0.3939466022989687, -1.8390185998560094, -1.1313497571724336, 1.901325649462984, 0.6176164163701985, 1.0542740552600596, -0.3840010843845273, 0.8046073397273489, 0.7841681451038326, -0.20004483375073087, -1.749805329024341, 2.0139347918697927, 1.102392118546163, 0.5522964480257804, 2.05685740313035, -0.290733835517606, 2.316511549409668, 0.2959399927339611, -2.1132641218016053, -2.4300130296167217, -0.20485450728479654, 0.6151779208026293, -1.0369765204767676, 0.9747137403714647, -0.6494041640418141, 1.0214755133988165, -0.8083215035935389, -0.31708033874340197, -0.7074597122841649, 0.5224799578028866, 0.22314406620526706, 1.0941308108555794, 0.47059586801987585, 1.617159855769574, -0.051782952977217064, 0.49416903624601183, 0.1374397219014256, -0.08125070664670438, 0.41113960855405046, 2.8434878484149735, -0.4499474136429881, -0.34481772452587217, 1.3211447457021126, -1.3702997023912453, -2.4255657807136135, 0.5397403971280657, -0.19062789328622026, -0.9803472848041662, 0.6909063868697634, 0.4101978167870579, -0.4715904537104075, 0.278648053040416, -0.7592271707557713, 1.4616578784460046, 0.4098348999974717, 0.31247051172196, -0.2549830016008637, -0.4401095504059153, -0.7977524197572258, -0.6094420744605716, 0.13091200126183208, -0.3801814420807549, 1.3252737961337921, -0.2712713813504625, -0.9441856769131897, -0.26134997431370866, -0.9988584715638273, 1.5987048602259983, 0.5445833903546733, -1.320378767639152, 1.775006643180901, 0.586076337208009, -0.2077034039617294, 2.4043382124218446, -1.47900009750594, -1.9456475559711623, 0.8532309696471242, -1.4822782895641395, 2.8566202001860277, -0.9745444965686464, 0.6341673693827251, 1.5556971061323803, -0.7989512908345607, -0.3780272524410559, -1.7850324919265543, -0.04581736762010171, 0.7724989771290007, -0.2109479207225484, 0.9749941979637414, 0.632229746732128, -0.18926098483585838, 0.2742948244476812], \"yaxis\": \"y13\"}, {\"line\": {\"color\": \"rgba(128, 128, 128, 1.0)\", \"dash\": \"solid\", \"shape\": \"linear\", \"width\": 1.3}, \"marker\": {\"size\": 2, \"symbol\": \"circle\"}, \"mode\": \"markers\", \"name\": \"D\", \"text\": \"\", \"type\": \"scatter\", \"x\": [-1.3275926421452904, -0.936339741020361, -0.13647734868874586, -2.2240640578978677, 1.7394620755462407, -0.9836121549376742, 0.34626738417910974, 1.2047434241013317, 1.40716285017813, 1.607297362862324, 1.1471127354058306, -1.0290993380333546, 0.3382366893151083, 1.2171761981322033, -2.098208032554198, 0.6029330801302344, 0.7289001703024334, -0.9748621397718429, -1.1333611351564175, -0.6438327393385788, -0.05736388655202392, 0.8174149798334428, 0.38307197322024256, -0.33450585472427186, -0.3208347691514773, 1.1646184189868694, 0.5472252231873067, 0.18021263465929316, -1.4688972064557497, -0.007503782506332852, 0.3921883000604201, -1.3139502090164275, 1.048607779460764, 0.39367903297019263, -0.009051504564113558, -1.901214271538554, -0.5171755167242869, 0.9229573561035125, 0.21267983927716877, -0.4370929342827836, 0.2283932101125965, 1.2176223801186772, -1.2090570542595627, 2.5505564530909055, -0.6075715148722199, 0.19176390475104416, 0.769852942774043, 0.7882324532714438, -1.3143619973703013, 0.42644098330579333, -1.711462519248761, -0.16901255652128294, 0.0532722679248608, -1.4604290285910726, -0.36053699012217083, 0.5088195386777494, 0.25542311236157367, -0.11186811351887037, 0.5405878809143965, -0.04386982384945076, -0.16917336542894204, 0.6633191366843727, -0.4989147864827021, 0.1560136225260184, 0.05272802990970662, -1.850465429629844, 1.3834059410341466, -0.9218299190591187, -0.6063394567698026, -1.1886063318225617, 0.10019920073973819, -0.2595092728091105, 2.2190005527839, 0.7659999908718104, -0.560468590169831, -1.8182133054973348, -0.11258377212132896, 0.538066045580072, -0.4241680278188642, 1.1654127387433164, -1.1549015772976388, 0.69925676362351, -0.9108643560764622, -0.24661187787572553, -0.934632536808109, -0.2714279182553495, 0.16631843471957616, 0.31353363861918293, -0.9107335599140366, -0.25980191444427614, 0.4628327390827214, -1.0223280885294475, -0.11416392676936336, 0.0005269853392635756, 0.6425260963846305, 0.7306111095911784, -0.4308391283122783, 0.821522465586635, -0.7522745648552567, -1.299678462575494], \"xaxis\": \"x14\", \"y\": [0.17991151079674725, -0.8818903411696254, 1.3396439701998577, 1.696369655122254, -1.0170500743214117, 0.9603589234497253, -0.5349114716957325, 0.4312769284383472, -0.3939466022989687, -1.8390185998560094, -1.1313497571724336, 1.901325649462984, 0.6176164163701985, 1.0542740552600596, -0.3840010843845273, 0.8046073397273489, 0.7841681451038326, -0.20004483375073087, -1.749805329024341, 2.0139347918697927, 1.102392118546163, 0.5522964480257804, 2.05685740313035, -0.290733835517606, 2.316511549409668, 0.2959399927339611, -2.1132641218016053, -2.4300130296167217, -0.20485450728479654, 0.6151779208026293, -1.0369765204767676, 0.9747137403714647, -0.6494041640418141, 1.0214755133988165, -0.8083215035935389, -0.31708033874340197, -0.7074597122841649, 0.5224799578028866, 0.22314406620526706, 1.0941308108555794, 0.47059586801987585, 1.617159855769574, -0.051782952977217064, 0.49416903624601183, 0.1374397219014256, -0.08125070664670438, 0.41113960855405046, 2.8434878484149735, -0.4499474136429881, -0.34481772452587217, 1.3211447457021126, -1.3702997023912453, -2.4255657807136135, 0.5397403971280657, -0.19062789328622026, -0.9803472848041662, 0.6909063868697634, 0.4101978167870579, -0.4715904537104075, 0.278648053040416, -0.7592271707557713, 1.4616578784460046, 0.4098348999974717, 0.31247051172196, -0.2549830016008637, -0.4401095504059153, -0.7977524197572258, -0.6094420744605716, 0.13091200126183208, -0.3801814420807549, 1.3252737961337921, -0.2712713813504625, -0.9441856769131897, -0.26134997431370866, -0.9988584715638273, 1.5987048602259983, 0.5445833903546733, -1.320378767639152, 1.775006643180901, 0.586076337208009, -0.2077034039617294, 2.4043382124218446, -1.47900009750594, -1.9456475559711623, 0.8532309696471242, -1.4822782895641395, 2.8566202001860277, -0.9745444965686464, 0.6341673693827251, 1.5556971061323803, -0.7989512908345607, -0.3780272524410559, -1.7850324919265543, -0.04581736762010171, 0.7724989771290007, -0.2109479207225484, 0.9749941979637414, 0.632229746732128, -0.18926098483585838, 0.2742948244476812], \"yaxis\": \"y14\"}, {\"line\": {\"color\": \"rgba(128, 128, 128, 1.0)\", \"dash\": \"solid\", \"shape\": \"linear\", \"width\": 1.3}, \"marker\": {\"size\": 2, \"symbol\": \"circle\"}, \"mode\": \"markers\", \"name\": \"D\", \"text\": \"\", \"type\": \"scatter\", \"x\": [0.7299625284862286, 2.3553416977424178, 0.9439163197043687, -1.7485668461634558, 0.67303371795341, -0.5827088164406231, -0.2298437357287439, -0.25299429402279805, 2.243376147690324, 0.026678264182821525, -0.009326706571950632, -1.28103276971166, -0.9018097255727358, -2.316355818136636, 0.5765390416190728, -0.5461091032849023, -0.8367310170947283, -0.10534783116365523, 1.5267070285714082, -1.9147501133533784, -0.5179575970987909, -1.060722722859043, -0.6002336281882471, 1.4405474123808457, 0.7600485110526476, -0.6111759262953101, 0.5252641852189067, 0.35234677933198255, -1.256464159844944, -0.4328089054815595, -0.564944070367201, 1.3937889852249814, -0.6120421309973892, -1.9675877843906422, -0.41288518037872285, -0.1568912040337323, 1.0096741355529157, -0.6497081922716762, 0.4258224548117755, 0.03419617577775748, 0.2544273158327501, -1.2130175397650842, 2.3039996012372805, -1.6914934829063475, -0.7401624318559102, 0.4620462894350896, 0.7961878899891845, 0.806258868435501, 0.7431934103318454, -0.20573033233185833, 1.6716873719469132, -0.04951833789026921, 1.4169100195351396, -0.4346643636616852, 1.6271435354582984, -0.2125027399496185, -0.02916701828161739, -0.25266723938880226, 1.9761466932774905, 0.11007665834811947, 0.2921641158126787, -0.9605877946560205, 1.199755946328249, -0.15512336924943296, 0.9932606411511252, 0.46631966023247334, -0.8871888295482587, -0.38177735170627886, 0.7880515178140529, -0.9196931896060868, 1.2894821795957643, -0.8448972917184487, -0.11451821513216144, 0.8822791063972072, -2.080895983039389, 1.4661993777627285, 0.27195893179757347, -2.4541448160069357, 0.7955709411989315, -1.9578482622294364, -0.013272646509554342, -0.7987542104110034, 1.27290935113707, 1.245872469152833, 0.6783887133174455, 1.2203139391698046, 0.18857306794771148, -0.12981951489743296, -0.3209816313541664, 1.0042691846843708, -0.31179723886458666, 0.6727438201213922, -0.13274620751416147, -0.4359416099838764, 1.4825171216305515, -0.7349535329592677, 0.4928961852590263, -1.334426537004841, 0.2828080600024883, 0.5354572657235364], \"xaxis\": \"x15\", \"y\": [0.17991151079674725, -0.8818903411696254, 1.3396439701998577, 1.696369655122254, -1.0170500743214117, 0.9603589234497253, -0.5349114716957325, 0.4312769284383472, -0.3939466022989687, -1.8390185998560094, -1.1313497571724336, 1.901325649462984, 0.6176164163701985, 1.0542740552600596, -0.3840010843845273, 0.8046073397273489, 0.7841681451038326, -0.20004483375073087, -1.749805329024341, 2.0139347918697927, 1.102392118546163, 0.5522964480257804, 2.05685740313035, -0.290733835517606, 2.316511549409668, 0.2959399927339611, -2.1132641218016053, -2.4300130296167217, -0.20485450728479654, 0.6151779208026293, -1.0369765204767676, 0.9747137403714647, -0.6494041640418141, 1.0214755133988165, -0.8083215035935389, -0.31708033874340197, -0.7074597122841649, 0.5224799578028866, 0.22314406620526706, 1.0941308108555794, 0.47059586801987585, 1.617159855769574, -0.051782952977217064, 0.49416903624601183, 0.1374397219014256, -0.08125070664670438, 0.41113960855405046, 2.8434878484149735, -0.4499474136429881, -0.34481772452587217, 1.3211447457021126, -1.3702997023912453, -2.4255657807136135, 0.5397403971280657, -0.19062789328622026, -0.9803472848041662, 0.6909063868697634, 0.4101978167870579, -0.4715904537104075, 0.278648053040416, -0.7592271707557713, 1.4616578784460046, 0.4098348999974717, 0.31247051172196, -0.2549830016008637, -0.4401095504059153, -0.7977524197572258, -0.6094420744605716, 0.13091200126183208, -0.3801814420807549, 1.3252737961337921, -0.2712713813504625, -0.9441856769131897, -0.26134997431370866, -0.9988584715638273, 1.5987048602259983, 0.5445833903546733, -1.320378767639152, 1.775006643180901, 0.586076337208009, -0.2077034039617294, 2.4043382124218446, -1.47900009750594, -1.9456475559711623, 0.8532309696471242, -1.4822782895641395, 2.8566202001860277, -0.9745444965686464, 0.6341673693827251, 1.5556971061323803, -0.7989512908345607, -0.3780272524410559, -1.7850324919265543, -0.04581736762010171, 0.7724989771290007, -0.2109479207225484, 0.9749941979637414, 0.632229746732128, -0.18926098483585838, 0.2742948244476812], \"yaxis\": \"y15\"}, {\"histfunc\": \"count\", \"histnorm\": \"\", \"marker\": {\"color\": \"rgba(128, 0, 128, 1.0)\", \"line\": {\"color\": \"#4D5663\", \"width\": 1.3}}, \"name\": \"D\", \"nbinsx\": 10, \"opacity\": 0.8, \"orientation\": \"v\", \"type\": \"histogram\", \"x\": [0.17991151079674725, -0.8818903411696254, 1.3396439701998577, 1.696369655122254, -1.0170500743214117, 0.9603589234497253, -0.5349114716957325, 0.4312769284383472, -0.3939466022989687, -1.8390185998560094, -1.1313497571724336, 1.901325649462984, 0.6176164163701985, 1.0542740552600596, -0.3840010843845273, 0.8046073397273489, 0.7841681451038326, -0.20004483375073087, -1.749805329024341, 2.0139347918697927, 1.102392118546163, 0.5522964480257804, 2.05685740313035, -0.290733835517606, 2.316511549409668, 0.2959399927339611, -2.1132641218016053, -2.4300130296167217, -0.20485450728479654, 0.6151779208026293, -1.0369765204767676, 0.9747137403714647, -0.6494041640418141, 1.0214755133988165, -0.8083215035935389, -0.31708033874340197, -0.7074597122841649, 0.5224799578028866, 0.22314406620526706, 1.0941308108555794, 0.47059586801987585, 1.617159855769574, -0.051782952977217064, 0.49416903624601183, 0.1374397219014256, -0.08125070664670438, 0.41113960855405046, 2.8434878484149735, -0.4499474136429881, -0.34481772452587217, 1.3211447457021126, -1.3702997023912453, -2.4255657807136135, 0.5397403971280657, -0.19062789328622026, -0.9803472848041662, 0.6909063868697634, 0.4101978167870579, -0.4715904537104075, 0.278648053040416, -0.7592271707557713, 1.4616578784460046, 0.4098348999974717, 0.31247051172196, -0.2549830016008637, -0.4401095504059153, -0.7977524197572258, -0.6094420744605716, 0.13091200126183208, -0.3801814420807549, 1.3252737961337921, -0.2712713813504625, -0.9441856769131897, -0.26134997431370866, -0.9988584715638273, 1.5987048602259983, 0.5445833903546733, -1.320378767639152, 1.775006643180901, 0.586076337208009, -0.2077034039617294, 2.4043382124218446, -1.47900009750594, -1.9456475559711623, 0.8532309696471242, -1.4822782895641395, 2.8566202001860277, -0.9745444965686464, 0.6341673693827251, 1.5556971061323803, -0.7989512908345607, -0.3780272524410559, -1.7850324919265543, -0.04581736762010171, 0.7724989771290007, -0.2109479207225484, 0.9749941979637414, 0.632229746732128, -0.18926098483585838, 0.2742948244476812], \"xaxis\": \"x16\", \"yaxis\": \"y16\"}],                        {\"bargap\": 0.02, \"legend\": {\"bgcolor\": \"#F5F6F9\", \"font\": {\"color\": \"#4D5663\"}}, \"paper_bgcolor\": \"#F5F6F9\", \"plot_bgcolor\": \"#F5F6F9\", \"showlegend\": false, \"template\": {\"data\": {\"bar\": [{\"error_x\": {\"color\": \"#2a3f5f\"}, \"error_y\": {\"color\": \"#2a3f5f\"}, \"marker\": {\"line\": {\"color\": \"#E5ECF6\", \"width\": 0.5}}, \"type\": \"bar\"}], \"barpolar\": [{\"marker\": {\"line\": {\"color\": \"#E5ECF6\", \"width\": 0.5}}, \"type\": \"barpolar\"}], \"carpet\": [{\"aaxis\": {\"endlinecolor\": \"#2a3f5f\", \"gridcolor\": \"white\", \"linecolor\": \"white\", \"minorgridcolor\": \"white\", \"startlinecolor\": \"#2a3f5f\"}, \"baxis\": {\"endlinecolor\": \"#2a3f5f\", \"gridcolor\": \"white\", \"linecolor\": \"white\", \"minorgridcolor\": \"white\", \"startlinecolor\": \"#2a3f5f\"}, \"type\": \"carpet\"}], \"choropleth\": [{\"colorbar\": {\"outlinewidth\": 0, \"ticks\": \"\"}, \"type\": \"choropleth\"}], \"contour\": [{\"colorbar\": {\"outlinewidth\": 0, \"ticks\": \"\"}, \"colorscale\": [[0.0, \"#0d0887\"], [0.1111111111111111, \"#46039f\"], [0.2222222222222222, \"#7201a8\"], [0.3333333333333333, \"#9c179e\"], [0.4444444444444444, \"#bd3786\"], [0.5555555555555556, \"#d8576b\"], [0.6666666666666666, \"#ed7953\"], [0.7777777777777778, \"#fb9f3a\"], [0.8888888888888888, \"#fdca26\"], [1.0, \"#f0f921\"]], \"type\": \"contour\"}], \"contourcarpet\": [{\"colorbar\": {\"outlinewidth\": 0, \"ticks\": \"\"}, \"type\": \"contourcarpet\"}], \"heatmap\": [{\"colorbar\": {\"outlinewidth\": 0, \"ticks\": \"\"}, \"colorscale\": [[0.0, \"#0d0887\"], [0.1111111111111111, \"#46039f\"], [0.2222222222222222, \"#7201a8\"], [0.3333333333333333, \"#9c179e\"], [0.4444444444444444, \"#bd3786\"], [0.5555555555555556, \"#d8576b\"], [0.6666666666666666, \"#ed7953\"], [0.7777777777777778, \"#fb9f3a\"], [0.8888888888888888, \"#fdca26\"], [1.0, \"#f0f921\"]], \"type\": \"heatmap\"}], \"heatmapgl\": [{\"colorbar\": {\"outlinewidth\": 0, \"ticks\": \"\"}, \"colorscale\": [[0.0, \"#0d0887\"], [0.1111111111111111, \"#46039f\"], [0.2222222222222222, \"#7201a8\"], [0.3333333333333333, \"#9c179e\"], [0.4444444444444444, \"#bd3786\"], [0.5555555555555556, \"#d8576b\"], [0.6666666666666666, \"#ed7953\"], [0.7777777777777778, \"#fb9f3a\"], [0.8888888888888888, \"#fdca26\"], [1.0, \"#f0f921\"]], \"type\": \"heatmapgl\"}], \"histogram\": [{\"marker\": {\"colorbar\": {\"outlinewidth\": 0, \"ticks\": \"\"}}, \"type\": \"histogram\"}], \"histogram2d\": [{\"colorbar\": {\"outlinewidth\": 0, \"ticks\": \"\"}, \"colorscale\": [[0.0, \"#0d0887\"], [0.1111111111111111, \"#46039f\"], [0.2222222222222222, \"#7201a8\"], [0.3333333333333333, \"#9c179e\"], [0.4444444444444444, \"#bd3786\"], [0.5555555555555556, \"#d8576b\"], [0.6666666666666666, \"#ed7953\"], [0.7777777777777778, \"#fb9f3a\"], [0.8888888888888888, \"#fdca26\"], [1.0, \"#f0f921\"]], \"type\": \"histogram2d\"}], \"histogram2dcontour\": [{\"colorbar\": {\"outlinewidth\": 0, \"ticks\": \"\"}, \"colorscale\": [[0.0, \"#0d0887\"], [0.1111111111111111, \"#46039f\"], [0.2222222222222222, \"#7201a8\"], [0.3333333333333333, \"#9c179e\"], [0.4444444444444444, \"#bd3786\"], [0.5555555555555556, \"#d8576b\"], [0.6666666666666666, \"#ed7953\"], [0.7777777777777778, \"#fb9f3a\"], [0.8888888888888888, \"#fdca26\"], [1.0, \"#f0f921\"]], \"type\": \"histogram2dcontour\"}], \"mesh3d\": [{\"colorbar\": {\"outlinewidth\": 0, \"ticks\": \"\"}, \"type\": \"mesh3d\"}], \"parcoords\": [{\"line\": {\"colorbar\": {\"outlinewidth\": 0, \"ticks\": \"\"}}, \"type\": \"parcoords\"}], \"pie\": [{\"automargin\": true, \"type\": \"pie\"}], \"scatter\": [{\"marker\": {\"colorbar\": {\"outlinewidth\": 0, \"ticks\": \"\"}}, \"type\": \"scatter\"}], \"scatter3d\": [{\"line\": {\"colorbar\": {\"outlinewidth\": 0, \"ticks\": \"\"}}, \"marker\": {\"colorbar\": {\"outlinewidth\": 0, \"ticks\": \"\"}}, \"type\": \"scatter3d\"}], \"scattercarpet\": [{\"marker\": {\"colorbar\": {\"outlinewidth\": 0, \"ticks\": \"\"}}, \"type\": \"scattercarpet\"}], \"scattergeo\": [{\"marker\": {\"colorbar\": {\"outlinewidth\": 0, \"ticks\": \"\"}}, \"type\": \"scattergeo\"}], \"scattergl\": [{\"marker\": {\"colorbar\": {\"outlinewidth\": 0, \"ticks\": \"\"}}, \"type\": \"scattergl\"}], \"scattermapbox\": [{\"marker\": {\"colorbar\": {\"outlinewidth\": 0, \"ticks\": \"\"}}, \"type\": \"scattermapbox\"}], \"scatterpolar\": [{\"marker\": {\"colorbar\": {\"outlinewidth\": 0, \"ticks\": \"\"}}, \"type\": \"scatterpolar\"}], \"scatterpolargl\": [{\"marker\": {\"colorbar\": {\"outlinewidth\": 0, \"ticks\": \"\"}}, \"type\": \"scatterpolargl\"}], \"scatterternary\": [{\"marker\": {\"colorbar\": {\"outlinewidth\": 0, \"ticks\": \"\"}}, \"type\": \"scatterternary\"}], \"surface\": [{\"colorbar\": {\"outlinewidth\": 0, \"ticks\": \"\"}, \"colorscale\": [[0.0, \"#0d0887\"], [0.1111111111111111, \"#46039f\"], [0.2222222222222222, \"#7201a8\"], [0.3333333333333333, \"#9c179e\"], [0.4444444444444444, \"#bd3786\"], [0.5555555555555556, \"#d8576b\"], [0.6666666666666666, \"#ed7953\"], [0.7777777777777778, \"#fb9f3a\"], [0.8888888888888888, \"#fdca26\"], [1.0, \"#f0f921\"]], \"type\": \"surface\"}], \"table\": [{\"cells\": {\"fill\": {\"color\": \"#EBF0F8\"}, \"line\": {\"color\": \"white\"}}, \"header\": {\"fill\": {\"color\": \"#C8D4E3\"}, \"line\": {\"color\": \"white\"}}, \"type\": \"table\"}]}, \"layout\": {\"annotationdefaults\": {\"arrowcolor\": \"#2a3f5f\", \"arrowhead\": 0, \"arrowwidth\": 1}, \"autotypenumbers\": \"strict\", \"coloraxis\": {\"colorbar\": {\"outlinewidth\": 0, \"ticks\": \"\"}}, \"colorscale\": {\"diverging\": [[0, \"#8e0152\"], [0.1, \"#c51b7d\"], [0.2, \"#de77ae\"], [0.3, \"#f1b6da\"], [0.4, \"#fde0ef\"], [0.5, \"#f7f7f7\"], [0.6, \"#e6f5d0\"], [0.7, \"#b8e186\"], [0.8, \"#7fbc41\"], [0.9, \"#4d9221\"], [1, \"#276419\"]], \"sequential\": [[0.0, \"#0d0887\"], [0.1111111111111111, \"#46039f\"], [0.2222222222222222, \"#7201a8\"], [0.3333333333333333, \"#9c179e\"], [0.4444444444444444, \"#bd3786\"], [0.5555555555555556, \"#d8576b\"], [0.6666666666666666, \"#ed7953\"], [0.7777777777777778, \"#fb9f3a\"], [0.8888888888888888, \"#fdca26\"], [1.0, \"#f0f921\"]], \"sequentialminus\": [[0.0, \"#0d0887\"], [0.1111111111111111, \"#46039f\"], [0.2222222222222222, \"#7201a8\"], [0.3333333333333333, \"#9c179e\"], [0.4444444444444444, \"#bd3786\"], [0.5555555555555556, \"#d8576b\"], [0.6666666666666666, \"#ed7953\"], [0.7777777777777778, \"#fb9f3a\"], [0.8888888888888888, \"#fdca26\"], [1.0, \"#f0f921\"]]}, \"colorway\": [\"#636efa\", \"#EF553B\", \"#00cc96\", \"#ab63fa\", \"#FFA15A\", \"#19d3f3\", \"#FF6692\", \"#B6E880\", \"#FF97FF\", \"#FECB52\"], \"font\": {\"color\": \"#2a3f5f\"}, \"geo\": {\"bgcolor\": \"white\", \"lakecolor\": \"white\", \"landcolor\": \"#E5ECF6\", \"showlakes\": true, \"showland\": true, \"subunitcolor\": \"white\"}, \"hoverlabel\": {\"align\": \"left\"}, \"hovermode\": \"closest\", \"mapbox\": {\"style\": \"light\"}, \"paper_bgcolor\": \"white\", \"plot_bgcolor\": \"#E5ECF6\", \"polar\": {\"angularaxis\": {\"gridcolor\": \"white\", \"linecolor\": \"white\", \"ticks\": \"\"}, \"bgcolor\": \"#E5ECF6\", \"radialaxis\": {\"gridcolor\": \"white\", \"linecolor\": \"white\", \"ticks\": \"\"}}, \"scene\": {\"xaxis\": {\"backgroundcolor\": \"#E5ECF6\", \"gridcolor\": \"white\", \"gridwidth\": 2, \"linecolor\": \"white\", \"showbackground\": true, \"ticks\": \"\", \"zerolinecolor\": \"white\"}, \"yaxis\": {\"backgroundcolor\": \"#E5ECF6\", \"gridcolor\": \"white\", \"gridwidth\": 2, \"linecolor\": \"white\", \"showbackground\": true, \"ticks\": \"\", \"zerolinecolor\": \"white\"}, \"zaxis\": {\"backgroundcolor\": \"#E5ECF6\", \"gridcolor\": \"white\", \"gridwidth\": 2, \"linecolor\": \"white\", \"showbackground\": true, \"ticks\": \"\", \"zerolinecolor\": \"white\"}}, \"shapedefaults\": {\"line\": {\"color\": \"#2a3f5f\"}}, \"ternary\": {\"aaxis\": {\"gridcolor\": \"white\", \"linecolor\": \"white\", \"ticks\": \"\"}, \"baxis\": {\"gridcolor\": \"white\", \"linecolor\": \"white\", \"ticks\": \"\"}, \"bgcolor\": \"#E5ECF6\", \"caxis\": {\"gridcolor\": \"white\", \"linecolor\": \"white\", \"ticks\": \"\"}}, \"title\": {\"x\": 0.05}, \"xaxis\": {\"automargin\": true, \"gridcolor\": \"white\", \"linecolor\": \"white\", \"ticks\": \"\", \"title\": {\"standoff\": 15}, \"zerolinecolor\": \"white\", \"zerolinewidth\": 2}, \"yaxis\": {\"automargin\": true, \"gridcolor\": \"white\", \"linecolor\": \"white\", \"ticks\": \"\", \"title\": {\"standoff\": 15}, \"zerolinecolor\": \"white\", \"zerolinewidth\": 2}}}, \"title\": {\"font\": {\"color\": \"#4D5663\"}}, \"xaxis\": {\"anchor\": \"y\", \"domain\": [0.0, 0.2125], \"gridcolor\": \"#E1E5ED\", \"showgrid\": false, \"tickfont\": {\"color\": \"#4D5663\"}, \"title\": {\"font\": {\"color\": \"#4D5663\"}, \"text\": \"\"}, \"zerolinecolor\": \"#E1E5ED\"}, \"xaxis10\": {\"anchor\": \"y10\", \"domain\": [0.2625, 0.475], \"gridcolor\": \"#E1E5ED\", \"showgrid\": false, \"tickfont\": {\"color\": \"#4D5663\"}, \"title\": {\"font\": {\"color\": \"#4D5663\"}, \"text\": \"\"}, \"zerolinecolor\": \"#E1E5ED\"}, \"xaxis11\": {\"anchor\": \"y11\", \"domain\": [0.525, 0.7375], \"gridcolor\": \"#E1E5ED\", \"showgrid\": false, \"tickfont\": {\"color\": \"#4D5663\"}, \"title\": {\"font\": {\"color\": \"#4D5663\"}, \"text\": \"\"}, \"zerolinecolor\": \"#E1E5ED\"}, \"xaxis12\": {\"anchor\": \"y12\", \"domain\": [0.7875, 1.0], \"gridcolor\": \"#E1E5ED\", \"showgrid\": false, \"tickfont\": {\"color\": \"#4D5663\"}, \"title\": {\"font\": {\"color\": \"#4D5663\"}, \"text\": \"\"}, \"zerolinecolor\": \"#E1E5ED\"}, \"xaxis13\": {\"anchor\": \"y13\", \"domain\": [0.0, 0.2125], \"gridcolor\": \"#E1E5ED\", \"showgrid\": false, \"tickfont\": {\"color\": \"#4D5663\"}, \"title\": {\"font\": {\"color\": \"#4D5663\"}, \"text\": \"\"}, \"zerolinecolor\": \"#E1E5ED\"}, \"xaxis14\": {\"anchor\": \"y14\", \"domain\": [0.2625, 0.475], \"gridcolor\": \"#E1E5ED\", \"showgrid\": false, \"tickfont\": {\"color\": \"#4D5663\"}, \"title\": {\"font\": {\"color\": \"#4D5663\"}, \"text\": \"\"}, \"zerolinecolor\": \"#E1E5ED\"}, \"xaxis15\": {\"anchor\": \"y15\", \"domain\": [0.525, 0.7375], \"gridcolor\": \"#E1E5ED\", \"showgrid\": false, \"tickfont\": {\"color\": \"#4D5663\"}, \"title\": {\"font\": {\"color\": \"#4D5663\"}, \"text\": \"\"}, \"zerolinecolor\": \"#E1E5ED\"}, \"xaxis16\": {\"anchor\": \"y16\", \"domain\": [0.7875, 1.0], \"gridcolor\": \"#E1E5ED\", \"showgrid\": false, \"tickfont\": {\"color\": \"#4D5663\"}, \"title\": {\"font\": {\"color\": \"#4D5663\"}, \"text\": \"\"}, \"zerolinecolor\": \"#E1E5ED\"}, \"xaxis2\": {\"anchor\": \"y2\", \"domain\": [0.2625, 0.475], \"gridcolor\": \"#E1E5ED\", \"showgrid\": false, \"tickfont\": {\"color\": \"#4D5663\"}, \"title\": {\"font\": {\"color\": \"#4D5663\"}, \"text\": \"\"}, \"zerolinecolor\": \"#E1E5ED\"}, \"xaxis3\": {\"anchor\": \"y3\", \"domain\": [0.525, 0.7375], \"gridcolor\": \"#E1E5ED\", \"showgrid\": false, \"tickfont\": {\"color\": \"#4D5663\"}, \"title\": {\"font\": {\"color\": \"#4D5663\"}, \"text\": \"\"}, \"zerolinecolor\": \"#E1E5ED\"}, \"xaxis4\": {\"anchor\": \"y4\", \"domain\": [0.7875, 1.0], \"gridcolor\": \"#E1E5ED\", \"showgrid\": false, \"tickfont\": {\"color\": \"#4D5663\"}, \"title\": {\"font\": {\"color\": \"#4D5663\"}, \"text\": \"\"}, \"zerolinecolor\": \"#E1E5ED\"}, \"xaxis5\": {\"anchor\": \"y5\", \"domain\": [0.0, 0.2125], \"gridcolor\": \"#E1E5ED\", \"showgrid\": false, \"tickfont\": {\"color\": \"#4D5663\"}, \"title\": {\"font\": {\"color\": \"#4D5663\"}, \"text\": \"\"}, \"zerolinecolor\": \"#E1E5ED\"}, \"xaxis6\": {\"anchor\": \"y6\", \"domain\": [0.2625, 0.475], \"gridcolor\": \"#E1E5ED\", \"showgrid\": false, \"tickfont\": {\"color\": \"#4D5663\"}, \"title\": {\"font\": {\"color\": \"#4D5663\"}, \"text\": \"\"}, \"zerolinecolor\": \"#E1E5ED\"}, \"xaxis7\": {\"anchor\": \"y7\", \"domain\": [0.525, 0.7375], \"gridcolor\": \"#E1E5ED\", \"showgrid\": false, \"tickfont\": {\"color\": \"#4D5663\"}, \"title\": {\"font\": {\"color\": \"#4D5663\"}, \"text\": \"\"}, \"zerolinecolor\": \"#E1E5ED\"}, \"xaxis8\": {\"anchor\": \"y8\", \"domain\": [0.7875, 1.0], \"gridcolor\": \"#E1E5ED\", \"showgrid\": false, \"tickfont\": {\"color\": \"#4D5663\"}, \"title\": {\"font\": {\"color\": \"#4D5663\"}, \"text\": \"\"}, \"zerolinecolor\": \"#E1E5ED\"}, \"xaxis9\": {\"anchor\": \"y9\", \"domain\": [0.0, 0.2125], \"gridcolor\": \"#E1E5ED\", \"showgrid\": false, \"tickfont\": {\"color\": \"#4D5663\"}, \"title\": {\"font\": {\"color\": \"#4D5663\"}, \"text\": \"\"}, \"zerolinecolor\": \"#E1E5ED\"}, \"yaxis\": {\"anchor\": \"x\", \"domain\": [0.8025, 1.0], \"gridcolor\": \"#E1E5ED\", \"showgrid\": false, \"tickfont\": {\"color\": \"#4D5663\"}, \"title\": {\"font\": {\"color\": \"#4D5663\"}, \"text\": \"\"}, \"zerolinecolor\": \"#E1E5ED\"}, \"yaxis10\": {\"anchor\": \"x10\", \"domain\": [0.2675, 0.465], \"gridcolor\": \"#E1E5ED\", \"showgrid\": false, \"tickfont\": {\"color\": \"#4D5663\"}, \"title\": {\"font\": {\"color\": \"#4D5663\"}, \"text\": \"\"}, \"zerolinecolor\": \"#E1E5ED\"}, \"yaxis11\": {\"anchor\": \"x11\", \"domain\": [0.2675, 0.465], \"gridcolor\": \"#E1E5ED\", \"showgrid\": false, \"tickfont\": {\"color\": \"#4D5663\"}, \"title\": {\"font\": {\"color\": \"#4D5663\"}, \"text\": \"\"}, \"zerolinecolor\": \"#E1E5ED\"}, \"yaxis12\": {\"anchor\": \"x12\", \"domain\": [0.2675, 0.465], \"gridcolor\": \"#E1E5ED\", \"showgrid\": false, \"tickfont\": {\"color\": \"#4D5663\"}, \"title\": {\"font\": {\"color\": \"#4D5663\"}, \"text\": \"\"}, \"zerolinecolor\": \"#E1E5ED\"}, \"yaxis13\": {\"anchor\": \"x13\", \"domain\": [0.0, 0.1975], \"gridcolor\": \"#E1E5ED\", \"showgrid\": false, \"tickfont\": {\"color\": \"#4D5663\"}, \"title\": {\"font\": {\"color\": \"#4D5663\"}, \"text\": \"\"}, \"zerolinecolor\": \"#E1E5ED\"}, \"yaxis14\": {\"anchor\": \"x14\", \"domain\": [0.0, 0.1975], \"gridcolor\": \"#E1E5ED\", \"showgrid\": false, \"tickfont\": {\"color\": \"#4D5663\"}, \"title\": {\"font\": {\"color\": \"#4D5663\"}, \"text\": \"\"}, \"zerolinecolor\": \"#E1E5ED\"}, \"yaxis15\": {\"anchor\": \"x15\", \"domain\": [0.0, 0.1975], \"gridcolor\": \"#E1E5ED\", \"showgrid\": false, \"tickfont\": {\"color\": \"#4D5663\"}, \"title\": {\"font\": {\"color\": \"#4D5663\"}, \"text\": \"\"}, \"zerolinecolor\": \"#E1E5ED\"}, \"yaxis16\": {\"anchor\": \"x16\", \"domain\": [0.0, 0.1975], \"gridcolor\": \"#E1E5ED\", \"showgrid\": false, \"tickfont\": {\"color\": \"#4D5663\"}, \"title\": {\"font\": {\"color\": \"#4D5663\"}, \"text\": \"\"}, \"zerolinecolor\": \"#E1E5ED\"}, \"yaxis2\": {\"anchor\": \"x2\", \"domain\": [0.8025, 1.0], \"gridcolor\": \"#E1E5ED\", \"showgrid\": false, \"tickfont\": {\"color\": \"#4D5663\"}, \"title\": {\"font\": {\"color\": \"#4D5663\"}, \"text\": \"\"}, \"zerolinecolor\": \"#E1E5ED\"}, \"yaxis3\": {\"anchor\": \"x3\", \"domain\": [0.8025, 1.0], \"gridcolor\": \"#E1E5ED\", \"showgrid\": false, \"tickfont\": {\"color\": \"#4D5663\"}, \"title\": {\"font\": {\"color\": \"#4D5663\"}, \"text\": \"\"}, \"zerolinecolor\": \"#E1E5ED\"}, \"yaxis4\": {\"anchor\": \"x4\", \"domain\": [0.8025, 1.0], \"gridcolor\": \"#E1E5ED\", \"showgrid\": false, \"tickfont\": {\"color\": \"#4D5663\"}, \"title\": {\"font\": {\"color\": \"#4D5663\"}, \"text\": \"\"}, \"zerolinecolor\": \"#E1E5ED\"}, \"yaxis5\": {\"anchor\": \"x5\", \"domain\": [0.535, 0.7325], \"gridcolor\": \"#E1E5ED\", \"showgrid\": false, \"tickfont\": {\"color\": \"#4D5663\"}, \"title\": {\"font\": {\"color\": \"#4D5663\"}, \"text\": \"\"}, \"zerolinecolor\": \"#E1E5ED\"}, \"yaxis6\": {\"anchor\": \"x6\", \"domain\": [0.535, 0.7325], \"gridcolor\": \"#E1E5ED\", \"showgrid\": false, \"tickfont\": {\"color\": \"#4D5663\"}, \"title\": {\"font\": {\"color\": \"#4D5663\"}, \"text\": \"\"}, \"zerolinecolor\": \"#E1E5ED\"}, \"yaxis7\": {\"anchor\": \"x7\", \"domain\": [0.535, 0.7325], \"gridcolor\": \"#E1E5ED\", \"showgrid\": false, \"tickfont\": {\"color\": \"#4D5663\"}, \"title\": {\"font\": {\"color\": \"#4D5663\"}, \"text\": \"\"}, \"zerolinecolor\": \"#E1E5ED\"}, \"yaxis8\": {\"anchor\": \"x8\", \"domain\": [0.535, 0.7325], \"gridcolor\": \"#E1E5ED\", \"showgrid\": false, \"tickfont\": {\"color\": \"#4D5663\"}, \"title\": {\"font\": {\"color\": \"#4D5663\"}, \"text\": \"\"}, \"zerolinecolor\": \"#E1E5ED\"}, \"yaxis9\": {\"anchor\": \"x9\", \"domain\": [0.2675, 0.465], \"gridcolor\": \"#E1E5ED\", \"showgrid\": false, \"tickfont\": {\"color\": \"#4D5663\"}, \"title\": {\"font\": {\"color\": \"#4D5663\"}, \"text\": \"\"}, \"zerolinecolor\": \"#E1E5ED\"}},                        {\"showLink\": true, \"linkText\": \"Export to plot.ly\", \"plotlyServerURL\": \"https://plot.ly\", \"responsive\": true}                    ).then(function(){\n",
       "                            \n",
       "var gd = document.getElementById('25134014-4215-4513-b4a8-3cd41b983e1e');\n",
       "var x = new MutationObserver(function (mutations, observer) {{\n",
       "        var display = window.getComputedStyle(gd).display;\n",
       "        if (!display || display === 'none') {{\n",
       "            console.log([gd, 'removed!']);\n",
       "            Plotly.purge(gd);\n",
       "            observer.disconnect();\n",
       "        }}\n",
       "}});\n",
       "\n",
       "// Listen for the removal of the full notebook cells\n",
       "var notebookContainer = gd.closest('#notebook-container');\n",
       "if (notebookContainer) {{\n",
       "    x.observe(notebookContainer, {childList: true});\n",
       "}}\n",
       "\n",
       "// Listen for the clearing of the current output cell\n",
       "var outputEl = gd.closest('.output');\n",
       "if (outputEl) {{\n",
       "    x.observe(outputEl, {childList: true});\n",
       "}}\n",
       "\n",
       "                        })                };                });            </script>        </div>"
      ]
     },
     "metadata": {},
     "output_type": "display_data"
    }
   ],
   "source": [
    "df.scatter_matrix()"
   ]
  },
  {
   "cell_type": "markdown",
   "id": "e242cde4",
   "metadata": {},
   "source": [
    "# Choropleth Maps"
   ]
  },
  {
   "cell_type": "code",
   "execution_count": 51,
   "id": "d33bc0e7",
   "metadata": {},
   "outputs": [],
   "source": [
    "import chart_studio.plotly as py\n",
    "import plotly.graph_objs as go"
   ]
  },
  {
   "cell_type": "markdown",
   "id": "217f7a54",
   "metadata": {},
   "source": [
    "## Choropleth US Maps\n",
    "### Typical example"
   ]
  },
  {
   "cell_type": "markdown",
   "id": "adcf30d1",
   "metadata": {},
   "source": [
    "Build our data dictionary. Easiest way to do this is to use the **dict()** function of the general form:\n",
    "\n",
    "* type = 'choropleth',\n",
    "* locations = list of states\n",
    "* locationmode = 'USA-states'\n",
    "* colorscale= :\n",
    "\n",
    "Either a predefined string:\n",
    "\n",
    "    'pairs' | 'Greys' | 'Greens' | 'Bluered' | 'Hot' | 'Picnic' | 'Portland' | 'Jet' | 'RdBu' | 'Blackbody' | 'Earth' | 'Electric' \n",
    "\n",
    "or create a [custom colorscale](https://plot.ly/python/heatmap-and-contour-colorscales/)\n",
    "\n",
    "* text= list or array of text to display per point\n",
    "* z= array of values on z axis (color of state)\n",
    "* colorbar = {'title':'Colorbar Title'})\n"
   ]
  },
  {
   "cell_type": "code",
   "execution_count": 52,
   "id": "89fad6c3",
   "metadata": {},
   "outputs": [],
   "source": [
    "data = dict(type = \"choropleth\",\n",
    "           locations = [\"AZ\", \"CA\", \"NY\"],\n",
    "           locationmode = \"USA-states\",\n",
    "           colorscale = \"Portland\",\n",
    "           text = [\"text1\", \"text2\", \"text3\"],\n",
    "           z = [1, 2, 3],\n",
    "           colorbar = {\"title\":\"Colorbar Title\"})"
   ]
  },
  {
   "cell_type": "markdown",
   "id": "3ebdee73",
   "metadata": {},
   "source": [
    "Then create the layout nested dictionary:"
   ]
  },
  {
   "cell_type": "code",
   "execution_count": 53,
   "id": "531890d7",
   "metadata": {},
   "outputs": [],
   "source": [
    "layout = dict(geo = {'scope':'usa'})"
   ]
  },
  {
   "cell_type": "markdown",
   "id": "b0ac63f9",
   "metadata": {},
   "source": [
    "Then we use: \n",
    "\n",
    "    go.Figure(data = [data],layout = layout)\n",
    "    \n",
    "to set up the object that finally gets passed into iplot()"
   ]
  },
  {
   "cell_type": "code",
   "execution_count": 54,
   "id": "52609e12",
   "metadata": {},
   "outputs": [],
   "source": [
    "choromap = go.Figure(data = [data], layout=layout)"
   ]
  },
  {
   "cell_type": "code",
   "execution_count": 55,
   "id": "ca8213f3",
   "metadata": {},
   "outputs": [
    {
     "data": {
      "application/vnd.plotly.v1+json": {
       "config": {
        "linkText": "Export to plot.ly",
        "plotlyServerURL": "https://plot.ly",
        "showLink": false
       },
       "data": [
        {
         "colorbar": {
          "title": {
           "text": "Colorbar Title"
          }
         },
         "colorscale": [
          [
           0,
           "rgb(12,51,131)"
          ],
          [
           0.25,
           "rgb(10,136,186)"
          ],
          [
           0.5,
           "rgb(242,211,56)"
          ],
          [
           0.75,
           "rgb(242,143,56)"
          ],
          [
           1,
           "rgb(217,30,30)"
          ]
         ],
         "locationmode": "USA-states",
         "locations": [
          "AZ",
          "CA",
          "NY"
         ],
         "text": [
          "text1",
          "text2",
          "text3"
         ],
         "type": "choropleth",
         "z": [
          1,
          2,
          3
         ]
        }
       ],
       "layout": {
        "geo": {
         "scope": "usa"
        },
        "template": {
         "data": {
          "bar": [
           {
            "error_x": {
             "color": "#2a3f5f"
            },
            "error_y": {
             "color": "#2a3f5f"
            },
            "marker": {
             "line": {
              "color": "#E5ECF6",
              "width": 0.5
             }
            },
            "type": "bar"
           }
          ],
          "barpolar": [
           {
            "marker": {
             "line": {
              "color": "#E5ECF6",
              "width": 0.5
             }
            },
            "type": "barpolar"
           }
          ],
          "carpet": [
           {
            "aaxis": {
             "endlinecolor": "#2a3f5f",
             "gridcolor": "white",
             "linecolor": "white",
             "minorgridcolor": "white",
             "startlinecolor": "#2a3f5f"
            },
            "baxis": {
             "endlinecolor": "#2a3f5f",
             "gridcolor": "white",
             "linecolor": "white",
             "minorgridcolor": "white",
             "startlinecolor": "#2a3f5f"
            },
            "type": "carpet"
           }
          ],
          "choropleth": [
           {
            "colorbar": {
             "outlinewidth": 0,
             "ticks": ""
            },
            "type": "choropleth"
           }
          ],
          "contour": [
           {
            "colorbar": {
             "outlinewidth": 0,
             "ticks": ""
            },
            "colorscale": [
             [
              0,
              "#0d0887"
             ],
             [
              0.1111111111111111,
              "#46039f"
             ],
             [
              0.2222222222222222,
              "#7201a8"
             ],
             [
              0.3333333333333333,
              "#9c179e"
             ],
             [
              0.4444444444444444,
              "#bd3786"
             ],
             [
              0.5555555555555556,
              "#d8576b"
             ],
             [
              0.6666666666666666,
              "#ed7953"
             ],
             [
              0.7777777777777778,
              "#fb9f3a"
             ],
             [
              0.8888888888888888,
              "#fdca26"
             ],
             [
              1,
              "#f0f921"
             ]
            ],
            "type": "contour"
           }
          ],
          "contourcarpet": [
           {
            "colorbar": {
             "outlinewidth": 0,
             "ticks": ""
            },
            "type": "contourcarpet"
           }
          ],
          "heatmap": [
           {
            "colorbar": {
             "outlinewidth": 0,
             "ticks": ""
            },
            "colorscale": [
             [
              0,
              "#0d0887"
             ],
             [
              0.1111111111111111,
              "#46039f"
             ],
             [
              0.2222222222222222,
              "#7201a8"
             ],
             [
              0.3333333333333333,
              "#9c179e"
             ],
             [
              0.4444444444444444,
              "#bd3786"
             ],
             [
              0.5555555555555556,
              "#d8576b"
             ],
             [
              0.6666666666666666,
              "#ed7953"
             ],
             [
              0.7777777777777778,
              "#fb9f3a"
             ],
             [
              0.8888888888888888,
              "#fdca26"
             ],
             [
              1,
              "#f0f921"
             ]
            ],
            "type": "heatmap"
           }
          ],
          "heatmapgl": [
           {
            "colorbar": {
             "outlinewidth": 0,
             "ticks": ""
            },
            "colorscale": [
             [
              0,
              "#0d0887"
             ],
             [
              0.1111111111111111,
              "#46039f"
             ],
             [
              0.2222222222222222,
              "#7201a8"
             ],
             [
              0.3333333333333333,
              "#9c179e"
             ],
             [
              0.4444444444444444,
              "#bd3786"
             ],
             [
              0.5555555555555556,
              "#d8576b"
             ],
             [
              0.6666666666666666,
              "#ed7953"
             ],
             [
              0.7777777777777778,
              "#fb9f3a"
             ],
             [
              0.8888888888888888,
              "#fdca26"
             ],
             [
              1,
              "#f0f921"
             ]
            ],
            "type": "heatmapgl"
           }
          ],
          "histogram": [
           {
            "marker": {
             "colorbar": {
              "outlinewidth": 0,
              "ticks": ""
             }
            },
            "type": "histogram"
           }
          ],
          "histogram2d": [
           {
            "colorbar": {
             "outlinewidth": 0,
             "ticks": ""
            },
            "colorscale": [
             [
              0,
              "#0d0887"
             ],
             [
              0.1111111111111111,
              "#46039f"
             ],
             [
              0.2222222222222222,
              "#7201a8"
             ],
             [
              0.3333333333333333,
              "#9c179e"
             ],
             [
              0.4444444444444444,
              "#bd3786"
             ],
             [
              0.5555555555555556,
              "#d8576b"
             ],
             [
              0.6666666666666666,
              "#ed7953"
             ],
             [
              0.7777777777777778,
              "#fb9f3a"
             ],
             [
              0.8888888888888888,
              "#fdca26"
             ],
             [
              1,
              "#f0f921"
             ]
            ],
            "type": "histogram2d"
           }
          ],
          "histogram2dcontour": [
           {
            "colorbar": {
             "outlinewidth": 0,
             "ticks": ""
            },
            "colorscale": [
             [
              0,
              "#0d0887"
             ],
             [
              0.1111111111111111,
              "#46039f"
             ],
             [
              0.2222222222222222,
              "#7201a8"
             ],
             [
              0.3333333333333333,
              "#9c179e"
             ],
             [
              0.4444444444444444,
              "#bd3786"
             ],
             [
              0.5555555555555556,
              "#d8576b"
             ],
             [
              0.6666666666666666,
              "#ed7953"
             ],
             [
              0.7777777777777778,
              "#fb9f3a"
             ],
             [
              0.8888888888888888,
              "#fdca26"
             ],
             [
              1,
              "#f0f921"
             ]
            ],
            "type": "histogram2dcontour"
           }
          ],
          "mesh3d": [
           {
            "colorbar": {
             "outlinewidth": 0,
             "ticks": ""
            },
            "type": "mesh3d"
           }
          ],
          "parcoords": [
           {
            "line": {
             "colorbar": {
              "outlinewidth": 0,
              "ticks": ""
             }
            },
            "type": "parcoords"
           }
          ],
          "pie": [
           {
            "automargin": true,
            "type": "pie"
           }
          ],
          "scatter": [
           {
            "marker": {
             "colorbar": {
              "outlinewidth": 0,
              "ticks": ""
             }
            },
            "type": "scatter"
           }
          ],
          "scatter3d": [
           {
            "line": {
             "colorbar": {
              "outlinewidth": 0,
              "ticks": ""
             }
            },
            "marker": {
             "colorbar": {
              "outlinewidth": 0,
              "ticks": ""
             }
            },
            "type": "scatter3d"
           }
          ],
          "scattercarpet": [
           {
            "marker": {
             "colorbar": {
              "outlinewidth": 0,
              "ticks": ""
             }
            },
            "type": "scattercarpet"
           }
          ],
          "scattergeo": [
           {
            "marker": {
             "colorbar": {
              "outlinewidth": 0,
              "ticks": ""
             }
            },
            "type": "scattergeo"
           }
          ],
          "scattergl": [
           {
            "marker": {
             "colorbar": {
              "outlinewidth": 0,
              "ticks": ""
             }
            },
            "type": "scattergl"
           }
          ],
          "scattermapbox": [
           {
            "marker": {
             "colorbar": {
              "outlinewidth": 0,
              "ticks": ""
             }
            },
            "type": "scattermapbox"
           }
          ],
          "scatterpolar": [
           {
            "marker": {
             "colorbar": {
              "outlinewidth": 0,
              "ticks": ""
             }
            },
            "type": "scatterpolar"
           }
          ],
          "scatterpolargl": [
           {
            "marker": {
             "colorbar": {
              "outlinewidth": 0,
              "ticks": ""
             }
            },
            "type": "scatterpolargl"
           }
          ],
          "scatterternary": [
           {
            "marker": {
             "colorbar": {
              "outlinewidth": 0,
              "ticks": ""
             }
            },
            "type": "scatterternary"
           }
          ],
          "surface": [
           {
            "colorbar": {
             "outlinewidth": 0,
             "ticks": ""
            },
            "colorscale": [
             [
              0,
              "#0d0887"
             ],
             [
              0.1111111111111111,
              "#46039f"
             ],
             [
              0.2222222222222222,
              "#7201a8"
             ],
             [
              0.3333333333333333,
              "#9c179e"
             ],
             [
              0.4444444444444444,
              "#bd3786"
             ],
             [
              0.5555555555555556,
              "#d8576b"
             ],
             [
              0.6666666666666666,
              "#ed7953"
             ],
             [
              0.7777777777777778,
              "#fb9f3a"
             ],
             [
              0.8888888888888888,
              "#fdca26"
             ],
             [
              1,
              "#f0f921"
             ]
            ],
            "type": "surface"
           }
          ],
          "table": [
           {
            "cells": {
             "fill": {
              "color": "#EBF0F8"
             },
             "line": {
              "color": "white"
             }
            },
            "header": {
             "fill": {
              "color": "#C8D4E3"
             },
             "line": {
              "color": "white"
             }
            },
            "type": "table"
           }
          ]
         },
         "layout": {
          "annotationdefaults": {
           "arrowcolor": "#2a3f5f",
           "arrowhead": 0,
           "arrowwidth": 1
          },
          "autotypenumbers": "strict",
          "coloraxis": {
           "colorbar": {
            "outlinewidth": 0,
            "ticks": ""
           }
          },
          "colorscale": {
           "diverging": [
            [
             0,
             "#8e0152"
            ],
            [
             0.1,
             "#c51b7d"
            ],
            [
             0.2,
             "#de77ae"
            ],
            [
             0.3,
             "#f1b6da"
            ],
            [
             0.4,
             "#fde0ef"
            ],
            [
             0.5,
             "#f7f7f7"
            ],
            [
             0.6,
             "#e6f5d0"
            ],
            [
             0.7,
             "#b8e186"
            ],
            [
             0.8,
             "#7fbc41"
            ],
            [
             0.9,
             "#4d9221"
            ],
            [
             1,
             "#276419"
            ]
           ],
           "sequential": [
            [
             0,
             "#0d0887"
            ],
            [
             0.1111111111111111,
             "#46039f"
            ],
            [
             0.2222222222222222,
             "#7201a8"
            ],
            [
             0.3333333333333333,
             "#9c179e"
            ],
            [
             0.4444444444444444,
             "#bd3786"
            ],
            [
             0.5555555555555556,
             "#d8576b"
            ],
            [
             0.6666666666666666,
             "#ed7953"
            ],
            [
             0.7777777777777778,
             "#fb9f3a"
            ],
            [
             0.8888888888888888,
             "#fdca26"
            ],
            [
             1,
             "#f0f921"
            ]
           ],
           "sequentialminus": [
            [
             0,
             "#0d0887"
            ],
            [
             0.1111111111111111,
             "#46039f"
            ],
            [
             0.2222222222222222,
             "#7201a8"
            ],
            [
             0.3333333333333333,
             "#9c179e"
            ],
            [
             0.4444444444444444,
             "#bd3786"
            ],
            [
             0.5555555555555556,
             "#d8576b"
            ],
            [
             0.6666666666666666,
             "#ed7953"
            ],
            [
             0.7777777777777778,
             "#fb9f3a"
            ],
            [
             0.8888888888888888,
             "#fdca26"
            ],
            [
             1,
             "#f0f921"
            ]
           ]
          },
          "colorway": [
           "#636efa",
           "#EF553B",
           "#00cc96",
           "#ab63fa",
           "#FFA15A",
           "#19d3f3",
           "#FF6692",
           "#B6E880",
           "#FF97FF",
           "#FECB52"
          ],
          "font": {
           "color": "#2a3f5f"
          },
          "geo": {
           "bgcolor": "white",
           "lakecolor": "white",
           "landcolor": "#E5ECF6",
           "showlakes": true,
           "showland": true,
           "subunitcolor": "white"
          },
          "hoverlabel": {
           "align": "left"
          },
          "hovermode": "closest",
          "mapbox": {
           "style": "light"
          },
          "paper_bgcolor": "white",
          "plot_bgcolor": "#E5ECF6",
          "polar": {
           "angularaxis": {
            "gridcolor": "white",
            "linecolor": "white",
            "ticks": ""
           },
           "bgcolor": "#E5ECF6",
           "radialaxis": {
            "gridcolor": "white",
            "linecolor": "white",
            "ticks": ""
           }
          },
          "scene": {
           "xaxis": {
            "backgroundcolor": "#E5ECF6",
            "gridcolor": "white",
            "gridwidth": 2,
            "linecolor": "white",
            "showbackground": true,
            "ticks": "",
            "zerolinecolor": "white"
           },
           "yaxis": {
            "backgroundcolor": "#E5ECF6",
            "gridcolor": "white",
            "gridwidth": 2,
            "linecolor": "white",
            "showbackground": true,
            "ticks": "",
            "zerolinecolor": "white"
           },
           "zaxis": {
            "backgroundcolor": "#E5ECF6",
            "gridcolor": "white",
            "gridwidth": 2,
            "linecolor": "white",
            "showbackground": true,
            "ticks": "",
            "zerolinecolor": "white"
           }
          },
          "shapedefaults": {
           "line": {
            "color": "#2a3f5f"
           }
          },
          "ternary": {
           "aaxis": {
            "gridcolor": "white",
            "linecolor": "white",
            "ticks": ""
           },
           "baxis": {
            "gridcolor": "white",
            "linecolor": "white",
            "ticks": ""
           },
           "bgcolor": "#E5ECF6",
           "caxis": {
            "gridcolor": "white",
            "linecolor": "white",
            "ticks": ""
           }
          },
          "title": {
           "x": 0.05
          },
          "xaxis": {
           "automargin": true,
           "gridcolor": "white",
           "linecolor": "white",
           "ticks": "",
           "title": {
            "standoff": 15
           },
           "zerolinecolor": "white",
           "zerolinewidth": 2
          },
          "yaxis": {
           "automargin": true,
           "gridcolor": "white",
           "linecolor": "white",
           "ticks": "",
           "title": {
            "standoff": 15
           },
           "zerolinecolor": "white",
           "zerolinewidth": 2
          }
         }
        }
       }
      },
      "text/html": [
       "<div>                            <div id=\"778c19fb-dbd1-4891-8575-cff75649a649\" class=\"plotly-graph-div\" style=\"height:525px; width:100%;\"></div>            <script type=\"text/javascript\">                require([\"plotly\"], function(Plotly) {                    window.PLOTLYENV=window.PLOTLYENV || {};                                    if (document.getElementById(\"778c19fb-dbd1-4891-8575-cff75649a649\")) {                    Plotly.newPlot(                        \"778c19fb-dbd1-4891-8575-cff75649a649\",                        [{\"colorbar\": {\"title\": {\"text\": \"Colorbar Title\"}}, \"colorscale\": [[0.0, \"rgb(12,51,131)\"], [0.25, \"rgb(10,136,186)\"], [0.5, \"rgb(242,211,56)\"], [0.75, \"rgb(242,143,56)\"], [1.0, \"rgb(217,30,30)\"]], \"locationmode\": \"USA-states\", \"locations\": [\"AZ\", \"CA\", \"NY\"], \"text\": [\"text1\", \"text2\", \"text3\"], \"type\": \"choropleth\", \"z\": [1, 2, 3]}],                        {\"geo\": {\"scope\": \"usa\"}, \"template\": {\"data\": {\"bar\": [{\"error_x\": {\"color\": \"#2a3f5f\"}, \"error_y\": {\"color\": \"#2a3f5f\"}, \"marker\": {\"line\": {\"color\": \"#E5ECF6\", \"width\": 0.5}}, \"type\": \"bar\"}], \"barpolar\": [{\"marker\": {\"line\": {\"color\": \"#E5ECF6\", \"width\": 0.5}}, \"type\": \"barpolar\"}], \"carpet\": [{\"aaxis\": {\"endlinecolor\": \"#2a3f5f\", \"gridcolor\": \"white\", \"linecolor\": \"white\", \"minorgridcolor\": \"white\", \"startlinecolor\": \"#2a3f5f\"}, \"baxis\": {\"endlinecolor\": \"#2a3f5f\", \"gridcolor\": \"white\", \"linecolor\": \"white\", \"minorgridcolor\": \"white\", \"startlinecolor\": \"#2a3f5f\"}, \"type\": \"carpet\"}], \"choropleth\": [{\"colorbar\": {\"outlinewidth\": 0, \"ticks\": \"\"}, \"type\": \"choropleth\"}], \"contour\": [{\"colorbar\": {\"outlinewidth\": 0, \"ticks\": \"\"}, \"colorscale\": [[0.0, \"#0d0887\"], [0.1111111111111111, \"#46039f\"], [0.2222222222222222, \"#7201a8\"], [0.3333333333333333, \"#9c179e\"], [0.4444444444444444, \"#bd3786\"], [0.5555555555555556, \"#d8576b\"], [0.6666666666666666, \"#ed7953\"], [0.7777777777777778, \"#fb9f3a\"], [0.8888888888888888, \"#fdca26\"], [1.0, \"#f0f921\"]], \"type\": \"contour\"}], \"contourcarpet\": [{\"colorbar\": {\"outlinewidth\": 0, \"ticks\": \"\"}, \"type\": \"contourcarpet\"}], \"heatmap\": [{\"colorbar\": {\"outlinewidth\": 0, \"ticks\": \"\"}, \"colorscale\": [[0.0, \"#0d0887\"], [0.1111111111111111, \"#46039f\"], [0.2222222222222222, \"#7201a8\"], [0.3333333333333333, \"#9c179e\"], [0.4444444444444444, \"#bd3786\"], [0.5555555555555556, \"#d8576b\"], [0.6666666666666666, \"#ed7953\"], [0.7777777777777778, \"#fb9f3a\"], [0.8888888888888888, \"#fdca26\"], [1.0, \"#f0f921\"]], \"type\": \"heatmap\"}], \"heatmapgl\": [{\"colorbar\": {\"outlinewidth\": 0, \"ticks\": \"\"}, \"colorscale\": [[0.0, \"#0d0887\"], [0.1111111111111111, \"#46039f\"], [0.2222222222222222, \"#7201a8\"], [0.3333333333333333, \"#9c179e\"], [0.4444444444444444, \"#bd3786\"], [0.5555555555555556, \"#d8576b\"], [0.6666666666666666, \"#ed7953\"], [0.7777777777777778, \"#fb9f3a\"], [0.8888888888888888, \"#fdca26\"], [1.0, \"#f0f921\"]], \"type\": \"heatmapgl\"}], \"histogram\": [{\"marker\": {\"colorbar\": {\"outlinewidth\": 0, \"ticks\": \"\"}}, \"type\": \"histogram\"}], \"histogram2d\": [{\"colorbar\": {\"outlinewidth\": 0, \"ticks\": \"\"}, \"colorscale\": [[0.0, \"#0d0887\"], [0.1111111111111111, \"#46039f\"], [0.2222222222222222, \"#7201a8\"], [0.3333333333333333, \"#9c179e\"], [0.4444444444444444, \"#bd3786\"], [0.5555555555555556, \"#d8576b\"], [0.6666666666666666, \"#ed7953\"], [0.7777777777777778, \"#fb9f3a\"], [0.8888888888888888, \"#fdca26\"], [1.0, \"#f0f921\"]], \"type\": \"histogram2d\"}], \"histogram2dcontour\": [{\"colorbar\": {\"outlinewidth\": 0, \"ticks\": \"\"}, \"colorscale\": [[0.0, \"#0d0887\"], [0.1111111111111111, \"#46039f\"], [0.2222222222222222, \"#7201a8\"], [0.3333333333333333, \"#9c179e\"], [0.4444444444444444, \"#bd3786\"], [0.5555555555555556, \"#d8576b\"], [0.6666666666666666, \"#ed7953\"], [0.7777777777777778, \"#fb9f3a\"], [0.8888888888888888, \"#fdca26\"], [1.0, \"#f0f921\"]], \"type\": \"histogram2dcontour\"}], \"mesh3d\": [{\"colorbar\": {\"outlinewidth\": 0, \"ticks\": \"\"}, \"type\": \"mesh3d\"}], \"parcoords\": [{\"line\": {\"colorbar\": {\"outlinewidth\": 0, \"ticks\": \"\"}}, \"type\": \"parcoords\"}], \"pie\": [{\"automargin\": true, \"type\": \"pie\"}], \"scatter\": [{\"marker\": {\"colorbar\": {\"outlinewidth\": 0, \"ticks\": \"\"}}, \"type\": \"scatter\"}], \"scatter3d\": [{\"line\": {\"colorbar\": {\"outlinewidth\": 0, \"ticks\": \"\"}}, \"marker\": {\"colorbar\": {\"outlinewidth\": 0, \"ticks\": \"\"}}, \"type\": \"scatter3d\"}], \"scattercarpet\": [{\"marker\": {\"colorbar\": {\"outlinewidth\": 0, \"ticks\": \"\"}}, \"type\": \"scattercarpet\"}], \"scattergeo\": [{\"marker\": {\"colorbar\": {\"outlinewidth\": 0, \"ticks\": \"\"}}, \"type\": \"scattergeo\"}], \"scattergl\": [{\"marker\": {\"colorbar\": {\"outlinewidth\": 0, \"ticks\": \"\"}}, \"type\": \"scattergl\"}], \"scattermapbox\": [{\"marker\": {\"colorbar\": {\"outlinewidth\": 0, \"ticks\": \"\"}}, \"type\": \"scattermapbox\"}], \"scatterpolar\": [{\"marker\": {\"colorbar\": {\"outlinewidth\": 0, \"ticks\": \"\"}}, \"type\": \"scatterpolar\"}], \"scatterpolargl\": [{\"marker\": {\"colorbar\": {\"outlinewidth\": 0, \"ticks\": \"\"}}, \"type\": \"scatterpolargl\"}], \"scatterternary\": [{\"marker\": {\"colorbar\": {\"outlinewidth\": 0, \"ticks\": \"\"}}, \"type\": \"scatterternary\"}], \"surface\": [{\"colorbar\": {\"outlinewidth\": 0, \"ticks\": \"\"}, \"colorscale\": [[0.0, \"#0d0887\"], [0.1111111111111111, \"#46039f\"], [0.2222222222222222, \"#7201a8\"], [0.3333333333333333, \"#9c179e\"], [0.4444444444444444, \"#bd3786\"], [0.5555555555555556, \"#d8576b\"], [0.6666666666666666, \"#ed7953\"], [0.7777777777777778, \"#fb9f3a\"], [0.8888888888888888, \"#fdca26\"], [1.0, \"#f0f921\"]], \"type\": \"surface\"}], \"table\": [{\"cells\": {\"fill\": {\"color\": \"#EBF0F8\"}, \"line\": {\"color\": \"white\"}}, \"header\": {\"fill\": {\"color\": \"#C8D4E3\"}, \"line\": {\"color\": \"white\"}}, \"type\": \"table\"}]}, \"layout\": {\"annotationdefaults\": {\"arrowcolor\": \"#2a3f5f\", \"arrowhead\": 0, \"arrowwidth\": 1}, \"autotypenumbers\": \"strict\", \"coloraxis\": {\"colorbar\": {\"outlinewidth\": 0, \"ticks\": \"\"}}, \"colorscale\": {\"diverging\": [[0, \"#8e0152\"], [0.1, \"#c51b7d\"], [0.2, \"#de77ae\"], [0.3, \"#f1b6da\"], [0.4, \"#fde0ef\"], [0.5, \"#f7f7f7\"], [0.6, \"#e6f5d0\"], [0.7, \"#b8e186\"], [0.8, \"#7fbc41\"], [0.9, \"#4d9221\"], [1, \"#276419\"]], \"sequential\": [[0.0, \"#0d0887\"], [0.1111111111111111, \"#46039f\"], [0.2222222222222222, \"#7201a8\"], [0.3333333333333333, \"#9c179e\"], [0.4444444444444444, \"#bd3786\"], [0.5555555555555556, \"#d8576b\"], [0.6666666666666666, \"#ed7953\"], [0.7777777777777778, \"#fb9f3a\"], [0.8888888888888888, \"#fdca26\"], [1.0, \"#f0f921\"]], \"sequentialminus\": [[0.0, \"#0d0887\"], [0.1111111111111111, \"#46039f\"], [0.2222222222222222, \"#7201a8\"], [0.3333333333333333, \"#9c179e\"], [0.4444444444444444, \"#bd3786\"], [0.5555555555555556, \"#d8576b\"], [0.6666666666666666, \"#ed7953\"], [0.7777777777777778, \"#fb9f3a\"], [0.8888888888888888, \"#fdca26\"], [1.0, \"#f0f921\"]]}, \"colorway\": [\"#636efa\", \"#EF553B\", \"#00cc96\", \"#ab63fa\", \"#FFA15A\", \"#19d3f3\", \"#FF6692\", \"#B6E880\", \"#FF97FF\", \"#FECB52\"], \"font\": {\"color\": \"#2a3f5f\"}, \"geo\": {\"bgcolor\": \"white\", \"lakecolor\": \"white\", \"landcolor\": \"#E5ECF6\", \"showlakes\": true, \"showland\": true, \"subunitcolor\": \"white\"}, \"hoverlabel\": {\"align\": \"left\"}, \"hovermode\": \"closest\", \"mapbox\": {\"style\": \"light\"}, \"paper_bgcolor\": \"white\", \"plot_bgcolor\": \"#E5ECF6\", \"polar\": {\"angularaxis\": {\"gridcolor\": \"white\", \"linecolor\": \"white\", \"ticks\": \"\"}, \"bgcolor\": \"#E5ECF6\", \"radialaxis\": {\"gridcolor\": \"white\", \"linecolor\": \"white\", \"ticks\": \"\"}}, \"scene\": {\"xaxis\": {\"backgroundcolor\": \"#E5ECF6\", \"gridcolor\": \"white\", \"gridwidth\": 2, \"linecolor\": \"white\", \"showbackground\": true, \"ticks\": \"\", \"zerolinecolor\": \"white\"}, \"yaxis\": {\"backgroundcolor\": \"#E5ECF6\", \"gridcolor\": \"white\", \"gridwidth\": 2, \"linecolor\": \"white\", \"showbackground\": true, \"ticks\": \"\", \"zerolinecolor\": \"white\"}, \"zaxis\": {\"backgroundcolor\": \"#E5ECF6\", \"gridcolor\": \"white\", \"gridwidth\": 2, \"linecolor\": \"white\", \"showbackground\": true, \"ticks\": \"\", \"zerolinecolor\": \"white\"}}, \"shapedefaults\": {\"line\": {\"color\": \"#2a3f5f\"}}, \"ternary\": {\"aaxis\": {\"gridcolor\": \"white\", \"linecolor\": \"white\", \"ticks\": \"\"}, \"baxis\": {\"gridcolor\": \"white\", \"linecolor\": \"white\", \"ticks\": \"\"}, \"bgcolor\": \"#E5ECF6\", \"caxis\": {\"gridcolor\": \"white\", \"linecolor\": \"white\", \"ticks\": \"\"}}, \"title\": {\"x\": 0.05}, \"xaxis\": {\"automargin\": true, \"gridcolor\": \"white\", \"linecolor\": \"white\", \"ticks\": \"\", \"title\": {\"standoff\": 15}, \"zerolinecolor\": \"white\", \"zerolinewidth\": 2}, \"yaxis\": {\"automargin\": true, \"gridcolor\": \"white\", \"linecolor\": \"white\", \"ticks\": \"\", \"title\": {\"standoff\": 15}, \"zerolinecolor\": \"white\", \"zerolinewidth\": 2}}}},                        {\"responsive\": true}                    ).then(function(){\n",
       "                            \n",
       "var gd = document.getElementById('778c19fb-dbd1-4891-8575-cff75649a649');\n",
       "var x = new MutationObserver(function (mutations, observer) {{\n",
       "        var display = window.getComputedStyle(gd).display;\n",
       "        if (!display || display === 'none') {{\n",
       "            console.log([gd, 'removed!']);\n",
       "            Plotly.purge(gd);\n",
       "            observer.disconnect();\n",
       "        }}\n",
       "}});\n",
       "\n",
       "// Listen for the removal of the full notebook cells\n",
       "var notebookContainer = gd.closest('#notebook-container');\n",
       "if (notebookContainer) {{\n",
       "    x.observe(notebookContainer, {childList: true});\n",
       "}}\n",
       "\n",
       "// Listen for the clearing of the current output cell\n",
       "var outputEl = gd.closest('.output');\n",
       "if (outputEl) {{\n",
       "    x.observe(outputEl, {childList: true});\n",
       "}}\n",
       "\n",
       "                        })                };                });            </script>        </div>"
      ]
     },
     "metadata": {},
     "output_type": "display_data"
    }
   ],
   "source": [
    "iplot(choromap)"
   ]
  },
  {
   "cell_type": "markdown",
   "id": "08bad98f",
   "metadata": {},
   "source": [
    "### Real Data US Map Choropleth"
   ]
  },
  {
   "cell_type": "code",
   "execution_count": 56,
   "id": "0bf4c92e",
   "metadata": {
    "scrolled": false
   },
   "outputs": [
    {
     "data": {
      "text/html": [
       "<div>\n",
       "<style scoped>\n",
       "    .dataframe tbody tr th:only-of-type {\n",
       "        vertical-align: middle;\n",
       "    }\n",
       "\n",
       "    .dataframe tbody tr th {\n",
       "        vertical-align: top;\n",
       "    }\n",
       "\n",
       "    .dataframe thead th {\n",
       "        text-align: right;\n",
       "    }\n",
       "</style>\n",
       "<table border=\"1\" class=\"dataframe\">\n",
       "  <thead>\n",
       "    <tr style=\"text-align: right;\">\n",
       "      <th></th>\n",
       "      <th>code</th>\n",
       "      <th>state</th>\n",
       "      <th>category</th>\n",
       "      <th>total exports</th>\n",
       "      <th>beef</th>\n",
       "      <th>pork</th>\n",
       "      <th>poultry</th>\n",
       "      <th>dairy</th>\n",
       "      <th>fruits fresh</th>\n",
       "      <th>fruits proc</th>\n",
       "      <th>total fruits</th>\n",
       "      <th>veggies fresh</th>\n",
       "      <th>veggies proc</th>\n",
       "      <th>total veggies</th>\n",
       "      <th>corn</th>\n",
       "      <th>wheat</th>\n",
       "      <th>cotton</th>\n",
       "      <th>text</th>\n",
       "    </tr>\n",
       "  </thead>\n",
       "  <tbody>\n",
       "    <tr>\n",
       "      <th>0</th>\n",
       "      <td>AL</td>\n",
       "      <td>Alabama</td>\n",
       "      <td>state</td>\n",
       "      <td>1390.63</td>\n",
       "      <td>34.4</td>\n",
       "      <td>10.6</td>\n",
       "      <td>481.0</td>\n",
       "      <td>4.06</td>\n",
       "      <td>8.0</td>\n",
       "      <td>17.1</td>\n",
       "      <td>25.11</td>\n",
       "      <td>5.5</td>\n",
       "      <td>8.9</td>\n",
       "      <td>14.33</td>\n",
       "      <td>34.9</td>\n",
       "      <td>70.0</td>\n",
       "      <td>317.61</td>\n",
       "      <td>Alabama&lt;br&gt;Beef 34.4 Dairy 4.06&lt;br&gt;Fruits 25.1...</td>\n",
       "    </tr>\n",
       "    <tr>\n",
       "      <th>1</th>\n",
       "      <td>AK</td>\n",
       "      <td>Alaska</td>\n",
       "      <td>state</td>\n",
       "      <td>13.31</td>\n",
       "      <td>0.2</td>\n",
       "      <td>0.1</td>\n",
       "      <td>0.0</td>\n",
       "      <td>0.19</td>\n",
       "      <td>0.0</td>\n",
       "      <td>0.0</td>\n",
       "      <td>0.00</td>\n",
       "      <td>0.6</td>\n",
       "      <td>1.0</td>\n",
       "      <td>1.56</td>\n",
       "      <td>0.0</td>\n",
       "      <td>0.0</td>\n",
       "      <td>0.00</td>\n",
       "      <td>Alaska&lt;br&gt;Beef 0.2 Dairy 0.19&lt;br&gt;Fruits 0.0 Ve...</td>\n",
       "    </tr>\n",
       "    <tr>\n",
       "      <th>2</th>\n",
       "      <td>AZ</td>\n",
       "      <td>Arizona</td>\n",
       "      <td>state</td>\n",
       "      <td>1463.17</td>\n",
       "      <td>71.3</td>\n",
       "      <td>17.9</td>\n",
       "      <td>0.0</td>\n",
       "      <td>105.48</td>\n",
       "      <td>19.3</td>\n",
       "      <td>41.0</td>\n",
       "      <td>60.27</td>\n",
       "      <td>147.5</td>\n",
       "      <td>239.4</td>\n",
       "      <td>386.91</td>\n",
       "      <td>7.3</td>\n",
       "      <td>48.7</td>\n",
       "      <td>423.95</td>\n",
       "      <td>Arizona&lt;br&gt;Beef 71.3 Dairy 105.48&lt;br&gt;Fruits 60...</td>\n",
       "    </tr>\n",
       "    <tr>\n",
       "      <th>3</th>\n",
       "      <td>AR</td>\n",
       "      <td>Arkansas</td>\n",
       "      <td>state</td>\n",
       "      <td>3586.02</td>\n",
       "      <td>53.2</td>\n",
       "      <td>29.4</td>\n",
       "      <td>562.9</td>\n",
       "      <td>3.53</td>\n",
       "      <td>2.2</td>\n",
       "      <td>4.7</td>\n",
       "      <td>6.88</td>\n",
       "      <td>4.4</td>\n",
       "      <td>7.1</td>\n",
       "      <td>11.45</td>\n",
       "      <td>69.5</td>\n",
       "      <td>114.5</td>\n",
       "      <td>665.44</td>\n",
       "      <td>Arkansas&lt;br&gt;Beef 53.2 Dairy 3.53&lt;br&gt;Fruits 6.8...</td>\n",
       "    </tr>\n",
       "    <tr>\n",
       "      <th>4</th>\n",
       "      <td>CA</td>\n",
       "      <td>California</td>\n",
       "      <td>state</td>\n",
       "      <td>16472.88</td>\n",
       "      <td>228.7</td>\n",
       "      <td>11.1</td>\n",
       "      <td>225.4</td>\n",
       "      <td>929.95</td>\n",
       "      <td>2791.8</td>\n",
       "      <td>5944.6</td>\n",
       "      <td>8736.40</td>\n",
       "      <td>803.2</td>\n",
       "      <td>1303.5</td>\n",
       "      <td>2106.79</td>\n",
       "      <td>34.6</td>\n",
       "      <td>249.3</td>\n",
       "      <td>1064.95</td>\n",
       "      <td>California&lt;br&gt;Beef 228.7 Dairy 929.95&lt;br&gt;Frui...</td>\n",
       "    </tr>\n",
       "  </tbody>\n",
       "</table>\n",
       "</div>"
      ],
      "text/plain": [
       "  code        state category  total exports   beef  pork  poultry   dairy  \\\n",
       "0   AL      Alabama    state        1390.63   34.4  10.6    481.0    4.06   \n",
       "1   AK       Alaska    state          13.31    0.2   0.1      0.0    0.19   \n",
       "2   AZ      Arizona    state        1463.17   71.3  17.9      0.0  105.48   \n",
       "3   AR     Arkansas    state        3586.02   53.2  29.4    562.9    3.53   \n",
       "4   CA   California    state       16472.88  228.7  11.1    225.4  929.95   \n",
       "\n",
       "   fruits fresh  fruits proc  total fruits  veggies fresh  veggies proc  \\\n",
       "0           8.0         17.1         25.11            5.5           8.9   \n",
       "1           0.0          0.0          0.00            0.6           1.0   \n",
       "2          19.3         41.0         60.27          147.5         239.4   \n",
       "3           2.2          4.7          6.88            4.4           7.1   \n",
       "4        2791.8       5944.6       8736.40          803.2        1303.5   \n",
       "\n",
       "   total veggies  corn  wheat   cotton  \\\n",
       "0          14.33  34.9   70.0   317.61   \n",
       "1           1.56   0.0    0.0     0.00   \n",
       "2         386.91   7.3   48.7   423.95   \n",
       "3          11.45  69.5  114.5   665.44   \n",
       "4        2106.79  34.6  249.3  1064.95   \n",
       "\n",
       "                                                text  \n",
       "0  Alabama<br>Beef 34.4 Dairy 4.06<br>Fruits 25.1...  \n",
       "1  Alaska<br>Beef 0.2 Dairy 0.19<br>Fruits 0.0 Ve...  \n",
       "2  Arizona<br>Beef 71.3 Dairy 105.48<br>Fruits 60...  \n",
       "3  Arkansas<br>Beef 53.2 Dairy 3.53<br>Fruits 6.8...  \n",
       "4   California<br>Beef 228.7 Dairy 929.95<br>Frui...  "
      ]
     },
     "execution_count": 56,
     "metadata": {},
     "output_type": "execute_result"
    }
   ],
   "source": [
    "US_AGRI = pd.read_csv('2011_US_AGRI_Exports')\n",
    "US_AGRI.head()"
   ]
  },
  {
   "cell_type": "markdown",
   "id": "228069f9",
   "metadata": {},
   "source": [
    "Now out data dictionary with some extra marker and colorbar arguments:"
   ]
  },
  {
   "cell_type": "code",
   "execution_count": 57,
   "id": "0358a9d2",
   "metadata": {},
   "outputs": [],
   "source": [
    "data = dict(type='choropleth',\n",
    "            locations = US_AGRI['code'],\n",
    "            locationmode = 'USA-states',\n",
    "            colorscale = \"ylorrd\",\n",
    "            z = US_AGRI['total exports'],\n",
    "            text = US_AGRI['text'],\n",
    "            marker = dict(line = dict(color = 'rgb(255,255,255)',width = 2)),\n",
    "            colorbar = {'title':\"Millions USD\"}\n",
    "            ) "
   ]
  },
  {
   "cell_type": "markdown",
   "id": "b740eec5",
   "metadata": {},
   "source": [
    "And our layout dictionary with some more arguments:"
   ]
  },
  {
   "cell_type": "code",
   "execution_count": 58,
   "id": "f59c17bc",
   "metadata": {},
   "outputs": [],
   "source": [
    "layout = dict(title = '2011 US Agriculture Exports by State',\n",
    "              geo = dict(scope='usa',\n",
    "                         showlakes = True,\n",
    "                         lakecolor = 'rgb(85,173,240)')\n",
    "             )"
   ]
  },
  {
   "cell_type": "code",
   "execution_count": 59,
   "id": "446d1eb6",
   "metadata": {},
   "outputs": [],
   "source": [
    "choromap = go.Figure(data = [data],layout = layout)"
   ]
  },
  {
   "cell_type": "code",
   "execution_count": 60,
   "id": "9b783b37",
   "metadata": {},
   "outputs": [
    {
     "data": {
      "application/vnd.plotly.v1+json": {
       "config": {
        "linkText": "Export to plot.ly",
        "plotlyServerURL": "https://plot.ly",
        "showLink": false
       },
       "data": [
        {
         "colorbar": {
          "title": {
           "text": "Millions USD"
          }
         },
         "colorscale": [
          [
           0,
           "rgb(255,255,204)"
          ],
          [
           0.125,
           "rgb(255,237,160)"
          ],
          [
           0.25,
           "rgb(254,217,118)"
          ],
          [
           0.375,
           "rgb(254,178,76)"
          ],
          [
           0.5,
           "rgb(253,141,60)"
          ],
          [
           0.625,
           "rgb(252,78,42)"
          ],
          [
           0.75,
           "rgb(227,26,28)"
          ],
          [
           0.875,
           "rgb(189,0,38)"
          ],
          [
           1,
           "rgb(128,0,38)"
          ]
         ],
         "locationmode": "USA-states",
         "locations": [
          "AL",
          "AK",
          "AZ",
          "AR",
          "CA",
          "CO",
          "CT",
          "DE",
          "FL",
          "GA",
          "HI",
          "ID",
          "IL",
          "IN",
          "IA",
          "KS",
          "KY",
          "LA",
          "ME",
          "MD",
          "MA",
          "MI",
          "MN",
          "MS",
          "MO",
          "MT",
          "NE",
          "NV",
          "NH",
          "NJ",
          "NM",
          "NY",
          "NC",
          "ND",
          "OH",
          "OK",
          "OR",
          "PA",
          "RI",
          "SC",
          "SD",
          "TN",
          "TX",
          "UT",
          "VT",
          "VA",
          "WA",
          "WV",
          "WI",
          "WY"
         ],
         "marker": {
          "line": {
           "color": "rgb(255,255,255)",
           "width": 2
          }
         },
         "text": [
          "Alabama<br>Beef 34.4 Dairy 4.06<br>Fruits 25.11 Veggies 14.33<br>Wheat 70.0 Corn 34.9",
          "Alaska<br>Beef 0.2 Dairy 0.19<br>Fruits 0.0 Veggies 1.56<br>Wheat 0.0 Corn 0.0",
          "Arizona<br>Beef 71.3 Dairy 105.48<br>Fruits 60.27 Veggies 386.91<br>Wheat 48.7 Corn 7.3",
          "Arkansas<br>Beef 53.2 Dairy 3.53<br>Fruits 6.88 Veggies 11.45<br>Wheat 114.5 Corn 69.5",
          " California<br>Beef 228.7 Dairy 929.95<br>Fruits 8736.4 Veggies 2106.79<br>Wheat 249.3 Corn 34.6",
          "Colorado<br>Beef 261.4 Dairy 71.94<br>Fruits 17.99 Veggies 118.27<br>Wheat 400.5 Corn 183.2",
          "Connecticut<br>Beef 1.1 Dairy 9.49<br>Fruits 13.1 Veggies 11.16<br>Wheat 0.0 Corn 0.0",
          "Delaware<br>Beef 0.4 Dairy 2.3<br>Fruits 1.53 Veggies 20.03<br>Wheat 22.9 Corn 26.9",
          "Florida<br>Beef 42.6 Dairy 66.31<br>Fruits 1371.36 Veggies 450.86<br>Wheat 1.8 Corn 3.5",
          "Georgia<br>Beef 31.0 Dairy 38.38<br>Fruits 233.51 Veggies 154.77<br>Wheat 65.4 Corn 57.8",
          "Hawaii<br>Beef 4.0 Dairy 1.16<br>Fruits 55.51 Veggies 24.83<br>Wheat 0.0 Corn 0.0",
          "Idaho<br>Beef 119.8 Dairy 294.6<br>Fruits 21.64 Veggies 319.19<br>Wheat 568.2 Corn 24.0",
          "Illinois<br>Beef 53.7 Dairy 45.82<br>Fruits 12.53 Veggies 39.95<br>Wheat 223.8 Corn 2228.5",
          "Indiana<br>Beef 21.9 Dairy 89.7<br>Fruits 12.98 Veggies 37.89<br>Wheat 114.0 Corn 1123.2",
          "Iowa<br>Beef 289.8 Dairy 107.0<br>Fruits 3.24 Veggies 7.1<br>Wheat 3.1 Corn 2529.8",
          "Kansas<br>Beef 659.3 Dairy 65.45<br>Fruits 3.11 Veggies 9.32<br>Wheat 1426.5 Corn 457.3",
          "Kentucky<br>Beef 54.8 Dairy 28.27<br>Fruits 6.6 Veggies 0.0<br>Wheat 149.3 Corn 179.1",
          "Louisiana<br>Beef 19.8 Dairy 6.02<br>Fruits 17.83 Veggies 17.25<br>Wheat 78.7 Corn 91.4",
          "Maine<br>Beef 1.4 Dairy 16.18<br>Fruits 52.01 Veggies 62.9<br>Wheat 0.0 Corn 0.0",
          "Maryland<br>Beef 5.6 Dairy 24.81<br>Fruits 12.9 Veggies 20.43<br>Wheat 55.8 Corn 54.1",
          "Massachusetts<br>Beef 0.6 Dairy 5.81<br>Fruits 80.83 Veggies 21.13<br>Wheat 0.0 Corn 0.0",
          "Michigan<br>Beef 37.7 Dairy 214.82<br>Fruits 257.69 Veggies 189.96<br>Wheat 247.0 Corn 381.5",
          "Minnesota<br>Beef 112.3 Dairy 218.05<br>Fruits 7.91 Veggies 120.37<br>Wheat 538.1 Corn 1264.3",
          "Mississippi<br>Beef 12.8 Dairy 5.45<br>Fruits 17.04 Veggies 27.87<br>Wheat 102.2 Corn 110.0",
          "Missouri<br>Beef 137.2 Dairy 34.26<br>Fruits 13.18 Veggies 17.9<br>Wheat 161.7 Corn 428.8",
          "Montana<br>Beef 105.0 Dairy 6.82<br>Fruits 3.3 Veggies 45.27<br>Wheat 1198.1 Corn 5.4",
          "Nebraska<br>Beef 762.2 Dairy 30.07<br>Fruits 2.16 Veggies 53.5<br>Wheat 292.3 Corn 1735.9",
          "Nevada<br>Beef 21.8 Dairy 16.57<br>Fruits 1.19 Veggies 27.93<br>Wheat 5.4 Corn 0.0",
          "New Hampshire<br>Beef 0.6 Dairy 7.46<br>Fruits 7.98 Veggies 4.5<br>Wheat 0.0 Corn 0.0",
          "New Jersey<br>Beef 0.8 Dairy 3.37<br>Fruits 109.45 Veggies 56.54<br>Wheat 6.7 Corn 10.1",
          "New Mexico<br>Beef 117.2 Dairy 191.01<br>Fruits 101.9 Veggies 43.88<br>Wheat 13.9 Corn 11.2",
          "New York<br>Beef 22.2 Dairy 331.8<br>Fruits 202.56 Veggies 143.37<br>Wheat 29.9 Corn 106.1",
          "North Carolina<br>Beef 24.8 Dairy 24.9<br>Fruits 74.47 Veggies 150.45<br>Wheat 200.3 Corn 92.2",
          "North Dakota<br>Beef 78.5 Dairy 8.14<br>Fruits 0.25 Veggies 130.79<br>Wheat 1664.5 Corn 236.1",
          "Ohio<br>Beef 36.2 Dairy 134.57<br>Fruits 27.21 Veggies 53.53<br>Wheat 207.4 Corn 535.1",
          "Oklahoma<br>Beef 337.6 Dairy 24.35<br>Fruits 9.24 Veggies 8.9<br>Wheat 324.8 Corn 27.5",
          "Oregon<br>Beef 58.8 Dairy 63.66<br>Fruits 315.04 Veggies 126.5<br>Wheat 320.3 Corn 11.7",
          "Pennsylvania<br>Beef 50.9 Dairy 280.87<br>Fruits 89.48 Veggies 38.26<br>Wheat 41.0 Corn 112.1",
          "Rhode Island<br>Beef 0.1 Dairy 0.52<br>Fruits 2.83 Veggies 3.02<br>Wheat 0.0 Corn 0.0",
          "South Carolina<br>Beef 15.2 Dairy 7.62<br>Fruits 53.45 Veggies 42.66<br>Wheat 55.3 Corn 32.1",
          "South Dakota<br>Beef 193.5 Dairy 46.77<br>Fruits 0.8 Veggies 4.06<br>Wheat 704.5 Corn 643.6",
          "Tennessee<br>Beef 51.1 Dairy 21.18<br>Fruits 6.23 Veggies 24.67<br>Wheat 100.0 Corn 88.8",
          "Texas<br>Beef 961.0 Dairy 240.55<br>Fruits 99.9 Veggies 115.23<br>Wheat 309.7 Corn 167.2",
          "Utah<br>Beef 27.9 Dairy 48.6<br>Fruits 12.34 Veggies 6.6<br>Wheat 42.8 Corn 5.3",
          "Vermont<br>Beef 6.2 Dairy 65.98<br>Fruits 8.01 Veggies 4.05<br>Wheat 0.0 Corn 0.0",
          "Virginia<br>Beef 39.5 Dairy 47.85<br>Fruits 36.48 Veggies 27.25<br>Wheat 77.5 Corn 39.5",
          "Washington<br>Beef 59.2 Dairy 154.18<br>Fruits 1738.57 Veggies 363.79<br>Wheat 786.3 Corn 29.5",
          "West Virginia<br>Beef 12.0 Dairy 3.9<br>Fruits 11.54 Veggies 0.0<br>Wheat 1.6 Corn 3.5",
          "Wisconsin<br>Beef 107.3 Dairy 633.6<br>Fruits 133.8 Veggies 148.99<br>Wheat 96.7 Corn 460.5",
          "Wyoming<br>Beef 75.1 Dairy 2.89<br>Fruits 0.17 Veggies 10.23<br>Wheat 20.7 Corn 9.0"
         ],
         "type": "choropleth",
         "z": [
          1390.63,
          13.31,
          1463.17,
          3586.02,
          16472.88,
          1851.33,
          259.62,
          282.19,
          3764.09,
          2860.84,
          401.84,
          2078.89,
          8709.48,
          5050.23,
          11273.76,
          4589.01,
          1889.15,
          1914.23,
          278.37,
          692.75,
          248.65,
          3164.16,
          7192.33,
          2170.8,
          3933.42,
          1718,
          7114.13,
          139.89,
          73.06,
          500.4,
          751.58,
          1488.9,
          3806.05,
          3761.96,
          3979.79,
          1646.41,
          1794.57,
          1969.87,
          31.59,
          929.93,
          3770.19,
          1535.13,
          6648.22,
          453.39,
          180.14,
          1146.48,
          3894.81,
          138.89,
          3090.23,
          349.69
         ]
        }
       ],
       "layout": {
        "geo": {
         "lakecolor": "rgb(85,173,240)",
         "scope": "usa",
         "showlakes": true
        },
        "template": {
         "data": {
          "bar": [
           {
            "error_x": {
             "color": "#2a3f5f"
            },
            "error_y": {
             "color": "#2a3f5f"
            },
            "marker": {
             "line": {
              "color": "#E5ECF6",
              "width": 0.5
             }
            },
            "type": "bar"
           }
          ],
          "barpolar": [
           {
            "marker": {
             "line": {
              "color": "#E5ECF6",
              "width": 0.5
             }
            },
            "type": "barpolar"
           }
          ],
          "carpet": [
           {
            "aaxis": {
             "endlinecolor": "#2a3f5f",
             "gridcolor": "white",
             "linecolor": "white",
             "minorgridcolor": "white",
             "startlinecolor": "#2a3f5f"
            },
            "baxis": {
             "endlinecolor": "#2a3f5f",
             "gridcolor": "white",
             "linecolor": "white",
             "minorgridcolor": "white",
             "startlinecolor": "#2a3f5f"
            },
            "type": "carpet"
           }
          ],
          "choropleth": [
           {
            "colorbar": {
             "outlinewidth": 0,
             "ticks": ""
            },
            "type": "choropleth"
           }
          ],
          "contour": [
           {
            "colorbar": {
             "outlinewidth": 0,
             "ticks": ""
            },
            "colorscale": [
             [
              0,
              "#0d0887"
             ],
             [
              0.1111111111111111,
              "#46039f"
             ],
             [
              0.2222222222222222,
              "#7201a8"
             ],
             [
              0.3333333333333333,
              "#9c179e"
             ],
             [
              0.4444444444444444,
              "#bd3786"
             ],
             [
              0.5555555555555556,
              "#d8576b"
             ],
             [
              0.6666666666666666,
              "#ed7953"
             ],
             [
              0.7777777777777778,
              "#fb9f3a"
             ],
             [
              0.8888888888888888,
              "#fdca26"
             ],
             [
              1,
              "#f0f921"
             ]
            ],
            "type": "contour"
           }
          ],
          "contourcarpet": [
           {
            "colorbar": {
             "outlinewidth": 0,
             "ticks": ""
            },
            "type": "contourcarpet"
           }
          ],
          "heatmap": [
           {
            "colorbar": {
             "outlinewidth": 0,
             "ticks": ""
            },
            "colorscale": [
             [
              0,
              "#0d0887"
             ],
             [
              0.1111111111111111,
              "#46039f"
             ],
             [
              0.2222222222222222,
              "#7201a8"
             ],
             [
              0.3333333333333333,
              "#9c179e"
             ],
             [
              0.4444444444444444,
              "#bd3786"
             ],
             [
              0.5555555555555556,
              "#d8576b"
             ],
             [
              0.6666666666666666,
              "#ed7953"
             ],
             [
              0.7777777777777778,
              "#fb9f3a"
             ],
             [
              0.8888888888888888,
              "#fdca26"
             ],
             [
              1,
              "#f0f921"
             ]
            ],
            "type": "heatmap"
           }
          ],
          "heatmapgl": [
           {
            "colorbar": {
             "outlinewidth": 0,
             "ticks": ""
            },
            "colorscale": [
             [
              0,
              "#0d0887"
             ],
             [
              0.1111111111111111,
              "#46039f"
             ],
             [
              0.2222222222222222,
              "#7201a8"
             ],
             [
              0.3333333333333333,
              "#9c179e"
             ],
             [
              0.4444444444444444,
              "#bd3786"
             ],
             [
              0.5555555555555556,
              "#d8576b"
             ],
             [
              0.6666666666666666,
              "#ed7953"
             ],
             [
              0.7777777777777778,
              "#fb9f3a"
             ],
             [
              0.8888888888888888,
              "#fdca26"
             ],
             [
              1,
              "#f0f921"
             ]
            ],
            "type": "heatmapgl"
           }
          ],
          "histogram": [
           {
            "marker": {
             "colorbar": {
              "outlinewidth": 0,
              "ticks": ""
             }
            },
            "type": "histogram"
           }
          ],
          "histogram2d": [
           {
            "colorbar": {
             "outlinewidth": 0,
             "ticks": ""
            },
            "colorscale": [
             [
              0,
              "#0d0887"
             ],
             [
              0.1111111111111111,
              "#46039f"
             ],
             [
              0.2222222222222222,
              "#7201a8"
             ],
             [
              0.3333333333333333,
              "#9c179e"
             ],
             [
              0.4444444444444444,
              "#bd3786"
             ],
             [
              0.5555555555555556,
              "#d8576b"
             ],
             [
              0.6666666666666666,
              "#ed7953"
             ],
             [
              0.7777777777777778,
              "#fb9f3a"
             ],
             [
              0.8888888888888888,
              "#fdca26"
             ],
             [
              1,
              "#f0f921"
             ]
            ],
            "type": "histogram2d"
           }
          ],
          "histogram2dcontour": [
           {
            "colorbar": {
             "outlinewidth": 0,
             "ticks": ""
            },
            "colorscale": [
             [
              0,
              "#0d0887"
             ],
             [
              0.1111111111111111,
              "#46039f"
             ],
             [
              0.2222222222222222,
              "#7201a8"
             ],
             [
              0.3333333333333333,
              "#9c179e"
             ],
             [
              0.4444444444444444,
              "#bd3786"
             ],
             [
              0.5555555555555556,
              "#d8576b"
             ],
             [
              0.6666666666666666,
              "#ed7953"
             ],
             [
              0.7777777777777778,
              "#fb9f3a"
             ],
             [
              0.8888888888888888,
              "#fdca26"
             ],
             [
              1,
              "#f0f921"
             ]
            ],
            "type": "histogram2dcontour"
           }
          ],
          "mesh3d": [
           {
            "colorbar": {
             "outlinewidth": 0,
             "ticks": ""
            },
            "type": "mesh3d"
           }
          ],
          "parcoords": [
           {
            "line": {
             "colorbar": {
              "outlinewidth": 0,
              "ticks": ""
             }
            },
            "type": "parcoords"
           }
          ],
          "pie": [
           {
            "automargin": true,
            "type": "pie"
           }
          ],
          "scatter": [
           {
            "marker": {
             "colorbar": {
              "outlinewidth": 0,
              "ticks": ""
             }
            },
            "type": "scatter"
           }
          ],
          "scatter3d": [
           {
            "line": {
             "colorbar": {
              "outlinewidth": 0,
              "ticks": ""
             }
            },
            "marker": {
             "colorbar": {
              "outlinewidth": 0,
              "ticks": ""
             }
            },
            "type": "scatter3d"
           }
          ],
          "scattercarpet": [
           {
            "marker": {
             "colorbar": {
              "outlinewidth": 0,
              "ticks": ""
             }
            },
            "type": "scattercarpet"
           }
          ],
          "scattergeo": [
           {
            "marker": {
             "colorbar": {
              "outlinewidth": 0,
              "ticks": ""
             }
            },
            "type": "scattergeo"
           }
          ],
          "scattergl": [
           {
            "marker": {
             "colorbar": {
              "outlinewidth": 0,
              "ticks": ""
             }
            },
            "type": "scattergl"
           }
          ],
          "scattermapbox": [
           {
            "marker": {
             "colorbar": {
              "outlinewidth": 0,
              "ticks": ""
             }
            },
            "type": "scattermapbox"
           }
          ],
          "scatterpolar": [
           {
            "marker": {
             "colorbar": {
              "outlinewidth": 0,
              "ticks": ""
             }
            },
            "type": "scatterpolar"
           }
          ],
          "scatterpolargl": [
           {
            "marker": {
             "colorbar": {
              "outlinewidth": 0,
              "ticks": ""
             }
            },
            "type": "scatterpolargl"
           }
          ],
          "scatterternary": [
           {
            "marker": {
             "colorbar": {
              "outlinewidth": 0,
              "ticks": ""
             }
            },
            "type": "scatterternary"
           }
          ],
          "surface": [
           {
            "colorbar": {
             "outlinewidth": 0,
             "ticks": ""
            },
            "colorscale": [
             [
              0,
              "#0d0887"
             ],
             [
              0.1111111111111111,
              "#46039f"
             ],
             [
              0.2222222222222222,
              "#7201a8"
             ],
             [
              0.3333333333333333,
              "#9c179e"
             ],
             [
              0.4444444444444444,
              "#bd3786"
             ],
             [
              0.5555555555555556,
              "#d8576b"
             ],
             [
              0.6666666666666666,
              "#ed7953"
             ],
             [
              0.7777777777777778,
              "#fb9f3a"
             ],
             [
              0.8888888888888888,
              "#fdca26"
             ],
             [
              1,
              "#f0f921"
             ]
            ],
            "type": "surface"
           }
          ],
          "table": [
           {
            "cells": {
             "fill": {
              "color": "#EBF0F8"
             },
             "line": {
              "color": "white"
             }
            },
            "header": {
             "fill": {
              "color": "#C8D4E3"
             },
             "line": {
              "color": "white"
             }
            },
            "type": "table"
           }
          ]
         },
         "layout": {
          "annotationdefaults": {
           "arrowcolor": "#2a3f5f",
           "arrowhead": 0,
           "arrowwidth": 1
          },
          "autotypenumbers": "strict",
          "coloraxis": {
           "colorbar": {
            "outlinewidth": 0,
            "ticks": ""
           }
          },
          "colorscale": {
           "diverging": [
            [
             0,
             "#8e0152"
            ],
            [
             0.1,
             "#c51b7d"
            ],
            [
             0.2,
             "#de77ae"
            ],
            [
             0.3,
             "#f1b6da"
            ],
            [
             0.4,
             "#fde0ef"
            ],
            [
             0.5,
             "#f7f7f7"
            ],
            [
             0.6,
             "#e6f5d0"
            ],
            [
             0.7,
             "#b8e186"
            ],
            [
             0.8,
             "#7fbc41"
            ],
            [
             0.9,
             "#4d9221"
            ],
            [
             1,
             "#276419"
            ]
           ],
           "sequential": [
            [
             0,
             "#0d0887"
            ],
            [
             0.1111111111111111,
             "#46039f"
            ],
            [
             0.2222222222222222,
             "#7201a8"
            ],
            [
             0.3333333333333333,
             "#9c179e"
            ],
            [
             0.4444444444444444,
             "#bd3786"
            ],
            [
             0.5555555555555556,
             "#d8576b"
            ],
            [
             0.6666666666666666,
             "#ed7953"
            ],
            [
             0.7777777777777778,
             "#fb9f3a"
            ],
            [
             0.8888888888888888,
             "#fdca26"
            ],
            [
             1,
             "#f0f921"
            ]
           ],
           "sequentialminus": [
            [
             0,
             "#0d0887"
            ],
            [
             0.1111111111111111,
             "#46039f"
            ],
            [
             0.2222222222222222,
             "#7201a8"
            ],
            [
             0.3333333333333333,
             "#9c179e"
            ],
            [
             0.4444444444444444,
             "#bd3786"
            ],
            [
             0.5555555555555556,
             "#d8576b"
            ],
            [
             0.6666666666666666,
             "#ed7953"
            ],
            [
             0.7777777777777778,
             "#fb9f3a"
            ],
            [
             0.8888888888888888,
             "#fdca26"
            ],
            [
             1,
             "#f0f921"
            ]
           ]
          },
          "colorway": [
           "#636efa",
           "#EF553B",
           "#00cc96",
           "#ab63fa",
           "#FFA15A",
           "#19d3f3",
           "#FF6692",
           "#B6E880",
           "#FF97FF",
           "#FECB52"
          ],
          "font": {
           "color": "#2a3f5f"
          },
          "geo": {
           "bgcolor": "white",
           "lakecolor": "white",
           "landcolor": "#E5ECF6",
           "showlakes": true,
           "showland": true,
           "subunitcolor": "white"
          },
          "hoverlabel": {
           "align": "left"
          },
          "hovermode": "closest",
          "mapbox": {
           "style": "light"
          },
          "paper_bgcolor": "white",
          "plot_bgcolor": "#E5ECF6",
          "polar": {
           "angularaxis": {
            "gridcolor": "white",
            "linecolor": "white",
            "ticks": ""
           },
           "bgcolor": "#E5ECF6",
           "radialaxis": {
            "gridcolor": "white",
            "linecolor": "white",
            "ticks": ""
           }
          },
          "scene": {
           "xaxis": {
            "backgroundcolor": "#E5ECF6",
            "gridcolor": "white",
            "gridwidth": 2,
            "linecolor": "white",
            "showbackground": true,
            "ticks": "",
            "zerolinecolor": "white"
           },
           "yaxis": {
            "backgroundcolor": "#E5ECF6",
            "gridcolor": "white",
            "gridwidth": 2,
            "linecolor": "white",
            "showbackground": true,
            "ticks": "",
            "zerolinecolor": "white"
           },
           "zaxis": {
            "backgroundcolor": "#E5ECF6",
            "gridcolor": "white",
            "gridwidth": 2,
            "linecolor": "white",
            "showbackground": true,
            "ticks": "",
            "zerolinecolor": "white"
           }
          },
          "shapedefaults": {
           "line": {
            "color": "#2a3f5f"
           }
          },
          "ternary": {
           "aaxis": {
            "gridcolor": "white",
            "linecolor": "white",
            "ticks": ""
           },
           "baxis": {
            "gridcolor": "white",
            "linecolor": "white",
            "ticks": ""
           },
           "bgcolor": "#E5ECF6",
           "caxis": {
            "gridcolor": "white",
            "linecolor": "white",
            "ticks": ""
           }
          },
          "title": {
           "x": 0.05
          },
          "xaxis": {
           "automargin": true,
           "gridcolor": "white",
           "linecolor": "white",
           "ticks": "",
           "title": {
            "standoff": 15
           },
           "zerolinecolor": "white",
           "zerolinewidth": 2
          },
          "yaxis": {
           "automargin": true,
           "gridcolor": "white",
           "linecolor": "white",
           "ticks": "",
           "title": {
            "standoff": 15
           },
           "zerolinecolor": "white",
           "zerolinewidth": 2
          }
         }
        },
        "title": {
         "text": "2011 US Agriculture Exports by State"
        }
       }
      },
      "text/html": [
       "<div>                            <div id=\"e8151574-58f8-4a80-93c4-861c49fa7b44\" class=\"plotly-graph-div\" style=\"height:525px; width:100%;\"></div>            <script type=\"text/javascript\">                require([\"plotly\"], function(Plotly) {                    window.PLOTLYENV=window.PLOTLYENV || {};                                    if (document.getElementById(\"e8151574-58f8-4a80-93c4-861c49fa7b44\")) {                    Plotly.newPlot(                        \"e8151574-58f8-4a80-93c4-861c49fa7b44\",                        [{\"colorbar\": {\"title\": {\"text\": \"Millions USD\"}}, \"colorscale\": [[0.0, \"rgb(255,255,204)\"], [0.125, \"rgb(255,237,160)\"], [0.25, \"rgb(254,217,118)\"], [0.375, \"rgb(254,178,76)\"], [0.5, \"rgb(253,141,60)\"], [0.625, \"rgb(252,78,42)\"], [0.75, \"rgb(227,26,28)\"], [0.875, \"rgb(189,0,38)\"], [1.0, \"rgb(128,0,38)\"]], \"locationmode\": \"USA-states\", \"locations\": [\"AL\", \"AK\", \"AZ\", \"AR\", \"CA\", \"CO\", \"CT\", \"DE\", \"FL\", \"GA\", \"HI\", \"ID\", \"IL\", \"IN\", \"IA\", \"KS\", \"KY\", \"LA\", \"ME\", \"MD\", \"MA\", \"MI\", \"MN\", \"MS\", \"MO\", \"MT\", \"NE\", \"NV\", \"NH\", \"NJ\", \"NM\", \"NY\", \"NC\", \"ND\", \"OH\", \"OK\", \"OR\", \"PA\", \"RI\", \"SC\", \"SD\", \"TN\", \"TX\", \"UT\", \"VT\", \"VA\", \"WA\", \"WV\", \"WI\", \"WY\"], \"marker\": {\"line\": {\"color\": \"rgb(255,255,255)\", \"width\": 2}}, \"text\": [\"Alabama<br>Beef 34.4 Dairy 4.06<br>Fruits 25.11 Veggies 14.33<br>Wheat 70.0 Corn 34.9\", \"Alaska<br>Beef 0.2 Dairy 0.19<br>Fruits 0.0 Veggies 1.56<br>Wheat 0.0 Corn 0.0\", \"Arizona<br>Beef 71.3 Dairy 105.48<br>Fruits 60.27 Veggies 386.91<br>Wheat 48.7 Corn 7.3\", \"Arkansas<br>Beef 53.2 Dairy 3.53<br>Fruits 6.88 Veggies 11.45<br>Wheat 114.5 Corn 69.5\", \" California<br>Beef 228.7 Dairy 929.95<br>Fruits 8736.4 Veggies 2106.79<br>Wheat 249.3 Corn 34.6\", \"Colorado<br>Beef 261.4 Dairy 71.94<br>Fruits 17.99 Veggies 118.27<br>Wheat 400.5 Corn 183.2\", \"Connecticut<br>Beef 1.1 Dairy 9.49<br>Fruits 13.1 Veggies 11.16<br>Wheat 0.0 Corn 0.0\", \"Delaware<br>Beef 0.4 Dairy 2.3<br>Fruits 1.53 Veggies 20.03<br>Wheat 22.9 Corn 26.9\", \"Florida<br>Beef 42.6 Dairy 66.31<br>Fruits 1371.36 Veggies 450.86<br>Wheat 1.8 Corn 3.5\", \"Georgia<br>Beef 31.0 Dairy 38.38<br>Fruits 233.51 Veggies 154.77<br>Wheat 65.4 Corn 57.8\", \"Hawaii<br>Beef 4.0 Dairy 1.16<br>Fruits 55.51 Veggies 24.83<br>Wheat 0.0 Corn 0.0\", \"Idaho<br>Beef 119.8 Dairy 294.6<br>Fruits 21.64 Veggies 319.19<br>Wheat 568.2 Corn 24.0\", \"Illinois<br>Beef 53.7 Dairy 45.82<br>Fruits 12.53 Veggies 39.95<br>Wheat 223.8 Corn 2228.5\", \"Indiana<br>Beef 21.9 Dairy 89.7<br>Fruits 12.98 Veggies 37.89<br>Wheat 114.0 Corn 1123.2\", \"Iowa<br>Beef 289.8 Dairy 107.0<br>Fruits 3.24 Veggies 7.1<br>Wheat 3.1 Corn 2529.8\", \"Kansas<br>Beef 659.3 Dairy 65.45<br>Fruits 3.11 Veggies 9.32<br>Wheat 1426.5 Corn 457.3\", \"Kentucky<br>Beef 54.8 Dairy 28.27<br>Fruits 6.6 Veggies 0.0<br>Wheat 149.3 Corn 179.1\", \"Louisiana<br>Beef 19.8 Dairy 6.02<br>Fruits 17.83 Veggies 17.25<br>Wheat 78.7 Corn 91.4\", \"Maine<br>Beef 1.4 Dairy 16.18<br>Fruits 52.01 Veggies 62.9<br>Wheat 0.0 Corn 0.0\", \"Maryland<br>Beef 5.6 Dairy 24.81<br>Fruits 12.9 Veggies 20.43<br>Wheat 55.8 Corn 54.1\", \"Massachusetts<br>Beef 0.6 Dairy 5.81<br>Fruits 80.83 Veggies 21.13<br>Wheat 0.0 Corn 0.0\", \"Michigan<br>Beef 37.7 Dairy 214.82<br>Fruits 257.69 Veggies 189.96<br>Wheat 247.0 Corn 381.5\", \"Minnesota<br>Beef 112.3 Dairy 218.05<br>Fruits 7.91 Veggies 120.37<br>Wheat 538.1 Corn 1264.3\", \"Mississippi<br>Beef 12.8 Dairy 5.45<br>Fruits 17.04 Veggies 27.87<br>Wheat 102.2 Corn 110.0\", \"Missouri<br>Beef 137.2 Dairy 34.26<br>Fruits 13.18 Veggies 17.9<br>Wheat 161.7 Corn 428.8\", \"Montana<br>Beef 105.0 Dairy 6.82<br>Fruits 3.3 Veggies 45.27<br>Wheat 1198.1 Corn 5.4\", \"Nebraska<br>Beef 762.2 Dairy 30.07<br>Fruits 2.16 Veggies 53.5<br>Wheat 292.3 Corn 1735.9\", \"Nevada<br>Beef 21.8 Dairy 16.57<br>Fruits 1.19 Veggies 27.93<br>Wheat 5.4 Corn 0.0\", \"New Hampshire<br>Beef 0.6 Dairy 7.46<br>Fruits 7.98 Veggies 4.5<br>Wheat 0.0 Corn 0.0\", \"New Jersey<br>Beef 0.8 Dairy 3.37<br>Fruits 109.45 Veggies 56.54<br>Wheat 6.7 Corn 10.1\", \"New Mexico<br>Beef 117.2 Dairy 191.01<br>Fruits 101.9 Veggies 43.88<br>Wheat 13.9 Corn 11.2\", \"New York<br>Beef 22.2 Dairy 331.8<br>Fruits 202.56 Veggies 143.37<br>Wheat 29.9 Corn 106.1\", \"North Carolina<br>Beef 24.8 Dairy 24.9<br>Fruits 74.47 Veggies 150.45<br>Wheat 200.3 Corn 92.2\", \"North Dakota<br>Beef 78.5 Dairy 8.14<br>Fruits 0.25 Veggies 130.79<br>Wheat 1664.5 Corn 236.1\", \"Ohio<br>Beef 36.2 Dairy 134.57<br>Fruits 27.21 Veggies 53.53<br>Wheat 207.4 Corn 535.1\", \"Oklahoma<br>Beef 337.6 Dairy 24.35<br>Fruits 9.24 Veggies 8.9<br>Wheat 324.8 Corn 27.5\", \"Oregon<br>Beef 58.8 Dairy 63.66<br>Fruits 315.04 Veggies 126.5<br>Wheat 320.3 Corn 11.7\", \"Pennsylvania<br>Beef 50.9 Dairy 280.87<br>Fruits 89.48 Veggies 38.26<br>Wheat 41.0 Corn 112.1\", \"Rhode Island<br>Beef 0.1 Dairy 0.52<br>Fruits 2.83 Veggies 3.02<br>Wheat 0.0 Corn 0.0\", \"South Carolina<br>Beef 15.2 Dairy 7.62<br>Fruits 53.45 Veggies 42.66<br>Wheat 55.3 Corn 32.1\", \"South Dakota<br>Beef 193.5 Dairy 46.77<br>Fruits 0.8 Veggies 4.06<br>Wheat 704.5 Corn 643.6\", \"Tennessee<br>Beef 51.1 Dairy 21.18<br>Fruits 6.23 Veggies 24.67<br>Wheat 100.0 Corn 88.8\", \"Texas<br>Beef 961.0 Dairy 240.55<br>Fruits 99.9 Veggies 115.23<br>Wheat 309.7 Corn 167.2\", \"Utah<br>Beef 27.9 Dairy 48.6<br>Fruits 12.34 Veggies 6.6<br>Wheat 42.8 Corn 5.3\", \"Vermont<br>Beef 6.2 Dairy 65.98<br>Fruits 8.01 Veggies 4.05<br>Wheat 0.0 Corn 0.0\", \"Virginia<br>Beef 39.5 Dairy 47.85<br>Fruits 36.48 Veggies 27.25<br>Wheat 77.5 Corn 39.5\", \"Washington<br>Beef 59.2 Dairy 154.18<br>Fruits 1738.57 Veggies 363.79<br>Wheat 786.3 Corn 29.5\", \"West Virginia<br>Beef 12.0 Dairy 3.9<br>Fruits 11.54 Veggies 0.0<br>Wheat 1.6 Corn 3.5\", \"Wisconsin<br>Beef 107.3 Dairy 633.6<br>Fruits 133.8 Veggies 148.99<br>Wheat 96.7 Corn 460.5\", \"Wyoming<br>Beef 75.1 Dairy 2.89<br>Fruits 0.17 Veggies 10.23<br>Wheat 20.7 Corn 9.0\"], \"type\": \"choropleth\", \"z\": [1390.63, 13.31, 1463.17, 3586.02, 16472.88, 1851.33, 259.62, 282.19, 3764.09, 2860.84, 401.84, 2078.89, 8709.48, 5050.23, 11273.76, 4589.01, 1889.15, 1914.23, 278.37, 692.75, 248.65, 3164.16, 7192.33, 2170.8, 3933.42, 1718.0, 7114.13, 139.89, 73.06, 500.4, 751.58, 1488.9, 3806.05, 3761.96, 3979.79, 1646.41, 1794.57, 1969.87, 31.59, 929.93, 3770.19, 1535.13, 6648.22, 453.39, 180.14, 1146.48, 3894.81, 138.89, 3090.23, 349.69]}],                        {\"geo\": {\"lakecolor\": \"rgb(85,173,240)\", \"scope\": \"usa\", \"showlakes\": true}, \"template\": {\"data\": {\"bar\": [{\"error_x\": {\"color\": \"#2a3f5f\"}, \"error_y\": {\"color\": \"#2a3f5f\"}, \"marker\": {\"line\": {\"color\": \"#E5ECF6\", \"width\": 0.5}}, \"type\": \"bar\"}], \"barpolar\": [{\"marker\": {\"line\": {\"color\": \"#E5ECF6\", \"width\": 0.5}}, \"type\": \"barpolar\"}], \"carpet\": [{\"aaxis\": {\"endlinecolor\": \"#2a3f5f\", \"gridcolor\": \"white\", \"linecolor\": \"white\", \"minorgridcolor\": \"white\", \"startlinecolor\": \"#2a3f5f\"}, \"baxis\": {\"endlinecolor\": \"#2a3f5f\", \"gridcolor\": \"white\", \"linecolor\": \"white\", \"minorgridcolor\": \"white\", \"startlinecolor\": \"#2a3f5f\"}, \"type\": \"carpet\"}], \"choropleth\": [{\"colorbar\": {\"outlinewidth\": 0, \"ticks\": \"\"}, \"type\": \"choropleth\"}], \"contour\": [{\"colorbar\": {\"outlinewidth\": 0, \"ticks\": \"\"}, \"colorscale\": [[0.0, \"#0d0887\"], [0.1111111111111111, \"#46039f\"], [0.2222222222222222, \"#7201a8\"], [0.3333333333333333, \"#9c179e\"], [0.4444444444444444, \"#bd3786\"], [0.5555555555555556, \"#d8576b\"], [0.6666666666666666, \"#ed7953\"], [0.7777777777777778, \"#fb9f3a\"], [0.8888888888888888, \"#fdca26\"], [1.0, \"#f0f921\"]], \"type\": \"contour\"}], \"contourcarpet\": [{\"colorbar\": {\"outlinewidth\": 0, \"ticks\": \"\"}, \"type\": \"contourcarpet\"}], \"heatmap\": [{\"colorbar\": {\"outlinewidth\": 0, \"ticks\": \"\"}, \"colorscale\": [[0.0, \"#0d0887\"], [0.1111111111111111, \"#46039f\"], [0.2222222222222222, \"#7201a8\"], [0.3333333333333333, \"#9c179e\"], [0.4444444444444444, \"#bd3786\"], [0.5555555555555556, \"#d8576b\"], [0.6666666666666666, \"#ed7953\"], [0.7777777777777778, \"#fb9f3a\"], [0.8888888888888888, \"#fdca26\"], [1.0, \"#f0f921\"]], \"type\": \"heatmap\"}], \"heatmapgl\": [{\"colorbar\": {\"outlinewidth\": 0, \"ticks\": \"\"}, \"colorscale\": [[0.0, \"#0d0887\"], [0.1111111111111111, \"#46039f\"], [0.2222222222222222, \"#7201a8\"], [0.3333333333333333, \"#9c179e\"], [0.4444444444444444, \"#bd3786\"], [0.5555555555555556, \"#d8576b\"], [0.6666666666666666, \"#ed7953\"], [0.7777777777777778, \"#fb9f3a\"], [0.8888888888888888, \"#fdca26\"], [1.0, \"#f0f921\"]], \"type\": \"heatmapgl\"}], \"histogram\": [{\"marker\": {\"colorbar\": {\"outlinewidth\": 0, \"ticks\": \"\"}}, \"type\": \"histogram\"}], \"histogram2d\": [{\"colorbar\": {\"outlinewidth\": 0, \"ticks\": \"\"}, \"colorscale\": [[0.0, \"#0d0887\"], [0.1111111111111111, \"#46039f\"], [0.2222222222222222, \"#7201a8\"], [0.3333333333333333, \"#9c179e\"], [0.4444444444444444, \"#bd3786\"], [0.5555555555555556, \"#d8576b\"], [0.6666666666666666, \"#ed7953\"], [0.7777777777777778, \"#fb9f3a\"], [0.8888888888888888, \"#fdca26\"], [1.0, \"#f0f921\"]], \"type\": \"histogram2d\"}], \"histogram2dcontour\": [{\"colorbar\": {\"outlinewidth\": 0, \"ticks\": \"\"}, \"colorscale\": [[0.0, \"#0d0887\"], [0.1111111111111111, \"#46039f\"], [0.2222222222222222, \"#7201a8\"], [0.3333333333333333, \"#9c179e\"], [0.4444444444444444, \"#bd3786\"], [0.5555555555555556, \"#d8576b\"], [0.6666666666666666, \"#ed7953\"], [0.7777777777777778, \"#fb9f3a\"], [0.8888888888888888, \"#fdca26\"], [1.0, \"#f0f921\"]], \"type\": \"histogram2dcontour\"}], \"mesh3d\": [{\"colorbar\": {\"outlinewidth\": 0, \"ticks\": \"\"}, \"type\": \"mesh3d\"}], \"parcoords\": [{\"line\": {\"colorbar\": {\"outlinewidth\": 0, \"ticks\": \"\"}}, \"type\": \"parcoords\"}], \"pie\": [{\"automargin\": true, \"type\": \"pie\"}], \"scatter\": [{\"marker\": {\"colorbar\": {\"outlinewidth\": 0, \"ticks\": \"\"}}, \"type\": \"scatter\"}], \"scatter3d\": [{\"line\": {\"colorbar\": {\"outlinewidth\": 0, \"ticks\": \"\"}}, \"marker\": {\"colorbar\": {\"outlinewidth\": 0, \"ticks\": \"\"}}, \"type\": \"scatter3d\"}], \"scattercarpet\": [{\"marker\": {\"colorbar\": {\"outlinewidth\": 0, \"ticks\": \"\"}}, \"type\": \"scattercarpet\"}], \"scattergeo\": [{\"marker\": {\"colorbar\": {\"outlinewidth\": 0, \"ticks\": \"\"}}, \"type\": \"scattergeo\"}], \"scattergl\": [{\"marker\": {\"colorbar\": {\"outlinewidth\": 0, \"ticks\": \"\"}}, \"type\": \"scattergl\"}], \"scattermapbox\": [{\"marker\": {\"colorbar\": {\"outlinewidth\": 0, \"ticks\": \"\"}}, \"type\": \"scattermapbox\"}], \"scatterpolar\": [{\"marker\": {\"colorbar\": {\"outlinewidth\": 0, \"ticks\": \"\"}}, \"type\": \"scatterpolar\"}], \"scatterpolargl\": [{\"marker\": {\"colorbar\": {\"outlinewidth\": 0, \"ticks\": \"\"}}, \"type\": \"scatterpolargl\"}], \"scatterternary\": [{\"marker\": {\"colorbar\": {\"outlinewidth\": 0, \"ticks\": \"\"}}, \"type\": \"scatterternary\"}], \"surface\": [{\"colorbar\": {\"outlinewidth\": 0, \"ticks\": \"\"}, \"colorscale\": [[0.0, \"#0d0887\"], [0.1111111111111111, \"#46039f\"], [0.2222222222222222, \"#7201a8\"], [0.3333333333333333, \"#9c179e\"], [0.4444444444444444, \"#bd3786\"], [0.5555555555555556, \"#d8576b\"], [0.6666666666666666, \"#ed7953\"], [0.7777777777777778, \"#fb9f3a\"], [0.8888888888888888, \"#fdca26\"], [1.0, \"#f0f921\"]], \"type\": \"surface\"}], \"table\": [{\"cells\": {\"fill\": {\"color\": \"#EBF0F8\"}, \"line\": {\"color\": \"white\"}}, \"header\": {\"fill\": {\"color\": \"#C8D4E3\"}, \"line\": {\"color\": \"white\"}}, \"type\": \"table\"}]}, \"layout\": {\"annotationdefaults\": {\"arrowcolor\": \"#2a3f5f\", \"arrowhead\": 0, \"arrowwidth\": 1}, \"autotypenumbers\": \"strict\", \"coloraxis\": {\"colorbar\": {\"outlinewidth\": 0, \"ticks\": \"\"}}, \"colorscale\": {\"diverging\": [[0, \"#8e0152\"], [0.1, \"#c51b7d\"], [0.2, \"#de77ae\"], [0.3, \"#f1b6da\"], [0.4, \"#fde0ef\"], [0.5, \"#f7f7f7\"], [0.6, \"#e6f5d0\"], [0.7, \"#b8e186\"], [0.8, \"#7fbc41\"], [0.9, \"#4d9221\"], [1, \"#276419\"]], \"sequential\": [[0.0, \"#0d0887\"], [0.1111111111111111, \"#46039f\"], [0.2222222222222222, \"#7201a8\"], [0.3333333333333333, \"#9c179e\"], [0.4444444444444444, \"#bd3786\"], [0.5555555555555556, \"#d8576b\"], [0.6666666666666666, \"#ed7953\"], [0.7777777777777778, \"#fb9f3a\"], [0.8888888888888888, \"#fdca26\"], [1.0, \"#f0f921\"]], \"sequentialminus\": [[0.0, \"#0d0887\"], [0.1111111111111111, \"#46039f\"], [0.2222222222222222, \"#7201a8\"], [0.3333333333333333, \"#9c179e\"], [0.4444444444444444, \"#bd3786\"], [0.5555555555555556, \"#d8576b\"], [0.6666666666666666, \"#ed7953\"], [0.7777777777777778, \"#fb9f3a\"], [0.8888888888888888, \"#fdca26\"], [1.0, \"#f0f921\"]]}, \"colorway\": [\"#636efa\", \"#EF553B\", \"#00cc96\", \"#ab63fa\", \"#FFA15A\", \"#19d3f3\", \"#FF6692\", \"#B6E880\", \"#FF97FF\", \"#FECB52\"], \"font\": {\"color\": \"#2a3f5f\"}, \"geo\": {\"bgcolor\": \"white\", \"lakecolor\": \"white\", \"landcolor\": \"#E5ECF6\", \"showlakes\": true, \"showland\": true, \"subunitcolor\": \"white\"}, \"hoverlabel\": {\"align\": \"left\"}, \"hovermode\": \"closest\", \"mapbox\": {\"style\": \"light\"}, \"paper_bgcolor\": \"white\", \"plot_bgcolor\": \"#E5ECF6\", \"polar\": {\"angularaxis\": {\"gridcolor\": \"white\", \"linecolor\": \"white\", \"ticks\": \"\"}, \"bgcolor\": \"#E5ECF6\", \"radialaxis\": {\"gridcolor\": \"white\", \"linecolor\": \"white\", \"ticks\": \"\"}}, \"scene\": {\"xaxis\": {\"backgroundcolor\": \"#E5ECF6\", \"gridcolor\": \"white\", \"gridwidth\": 2, \"linecolor\": \"white\", \"showbackground\": true, \"ticks\": \"\", \"zerolinecolor\": \"white\"}, \"yaxis\": {\"backgroundcolor\": \"#E5ECF6\", \"gridcolor\": \"white\", \"gridwidth\": 2, \"linecolor\": \"white\", \"showbackground\": true, \"ticks\": \"\", \"zerolinecolor\": \"white\"}, \"zaxis\": {\"backgroundcolor\": \"#E5ECF6\", \"gridcolor\": \"white\", \"gridwidth\": 2, \"linecolor\": \"white\", \"showbackground\": true, \"ticks\": \"\", \"zerolinecolor\": \"white\"}}, \"shapedefaults\": {\"line\": {\"color\": \"#2a3f5f\"}}, \"ternary\": {\"aaxis\": {\"gridcolor\": \"white\", \"linecolor\": \"white\", \"ticks\": \"\"}, \"baxis\": {\"gridcolor\": \"white\", \"linecolor\": \"white\", \"ticks\": \"\"}, \"bgcolor\": \"#E5ECF6\", \"caxis\": {\"gridcolor\": \"white\", \"linecolor\": \"white\", \"ticks\": \"\"}}, \"title\": {\"x\": 0.05}, \"xaxis\": {\"automargin\": true, \"gridcolor\": \"white\", \"linecolor\": \"white\", \"ticks\": \"\", \"title\": {\"standoff\": 15}, \"zerolinecolor\": \"white\", \"zerolinewidth\": 2}, \"yaxis\": {\"automargin\": true, \"gridcolor\": \"white\", \"linecolor\": \"white\", \"ticks\": \"\", \"title\": {\"standoff\": 15}, \"zerolinecolor\": \"white\", \"zerolinewidth\": 2}}}, \"title\": {\"text\": \"2011 US Agriculture Exports by State\"}},                        {\"responsive\": true}                    ).then(function(){\n",
       "                            \n",
       "var gd = document.getElementById('e8151574-58f8-4a80-93c4-861c49fa7b44');\n",
       "var x = new MutationObserver(function (mutations, observer) {{\n",
       "        var display = window.getComputedStyle(gd).display;\n",
       "        if (!display || display === 'none') {{\n",
       "            console.log([gd, 'removed!']);\n",
       "            Plotly.purge(gd);\n",
       "            observer.disconnect();\n",
       "        }}\n",
       "}});\n",
       "\n",
       "// Listen for the removal of the full notebook cells\n",
       "var notebookContainer = gd.closest('#notebook-container');\n",
       "if (notebookContainer) {{\n",
       "    x.observe(notebookContainer, {childList: true});\n",
       "}}\n",
       "\n",
       "// Listen for the clearing of the current output cell\n",
       "var outputEl = gd.closest('.output');\n",
       "if (outputEl) {{\n",
       "    x.observe(outputEl, {childList: true});\n",
       "}}\n",
       "\n",
       "                        })                };                });            </script>        </div>"
      ]
     },
     "metadata": {},
     "output_type": "display_data"
    }
   ],
   "source": [
    "iplot(choromap)"
   ]
  },
  {
   "cell_type": "markdown",
   "id": "95610b64",
   "metadata": {},
   "source": [
    "## Choropleth World Maps"
   ]
  },
  {
   "cell_type": "code",
   "execution_count": 61,
   "id": "6bcd56aa",
   "metadata": {},
   "outputs": [
    {
     "data": {
      "text/html": [
       "<div>\n",
       "<style scoped>\n",
       "    .dataframe tbody tr th:only-of-type {\n",
       "        vertical-align: middle;\n",
       "    }\n",
       "\n",
       "    .dataframe tbody tr th {\n",
       "        vertical-align: top;\n",
       "    }\n",
       "\n",
       "    .dataframe thead th {\n",
       "        text-align: right;\n",
       "    }\n",
       "</style>\n",
       "<table border=\"1\" class=\"dataframe\">\n",
       "  <thead>\n",
       "    <tr style=\"text-align: right;\">\n",
       "      <th></th>\n",
       "      <th>COUNTRY</th>\n",
       "      <th>GDP (BILLIONS)</th>\n",
       "      <th>CODE</th>\n",
       "    </tr>\n",
       "  </thead>\n",
       "  <tbody>\n",
       "    <tr>\n",
       "      <th>0</th>\n",
       "      <td>Afghanistan</td>\n",
       "      <td>21.71</td>\n",
       "      <td>AFG</td>\n",
       "    </tr>\n",
       "    <tr>\n",
       "      <th>1</th>\n",
       "      <td>Albania</td>\n",
       "      <td>13.40</td>\n",
       "      <td>ALB</td>\n",
       "    </tr>\n",
       "    <tr>\n",
       "      <th>2</th>\n",
       "      <td>Algeria</td>\n",
       "      <td>227.80</td>\n",
       "      <td>DZA</td>\n",
       "    </tr>\n",
       "    <tr>\n",
       "      <th>3</th>\n",
       "      <td>American Samoa</td>\n",
       "      <td>0.75</td>\n",
       "      <td>ASM</td>\n",
       "    </tr>\n",
       "    <tr>\n",
       "      <th>4</th>\n",
       "      <td>Andorra</td>\n",
       "      <td>4.80</td>\n",
       "      <td>AND</td>\n",
       "    </tr>\n",
       "  </tbody>\n",
       "</table>\n",
       "</div>"
      ],
      "text/plain": [
       "          COUNTRY  GDP (BILLIONS) CODE\n",
       "0     Afghanistan           21.71  AFG\n",
       "1         Albania           13.40  ALB\n",
       "2         Algeria          227.80  DZA\n",
       "3  American Samoa            0.75  ASM\n",
       "4         Andorra            4.80  AND"
      ]
     },
     "execution_count": 61,
     "metadata": {},
     "output_type": "execute_result"
    }
   ],
   "source": [
    "World_GDP = pd.read_csv('2014_World_GDP')\n",
    "World_GDP.head()"
   ]
  },
  {
   "cell_type": "code",
   "execution_count": 62,
   "id": "60c8405a",
   "metadata": {},
   "outputs": [],
   "source": [
    "data = dict(\n",
    "        type = \"choropleth\",\n",
    "        locations = World_GDP[\"CODE\"],\n",
    "        locationmode = 'ISO-3',\n",
    "        colorscale = \"ylorrd\",\n",
    "        z = World_GDP[\"GDP (BILLIONS)\"],\n",
    "        text = World_GDP[\"COUNTRY\"],\n",
    "        colorbar = {\"title\":\"GDP\"})"
   ]
  },
  {
   "cell_type": "code",
   "execution_count": 63,
   "id": "db1859c0",
   "metadata": {},
   "outputs": [],
   "source": [
    "layout = dict(\n",
    "    title = '2014 Global GDP',\n",
    "    geo = dict(scope = \"world\",\n",
    "        showframe = True,\n",
    "        projection = {'type':'mercator'}\n",
    "    )\n",
    ")"
   ]
  },
  {
   "cell_type": "code",
   "execution_count": 64,
   "id": "ec7efea2",
   "metadata": {},
   "outputs": [],
   "source": [
    "choromap = go.Figure(data=[data], layout=layout)"
   ]
  },
  {
   "cell_type": "code",
   "execution_count": 65,
   "id": "585db418",
   "metadata": {},
   "outputs": [
    {
     "data": {
      "application/vnd.plotly.v1+json": {
       "config": {
        "linkText": "Export to plot.ly",
        "plotlyServerURL": "https://plot.ly",
        "showLink": false
       },
       "data": [
        {
         "colorbar": {
          "title": {
           "text": "GDP"
          }
         },
         "colorscale": [
          [
           0,
           "rgb(255,255,204)"
          ],
          [
           0.125,
           "rgb(255,237,160)"
          ],
          [
           0.25,
           "rgb(254,217,118)"
          ],
          [
           0.375,
           "rgb(254,178,76)"
          ],
          [
           0.5,
           "rgb(253,141,60)"
          ],
          [
           0.625,
           "rgb(252,78,42)"
          ],
          [
           0.75,
           "rgb(227,26,28)"
          ],
          [
           0.875,
           "rgb(189,0,38)"
          ],
          [
           1,
           "rgb(128,0,38)"
          ]
         ],
         "locationmode": "ISO-3",
         "locations": [
          "AFG",
          "ALB",
          "DZA",
          "ASM",
          "AND",
          "AGO",
          "AIA",
          "ATG",
          "ARG",
          "ARM",
          "ABW",
          "AUS",
          "AUT",
          "AZE",
          "BHM",
          "BHR",
          "BGD",
          "BRB",
          "BLR",
          "BEL",
          "BLZ",
          "BEN",
          "BMU",
          "BTN",
          "BOL",
          "BIH",
          "BWA",
          "BRA",
          "VGB",
          "BRN",
          "BGR",
          "BFA",
          "MMR",
          "BDI",
          "CPV",
          "KHM",
          "CMR",
          "CAN",
          "CYM",
          "CAF",
          "TCD",
          "CHL",
          "CHN",
          "COL",
          "COM",
          "COD",
          "COG",
          "COK",
          "CRI",
          "CIV",
          "HRV",
          "CUB",
          "CUW",
          "CYP",
          "CZE",
          "DNK",
          "DJI",
          "DMA",
          "DOM",
          "ECU",
          "EGY",
          "SLV",
          "GNQ",
          "ERI",
          "EST",
          "ETH",
          "FLK",
          "FRO",
          "FJI",
          "FIN",
          "FRA",
          "PYF",
          "GAB",
          "GMB",
          "GEO",
          "DEU",
          "GHA",
          "GIB",
          "GRC",
          "GRL",
          "GRD",
          "GUM",
          "GTM",
          "GGY",
          "GNB",
          "GIN",
          "GUY",
          "HTI",
          "HND",
          "HKG",
          "HUN",
          "ISL",
          "IND",
          "IDN",
          "IRN",
          "IRQ",
          "IRL",
          "IMN",
          "ISR",
          "ITA",
          "JAM",
          "JPN",
          "JEY",
          "JOR",
          "KAZ",
          "KEN",
          "KIR",
          "KOR",
          "PRK",
          "KSV",
          "KWT",
          "KGZ",
          "LAO",
          "LVA",
          "LBN",
          "LSO",
          "LBR",
          "LBY",
          "LIE",
          "LTU",
          "LUX",
          "MAC",
          "MKD",
          "MDG",
          "MWI",
          "MYS",
          "MDV",
          "MLI",
          "MLT",
          "MHL",
          "MRT",
          "MUS",
          "MEX",
          "FSM",
          "MDA",
          "MCO",
          "MNG",
          "MNE",
          "MAR",
          "MOZ",
          "NAM",
          "NPL",
          "NLD",
          "NCL",
          "NZL",
          "NIC",
          "NGA",
          "NER",
          "NIU",
          "MNP",
          "NOR",
          "OMN",
          "PAK",
          "PLW",
          "PAN",
          "PNG",
          "PRY",
          "PER",
          "PHL",
          "POL",
          "PRT",
          "PRI",
          "QAT",
          "ROU",
          "RUS",
          "RWA",
          "KNA",
          "LCA",
          "MAF",
          "SPM",
          "VCT",
          "WSM",
          "SMR",
          "STP",
          "SAU",
          "SEN",
          "SRB",
          "SYC",
          "SLE",
          "SGP",
          "SXM",
          "SVK",
          "SVN",
          "SLB",
          "SOM",
          "ZAF",
          "SSD",
          "ESP",
          "LKA",
          "SDN",
          "SUR",
          "SWZ",
          "SWE",
          "CHE",
          "SYR",
          "TWN",
          "TJK",
          "TZA",
          "THA",
          "TLS",
          "TGO",
          "TON",
          "TTO",
          "TUN",
          "TUR",
          "TKM",
          "TUV",
          "UGA",
          "UKR",
          "ARE",
          "GBR",
          "USA",
          "URY",
          "UZB",
          "VUT",
          "VEN",
          "VNM",
          "VGB",
          "WBG",
          "YEM",
          "ZMB",
          "ZWE"
         ],
         "text": [
          "Afghanistan",
          "Albania",
          "Algeria",
          "American Samoa",
          "Andorra",
          "Angola",
          "Anguilla",
          "Antigua and Barbuda",
          "Argentina",
          "Armenia",
          "Aruba",
          "Australia",
          "Austria",
          "Azerbaijan",
          "Bahamas, The",
          "Bahrain",
          "Bangladesh",
          "Barbados",
          "Belarus",
          "Belgium",
          "Belize",
          "Benin",
          "Bermuda",
          "Bhutan",
          "Bolivia",
          "Bosnia and Herzegovina",
          "Botswana",
          "Brazil",
          "British Virgin Islands",
          "Brunei",
          "Bulgaria",
          "Burkina Faso",
          "Burma",
          "Burundi",
          "Cabo Verde",
          "Cambodia",
          "Cameroon",
          "Canada",
          "Cayman Islands",
          "Central African Republic",
          "Chad",
          "Chile",
          "China",
          "Colombia",
          "Comoros",
          "Congo, Democratic Republic of the",
          "Congo, Republic of the",
          "Cook Islands",
          "Costa Rica",
          "Cote d'Ivoire",
          "Croatia",
          "Cuba",
          "Curacao",
          "Cyprus",
          "Czech Republic",
          "Denmark",
          "Djibouti",
          "Dominica",
          "Dominican Republic",
          "Ecuador",
          "Egypt",
          "El Salvador",
          "Equatorial Guinea",
          "Eritrea",
          "Estonia",
          "Ethiopia",
          "Falkland Islands (Islas Malvinas)",
          "Faroe Islands",
          "Fiji",
          "Finland",
          "France",
          "French Polynesia",
          "Gabon",
          "Gambia, The",
          "Georgia",
          "Germany",
          "Ghana",
          "Gibraltar",
          "Greece",
          "Greenland",
          "Grenada",
          "Guam",
          "Guatemala",
          "Guernsey",
          "Guinea-Bissau",
          "Guinea",
          "Guyana",
          "Haiti",
          "Honduras",
          "Hong Kong",
          "Hungary",
          "Iceland",
          "India",
          "Indonesia",
          "Iran",
          "Iraq",
          "Ireland",
          "Isle of Man",
          "Israel",
          "Italy",
          "Jamaica",
          "Japan",
          "Jersey",
          "Jordan",
          "Kazakhstan",
          "Kenya",
          "Kiribati",
          "Korea, North",
          "Korea, South",
          "Kosovo",
          "Kuwait",
          "Kyrgyzstan",
          "Laos",
          "Latvia",
          "Lebanon",
          "Lesotho",
          "Liberia",
          "Libya",
          "Liechtenstein",
          "Lithuania",
          "Luxembourg",
          "Macau",
          "Macedonia",
          "Madagascar",
          "Malawi",
          "Malaysia",
          "Maldives",
          "Mali",
          "Malta",
          "Marshall Islands",
          "Mauritania",
          "Mauritius",
          "Mexico",
          "Micronesia, Federated States of",
          "Moldova",
          "Monaco",
          "Mongolia",
          "Montenegro",
          "Morocco",
          "Mozambique",
          "Namibia",
          "Nepal",
          "Netherlands",
          "New Caledonia",
          "New Zealand",
          "Nicaragua",
          "Nigeria",
          "Niger",
          "Niue",
          "Northern Mariana Islands",
          "Norway",
          "Oman",
          "Pakistan",
          "Palau",
          "Panama",
          "Papua New Guinea",
          "Paraguay",
          "Peru",
          "Philippines",
          "Poland",
          "Portugal",
          "Puerto Rico",
          "Qatar",
          "Romania",
          "Russia",
          "Rwanda",
          "Saint Kitts and Nevis",
          "Saint Lucia",
          "Saint Martin",
          "Saint Pierre and Miquelon",
          "Saint Vincent and the Grenadines",
          "Samoa",
          "San Marino",
          "Sao Tome and Principe",
          "Saudi Arabia",
          "Senegal",
          "Serbia",
          "Seychelles",
          "Sierra Leone",
          "Singapore",
          "Sint Maarten",
          "Slovakia",
          "Slovenia",
          "Solomon Islands",
          "Somalia",
          "South Africa",
          "South Sudan",
          "Spain",
          "Sri Lanka",
          "Sudan",
          "Suriname",
          "Swaziland",
          "Sweden",
          "Switzerland",
          "Syria",
          "Taiwan",
          "Tajikistan",
          "Tanzania",
          "Thailand",
          "Timor-Leste",
          "Togo",
          "Tonga",
          "Trinidad and Tobago",
          "Tunisia",
          "Turkey",
          "Turkmenistan",
          "Tuvalu",
          "Uganda",
          "Ukraine",
          "United Arab Emirates",
          "United Kingdom",
          "United States",
          "Uruguay",
          "Uzbekistan",
          "Vanuatu",
          "Venezuela",
          "Vietnam",
          "Virgin Islands",
          "West Bank",
          "Yemen",
          "Zambia",
          "Zimbabwe"
         ],
         "type": "choropleth",
         "z": [
          21.71,
          13.4,
          227.8,
          0.75,
          4.8,
          131.4,
          0.18,
          1.24,
          536.2,
          10.88,
          2.52,
          1483,
          436.1,
          77.91,
          8.65,
          34.05,
          186.6,
          4.28,
          75.25,
          527.8,
          1.67,
          9.24,
          5.2,
          2.09,
          34.08,
          19.55,
          16.3,
          2244,
          1.1,
          17.43,
          55.08,
          13.38,
          65.29,
          3.04,
          1.98,
          16.9,
          32.16,
          1794,
          2.25,
          1.73,
          15.84,
          264.1,
          10360,
          400.1,
          0.72,
          32.67,
          14.11,
          0.18,
          50.46,
          33.96,
          57.18,
          77.15,
          5.6,
          21.34,
          205.6,
          347.2,
          1.58,
          0.51,
          64.05,
          100.5,
          284.9,
          25.14,
          15.4,
          3.87,
          26.36,
          49.86,
          0.16,
          2.32,
          4.17,
          276.3,
          2902,
          7.15,
          20.68,
          0.92,
          16.13,
          3820,
          35.48,
          1.85,
          246.4,
          2.16,
          0.84,
          4.6,
          58.3,
          2.74,
          1.04,
          6.77,
          3.14,
          8.92,
          19.37,
          292.7,
          129.7,
          16.2,
          2048,
          856.1,
          402.7,
          232.2,
          245.8,
          4.08,
          305,
          2129,
          13.92,
          4770,
          5.77,
          36.55,
          225.6,
          62.72,
          0.16,
          28,
          1410,
          5.99,
          179.3,
          7.65,
          11.71,
          32.82,
          47.5,
          2.46,
          2.07,
          49.34,
          5.11,
          48.72,
          63.93,
          51.68,
          10.92,
          11.19,
          4.41,
          336.9,
          2.41,
          12.04,
          10.57,
          0.18,
          4.29,
          12.72,
          1296,
          0.34,
          7.74,
          6.06,
          11.73,
          4.66,
          112.6,
          16.59,
          13.11,
          19.64,
          880.4,
          11.1,
          201,
          11.85,
          594.3,
          8.29,
          0.01,
          1.23,
          511.6,
          80.54,
          237.5,
          0.65,
          44.69,
          16.1,
          31.3,
          208.2,
          284.6,
          552.2,
          228.2,
          93.52,
          212,
          199,
          2057,
          8,
          0.81,
          1.35,
          0.56,
          0.22,
          0.75,
          0.83,
          1.86,
          0.36,
          777.9,
          15.88,
          42.65,
          1.47,
          5.41,
          307.9,
          304.1,
          99.75,
          49.93,
          1.16,
          2.37,
          341.2,
          11.89,
          1400,
          71.57,
          70.03,
          5.27,
          3.84,
          559.1,
          679,
          64.7,
          529.5,
          9.16,
          36.62,
          373.8,
          4.51,
          4.84,
          0.49,
          29.63,
          49.12,
          813.3,
          43.5,
          0.04,
          26.09,
          134.9,
          416.4,
          2848,
          17420,
          55.6,
          63.08,
          0.82,
          209.2,
          187.8,
          5.08,
          6.64,
          45.45,
          25.61,
          13.74
         ]
        }
       ],
       "layout": {
        "geo": {
         "projection": {
          "type": "mercator"
         },
         "scope": "world",
         "showframe": true
        },
        "template": {
         "data": {
          "bar": [
           {
            "error_x": {
             "color": "#2a3f5f"
            },
            "error_y": {
             "color": "#2a3f5f"
            },
            "marker": {
             "line": {
              "color": "#E5ECF6",
              "width": 0.5
             }
            },
            "type": "bar"
           }
          ],
          "barpolar": [
           {
            "marker": {
             "line": {
              "color": "#E5ECF6",
              "width": 0.5
             }
            },
            "type": "barpolar"
           }
          ],
          "carpet": [
           {
            "aaxis": {
             "endlinecolor": "#2a3f5f",
             "gridcolor": "white",
             "linecolor": "white",
             "minorgridcolor": "white",
             "startlinecolor": "#2a3f5f"
            },
            "baxis": {
             "endlinecolor": "#2a3f5f",
             "gridcolor": "white",
             "linecolor": "white",
             "minorgridcolor": "white",
             "startlinecolor": "#2a3f5f"
            },
            "type": "carpet"
           }
          ],
          "choropleth": [
           {
            "colorbar": {
             "outlinewidth": 0,
             "ticks": ""
            },
            "type": "choropleth"
           }
          ],
          "contour": [
           {
            "colorbar": {
             "outlinewidth": 0,
             "ticks": ""
            },
            "colorscale": [
             [
              0,
              "#0d0887"
             ],
             [
              0.1111111111111111,
              "#46039f"
             ],
             [
              0.2222222222222222,
              "#7201a8"
             ],
             [
              0.3333333333333333,
              "#9c179e"
             ],
             [
              0.4444444444444444,
              "#bd3786"
             ],
             [
              0.5555555555555556,
              "#d8576b"
             ],
             [
              0.6666666666666666,
              "#ed7953"
             ],
             [
              0.7777777777777778,
              "#fb9f3a"
             ],
             [
              0.8888888888888888,
              "#fdca26"
             ],
             [
              1,
              "#f0f921"
             ]
            ],
            "type": "contour"
           }
          ],
          "contourcarpet": [
           {
            "colorbar": {
             "outlinewidth": 0,
             "ticks": ""
            },
            "type": "contourcarpet"
           }
          ],
          "heatmap": [
           {
            "colorbar": {
             "outlinewidth": 0,
             "ticks": ""
            },
            "colorscale": [
             [
              0,
              "#0d0887"
             ],
             [
              0.1111111111111111,
              "#46039f"
             ],
             [
              0.2222222222222222,
              "#7201a8"
             ],
             [
              0.3333333333333333,
              "#9c179e"
             ],
             [
              0.4444444444444444,
              "#bd3786"
             ],
             [
              0.5555555555555556,
              "#d8576b"
             ],
             [
              0.6666666666666666,
              "#ed7953"
             ],
             [
              0.7777777777777778,
              "#fb9f3a"
             ],
             [
              0.8888888888888888,
              "#fdca26"
             ],
             [
              1,
              "#f0f921"
             ]
            ],
            "type": "heatmap"
           }
          ],
          "heatmapgl": [
           {
            "colorbar": {
             "outlinewidth": 0,
             "ticks": ""
            },
            "colorscale": [
             [
              0,
              "#0d0887"
             ],
             [
              0.1111111111111111,
              "#46039f"
             ],
             [
              0.2222222222222222,
              "#7201a8"
             ],
             [
              0.3333333333333333,
              "#9c179e"
             ],
             [
              0.4444444444444444,
              "#bd3786"
             ],
             [
              0.5555555555555556,
              "#d8576b"
             ],
             [
              0.6666666666666666,
              "#ed7953"
             ],
             [
              0.7777777777777778,
              "#fb9f3a"
             ],
             [
              0.8888888888888888,
              "#fdca26"
             ],
             [
              1,
              "#f0f921"
             ]
            ],
            "type": "heatmapgl"
           }
          ],
          "histogram": [
           {
            "marker": {
             "colorbar": {
              "outlinewidth": 0,
              "ticks": ""
             }
            },
            "type": "histogram"
           }
          ],
          "histogram2d": [
           {
            "colorbar": {
             "outlinewidth": 0,
             "ticks": ""
            },
            "colorscale": [
             [
              0,
              "#0d0887"
             ],
             [
              0.1111111111111111,
              "#46039f"
             ],
             [
              0.2222222222222222,
              "#7201a8"
             ],
             [
              0.3333333333333333,
              "#9c179e"
             ],
             [
              0.4444444444444444,
              "#bd3786"
             ],
             [
              0.5555555555555556,
              "#d8576b"
             ],
             [
              0.6666666666666666,
              "#ed7953"
             ],
             [
              0.7777777777777778,
              "#fb9f3a"
             ],
             [
              0.8888888888888888,
              "#fdca26"
             ],
             [
              1,
              "#f0f921"
             ]
            ],
            "type": "histogram2d"
           }
          ],
          "histogram2dcontour": [
           {
            "colorbar": {
             "outlinewidth": 0,
             "ticks": ""
            },
            "colorscale": [
             [
              0,
              "#0d0887"
             ],
             [
              0.1111111111111111,
              "#46039f"
             ],
             [
              0.2222222222222222,
              "#7201a8"
             ],
             [
              0.3333333333333333,
              "#9c179e"
             ],
             [
              0.4444444444444444,
              "#bd3786"
             ],
             [
              0.5555555555555556,
              "#d8576b"
             ],
             [
              0.6666666666666666,
              "#ed7953"
             ],
             [
              0.7777777777777778,
              "#fb9f3a"
             ],
             [
              0.8888888888888888,
              "#fdca26"
             ],
             [
              1,
              "#f0f921"
             ]
            ],
            "type": "histogram2dcontour"
           }
          ],
          "mesh3d": [
           {
            "colorbar": {
             "outlinewidth": 0,
             "ticks": ""
            },
            "type": "mesh3d"
           }
          ],
          "parcoords": [
           {
            "line": {
             "colorbar": {
              "outlinewidth": 0,
              "ticks": ""
             }
            },
            "type": "parcoords"
           }
          ],
          "pie": [
           {
            "automargin": true,
            "type": "pie"
           }
          ],
          "scatter": [
           {
            "marker": {
             "colorbar": {
              "outlinewidth": 0,
              "ticks": ""
             }
            },
            "type": "scatter"
           }
          ],
          "scatter3d": [
           {
            "line": {
             "colorbar": {
              "outlinewidth": 0,
              "ticks": ""
             }
            },
            "marker": {
             "colorbar": {
              "outlinewidth": 0,
              "ticks": ""
             }
            },
            "type": "scatter3d"
           }
          ],
          "scattercarpet": [
           {
            "marker": {
             "colorbar": {
              "outlinewidth": 0,
              "ticks": ""
             }
            },
            "type": "scattercarpet"
           }
          ],
          "scattergeo": [
           {
            "marker": {
             "colorbar": {
              "outlinewidth": 0,
              "ticks": ""
             }
            },
            "type": "scattergeo"
           }
          ],
          "scattergl": [
           {
            "marker": {
             "colorbar": {
              "outlinewidth": 0,
              "ticks": ""
             }
            },
            "type": "scattergl"
           }
          ],
          "scattermapbox": [
           {
            "marker": {
             "colorbar": {
              "outlinewidth": 0,
              "ticks": ""
             }
            },
            "type": "scattermapbox"
           }
          ],
          "scatterpolar": [
           {
            "marker": {
             "colorbar": {
              "outlinewidth": 0,
              "ticks": ""
             }
            },
            "type": "scatterpolar"
           }
          ],
          "scatterpolargl": [
           {
            "marker": {
             "colorbar": {
              "outlinewidth": 0,
              "ticks": ""
             }
            },
            "type": "scatterpolargl"
           }
          ],
          "scatterternary": [
           {
            "marker": {
             "colorbar": {
              "outlinewidth": 0,
              "ticks": ""
             }
            },
            "type": "scatterternary"
           }
          ],
          "surface": [
           {
            "colorbar": {
             "outlinewidth": 0,
             "ticks": ""
            },
            "colorscale": [
             [
              0,
              "#0d0887"
             ],
             [
              0.1111111111111111,
              "#46039f"
             ],
             [
              0.2222222222222222,
              "#7201a8"
             ],
             [
              0.3333333333333333,
              "#9c179e"
             ],
             [
              0.4444444444444444,
              "#bd3786"
             ],
             [
              0.5555555555555556,
              "#d8576b"
             ],
             [
              0.6666666666666666,
              "#ed7953"
             ],
             [
              0.7777777777777778,
              "#fb9f3a"
             ],
             [
              0.8888888888888888,
              "#fdca26"
             ],
             [
              1,
              "#f0f921"
             ]
            ],
            "type": "surface"
           }
          ],
          "table": [
           {
            "cells": {
             "fill": {
              "color": "#EBF0F8"
             },
             "line": {
              "color": "white"
             }
            },
            "header": {
             "fill": {
              "color": "#C8D4E3"
             },
             "line": {
              "color": "white"
             }
            },
            "type": "table"
           }
          ]
         },
         "layout": {
          "annotationdefaults": {
           "arrowcolor": "#2a3f5f",
           "arrowhead": 0,
           "arrowwidth": 1
          },
          "autotypenumbers": "strict",
          "coloraxis": {
           "colorbar": {
            "outlinewidth": 0,
            "ticks": ""
           }
          },
          "colorscale": {
           "diverging": [
            [
             0,
             "#8e0152"
            ],
            [
             0.1,
             "#c51b7d"
            ],
            [
             0.2,
             "#de77ae"
            ],
            [
             0.3,
             "#f1b6da"
            ],
            [
             0.4,
             "#fde0ef"
            ],
            [
             0.5,
             "#f7f7f7"
            ],
            [
             0.6,
             "#e6f5d0"
            ],
            [
             0.7,
             "#b8e186"
            ],
            [
             0.8,
             "#7fbc41"
            ],
            [
             0.9,
             "#4d9221"
            ],
            [
             1,
             "#276419"
            ]
           ],
           "sequential": [
            [
             0,
             "#0d0887"
            ],
            [
             0.1111111111111111,
             "#46039f"
            ],
            [
             0.2222222222222222,
             "#7201a8"
            ],
            [
             0.3333333333333333,
             "#9c179e"
            ],
            [
             0.4444444444444444,
             "#bd3786"
            ],
            [
             0.5555555555555556,
             "#d8576b"
            ],
            [
             0.6666666666666666,
             "#ed7953"
            ],
            [
             0.7777777777777778,
             "#fb9f3a"
            ],
            [
             0.8888888888888888,
             "#fdca26"
            ],
            [
             1,
             "#f0f921"
            ]
           ],
           "sequentialminus": [
            [
             0,
             "#0d0887"
            ],
            [
             0.1111111111111111,
             "#46039f"
            ],
            [
             0.2222222222222222,
             "#7201a8"
            ],
            [
             0.3333333333333333,
             "#9c179e"
            ],
            [
             0.4444444444444444,
             "#bd3786"
            ],
            [
             0.5555555555555556,
             "#d8576b"
            ],
            [
             0.6666666666666666,
             "#ed7953"
            ],
            [
             0.7777777777777778,
             "#fb9f3a"
            ],
            [
             0.8888888888888888,
             "#fdca26"
            ],
            [
             1,
             "#f0f921"
            ]
           ]
          },
          "colorway": [
           "#636efa",
           "#EF553B",
           "#00cc96",
           "#ab63fa",
           "#FFA15A",
           "#19d3f3",
           "#FF6692",
           "#B6E880",
           "#FF97FF",
           "#FECB52"
          ],
          "font": {
           "color": "#2a3f5f"
          },
          "geo": {
           "bgcolor": "white",
           "lakecolor": "white",
           "landcolor": "#E5ECF6",
           "showlakes": true,
           "showland": true,
           "subunitcolor": "white"
          },
          "hoverlabel": {
           "align": "left"
          },
          "hovermode": "closest",
          "mapbox": {
           "style": "light"
          },
          "paper_bgcolor": "white",
          "plot_bgcolor": "#E5ECF6",
          "polar": {
           "angularaxis": {
            "gridcolor": "white",
            "linecolor": "white",
            "ticks": ""
           },
           "bgcolor": "#E5ECF6",
           "radialaxis": {
            "gridcolor": "white",
            "linecolor": "white",
            "ticks": ""
           }
          },
          "scene": {
           "xaxis": {
            "backgroundcolor": "#E5ECF6",
            "gridcolor": "white",
            "gridwidth": 2,
            "linecolor": "white",
            "showbackground": true,
            "ticks": "",
            "zerolinecolor": "white"
           },
           "yaxis": {
            "backgroundcolor": "#E5ECF6",
            "gridcolor": "white",
            "gridwidth": 2,
            "linecolor": "white",
            "showbackground": true,
            "ticks": "",
            "zerolinecolor": "white"
           },
           "zaxis": {
            "backgroundcolor": "#E5ECF6",
            "gridcolor": "white",
            "gridwidth": 2,
            "linecolor": "white",
            "showbackground": true,
            "ticks": "",
            "zerolinecolor": "white"
           }
          },
          "shapedefaults": {
           "line": {
            "color": "#2a3f5f"
           }
          },
          "ternary": {
           "aaxis": {
            "gridcolor": "white",
            "linecolor": "white",
            "ticks": ""
           },
           "baxis": {
            "gridcolor": "white",
            "linecolor": "white",
            "ticks": ""
           },
           "bgcolor": "#E5ECF6",
           "caxis": {
            "gridcolor": "white",
            "linecolor": "white",
            "ticks": ""
           }
          },
          "title": {
           "x": 0.05
          },
          "xaxis": {
           "automargin": true,
           "gridcolor": "white",
           "linecolor": "white",
           "ticks": "",
           "title": {
            "standoff": 15
           },
           "zerolinecolor": "white",
           "zerolinewidth": 2
          },
          "yaxis": {
           "automargin": true,
           "gridcolor": "white",
           "linecolor": "white",
           "ticks": "",
           "title": {
            "standoff": 15
           },
           "zerolinecolor": "white",
           "zerolinewidth": 2
          }
         }
        },
        "title": {
         "text": "2014 Global GDP"
        }
       }
      },
      "text/html": [
       "<div>                            <div id=\"5a9f59af-96e3-4970-acf0-67f6c88eda1b\" class=\"plotly-graph-div\" style=\"height:525px; width:100%;\"></div>            <script type=\"text/javascript\">                require([\"plotly\"], function(Plotly) {                    window.PLOTLYENV=window.PLOTLYENV || {};                                    if (document.getElementById(\"5a9f59af-96e3-4970-acf0-67f6c88eda1b\")) {                    Plotly.newPlot(                        \"5a9f59af-96e3-4970-acf0-67f6c88eda1b\",                        [{\"colorbar\": {\"title\": {\"text\": \"GDP\"}}, \"colorscale\": [[0.0, \"rgb(255,255,204)\"], [0.125, \"rgb(255,237,160)\"], [0.25, \"rgb(254,217,118)\"], [0.375, \"rgb(254,178,76)\"], [0.5, \"rgb(253,141,60)\"], [0.625, \"rgb(252,78,42)\"], [0.75, \"rgb(227,26,28)\"], [0.875, \"rgb(189,0,38)\"], [1.0, \"rgb(128,0,38)\"]], \"locationmode\": \"ISO-3\", \"locations\": [\"AFG\", \"ALB\", \"DZA\", \"ASM\", \"AND\", \"AGO\", \"AIA\", \"ATG\", \"ARG\", \"ARM\", \"ABW\", \"AUS\", \"AUT\", \"AZE\", \"BHM\", \"BHR\", \"BGD\", \"BRB\", \"BLR\", \"BEL\", \"BLZ\", \"BEN\", \"BMU\", \"BTN\", \"BOL\", \"BIH\", \"BWA\", \"BRA\", \"VGB\", \"BRN\", \"BGR\", \"BFA\", \"MMR\", \"BDI\", \"CPV\", \"KHM\", \"CMR\", \"CAN\", \"CYM\", \"CAF\", \"TCD\", \"CHL\", \"CHN\", \"COL\", \"COM\", \"COD\", \"COG\", \"COK\", \"CRI\", \"CIV\", \"HRV\", \"CUB\", \"CUW\", \"CYP\", \"CZE\", \"DNK\", \"DJI\", \"DMA\", \"DOM\", \"ECU\", \"EGY\", \"SLV\", \"GNQ\", \"ERI\", \"EST\", \"ETH\", \"FLK\", \"FRO\", \"FJI\", \"FIN\", \"FRA\", \"PYF\", \"GAB\", \"GMB\", \"GEO\", \"DEU\", \"GHA\", \"GIB\", \"GRC\", \"GRL\", \"GRD\", \"GUM\", \"GTM\", \"GGY\", \"GNB\", \"GIN\", \"GUY\", \"HTI\", \"HND\", \"HKG\", \"HUN\", \"ISL\", \"IND\", \"IDN\", \"IRN\", \"IRQ\", \"IRL\", \"IMN\", \"ISR\", \"ITA\", \"JAM\", \"JPN\", \"JEY\", \"JOR\", \"KAZ\", \"KEN\", \"KIR\", \"KOR\", \"PRK\", \"KSV\", \"KWT\", \"KGZ\", \"LAO\", \"LVA\", \"LBN\", \"LSO\", \"LBR\", \"LBY\", \"LIE\", \"LTU\", \"LUX\", \"MAC\", \"MKD\", \"MDG\", \"MWI\", \"MYS\", \"MDV\", \"MLI\", \"MLT\", \"MHL\", \"MRT\", \"MUS\", \"MEX\", \"FSM\", \"MDA\", \"MCO\", \"MNG\", \"MNE\", \"MAR\", \"MOZ\", \"NAM\", \"NPL\", \"NLD\", \"NCL\", \"NZL\", \"NIC\", \"NGA\", \"NER\", \"NIU\", \"MNP\", \"NOR\", \"OMN\", \"PAK\", \"PLW\", \"PAN\", \"PNG\", \"PRY\", \"PER\", \"PHL\", \"POL\", \"PRT\", \"PRI\", \"QAT\", \"ROU\", \"RUS\", \"RWA\", \"KNA\", \"LCA\", \"MAF\", \"SPM\", \"VCT\", \"WSM\", \"SMR\", \"STP\", \"SAU\", \"SEN\", \"SRB\", \"SYC\", \"SLE\", \"SGP\", \"SXM\", \"SVK\", \"SVN\", \"SLB\", \"SOM\", \"ZAF\", \"SSD\", \"ESP\", \"LKA\", \"SDN\", \"SUR\", \"SWZ\", \"SWE\", \"CHE\", \"SYR\", \"TWN\", \"TJK\", \"TZA\", \"THA\", \"TLS\", \"TGO\", \"TON\", \"TTO\", \"TUN\", \"TUR\", \"TKM\", \"TUV\", \"UGA\", \"UKR\", \"ARE\", \"GBR\", \"USA\", \"URY\", \"UZB\", \"VUT\", \"VEN\", \"VNM\", \"VGB\", \"WBG\", \"YEM\", \"ZMB\", \"ZWE\"], \"text\": [\"Afghanistan\", \"Albania\", \"Algeria\", \"American Samoa\", \"Andorra\", \"Angola\", \"Anguilla\", \"Antigua and Barbuda\", \"Argentina\", \"Armenia\", \"Aruba\", \"Australia\", \"Austria\", \"Azerbaijan\", \"Bahamas, The\", \"Bahrain\", \"Bangladesh\", \"Barbados\", \"Belarus\", \"Belgium\", \"Belize\", \"Benin\", \"Bermuda\", \"Bhutan\", \"Bolivia\", \"Bosnia and Herzegovina\", \"Botswana\", \"Brazil\", \"British Virgin Islands\", \"Brunei\", \"Bulgaria\", \"Burkina Faso\", \"Burma\", \"Burundi\", \"Cabo Verde\", \"Cambodia\", \"Cameroon\", \"Canada\", \"Cayman Islands\", \"Central African Republic\", \"Chad\", \"Chile\", \"China\", \"Colombia\", \"Comoros\", \"Congo, Democratic Republic of the\", \"Congo, Republic of the\", \"Cook Islands\", \"Costa Rica\", \"Cote d'Ivoire\", \"Croatia\", \"Cuba\", \"Curacao\", \"Cyprus\", \"Czech Republic\", \"Denmark\", \"Djibouti\", \"Dominica\", \"Dominican Republic\", \"Ecuador\", \"Egypt\", \"El Salvador\", \"Equatorial Guinea\", \"Eritrea\", \"Estonia\", \"Ethiopia\", \"Falkland Islands (Islas Malvinas)\", \"Faroe Islands\", \"Fiji\", \"Finland\", \"France\", \"French Polynesia\", \"Gabon\", \"Gambia, The\", \"Georgia\", \"Germany\", \"Ghana\", \"Gibraltar\", \"Greece\", \"Greenland\", \"Grenada\", \"Guam\", \"Guatemala\", \"Guernsey\", \"Guinea-Bissau\", \"Guinea\", \"Guyana\", \"Haiti\", \"Honduras\", \"Hong Kong\", \"Hungary\", \"Iceland\", \"India\", \"Indonesia\", \"Iran\", \"Iraq\", \"Ireland\", \"Isle of Man\", \"Israel\", \"Italy\", \"Jamaica\", \"Japan\", \"Jersey\", \"Jordan\", \"Kazakhstan\", \"Kenya\", \"Kiribati\", \"Korea, North\", \"Korea, South\", \"Kosovo\", \"Kuwait\", \"Kyrgyzstan\", \"Laos\", \"Latvia\", \"Lebanon\", \"Lesotho\", \"Liberia\", \"Libya\", \"Liechtenstein\", \"Lithuania\", \"Luxembourg\", \"Macau\", \"Macedonia\", \"Madagascar\", \"Malawi\", \"Malaysia\", \"Maldives\", \"Mali\", \"Malta\", \"Marshall Islands\", \"Mauritania\", \"Mauritius\", \"Mexico\", \"Micronesia, Federated States of\", \"Moldova\", \"Monaco\", \"Mongolia\", \"Montenegro\", \"Morocco\", \"Mozambique\", \"Namibia\", \"Nepal\", \"Netherlands\", \"New Caledonia\", \"New Zealand\", \"Nicaragua\", \"Nigeria\", \"Niger\", \"Niue\", \"Northern Mariana Islands\", \"Norway\", \"Oman\", \"Pakistan\", \"Palau\", \"Panama\", \"Papua New Guinea\", \"Paraguay\", \"Peru\", \"Philippines\", \"Poland\", \"Portugal\", \"Puerto Rico\", \"Qatar\", \"Romania\", \"Russia\", \"Rwanda\", \"Saint Kitts and Nevis\", \"Saint Lucia\", \"Saint Martin\", \"Saint Pierre and Miquelon\", \"Saint Vincent and the Grenadines\", \"Samoa\", \"San Marino\", \"Sao Tome and Principe\", \"Saudi Arabia\", \"Senegal\", \"Serbia\", \"Seychelles\", \"Sierra Leone\", \"Singapore\", \"Sint Maarten\", \"Slovakia\", \"Slovenia\", \"Solomon Islands\", \"Somalia\", \"South Africa\", \"South Sudan\", \"Spain\", \"Sri Lanka\", \"Sudan\", \"Suriname\", \"Swaziland\", \"Sweden\", \"Switzerland\", \"Syria\", \"Taiwan\", \"Tajikistan\", \"Tanzania\", \"Thailand\", \"Timor-Leste\", \"Togo\", \"Tonga\", \"Trinidad and Tobago\", \"Tunisia\", \"Turkey\", \"Turkmenistan\", \"Tuvalu\", \"Uganda\", \"Ukraine\", \"United Arab Emirates\", \"United Kingdom\", \"United States\", \"Uruguay\", \"Uzbekistan\", \"Vanuatu\", \"Venezuela\", \"Vietnam\", \"Virgin Islands\", \"West Bank\", \"Yemen\", \"Zambia\", \"Zimbabwe\"], \"type\": \"choropleth\", \"z\": [21.71, 13.4, 227.8, 0.75, 4.8, 131.4, 0.18, 1.24, 536.2, 10.88, 2.52, 1483.0, 436.1, 77.91, 8.65, 34.05, 186.6, 4.28, 75.25, 527.8, 1.67, 9.24, 5.2, 2.09, 34.08, 19.55, 16.3, 2244.0, 1.1, 17.43, 55.08, 13.38, 65.29, 3.04, 1.98, 16.9, 32.16, 1794.0, 2.25, 1.73, 15.84, 264.1, 10360.0, 400.1, 0.72, 32.67, 14.11, 0.18, 50.46, 33.96, 57.18, 77.15, 5.6, 21.34, 205.6, 347.2, 1.58, 0.51, 64.05, 100.5, 284.9, 25.14, 15.4, 3.87, 26.36, 49.86, 0.16, 2.32, 4.17, 276.3, 2902.0, 7.15, 20.68, 0.92, 16.13, 3820.0, 35.48, 1.85, 246.4, 2.16, 0.84, 4.6, 58.3, 2.74, 1.04, 6.77, 3.14, 8.92, 19.37, 292.7, 129.7, 16.2, 2048.0, 856.1, 402.7, 232.2, 245.8, 4.08, 305.0, 2129.0, 13.92, 4770.0, 5.77, 36.55, 225.6, 62.72, 0.16, 28.0, 1410.0, 5.99, 179.3, 7.65, 11.71, 32.82, 47.5, 2.46, 2.07, 49.34, 5.11, 48.72, 63.93, 51.68, 10.92, 11.19, 4.41, 336.9, 2.41, 12.04, 10.57, 0.18, 4.29, 12.72, 1296.0, 0.34, 7.74, 6.06, 11.73, 4.66, 112.6, 16.59, 13.11, 19.64, 880.4, 11.1, 201.0, 11.85, 594.3, 8.29, 0.01, 1.23, 511.6, 80.54, 237.5, 0.65, 44.69, 16.1, 31.3, 208.2, 284.6, 552.2, 228.2, 93.52, 212.0, 199.0, 2057.0, 8.0, 0.81, 1.35, 0.56, 0.22, 0.75, 0.83, 1.86, 0.36, 777.9, 15.88, 42.65, 1.47, 5.41, 307.9, 304.1, 99.75, 49.93, 1.16, 2.37, 341.2, 11.89, 1400.0, 71.57, 70.03, 5.27, 3.84, 559.1, 679.0, 64.7, 529.5, 9.16, 36.62, 373.8, 4.51, 4.84, 0.49, 29.63, 49.12, 813.3, 43.5, 0.04, 26.09, 134.9, 416.4, 2848.0, 17420.0, 55.6, 63.08, 0.82, 209.2, 187.8, 5.08, 6.64, 45.45, 25.61, 13.74]}],                        {\"geo\": {\"projection\": {\"type\": \"mercator\"}, \"scope\": \"world\", \"showframe\": true}, \"template\": {\"data\": {\"bar\": [{\"error_x\": {\"color\": \"#2a3f5f\"}, \"error_y\": {\"color\": \"#2a3f5f\"}, \"marker\": {\"line\": {\"color\": \"#E5ECF6\", \"width\": 0.5}}, \"type\": \"bar\"}], \"barpolar\": [{\"marker\": {\"line\": {\"color\": \"#E5ECF6\", \"width\": 0.5}}, \"type\": \"barpolar\"}], \"carpet\": [{\"aaxis\": {\"endlinecolor\": \"#2a3f5f\", \"gridcolor\": \"white\", \"linecolor\": \"white\", \"minorgridcolor\": \"white\", \"startlinecolor\": \"#2a3f5f\"}, \"baxis\": {\"endlinecolor\": \"#2a3f5f\", \"gridcolor\": \"white\", \"linecolor\": \"white\", \"minorgridcolor\": \"white\", \"startlinecolor\": \"#2a3f5f\"}, \"type\": \"carpet\"}], \"choropleth\": [{\"colorbar\": {\"outlinewidth\": 0, \"ticks\": \"\"}, \"type\": \"choropleth\"}], \"contour\": [{\"colorbar\": {\"outlinewidth\": 0, \"ticks\": \"\"}, \"colorscale\": [[0.0, \"#0d0887\"], [0.1111111111111111, \"#46039f\"], [0.2222222222222222, \"#7201a8\"], [0.3333333333333333, \"#9c179e\"], [0.4444444444444444, \"#bd3786\"], [0.5555555555555556, \"#d8576b\"], [0.6666666666666666, \"#ed7953\"], [0.7777777777777778, \"#fb9f3a\"], [0.8888888888888888, \"#fdca26\"], [1.0, \"#f0f921\"]], \"type\": \"contour\"}], \"contourcarpet\": [{\"colorbar\": {\"outlinewidth\": 0, \"ticks\": \"\"}, \"type\": \"contourcarpet\"}], \"heatmap\": [{\"colorbar\": {\"outlinewidth\": 0, \"ticks\": \"\"}, \"colorscale\": [[0.0, \"#0d0887\"], [0.1111111111111111, \"#46039f\"], [0.2222222222222222, \"#7201a8\"], [0.3333333333333333, \"#9c179e\"], [0.4444444444444444, \"#bd3786\"], [0.5555555555555556, \"#d8576b\"], [0.6666666666666666, \"#ed7953\"], [0.7777777777777778, \"#fb9f3a\"], [0.8888888888888888, \"#fdca26\"], [1.0, \"#f0f921\"]], \"type\": \"heatmap\"}], \"heatmapgl\": [{\"colorbar\": {\"outlinewidth\": 0, \"ticks\": \"\"}, \"colorscale\": [[0.0, \"#0d0887\"], [0.1111111111111111, \"#46039f\"], [0.2222222222222222, \"#7201a8\"], [0.3333333333333333, \"#9c179e\"], [0.4444444444444444, \"#bd3786\"], [0.5555555555555556, \"#d8576b\"], [0.6666666666666666, \"#ed7953\"], [0.7777777777777778, \"#fb9f3a\"], [0.8888888888888888, \"#fdca26\"], [1.0, \"#f0f921\"]], \"type\": \"heatmapgl\"}], \"histogram\": [{\"marker\": {\"colorbar\": {\"outlinewidth\": 0, \"ticks\": \"\"}}, \"type\": \"histogram\"}], \"histogram2d\": [{\"colorbar\": {\"outlinewidth\": 0, \"ticks\": \"\"}, \"colorscale\": [[0.0, \"#0d0887\"], [0.1111111111111111, \"#46039f\"], [0.2222222222222222, \"#7201a8\"], [0.3333333333333333, \"#9c179e\"], [0.4444444444444444, \"#bd3786\"], [0.5555555555555556, \"#d8576b\"], [0.6666666666666666, \"#ed7953\"], [0.7777777777777778, \"#fb9f3a\"], [0.8888888888888888, \"#fdca26\"], [1.0, \"#f0f921\"]], \"type\": \"histogram2d\"}], \"histogram2dcontour\": [{\"colorbar\": {\"outlinewidth\": 0, \"ticks\": \"\"}, \"colorscale\": [[0.0, \"#0d0887\"], [0.1111111111111111, \"#46039f\"], [0.2222222222222222, \"#7201a8\"], [0.3333333333333333, \"#9c179e\"], [0.4444444444444444, \"#bd3786\"], [0.5555555555555556, \"#d8576b\"], [0.6666666666666666, \"#ed7953\"], [0.7777777777777778, \"#fb9f3a\"], [0.8888888888888888, \"#fdca26\"], [1.0, \"#f0f921\"]], \"type\": \"histogram2dcontour\"}], \"mesh3d\": [{\"colorbar\": {\"outlinewidth\": 0, \"ticks\": \"\"}, \"type\": \"mesh3d\"}], \"parcoords\": [{\"line\": {\"colorbar\": {\"outlinewidth\": 0, \"ticks\": \"\"}}, \"type\": \"parcoords\"}], \"pie\": [{\"automargin\": true, \"type\": \"pie\"}], \"scatter\": [{\"marker\": {\"colorbar\": {\"outlinewidth\": 0, \"ticks\": \"\"}}, \"type\": \"scatter\"}], \"scatter3d\": [{\"line\": {\"colorbar\": {\"outlinewidth\": 0, \"ticks\": \"\"}}, \"marker\": {\"colorbar\": {\"outlinewidth\": 0, \"ticks\": \"\"}}, \"type\": \"scatter3d\"}], \"scattercarpet\": [{\"marker\": {\"colorbar\": {\"outlinewidth\": 0, \"ticks\": \"\"}}, \"type\": \"scattercarpet\"}], \"scattergeo\": [{\"marker\": {\"colorbar\": {\"outlinewidth\": 0, \"ticks\": \"\"}}, \"type\": \"scattergeo\"}], \"scattergl\": [{\"marker\": {\"colorbar\": {\"outlinewidth\": 0, \"ticks\": \"\"}}, \"type\": \"scattergl\"}], \"scattermapbox\": [{\"marker\": {\"colorbar\": {\"outlinewidth\": 0, \"ticks\": \"\"}}, \"type\": \"scattermapbox\"}], \"scatterpolar\": [{\"marker\": {\"colorbar\": {\"outlinewidth\": 0, \"ticks\": \"\"}}, \"type\": \"scatterpolar\"}], \"scatterpolargl\": [{\"marker\": {\"colorbar\": {\"outlinewidth\": 0, \"ticks\": \"\"}}, \"type\": \"scatterpolargl\"}], \"scatterternary\": [{\"marker\": {\"colorbar\": {\"outlinewidth\": 0, \"ticks\": \"\"}}, \"type\": \"scatterternary\"}], \"surface\": [{\"colorbar\": {\"outlinewidth\": 0, \"ticks\": \"\"}, \"colorscale\": [[0.0, \"#0d0887\"], [0.1111111111111111, \"#46039f\"], [0.2222222222222222, \"#7201a8\"], [0.3333333333333333, \"#9c179e\"], [0.4444444444444444, \"#bd3786\"], [0.5555555555555556, \"#d8576b\"], [0.6666666666666666, \"#ed7953\"], [0.7777777777777778, \"#fb9f3a\"], [0.8888888888888888, \"#fdca26\"], [1.0, \"#f0f921\"]], \"type\": \"surface\"}], \"table\": [{\"cells\": {\"fill\": {\"color\": \"#EBF0F8\"}, \"line\": {\"color\": \"white\"}}, \"header\": {\"fill\": {\"color\": \"#C8D4E3\"}, \"line\": {\"color\": \"white\"}}, \"type\": \"table\"}]}, \"layout\": {\"annotationdefaults\": {\"arrowcolor\": \"#2a3f5f\", \"arrowhead\": 0, \"arrowwidth\": 1}, \"autotypenumbers\": \"strict\", \"coloraxis\": {\"colorbar\": {\"outlinewidth\": 0, \"ticks\": \"\"}}, \"colorscale\": {\"diverging\": [[0, \"#8e0152\"], [0.1, \"#c51b7d\"], [0.2, \"#de77ae\"], [0.3, \"#f1b6da\"], [0.4, \"#fde0ef\"], [0.5, \"#f7f7f7\"], [0.6, \"#e6f5d0\"], [0.7, \"#b8e186\"], [0.8, \"#7fbc41\"], [0.9, \"#4d9221\"], [1, \"#276419\"]], \"sequential\": [[0.0, \"#0d0887\"], [0.1111111111111111, \"#46039f\"], [0.2222222222222222, \"#7201a8\"], [0.3333333333333333, \"#9c179e\"], [0.4444444444444444, \"#bd3786\"], [0.5555555555555556, \"#d8576b\"], [0.6666666666666666, \"#ed7953\"], [0.7777777777777778, \"#fb9f3a\"], [0.8888888888888888, \"#fdca26\"], [1.0, \"#f0f921\"]], \"sequentialminus\": [[0.0, \"#0d0887\"], [0.1111111111111111, \"#46039f\"], [0.2222222222222222, \"#7201a8\"], [0.3333333333333333, \"#9c179e\"], [0.4444444444444444, \"#bd3786\"], [0.5555555555555556, \"#d8576b\"], [0.6666666666666666, \"#ed7953\"], [0.7777777777777778, \"#fb9f3a\"], [0.8888888888888888, \"#fdca26\"], [1.0, \"#f0f921\"]]}, \"colorway\": [\"#636efa\", \"#EF553B\", \"#00cc96\", \"#ab63fa\", \"#FFA15A\", \"#19d3f3\", \"#FF6692\", \"#B6E880\", \"#FF97FF\", \"#FECB52\"], \"font\": {\"color\": \"#2a3f5f\"}, \"geo\": {\"bgcolor\": \"white\", \"lakecolor\": \"white\", \"landcolor\": \"#E5ECF6\", \"showlakes\": true, \"showland\": true, \"subunitcolor\": \"white\"}, \"hoverlabel\": {\"align\": \"left\"}, \"hovermode\": \"closest\", \"mapbox\": {\"style\": \"light\"}, \"paper_bgcolor\": \"white\", \"plot_bgcolor\": \"#E5ECF6\", \"polar\": {\"angularaxis\": {\"gridcolor\": \"white\", \"linecolor\": \"white\", \"ticks\": \"\"}, \"bgcolor\": \"#E5ECF6\", \"radialaxis\": {\"gridcolor\": \"white\", \"linecolor\": \"white\", \"ticks\": \"\"}}, \"scene\": {\"xaxis\": {\"backgroundcolor\": \"#E5ECF6\", \"gridcolor\": \"white\", \"gridwidth\": 2, \"linecolor\": \"white\", \"showbackground\": true, \"ticks\": \"\", \"zerolinecolor\": \"white\"}, \"yaxis\": {\"backgroundcolor\": \"#E5ECF6\", \"gridcolor\": \"white\", \"gridwidth\": 2, \"linecolor\": \"white\", \"showbackground\": true, \"ticks\": \"\", \"zerolinecolor\": \"white\"}, \"zaxis\": {\"backgroundcolor\": \"#E5ECF6\", \"gridcolor\": \"white\", \"gridwidth\": 2, \"linecolor\": \"white\", \"showbackground\": true, \"ticks\": \"\", \"zerolinecolor\": \"white\"}}, \"shapedefaults\": {\"line\": {\"color\": \"#2a3f5f\"}}, \"ternary\": {\"aaxis\": {\"gridcolor\": \"white\", \"linecolor\": \"white\", \"ticks\": \"\"}, \"baxis\": {\"gridcolor\": \"white\", \"linecolor\": \"white\", \"ticks\": \"\"}, \"bgcolor\": \"#E5ECF6\", \"caxis\": {\"gridcolor\": \"white\", \"linecolor\": \"white\", \"ticks\": \"\"}}, \"title\": {\"x\": 0.05}, \"xaxis\": {\"automargin\": true, \"gridcolor\": \"white\", \"linecolor\": \"white\", \"ticks\": \"\", \"title\": {\"standoff\": 15}, \"zerolinecolor\": \"white\", \"zerolinewidth\": 2}, \"yaxis\": {\"automargin\": true, \"gridcolor\": \"white\", \"linecolor\": \"white\", \"ticks\": \"\", \"title\": {\"standoff\": 15}, \"zerolinecolor\": \"white\", \"zerolinewidth\": 2}}}, \"title\": {\"text\": \"2014 Global GDP\"}},                        {\"responsive\": true}                    ).then(function(){\n",
       "                            \n",
       "var gd = document.getElementById('5a9f59af-96e3-4970-acf0-67f6c88eda1b');\n",
       "var x = new MutationObserver(function (mutations, observer) {{\n",
       "        var display = window.getComputedStyle(gd).display;\n",
       "        if (!display || display === 'none') {{\n",
       "            console.log([gd, 'removed!']);\n",
       "            Plotly.purge(gd);\n",
       "            observer.disconnect();\n",
       "        }}\n",
       "}});\n",
       "\n",
       "// Listen for the removal of the full notebook cells\n",
       "var notebookContainer = gd.closest('#notebook-container');\n",
       "if (notebookContainer) {{\n",
       "    x.observe(notebookContainer, {childList: true});\n",
       "}}\n",
       "\n",
       "// Listen for the clearing of the current output cell\n",
       "var outputEl = gd.closest('.output');\n",
       "if (outputEl) {{\n",
       "    x.observe(outputEl, {childList: true});\n",
       "}}\n",
       "\n",
       "                        })                };                });            </script>        </div>"
      ]
     },
     "metadata": {},
     "output_type": "display_data"
    }
   ],
   "source": [
    "iplot(choromap)"
   ]
  },
  {
   "cell_type": "code",
   "execution_count": 66,
   "id": "52afd7f3",
   "metadata": {},
   "outputs": [
    {
     "data": {
      "text/plain": [
       "'temp-plot.html'"
      ]
     },
     "execution_count": 66,
     "metadata": {},
     "output_type": "execute_result"
    }
   ],
   "source": [
    "plot(choromap)"
   ]
  }
 ],
 "metadata": {
  "kernelspec": {
   "display_name": "Python 3",
   "language": "python",
   "name": "python3"
  },
  "language_info": {
   "codemirror_mode": {
    "name": "ipython",
    "version": 3
   },
   "file_extension": ".py",
   "mimetype": "text/x-python",
   "name": "python",
   "nbconvert_exporter": "python",
   "pygments_lexer": "ipython3",
   "version": "3.7.7"
  },
  "toc": {
   "base_numbering": 1,
   "nav_menu": {},
   "number_sections": true,
   "sideBar": true,
   "skip_h1_title": true,
   "title_cell": "Table of Contents",
   "title_sidebar": "Contents",
   "toc_cell": false,
   "toc_position": {
    "height": "calc(100% - 180px)",
    "left": "10px",
    "top": "150px",
    "width": "288px"
   },
   "toc_section_display": true,
   "toc_window_display": false
  },
  "varInspector": {
   "cols": {
    "lenName": 16,
    "lenType": 16,
    "lenVar": 40
   },
   "kernels_config": {
    "python": {
     "delete_cmd_postfix": "",
     "delete_cmd_prefix": "del ",
     "library": "var_list.py",
     "varRefreshCmd": "print(var_dic_list())"
    },
    "r": {
     "delete_cmd_postfix": ") ",
     "delete_cmd_prefix": "rm(",
     "library": "var_list.r",
     "varRefreshCmd": "cat(var_dic_list()) "
    }
   },
   "types_to_exclude": [
    "module",
    "function",
    "builtin_function_or_method",
    "instance",
    "_Feature"
   ],
   "window_display": false
  }
 },
 "nbformat": 4,
 "nbformat_minor": 5
}
