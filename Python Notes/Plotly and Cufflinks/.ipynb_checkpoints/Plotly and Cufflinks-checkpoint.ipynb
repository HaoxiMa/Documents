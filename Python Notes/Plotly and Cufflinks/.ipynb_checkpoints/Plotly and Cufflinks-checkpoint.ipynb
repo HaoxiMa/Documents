{
 "cells": [
  {
   "cell_type": "markdown",
   "id": "223174cc",
   "metadata": {},
   "source": [
    "<img src=\"../NiceStart.jpeg\" width=400 height=400 align=\"center\"/>"
   ]
  },
  {
   "cell_type": "markdown",
   "id": "99c0b96e",
   "metadata": {},
   "source": [
    "# Plotly and Cufflinks\n",
    "\n",
    "**Plotly** is a library that allows you to create interactive plots that you can use in dashboards or websites (you can save them as html files or static images)\n",
    "\n",
    "**Cufflinks** is a library that connects the Pandas data frame with Plotly enabling users to create visualizations directly from Pandas. The library binds the power of Plotly with the flexibility of Pandas for easy plotting."
   ]
  },
  {
   "cell_type": "code",
   "execution_count": 1,
   "id": "f01138fa",
   "metadata": {},
   "outputs": [],
   "source": [
    "#输出多个output\n",
    "from IPython.core.interactiveshell import InteractiveShell\n",
    "InteractiveShell.ast_node_interactivity='all'\n",
    "#Open hinterland\n",
    "%config Completer.use_jedi = False"
   ]
  },
  {
   "cell_type": "code",
   "execution_count": 2,
   "id": "613e33d6",
   "metadata": {},
   "outputs": [],
   "source": [
    "import numpy as np\n",
    "import pandas as pd"
   ]
  },
  {
   "cell_type": "code",
   "execution_count": 3,
   "id": "9ce76dec",
   "metadata": {},
   "outputs": [
    {
     "name": "stdout",
     "output_type": "stream",
     "text": [
      "4.14.3\n"
     ]
    }
   ],
   "source": [
    "from plotly import __version__\n",
    "from plotly.offline import download_plotlyjs, init_notebook_mode, plot, iplot #import the plotly offline use\n",
    "\n",
    "print(__version__) # requires version >= 1.9.0"
   ]
  },
  {
   "cell_type": "markdown",
   "id": "787f8994",
   "metadata": {},
   "source": [
    "More info on other options for Offline Plotly usage can be found [here](https://plot.ly/python/offline/)."
   ]
  },
  {
   "cell_type": "code",
   "execution_count": 4,
   "id": "246eee4e",
   "metadata": {},
   "outputs": [
    {
     "data": {
      "text/html": [
       "        <script type=\"text/javascript\">\n",
       "        window.PlotlyConfig = {MathJaxConfig: 'local'};\n",
       "        if (window.MathJax) {MathJax.Hub.Config({SVG: {font: \"STIX-Web\"}});}\n",
       "        if (typeof require !== 'undefined') {\n",
       "        require.undef(\"plotly\");\n",
       "        requirejs.config({\n",
       "            paths: {\n",
       "                'plotly': ['https://cdn.plot.ly/plotly-latest.min']\n",
       "            }\n",
       "        });\n",
       "        require(['plotly'], function(Plotly) {\n",
       "            window._Plotly = Plotly;\n",
       "        });\n",
       "        }\n",
       "        </script>\n",
       "        "
      ]
     },
     "metadata": {},
     "output_type": "display_data"
    }
   ],
   "source": [
    "#Connect the Javascript to your jupyter notebooks\n",
    "init_notebook_mode(connected=True)"
   ]
  },
  {
   "cell_type": "code",
   "execution_count": 5,
   "id": "19ee4fd1",
   "metadata": {},
   "outputs": [
    {
     "data": {
      "text/html": [
       "        <script type=\"text/javascript\">\n",
       "        window.PlotlyConfig = {MathJaxConfig: 'local'};\n",
       "        if (window.MathJax) {MathJax.Hub.Config({SVG: {font: \"STIX-Web\"}});}\n",
       "        if (typeof require !== 'undefined') {\n",
       "        require.undef(\"plotly\");\n",
       "        requirejs.config({\n",
       "            paths: {\n",
       "                'plotly': ['https://cdn.plot.ly/plotly-latest.min']\n",
       "            }\n",
       "        });\n",
       "        require(['plotly'], function(Plotly) {\n",
       "            window._Plotly = Plotly;\n",
       "        });\n",
       "        }\n",
       "        </script>\n",
       "        "
      ]
     },
     "metadata": {},
     "output_type": "display_data"
    }
   ],
   "source": [
    "import cufflinks as cf\n",
    "\n",
    "# For offline use\n",
    "cf.go_offline()"
   ]
  },
  {
   "cell_type": "markdown",
   "id": "5082cc2c",
   "metadata": {},
   "source": [
    "## Data"
   ]
  },
  {
   "cell_type": "code",
   "execution_count": 6,
   "id": "65515350",
   "metadata": {},
   "outputs": [
    {
     "data": {
      "text/html": [
       "<div>\n",
       "<style scoped>\n",
       "    .dataframe tbody tr th:only-of-type {\n",
       "        vertical-align: middle;\n",
       "    }\n",
       "\n",
       "    .dataframe tbody tr th {\n",
       "        vertical-align: top;\n",
       "    }\n",
       "\n",
       "    .dataframe thead th {\n",
       "        text-align: right;\n",
       "    }\n",
       "</style>\n",
       "<table border=\"1\" class=\"dataframe\">\n",
       "  <thead>\n",
       "    <tr style=\"text-align: right;\">\n",
       "      <th></th>\n",
       "      <th>A</th>\n",
       "      <th>B</th>\n",
       "      <th>C</th>\n",
       "      <th>D</th>\n",
       "    </tr>\n",
       "  </thead>\n",
       "  <tbody>\n",
       "    <tr>\n",
       "      <th>0</th>\n",
       "      <td>1.137984</td>\n",
       "      <td>0.732390</td>\n",
       "      <td>0.922284</td>\n",
       "      <td>-0.492767</td>\n",
       "    </tr>\n",
       "    <tr>\n",
       "      <th>1</th>\n",
       "      <td>-1.551167</td>\n",
       "      <td>-0.328452</td>\n",
       "      <td>-1.680499</td>\n",
       "      <td>-1.598621</td>\n",
       "    </tr>\n",
       "    <tr>\n",
       "      <th>2</th>\n",
       "      <td>-0.499108</td>\n",
       "      <td>-0.451077</td>\n",
       "      <td>0.359768</td>\n",
       "      <td>0.749127</td>\n",
       "    </tr>\n",
       "    <tr>\n",
       "      <th>3</th>\n",
       "      <td>1.085004</td>\n",
       "      <td>1.625967</td>\n",
       "      <td>0.694665</td>\n",
       "      <td>1.312156</td>\n",
       "    </tr>\n",
       "    <tr>\n",
       "      <th>4</th>\n",
       "      <td>1.398959</td>\n",
       "      <td>2.243031</td>\n",
       "      <td>-2.022825</td>\n",
       "      <td>0.084538</td>\n",
       "    </tr>\n",
       "    <tr>\n",
       "      <th>...</th>\n",
       "      <td>...</td>\n",
       "      <td>...</td>\n",
       "      <td>...</td>\n",
       "      <td>...</td>\n",
       "    </tr>\n",
       "    <tr>\n",
       "      <th>95</th>\n",
       "      <td>-0.928984</td>\n",
       "      <td>-0.091857</td>\n",
       "      <td>-0.114617</td>\n",
       "      <td>0.959668</td>\n",
       "    </tr>\n",
       "    <tr>\n",
       "      <th>96</th>\n",
       "      <td>0.477855</td>\n",
       "      <td>1.792302</td>\n",
       "      <td>2.023443</td>\n",
       "      <td>0.701739</td>\n",
       "    </tr>\n",
       "    <tr>\n",
       "      <th>97</th>\n",
       "      <td>0.282132</td>\n",
       "      <td>-0.202252</td>\n",
       "      <td>0.130010</td>\n",
       "      <td>-0.711298</td>\n",
       "    </tr>\n",
       "    <tr>\n",
       "      <th>98</th>\n",
       "      <td>-1.115599</td>\n",
       "      <td>0.048002</td>\n",
       "      <td>-0.643057</td>\n",
       "      <td>0.137061</td>\n",
       "    </tr>\n",
       "    <tr>\n",
       "      <th>99</th>\n",
       "      <td>0.408501</td>\n",
       "      <td>2.778984</td>\n",
       "      <td>-0.021010</td>\n",
       "      <td>1.108604</td>\n",
       "    </tr>\n",
       "  </tbody>\n",
       "</table>\n",
       "<p>100 rows × 4 columns</p>\n",
       "</div>"
      ],
      "text/plain": [
       "           A         B         C         D\n",
       "0   1.137984  0.732390  0.922284 -0.492767\n",
       "1  -1.551167 -0.328452 -1.680499 -1.598621\n",
       "2  -0.499108 -0.451077  0.359768  0.749127\n",
       "3   1.085004  1.625967  0.694665  1.312156\n",
       "4   1.398959  2.243031 -2.022825  0.084538\n",
       "..       ...       ...       ...       ...\n",
       "95 -0.928984 -0.091857 -0.114617  0.959668\n",
       "96  0.477855  1.792302  2.023443  0.701739\n",
       "97  0.282132 -0.202252  0.130010 -0.711298\n",
       "98 -1.115599  0.048002 -0.643057  0.137061\n",
       "99  0.408501  2.778984 -0.021010  1.108604\n",
       "\n",
       "[100 rows x 4 columns]"
      ]
     },
     "execution_count": 6,
     "metadata": {},
     "output_type": "execute_result"
    }
   ],
   "source": [
    "df = pd.DataFrame(np.random.randn(100,4), columns=\"A B C D\".split())\n",
    "df"
   ]
  },
  {
   "cell_type": "code",
   "execution_count": 7,
   "id": "064a03ed",
   "metadata": {},
   "outputs": [
    {
     "data": {
      "text/html": [
       "<div>\n",
       "<style scoped>\n",
       "    .dataframe tbody tr th:only-of-type {\n",
       "        vertical-align: middle;\n",
       "    }\n",
       "\n",
       "    .dataframe tbody tr th {\n",
       "        vertical-align: top;\n",
       "    }\n",
       "\n",
       "    .dataframe thead th {\n",
       "        text-align: right;\n",
       "    }\n",
       "</style>\n",
       "<table border=\"1\" class=\"dataframe\">\n",
       "  <thead>\n",
       "    <tr style=\"text-align: right;\">\n",
       "      <th></th>\n",
       "      <th>Category</th>\n",
       "      <th>Values</th>\n",
       "    </tr>\n",
       "  </thead>\n",
       "  <tbody>\n",
       "    <tr>\n",
       "      <th>0</th>\n",
       "      <td>A</td>\n",
       "      <td>32</td>\n",
       "    </tr>\n",
       "    <tr>\n",
       "      <th>1</th>\n",
       "      <td>B</td>\n",
       "      <td>43</td>\n",
       "    </tr>\n",
       "    <tr>\n",
       "      <th>2</th>\n",
       "      <td>C</td>\n",
       "      <td>50</td>\n",
       "    </tr>\n",
       "  </tbody>\n",
       "</table>\n",
       "</div>"
      ],
      "text/plain": [
       "  Category  Values\n",
       "0        A      32\n",
       "1        B      43\n",
       "2        C      50"
      ]
     },
     "execution_count": 7,
     "metadata": {},
     "output_type": "execute_result"
    }
   ],
   "source": [
    "df2 = pd.DataFrame({\"Category\":[\"A\",\"B\",\"C\"], \"Values\":[32,43,50]})\n",
    "df2"
   ]
  },
  {
   "cell_type": "markdown",
   "id": "7380f265",
   "metadata": {},
   "source": [
    "## Using Cufflinks and iplot()\n",
    "\n",
    "* scatter\n",
    "* bar\n",
    "* box\n",
    "* spread\n",
    "* ratio\n",
    "* heatmap\n",
    "* surface\n",
    "* histogram\n",
    "* bubble"
   ]
  },
  {
   "cell_type": "markdown",
   "id": "399b9b94",
   "metadata": {},
   "source": [
    "### Scatter"
   ]
  },
  {
   "cell_type": "code",
   "execution_count": 8,
   "id": "642d48a4",
   "metadata": {},
   "outputs": [
    {
     "data": {
      "application/vnd.plotly.v1+json": {
       "config": {
        "linkText": "Export to plot.ly",
        "plotlyServerURL": "https://plot.ly",
        "showLink": true
       },
       "data": [
        {
         "line": {
          "color": "rgba(255, 153, 51, 1.0)",
          "dash": "solid",
          "shape": "linear",
          "width": 1.3
         },
         "marker": {
          "size": 10,
          "symbol": "circle"
         },
         "mode": "markers",
         "name": "B",
         "text": "",
         "type": "scatter",
         "x": [
          1.13798425475934,
          -1.5511667265037368,
          -0.49910781628050077,
          1.085004351054516,
          1.3989590240733099,
          -0.2911375934861317,
          -1.5870990872964883,
          -0.27935482665627126,
          0.3605252492517807,
          -0.2573222198131206,
          0.1282283018327493,
          -0.07523399544764772,
          -1.209782190524917,
          2.0998120955843382,
          0.21015410636408016,
          0.22039843592118114,
          -0.2750042028570783,
          -0.6425752651343553,
          0.04922938202933533,
          -1.151271215568177,
          -0.42520307577080796,
          0.286067143912526,
          0.6534378509385754,
          0.8055892428102114,
          1.6706324275158206,
          -1.9144292516764323,
          -0.7130745443719025,
          0.7132261507336397,
          1.0879917537219244,
          1.1428274385647352,
          1.1052680624561735,
          -0.5017274571551676,
          -0.15486630452781308,
          -0.8648382795499453,
          -0.821833223346524,
          -0.9012730792736585,
          0.6915059079700464,
          0.9054765379391744,
          -1.2976938178943378,
          -2.53565236236453,
          -0.1468560126376463,
          0.7415838145374852,
          0.967262105578842,
          -0.35875049228952205,
          0.8406410200429533,
          -0.03382970251039049,
          0.8707112942651388,
          -1.4962151290981338,
          -0.07482657180383757,
          -2.0160590596318197,
          0.3736129818346688,
          1.6452214643540364,
          1.7483148573896086,
          -1.4782529280436036,
          -0.1851835324174723,
          0.07377001332300753,
          0.36261478198089586,
          0.8651189780670078,
          0.6850474548860096,
          -0.7604619533012311,
          0.6555732095574617,
          -0.2688445662091309,
          2.284918084356147,
          -0.8340569074513916,
          1.6567735333149083,
          0.2924799350386549,
          -0.2735576072888158,
          0.0661601600306233,
          -0.6484239909056564,
          0.3878976614822351,
          -0.7011706453361762,
          0.2833166864898419,
          0.46257195200648377,
          0.5553702337250296,
          -0.5010959672124472,
          -0.14217198426981456,
          0.030937629523973564,
          -0.7574771731657584,
          0.45118790988184454,
          0.8219555020946994,
          0.5957135274819632,
          0.296850683691185,
          -0.12687894891679846,
          1.6095887390402563,
          -0.4527220315030091,
          0.971845763811533,
          0.6888768190349028,
          1.190978115499409,
          1.553954249377355,
          -0.12605990653637028,
          1.3525180232497602,
          0.721154005304942,
          -1.9836464415088655,
          -0.7479971966715627,
          -0.06669017642695914,
          -0.9289839979546476,
          0.4778549545203271,
          0.28213164182506856,
          -1.1155992489230353,
          0.4085009469861413
         ],
         "y": [
          0.7323896324227073,
          -0.3284517281790686,
          -0.4510768322302432,
          1.6259669689281526,
          2.2430313429630293,
          -1.7897441106074743,
          0.569351307124913,
          -0.64587704510535,
          -0.0028811213343762202,
          -0.6373272106113808,
          1.0727062355724828,
          -2.952465256493198,
          1.287542719369616,
          -1.9267498062823034,
          2.0788433396371806,
          0.43073404217299227,
          0.26760125628746445,
          1.0849032546496722,
          1.3952877106807626,
          -0.6565850044269331,
          0.3817056840001886,
          -0.7412006468853344,
          -1.1217400025261557,
          0.6370813567298341,
          -0.5641382119507771,
          0.4634853466013324,
          -0.8584405373757337,
          -0.31182260271644374,
          0.3241918385448195,
          -1.33196541981774,
          -0.32846040497042905,
          -1.6413072197342926,
          0.7173508042526268,
          -1.7799489677323204,
          -1.86186170165096,
          0.10832184935546763,
          -1.0288381651747285,
          -0.545393753019585,
          -0.2650696867162592,
          0.05143818057526999,
          2.4823816265488032,
          -0.2501683134068812,
          -0.8065726277144815,
          0.5501537595048036,
          1.1282774686998163,
          -1.1732802076261226,
          -0.46217213437426197,
          -1.3361758119419371,
          2.5199867408681107,
          2.9378115385841097,
          -0.7262093920427323,
          0.6618920921980426,
          -0.8331597086864062,
          -0.30617972029078255,
          -0.4785044386864302,
          -0.4311874108212848,
          1.059597532517294,
          -1.5851754098869444,
          -0.039793079226337416,
          0.9867240234550703,
          1.3051413089883257,
          -0.5936323554912434,
          -0.7753853225554804,
          0.25590786585761166,
          1.547462128147694,
          -1.1023295816945362,
          -0.6222120723704447,
          -1.3188982035117294,
          -0.3093504949433165,
          -0.6769875209754437,
          -1.2333911783155913,
          -0.25666166671048446,
          -0.16532592175370936,
          -1.5355312465996227,
          -0.044051680488167134,
          -2.1457695866393056,
          0.9910173713062925,
          -1.1693051260643423,
          0.5160990345223325,
          0.3034532039457703,
          0.6409653165213176,
          0.9651791752395708,
          -2.2583982537236387,
          0.9926410629675069,
          1.3397259187632276,
          0.3781172112555631,
          1.5690672504187282,
          -0.03013161830784265,
          0.010106847671662566,
          0.33347285351095557,
          0.9112980654586149,
          0.14301371449262146,
          -0.30880549994744216,
          -2.0760184562581383,
          -0.7149080366700209,
          -0.0918574051416281,
          1.7923015769941466,
          -0.2022523157306176,
          0.04800165228427791,
          2.778983884871559
         ]
        }
       ],
       "layout": {
        "legend": {
         "bgcolor": "#F5F6F9",
         "font": {
          "color": "#4D5663"
         }
        },
        "paper_bgcolor": "#F5F6F9",
        "plot_bgcolor": "#F5F6F9",
        "template": {
         "data": {
          "bar": [
           {
            "error_x": {
             "color": "#2a3f5f"
            },
            "error_y": {
             "color": "#2a3f5f"
            },
            "marker": {
             "line": {
              "color": "#E5ECF6",
              "width": 0.5
             }
            },
            "type": "bar"
           }
          ],
          "barpolar": [
           {
            "marker": {
             "line": {
              "color": "#E5ECF6",
              "width": 0.5
             }
            },
            "type": "barpolar"
           }
          ],
          "carpet": [
           {
            "aaxis": {
             "endlinecolor": "#2a3f5f",
             "gridcolor": "white",
             "linecolor": "white",
             "minorgridcolor": "white",
             "startlinecolor": "#2a3f5f"
            },
            "baxis": {
             "endlinecolor": "#2a3f5f",
             "gridcolor": "white",
             "linecolor": "white",
             "minorgridcolor": "white",
             "startlinecolor": "#2a3f5f"
            },
            "type": "carpet"
           }
          ],
          "choropleth": [
           {
            "colorbar": {
             "outlinewidth": 0,
             "ticks": ""
            },
            "type": "choropleth"
           }
          ],
          "contour": [
           {
            "colorbar": {
             "outlinewidth": 0,
             "ticks": ""
            },
            "colorscale": [
             [
              0,
              "#0d0887"
             ],
             [
              0.1111111111111111,
              "#46039f"
             ],
             [
              0.2222222222222222,
              "#7201a8"
             ],
             [
              0.3333333333333333,
              "#9c179e"
             ],
             [
              0.4444444444444444,
              "#bd3786"
             ],
             [
              0.5555555555555556,
              "#d8576b"
             ],
             [
              0.6666666666666666,
              "#ed7953"
             ],
             [
              0.7777777777777778,
              "#fb9f3a"
             ],
             [
              0.8888888888888888,
              "#fdca26"
             ],
             [
              1,
              "#f0f921"
             ]
            ],
            "type": "contour"
           }
          ],
          "contourcarpet": [
           {
            "colorbar": {
             "outlinewidth": 0,
             "ticks": ""
            },
            "type": "contourcarpet"
           }
          ],
          "heatmap": [
           {
            "colorbar": {
             "outlinewidth": 0,
             "ticks": ""
            },
            "colorscale": [
             [
              0,
              "#0d0887"
             ],
             [
              0.1111111111111111,
              "#46039f"
             ],
             [
              0.2222222222222222,
              "#7201a8"
             ],
             [
              0.3333333333333333,
              "#9c179e"
             ],
             [
              0.4444444444444444,
              "#bd3786"
             ],
             [
              0.5555555555555556,
              "#d8576b"
             ],
             [
              0.6666666666666666,
              "#ed7953"
             ],
             [
              0.7777777777777778,
              "#fb9f3a"
             ],
             [
              0.8888888888888888,
              "#fdca26"
             ],
             [
              1,
              "#f0f921"
             ]
            ],
            "type": "heatmap"
           }
          ],
          "heatmapgl": [
           {
            "colorbar": {
             "outlinewidth": 0,
             "ticks": ""
            },
            "colorscale": [
             [
              0,
              "#0d0887"
             ],
             [
              0.1111111111111111,
              "#46039f"
             ],
             [
              0.2222222222222222,
              "#7201a8"
             ],
             [
              0.3333333333333333,
              "#9c179e"
             ],
             [
              0.4444444444444444,
              "#bd3786"
             ],
             [
              0.5555555555555556,
              "#d8576b"
             ],
             [
              0.6666666666666666,
              "#ed7953"
             ],
             [
              0.7777777777777778,
              "#fb9f3a"
             ],
             [
              0.8888888888888888,
              "#fdca26"
             ],
             [
              1,
              "#f0f921"
             ]
            ],
            "type": "heatmapgl"
           }
          ],
          "histogram": [
           {
            "marker": {
             "colorbar": {
              "outlinewidth": 0,
              "ticks": ""
             }
            },
            "type": "histogram"
           }
          ],
          "histogram2d": [
           {
            "colorbar": {
             "outlinewidth": 0,
             "ticks": ""
            },
            "colorscale": [
             [
              0,
              "#0d0887"
             ],
             [
              0.1111111111111111,
              "#46039f"
             ],
             [
              0.2222222222222222,
              "#7201a8"
             ],
             [
              0.3333333333333333,
              "#9c179e"
             ],
             [
              0.4444444444444444,
              "#bd3786"
             ],
             [
              0.5555555555555556,
              "#d8576b"
             ],
             [
              0.6666666666666666,
              "#ed7953"
             ],
             [
              0.7777777777777778,
              "#fb9f3a"
             ],
             [
              0.8888888888888888,
              "#fdca26"
             ],
             [
              1,
              "#f0f921"
             ]
            ],
            "type": "histogram2d"
           }
          ],
          "histogram2dcontour": [
           {
            "colorbar": {
             "outlinewidth": 0,
             "ticks": ""
            },
            "colorscale": [
             [
              0,
              "#0d0887"
             ],
             [
              0.1111111111111111,
              "#46039f"
             ],
             [
              0.2222222222222222,
              "#7201a8"
             ],
             [
              0.3333333333333333,
              "#9c179e"
             ],
             [
              0.4444444444444444,
              "#bd3786"
             ],
             [
              0.5555555555555556,
              "#d8576b"
             ],
             [
              0.6666666666666666,
              "#ed7953"
             ],
             [
              0.7777777777777778,
              "#fb9f3a"
             ],
             [
              0.8888888888888888,
              "#fdca26"
             ],
             [
              1,
              "#f0f921"
             ]
            ],
            "type": "histogram2dcontour"
           }
          ],
          "mesh3d": [
           {
            "colorbar": {
             "outlinewidth": 0,
             "ticks": ""
            },
            "type": "mesh3d"
           }
          ],
          "parcoords": [
           {
            "line": {
             "colorbar": {
              "outlinewidth": 0,
              "ticks": ""
             }
            },
            "type": "parcoords"
           }
          ],
          "pie": [
           {
            "automargin": true,
            "type": "pie"
           }
          ],
          "scatter": [
           {
            "marker": {
             "colorbar": {
              "outlinewidth": 0,
              "ticks": ""
             }
            },
            "type": "scatter"
           }
          ],
          "scatter3d": [
           {
            "line": {
             "colorbar": {
              "outlinewidth": 0,
              "ticks": ""
             }
            },
            "marker": {
             "colorbar": {
              "outlinewidth": 0,
              "ticks": ""
             }
            },
            "type": "scatter3d"
           }
          ],
          "scattercarpet": [
           {
            "marker": {
             "colorbar": {
              "outlinewidth": 0,
              "ticks": ""
             }
            },
            "type": "scattercarpet"
           }
          ],
          "scattergeo": [
           {
            "marker": {
             "colorbar": {
              "outlinewidth": 0,
              "ticks": ""
             }
            },
            "type": "scattergeo"
           }
          ],
          "scattergl": [
           {
            "marker": {
             "colorbar": {
              "outlinewidth": 0,
              "ticks": ""
             }
            },
            "type": "scattergl"
           }
          ],
          "scattermapbox": [
           {
            "marker": {
             "colorbar": {
              "outlinewidth": 0,
              "ticks": ""
             }
            },
            "type": "scattermapbox"
           }
          ],
          "scatterpolar": [
           {
            "marker": {
             "colorbar": {
              "outlinewidth": 0,
              "ticks": ""
             }
            },
            "type": "scatterpolar"
           }
          ],
          "scatterpolargl": [
           {
            "marker": {
             "colorbar": {
              "outlinewidth": 0,
              "ticks": ""
             }
            },
            "type": "scatterpolargl"
           }
          ],
          "scatterternary": [
           {
            "marker": {
             "colorbar": {
              "outlinewidth": 0,
              "ticks": ""
             }
            },
            "type": "scatterternary"
           }
          ],
          "surface": [
           {
            "colorbar": {
             "outlinewidth": 0,
             "ticks": ""
            },
            "colorscale": [
             [
              0,
              "#0d0887"
             ],
             [
              0.1111111111111111,
              "#46039f"
             ],
             [
              0.2222222222222222,
              "#7201a8"
             ],
             [
              0.3333333333333333,
              "#9c179e"
             ],
             [
              0.4444444444444444,
              "#bd3786"
             ],
             [
              0.5555555555555556,
              "#d8576b"
             ],
             [
              0.6666666666666666,
              "#ed7953"
             ],
             [
              0.7777777777777778,
              "#fb9f3a"
             ],
             [
              0.8888888888888888,
              "#fdca26"
             ],
             [
              1,
              "#f0f921"
             ]
            ],
            "type": "surface"
           }
          ],
          "table": [
           {
            "cells": {
             "fill": {
              "color": "#EBF0F8"
             },
             "line": {
              "color": "white"
             }
            },
            "header": {
             "fill": {
              "color": "#C8D4E3"
             },
             "line": {
              "color": "white"
             }
            },
            "type": "table"
           }
          ]
         },
         "layout": {
          "annotationdefaults": {
           "arrowcolor": "#2a3f5f",
           "arrowhead": 0,
           "arrowwidth": 1
          },
          "autotypenumbers": "strict",
          "coloraxis": {
           "colorbar": {
            "outlinewidth": 0,
            "ticks": ""
           }
          },
          "colorscale": {
           "diverging": [
            [
             0,
             "#8e0152"
            ],
            [
             0.1,
             "#c51b7d"
            ],
            [
             0.2,
             "#de77ae"
            ],
            [
             0.3,
             "#f1b6da"
            ],
            [
             0.4,
             "#fde0ef"
            ],
            [
             0.5,
             "#f7f7f7"
            ],
            [
             0.6,
             "#e6f5d0"
            ],
            [
             0.7,
             "#b8e186"
            ],
            [
             0.8,
             "#7fbc41"
            ],
            [
             0.9,
             "#4d9221"
            ],
            [
             1,
             "#276419"
            ]
           ],
           "sequential": [
            [
             0,
             "#0d0887"
            ],
            [
             0.1111111111111111,
             "#46039f"
            ],
            [
             0.2222222222222222,
             "#7201a8"
            ],
            [
             0.3333333333333333,
             "#9c179e"
            ],
            [
             0.4444444444444444,
             "#bd3786"
            ],
            [
             0.5555555555555556,
             "#d8576b"
            ],
            [
             0.6666666666666666,
             "#ed7953"
            ],
            [
             0.7777777777777778,
             "#fb9f3a"
            ],
            [
             0.8888888888888888,
             "#fdca26"
            ],
            [
             1,
             "#f0f921"
            ]
           ],
           "sequentialminus": [
            [
             0,
             "#0d0887"
            ],
            [
             0.1111111111111111,
             "#46039f"
            ],
            [
             0.2222222222222222,
             "#7201a8"
            ],
            [
             0.3333333333333333,
             "#9c179e"
            ],
            [
             0.4444444444444444,
             "#bd3786"
            ],
            [
             0.5555555555555556,
             "#d8576b"
            ],
            [
             0.6666666666666666,
             "#ed7953"
            ],
            [
             0.7777777777777778,
             "#fb9f3a"
            ],
            [
             0.8888888888888888,
             "#fdca26"
            ],
            [
             1,
             "#f0f921"
            ]
           ]
          },
          "colorway": [
           "#636efa",
           "#EF553B",
           "#00cc96",
           "#ab63fa",
           "#FFA15A",
           "#19d3f3",
           "#FF6692",
           "#B6E880",
           "#FF97FF",
           "#FECB52"
          ],
          "font": {
           "color": "#2a3f5f"
          },
          "geo": {
           "bgcolor": "white",
           "lakecolor": "white",
           "landcolor": "#E5ECF6",
           "showlakes": true,
           "showland": true,
           "subunitcolor": "white"
          },
          "hoverlabel": {
           "align": "left"
          },
          "hovermode": "closest",
          "mapbox": {
           "style": "light"
          },
          "paper_bgcolor": "white",
          "plot_bgcolor": "#E5ECF6",
          "polar": {
           "angularaxis": {
            "gridcolor": "white",
            "linecolor": "white",
            "ticks": ""
           },
           "bgcolor": "#E5ECF6",
           "radialaxis": {
            "gridcolor": "white",
            "linecolor": "white",
            "ticks": ""
           }
          },
          "scene": {
           "xaxis": {
            "backgroundcolor": "#E5ECF6",
            "gridcolor": "white",
            "gridwidth": 2,
            "linecolor": "white",
            "showbackground": true,
            "ticks": "",
            "zerolinecolor": "white"
           },
           "yaxis": {
            "backgroundcolor": "#E5ECF6",
            "gridcolor": "white",
            "gridwidth": 2,
            "linecolor": "white",
            "showbackground": true,
            "ticks": "",
            "zerolinecolor": "white"
           },
           "zaxis": {
            "backgroundcolor": "#E5ECF6",
            "gridcolor": "white",
            "gridwidth": 2,
            "linecolor": "white",
            "showbackground": true,
            "ticks": "",
            "zerolinecolor": "white"
           }
          },
          "shapedefaults": {
           "line": {
            "color": "#2a3f5f"
           }
          },
          "ternary": {
           "aaxis": {
            "gridcolor": "white",
            "linecolor": "white",
            "ticks": ""
           },
           "baxis": {
            "gridcolor": "white",
            "linecolor": "white",
            "ticks": ""
           },
           "bgcolor": "#E5ECF6",
           "caxis": {
            "gridcolor": "white",
            "linecolor": "white",
            "ticks": ""
           }
          },
          "title": {
           "x": 0.05
          },
          "xaxis": {
           "automargin": true,
           "gridcolor": "white",
           "linecolor": "white",
           "ticks": "",
           "title": {
            "standoff": 15
           },
           "zerolinecolor": "white",
           "zerolinewidth": 2
          },
          "yaxis": {
           "automargin": true,
           "gridcolor": "white",
           "linecolor": "white",
           "ticks": "",
           "title": {
            "standoff": 15
           },
           "zerolinecolor": "white",
           "zerolinewidth": 2
          }
         }
        },
        "title": {
         "font": {
          "color": "#4D5663"
         }
        },
        "xaxis": {
         "gridcolor": "#E1E5ED",
         "showgrid": true,
         "tickfont": {
          "color": "#4D5663"
         },
         "title": {
          "font": {
           "color": "#4D5663"
          },
          "text": ""
         },
         "zerolinecolor": "#E1E5ED"
        },
        "yaxis": {
         "gridcolor": "#E1E5ED",
         "showgrid": true,
         "tickfont": {
          "color": "#4D5663"
         },
         "title": {
          "font": {
           "color": "#4D5663"
          },
          "text": ""
         },
         "zerolinecolor": "#E1E5ED"
        }
       }
      },
      "text/html": [
       "<div>                            <div id=\"e900db8d-842c-4ae5-98fb-dac7f91245fd\" class=\"plotly-graph-div\" style=\"height:525px; width:100%;\"></div>            <script type=\"text/javascript\">                require([\"plotly\"], function(Plotly) {                    window.PLOTLYENV=window.PLOTLYENV || {};\n",
       "                    window.PLOTLYENV.BASE_URL='https://plot.ly';                                    if (document.getElementById(\"e900db8d-842c-4ae5-98fb-dac7f91245fd\")) {                    Plotly.newPlot(                        \"e900db8d-842c-4ae5-98fb-dac7f91245fd\",                        [{\"line\": {\"color\": \"rgba(255, 153, 51, 1.0)\", \"dash\": \"solid\", \"shape\": \"linear\", \"width\": 1.3}, \"marker\": {\"size\": 10, \"symbol\": \"circle\"}, \"mode\": \"markers\", \"name\": \"B\", \"text\": \"\", \"type\": \"scatter\", \"x\": [1.13798425475934, -1.5511667265037368, -0.49910781628050077, 1.085004351054516, 1.3989590240733099, -0.2911375934861317, -1.5870990872964883, -0.27935482665627126, 0.3605252492517807, -0.2573222198131206, 0.1282283018327493, -0.07523399544764772, -1.209782190524917, 2.0998120955843382, 0.21015410636408016, 0.22039843592118114, -0.2750042028570783, -0.6425752651343553, 0.04922938202933533, -1.151271215568177, -0.42520307577080796, 0.286067143912526, 0.6534378509385754, 0.8055892428102114, 1.6706324275158206, -1.9144292516764323, -0.7130745443719025, 0.7132261507336397, 1.0879917537219244, 1.1428274385647352, 1.1052680624561735, -0.5017274571551676, -0.15486630452781308, -0.8648382795499453, -0.821833223346524, -0.9012730792736585, 0.6915059079700464, 0.9054765379391744, -1.2976938178943378, -2.53565236236453, -0.1468560126376463, 0.7415838145374852, 0.967262105578842, -0.35875049228952205, 0.8406410200429533, -0.03382970251039049, 0.8707112942651388, -1.4962151290981338, -0.07482657180383757, -2.0160590596318197, 0.3736129818346688, 1.6452214643540364, 1.7483148573896086, -1.4782529280436036, -0.1851835324174723, 0.07377001332300753, 0.36261478198089586, 0.8651189780670078, 0.6850474548860096, -0.7604619533012311, 0.6555732095574617, -0.2688445662091309, 2.284918084356147, -0.8340569074513916, 1.6567735333149083, 0.2924799350386549, -0.2735576072888158, 0.0661601600306233, -0.6484239909056564, 0.3878976614822351, -0.7011706453361762, 0.2833166864898419, 0.46257195200648377, 0.5553702337250296, -0.5010959672124472, -0.14217198426981456, 0.030937629523973564, -0.7574771731657584, 0.45118790988184454, 0.8219555020946994, 0.5957135274819632, 0.296850683691185, -0.12687894891679846, 1.6095887390402563, -0.4527220315030091, 0.971845763811533, 0.6888768190349028, 1.190978115499409, 1.553954249377355, -0.12605990653637028, 1.3525180232497602, 0.721154005304942, -1.9836464415088655, -0.7479971966715627, -0.06669017642695914, -0.9289839979546476, 0.4778549545203271, 0.28213164182506856, -1.1155992489230353, 0.4085009469861413], \"y\": [0.7323896324227073, -0.3284517281790686, -0.4510768322302432, 1.6259669689281526, 2.2430313429630293, -1.7897441106074743, 0.569351307124913, -0.64587704510535, -0.0028811213343762202, -0.6373272106113808, 1.0727062355724828, -2.952465256493198, 1.287542719369616, -1.9267498062823034, 2.0788433396371806, 0.43073404217299227, 0.26760125628746445, 1.0849032546496722, 1.3952877106807626, -0.6565850044269331, 0.3817056840001886, -0.7412006468853344, -1.1217400025261557, 0.6370813567298341, -0.5641382119507771, 0.4634853466013324, -0.8584405373757337, -0.31182260271644374, 0.3241918385448195, -1.33196541981774, -0.32846040497042905, -1.6413072197342926, 0.7173508042526268, -1.7799489677323204, -1.86186170165096, 0.10832184935546763, -1.0288381651747285, -0.545393753019585, -0.2650696867162592, 0.05143818057526999, 2.4823816265488032, -0.2501683134068812, -0.8065726277144815, 0.5501537595048036, 1.1282774686998163, -1.1732802076261226, -0.46217213437426197, -1.3361758119419371, 2.5199867408681107, 2.9378115385841097, -0.7262093920427323, 0.6618920921980426, -0.8331597086864062, -0.30617972029078255, -0.4785044386864302, -0.4311874108212848, 1.059597532517294, -1.5851754098869444, -0.039793079226337416, 0.9867240234550703, 1.3051413089883257, -0.5936323554912434, -0.7753853225554804, 0.25590786585761166, 1.547462128147694, -1.1023295816945362, -0.6222120723704447, -1.3188982035117294, -0.3093504949433165, -0.6769875209754437, -1.2333911783155913, -0.25666166671048446, -0.16532592175370936, -1.5355312465996227, -0.044051680488167134, -2.1457695866393056, 0.9910173713062925, -1.1693051260643423, 0.5160990345223325, 0.3034532039457703, 0.6409653165213176, 0.9651791752395708, -2.2583982537236387, 0.9926410629675069, 1.3397259187632276, 0.3781172112555631, 1.5690672504187282, -0.03013161830784265, 0.010106847671662566, 0.33347285351095557, 0.9112980654586149, 0.14301371449262146, -0.30880549994744216, -2.0760184562581383, -0.7149080366700209, -0.0918574051416281, 1.7923015769941466, -0.2022523157306176, 0.04800165228427791, 2.778983884871559]}],                        {\"legend\": {\"bgcolor\": \"#F5F6F9\", \"font\": {\"color\": \"#4D5663\"}}, \"paper_bgcolor\": \"#F5F6F9\", \"plot_bgcolor\": \"#F5F6F9\", \"template\": {\"data\": {\"bar\": [{\"error_x\": {\"color\": \"#2a3f5f\"}, \"error_y\": {\"color\": \"#2a3f5f\"}, \"marker\": {\"line\": {\"color\": \"#E5ECF6\", \"width\": 0.5}}, \"type\": \"bar\"}], \"barpolar\": [{\"marker\": {\"line\": {\"color\": \"#E5ECF6\", \"width\": 0.5}}, \"type\": \"barpolar\"}], \"carpet\": [{\"aaxis\": {\"endlinecolor\": \"#2a3f5f\", \"gridcolor\": \"white\", \"linecolor\": \"white\", \"minorgridcolor\": \"white\", \"startlinecolor\": \"#2a3f5f\"}, \"baxis\": {\"endlinecolor\": \"#2a3f5f\", \"gridcolor\": \"white\", \"linecolor\": \"white\", \"minorgridcolor\": \"white\", \"startlinecolor\": \"#2a3f5f\"}, \"type\": \"carpet\"}], \"choropleth\": [{\"colorbar\": {\"outlinewidth\": 0, \"ticks\": \"\"}, \"type\": \"choropleth\"}], \"contour\": [{\"colorbar\": {\"outlinewidth\": 0, \"ticks\": \"\"}, \"colorscale\": [[0.0, \"#0d0887\"], [0.1111111111111111, \"#46039f\"], [0.2222222222222222, \"#7201a8\"], [0.3333333333333333, \"#9c179e\"], [0.4444444444444444, \"#bd3786\"], [0.5555555555555556, \"#d8576b\"], [0.6666666666666666, \"#ed7953\"], [0.7777777777777778, \"#fb9f3a\"], [0.8888888888888888, \"#fdca26\"], [1.0, \"#f0f921\"]], \"type\": \"contour\"}], \"contourcarpet\": [{\"colorbar\": {\"outlinewidth\": 0, \"ticks\": \"\"}, \"type\": \"contourcarpet\"}], \"heatmap\": [{\"colorbar\": {\"outlinewidth\": 0, \"ticks\": \"\"}, \"colorscale\": [[0.0, \"#0d0887\"], [0.1111111111111111, \"#46039f\"], [0.2222222222222222, \"#7201a8\"], [0.3333333333333333, \"#9c179e\"], [0.4444444444444444, \"#bd3786\"], [0.5555555555555556, \"#d8576b\"], [0.6666666666666666, \"#ed7953\"], [0.7777777777777778, \"#fb9f3a\"], [0.8888888888888888, \"#fdca26\"], [1.0, \"#f0f921\"]], \"type\": \"heatmap\"}], \"heatmapgl\": [{\"colorbar\": {\"outlinewidth\": 0, \"ticks\": \"\"}, \"colorscale\": [[0.0, \"#0d0887\"], [0.1111111111111111, \"#46039f\"], [0.2222222222222222, \"#7201a8\"], [0.3333333333333333, \"#9c179e\"], [0.4444444444444444, \"#bd3786\"], [0.5555555555555556, \"#d8576b\"], [0.6666666666666666, \"#ed7953\"], [0.7777777777777778, \"#fb9f3a\"], [0.8888888888888888, \"#fdca26\"], [1.0, \"#f0f921\"]], \"type\": \"heatmapgl\"}], \"histogram\": [{\"marker\": {\"colorbar\": {\"outlinewidth\": 0, \"ticks\": \"\"}}, \"type\": \"histogram\"}], \"histogram2d\": [{\"colorbar\": {\"outlinewidth\": 0, \"ticks\": \"\"}, \"colorscale\": [[0.0, \"#0d0887\"], [0.1111111111111111, \"#46039f\"], [0.2222222222222222, \"#7201a8\"], [0.3333333333333333, \"#9c179e\"], [0.4444444444444444, \"#bd3786\"], [0.5555555555555556, \"#d8576b\"], [0.6666666666666666, \"#ed7953\"], [0.7777777777777778, \"#fb9f3a\"], [0.8888888888888888, \"#fdca26\"], [1.0, \"#f0f921\"]], \"type\": \"histogram2d\"}], \"histogram2dcontour\": [{\"colorbar\": {\"outlinewidth\": 0, \"ticks\": \"\"}, \"colorscale\": [[0.0, \"#0d0887\"], [0.1111111111111111, \"#46039f\"], [0.2222222222222222, \"#7201a8\"], [0.3333333333333333, \"#9c179e\"], [0.4444444444444444, \"#bd3786\"], [0.5555555555555556, \"#d8576b\"], [0.6666666666666666, \"#ed7953\"], [0.7777777777777778, \"#fb9f3a\"], [0.8888888888888888, \"#fdca26\"], [1.0, \"#f0f921\"]], \"type\": \"histogram2dcontour\"}], \"mesh3d\": [{\"colorbar\": {\"outlinewidth\": 0, \"ticks\": \"\"}, \"type\": \"mesh3d\"}], \"parcoords\": [{\"line\": {\"colorbar\": {\"outlinewidth\": 0, \"ticks\": \"\"}}, \"type\": \"parcoords\"}], \"pie\": [{\"automargin\": true, \"type\": \"pie\"}], \"scatter\": [{\"marker\": {\"colorbar\": {\"outlinewidth\": 0, \"ticks\": \"\"}}, \"type\": \"scatter\"}], \"scatter3d\": [{\"line\": {\"colorbar\": {\"outlinewidth\": 0, \"ticks\": \"\"}}, \"marker\": {\"colorbar\": {\"outlinewidth\": 0, \"ticks\": \"\"}}, \"type\": \"scatter3d\"}], \"scattercarpet\": [{\"marker\": {\"colorbar\": {\"outlinewidth\": 0, \"ticks\": \"\"}}, \"type\": \"scattercarpet\"}], \"scattergeo\": [{\"marker\": {\"colorbar\": {\"outlinewidth\": 0, \"ticks\": \"\"}}, \"type\": \"scattergeo\"}], \"scattergl\": [{\"marker\": {\"colorbar\": {\"outlinewidth\": 0, \"ticks\": \"\"}}, \"type\": \"scattergl\"}], \"scattermapbox\": [{\"marker\": {\"colorbar\": {\"outlinewidth\": 0, \"ticks\": \"\"}}, \"type\": \"scattermapbox\"}], \"scatterpolar\": [{\"marker\": {\"colorbar\": {\"outlinewidth\": 0, \"ticks\": \"\"}}, \"type\": \"scatterpolar\"}], \"scatterpolargl\": [{\"marker\": {\"colorbar\": {\"outlinewidth\": 0, \"ticks\": \"\"}}, \"type\": \"scatterpolargl\"}], \"scatterternary\": [{\"marker\": {\"colorbar\": {\"outlinewidth\": 0, \"ticks\": \"\"}}, \"type\": \"scatterternary\"}], \"surface\": [{\"colorbar\": {\"outlinewidth\": 0, \"ticks\": \"\"}, \"colorscale\": [[0.0, \"#0d0887\"], [0.1111111111111111, \"#46039f\"], [0.2222222222222222, \"#7201a8\"], [0.3333333333333333, \"#9c179e\"], [0.4444444444444444, \"#bd3786\"], [0.5555555555555556, \"#d8576b\"], [0.6666666666666666, \"#ed7953\"], [0.7777777777777778, \"#fb9f3a\"], [0.8888888888888888, \"#fdca26\"], [1.0, \"#f0f921\"]], \"type\": \"surface\"}], \"table\": [{\"cells\": {\"fill\": {\"color\": \"#EBF0F8\"}, \"line\": {\"color\": \"white\"}}, \"header\": {\"fill\": {\"color\": \"#C8D4E3\"}, \"line\": {\"color\": \"white\"}}, \"type\": \"table\"}]}, \"layout\": {\"annotationdefaults\": {\"arrowcolor\": \"#2a3f5f\", \"arrowhead\": 0, \"arrowwidth\": 1}, \"autotypenumbers\": \"strict\", \"coloraxis\": {\"colorbar\": {\"outlinewidth\": 0, \"ticks\": \"\"}}, \"colorscale\": {\"diverging\": [[0, \"#8e0152\"], [0.1, \"#c51b7d\"], [0.2, \"#de77ae\"], [0.3, \"#f1b6da\"], [0.4, \"#fde0ef\"], [0.5, \"#f7f7f7\"], [0.6, \"#e6f5d0\"], [0.7, \"#b8e186\"], [0.8, \"#7fbc41\"], [0.9, \"#4d9221\"], [1, \"#276419\"]], \"sequential\": [[0.0, \"#0d0887\"], [0.1111111111111111, \"#46039f\"], [0.2222222222222222, \"#7201a8\"], [0.3333333333333333, \"#9c179e\"], [0.4444444444444444, \"#bd3786\"], [0.5555555555555556, \"#d8576b\"], [0.6666666666666666, \"#ed7953\"], [0.7777777777777778, \"#fb9f3a\"], [0.8888888888888888, \"#fdca26\"], [1.0, \"#f0f921\"]], \"sequentialminus\": [[0.0, \"#0d0887\"], [0.1111111111111111, \"#46039f\"], [0.2222222222222222, \"#7201a8\"], [0.3333333333333333, \"#9c179e\"], [0.4444444444444444, \"#bd3786\"], [0.5555555555555556, \"#d8576b\"], [0.6666666666666666, \"#ed7953\"], [0.7777777777777778, \"#fb9f3a\"], [0.8888888888888888, \"#fdca26\"], [1.0, \"#f0f921\"]]}, \"colorway\": [\"#636efa\", \"#EF553B\", \"#00cc96\", \"#ab63fa\", \"#FFA15A\", \"#19d3f3\", \"#FF6692\", \"#B6E880\", \"#FF97FF\", \"#FECB52\"], \"font\": {\"color\": \"#2a3f5f\"}, \"geo\": {\"bgcolor\": \"white\", \"lakecolor\": \"white\", \"landcolor\": \"#E5ECF6\", \"showlakes\": true, \"showland\": true, \"subunitcolor\": \"white\"}, \"hoverlabel\": {\"align\": \"left\"}, \"hovermode\": \"closest\", \"mapbox\": {\"style\": \"light\"}, \"paper_bgcolor\": \"white\", \"plot_bgcolor\": \"#E5ECF6\", \"polar\": {\"angularaxis\": {\"gridcolor\": \"white\", \"linecolor\": \"white\", \"ticks\": \"\"}, \"bgcolor\": \"#E5ECF6\", \"radialaxis\": {\"gridcolor\": \"white\", \"linecolor\": \"white\", \"ticks\": \"\"}}, \"scene\": {\"xaxis\": {\"backgroundcolor\": \"#E5ECF6\", \"gridcolor\": \"white\", \"gridwidth\": 2, \"linecolor\": \"white\", \"showbackground\": true, \"ticks\": \"\", \"zerolinecolor\": \"white\"}, \"yaxis\": {\"backgroundcolor\": \"#E5ECF6\", \"gridcolor\": \"white\", \"gridwidth\": 2, \"linecolor\": \"white\", \"showbackground\": true, \"ticks\": \"\", \"zerolinecolor\": \"white\"}, \"zaxis\": {\"backgroundcolor\": \"#E5ECF6\", \"gridcolor\": \"white\", \"gridwidth\": 2, \"linecolor\": \"white\", \"showbackground\": true, \"ticks\": \"\", \"zerolinecolor\": \"white\"}}, \"shapedefaults\": {\"line\": {\"color\": \"#2a3f5f\"}}, \"ternary\": {\"aaxis\": {\"gridcolor\": \"white\", \"linecolor\": \"white\", \"ticks\": \"\"}, \"baxis\": {\"gridcolor\": \"white\", \"linecolor\": \"white\", \"ticks\": \"\"}, \"bgcolor\": \"#E5ECF6\", \"caxis\": {\"gridcolor\": \"white\", \"linecolor\": \"white\", \"ticks\": \"\"}}, \"title\": {\"x\": 0.05}, \"xaxis\": {\"automargin\": true, \"gridcolor\": \"white\", \"linecolor\": \"white\", \"ticks\": \"\", \"title\": {\"standoff\": 15}, \"zerolinecolor\": \"white\", \"zerolinewidth\": 2}, \"yaxis\": {\"automargin\": true, \"gridcolor\": \"white\", \"linecolor\": \"white\", \"ticks\": \"\", \"title\": {\"standoff\": 15}, \"zerolinecolor\": \"white\", \"zerolinewidth\": 2}}}, \"title\": {\"font\": {\"color\": \"#4D5663\"}}, \"xaxis\": {\"gridcolor\": \"#E1E5ED\", \"showgrid\": true, \"tickfont\": {\"color\": \"#4D5663\"}, \"title\": {\"font\": {\"color\": \"#4D5663\"}, \"text\": \"\"}, \"zerolinecolor\": \"#E1E5ED\"}, \"yaxis\": {\"gridcolor\": \"#E1E5ED\", \"showgrid\": true, \"tickfont\": {\"color\": \"#4D5663\"}, \"title\": {\"font\": {\"color\": \"#4D5663\"}, \"text\": \"\"}, \"zerolinecolor\": \"#E1E5ED\"}},                        {\"showLink\": true, \"linkText\": \"Export to plot.ly\", \"plotlyServerURL\": \"https://plot.ly\", \"responsive\": true}                    ).then(function(){\n",
       "                            \n",
       "var gd = document.getElementById('e900db8d-842c-4ae5-98fb-dac7f91245fd');\n",
       "var x = new MutationObserver(function (mutations, observer) {{\n",
       "        var display = window.getComputedStyle(gd).display;\n",
       "        if (!display || display === 'none') {{\n",
       "            console.log([gd, 'removed!']);\n",
       "            Plotly.purge(gd);\n",
       "            observer.disconnect();\n",
       "        }}\n",
       "}});\n",
       "\n",
       "// Listen for the removal of the full notebook cells\n",
       "var notebookContainer = gd.closest('#notebook-container');\n",
       "if (notebookContainer) {{\n",
       "    x.observe(notebookContainer, {childList: true});\n",
       "}}\n",
       "\n",
       "// Listen for the clearing of the current output cell\n",
       "var outputEl = gd.closest('.output');\n",
       "if (outputEl) {{\n",
       "    x.observe(outputEl, {childList: true});\n",
       "}}\n",
       "\n",
       "                        })                };                });            </script>        </div>"
      ]
     },
     "metadata": {},
     "output_type": "display_data"
    }
   ],
   "source": [
    "df.iplot(kind=\"scatter\", x=\"A\", y=\"B\", mode=\"markers\", size=10)"
   ]
  },
  {
   "cell_type": "markdown",
   "id": "992ec0df",
   "metadata": {},
   "source": [
    "### Bar Plots"
   ]
  },
  {
   "cell_type": "code",
   "execution_count": 9,
   "id": "07c830f7",
   "metadata": {},
   "outputs": [
    {
     "data": {
      "application/vnd.plotly.v1+json": {
       "config": {
        "linkText": "Export to plot.ly",
        "plotlyServerURL": "https://plot.ly",
        "showLink": true
       },
       "data": [
        {
         "marker": {
          "color": "rgba(255, 153, 51, 0.6)",
          "line": {
           "color": "rgba(255, 153, 51, 1.0)",
           "width": 1
          }
         },
         "name": "Values",
         "orientation": "v",
         "text": "",
         "type": "bar",
         "x": [
          "A",
          "B",
          "C"
         ],
         "y": [
          32,
          43,
          50
         ]
        }
       ],
       "layout": {
        "legend": {
         "bgcolor": "#F5F6F9",
         "font": {
          "color": "#4D5663"
         }
        },
        "paper_bgcolor": "#F5F6F9",
        "plot_bgcolor": "#F5F6F9",
        "template": {
         "data": {
          "bar": [
           {
            "error_x": {
             "color": "#2a3f5f"
            },
            "error_y": {
             "color": "#2a3f5f"
            },
            "marker": {
             "line": {
              "color": "#E5ECF6",
              "width": 0.5
             }
            },
            "type": "bar"
           }
          ],
          "barpolar": [
           {
            "marker": {
             "line": {
              "color": "#E5ECF6",
              "width": 0.5
             }
            },
            "type": "barpolar"
           }
          ],
          "carpet": [
           {
            "aaxis": {
             "endlinecolor": "#2a3f5f",
             "gridcolor": "white",
             "linecolor": "white",
             "minorgridcolor": "white",
             "startlinecolor": "#2a3f5f"
            },
            "baxis": {
             "endlinecolor": "#2a3f5f",
             "gridcolor": "white",
             "linecolor": "white",
             "minorgridcolor": "white",
             "startlinecolor": "#2a3f5f"
            },
            "type": "carpet"
           }
          ],
          "choropleth": [
           {
            "colorbar": {
             "outlinewidth": 0,
             "ticks": ""
            },
            "type": "choropleth"
           }
          ],
          "contour": [
           {
            "colorbar": {
             "outlinewidth": 0,
             "ticks": ""
            },
            "colorscale": [
             [
              0,
              "#0d0887"
             ],
             [
              0.1111111111111111,
              "#46039f"
             ],
             [
              0.2222222222222222,
              "#7201a8"
             ],
             [
              0.3333333333333333,
              "#9c179e"
             ],
             [
              0.4444444444444444,
              "#bd3786"
             ],
             [
              0.5555555555555556,
              "#d8576b"
             ],
             [
              0.6666666666666666,
              "#ed7953"
             ],
             [
              0.7777777777777778,
              "#fb9f3a"
             ],
             [
              0.8888888888888888,
              "#fdca26"
             ],
             [
              1,
              "#f0f921"
             ]
            ],
            "type": "contour"
           }
          ],
          "contourcarpet": [
           {
            "colorbar": {
             "outlinewidth": 0,
             "ticks": ""
            },
            "type": "contourcarpet"
           }
          ],
          "heatmap": [
           {
            "colorbar": {
             "outlinewidth": 0,
             "ticks": ""
            },
            "colorscale": [
             [
              0,
              "#0d0887"
             ],
             [
              0.1111111111111111,
              "#46039f"
             ],
             [
              0.2222222222222222,
              "#7201a8"
             ],
             [
              0.3333333333333333,
              "#9c179e"
             ],
             [
              0.4444444444444444,
              "#bd3786"
             ],
             [
              0.5555555555555556,
              "#d8576b"
             ],
             [
              0.6666666666666666,
              "#ed7953"
             ],
             [
              0.7777777777777778,
              "#fb9f3a"
             ],
             [
              0.8888888888888888,
              "#fdca26"
             ],
             [
              1,
              "#f0f921"
             ]
            ],
            "type": "heatmap"
           }
          ],
          "heatmapgl": [
           {
            "colorbar": {
             "outlinewidth": 0,
             "ticks": ""
            },
            "colorscale": [
             [
              0,
              "#0d0887"
             ],
             [
              0.1111111111111111,
              "#46039f"
             ],
             [
              0.2222222222222222,
              "#7201a8"
             ],
             [
              0.3333333333333333,
              "#9c179e"
             ],
             [
              0.4444444444444444,
              "#bd3786"
             ],
             [
              0.5555555555555556,
              "#d8576b"
             ],
             [
              0.6666666666666666,
              "#ed7953"
             ],
             [
              0.7777777777777778,
              "#fb9f3a"
             ],
             [
              0.8888888888888888,
              "#fdca26"
             ],
             [
              1,
              "#f0f921"
             ]
            ],
            "type": "heatmapgl"
           }
          ],
          "histogram": [
           {
            "marker": {
             "colorbar": {
              "outlinewidth": 0,
              "ticks": ""
             }
            },
            "type": "histogram"
           }
          ],
          "histogram2d": [
           {
            "colorbar": {
             "outlinewidth": 0,
             "ticks": ""
            },
            "colorscale": [
             [
              0,
              "#0d0887"
             ],
             [
              0.1111111111111111,
              "#46039f"
             ],
             [
              0.2222222222222222,
              "#7201a8"
             ],
             [
              0.3333333333333333,
              "#9c179e"
             ],
             [
              0.4444444444444444,
              "#bd3786"
             ],
             [
              0.5555555555555556,
              "#d8576b"
             ],
             [
              0.6666666666666666,
              "#ed7953"
             ],
             [
              0.7777777777777778,
              "#fb9f3a"
             ],
             [
              0.8888888888888888,
              "#fdca26"
             ],
             [
              1,
              "#f0f921"
             ]
            ],
            "type": "histogram2d"
           }
          ],
          "histogram2dcontour": [
           {
            "colorbar": {
             "outlinewidth": 0,
             "ticks": ""
            },
            "colorscale": [
             [
              0,
              "#0d0887"
             ],
             [
              0.1111111111111111,
              "#46039f"
             ],
             [
              0.2222222222222222,
              "#7201a8"
             ],
             [
              0.3333333333333333,
              "#9c179e"
             ],
             [
              0.4444444444444444,
              "#bd3786"
             ],
             [
              0.5555555555555556,
              "#d8576b"
             ],
             [
              0.6666666666666666,
              "#ed7953"
             ],
             [
              0.7777777777777778,
              "#fb9f3a"
             ],
             [
              0.8888888888888888,
              "#fdca26"
             ],
             [
              1,
              "#f0f921"
             ]
            ],
            "type": "histogram2dcontour"
           }
          ],
          "mesh3d": [
           {
            "colorbar": {
             "outlinewidth": 0,
             "ticks": ""
            },
            "type": "mesh3d"
           }
          ],
          "parcoords": [
           {
            "line": {
             "colorbar": {
              "outlinewidth": 0,
              "ticks": ""
             }
            },
            "type": "parcoords"
           }
          ],
          "pie": [
           {
            "automargin": true,
            "type": "pie"
           }
          ],
          "scatter": [
           {
            "marker": {
             "colorbar": {
              "outlinewidth": 0,
              "ticks": ""
             }
            },
            "type": "scatter"
           }
          ],
          "scatter3d": [
           {
            "line": {
             "colorbar": {
              "outlinewidth": 0,
              "ticks": ""
             }
            },
            "marker": {
             "colorbar": {
              "outlinewidth": 0,
              "ticks": ""
             }
            },
            "type": "scatter3d"
           }
          ],
          "scattercarpet": [
           {
            "marker": {
             "colorbar": {
              "outlinewidth": 0,
              "ticks": ""
             }
            },
            "type": "scattercarpet"
           }
          ],
          "scattergeo": [
           {
            "marker": {
             "colorbar": {
              "outlinewidth": 0,
              "ticks": ""
             }
            },
            "type": "scattergeo"
           }
          ],
          "scattergl": [
           {
            "marker": {
             "colorbar": {
              "outlinewidth": 0,
              "ticks": ""
             }
            },
            "type": "scattergl"
           }
          ],
          "scattermapbox": [
           {
            "marker": {
             "colorbar": {
              "outlinewidth": 0,
              "ticks": ""
             }
            },
            "type": "scattermapbox"
           }
          ],
          "scatterpolar": [
           {
            "marker": {
             "colorbar": {
              "outlinewidth": 0,
              "ticks": ""
             }
            },
            "type": "scatterpolar"
           }
          ],
          "scatterpolargl": [
           {
            "marker": {
             "colorbar": {
              "outlinewidth": 0,
              "ticks": ""
             }
            },
            "type": "scatterpolargl"
           }
          ],
          "scatterternary": [
           {
            "marker": {
             "colorbar": {
              "outlinewidth": 0,
              "ticks": ""
             }
            },
            "type": "scatterternary"
           }
          ],
          "surface": [
           {
            "colorbar": {
             "outlinewidth": 0,
             "ticks": ""
            },
            "colorscale": [
             [
              0,
              "#0d0887"
             ],
             [
              0.1111111111111111,
              "#46039f"
             ],
             [
              0.2222222222222222,
              "#7201a8"
             ],
             [
              0.3333333333333333,
              "#9c179e"
             ],
             [
              0.4444444444444444,
              "#bd3786"
             ],
             [
              0.5555555555555556,
              "#d8576b"
             ],
             [
              0.6666666666666666,
              "#ed7953"
             ],
             [
              0.7777777777777778,
              "#fb9f3a"
             ],
             [
              0.8888888888888888,
              "#fdca26"
             ],
             [
              1,
              "#f0f921"
             ]
            ],
            "type": "surface"
           }
          ],
          "table": [
           {
            "cells": {
             "fill": {
              "color": "#EBF0F8"
             },
             "line": {
              "color": "white"
             }
            },
            "header": {
             "fill": {
              "color": "#C8D4E3"
             },
             "line": {
              "color": "white"
             }
            },
            "type": "table"
           }
          ]
         },
         "layout": {
          "annotationdefaults": {
           "arrowcolor": "#2a3f5f",
           "arrowhead": 0,
           "arrowwidth": 1
          },
          "autotypenumbers": "strict",
          "coloraxis": {
           "colorbar": {
            "outlinewidth": 0,
            "ticks": ""
           }
          },
          "colorscale": {
           "diverging": [
            [
             0,
             "#8e0152"
            ],
            [
             0.1,
             "#c51b7d"
            ],
            [
             0.2,
             "#de77ae"
            ],
            [
             0.3,
             "#f1b6da"
            ],
            [
             0.4,
             "#fde0ef"
            ],
            [
             0.5,
             "#f7f7f7"
            ],
            [
             0.6,
             "#e6f5d0"
            ],
            [
             0.7,
             "#b8e186"
            ],
            [
             0.8,
             "#7fbc41"
            ],
            [
             0.9,
             "#4d9221"
            ],
            [
             1,
             "#276419"
            ]
           ],
           "sequential": [
            [
             0,
             "#0d0887"
            ],
            [
             0.1111111111111111,
             "#46039f"
            ],
            [
             0.2222222222222222,
             "#7201a8"
            ],
            [
             0.3333333333333333,
             "#9c179e"
            ],
            [
             0.4444444444444444,
             "#bd3786"
            ],
            [
             0.5555555555555556,
             "#d8576b"
            ],
            [
             0.6666666666666666,
             "#ed7953"
            ],
            [
             0.7777777777777778,
             "#fb9f3a"
            ],
            [
             0.8888888888888888,
             "#fdca26"
            ],
            [
             1,
             "#f0f921"
            ]
           ],
           "sequentialminus": [
            [
             0,
             "#0d0887"
            ],
            [
             0.1111111111111111,
             "#46039f"
            ],
            [
             0.2222222222222222,
             "#7201a8"
            ],
            [
             0.3333333333333333,
             "#9c179e"
            ],
            [
             0.4444444444444444,
             "#bd3786"
            ],
            [
             0.5555555555555556,
             "#d8576b"
            ],
            [
             0.6666666666666666,
             "#ed7953"
            ],
            [
             0.7777777777777778,
             "#fb9f3a"
            ],
            [
             0.8888888888888888,
             "#fdca26"
            ],
            [
             1,
             "#f0f921"
            ]
           ]
          },
          "colorway": [
           "#636efa",
           "#EF553B",
           "#00cc96",
           "#ab63fa",
           "#FFA15A",
           "#19d3f3",
           "#FF6692",
           "#B6E880",
           "#FF97FF",
           "#FECB52"
          ],
          "font": {
           "color": "#2a3f5f"
          },
          "geo": {
           "bgcolor": "white",
           "lakecolor": "white",
           "landcolor": "#E5ECF6",
           "showlakes": true,
           "showland": true,
           "subunitcolor": "white"
          },
          "hoverlabel": {
           "align": "left"
          },
          "hovermode": "closest",
          "mapbox": {
           "style": "light"
          },
          "paper_bgcolor": "white",
          "plot_bgcolor": "#E5ECF6",
          "polar": {
           "angularaxis": {
            "gridcolor": "white",
            "linecolor": "white",
            "ticks": ""
           },
           "bgcolor": "#E5ECF6",
           "radialaxis": {
            "gridcolor": "white",
            "linecolor": "white",
            "ticks": ""
           }
          },
          "scene": {
           "xaxis": {
            "backgroundcolor": "#E5ECF6",
            "gridcolor": "white",
            "gridwidth": 2,
            "linecolor": "white",
            "showbackground": true,
            "ticks": "",
            "zerolinecolor": "white"
           },
           "yaxis": {
            "backgroundcolor": "#E5ECF6",
            "gridcolor": "white",
            "gridwidth": 2,
            "linecolor": "white",
            "showbackground": true,
            "ticks": "",
            "zerolinecolor": "white"
           },
           "zaxis": {
            "backgroundcolor": "#E5ECF6",
            "gridcolor": "white",
            "gridwidth": 2,
            "linecolor": "white",
            "showbackground": true,
            "ticks": "",
            "zerolinecolor": "white"
           }
          },
          "shapedefaults": {
           "line": {
            "color": "#2a3f5f"
           }
          },
          "ternary": {
           "aaxis": {
            "gridcolor": "white",
            "linecolor": "white",
            "ticks": ""
           },
           "baxis": {
            "gridcolor": "white",
            "linecolor": "white",
            "ticks": ""
           },
           "bgcolor": "#E5ECF6",
           "caxis": {
            "gridcolor": "white",
            "linecolor": "white",
            "ticks": ""
           }
          },
          "title": {
           "x": 0.05
          },
          "xaxis": {
           "automargin": true,
           "gridcolor": "white",
           "linecolor": "white",
           "ticks": "",
           "title": {
            "standoff": 15
           },
           "zerolinecolor": "white",
           "zerolinewidth": 2
          },
          "yaxis": {
           "automargin": true,
           "gridcolor": "white",
           "linecolor": "white",
           "ticks": "",
           "title": {
            "standoff": 15
           },
           "zerolinecolor": "white",
           "zerolinewidth": 2
          }
         }
        },
        "title": {
         "font": {
          "color": "#4D5663"
         }
        },
        "xaxis": {
         "gridcolor": "#E1E5ED",
         "showgrid": true,
         "tickfont": {
          "color": "#4D5663"
         },
         "title": {
          "font": {
           "color": "#4D5663"
          },
          "text": ""
         },
         "zerolinecolor": "#E1E5ED"
        },
        "yaxis": {
         "gridcolor": "#E1E5ED",
         "showgrid": true,
         "tickfont": {
          "color": "#4D5663"
         },
         "title": {
          "font": {
           "color": "#4D5663"
          },
          "text": ""
         },
         "zerolinecolor": "#E1E5ED"
        }
       }
      },
      "text/html": [
       "<div>                            <div id=\"89ed2619-d758-419a-b289-7b9f623c9249\" class=\"plotly-graph-div\" style=\"height:525px; width:100%;\"></div>            <script type=\"text/javascript\">                require([\"plotly\"], function(Plotly) {                    window.PLOTLYENV=window.PLOTLYENV || {};\n",
       "                    window.PLOTLYENV.BASE_URL='https://plot.ly';                                    if (document.getElementById(\"89ed2619-d758-419a-b289-7b9f623c9249\")) {                    Plotly.newPlot(                        \"89ed2619-d758-419a-b289-7b9f623c9249\",                        [{\"marker\": {\"color\": \"rgba(255, 153, 51, 0.6)\", \"line\": {\"color\": \"rgba(255, 153, 51, 1.0)\", \"width\": 1}}, \"name\": \"Values\", \"orientation\": \"v\", \"text\": \"\", \"type\": \"bar\", \"x\": [\"A\", \"B\", \"C\"], \"y\": [32, 43, 50]}],                        {\"legend\": {\"bgcolor\": \"#F5F6F9\", \"font\": {\"color\": \"#4D5663\"}}, \"paper_bgcolor\": \"#F5F6F9\", \"plot_bgcolor\": \"#F5F6F9\", \"template\": {\"data\": {\"bar\": [{\"error_x\": {\"color\": \"#2a3f5f\"}, \"error_y\": {\"color\": \"#2a3f5f\"}, \"marker\": {\"line\": {\"color\": \"#E5ECF6\", \"width\": 0.5}}, \"type\": \"bar\"}], \"barpolar\": [{\"marker\": {\"line\": {\"color\": \"#E5ECF6\", \"width\": 0.5}}, \"type\": \"barpolar\"}], \"carpet\": [{\"aaxis\": {\"endlinecolor\": \"#2a3f5f\", \"gridcolor\": \"white\", \"linecolor\": \"white\", \"minorgridcolor\": \"white\", \"startlinecolor\": \"#2a3f5f\"}, \"baxis\": {\"endlinecolor\": \"#2a3f5f\", \"gridcolor\": \"white\", \"linecolor\": \"white\", \"minorgridcolor\": \"white\", \"startlinecolor\": \"#2a3f5f\"}, \"type\": \"carpet\"}], \"choropleth\": [{\"colorbar\": {\"outlinewidth\": 0, \"ticks\": \"\"}, \"type\": \"choropleth\"}], \"contour\": [{\"colorbar\": {\"outlinewidth\": 0, \"ticks\": \"\"}, \"colorscale\": [[0.0, \"#0d0887\"], [0.1111111111111111, \"#46039f\"], [0.2222222222222222, \"#7201a8\"], [0.3333333333333333, \"#9c179e\"], [0.4444444444444444, \"#bd3786\"], [0.5555555555555556, \"#d8576b\"], [0.6666666666666666, \"#ed7953\"], [0.7777777777777778, \"#fb9f3a\"], [0.8888888888888888, \"#fdca26\"], [1.0, \"#f0f921\"]], \"type\": \"contour\"}], \"contourcarpet\": [{\"colorbar\": {\"outlinewidth\": 0, \"ticks\": \"\"}, \"type\": \"contourcarpet\"}], \"heatmap\": [{\"colorbar\": {\"outlinewidth\": 0, \"ticks\": \"\"}, \"colorscale\": [[0.0, \"#0d0887\"], [0.1111111111111111, \"#46039f\"], [0.2222222222222222, \"#7201a8\"], [0.3333333333333333, \"#9c179e\"], [0.4444444444444444, \"#bd3786\"], [0.5555555555555556, \"#d8576b\"], [0.6666666666666666, \"#ed7953\"], [0.7777777777777778, \"#fb9f3a\"], [0.8888888888888888, \"#fdca26\"], [1.0, \"#f0f921\"]], \"type\": \"heatmap\"}], \"heatmapgl\": [{\"colorbar\": {\"outlinewidth\": 0, \"ticks\": \"\"}, \"colorscale\": [[0.0, \"#0d0887\"], [0.1111111111111111, \"#46039f\"], [0.2222222222222222, \"#7201a8\"], [0.3333333333333333, \"#9c179e\"], [0.4444444444444444, \"#bd3786\"], [0.5555555555555556, \"#d8576b\"], [0.6666666666666666, \"#ed7953\"], [0.7777777777777778, \"#fb9f3a\"], [0.8888888888888888, \"#fdca26\"], [1.0, \"#f0f921\"]], \"type\": \"heatmapgl\"}], \"histogram\": [{\"marker\": {\"colorbar\": {\"outlinewidth\": 0, \"ticks\": \"\"}}, \"type\": \"histogram\"}], \"histogram2d\": [{\"colorbar\": {\"outlinewidth\": 0, \"ticks\": \"\"}, \"colorscale\": [[0.0, \"#0d0887\"], [0.1111111111111111, \"#46039f\"], [0.2222222222222222, \"#7201a8\"], [0.3333333333333333, \"#9c179e\"], [0.4444444444444444, \"#bd3786\"], [0.5555555555555556, \"#d8576b\"], [0.6666666666666666, \"#ed7953\"], [0.7777777777777778, \"#fb9f3a\"], [0.8888888888888888, \"#fdca26\"], [1.0, \"#f0f921\"]], \"type\": \"histogram2d\"}], \"histogram2dcontour\": [{\"colorbar\": {\"outlinewidth\": 0, \"ticks\": \"\"}, \"colorscale\": [[0.0, \"#0d0887\"], [0.1111111111111111, \"#46039f\"], [0.2222222222222222, \"#7201a8\"], [0.3333333333333333, \"#9c179e\"], [0.4444444444444444, \"#bd3786\"], [0.5555555555555556, \"#d8576b\"], [0.6666666666666666, \"#ed7953\"], [0.7777777777777778, \"#fb9f3a\"], [0.8888888888888888, \"#fdca26\"], [1.0, \"#f0f921\"]], \"type\": \"histogram2dcontour\"}], \"mesh3d\": [{\"colorbar\": {\"outlinewidth\": 0, \"ticks\": \"\"}, \"type\": \"mesh3d\"}], \"parcoords\": [{\"line\": {\"colorbar\": {\"outlinewidth\": 0, \"ticks\": \"\"}}, \"type\": \"parcoords\"}], \"pie\": [{\"automargin\": true, \"type\": \"pie\"}], \"scatter\": [{\"marker\": {\"colorbar\": {\"outlinewidth\": 0, \"ticks\": \"\"}}, \"type\": \"scatter\"}], \"scatter3d\": [{\"line\": {\"colorbar\": {\"outlinewidth\": 0, \"ticks\": \"\"}}, \"marker\": {\"colorbar\": {\"outlinewidth\": 0, \"ticks\": \"\"}}, \"type\": \"scatter3d\"}], \"scattercarpet\": [{\"marker\": {\"colorbar\": {\"outlinewidth\": 0, \"ticks\": \"\"}}, \"type\": \"scattercarpet\"}], \"scattergeo\": [{\"marker\": {\"colorbar\": {\"outlinewidth\": 0, \"ticks\": \"\"}}, \"type\": \"scattergeo\"}], \"scattergl\": [{\"marker\": {\"colorbar\": {\"outlinewidth\": 0, \"ticks\": \"\"}}, \"type\": \"scattergl\"}], \"scattermapbox\": [{\"marker\": {\"colorbar\": {\"outlinewidth\": 0, \"ticks\": \"\"}}, \"type\": \"scattermapbox\"}], \"scatterpolar\": [{\"marker\": {\"colorbar\": {\"outlinewidth\": 0, \"ticks\": \"\"}}, \"type\": \"scatterpolar\"}], \"scatterpolargl\": [{\"marker\": {\"colorbar\": {\"outlinewidth\": 0, \"ticks\": \"\"}}, \"type\": \"scatterpolargl\"}], \"scatterternary\": [{\"marker\": {\"colorbar\": {\"outlinewidth\": 0, \"ticks\": \"\"}}, \"type\": \"scatterternary\"}], \"surface\": [{\"colorbar\": {\"outlinewidth\": 0, \"ticks\": \"\"}, \"colorscale\": [[0.0, \"#0d0887\"], [0.1111111111111111, \"#46039f\"], [0.2222222222222222, \"#7201a8\"], [0.3333333333333333, \"#9c179e\"], [0.4444444444444444, \"#bd3786\"], [0.5555555555555556, \"#d8576b\"], [0.6666666666666666, \"#ed7953\"], [0.7777777777777778, \"#fb9f3a\"], [0.8888888888888888, \"#fdca26\"], [1.0, \"#f0f921\"]], \"type\": \"surface\"}], \"table\": [{\"cells\": {\"fill\": {\"color\": \"#EBF0F8\"}, \"line\": {\"color\": \"white\"}}, \"header\": {\"fill\": {\"color\": \"#C8D4E3\"}, \"line\": {\"color\": \"white\"}}, \"type\": \"table\"}]}, \"layout\": {\"annotationdefaults\": {\"arrowcolor\": \"#2a3f5f\", \"arrowhead\": 0, \"arrowwidth\": 1}, \"autotypenumbers\": \"strict\", \"coloraxis\": {\"colorbar\": {\"outlinewidth\": 0, \"ticks\": \"\"}}, \"colorscale\": {\"diverging\": [[0, \"#8e0152\"], [0.1, \"#c51b7d\"], [0.2, \"#de77ae\"], [0.3, \"#f1b6da\"], [0.4, \"#fde0ef\"], [0.5, \"#f7f7f7\"], [0.6, \"#e6f5d0\"], [0.7, \"#b8e186\"], [0.8, \"#7fbc41\"], [0.9, \"#4d9221\"], [1, \"#276419\"]], \"sequential\": [[0.0, \"#0d0887\"], [0.1111111111111111, \"#46039f\"], [0.2222222222222222, \"#7201a8\"], [0.3333333333333333, \"#9c179e\"], [0.4444444444444444, \"#bd3786\"], [0.5555555555555556, \"#d8576b\"], [0.6666666666666666, \"#ed7953\"], [0.7777777777777778, \"#fb9f3a\"], [0.8888888888888888, \"#fdca26\"], [1.0, \"#f0f921\"]], \"sequentialminus\": [[0.0, \"#0d0887\"], [0.1111111111111111, \"#46039f\"], [0.2222222222222222, \"#7201a8\"], [0.3333333333333333, \"#9c179e\"], [0.4444444444444444, \"#bd3786\"], [0.5555555555555556, \"#d8576b\"], [0.6666666666666666, \"#ed7953\"], [0.7777777777777778, \"#fb9f3a\"], [0.8888888888888888, \"#fdca26\"], [1.0, \"#f0f921\"]]}, \"colorway\": [\"#636efa\", \"#EF553B\", \"#00cc96\", \"#ab63fa\", \"#FFA15A\", \"#19d3f3\", \"#FF6692\", \"#B6E880\", \"#FF97FF\", \"#FECB52\"], \"font\": {\"color\": \"#2a3f5f\"}, \"geo\": {\"bgcolor\": \"white\", \"lakecolor\": \"white\", \"landcolor\": \"#E5ECF6\", \"showlakes\": true, \"showland\": true, \"subunitcolor\": \"white\"}, \"hoverlabel\": {\"align\": \"left\"}, \"hovermode\": \"closest\", \"mapbox\": {\"style\": \"light\"}, \"paper_bgcolor\": \"white\", \"plot_bgcolor\": \"#E5ECF6\", \"polar\": {\"angularaxis\": {\"gridcolor\": \"white\", \"linecolor\": \"white\", \"ticks\": \"\"}, \"bgcolor\": \"#E5ECF6\", \"radialaxis\": {\"gridcolor\": \"white\", \"linecolor\": \"white\", \"ticks\": \"\"}}, \"scene\": {\"xaxis\": {\"backgroundcolor\": \"#E5ECF6\", \"gridcolor\": \"white\", \"gridwidth\": 2, \"linecolor\": \"white\", \"showbackground\": true, \"ticks\": \"\", \"zerolinecolor\": \"white\"}, \"yaxis\": {\"backgroundcolor\": \"#E5ECF6\", \"gridcolor\": \"white\", \"gridwidth\": 2, \"linecolor\": \"white\", \"showbackground\": true, \"ticks\": \"\", \"zerolinecolor\": \"white\"}, \"zaxis\": {\"backgroundcolor\": \"#E5ECF6\", \"gridcolor\": \"white\", \"gridwidth\": 2, \"linecolor\": \"white\", \"showbackground\": true, \"ticks\": \"\", \"zerolinecolor\": \"white\"}}, \"shapedefaults\": {\"line\": {\"color\": \"#2a3f5f\"}}, \"ternary\": {\"aaxis\": {\"gridcolor\": \"white\", \"linecolor\": \"white\", \"ticks\": \"\"}, \"baxis\": {\"gridcolor\": \"white\", \"linecolor\": \"white\", \"ticks\": \"\"}, \"bgcolor\": \"#E5ECF6\", \"caxis\": {\"gridcolor\": \"white\", \"linecolor\": \"white\", \"ticks\": \"\"}}, \"title\": {\"x\": 0.05}, \"xaxis\": {\"automargin\": true, \"gridcolor\": \"white\", \"linecolor\": \"white\", \"ticks\": \"\", \"title\": {\"standoff\": 15}, \"zerolinecolor\": \"white\", \"zerolinewidth\": 2}, \"yaxis\": {\"automargin\": true, \"gridcolor\": \"white\", \"linecolor\": \"white\", \"ticks\": \"\", \"title\": {\"standoff\": 15}, \"zerolinecolor\": \"white\", \"zerolinewidth\": 2}}}, \"title\": {\"font\": {\"color\": \"#4D5663\"}}, \"xaxis\": {\"gridcolor\": \"#E1E5ED\", \"showgrid\": true, \"tickfont\": {\"color\": \"#4D5663\"}, \"title\": {\"font\": {\"color\": \"#4D5663\"}, \"text\": \"\"}, \"zerolinecolor\": \"#E1E5ED\"}, \"yaxis\": {\"gridcolor\": \"#E1E5ED\", \"showgrid\": true, \"tickfont\": {\"color\": \"#4D5663\"}, \"title\": {\"font\": {\"color\": \"#4D5663\"}, \"text\": \"\"}, \"zerolinecolor\": \"#E1E5ED\"}},                        {\"showLink\": true, \"linkText\": \"Export to plot.ly\", \"plotlyServerURL\": \"https://plot.ly\", \"responsive\": true}                    ).then(function(){\n",
       "                            \n",
       "var gd = document.getElementById('89ed2619-d758-419a-b289-7b9f623c9249');\n",
       "var x = new MutationObserver(function (mutations, observer) {{\n",
       "        var display = window.getComputedStyle(gd).display;\n",
       "        if (!display || display === 'none') {{\n",
       "            console.log([gd, 'removed!']);\n",
       "            Plotly.purge(gd);\n",
       "            observer.disconnect();\n",
       "        }}\n",
       "}});\n",
       "\n",
       "// Listen for the removal of the full notebook cells\n",
       "var notebookContainer = gd.closest('#notebook-container');\n",
       "if (notebookContainer) {{\n",
       "    x.observe(notebookContainer, {childList: true});\n",
       "}}\n",
       "\n",
       "// Listen for the clearing of the current output cell\n",
       "var outputEl = gd.closest('.output');\n",
       "if (outputEl) {{\n",
       "    x.observe(outputEl, {childList: true});\n",
       "}}\n",
       "\n",
       "                        })                };                });            </script>        </div>"
      ]
     },
     "metadata": {},
     "output_type": "display_data"
    }
   ],
   "source": [
    "df2.iplot(kind=\"bar\", x=\"Category\", y=\"Values\")"
   ]
  },
  {
   "cell_type": "code",
   "execution_count": 10,
   "id": "a2c05620",
   "metadata": {},
   "outputs": [
    {
     "data": {
      "application/vnd.plotly.v1+json": {
       "config": {
        "linkText": "Export to plot.ly",
        "plotlyServerURL": "https://plot.ly",
        "showLink": true
       },
       "data": [
        {
         "marker": {
          "color": "rgba(255, 153, 51, 0.6)",
          "line": {
           "color": "rgba(255, 153, 51, 1.0)",
           "width": 1
          }
         },
         "name": "None",
         "orientation": "v",
         "text": "",
         "type": "bar",
         "x": [
          "A",
          "B",
          "C",
          "D"
         ],
         "y": [
          100,
          100,
          100,
          100
         ]
        }
       ],
       "layout": {
        "legend": {
         "bgcolor": "#F5F6F9",
         "font": {
          "color": "#4D5663"
         }
        },
        "paper_bgcolor": "#F5F6F9",
        "plot_bgcolor": "#F5F6F9",
        "template": {
         "data": {
          "bar": [
           {
            "error_x": {
             "color": "#2a3f5f"
            },
            "error_y": {
             "color": "#2a3f5f"
            },
            "marker": {
             "line": {
              "color": "#E5ECF6",
              "width": 0.5
             }
            },
            "type": "bar"
           }
          ],
          "barpolar": [
           {
            "marker": {
             "line": {
              "color": "#E5ECF6",
              "width": 0.5
             }
            },
            "type": "barpolar"
           }
          ],
          "carpet": [
           {
            "aaxis": {
             "endlinecolor": "#2a3f5f",
             "gridcolor": "white",
             "linecolor": "white",
             "minorgridcolor": "white",
             "startlinecolor": "#2a3f5f"
            },
            "baxis": {
             "endlinecolor": "#2a3f5f",
             "gridcolor": "white",
             "linecolor": "white",
             "minorgridcolor": "white",
             "startlinecolor": "#2a3f5f"
            },
            "type": "carpet"
           }
          ],
          "choropleth": [
           {
            "colorbar": {
             "outlinewidth": 0,
             "ticks": ""
            },
            "type": "choropleth"
           }
          ],
          "contour": [
           {
            "colorbar": {
             "outlinewidth": 0,
             "ticks": ""
            },
            "colorscale": [
             [
              0,
              "#0d0887"
             ],
             [
              0.1111111111111111,
              "#46039f"
             ],
             [
              0.2222222222222222,
              "#7201a8"
             ],
             [
              0.3333333333333333,
              "#9c179e"
             ],
             [
              0.4444444444444444,
              "#bd3786"
             ],
             [
              0.5555555555555556,
              "#d8576b"
             ],
             [
              0.6666666666666666,
              "#ed7953"
             ],
             [
              0.7777777777777778,
              "#fb9f3a"
             ],
             [
              0.8888888888888888,
              "#fdca26"
             ],
             [
              1,
              "#f0f921"
             ]
            ],
            "type": "contour"
           }
          ],
          "contourcarpet": [
           {
            "colorbar": {
             "outlinewidth": 0,
             "ticks": ""
            },
            "type": "contourcarpet"
           }
          ],
          "heatmap": [
           {
            "colorbar": {
             "outlinewidth": 0,
             "ticks": ""
            },
            "colorscale": [
             [
              0,
              "#0d0887"
             ],
             [
              0.1111111111111111,
              "#46039f"
             ],
             [
              0.2222222222222222,
              "#7201a8"
             ],
             [
              0.3333333333333333,
              "#9c179e"
             ],
             [
              0.4444444444444444,
              "#bd3786"
             ],
             [
              0.5555555555555556,
              "#d8576b"
             ],
             [
              0.6666666666666666,
              "#ed7953"
             ],
             [
              0.7777777777777778,
              "#fb9f3a"
             ],
             [
              0.8888888888888888,
              "#fdca26"
             ],
             [
              1,
              "#f0f921"
             ]
            ],
            "type": "heatmap"
           }
          ],
          "heatmapgl": [
           {
            "colorbar": {
             "outlinewidth": 0,
             "ticks": ""
            },
            "colorscale": [
             [
              0,
              "#0d0887"
             ],
             [
              0.1111111111111111,
              "#46039f"
             ],
             [
              0.2222222222222222,
              "#7201a8"
             ],
             [
              0.3333333333333333,
              "#9c179e"
             ],
             [
              0.4444444444444444,
              "#bd3786"
             ],
             [
              0.5555555555555556,
              "#d8576b"
             ],
             [
              0.6666666666666666,
              "#ed7953"
             ],
             [
              0.7777777777777778,
              "#fb9f3a"
             ],
             [
              0.8888888888888888,
              "#fdca26"
             ],
             [
              1,
              "#f0f921"
             ]
            ],
            "type": "heatmapgl"
           }
          ],
          "histogram": [
           {
            "marker": {
             "colorbar": {
              "outlinewidth": 0,
              "ticks": ""
             }
            },
            "type": "histogram"
           }
          ],
          "histogram2d": [
           {
            "colorbar": {
             "outlinewidth": 0,
             "ticks": ""
            },
            "colorscale": [
             [
              0,
              "#0d0887"
             ],
             [
              0.1111111111111111,
              "#46039f"
             ],
             [
              0.2222222222222222,
              "#7201a8"
             ],
             [
              0.3333333333333333,
              "#9c179e"
             ],
             [
              0.4444444444444444,
              "#bd3786"
             ],
             [
              0.5555555555555556,
              "#d8576b"
             ],
             [
              0.6666666666666666,
              "#ed7953"
             ],
             [
              0.7777777777777778,
              "#fb9f3a"
             ],
             [
              0.8888888888888888,
              "#fdca26"
             ],
             [
              1,
              "#f0f921"
             ]
            ],
            "type": "histogram2d"
           }
          ],
          "histogram2dcontour": [
           {
            "colorbar": {
             "outlinewidth": 0,
             "ticks": ""
            },
            "colorscale": [
             [
              0,
              "#0d0887"
             ],
             [
              0.1111111111111111,
              "#46039f"
             ],
             [
              0.2222222222222222,
              "#7201a8"
             ],
             [
              0.3333333333333333,
              "#9c179e"
             ],
             [
              0.4444444444444444,
              "#bd3786"
             ],
             [
              0.5555555555555556,
              "#d8576b"
             ],
             [
              0.6666666666666666,
              "#ed7953"
             ],
             [
              0.7777777777777778,
              "#fb9f3a"
             ],
             [
              0.8888888888888888,
              "#fdca26"
             ],
             [
              1,
              "#f0f921"
             ]
            ],
            "type": "histogram2dcontour"
           }
          ],
          "mesh3d": [
           {
            "colorbar": {
             "outlinewidth": 0,
             "ticks": ""
            },
            "type": "mesh3d"
           }
          ],
          "parcoords": [
           {
            "line": {
             "colorbar": {
              "outlinewidth": 0,
              "ticks": ""
             }
            },
            "type": "parcoords"
           }
          ],
          "pie": [
           {
            "automargin": true,
            "type": "pie"
           }
          ],
          "scatter": [
           {
            "marker": {
             "colorbar": {
              "outlinewidth": 0,
              "ticks": ""
             }
            },
            "type": "scatter"
           }
          ],
          "scatter3d": [
           {
            "line": {
             "colorbar": {
              "outlinewidth": 0,
              "ticks": ""
             }
            },
            "marker": {
             "colorbar": {
              "outlinewidth": 0,
              "ticks": ""
             }
            },
            "type": "scatter3d"
           }
          ],
          "scattercarpet": [
           {
            "marker": {
             "colorbar": {
              "outlinewidth": 0,
              "ticks": ""
             }
            },
            "type": "scattercarpet"
           }
          ],
          "scattergeo": [
           {
            "marker": {
             "colorbar": {
              "outlinewidth": 0,
              "ticks": ""
             }
            },
            "type": "scattergeo"
           }
          ],
          "scattergl": [
           {
            "marker": {
             "colorbar": {
              "outlinewidth": 0,
              "ticks": ""
             }
            },
            "type": "scattergl"
           }
          ],
          "scattermapbox": [
           {
            "marker": {
             "colorbar": {
              "outlinewidth": 0,
              "ticks": ""
             }
            },
            "type": "scattermapbox"
           }
          ],
          "scatterpolar": [
           {
            "marker": {
             "colorbar": {
              "outlinewidth": 0,
              "ticks": ""
             }
            },
            "type": "scatterpolar"
           }
          ],
          "scatterpolargl": [
           {
            "marker": {
             "colorbar": {
              "outlinewidth": 0,
              "ticks": ""
             }
            },
            "type": "scatterpolargl"
           }
          ],
          "scatterternary": [
           {
            "marker": {
             "colorbar": {
              "outlinewidth": 0,
              "ticks": ""
             }
            },
            "type": "scatterternary"
           }
          ],
          "surface": [
           {
            "colorbar": {
             "outlinewidth": 0,
             "ticks": ""
            },
            "colorscale": [
             [
              0,
              "#0d0887"
             ],
             [
              0.1111111111111111,
              "#46039f"
             ],
             [
              0.2222222222222222,
              "#7201a8"
             ],
             [
              0.3333333333333333,
              "#9c179e"
             ],
             [
              0.4444444444444444,
              "#bd3786"
             ],
             [
              0.5555555555555556,
              "#d8576b"
             ],
             [
              0.6666666666666666,
              "#ed7953"
             ],
             [
              0.7777777777777778,
              "#fb9f3a"
             ],
             [
              0.8888888888888888,
              "#fdca26"
             ],
             [
              1,
              "#f0f921"
             ]
            ],
            "type": "surface"
           }
          ],
          "table": [
           {
            "cells": {
             "fill": {
              "color": "#EBF0F8"
             },
             "line": {
              "color": "white"
             }
            },
            "header": {
             "fill": {
              "color": "#C8D4E3"
             },
             "line": {
              "color": "white"
             }
            },
            "type": "table"
           }
          ]
         },
         "layout": {
          "annotationdefaults": {
           "arrowcolor": "#2a3f5f",
           "arrowhead": 0,
           "arrowwidth": 1
          },
          "autotypenumbers": "strict",
          "coloraxis": {
           "colorbar": {
            "outlinewidth": 0,
            "ticks": ""
           }
          },
          "colorscale": {
           "diverging": [
            [
             0,
             "#8e0152"
            ],
            [
             0.1,
             "#c51b7d"
            ],
            [
             0.2,
             "#de77ae"
            ],
            [
             0.3,
             "#f1b6da"
            ],
            [
             0.4,
             "#fde0ef"
            ],
            [
             0.5,
             "#f7f7f7"
            ],
            [
             0.6,
             "#e6f5d0"
            ],
            [
             0.7,
             "#b8e186"
            ],
            [
             0.8,
             "#7fbc41"
            ],
            [
             0.9,
             "#4d9221"
            ],
            [
             1,
             "#276419"
            ]
           ],
           "sequential": [
            [
             0,
             "#0d0887"
            ],
            [
             0.1111111111111111,
             "#46039f"
            ],
            [
             0.2222222222222222,
             "#7201a8"
            ],
            [
             0.3333333333333333,
             "#9c179e"
            ],
            [
             0.4444444444444444,
             "#bd3786"
            ],
            [
             0.5555555555555556,
             "#d8576b"
            ],
            [
             0.6666666666666666,
             "#ed7953"
            ],
            [
             0.7777777777777778,
             "#fb9f3a"
            ],
            [
             0.8888888888888888,
             "#fdca26"
            ],
            [
             1,
             "#f0f921"
            ]
           ],
           "sequentialminus": [
            [
             0,
             "#0d0887"
            ],
            [
             0.1111111111111111,
             "#46039f"
            ],
            [
             0.2222222222222222,
             "#7201a8"
            ],
            [
             0.3333333333333333,
             "#9c179e"
            ],
            [
             0.4444444444444444,
             "#bd3786"
            ],
            [
             0.5555555555555556,
             "#d8576b"
            ],
            [
             0.6666666666666666,
             "#ed7953"
            ],
            [
             0.7777777777777778,
             "#fb9f3a"
            ],
            [
             0.8888888888888888,
             "#fdca26"
            ],
            [
             1,
             "#f0f921"
            ]
           ]
          },
          "colorway": [
           "#636efa",
           "#EF553B",
           "#00cc96",
           "#ab63fa",
           "#FFA15A",
           "#19d3f3",
           "#FF6692",
           "#B6E880",
           "#FF97FF",
           "#FECB52"
          ],
          "font": {
           "color": "#2a3f5f"
          },
          "geo": {
           "bgcolor": "white",
           "lakecolor": "white",
           "landcolor": "#E5ECF6",
           "showlakes": true,
           "showland": true,
           "subunitcolor": "white"
          },
          "hoverlabel": {
           "align": "left"
          },
          "hovermode": "closest",
          "mapbox": {
           "style": "light"
          },
          "paper_bgcolor": "white",
          "plot_bgcolor": "#E5ECF6",
          "polar": {
           "angularaxis": {
            "gridcolor": "white",
            "linecolor": "white",
            "ticks": ""
           },
           "bgcolor": "#E5ECF6",
           "radialaxis": {
            "gridcolor": "white",
            "linecolor": "white",
            "ticks": ""
           }
          },
          "scene": {
           "xaxis": {
            "backgroundcolor": "#E5ECF6",
            "gridcolor": "white",
            "gridwidth": 2,
            "linecolor": "white",
            "showbackground": true,
            "ticks": "",
            "zerolinecolor": "white"
           },
           "yaxis": {
            "backgroundcolor": "#E5ECF6",
            "gridcolor": "white",
            "gridwidth": 2,
            "linecolor": "white",
            "showbackground": true,
            "ticks": "",
            "zerolinecolor": "white"
           },
           "zaxis": {
            "backgroundcolor": "#E5ECF6",
            "gridcolor": "white",
            "gridwidth": 2,
            "linecolor": "white",
            "showbackground": true,
            "ticks": "",
            "zerolinecolor": "white"
           }
          },
          "shapedefaults": {
           "line": {
            "color": "#2a3f5f"
           }
          },
          "ternary": {
           "aaxis": {
            "gridcolor": "white",
            "linecolor": "white",
            "ticks": ""
           },
           "baxis": {
            "gridcolor": "white",
            "linecolor": "white",
            "ticks": ""
           },
           "bgcolor": "#E5ECF6",
           "caxis": {
            "gridcolor": "white",
            "linecolor": "white",
            "ticks": ""
           }
          },
          "title": {
           "x": 0.05
          },
          "xaxis": {
           "automargin": true,
           "gridcolor": "white",
           "linecolor": "white",
           "ticks": "",
           "title": {
            "standoff": 15
           },
           "zerolinecolor": "white",
           "zerolinewidth": 2
          },
          "yaxis": {
           "automargin": true,
           "gridcolor": "white",
           "linecolor": "white",
           "ticks": "",
           "title": {
            "standoff": 15
           },
           "zerolinecolor": "white",
           "zerolinewidth": 2
          }
         }
        },
        "title": {
         "font": {
          "color": "#4D5663"
         }
        },
        "xaxis": {
         "gridcolor": "#E1E5ED",
         "showgrid": true,
         "tickfont": {
          "color": "#4D5663"
         },
         "title": {
          "font": {
           "color": "#4D5663"
          },
          "text": ""
         },
         "zerolinecolor": "#E1E5ED"
        },
        "yaxis": {
         "gridcolor": "#E1E5ED",
         "showgrid": true,
         "tickfont": {
          "color": "#4D5663"
         },
         "title": {
          "font": {
           "color": "#4D5663"
          },
          "text": ""
         },
         "zerolinecolor": "#E1E5ED"
        }
       }
      },
      "text/html": [
       "<div>                            <div id=\"447baaf1-9076-497c-ad16-7ae0bc400698\" class=\"plotly-graph-div\" style=\"height:525px; width:100%;\"></div>            <script type=\"text/javascript\">                require([\"plotly\"], function(Plotly) {                    window.PLOTLYENV=window.PLOTLYENV || {};\n",
       "                    window.PLOTLYENV.BASE_URL='https://plot.ly';                                    if (document.getElementById(\"447baaf1-9076-497c-ad16-7ae0bc400698\")) {                    Plotly.newPlot(                        \"447baaf1-9076-497c-ad16-7ae0bc400698\",                        [{\"marker\": {\"color\": \"rgba(255, 153, 51, 0.6)\", \"line\": {\"color\": \"rgba(255, 153, 51, 1.0)\", \"width\": 1}}, \"name\": \"None\", \"orientation\": \"v\", \"text\": \"\", \"type\": \"bar\", \"x\": [\"A\", \"B\", \"C\", \"D\"], \"y\": [100, 100, 100, 100]}],                        {\"legend\": {\"bgcolor\": \"#F5F6F9\", \"font\": {\"color\": \"#4D5663\"}}, \"paper_bgcolor\": \"#F5F6F9\", \"plot_bgcolor\": \"#F5F6F9\", \"template\": {\"data\": {\"bar\": [{\"error_x\": {\"color\": \"#2a3f5f\"}, \"error_y\": {\"color\": \"#2a3f5f\"}, \"marker\": {\"line\": {\"color\": \"#E5ECF6\", \"width\": 0.5}}, \"type\": \"bar\"}], \"barpolar\": [{\"marker\": {\"line\": {\"color\": \"#E5ECF6\", \"width\": 0.5}}, \"type\": \"barpolar\"}], \"carpet\": [{\"aaxis\": {\"endlinecolor\": \"#2a3f5f\", \"gridcolor\": \"white\", \"linecolor\": \"white\", \"minorgridcolor\": \"white\", \"startlinecolor\": \"#2a3f5f\"}, \"baxis\": {\"endlinecolor\": \"#2a3f5f\", \"gridcolor\": \"white\", \"linecolor\": \"white\", \"minorgridcolor\": \"white\", \"startlinecolor\": \"#2a3f5f\"}, \"type\": \"carpet\"}], \"choropleth\": [{\"colorbar\": {\"outlinewidth\": 0, \"ticks\": \"\"}, \"type\": \"choropleth\"}], \"contour\": [{\"colorbar\": {\"outlinewidth\": 0, \"ticks\": \"\"}, \"colorscale\": [[0.0, \"#0d0887\"], [0.1111111111111111, \"#46039f\"], [0.2222222222222222, \"#7201a8\"], [0.3333333333333333, \"#9c179e\"], [0.4444444444444444, \"#bd3786\"], [0.5555555555555556, \"#d8576b\"], [0.6666666666666666, \"#ed7953\"], [0.7777777777777778, \"#fb9f3a\"], [0.8888888888888888, \"#fdca26\"], [1.0, \"#f0f921\"]], \"type\": \"contour\"}], \"contourcarpet\": [{\"colorbar\": {\"outlinewidth\": 0, \"ticks\": \"\"}, \"type\": \"contourcarpet\"}], \"heatmap\": [{\"colorbar\": {\"outlinewidth\": 0, \"ticks\": \"\"}, \"colorscale\": [[0.0, \"#0d0887\"], [0.1111111111111111, \"#46039f\"], [0.2222222222222222, \"#7201a8\"], [0.3333333333333333, \"#9c179e\"], [0.4444444444444444, \"#bd3786\"], [0.5555555555555556, \"#d8576b\"], [0.6666666666666666, \"#ed7953\"], [0.7777777777777778, \"#fb9f3a\"], [0.8888888888888888, \"#fdca26\"], [1.0, \"#f0f921\"]], \"type\": \"heatmap\"}], \"heatmapgl\": [{\"colorbar\": {\"outlinewidth\": 0, \"ticks\": \"\"}, \"colorscale\": [[0.0, \"#0d0887\"], [0.1111111111111111, \"#46039f\"], [0.2222222222222222, \"#7201a8\"], [0.3333333333333333, \"#9c179e\"], [0.4444444444444444, \"#bd3786\"], [0.5555555555555556, \"#d8576b\"], [0.6666666666666666, \"#ed7953\"], [0.7777777777777778, \"#fb9f3a\"], [0.8888888888888888, \"#fdca26\"], [1.0, \"#f0f921\"]], \"type\": \"heatmapgl\"}], \"histogram\": [{\"marker\": {\"colorbar\": {\"outlinewidth\": 0, \"ticks\": \"\"}}, \"type\": \"histogram\"}], \"histogram2d\": [{\"colorbar\": {\"outlinewidth\": 0, \"ticks\": \"\"}, \"colorscale\": [[0.0, \"#0d0887\"], [0.1111111111111111, \"#46039f\"], [0.2222222222222222, \"#7201a8\"], [0.3333333333333333, \"#9c179e\"], [0.4444444444444444, \"#bd3786\"], [0.5555555555555556, \"#d8576b\"], [0.6666666666666666, \"#ed7953\"], [0.7777777777777778, \"#fb9f3a\"], [0.8888888888888888, \"#fdca26\"], [1.0, \"#f0f921\"]], \"type\": \"histogram2d\"}], \"histogram2dcontour\": [{\"colorbar\": {\"outlinewidth\": 0, \"ticks\": \"\"}, \"colorscale\": [[0.0, \"#0d0887\"], [0.1111111111111111, \"#46039f\"], [0.2222222222222222, \"#7201a8\"], [0.3333333333333333, \"#9c179e\"], [0.4444444444444444, \"#bd3786\"], [0.5555555555555556, \"#d8576b\"], [0.6666666666666666, \"#ed7953\"], [0.7777777777777778, \"#fb9f3a\"], [0.8888888888888888, \"#fdca26\"], [1.0, \"#f0f921\"]], \"type\": \"histogram2dcontour\"}], \"mesh3d\": [{\"colorbar\": {\"outlinewidth\": 0, \"ticks\": \"\"}, \"type\": \"mesh3d\"}], \"parcoords\": [{\"line\": {\"colorbar\": {\"outlinewidth\": 0, \"ticks\": \"\"}}, \"type\": \"parcoords\"}], \"pie\": [{\"automargin\": true, \"type\": \"pie\"}], \"scatter\": [{\"marker\": {\"colorbar\": {\"outlinewidth\": 0, \"ticks\": \"\"}}, \"type\": \"scatter\"}], \"scatter3d\": [{\"line\": {\"colorbar\": {\"outlinewidth\": 0, \"ticks\": \"\"}}, \"marker\": {\"colorbar\": {\"outlinewidth\": 0, \"ticks\": \"\"}}, \"type\": \"scatter3d\"}], \"scattercarpet\": [{\"marker\": {\"colorbar\": {\"outlinewidth\": 0, \"ticks\": \"\"}}, \"type\": \"scattercarpet\"}], \"scattergeo\": [{\"marker\": {\"colorbar\": {\"outlinewidth\": 0, \"ticks\": \"\"}}, \"type\": \"scattergeo\"}], \"scattergl\": [{\"marker\": {\"colorbar\": {\"outlinewidth\": 0, \"ticks\": \"\"}}, \"type\": \"scattergl\"}], \"scattermapbox\": [{\"marker\": {\"colorbar\": {\"outlinewidth\": 0, \"ticks\": \"\"}}, \"type\": \"scattermapbox\"}], \"scatterpolar\": [{\"marker\": {\"colorbar\": {\"outlinewidth\": 0, \"ticks\": \"\"}}, \"type\": \"scatterpolar\"}], \"scatterpolargl\": [{\"marker\": {\"colorbar\": {\"outlinewidth\": 0, \"ticks\": \"\"}}, \"type\": \"scatterpolargl\"}], \"scatterternary\": [{\"marker\": {\"colorbar\": {\"outlinewidth\": 0, \"ticks\": \"\"}}, \"type\": \"scatterternary\"}], \"surface\": [{\"colorbar\": {\"outlinewidth\": 0, \"ticks\": \"\"}, \"colorscale\": [[0.0, \"#0d0887\"], [0.1111111111111111, \"#46039f\"], [0.2222222222222222, \"#7201a8\"], [0.3333333333333333, \"#9c179e\"], [0.4444444444444444, \"#bd3786\"], [0.5555555555555556, \"#d8576b\"], [0.6666666666666666, \"#ed7953\"], [0.7777777777777778, \"#fb9f3a\"], [0.8888888888888888, \"#fdca26\"], [1.0, \"#f0f921\"]], \"type\": \"surface\"}], \"table\": [{\"cells\": {\"fill\": {\"color\": \"#EBF0F8\"}, \"line\": {\"color\": \"white\"}}, \"header\": {\"fill\": {\"color\": \"#C8D4E3\"}, \"line\": {\"color\": \"white\"}}, \"type\": \"table\"}]}, \"layout\": {\"annotationdefaults\": {\"arrowcolor\": \"#2a3f5f\", \"arrowhead\": 0, \"arrowwidth\": 1}, \"autotypenumbers\": \"strict\", \"coloraxis\": {\"colorbar\": {\"outlinewidth\": 0, \"ticks\": \"\"}}, \"colorscale\": {\"diverging\": [[0, \"#8e0152\"], [0.1, \"#c51b7d\"], [0.2, \"#de77ae\"], [0.3, \"#f1b6da\"], [0.4, \"#fde0ef\"], [0.5, \"#f7f7f7\"], [0.6, \"#e6f5d0\"], [0.7, \"#b8e186\"], [0.8, \"#7fbc41\"], [0.9, \"#4d9221\"], [1, \"#276419\"]], \"sequential\": [[0.0, \"#0d0887\"], [0.1111111111111111, \"#46039f\"], [0.2222222222222222, \"#7201a8\"], [0.3333333333333333, \"#9c179e\"], [0.4444444444444444, \"#bd3786\"], [0.5555555555555556, \"#d8576b\"], [0.6666666666666666, \"#ed7953\"], [0.7777777777777778, \"#fb9f3a\"], [0.8888888888888888, \"#fdca26\"], [1.0, \"#f0f921\"]], \"sequentialminus\": [[0.0, \"#0d0887\"], [0.1111111111111111, \"#46039f\"], [0.2222222222222222, \"#7201a8\"], [0.3333333333333333, \"#9c179e\"], [0.4444444444444444, \"#bd3786\"], [0.5555555555555556, \"#d8576b\"], [0.6666666666666666, \"#ed7953\"], [0.7777777777777778, \"#fb9f3a\"], [0.8888888888888888, \"#fdca26\"], [1.0, \"#f0f921\"]]}, \"colorway\": [\"#636efa\", \"#EF553B\", \"#00cc96\", \"#ab63fa\", \"#FFA15A\", \"#19d3f3\", \"#FF6692\", \"#B6E880\", \"#FF97FF\", \"#FECB52\"], \"font\": {\"color\": \"#2a3f5f\"}, \"geo\": {\"bgcolor\": \"white\", \"lakecolor\": \"white\", \"landcolor\": \"#E5ECF6\", \"showlakes\": true, \"showland\": true, \"subunitcolor\": \"white\"}, \"hoverlabel\": {\"align\": \"left\"}, \"hovermode\": \"closest\", \"mapbox\": {\"style\": \"light\"}, \"paper_bgcolor\": \"white\", \"plot_bgcolor\": \"#E5ECF6\", \"polar\": {\"angularaxis\": {\"gridcolor\": \"white\", \"linecolor\": \"white\", \"ticks\": \"\"}, \"bgcolor\": \"#E5ECF6\", \"radialaxis\": {\"gridcolor\": \"white\", \"linecolor\": \"white\", \"ticks\": \"\"}}, \"scene\": {\"xaxis\": {\"backgroundcolor\": \"#E5ECF6\", \"gridcolor\": \"white\", \"gridwidth\": 2, \"linecolor\": \"white\", \"showbackground\": true, \"ticks\": \"\", \"zerolinecolor\": \"white\"}, \"yaxis\": {\"backgroundcolor\": \"#E5ECF6\", \"gridcolor\": \"white\", \"gridwidth\": 2, \"linecolor\": \"white\", \"showbackground\": true, \"ticks\": \"\", \"zerolinecolor\": \"white\"}, \"zaxis\": {\"backgroundcolor\": \"#E5ECF6\", \"gridcolor\": \"white\", \"gridwidth\": 2, \"linecolor\": \"white\", \"showbackground\": true, \"ticks\": \"\", \"zerolinecolor\": \"white\"}}, \"shapedefaults\": {\"line\": {\"color\": \"#2a3f5f\"}}, \"ternary\": {\"aaxis\": {\"gridcolor\": \"white\", \"linecolor\": \"white\", \"ticks\": \"\"}, \"baxis\": {\"gridcolor\": \"white\", \"linecolor\": \"white\", \"ticks\": \"\"}, \"bgcolor\": \"#E5ECF6\", \"caxis\": {\"gridcolor\": \"white\", \"linecolor\": \"white\", \"ticks\": \"\"}}, \"title\": {\"x\": 0.05}, \"xaxis\": {\"automargin\": true, \"gridcolor\": \"white\", \"linecolor\": \"white\", \"ticks\": \"\", \"title\": {\"standoff\": 15}, \"zerolinecolor\": \"white\", \"zerolinewidth\": 2}, \"yaxis\": {\"automargin\": true, \"gridcolor\": \"white\", \"linecolor\": \"white\", \"ticks\": \"\", \"title\": {\"standoff\": 15}, \"zerolinecolor\": \"white\", \"zerolinewidth\": 2}}}, \"title\": {\"font\": {\"color\": \"#4D5663\"}}, \"xaxis\": {\"gridcolor\": \"#E1E5ED\", \"showgrid\": true, \"tickfont\": {\"color\": \"#4D5663\"}, \"title\": {\"font\": {\"color\": \"#4D5663\"}, \"text\": \"\"}, \"zerolinecolor\": \"#E1E5ED\"}, \"yaxis\": {\"gridcolor\": \"#E1E5ED\", \"showgrid\": true, \"tickfont\": {\"color\": \"#4D5663\"}, \"title\": {\"font\": {\"color\": \"#4D5663\"}, \"text\": \"\"}, \"zerolinecolor\": \"#E1E5ED\"}},                        {\"showLink\": true, \"linkText\": \"Export to plot.ly\", \"plotlyServerURL\": \"https://plot.ly\", \"responsive\": true}                    ).then(function(){\n",
       "                            \n",
       "var gd = document.getElementById('447baaf1-9076-497c-ad16-7ae0bc400698');\n",
       "var x = new MutationObserver(function (mutations, observer) {{\n",
       "        var display = window.getComputedStyle(gd).display;\n",
       "        if (!display || display === 'none') {{\n",
       "            console.log([gd, 'removed!']);\n",
       "            Plotly.purge(gd);\n",
       "            observer.disconnect();\n",
       "        }}\n",
       "}});\n",
       "\n",
       "// Listen for the removal of the full notebook cells\n",
       "var notebookContainer = gd.closest('#notebook-container');\n",
       "if (notebookContainer) {{\n",
       "    x.observe(notebookContainer, {childList: true});\n",
       "}}\n",
       "\n",
       "// Listen for the clearing of the current output cell\n",
       "var outputEl = gd.closest('.output');\n",
       "if (outputEl) {{\n",
       "    x.observe(outputEl, {childList: true});\n",
       "}}\n",
       "\n",
       "                        })                };                });            </script>        </div>"
      ]
     },
     "metadata": {},
     "output_type": "display_data"
    }
   ],
   "source": [
    "df.count().iplot(kind='bar')"
   ]
  },
  {
   "cell_type": "markdown",
   "id": "68c1d069",
   "metadata": {},
   "source": [
    "### Boxplots"
   ]
  },
  {
   "cell_type": "code",
   "execution_count": 11,
   "id": "d1aee242",
   "metadata": {},
   "outputs": [
    {
     "data": {
      "application/vnd.plotly.v1+json": {
       "config": {
        "linkText": "Export to plot.ly",
        "plotlyServerURL": "https://plot.ly",
        "showLink": true
       },
       "data": [
        {
         "boxpoints": false,
         "line": {
          "width": 1.3
         },
         "marker": {
          "color": "rgba(255, 153, 51, 1.0)"
         },
         "name": "A",
         "orientation": "v",
         "type": "box",
         "y": [
          1.13798425475934,
          -1.5511667265037368,
          -0.49910781628050077,
          1.085004351054516,
          1.3989590240733099,
          -0.2911375934861317,
          -1.5870990872964883,
          -0.27935482665627126,
          0.3605252492517807,
          -0.2573222198131206,
          0.1282283018327493,
          -0.07523399544764772,
          -1.209782190524917,
          2.0998120955843382,
          0.21015410636408016,
          0.22039843592118114,
          -0.2750042028570783,
          -0.6425752651343553,
          0.04922938202933533,
          -1.151271215568177,
          -0.42520307577080796,
          0.286067143912526,
          0.6534378509385754,
          0.8055892428102114,
          1.6706324275158206,
          -1.9144292516764323,
          -0.7130745443719025,
          0.7132261507336397,
          1.0879917537219244,
          1.1428274385647352,
          1.1052680624561735,
          -0.5017274571551676,
          -0.15486630452781308,
          -0.8648382795499453,
          -0.821833223346524,
          -0.9012730792736585,
          0.6915059079700464,
          0.9054765379391744,
          -1.2976938178943378,
          -2.53565236236453,
          -0.1468560126376463,
          0.7415838145374852,
          0.967262105578842,
          -0.35875049228952205,
          0.8406410200429533,
          -0.03382970251039049,
          0.8707112942651388,
          -1.4962151290981338,
          -0.07482657180383757,
          -2.0160590596318197,
          0.3736129818346688,
          1.6452214643540364,
          1.7483148573896086,
          -1.4782529280436036,
          -0.1851835324174723,
          0.07377001332300753,
          0.36261478198089586,
          0.8651189780670078,
          0.6850474548860096,
          -0.7604619533012311,
          0.6555732095574617,
          -0.2688445662091309,
          2.284918084356147,
          -0.8340569074513916,
          1.6567735333149083,
          0.2924799350386549,
          -0.2735576072888158,
          0.0661601600306233,
          -0.6484239909056564,
          0.3878976614822351,
          -0.7011706453361762,
          0.2833166864898419,
          0.46257195200648377,
          0.5553702337250296,
          -0.5010959672124472,
          -0.14217198426981456,
          0.030937629523973564,
          -0.7574771731657584,
          0.45118790988184454,
          0.8219555020946994,
          0.5957135274819632,
          0.296850683691185,
          -0.12687894891679846,
          1.6095887390402563,
          -0.4527220315030091,
          0.971845763811533,
          0.6888768190349028,
          1.190978115499409,
          1.553954249377355,
          -0.12605990653637028,
          1.3525180232497602,
          0.721154005304942,
          -1.9836464415088655,
          -0.7479971966715627,
          -0.06669017642695914,
          -0.9289839979546476,
          0.4778549545203271,
          0.28213164182506856,
          -1.1155992489230353,
          0.4085009469861413
         ]
        },
        {
         "boxpoints": false,
         "line": {
          "width": 1.3
         },
         "marker": {
          "color": "rgba(55, 128, 191, 1.0)"
         },
         "name": "B",
         "orientation": "v",
         "type": "box",
         "y": [
          0.7323896324227073,
          -0.3284517281790686,
          -0.4510768322302432,
          1.6259669689281526,
          2.2430313429630293,
          -1.7897441106074743,
          0.569351307124913,
          -0.64587704510535,
          -0.0028811213343762202,
          -0.6373272106113808,
          1.0727062355724828,
          -2.952465256493198,
          1.287542719369616,
          -1.9267498062823034,
          2.0788433396371806,
          0.43073404217299227,
          0.26760125628746445,
          1.0849032546496722,
          1.3952877106807626,
          -0.6565850044269331,
          0.3817056840001886,
          -0.7412006468853344,
          -1.1217400025261557,
          0.6370813567298341,
          -0.5641382119507771,
          0.4634853466013324,
          -0.8584405373757337,
          -0.31182260271644374,
          0.3241918385448195,
          -1.33196541981774,
          -0.32846040497042905,
          -1.6413072197342926,
          0.7173508042526268,
          -1.7799489677323204,
          -1.86186170165096,
          0.10832184935546763,
          -1.0288381651747285,
          -0.545393753019585,
          -0.2650696867162592,
          0.05143818057526999,
          2.4823816265488032,
          -0.2501683134068812,
          -0.8065726277144815,
          0.5501537595048036,
          1.1282774686998163,
          -1.1732802076261226,
          -0.46217213437426197,
          -1.3361758119419371,
          2.5199867408681107,
          2.9378115385841097,
          -0.7262093920427323,
          0.6618920921980426,
          -0.8331597086864062,
          -0.30617972029078255,
          -0.4785044386864302,
          -0.4311874108212848,
          1.059597532517294,
          -1.5851754098869444,
          -0.039793079226337416,
          0.9867240234550703,
          1.3051413089883257,
          -0.5936323554912434,
          -0.7753853225554804,
          0.25590786585761166,
          1.547462128147694,
          -1.1023295816945362,
          -0.6222120723704447,
          -1.3188982035117294,
          -0.3093504949433165,
          -0.6769875209754437,
          -1.2333911783155913,
          -0.25666166671048446,
          -0.16532592175370936,
          -1.5355312465996227,
          -0.044051680488167134,
          -2.1457695866393056,
          0.9910173713062925,
          -1.1693051260643423,
          0.5160990345223325,
          0.3034532039457703,
          0.6409653165213176,
          0.9651791752395708,
          -2.2583982537236387,
          0.9926410629675069,
          1.3397259187632276,
          0.3781172112555631,
          1.5690672504187282,
          -0.03013161830784265,
          0.010106847671662566,
          0.33347285351095557,
          0.9112980654586149,
          0.14301371449262146,
          -0.30880549994744216,
          -2.0760184562581383,
          -0.7149080366700209,
          -0.0918574051416281,
          1.7923015769941466,
          -0.2022523157306176,
          0.04800165228427791,
          2.778983884871559
         ]
        },
        {
         "boxpoints": false,
         "line": {
          "width": 1.3
         },
         "marker": {
          "color": "rgba(50, 171, 96, 1.0)"
         },
         "name": "C",
         "orientation": "v",
         "type": "box",
         "y": [
          0.9222841373662842,
          -1.6804994666692668,
          0.3597681214930154,
          0.6946653457572813,
          -2.0228248476213033,
          -1.0666487463970504,
          0.3918601175968837,
          -1.0282306181688932,
          0.5043984366695315,
          -0.07651377152407639,
          -1.1623285544689614,
          0.9276143123506188,
          -1.090707015726742,
          -0.0931033450196046,
          0.4494439386635046,
          1.3714070313913298,
          -0.006318827300825494,
          1.5334398479509452,
          0.1612247171096429,
          -0.8019535864381443,
          -0.4881139574035609,
          -3.200042310179826,
          -0.03973690325032663,
          0.1469945458180234,
          -0.3114419421366963,
          0.20610076222518958,
          -0.5087114064580988,
          0.5334918748187668,
          0.2300146757080329,
          2.0670623682633136,
          0.8122964573456442,
          -0.5035504536337416,
          2.0609413304506967,
          -0.08935908323816356,
          1.5025156623202247,
          -1.2553037135233935,
          -0.5319221271715704,
          -1.0637936723981234,
          0.06723297017675449,
          0.5364541059211533,
          1.2525873959994334,
          1.6662869339320394,
          -1.427116342119559,
          1.0194420299278972,
          0.306989560029641,
          -0.5196358641816051,
          -0.30377574299331916,
          0.27850589876295145,
          -0.7607399517383897,
          -0.5702097644362375,
          0.3794360312670967,
          0.2849820599649263,
          -1.0247331757452582,
          -0.19712726346279044,
          -0.08737784294508043,
          0.7237044359826967,
          1.609588255758794,
          0.20354667439932378,
          -0.891918707340523,
          -0.3995257015270211,
          -0.4659778200620951,
          0.08922465615535513,
          1.130825856287499,
          -0.20675754509165864,
          1.3781811671034254,
          0.3026670169557407,
          1.0362145555068512,
          -0.028708808313712846,
          0.5897544927483535,
          -2.611862914600978,
          0.7859570095002909,
          -0.946454230866487,
          -0.40844451644157775,
          -1.1878447427647347,
          -0.8757213429417575,
          0.18141390708277777,
          -1.1925725795000022,
          -1.0830257229794367,
          -0.5691774720845683,
          1.2774508206588515,
          -0.45305354859705826,
          -1.0095700521188944,
          -0.6510699768671271,
          -0.10339800580912871,
          -0.3877013120159667,
          -1.3619512413525672,
          -1.1424960904648973,
          -1.0095360276547143,
          0.07749438904283287,
          -0.6663397998664455,
          -0.9043270074967882,
          -0.874141472868618,
          -0.9056454426723413,
          0.44926413048963243,
          0.15125183254240057,
          -0.11461729288434383,
          2.0234431862789983,
          0.13000998885060866,
          -0.6430570001159673,
          -0.021010091840642033
         ]
        },
        {
         "boxpoints": false,
         "line": {
          "width": 1.3
         },
         "marker": {
          "color": "rgba(128, 0, 128, 1.0)"
         },
         "name": "D",
         "orientation": "v",
         "type": "box",
         "y": [
          -0.49276694005153754,
          -1.5986208578767598,
          0.7491265136981557,
          1.312156108991257,
          0.08453779531317554,
          -0.2187343733372969,
          -0.8379765304819816,
          -0.0511028279959056,
          -0.017316963261710693,
          -1.0118519948123361,
          -0.16370932061274415,
          0.6458615260403444,
          -0.2244178728724846,
          -1.520217744365132,
          1.4283129738497007,
          0.25468222071115176,
          -0.38140155346182825,
          1.380638721998429,
          1.4520895824746396,
          -1.5319514701306376,
          -1.8828405990802903,
          0.9929435493683337,
          0.0926308022668882,
          0.8749211070050118,
          0.6223522233213582,
          -2.4089503300794064,
          -0.19754282713332516,
          -1.6476161906707616,
          1.6401794144989228,
          -0.6369476207431659,
          0.6974161394541564,
          -0.40020788591131307,
          0.9950022712269592,
          -0.44466503658659795,
          0.12599943253474874,
          -0.3707222092344457,
          1.9828291878087414,
          -0.658017774044128,
          -2.4079520031370234,
          0.038133392728422366,
          0.8472151165833635,
          0.5134263518989487,
          1.3526642802214088,
          -1.5860897426341527,
          1.6778139827116016,
          0.7640590919587001,
          0.7771332307041993,
          1.3528508384931222,
          0.9513228631476397,
          2.0711099176175964,
          -2.5368404843510173,
          -1.3415192299160754,
          -2.2198664797204213,
          0.26407355848848957,
          -0.9228894243282747,
          0.3903893166092727,
          0.690495614429746,
          2.6294349664221834,
          -1.0018758618494499,
          -0.7746264225990829,
          1.252967895470081,
          -0.5800015937270759,
          1.774442695877346,
          0.3006623955637737,
          -0.953781350527465,
          0.9737779320934462,
          1.8204930669143398,
          -0.17997660188272743,
          1.313904319436769,
          -0.48039991105997254,
          1.4591836201587236,
          -0.3646044945007691,
          -2.54730458507353,
          0.5034575972987234,
          -0.43940367807704345,
          0.21268562440517289,
          -1.3296483365012357,
          -0.31877779222053276,
          1.1951688280637907,
          1.5350471427808494,
          -0.07323618940973585,
          -1.1269942514030862,
          -0.4247276176477819,
          -0.9398456127581629,
          1.5369043842816101,
          -1.1870014693064666,
          1.4656538962054477,
          -0.565741535969565,
          -0.830059860318411,
          -0.289447855374188,
          -2.862452201994092,
          0.8855172927520567,
          0.7333716746271585,
          0.6787725431545305,
          0.3976557546382951,
          0.9596678020387314,
          0.7017388368109589,
          -0.7112984882624002,
          0.137061290177784,
          1.108603717615353
         ]
        }
       ],
       "layout": {
        "legend": {
         "bgcolor": "#F5F6F9",
         "font": {
          "color": "#4D5663"
         }
        },
        "paper_bgcolor": "#F5F6F9",
        "plot_bgcolor": "#F5F6F9",
        "template": {
         "data": {
          "bar": [
           {
            "error_x": {
             "color": "#2a3f5f"
            },
            "error_y": {
             "color": "#2a3f5f"
            },
            "marker": {
             "line": {
              "color": "#E5ECF6",
              "width": 0.5
             }
            },
            "type": "bar"
           }
          ],
          "barpolar": [
           {
            "marker": {
             "line": {
              "color": "#E5ECF6",
              "width": 0.5
             }
            },
            "type": "barpolar"
           }
          ],
          "carpet": [
           {
            "aaxis": {
             "endlinecolor": "#2a3f5f",
             "gridcolor": "white",
             "linecolor": "white",
             "minorgridcolor": "white",
             "startlinecolor": "#2a3f5f"
            },
            "baxis": {
             "endlinecolor": "#2a3f5f",
             "gridcolor": "white",
             "linecolor": "white",
             "minorgridcolor": "white",
             "startlinecolor": "#2a3f5f"
            },
            "type": "carpet"
           }
          ],
          "choropleth": [
           {
            "colorbar": {
             "outlinewidth": 0,
             "ticks": ""
            },
            "type": "choropleth"
           }
          ],
          "contour": [
           {
            "colorbar": {
             "outlinewidth": 0,
             "ticks": ""
            },
            "colorscale": [
             [
              0,
              "#0d0887"
             ],
             [
              0.1111111111111111,
              "#46039f"
             ],
             [
              0.2222222222222222,
              "#7201a8"
             ],
             [
              0.3333333333333333,
              "#9c179e"
             ],
             [
              0.4444444444444444,
              "#bd3786"
             ],
             [
              0.5555555555555556,
              "#d8576b"
             ],
             [
              0.6666666666666666,
              "#ed7953"
             ],
             [
              0.7777777777777778,
              "#fb9f3a"
             ],
             [
              0.8888888888888888,
              "#fdca26"
             ],
             [
              1,
              "#f0f921"
             ]
            ],
            "type": "contour"
           }
          ],
          "contourcarpet": [
           {
            "colorbar": {
             "outlinewidth": 0,
             "ticks": ""
            },
            "type": "contourcarpet"
           }
          ],
          "heatmap": [
           {
            "colorbar": {
             "outlinewidth": 0,
             "ticks": ""
            },
            "colorscale": [
             [
              0,
              "#0d0887"
             ],
             [
              0.1111111111111111,
              "#46039f"
             ],
             [
              0.2222222222222222,
              "#7201a8"
             ],
             [
              0.3333333333333333,
              "#9c179e"
             ],
             [
              0.4444444444444444,
              "#bd3786"
             ],
             [
              0.5555555555555556,
              "#d8576b"
             ],
             [
              0.6666666666666666,
              "#ed7953"
             ],
             [
              0.7777777777777778,
              "#fb9f3a"
             ],
             [
              0.8888888888888888,
              "#fdca26"
             ],
             [
              1,
              "#f0f921"
             ]
            ],
            "type": "heatmap"
           }
          ],
          "heatmapgl": [
           {
            "colorbar": {
             "outlinewidth": 0,
             "ticks": ""
            },
            "colorscale": [
             [
              0,
              "#0d0887"
             ],
             [
              0.1111111111111111,
              "#46039f"
             ],
             [
              0.2222222222222222,
              "#7201a8"
             ],
             [
              0.3333333333333333,
              "#9c179e"
             ],
             [
              0.4444444444444444,
              "#bd3786"
             ],
             [
              0.5555555555555556,
              "#d8576b"
             ],
             [
              0.6666666666666666,
              "#ed7953"
             ],
             [
              0.7777777777777778,
              "#fb9f3a"
             ],
             [
              0.8888888888888888,
              "#fdca26"
             ],
             [
              1,
              "#f0f921"
             ]
            ],
            "type": "heatmapgl"
           }
          ],
          "histogram": [
           {
            "marker": {
             "colorbar": {
              "outlinewidth": 0,
              "ticks": ""
             }
            },
            "type": "histogram"
           }
          ],
          "histogram2d": [
           {
            "colorbar": {
             "outlinewidth": 0,
             "ticks": ""
            },
            "colorscale": [
             [
              0,
              "#0d0887"
             ],
             [
              0.1111111111111111,
              "#46039f"
             ],
             [
              0.2222222222222222,
              "#7201a8"
             ],
             [
              0.3333333333333333,
              "#9c179e"
             ],
             [
              0.4444444444444444,
              "#bd3786"
             ],
             [
              0.5555555555555556,
              "#d8576b"
             ],
             [
              0.6666666666666666,
              "#ed7953"
             ],
             [
              0.7777777777777778,
              "#fb9f3a"
             ],
             [
              0.8888888888888888,
              "#fdca26"
             ],
             [
              1,
              "#f0f921"
             ]
            ],
            "type": "histogram2d"
           }
          ],
          "histogram2dcontour": [
           {
            "colorbar": {
             "outlinewidth": 0,
             "ticks": ""
            },
            "colorscale": [
             [
              0,
              "#0d0887"
             ],
             [
              0.1111111111111111,
              "#46039f"
             ],
             [
              0.2222222222222222,
              "#7201a8"
             ],
             [
              0.3333333333333333,
              "#9c179e"
             ],
             [
              0.4444444444444444,
              "#bd3786"
             ],
             [
              0.5555555555555556,
              "#d8576b"
             ],
             [
              0.6666666666666666,
              "#ed7953"
             ],
             [
              0.7777777777777778,
              "#fb9f3a"
             ],
             [
              0.8888888888888888,
              "#fdca26"
             ],
             [
              1,
              "#f0f921"
             ]
            ],
            "type": "histogram2dcontour"
           }
          ],
          "mesh3d": [
           {
            "colorbar": {
             "outlinewidth": 0,
             "ticks": ""
            },
            "type": "mesh3d"
           }
          ],
          "parcoords": [
           {
            "line": {
             "colorbar": {
              "outlinewidth": 0,
              "ticks": ""
             }
            },
            "type": "parcoords"
           }
          ],
          "pie": [
           {
            "automargin": true,
            "type": "pie"
           }
          ],
          "scatter": [
           {
            "marker": {
             "colorbar": {
              "outlinewidth": 0,
              "ticks": ""
             }
            },
            "type": "scatter"
           }
          ],
          "scatter3d": [
           {
            "line": {
             "colorbar": {
              "outlinewidth": 0,
              "ticks": ""
             }
            },
            "marker": {
             "colorbar": {
              "outlinewidth": 0,
              "ticks": ""
             }
            },
            "type": "scatter3d"
           }
          ],
          "scattercarpet": [
           {
            "marker": {
             "colorbar": {
              "outlinewidth": 0,
              "ticks": ""
             }
            },
            "type": "scattercarpet"
           }
          ],
          "scattergeo": [
           {
            "marker": {
             "colorbar": {
              "outlinewidth": 0,
              "ticks": ""
             }
            },
            "type": "scattergeo"
           }
          ],
          "scattergl": [
           {
            "marker": {
             "colorbar": {
              "outlinewidth": 0,
              "ticks": ""
             }
            },
            "type": "scattergl"
           }
          ],
          "scattermapbox": [
           {
            "marker": {
             "colorbar": {
              "outlinewidth": 0,
              "ticks": ""
             }
            },
            "type": "scattermapbox"
           }
          ],
          "scatterpolar": [
           {
            "marker": {
             "colorbar": {
              "outlinewidth": 0,
              "ticks": ""
             }
            },
            "type": "scatterpolar"
           }
          ],
          "scatterpolargl": [
           {
            "marker": {
             "colorbar": {
              "outlinewidth": 0,
              "ticks": ""
             }
            },
            "type": "scatterpolargl"
           }
          ],
          "scatterternary": [
           {
            "marker": {
             "colorbar": {
              "outlinewidth": 0,
              "ticks": ""
             }
            },
            "type": "scatterternary"
           }
          ],
          "surface": [
           {
            "colorbar": {
             "outlinewidth": 0,
             "ticks": ""
            },
            "colorscale": [
             [
              0,
              "#0d0887"
             ],
             [
              0.1111111111111111,
              "#46039f"
             ],
             [
              0.2222222222222222,
              "#7201a8"
             ],
             [
              0.3333333333333333,
              "#9c179e"
             ],
             [
              0.4444444444444444,
              "#bd3786"
             ],
             [
              0.5555555555555556,
              "#d8576b"
             ],
             [
              0.6666666666666666,
              "#ed7953"
             ],
             [
              0.7777777777777778,
              "#fb9f3a"
             ],
             [
              0.8888888888888888,
              "#fdca26"
             ],
             [
              1,
              "#f0f921"
             ]
            ],
            "type": "surface"
           }
          ],
          "table": [
           {
            "cells": {
             "fill": {
              "color": "#EBF0F8"
             },
             "line": {
              "color": "white"
             }
            },
            "header": {
             "fill": {
              "color": "#C8D4E3"
             },
             "line": {
              "color": "white"
             }
            },
            "type": "table"
           }
          ]
         },
         "layout": {
          "annotationdefaults": {
           "arrowcolor": "#2a3f5f",
           "arrowhead": 0,
           "arrowwidth": 1
          },
          "autotypenumbers": "strict",
          "coloraxis": {
           "colorbar": {
            "outlinewidth": 0,
            "ticks": ""
           }
          },
          "colorscale": {
           "diverging": [
            [
             0,
             "#8e0152"
            ],
            [
             0.1,
             "#c51b7d"
            ],
            [
             0.2,
             "#de77ae"
            ],
            [
             0.3,
             "#f1b6da"
            ],
            [
             0.4,
             "#fde0ef"
            ],
            [
             0.5,
             "#f7f7f7"
            ],
            [
             0.6,
             "#e6f5d0"
            ],
            [
             0.7,
             "#b8e186"
            ],
            [
             0.8,
             "#7fbc41"
            ],
            [
             0.9,
             "#4d9221"
            ],
            [
             1,
             "#276419"
            ]
           ],
           "sequential": [
            [
             0,
             "#0d0887"
            ],
            [
             0.1111111111111111,
             "#46039f"
            ],
            [
             0.2222222222222222,
             "#7201a8"
            ],
            [
             0.3333333333333333,
             "#9c179e"
            ],
            [
             0.4444444444444444,
             "#bd3786"
            ],
            [
             0.5555555555555556,
             "#d8576b"
            ],
            [
             0.6666666666666666,
             "#ed7953"
            ],
            [
             0.7777777777777778,
             "#fb9f3a"
            ],
            [
             0.8888888888888888,
             "#fdca26"
            ],
            [
             1,
             "#f0f921"
            ]
           ],
           "sequentialminus": [
            [
             0,
             "#0d0887"
            ],
            [
             0.1111111111111111,
             "#46039f"
            ],
            [
             0.2222222222222222,
             "#7201a8"
            ],
            [
             0.3333333333333333,
             "#9c179e"
            ],
            [
             0.4444444444444444,
             "#bd3786"
            ],
            [
             0.5555555555555556,
             "#d8576b"
            ],
            [
             0.6666666666666666,
             "#ed7953"
            ],
            [
             0.7777777777777778,
             "#fb9f3a"
            ],
            [
             0.8888888888888888,
             "#fdca26"
            ],
            [
             1,
             "#f0f921"
            ]
           ]
          },
          "colorway": [
           "#636efa",
           "#EF553B",
           "#00cc96",
           "#ab63fa",
           "#FFA15A",
           "#19d3f3",
           "#FF6692",
           "#B6E880",
           "#FF97FF",
           "#FECB52"
          ],
          "font": {
           "color": "#2a3f5f"
          },
          "geo": {
           "bgcolor": "white",
           "lakecolor": "white",
           "landcolor": "#E5ECF6",
           "showlakes": true,
           "showland": true,
           "subunitcolor": "white"
          },
          "hoverlabel": {
           "align": "left"
          },
          "hovermode": "closest",
          "mapbox": {
           "style": "light"
          },
          "paper_bgcolor": "white",
          "plot_bgcolor": "#E5ECF6",
          "polar": {
           "angularaxis": {
            "gridcolor": "white",
            "linecolor": "white",
            "ticks": ""
           },
           "bgcolor": "#E5ECF6",
           "radialaxis": {
            "gridcolor": "white",
            "linecolor": "white",
            "ticks": ""
           }
          },
          "scene": {
           "xaxis": {
            "backgroundcolor": "#E5ECF6",
            "gridcolor": "white",
            "gridwidth": 2,
            "linecolor": "white",
            "showbackground": true,
            "ticks": "",
            "zerolinecolor": "white"
           },
           "yaxis": {
            "backgroundcolor": "#E5ECF6",
            "gridcolor": "white",
            "gridwidth": 2,
            "linecolor": "white",
            "showbackground": true,
            "ticks": "",
            "zerolinecolor": "white"
           },
           "zaxis": {
            "backgroundcolor": "#E5ECF6",
            "gridcolor": "white",
            "gridwidth": 2,
            "linecolor": "white",
            "showbackground": true,
            "ticks": "",
            "zerolinecolor": "white"
           }
          },
          "shapedefaults": {
           "line": {
            "color": "#2a3f5f"
           }
          },
          "ternary": {
           "aaxis": {
            "gridcolor": "white",
            "linecolor": "white",
            "ticks": ""
           },
           "baxis": {
            "gridcolor": "white",
            "linecolor": "white",
            "ticks": ""
           },
           "bgcolor": "#E5ECF6",
           "caxis": {
            "gridcolor": "white",
            "linecolor": "white",
            "ticks": ""
           }
          },
          "title": {
           "x": 0.05
          },
          "xaxis": {
           "automargin": true,
           "gridcolor": "white",
           "linecolor": "white",
           "ticks": "",
           "title": {
            "standoff": 15
           },
           "zerolinecolor": "white",
           "zerolinewidth": 2
          },
          "yaxis": {
           "automargin": true,
           "gridcolor": "white",
           "linecolor": "white",
           "ticks": "",
           "title": {
            "standoff": 15
           },
           "zerolinecolor": "white",
           "zerolinewidth": 2
          }
         }
        },
        "title": {
         "font": {
          "color": "#4D5663"
         }
        },
        "xaxis": {
         "gridcolor": "#E1E5ED",
         "showgrid": true,
         "tickfont": {
          "color": "#4D5663"
         },
         "title": {
          "font": {
           "color": "#4D5663"
          },
          "text": ""
         },
         "zerolinecolor": "#E1E5ED"
        },
        "yaxis": {
         "gridcolor": "#E1E5ED",
         "showgrid": true,
         "tickfont": {
          "color": "#4D5663"
         },
         "title": {
          "font": {
           "color": "#4D5663"
          },
          "text": ""
         },
         "zerolinecolor": "#E1E5ED"
        }
       }
      },
      "text/html": [
       "<div>                            <div id=\"ec2fe468-1eb4-4f68-acf0-c3b8741d2cf8\" class=\"plotly-graph-div\" style=\"height:525px; width:100%;\"></div>            <script type=\"text/javascript\">                require([\"plotly\"], function(Plotly) {                    window.PLOTLYENV=window.PLOTLYENV || {};\n",
       "                    window.PLOTLYENV.BASE_URL='https://plot.ly';                                    if (document.getElementById(\"ec2fe468-1eb4-4f68-acf0-c3b8741d2cf8\")) {                    Plotly.newPlot(                        \"ec2fe468-1eb4-4f68-acf0-c3b8741d2cf8\",                        [{\"boxpoints\": false, \"line\": {\"width\": 1.3}, \"marker\": {\"color\": \"rgba(255, 153, 51, 1.0)\"}, \"name\": \"A\", \"orientation\": \"v\", \"type\": \"box\", \"y\": [1.13798425475934, -1.5511667265037368, -0.49910781628050077, 1.085004351054516, 1.3989590240733099, -0.2911375934861317, -1.5870990872964883, -0.27935482665627126, 0.3605252492517807, -0.2573222198131206, 0.1282283018327493, -0.07523399544764772, -1.209782190524917, 2.0998120955843382, 0.21015410636408016, 0.22039843592118114, -0.2750042028570783, -0.6425752651343553, 0.04922938202933533, -1.151271215568177, -0.42520307577080796, 0.286067143912526, 0.6534378509385754, 0.8055892428102114, 1.6706324275158206, -1.9144292516764323, -0.7130745443719025, 0.7132261507336397, 1.0879917537219244, 1.1428274385647352, 1.1052680624561735, -0.5017274571551676, -0.15486630452781308, -0.8648382795499453, -0.821833223346524, -0.9012730792736585, 0.6915059079700464, 0.9054765379391744, -1.2976938178943378, -2.53565236236453, -0.1468560126376463, 0.7415838145374852, 0.967262105578842, -0.35875049228952205, 0.8406410200429533, -0.03382970251039049, 0.8707112942651388, -1.4962151290981338, -0.07482657180383757, -2.0160590596318197, 0.3736129818346688, 1.6452214643540364, 1.7483148573896086, -1.4782529280436036, -0.1851835324174723, 0.07377001332300753, 0.36261478198089586, 0.8651189780670078, 0.6850474548860096, -0.7604619533012311, 0.6555732095574617, -0.2688445662091309, 2.284918084356147, -0.8340569074513916, 1.6567735333149083, 0.2924799350386549, -0.2735576072888158, 0.0661601600306233, -0.6484239909056564, 0.3878976614822351, -0.7011706453361762, 0.2833166864898419, 0.46257195200648377, 0.5553702337250296, -0.5010959672124472, -0.14217198426981456, 0.030937629523973564, -0.7574771731657584, 0.45118790988184454, 0.8219555020946994, 0.5957135274819632, 0.296850683691185, -0.12687894891679846, 1.6095887390402563, -0.4527220315030091, 0.971845763811533, 0.6888768190349028, 1.190978115499409, 1.553954249377355, -0.12605990653637028, 1.3525180232497602, 0.721154005304942, -1.9836464415088655, -0.7479971966715627, -0.06669017642695914, -0.9289839979546476, 0.4778549545203271, 0.28213164182506856, -1.1155992489230353, 0.4085009469861413]}, {\"boxpoints\": false, \"line\": {\"width\": 1.3}, \"marker\": {\"color\": \"rgba(55, 128, 191, 1.0)\"}, \"name\": \"B\", \"orientation\": \"v\", \"type\": \"box\", \"y\": [0.7323896324227073, -0.3284517281790686, -0.4510768322302432, 1.6259669689281526, 2.2430313429630293, -1.7897441106074743, 0.569351307124913, -0.64587704510535, -0.0028811213343762202, -0.6373272106113808, 1.0727062355724828, -2.952465256493198, 1.287542719369616, -1.9267498062823034, 2.0788433396371806, 0.43073404217299227, 0.26760125628746445, 1.0849032546496722, 1.3952877106807626, -0.6565850044269331, 0.3817056840001886, -0.7412006468853344, -1.1217400025261557, 0.6370813567298341, -0.5641382119507771, 0.4634853466013324, -0.8584405373757337, -0.31182260271644374, 0.3241918385448195, -1.33196541981774, -0.32846040497042905, -1.6413072197342926, 0.7173508042526268, -1.7799489677323204, -1.86186170165096, 0.10832184935546763, -1.0288381651747285, -0.545393753019585, -0.2650696867162592, 0.05143818057526999, 2.4823816265488032, -0.2501683134068812, -0.8065726277144815, 0.5501537595048036, 1.1282774686998163, -1.1732802076261226, -0.46217213437426197, -1.3361758119419371, 2.5199867408681107, 2.9378115385841097, -0.7262093920427323, 0.6618920921980426, -0.8331597086864062, -0.30617972029078255, -0.4785044386864302, -0.4311874108212848, 1.059597532517294, -1.5851754098869444, -0.039793079226337416, 0.9867240234550703, 1.3051413089883257, -0.5936323554912434, -0.7753853225554804, 0.25590786585761166, 1.547462128147694, -1.1023295816945362, -0.6222120723704447, -1.3188982035117294, -0.3093504949433165, -0.6769875209754437, -1.2333911783155913, -0.25666166671048446, -0.16532592175370936, -1.5355312465996227, -0.044051680488167134, -2.1457695866393056, 0.9910173713062925, -1.1693051260643423, 0.5160990345223325, 0.3034532039457703, 0.6409653165213176, 0.9651791752395708, -2.2583982537236387, 0.9926410629675069, 1.3397259187632276, 0.3781172112555631, 1.5690672504187282, -0.03013161830784265, 0.010106847671662566, 0.33347285351095557, 0.9112980654586149, 0.14301371449262146, -0.30880549994744216, -2.0760184562581383, -0.7149080366700209, -0.0918574051416281, 1.7923015769941466, -0.2022523157306176, 0.04800165228427791, 2.778983884871559]}, {\"boxpoints\": false, \"line\": {\"width\": 1.3}, \"marker\": {\"color\": \"rgba(50, 171, 96, 1.0)\"}, \"name\": \"C\", \"orientation\": \"v\", \"type\": \"box\", \"y\": [0.9222841373662842, -1.6804994666692668, 0.3597681214930154, 0.6946653457572813, -2.0228248476213033, -1.0666487463970504, 0.3918601175968837, -1.0282306181688932, 0.5043984366695315, -0.07651377152407639, -1.1623285544689614, 0.9276143123506188, -1.090707015726742, -0.0931033450196046, 0.4494439386635046, 1.3714070313913298, -0.006318827300825494, 1.5334398479509452, 0.1612247171096429, -0.8019535864381443, -0.4881139574035609, -3.200042310179826, -0.03973690325032663, 0.1469945458180234, -0.3114419421366963, 0.20610076222518958, -0.5087114064580988, 0.5334918748187668, 0.2300146757080329, 2.0670623682633136, 0.8122964573456442, -0.5035504536337416, 2.0609413304506967, -0.08935908323816356, 1.5025156623202247, -1.2553037135233935, -0.5319221271715704, -1.0637936723981234, 0.06723297017675449, 0.5364541059211533, 1.2525873959994334, 1.6662869339320394, -1.427116342119559, 1.0194420299278972, 0.306989560029641, -0.5196358641816051, -0.30377574299331916, 0.27850589876295145, -0.7607399517383897, -0.5702097644362375, 0.3794360312670967, 0.2849820599649263, -1.0247331757452582, -0.19712726346279044, -0.08737784294508043, 0.7237044359826967, 1.609588255758794, 0.20354667439932378, -0.891918707340523, -0.3995257015270211, -0.4659778200620951, 0.08922465615535513, 1.130825856287499, -0.20675754509165864, 1.3781811671034254, 0.3026670169557407, 1.0362145555068512, -0.028708808313712846, 0.5897544927483535, -2.611862914600978, 0.7859570095002909, -0.946454230866487, -0.40844451644157775, -1.1878447427647347, -0.8757213429417575, 0.18141390708277777, -1.1925725795000022, -1.0830257229794367, -0.5691774720845683, 1.2774508206588515, -0.45305354859705826, -1.0095700521188944, -0.6510699768671271, -0.10339800580912871, -0.3877013120159667, -1.3619512413525672, -1.1424960904648973, -1.0095360276547143, 0.07749438904283287, -0.6663397998664455, -0.9043270074967882, -0.874141472868618, -0.9056454426723413, 0.44926413048963243, 0.15125183254240057, -0.11461729288434383, 2.0234431862789983, 0.13000998885060866, -0.6430570001159673, -0.021010091840642033]}, {\"boxpoints\": false, \"line\": {\"width\": 1.3}, \"marker\": {\"color\": \"rgba(128, 0, 128, 1.0)\"}, \"name\": \"D\", \"orientation\": \"v\", \"type\": \"box\", \"y\": [-0.49276694005153754, -1.5986208578767598, 0.7491265136981557, 1.312156108991257, 0.08453779531317554, -0.2187343733372969, -0.8379765304819816, -0.0511028279959056, -0.017316963261710693, -1.0118519948123361, -0.16370932061274415, 0.6458615260403444, -0.2244178728724846, -1.520217744365132, 1.4283129738497007, 0.25468222071115176, -0.38140155346182825, 1.380638721998429, 1.4520895824746396, -1.5319514701306376, -1.8828405990802903, 0.9929435493683337, 0.0926308022668882, 0.8749211070050118, 0.6223522233213582, -2.4089503300794064, -0.19754282713332516, -1.6476161906707616, 1.6401794144989228, -0.6369476207431659, 0.6974161394541564, -0.40020788591131307, 0.9950022712269592, -0.44466503658659795, 0.12599943253474874, -0.3707222092344457, 1.9828291878087414, -0.658017774044128, -2.4079520031370234, 0.038133392728422366, 0.8472151165833635, 0.5134263518989487, 1.3526642802214088, -1.5860897426341527, 1.6778139827116016, 0.7640590919587001, 0.7771332307041993, 1.3528508384931222, 0.9513228631476397, 2.0711099176175964, -2.5368404843510173, -1.3415192299160754, -2.2198664797204213, 0.26407355848848957, -0.9228894243282747, 0.3903893166092727, 0.690495614429746, 2.6294349664221834, -1.0018758618494499, -0.7746264225990829, 1.252967895470081, -0.5800015937270759, 1.774442695877346, 0.3006623955637737, -0.953781350527465, 0.9737779320934462, 1.8204930669143398, -0.17997660188272743, 1.313904319436769, -0.48039991105997254, 1.4591836201587236, -0.3646044945007691, -2.54730458507353, 0.5034575972987234, -0.43940367807704345, 0.21268562440517289, -1.3296483365012357, -0.31877779222053276, 1.1951688280637907, 1.5350471427808494, -0.07323618940973585, -1.1269942514030862, -0.4247276176477819, -0.9398456127581629, 1.5369043842816101, -1.1870014693064666, 1.4656538962054477, -0.565741535969565, -0.830059860318411, -0.289447855374188, -2.862452201994092, 0.8855172927520567, 0.7333716746271585, 0.6787725431545305, 0.3976557546382951, 0.9596678020387314, 0.7017388368109589, -0.7112984882624002, 0.137061290177784, 1.108603717615353]}],                        {\"legend\": {\"bgcolor\": \"#F5F6F9\", \"font\": {\"color\": \"#4D5663\"}}, \"paper_bgcolor\": \"#F5F6F9\", \"plot_bgcolor\": \"#F5F6F9\", \"template\": {\"data\": {\"bar\": [{\"error_x\": {\"color\": \"#2a3f5f\"}, \"error_y\": {\"color\": \"#2a3f5f\"}, \"marker\": {\"line\": {\"color\": \"#E5ECF6\", \"width\": 0.5}}, \"type\": \"bar\"}], \"barpolar\": [{\"marker\": {\"line\": {\"color\": \"#E5ECF6\", \"width\": 0.5}}, \"type\": \"barpolar\"}], \"carpet\": [{\"aaxis\": {\"endlinecolor\": \"#2a3f5f\", \"gridcolor\": \"white\", \"linecolor\": \"white\", \"minorgridcolor\": \"white\", \"startlinecolor\": \"#2a3f5f\"}, \"baxis\": {\"endlinecolor\": \"#2a3f5f\", \"gridcolor\": \"white\", \"linecolor\": \"white\", \"minorgridcolor\": \"white\", \"startlinecolor\": \"#2a3f5f\"}, \"type\": \"carpet\"}], \"choropleth\": [{\"colorbar\": {\"outlinewidth\": 0, \"ticks\": \"\"}, \"type\": \"choropleth\"}], \"contour\": [{\"colorbar\": {\"outlinewidth\": 0, \"ticks\": \"\"}, \"colorscale\": [[0.0, \"#0d0887\"], [0.1111111111111111, \"#46039f\"], [0.2222222222222222, \"#7201a8\"], [0.3333333333333333, \"#9c179e\"], [0.4444444444444444, \"#bd3786\"], [0.5555555555555556, \"#d8576b\"], [0.6666666666666666, \"#ed7953\"], [0.7777777777777778, \"#fb9f3a\"], [0.8888888888888888, \"#fdca26\"], [1.0, \"#f0f921\"]], \"type\": \"contour\"}], \"contourcarpet\": [{\"colorbar\": {\"outlinewidth\": 0, \"ticks\": \"\"}, \"type\": \"contourcarpet\"}], \"heatmap\": [{\"colorbar\": {\"outlinewidth\": 0, \"ticks\": \"\"}, \"colorscale\": [[0.0, \"#0d0887\"], [0.1111111111111111, \"#46039f\"], [0.2222222222222222, \"#7201a8\"], [0.3333333333333333, \"#9c179e\"], [0.4444444444444444, \"#bd3786\"], [0.5555555555555556, \"#d8576b\"], [0.6666666666666666, \"#ed7953\"], [0.7777777777777778, \"#fb9f3a\"], [0.8888888888888888, \"#fdca26\"], [1.0, \"#f0f921\"]], \"type\": \"heatmap\"}], \"heatmapgl\": [{\"colorbar\": {\"outlinewidth\": 0, \"ticks\": \"\"}, \"colorscale\": [[0.0, \"#0d0887\"], [0.1111111111111111, \"#46039f\"], [0.2222222222222222, \"#7201a8\"], [0.3333333333333333, \"#9c179e\"], [0.4444444444444444, \"#bd3786\"], [0.5555555555555556, \"#d8576b\"], [0.6666666666666666, \"#ed7953\"], [0.7777777777777778, \"#fb9f3a\"], [0.8888888888888888, \"#fdca26\"], [1.0, \"#f0f921\"]], \"type\": \"heatmapgl\"}], \"histogram\": [{\"marker\": {\"colorbar\": {\"outlinewidth\": 0, \"ticks\": \"\"}}, \"type\": \"histogram\"}], \"histogram2d\": [{\"colorbar\": {\"outlinewidth\": 0, \"ticks\": \"\"}, \"colorscale\": [[0.0, \"#0d0887\"], [0.1111111111111111, \"#46039f\"], [0.2222222222222222, \"#7201a8\"], [0.3333333333333333, \"#9c179e\"], [0.4444444444444444, \"#bd3786\"], [0.5555555555555556, \"#d8576b\"], [0.6666666666666666, \"#ed7953\"], [0.7777777777777778, \"#fb9f3a\"], [0.8888888888888888, \"#fdca26\"], [1.0, \"#f0f921\"]], \"type\": \"histogram2d\"}], \"histogram2dcontour\": [{\"colorbar\": {\"outlinewidth\": 0, \"ticks\": \"\"}, \"colorscale\": [[0.0, \"#0d0887\"], [0.1111111111111111, \"#46039f\"], [0.2222222222222222, \"#7201a8\"], [0.3333333333333333, \"#9c179e\"], [0.4444444444444444, \"#bd3786\"], [0.5555555555555556, \"#d8576b\"], [0.6666666666666666, \"#ed7953\"], [0.7777777777777778, \"#fb9f3a\"], [0.8888888888888888, \"#fdca26\"], [1.0, \"#f0f921\"]], \"type\": \"histogram2dcontour\"}], \"mesh3d\": [{\"colorbar\": {\"outlinewidth\": 0, \"ticks\": \"\"}, \"type\": \"mesh3d\"}], \"parcoords\": [{\"line\": {\"colorbar\": {\"outlinewidth\": 0, \"ticks\": \"\"}}, \"type\": \"parcoords\"}], \"pie\": [{\"automargin\": true, \"type\": \"pie\"}], \"scatter\": [{\"marker\": {\"colorbar\": {\"outlinewidth\": 0, \"ticks\": \"\"}}, \"type\": \"scatter\"}], \"scatter3d\": [{\"line\": {\"colorbar\": {\"outlinewidth\": 0, \"ticks\": \"\"}}, \"marker\": {\"colorbar\": {\"outlinewidth\": 0, \"ticks\": \"\"}}, \"type\": \"scatter3d\"}], \"scattercarpet\": [{\"marker\": {\"colorbar\": {\"outlinewidth\": 0, \"ticks\": \"\"}}, \"type\": \"scattercarpet\"}], \"scattergeo\": [{\"marker\": {\"colorbar\": {\"outlinewidth\": 0, \"ticks\": \"\"}}, \"type\": \"scattergeo\"}], \"scattergl\": [{\"marker\": {\"colorbar\": {\"outlinewidth\": 0, \"ticks\": \"\"}}, \"type\": \"scattergl\"}], \"scattermapbox\": [{\"marker\": {\"colorbar\": {\"outlinewidth\": 0, \"ticks\": \"\"}}, \"type\": \"scattermapbox\"}], \"scatterpolar\": [{\"marker\": {\"colorbar\": {\"outlinewidth\": 0, \"ticks\": \"\"}}, \"type\": \"scatterpolar\"}], \"scatterpolargl\": [{\"marker\": {\"colorbar\": {\"outlinewidth\": 0, \"ticks\": \"\"}}, \"type\": \"scatterpolargl\"}], \"scatterternary\": [{\"marker\": {\"colorbar\": {\"outlinewidth\": 0, \"ticks\": \"\"}}, \"type\": \"scatterternary\"}], \"surface\": [{\"colorbar\": {\"outlinewidth\": 0, \"ticks\": \"\"}, \"colorscale\": [[0.0, \"#0d0887\"], [0.1111111111111111, \"#46039f\"], [0.2222222222222222, \"#7201a8\"], [0.3333333333333333, \"#9c179e\"], [0.4444444444444444, \"#bd3786\"], [0.5555555555555556, \"#d8576b\"], [0.6666666666666666, \"#ed7953\"], [0.7777777777777778, \"#fb9f3a\"], [0.8888888888888888, \"#fdca26\"], [1.0, \"#f0f921\"]], \"type\": \"surface\"}], \"table\": [{\"cells\": {\"fill\": {\"color\": \"#EBF0F8\"}, \"line\": {\"color\": \"white\"}}, \"header\": {\"fill\": {\"color\": \"#C8D4E3\"}, \"line\": {\"color\": \"white\"}}, \"type\": \"table\"}]}, \"layout\": {\"annotationdefaults\": {\"arrowcolor\": \"#2a3f5f\", \"arrowhead\": 0, \"arrowwidth\": 1}, \"autotypenumbers\": \"strict\", \"coloraxis\": {\"colorbar\": {\"outlinewidth\": 0, \"ticks\": \"\"}}, \"colorscale\": {\"diverging\": [[0, \"#8e0152\"], [0.1, \"#c51b7d\"], [0.2, \"#de77ae\"], [0.3, \"#f1b6da\"], [0.4, \"#fde0ef\"], [0.5, \"#f7f7f7\"], [0.6, \"#e6f5d0\"], [0.7, \"#b8e186\"], [0.8, \"#7fbc41\"], [0.9, \"#4d9221\"], [1, \"#276419\"]], \"sequential\": [[0.0, \"#0d0887\"], [0.1111111111111111, \"#46039f\"], [0.2222222222222222, \"#7201a8\"], [0.3333333333333333, \"#9c179e\"], [0.4444444444444444, \"#bd3786\"], [0.5555555555555556, \"#d8576b\"], [0.6666666666666666, \"#ed7953\"], [0.7777777777777778, \"#fb9f3a\"], [0.8888888888888888, \"#fdca26\"], [1.0, \"#f0f921\"]], \"sequentialminus\": [[0.0, \"#0d0887\"], [0.1111111111111111, \"#46039f\"], [0.2222222222222222, \"#7201a8\"], [0.3333333333333333, \"#9c179e\"], [0.4444444444444444, \"#bd3786\"], [0.5555555555555556, \"#d8576b\"], [0.6666666666666666, \"#ed7953\"], [0.7777777777777778, \"#fb9f3a\"], [0.8888888888888888, \"#fdca26\"], [1.0, \"#f0f921\"]]}, \"colorway\": [\"#636efa\", \"#EF553B\", \"#00cc96\", \"#ab63fa\", \"#FFA15A\", \"#19d3f3\", \"#FF6692\", \"#B6E880\", \"#FF97FF\", \"#FECB52\"], \"font\": {\"color\": \"#2a3f5f\"}, \"geo\": {\"bgcolor\": \"white\", \"lakecolor\": \"white\", \"landcolor\": \"#E5ECF6\", \"showlakes\": true, \"showland\": true, \"subunitcolor\": \"white\"}, \"hoverlabel\": {\"align\": \"left\"}, \"hovermode\": \"closest\", \"mapbox\": {\"style\": \"light\"}, \"paper_bgcolor\": \"white\", \"plot_bgcolor\": \"#E5ECF6\", \"polar\": {\"angularaxis\": {\"gridcolor\": \"white\", \"linecolor\": \"white\", \"ticks\": \"\"}, \"bgcolor\": \"#E5ECF6\", \"radialaxis\": {\"gridcolor\": \"white\", \"linecolor\": \"white\", \"ticks\": \"\"}}, \"scene\": {\"xaxis\": {\"backgroundcolor\": \"#E5ECF6\", \"gridcolor\": \"white\", \"gridwidth\": 2, \"linecolor\": \"white\", \"showbackground\": true, \"ticks\": \"\", \"zerolinecolor\": \"white\"}, \"yaxis\": {\"backgroundcolor\": \"#E5ECF6\", \"gridcolor\": \"white\", \"gridwidth\": 2, \"linecolor\": \"white\", \"showbackground\": true, \"ticks\": \"\", \"zerolinecolor\": \"white\"}, \"zaxis\": {\"backgroundcolor\": \"#E5ECF6\", \"gridcolor\": \"white\", \"gridwidth\": 2, \"linecolor\": \"white\", \"showbackground\": true, \"ticks\": \"\", \"zerolinecolor\": \"white\"}}, \"shapedefaults\": {\"line\": {\"color\": \"#2a3f5f\"}}, \"ternary\": {\"aaxis\": {\"gridcolor\": \"white\", \"linecolor\": \"white\", \"ticks\": \"\"}, \"baxis\": {\"gridcolor\": \"white\", \"linecolor\": \"white\", \"ticks\": \"\"}, \"bgcolor\": \"#E5ECF6\", \"caxis\": {\"gridcolor\": \"white\", \"linecolor\": \"white\", \"ticks\": \"\"}}, \"title\": {\"x\": 0.05}, \"xaxis\": {\"automargin\": true, \"gridcolor\": \"white\", \"linecolor\": \"white\", \"ticks\": \"\", \"title\": {\"standoff\": 15}, \"zerolinecolor\": \"white\", \"zerolinewidth\": 2}, \"yaxis\": {\"automargin\": true, \"gridcolor\": \"white\", \"linecolor\": \"white\", \"ticks\": \"\", \"title\": {\"standoff\": 15}, \"zerolinecolor\": \"white\", \"zerolinewidth\": 2}}}, \"title\": {\"font\": {\"color\": \"#4D5663\"}}, \"xaxis\": {\"gridcolor\": \"#E1E5ED\", \"showgrid\": true, \"tickfont\": {\"color\": \"#4D5663\"}, \"title\": {\"font\": {\"color\": \"#4D5663\"}, \"text\": \"\"}, \"zerolinecolor\": \"#E1E5ED\"}, \"yaxis\": {\"gridcolor\": \"#E1E5ED\", \"showgrid\": true, \"tickfont\": {\"color\": \"#4D5663\"}, \"title\": {\"font\": {\"color\": \"#4D5663\"}, \"text\": \"\"}, \"zerolinecolor\": \"#E1E5ED\"}},                        {\"showLink\": true, \"linkText\": \"Export to plot.ly\", \"plotlyServerURL\": \"https://plot.ly\", \"responsive\": true}                    ).then(function(){\n",
       "                            \n",
       "var gd = document.getElementById('ec2fe468-1eb4-4f68-acf0-c3b8741d2cf8');\n",
       "var x = new MutationObserver(function (mutations, observer) {{\n",
       "        var display = window.getComputedStyle(gd).display;\n",
       "        if (!display || display === 'none') {{\n",
       "            console.log([gd, 'removed!']);\n",
       "            Plotly.purge(gd);\n",
       "            observer.disconnect();\n",
       "        }}\n",
       "}});\n",
       "\n",
       "// Listen for the removal of the full notebook cells\n",
       "var notebookContainer = gd.closest('#notebook-container');\n",
       "if (notebookContainer) {{\n",
       "    x.observe(notebookContainer, {childList: true});\n",
       "}}\n",
       "\n",
       "// Listen for the clearing of the current output cell\n",
       "var outputEl = gd.closest('.output');\n",
       "if (outputEl) {{\n",
       "    x.observe(outputEl, {childList: true});\n",
       "}}\n",
       "\n",
       "                        })                };                });            </script>        </div>"
      ]
     },
     "metadata": {},
     "output_type": "display_data"
    }
   ],
   "source": [
    "df.iplot(kind=\"box\")"
   ]
  },
  {
   "cell_type": "markdown",
   "id": "90ea1779",
   "metadata": {},
   "source": [
    "### 3d Surface"
   ]
  },
  {
   "cell_type": "code",
   "execution_count": 12,
   "id": "fe9f5e8a",
   "metadata": {},
   "outputs": [
    {
     "data": {
      "application/vnd.plotly.v1+json": {
       "config": {
        "linkText": "Export to plot.ly",
        "plotlyServerURL": "https://plot.ly",
        "showLink": true
       },
       "data": [
        {
         "colorscale": [
          [
           0,
           "rgb(165,0,38)"
          ],
          [
           0.1,
           "rgb(215,48,39)"
          ],
          [
           0.2,
           "rgb(244,109,67)"
          ],
          [
           0.3,
           "rgb(253,174,97)"
          ],
          [
           0.4,
           "rgb(254,224,144)"
          ],
          [
           0.5,
           "rgb(255,255,191)"
          ],
          [
           0.6,
           "rgb(224,243,248)"
          ],
          [
           0.7,
           "rgb(171,217,233)"
          ],
          [
           0.8,
           "rgb(116,173,209)"
          ],
          [
           0.9,
           "rgb(69,117,180)"
          ],
          [
           1,
           "rgb(49,54,149)"
          ]
         ],
         "type": "surface",
         "x": [
          0,
          1,
          2,
          3,
          4
         ],
         "y": [
          "x",
          "y",
          "z"
         ],
         "z": [
          [
           1,
           2,
           3,
           4,
           5
          ],
          [
           10,
           20,
           30,
           20,
           10
          ],
          [
           5,
           4,
           3,
           2,
           1
          ]
         ]
        }
       ],
       "layout": {
        "legend": {
         "bgcolor": "#F5F6F9",
         "font": {
          "color": "#4D5663"
         }
        },
        "paper_bgcolor": "#F5F6F9",
        "plot_bgcolor": "#F5F6F9",
        "template": {
         "data": {
          "bar": [
           {
            "error_x": {
             "color": "#2a3f5f"
            },
            "error_y": {
             "color": "#2a3f5f"
            },
            "marker": {
             "line": {
              "color": "#E5ECF6",
              "width": 0.5
             }
            },
            "type": "bar"
           }
          ],
          "barpolar": [
           {
            "marker": {
             "line": {
              "color": "#E5ECF6",
              "width": 0.5
             }
            },
            "type": "barpolar"
           }
          ],
          "carpet": [
           {
            "aaxis": {
             "endlinecolor": "#2a3f5f",
             "gridcolor": "white",
             "linecolor": "white",
             "minorgridcolor": "white",
             "startlinecolor": "#2a3f5f"
            },
            "baxis": {
             "endlinecolor": "#2a3f5f",
             "gridcolor": "white",
             "linecolor": "white",
             "minorgridcolor": "white",
             "startlinecolor": "#2a3f5f"
            },
            "type": "carpet"
           }
          ],
          "choropleth": [
           {
            "colorbar": {
             "outlinewidth": 0,
             "ticks": ""
            },
            "type": "choropleth"
           }
          ],
          "contour": [
           {
            "colorbar": {
             "outlinewidth": 0,
             "ticks": ""
            },
            "colorscale": [
             [
              0,
              "#0d0887"
             ],
             [
              0.1111111111111111,
              "#46039f"
             ],
             [
              0.2222222222222222,
              "#7201a8"
             ],
             [
              0.3333333333333333,
              "#9c179e"
             ],
             [
              0.4444444444444444,
              "#bd3786"
             ],
             [
              0.5555555555555556,
              "#d8576b"
             ],
             [
              0.6666666666666666,
              "#ed7953"
             ],
             [
              0.7777777777777778,
              "#fb9f3a"
             ],
             [
              0.8888888888888888,
              "#fdca26"
             ],
             [
              1,
              "#f0f921"
             ]
            ],
            "type": "contour"
           }
          ],
          "contourcarpet": [
           {
            "colorbar": {
             "outlinewidth": 0,
             "ticks": ""
            },
            "type": "contourcarpet"
           }
          ],
          "heatmap": [
           {
            "colorbar": {
             "outlinewidth": 0,
             "ticks": ""
            },
            "colorscale": [
             [
              0,
              "#0d0887"
             ],
             [
              0.1111111111111111,
              "#46039f"
             ],
             [
              0.2222222222222222,
              "#7201a8"
             ],
             [
              0.3333333333333333,
              "#9c179e"
             ],
             [
              0.4444444444444444,
              "#bd3786"
             ],
             [
              0.5555555555555556,
              "#d8576b"
             ],
             [
              0.6666666666666666,
              "#ed7953"
             ],
             [
              0.7777777777777778,
              "#fb9f3a"
             ],
             [
              0.8888888888888888,
              "#fdca26"
             ],
             [
              1,
              "#f0f921"
             ]
            ],
            "type": "heatmap"
           }
          ],
          "heatmapgl": [
           {
            "colorbar": {
             "outlinewidth": 0,
             "ticks": ""
            },
            "colorscale": [
             [
              0,
              "#0d0887"
             ],
             [
              0.1111111111111111,
              "#46039f"
             ],
             [
              0.2222222222222222,
              "#7201a8"
             ],
             [
              0.3333333333333333,
              "#9c179e"
             ],
             [
              0.4444444444444444,
              "#bd3786"
             ],
             [
              0.5555555555555556,
              "#d8576b"
             ],
             [
              0.6666666666666666,
              "#ed7953"
             ],
             [
              0.7777777777777778,
              "#fb9f3a"
             ],
             [
              0.8888888888888888,
              "#fdca26"
             ],
             [
              1,
              "#f0f921"
             ]
            ],
            "type": "heatmapgl"
           }
          ],
          "histogram": [
           {
            "marker": {
             "colorbar": {
              "outlinewidth": 0,
              "ticks": ""
             }
            },
            "type": "histogram"
           }
          ],
          "histogram2d": [
           {
            "colorbar": {
             "outlinewidth": 0,
             "ticks": ""
            },
            "colorscale": [
             [
              0,
              "#0d0887"
             ],
             [
              0.1111111111111111,
              "#46039f"
             ],
             [
              0.2222222222222222,
              "#7201a8"
             ],
             [
              0.3333333333333333,
              "#9c179e"
             ],
             [
              0.4444444444444444,
              "#bd3786"
             ],
             [
              0.5555555555555556,
              "#d8576b"
             ],
             [
              0.6666666666666666,
              "#ed7953"
             ],
             [
              0.7777777777777778,
              "#fb9f3a"
             ],
             [
              0.8888888888888888,
              "#fdca26"
             ],
             [
              1,
              "#f0f921"
             ]
            ],
            "type": "histogram2d"
           }
          ],
          "histogram2dcontour": [
           {
            "colorbar": {
             "outlinewidth": 0,
             "ticks": ""
            },
            "colorscale": [
             [
              0,
              "#0d0887"
             ],
             [
              0.1111111111111111,
              "#46039f"
             ],
             [
              0.2222222222222222,
              "#7201a8"
             ],
             [
              0.3333333333333333,
              "#9c179e"
             ],
             [
              0.4444444444444444,
              "#bd3786"
             ],
             [
              0.5555555555555556,
              "#d8576b"
             ],
             [
              0.6666666666666666,
              "#ed7953"
             ],
             [
              0.7777777777777778,
              "#fb9f3a"
             ],
             [
              0.8888888888888888,
              "#fdca26"
             ],
             [
              1,
              "#f0f921"
             ]
            ],
            "type": "histogram2dcontour"
           }
          ],
          "mesh3d": [
           {
            "colorbar": {
             "outlinewidth": 0,
             "ticks": ""
            },
            "type": "mesh3d"
           }
          ],
          "parcoords": [
           {
            "line": {
             "colorbar": {
              "outlinewidth": 0,
              "ticks": ""
             }
            },
            "type": "parcoords"
           }
          ],
          "pie": [
           {
            "automargin": true,
            "type": "pie"
           }
          ],
          "scatter": [
           {
            "marker": {
             "colorbar": {
              "outlinewidth": 0,
              "ticks": ""
             }
            },
            "type": "scatter"
           }
          ],
          "scatter3d": [
           {
            "line": {
             "colorbar": {
              "outlinewidth": 0,
              "ticks": ""
             }
            },
            "marker": {
             "colorbar": {
              "outlinewidth": 0,
              "ticks": ""
             }
            },
            "type": "scatter3d"
           }
          ],
          "scattercarpet": [
           {
            "marker": {
             "colorbar": {
              "outlinewidth": 0,
              "ticks": ""
             }
            },
            "type": "scattercarpet"
           }
          ],
          "scattergeo": [
           {
            "marker": {
             "colorbar": {
              "outlinewidth": 0,
              "ticks": ""
             }
            },
            "type": "scattergeo"
           }
          ],
          "scattergl": [
           {
            "marker": {
             "colorbar": {
              "outlinewidth": 0,
              "ticks": ""
             }
            },
            "type": "scattergl"
           }
          ],
          "scattermapbox": [
           {
            "marker": {
             "colorbar": {
              "outlinewidth": 0,
              "ticks": ""
             }
            },
            "type": "scattermapbox"
           }
          ],
          "scatterpolar": [
           {
            "marker": {
             "colorbar": {
              "outlinewidth": 0,
              "ticks": ""
             }
            },
            "type": "scatterpolar"
           }
          ],
          "scatterpolargl": [
           {
            "marker": {
             "colorbar": {
              "outlinewidth": 0,
              "ticks": ""
             }
            },
            "type": "scatterpolargl"
           }
          ],
          "scatterternary": [
           {
            "marker": {
             "colorbar": {
              "outlinewidth": 0,
              "ticks": ""
             }
            },
            "type": "scatterternary"
           }
          ],
          "surface": [
           {
            "colorbar": {
             "outlinewidth": 0,
             "ticks": ""
            },
            "colorscale": [
             [
              0,
              "#0d0887"
             ],
             [
              0.1111111111111111,
              "#46039f"
             ],
             [
              0.2222222222222222,
              "#7201a8"
             ],
             [
              0.3333333333333333,
              "#9c179e"
             ],
             [
              0.4444444444444444,
              "#bd3786"
             ],
             [
              0.5555555555555556,
              "#d8576b"
             ],
             [
              0.6666666666666666,
              "#ed7953"
             ],
             [
              0.7777777777777778,
              "#fb9f3a"
             ],
             [
              0.8888888888888888,
              "#fdca26"
             ],
             [
              1,
              "#f0f921"
             ]
            ],
            "type": "surface"
           }
          ],
          "table": [
           {
            "cells": {
             "fill": {
              "color": "#EBF0F8"
             },
             "line": {
              "color": "white"
             }
            },
            "header": {
             "fill": {
              "color": "#C8D4E3"
             },
             "line": {
              "color": "white"
             }
            },
            "type": "table"
           }
          ]
         },
         "layout": {
          "annotationdefaults": {
           "arrowcolor": "#2a3f5f",
           "arrowhead": 0,
           "arrowwidth": 1
          },
          "autotypenumbers": "strict",
          "coloraxis": {
           "colorbar": {
            "outlinewidth": 0,
            "ticks": ""
           }
          },
          "colorscale": {
           "diverging": [
            [
             0,
             "#8e0152"
            ],
            [
             0.1,
             "#c51b7d"
            ],
            [
             0.2,
             "#de77ae"
            ],
            [
             0.3,
             "#f1b6da"
            ],
            [
             0.4,
             "#fde0ef"
            ],
            [
             0.5,
             "#f7f7f7"
            ],
            [
             0.6,
             "#e6f5d0"
            ],
            [
             0.7,
             "#b8e186"
            ],
            [
             0.8,
             "#7fbc41"
            ],
            [
             0.9,
             "#4d9221"
            ],
            [
             1,
             "#276419"
            ]
           ],
           "sequential": [
            [
             0,
             "#0d0887"
            ],
            [
             0.1111111111111111,
             "#46039f"
            ],
            [
             0.2222222222222222,
             "#7201a8"
            ],
            [
             0.3333333333333333,
             "#9c179e"
            ],
            [
             0.4444444444444444,
             "#bd3786"
            ],
            [
             0.5555555555555556,
             "#d8576b"
            ],
            [
             0.6666666666666666,
             "#ed7953"
            ],
            [
             0.7777777777777778,
             "#fb9f3a"
            ],
            [
             0.8888888888888888,
             "#fdca26"
            ],
            [
             1,
             "#f0f921"
            ]
           ],
           "sequentialminus": [
            [
             0,
             "#0d0887"
            ],
            [
             0.1111111111111111,
             "#46039f"
            ],
            [
             0.2222222222222222,
             "#7201a8"
            ],
            [
             0.3333333333333333,
             "#9c179e"
            ],
            [
             0.4444444444444444,
             "#bd3786"
            ],
            [
             0.5555555555555556,
             "#d8576b"
            ],
            [
             0.6666666666666666,
             "#ed7953"
            ],
            [
             0.7777777777777778,
             "#fb9f3a"
            ],
            [
             0.8888888888888888,
             "#fdca26"
            ],
            [
             1,
             "#f0f921"
            ]
           ]
          },
          "colorway": [
           "#636efa",
           "#EF553B",
           "#00cc96",
           "#ab63fa",
           "#FFA15A",
           "#19d3f3",
           "#FF6692",
           "#B6E880",
           "#FF97FF",
           "#FECB52"
          ],
          "font": {
           "color": "#2a3f5f"
          },
          "geo": {
           "bgcolor": "white",
           "lakecolor": "white",
           "landcolor": "#E5ECF6",
           "showlakes": true,
           "showland": true,
           "subunitcolor": "white"
          },
          "hoverlabel": {
           "align": "left"
          },
          "hovermode": "closest",
          "mapbox": {
           "style": "light"
          },
          "paper_bgcolor": "white",
          "plot_bgcolor": "#E5ECF6",
          "polar": {
           "angularaxis": {
            "gridcolor": "white",
            "linecolor": "white",
            "ticks": ""
           },
           "bgcolor": "#E5ECF6",
           "radialaxis": {
            "gridcolor": "white",
            "linecolor": "white",
            "ticks": ""
           }
          },
          "scene": {
           "xaxis": {
            "backgroundcolor": "#E5ECF6",
            "gridcolor": "white",
            "gridwidth": 2,
            "linecolor": "white",
            "showbackground": true,
            "ticks": "",
            "zerolinecolor": "white"
           },
           "yaxis": {
            "backgroundcolor": "#E5ECF6",
            "gridcolor": "white",
            "gridwidth": 2,
            "linecolor": "white",
            "showbackground": true,
            "ticks": "",
            "zerolinecolor": "white"
           },
           "zaxis": {
            "backgroundcolor": "#E5ECF6",
            "gridcolor": "white",
            "gridwidth": 2,
            "linecolor": "white",
            "showbackground": true,
            "ticks": "",
            "zerolinecolor": "white"
           }
          },
          "shapedefaults": {
           "line": {
            "color": "#2a3f5f"
           }
          },
          "ternary": {
           "aaxis": {
            "gridcolor": "white",
            "linecolor": "white",
            "ticks": ""
           },
           "baxis": {
            "gridcolor": "white",
            "linecolor": "white",
            "ticks": ""
           },
           "bgcolor": "#E5ECF6",
           "caxis": {
            "gridcolor": "white",
            "linecolor": "white",
            "ticks": ""
           }
          },
          "title": {
           "x": 0.05
          },
          "xaxis": {
           "automargin": true,
           "gridcolor": "white",
           "linecolor": "white",
           "ticks": "",
           "title": {
            "standoff": 15
           },
           "zerolinecolor": "white",
           "zerolinewidth": 2
          },
          "yaxis": {
           "automargin": true,
           "gridcolor": "white",
           "linecolor": "white",
           "ticks": "",
           "title": {
            "standoff": 15
           },
           "zerolinecolor": "white",
           "zerolinewidth": 2
          }
         }
        },
        "title": {
         "font": {
          "color": "#4D5663"
         }
        },
        "xaxis": {
         "gridcolor": "#E1E5ED",
         "showgrid": true,
         "tickfont": {
          "color": "#4D5663"
         },
         "title": {
          "font": {
           "color": "#4D5663"
          },
          "text": ""
         },
         "zerolinecolor": "#E1E5ED"
        },
        "yaxis": {
         "gridcolor": "#E1E5ED",
         "showgrid": true,
         "tickfont": {
          "color": "#4D5663"
         },
         "title": {
          "font": {
           "color": "#4D5663"
          },
          "text": ""
         },
         "zerolinecolor": "#E1E5ED"
        }
       }
      },
      "text/html": [
       "<div>                            <div id=\"7455f325-dc8e-4df6-980b-b70fa83cee64\" class=\"plotly-graph-div\" style=\"height:525px; width:100%;\"></div>            <script type=\"text/javascript\">                require([\"plotly\"], function(Plotly) {                    window.PLOTLYENV=window.PLOTLYENV || {};\n",
       "                    window.PLOTLYENV.BASE_URL='https://plot.ly';                                    if (document.getElementById(\"7455f325-dc8e-4df6-980b-b70fa83cee64\")) {                    Plotly.newPlot(                        \"7455f325-dc8e-4df6-980b-b70fa83cee64\",                        [{\"colorscale\": [[0.0, \"rgb(165,0,38)\"], [0.1, \"rgb(215,48,39)\"], [0.2, \"rgb(244,109,67)\"], [0.3, \"rgb(253,174,97)\"], [0.4, \"rgb(254,224,144)\"], [0.5, \"rgb(255,255,191)\"], [0.6, \"rgb(224,243,248)\"], [0.7, \"rgb(171,217,233)\"], [0.8, \"rgb(116,173,209)\"], [0.9, \"rgb(69,117,180)\"], [1.0, \"rgb(49,54,149)\"]], \"type\": \"surface\", \"x\": [0, 1, 2, 3, 4], \"y\": [\"x\", \"y\", \"z\"], \"z\": [[1, 2, 3, 4, 5], [10, 20, 30, 20, 10], [5, 4, 3, 2, 1]]}],                        {\"legend\": {\"bgcolor\": \"#F5F6F9\", \"font\": {\"color\": \"#4D5663\"}}, \"paper_bgcolor\": \"#F5F6F9\", \"plot_bgcolor\": \"#F5F6F9\", \"template\": {\"data\": {\"bar\": [{\"error_x\": {\"color\": \"#2a3f5f\"}, \"error_y\": {\"color\": \"#2a3f5f\"}, \"marker\": {\"line\": {\"color\": \"#E5ECF6\", \"width\": 0.5}}, \"type\": \"bar\"}], \"barpolar\": [{\"marker\": {\"line\": {\"color\": \"#E5ECF6\", \"width\": 0.5}}, \"type\": \"barpolar\"}], \"carpet\": [{\"aaxis\": {\"endlinecolor\": \"#2a3f5f\", \"gridcolor\": \"white\", \"linecolor\": \"white\", \"minorgridcolor\": \"white\", \"startlinecolor\": \"#2a3f5f\"}, \"baxis\": {\"endlinecolor\": \"#2a3f5f\", \"gridcolor\": \"white\", \"linecolor\": \"white\", \"minorgridcolor\": \"white\", \"startlinecolor\": \"#2a3f5f\"}, \"type\": \"carpet\"}], \"choropleth\": [{\"colorbar\": {\"outlinewidth\": 0, \"ticks\": \"\"}, \"type\": \"choropleth\"}], \"contour\": [{\"colorbar\": {\"outlinewidth\": 0, \"ticks\": \"\"}, \"colorscale\": [[0.0, \"#0d0887\"], [0.1111111111111111, \"#46039f\"], [0.2222222222222222, \"#7201a8\"], [0.3333333333333333, \"#9c179e\"], [0.4444444444444444, \"#bd3786\"], [0.5555555555555556, \"#d8576b\"], [0.6666666666666666, \"#ed7953\"], [0.7777777777777778, \"#fb9f3a\"], [0.8888888888888888, \"#fdca26\"], [1.0, \"#f0f921\"]], \"type\": \"contour\"}], \"contourcarpet\": [{\"colorbar\": {\"outlinewidth\": 0, \"ticks\": \"\"}, \"type\": \"contourcarpet\"}], \"heatmap\": [{\"colorbar\": {\"outlinewidth\": 0, \"ticks\": \"\"}, \"colorscale\": [[0.0, \"#0d0887\"], [0.1111111111111111, \"#46039f\"], [0.2222222222222222, \"#7201a8\"], [0.3333333333333333, \"#9c179e\"], [0.4444444444444444, \"#bd3786\"], [0.5555555555555556, \"#d8576b\"], [0.6666666666666666, \"#ed7953\"], [0.7777777777777778, \"#fb9f3a\"], [0.8888888888888888, \"#fdca26\"], [1.0, \"#f0f921\"]], \"type\": \"heatmap\"}], \"heatmapgl\": [{\"colorbar\": {\"outlinewidth\": 0, \"ticks\": \"\"}, \"colorscale\": [[0.0, \"#0d0887\"], [0.1111111111111111, \"#46039f\"], [0.2222222222222222, \"#7201a8\"], [0.3333333333333333, \"#9c179e\"], [0.4444444444444444, \"#bd3786\"], [0.5555555555555556, \"#d8576b\"], [0.6666666666666666, \"#ed7953\"], [0.7777777777777778, \"#fb9f3a\"], [0.8888888888888888, \"#fdca26\"], [1.0, \"#f0f921\"]], \"type\": \"heatmapgl\"}], \"histogram\": [{\"marker\": {\"colorbar\": {\"outlinewidth\": 0, \"ticks\": \"\"}}, \"type\": \"histogram\"}], \"histogram2d\": [{\"colorbar\": {\"outlinewidth\": 0, \"ticks\": \"\"}, \"colorscale\": [[0.0, \"#0d0887\"], [0.1111111111111111, \"#46039f\"], [0.2222222222222222, \"#7201a8\"], [0.3333333333333333, \"#9c179e\"], [0.4444444444444444, \"#bd3786\"], [0.5555555555555556, \"#d8576b\"], [0.6666666666666666, \"#ed7953\"], [0.7777777777777778, \"#fb9f3a\"], [0.8888888888888888, \"#fdca26\"], [1.0, \"#f0f921\"]], \"type\": \"histogram2d\"}], \"histogram2dcontour\": [{\"colorbar\": {\"outlinewidth\": 0, \"ticks\": \"\"}, \"colorscale\": [[0.0, \"#0d0887\"], [0.1111111111111111, \"#46039f\"], [0.2222222222222222, \"#7201a8\"], [0.3333333333333333, \"#9c179e\"], [0.4444444444444444, \"#bd3786\"], [0.5555555555555556, \"#d8576b\"], [0.6666666666666666, \"#ed7953\"], [0.7777777777777778, \"#fb9f3a\"], [0.8888888888888888, \"#fdca26\"], [1.0, \"#f0f921\"]], \"type\": \"histogram2dcontour\"}], \"mesh3d\": [{\"colorbar\": {\"outlinewidth\": 0, \"ticks\": \"\"}, \"type\": \"mesh3d\"}], \"parcoords\": [{\"line\": {\"colorbar\": {\"outlinewidth\": 0, \"ticks\": \"\"}}, \"type\": \"parcoords\"}], \"pie\": [{\"automargin\": true, \"type\": \"pie\"}], \"scatter\": [{\"marker\": {\"colorbar\": {\"outlinewidth\": 0, \"ticks\": \"\"}}, \"type\": \"scatter\"}], \"scatter3d\": [{\"line\": {\"colorbar\": {\"outlinewidth\": 0, \"ticks\": \"\"}}, \"marker\": {\"colorbar\": {\"outlinewidth\": 0, \"ticks\": \"\"}}, \"type\": \"scatter3d\"}], \"scattercarpet\": [{\"marker\": {\"colorbar\": {\"outlinewidth\": 0, \"ticks\": \"\"}}, \"type\": \"scattercarpet\"}], \"scattergeo\": [{\"marker\": {\"colorbar\": {\"outlinewidth\": 0, \"ticks\": \"\"}}, \"type\": \"scattergeo\"}], \"scattergl\": [{\"marker\": {\"colorbar\": {\"outlinewidth\": 0, \"ticks\": \"\"}}, \"type\": \"scattergl\"}], \"scattermapbox\": [{\"marker\": {\"colorbar\": {\"outlinewidth\": 0, \"ticks\": \"\"}}, \"type\": \"scattermapbox\"}], \"scatterpolar\": [{\"marker\": {\"colorbar\": {\"outlinewidth\": 0, \"ticks\": \"\"}}, \"type\": \"scatterpolar\"}], \"scatterpolargl\": [{\"marker\": {\"colorbar\": {\"outlinewidth\": 0, \"ticks\": \"\"}}, \"type\": \"scatterpolargl\"}], \"scatterternary\": [{\"marker\": {\"colorbar\": {\"outlinewidth\": 0, \"ticks\": \"\"}}, \"type\": \"scatterternary\"}], \"surface\": [{\"colorbar\": {\"outlinewidth\": 0, \"ticks\": \"\"}, \"colorscale\": [[0.0, \"#0d0887\"], [0.1111111111111111, \"#46039f\"], [0.2222222222222222, \"#7201a8\"], [0.3333333333333333, \"#9c179e\"], [0.4444444444444444, \"#bd3786\"], [0.5555555555555556, \"#d8576b\"], [0.6666666666666666, \"#ed7953\"], [0.7777777777777778, \"#fb9f3a\"], [0.8888888888888888, \"#fdca26\"], [1.0, \"#f0f921\"]], \"type\": \"surface\"}], \"table\": [{\"cells\": {\"fill\": {\"color\": \"#EBF0F8\"}, \"line\": {\"color\": \"white\"}}, \"header\": {\"fill\": {\"color\": \"#C8D4E3\"}, \"line\": {\"color\": \"white\"}}, \"type\": \"table\"}]}, \"layout\": {\"annotationdefaults\": {\"arrowcolor\": \"#2a3f5f\", \"arrowhead\": 0, \"arrowwidth\": 1}, \"autotypenumbers\": \"strict\", \"coloraxis\": {\"colorbar\": {\"outlinewidth\": 0, \"ticks\": \"\"}}, \"colorscale\": {\"diverging\": [[0, \"#8e0152\"], [0.1, \"#c51b7d\"], [0.2, \"#de77ae\"], [0.3, \"#f1b6da\"], [0.4, \"#fde0ef\"], [0.5, \"#f7f7f7\"], [0.6, \"#e6f5d0\"], [0.7, \"#b8e186\"], [0.8, \"#7fbc41\"], [0.9, \"#4d9221\"], [1, \"#276419\"]], \"sequential\": [[0.0, \"#0d0887\"], [0.1111111111111111, \"#46039f\"], [0.2222222222222222, \"#7201a8\"], [0.3333333333333333, \"#9c179e\"], [0.4444444444444444, \"#bd3786\"], [0.5555555555555556, \"#d8576b\"], [0.6666666666666666, \"#ed7953\"], [0.7777777777777778, \"#fb9f3a\"], [0.8888888888888888, \"#fdca26\"], [1.0, \"#f0f921\"]], \"sequentialminus\": [[0.0, \"#0d0887\"], [0.1111111111111111, \"#46039f\"], [0.2222222222222222, \"#7201a8\"], [0.3333333333333333, \"#9c179e\"], [0.4444444444444444, \"#bd3786\"], [0.5555555555555556, \"#d8576b\"], [0.6666666666666666, \"#ed7953\"], [0.7777777777777778, \"#fb9f3a\"], [0.8888888888888888, \"#fdca26\"], [1.0, \"#f0f921\"]]}, \"colorway\": [\"#636efa\", \"#EF553B\", \"#00cc96\", \"#ab63fa\", \"#FFA15A\", \"#19d3f3\", \"#FF6692\", \"#B6E880\", \"#FF97FF\", \"#FECB52\"], \"font\": {\"color\": \"#2a3f5f\"}, \"geo\": {\"bgcolor\": \"white\", \"lakecolor\": \"white\", \"landcolor\": \"#E5ECF6\", \"showlakes\": true, \"showland\": true, \"subunitcolor\": \"white\"}, \"hoverlabel\": {\"align\": \"left\"}, \"hovermode\": \"closest\", \"mapbox\": {\"style\": \"light\"}, \"paper_bgcolor\": \"white\", \"plot_bgcolor\": \"#E5ECF6\", \"polar\": {\"angularaxis\": {\"gridcolor\": \"white\", \"linecolor\": \"white\", \"ticks\": \"\"}, \"bgcolor\": \"#E5ECF6\", \"radialaxis\": {\"gridcolor\": \"white\", \"linecolor\": \"white\", \"ticks\": \"\"}}, \"scene\": {\"xaxis\": {\"backgroundcolor\": \"#E5ECF6\", \"gridcolor\": \"white\", \"gridwidth\": 2, \"linecolor\": \"white\", \"showbackground\": true, \"ticks\": \"\", \"zerolinecolor\": \"white\"}, \"yaxis\": {\"backgroundcolor\": \"#E5ECF6\", \"gridcolor\": \"white\", \"gridwidth\": 2, \"linecolor\": \"white\", \"showbackground\": true, \"ticks\": \"\", \"zerolinecolor\": \"white\"}, \"zaxis\": {\"backgroundcolor\": \"#E5ECF6\", \"gridcolor\": \"white\", \"gridwidth\": 2, \"linecolor\": \"white\", \"showbackground\": true, \"ticks\": \"\", \"zerolinecolor\": \"white\"}}, \"shapedefaults\": {\"line\": {\"color\": \"#2a3f5f\"}}, \"ternary\": {\"aaxis\": {\"gridcolor\": \"white\", \"linecolor\": \"white\", \"ticks\": \"\"}, \"baxis\": {\"gridcolor\": \"white\", \"linecolor\": \"white\", \"ticks\": \"\"}, \"bgcolor\": \"#E5ECF6\", \"caxis\": {\"gridcolor\": \"white\", \"linecolor\": \"white\", \"ticks\": \"\"}}, \"title\": {\"x\": 0.05}, \"xaxis\": {\"automargin\": true, \"gridcolor\": \"white\", \"linecolor\": \"white\", \"ticks\": \"\", \"title\": {\"standoff\": 15}, \"zerolinecolor\": \"white\", \"zerolinewidth\": 2}, \"yaxis\": {\"automargin\": true, \"gridcolor\": \"white\", \"linecolor\": \"white\", \"ticks\": \"\", \"title\": {\"standoff\": 15}, \"zerolinecolor\": \"white\", \"zerolinewidth\": 2}}}, \"title\": {\"font\": {\"color\": \"#4D5663\"}}, \"xaxis\": {\"gridcolor\": \"#E1E5ED\", \"showgrid\": true, \"tickfont\": {\"color\": \"#4D5663\"}, \"title\": {\"font\": {\"color\": \"#4D5663\"}, \"text\": \"\"}, \"zerolinecolor\": \"#E1E5ED\"}, \"yaxis\": {\"gridcolor\": \"#E1E5ED\", \"showgrid\": true, \"tickfont\": {\"color\": \"#4D5663\"}, \"title\": {\"font\": {\"color\": \"#4D5663\"}, \"text\": \"\"}, \"zerolinecolor\": \"#E1E5ED\"}},                        {\"showLink\": true, \"linkText\": \"Export to plot.ly\", \"plotlyServerURL\": \"https://plot.ly\", \"responsive\": true}                    ).then(function(){\n",
       "                            \n",
       "var gd = document.getElementById('7455f325-dc8e-4df6-980b-b70fa83cee64');\n",
       "var x = new MutationObserver(function (mutations, observer) {{\n",
       "        var display = window.getComputedStyle(gd).display;\n",
       "        if (!display || display === 'none') {{\n",
       "            console.log([gd, 'removed!']);\n",
       "            Plotly.purge(gd);\n",
       "            observer.disconnect();\n",
       "        }}\n",
       "}});\n",
       "\n",
       "// Listen for the removal of the full notebook cells\n",
       "var notebookContainer = gd.closest('#notebook-container');\n",
       "if (notebookContainer) {{\n",
       "    x.observe(notebookContainer, {childList: true});\n",
       "}}\n",
       "\n",
       "// Listen for the clearing of the current output cell\n",
       "var outputEl = gd.closest('.output');\n",
       "if (outputEl) {{\n",
       "    x.observe(outputEl, {childList: true});\n",
       "}}\n",
       "\n",
       "                        })                };                });            </script>        </div>"
      ]
     },
     "metadata": {},
     "output_type": "display_data"
    }
   ],
   "source": [
    "df3 = pd.DataFrame({'x':[1,2,3,4,5],'y':[10,20,30,20,10],'z':[5,4,3,2,1]})\n",
    "df3.iplot(kind='surface',colorscale='rdylbu')"
   ]
  },
  {
   "cell_type": "markdown",
   "id": "1596e172",
   "metadata": {},
   "source": [
    "### Spread"
   ]
  },
  {
   "cell_type": "code",
   "execution_count": 13,
   "id": "ef897b5f",
   "metadata": {},
   "outputs": [
    {
     "name": "stderr",
     "output_type": "stream",
     "text": [
      "/Users/mahaoxi/opt/anaconda3/lib/python3.7/site-packages/cufflinks/plotlytools.py:849: FutureWarning:\n",
      "\n",
      "The pandas.np module is deprecated and will be removed from pandas in a future version. Import numpy directly instead\n",
      "\n",
      "/Users/mahaoxi/opt/anaconda3/lib/python3.7/site-packages/cufflinks/plotlytools.py:850: FutureWarning:\n",
      "\n",
      "The pandas.np module is deprecated and will be removed from pandas in a future version. Import numpy directly instead\n",
      "\n"
     ]
    },
    {
     "data": {
      "application/vnd.plotly.v1+json": {
       "config": {
        "linkText": "Export to plot.ly",
        "plotlyServerURL": "https://plot.ly",
        "showLink": true
       },
       "data": [
        {
         "line": {
          "color": "rgba(255, 153, 51, 1.0)",
          "dash": "solid",
          "shape": "linear",
          "width": 1.3
         },
         "mode": "lines",
         "name": "A",
         "text": "",
         "type": "scatter",
         "x": [
          0,
          1,
          2,
          3,
          4,
          5,
          6,
          7,
          8,
          9,
          10,
          11,
          12,
          13,
          14,
          15,
          16,
          17,
          18,
          19,
          20,
          21,
          22,
          23,
          24,
          25,
          26,
          27,
          28,
          29,
          30,
          31,
          32,
          33,
          34,
          35,
          36,
          37,
          38,
          39,
          40,
          41,
          42,
          43,
          44,
          45,
          46,
          47,
          48,
          49,
          50,
          51,
          52,
          53,
          54,
          55,
          56,
          57,
          58,
          59,
          60,
          61,
          62,
          63,
          64,
          65,
          66,
          67,
          68,
          69,
          70,
          71,
          72,
          73,
          74,
          75,
          76,
          77,
          78,
          79,
          80,
          81,
          82,
          83,
          84,
          85,
          86,
          87,
          88,
          89,
          90,
          91,
          92,
          93,
          94,
          95,
          96,
          97,
          98,
          99
         ],
         "y": [
          1.13798425475934,
          -1.5511667265037368,
          -0.49910781628050077,
          1.085004351054516,
          1.3989590240733099,
          -0.2911375934861317,
          -1.5870990872964883,
          -0.27935482665627126,
          0.3605252492517807,
          -0.2573222198131206,
          0.1282283018327493,
          -0.07523399544764772,
          -1.209782190524917,
          2.0998120955843382,
          0.21015410636408016,
          0.22039843592118114,
          -0.2750042028570783,
          -0.6425752651343553,
          0.04922938202933533,
          -1.151271215568177,
          -0.42520307577080796,
          0.286067143912526,
          0.6534378509385754,
          0.8055892428102114,
          1.6706324275158206,
          -1.9144292516764323,
          -0.7130745443719025,
          0.7132261507336397,
          1.0879917537219244,
          1.1428274385647352,
          1.1052680624561735,
          -0.5017274571551676,
          -0.15486630452781308,
          -0.8648382795499453,
          -0.821833223346524,
          -0.9012730792736585,
          0.6915059079700464,
          0.9054765379391744,
          -1.2976938178943378,
          -2.53565236236453,
          -0.1468560126376463,
          0.7415838145374852,
          0.967262105578842,
          -0.35875049228952205,
          0.8406410200429533,
          -0.03382970251039049,
          0.8707112942651388,
          -1.4962151290981338,
          -0.07482657180383757,
          -2.0160590596318197,
          0.3736129818346688,
          1.6452214643540364,
          1.7483148573896086,
          -1.4782529280436036,
          -0.1851835324174723,
          0.07377001332300753,
          0.36261478198089586,
          0.8651189780670078,
          0.6850474548860096,
          -0.7604619533012311,
          0.6555732095574617,
          -0.2688445662091309,
          2.284918084356147,
          -0.8340569074513916,
          1.6567735333149083,
          0.2924799350386549,
          -0.2735576072888158,
          0.0661601600306233,
          -0.6484239909056564,
          0.3878976614822351,
          -0.7011706453361762,
          0.2833166864898419,
          0.46257195200648377,
          0.5553702337250296,
          -0.5010959672124472,
          -0.14217198426981456,
          0.030937629523973564,
          -0.7574771731657584,
          0.45118790988184454,
          0.8219555020946994,
          0.5957135274819632,
          0.296850683691185,
          -0.12687894891679846,
          1.6095887390402563,
          -0.4527220315030091,
          0.971845763811533,
          0.6888768190349028,
          1.190978115499409,
          1.553954249377355,
          -0.12605990653637028,
          1.3525180232497602,
          0.721154005304942,
          -1.9836464415088655,
          -0.7479971966715627,
          -0.06669017642695914,
          -0.9289839979546476,
          0.4778549545203271,
          0.28213164182506856,
          -1.1155992489230353,
          0.4085009469861413
         ]
        },
        {
         "line": {
          "color": "rgba(55, 128, 191, 1.0)",
          "dash": "solid",
          "shape": "linear",
          "width": 1.3
         },
         "mode": "lines",
         "name": "B",
         "text": "",
         "type": "scatter",
         "x": [
          0,
          1,
          2,
          3,
          4,
          5,
          6,
          7,
          8,
          9,
          10,
          11,
          12,
          13,
          14,
          15,
          16,
          17,
          18,
          19,
          20,
          21,
          22,
          23,
          24,
          25,
          26,
          27,
          28,
          29,
          30,
          31,
          32,
          33,
          34,
          35,
          36,
          37,
          38,
          39,
          40,
          41,
          42,
          43,
          44,
          45,
          46,
          47,
          48,
          49,
          50,
          51,
          52,
          53,
          54,
          55,
          56,
          57,
          58,
          59,
          60,
          61,
          62,
          63,
          64,
          65,
          66,
          67,
          68,
          69,
          70,
          71,
          72,
          73,
          74,
          75,
          76,
          77,
          78,
          79,
          80,
          81,
          82,
          83,
          84,
          85,
          86,
          87,
          88,
          89,
          90,
          91,
          92,
          93,
          94,
          95,
          96,
          97,
          98,
          99
         ],
         "y": [
          0.7323896324227073,
          -0.3284517281790686,
          -0.4510768322302432,
          1.6259669689281526,
          2.2430313429630293,
          -1.7897441106074743,
          0.569351307124913,
          -0.64587704510535,
          -0.0028811213343762202,
          -0.6373272106113808,
          1.0727062355724828,
          -2.952465256493198,
          1.287542719369616,
          -1.9267498062823034,
          2.0788433396371806,
          0.43073404217299227,
          0.26760125628746445,
          1.0849032546496722,
          1.3952877106807626,
          -0.6565850044269331,
          0.3817056840001886,
          -0.7412006468853344,
          -1.1217400025261557,
          0.6370813567298341,
          -0.5641382119507771,
          0.4634853466013324,
          -0.8584405373757337,
          -0.31182260271644374,
          0.3241918385448195,
          -1.33196541981774,
          -0.32846040497042905,
          -1.6413072197342926,
          0.7173508042526268,
          -1.7799489677323204,
          -1.86186170165096,
          0.10832184935546763,
          -1.0288381651747285,
          -0.545393753019585,
          -0.2650696867162592,
          0.05143818057526999,
          2.4823816265488032,
          -0.2501683134068812,
          -0.8065726277144815,
          0.5501537595048036,
          1.1282774686998163,
          -1.1732802076261226,
          -0.46217213437426197,
          -1.3361758119419371,
          2.5199867408681107,
          2.9378115385841097,
          -0.7262093920427323,
          0.6618920921980426,
          -0.8331597086864062,
          -0.30617972029078255,
          -0.4785044386864302,
          -0.4311874108212848,
          1.059597532517294,
          -1.5851754098869444,
          -0.039793079226337416,
          0.9867240234550703,
          1.3051413089883257,
          -0.5936323554912434,
          -0.7753853225554804,
          0.25590786585761166,
          1.547462128147694,
          -1.1023295816945362,
          -0.6222120723704447,
          -1.3188982035117294,
          -0.3093504949433165,
          -0.6769875209754437,
          -1.2333911783155913,
          -0.25666166671048446,
          -0.16532592175370936,
          -1.5355312465996227,
          -0.044051680488167134,
          -2.1457695866393056,
          0.9910173713062925,
          -1.1693051260643423,
          0.5160990345223325,
          0.3034532039457703,
          0.6409653165213176,
          0.9651791752395708,
          -2.2583982537236387,
          0.9926410629675069,
          1.3397259187632276,
          0.3781172112555631,
          1.5690672504187282,
          -0.03013161830784265,
          0.010106847671662566,
          0.33347285351095557,
          0.9112980654586149,
          0.14301371449262146,
          -0.30880549994744216,
          -2.0760184562581383,
          -0.7149080366700209,
          -0.0918574051416281,
          1.7923015769941466,
          -0.2022523157306176,
          0.04800165228427791,
          2.778983884871559
         ]
        },
        {
         "connectgaps": false,
         "fill": "tozeroy",
         "line": {
          "color": "green",
          "dash": "solid",
          "shape": "linear",
          "width": 0.5
         },
         "mode": "lines",
         "name": "Spread",
         "showlegend": false,
         "type": "scatter",
         "x": [
          0,
          1,
          2,
          3,
          4,
          5,
          6,
          7,
          8,
          9,
          10,
          11,
          12,
          13,
          14,
          15,
          16,
          17,
          18,
          19,
          20,
          21,
          22,
          23,
          24,
          25,
          26,
          27,
          28,
          29,
          30,
          31,
          32,
          33,
          34,
          35,
          36,
          37,
          38,
          39,
          40,
          41,
          42,
          43,
          44,
          45,
          46,
          47,
          48,
          49,
          50,
          51,
          52,
          53,
          54,
          55,
          56,
          57,
          58,
          59,
          60,
          61,
          62,
          63,
          64,
          65,
          66,
          67,
          68,
          69,
          70,
          71,
          72,
          73,
          74,
          75,
          76,
          77,
          78,
          79,
          80,
          81,
          82,
          83,
          84,
          85,
          86,
          87,
          88,
          89,
          90,
          91,
          92,
          93,
          94,
          95,
          96,
          97,
          98,
          99
         ],
         "xaxis": "x2",
         "y": [
          0.4055946223366327,
          "",
          "",
          "",
          "",
          1.4986065171213425,
          "",
          0.3665222184490788,
          0.36340637058615693,
          0.38000499079826017,
          "",
          2.87723126104555,
          "",
          4.026561901866642,
          "",
          "",
          "",
          "",
          "",
          "",
          "",
          1.0272677907978605,
          1.7751778534647311,
          0.16850788608037726,
          2.2347706394665976,
          "",
          0.14536599300383113,
          1.0250487534500834,
          0.7637999151771049,
          2.474792858382475,
          1.4337284674266026,
          1.139579762579125,
          "",
          0.9151106881823751,
          1.040028478304436,
          "",
          1.720344073144775,
          1.4508702909587594,
          "",
          "",
          "",
          0.9917521279443664,
          1.7738347332933233,
          "",
          "",
          1.1394505051157322,
          1.3328834286394007,
          "",
          "",
          "",
          1.0998223738774011,
          0.9833293721559938,
          2.5814745660760146,
          "",
          0.2933209062689579,
          0.5049574241442923,
          "",
          2.450294387953952,
          0.7248405341123471,
          "",
          "",
          0.3247877892821125,
          3.0603034069116277,
          "",
          0.10931140516721438,
          1.394809516733191,
          0.34865446508162895,
          1.3850583635423526,
          "",
          1.0648851824576788,
          0.5322205329794151,
          0.5399783532003264,
          0.6278978737601931,
          2.090901480324652,
          "",
          2.0035976023694912,
          "",
          0.411827952898584,
          "",
          0.5185022981489291,
          "",
          "",
          2.13151930480684,
          0.6169476760727495,
          "",
          0.5937285525559699,
          "",
          1.2211097338072516,
          1.5438474017056925,
          "",
          0.4412199577911453,
          0.5781402908123205,
          "",
          1.3280212595865755,
          0.6482178602430617,
          "",
          "",
          0.4843839575556862,
          "",
          ""
         ],
         "yaxis": "y2"
        },
        {
         "connectgaps": false,
         "fill": "tozeroy",
         "line": {
          "color": "red",
          "dash": "solid",
          "shape": "linear",
          "width": 0.5
         },
         "mode": "lines",
         "name": "Spread",
         "showlegend": false,
         "type": "scatter",
         "x": [
          0,
          1,
          2,
          3,
          4,
          5,
          6,
          7,
          8,
          9,
          10,
          11,
          12,
          13,
          14,
          15,
          16,
          17,
          18,
          19,
          20,
          21,
          22,
          23,
          24,
          25,
          26,
          27,
          28,
          29,
          30,
          31,
          32,
          33,
          34,
          35,
          36,
          37,
          38,
          39,
          40,
          41,
          42,
          43,
          44,
          45,
          46,
          47,
          48,
          49,
          50,
          51,
          52,
          53,
          54,
          55,
          56,
          57,
          58,
          59,
          60,
          61,
          62,
          63,
          64,
          65,
          66,
          67,
          68,
          69,
          70,
          71,
          72,
          73,
          74,
          75,
          76,
          77,
          78,
          79,
          80,
          81,
          82,
          83,
          84,
          85,
          86,
          87,
          88,
          89,
          90,
          91,
          92,
          93,
          94,
          95,
          96,
          97,
          98,
          99
         ],
         "xaxis": "x2",
         "y": [
          "",
          -1.2227149983246681,
          -0.048030984050257575,
          -0.5409626178736366,
          -0.8440723188897195,
          "",
          -2.1564503944214013,
          "",
          "",
          "",
          -0.9444779337397335,
          "",
          -2.497324909894533,
          "",
          -1.8686892332731004,
          -0.21033560625181114,
          -0.5426054591445427,
          -1.7274785197840274,
          -1.3460583286514274,
          -0.4946862111412439,
          -0.8069087597709965,
          "",
          "",
          "",
          "",
          -2.3779145982777647,
          "",
          "",
          "",
          "",
          "",
          "",
          -0.8722171087804398,
          "",
          "",
          -1.0095949286291261,
          "",
          "",
          -1.0326241311780786,
          -2.5870905429398,
          -2.6292376391864494,
          "",
          "",
          -0.9089042517943257,
          -0.287636448656863,
          "",
          "",
          -0.16003931715619668,
          -2.594813312671948,
          -4.9538705982159295,
          "",
          "",
          "",
          -1.172073207752821,
          "",
          "",
          -0.6969827505363981,
          "",
          "",
          -1.7471859767563014,
          -0.649568099430864,
          "",
          "",
          -1.0899647733090032,
          "",
          "",
          "",
          "",
          -0.3390734959623399,
          "",
          "",
          "",
          "",
          "",
          -0.45704428672428005,
          "",
          -0.9600797417823189,
          "",
          -0.06491112464048798,
          "",
          -0.04525178903935445,
          -0.6683284915483858,
          "",
          "",
          -1.7924479502662367,
          "",
          -0.8801904313838254,
          "",
          "",
          -0.45953276004732585,
          "",
          "",
          -1.6748409415614234,
          "",
          "",
          -0.8371265928130195,
          -1.3144466224738194,
          "",
          -1.1636009012073132,
          -2.3704829378854178
         ],
         "yaxis": "y2"
        }
       ],
       "layout": {
        "hovermode": "x",
        "legend": {
         "bgcolor": "#F5F6F9",
         "font": {
          "color": "#4D5663"
         }
        },
        "paper_bgcolor": "#F5F6F9",
        "plot_bgcolor": "#F5F6F9",
        "template": {
         "data": {
          "bar": [
           {
            "error_x": {
             "color": "#2a3f5f"
            },
            "error_y": {
             "color": "#2a3f5f"
            },
            "marker": {
             "line": {
              "color": "#E5ECF6",
              "width": 0.5
             }
            },
            "type": "bar"
           }
          ],
          "barpolar": [
           {
            "marker": {
             "line": {
              "color": "#E5ECF6",
              "width": 0.5
             }
            },
            "type": "barpolar"
           }
          ],
          "carpet": [
           {
            "aaxis": {
             "endlinecolor": "#2a3f5f",
             "gridcolor": "white",
             "linecolor": "white",
             "minorgridcolor": "white",
             "startlinecolor": "#2a3f5f"
            },
            "baxis": {
             "endlinecolor": "#2a3f5f",
             "gridcolor": "white",
             "linecolor": "white",
             "minorgridcolor": "white",
             "startlinecolor": "#2a3f5f"
            },
            "type": "carpet"
           }
          ],
          "choropleth": [
           {
            "colorbar": {
             "outlinewidth": 0,
             "ticks": ""
            },
            "type": "choropleth"
           }
          ],
          "contour": [
           {
            "colorbar": {
             "outlinewidth": 0,
             "ticks": ""
            },
            "colorscale": [
             [
              0,
              "#0d0887"
             ],
             [
              0.1111111111111111,
              "#46039f"
             ],
             [
              0.2222222222222222,
              "#7201a8"
             ],
             [
              0.3333333333333333,
              "#9c179e"
             ],
             [
              0.4444444444444444,
              "#bd3786"
             ],
             [
              0.5555555555555556,
              "#d8576b"
             ],
             [
              0.6666666666666666,
              "#ed7953"
             ],
             [
              0.7777777777777778,
              "#fb9f3a"
             ],
             [
              0.8888888888888888,
              "#fdca26"
             ],
             [
              1,
              "#f0f921"
             ]
            ],
            "type": "contour"
           }
          ],
          "contourcarpet": [
           {
            "colorbar": {
             "outlinewidth": 0,
             "ticks": ""
            },
            "type": "contourcarpet"
           }
          ],
          "heatmap": [
           {
            "colorbar": {
             "outlinewidth": 0,
             "ticks": ""
            },
            "colorscale": [
             [
              0,
              "#0d0887"
             ],
             [
              0.1111111111111111,
              "#46039f"
             ],
             [
              0.2222222222222222,
              "#7201a8"
             ],
             [
              0.3333333333333333,
              "#9c179e"
             ],
             [
              0.4444444444444444,
              "#bd3786"
             ],
             [
              0.5555555555555556,
              "#d8576b"
             ],
             [
              0.6666666666666666,
              "#ed7953"
             ],
             [
              0.7777777777777778,
              "#fb9f3a"
             ],
             [
              0.8888888888888888,
              "#fdca26"
             ],
             [
              1,
              "#f0f921"
             ]
            ],
            "type": "heatmap"
           }
          ],
          "heatmapgl": [
           {
            "colorbar": {
             "outlinewidth": 0,
             "ticks": ""
            },
            "colorscale": [
             [
              0,
              "#0d0887"
             ],
             [
              0.1111111111111111,
              "#46039f"
             ],
             [
              0.2222222222222222,
              "#7201a8"
             ],
             [
              0.3333333333333333,
              "#9c179e"
             ],
             [
              0.4444444444444444,
              "#bd3786"
             ],
             [
              0.5555555555555556,
              "#d8576b"
             ],
             [
              0.6666666666666666,
              "#ed7953"
             ],
             [
              0.7777777777777778,
              "#fb9f3a"
             ],
             [
              0.8888888888888888,
              "#fdca26"
             ],
             [
              1,
              "#f0f921"
             ]
            ],
            "type": "heatmapgl"
           }
          ],
          "histogram": [
           {
            "marker": {
             "colorbar": {
              "outlinewidth": 0,
              "ticks": ""
             }
            },
            "type": "histogram"
           }
          ],
          "histogram2d": [
           {
            "colorbar": {
             "outlinewidth": 0,
             "ticks": ""
            },
            "colorscale": [
             [
              0,
              "#0d0887"
             ],
             [
              0.1111111111111111,
              "#46039f"
             ],
             [
              0.2222222222222222,
              "#7201a8"
             ],
             [
              0.3333333333333333,
              "#9c179e"
             ],
             [
              0.4444444444444444,
              "#bd3786"
             ],
             [
              0.5555555555555556,
              "#d8576b"
             ],
             [
              0.6666666666666666,
              "#ed7953"
             ],
             [
              0.7777777777777778,
              "#fb9f3a"
             ],
             [
              0.8888888888888888,
              "#fdca26"
             ],
             [
              1,
              "#f0f921"
             ]
            ],
            "type": "histogram2d"
           }
          ],
          "histogram2dcontour": [
           {
            "colorbar": {
             "outlinewidth": 0,
             "ticks": ""
            },
            "colorscale": [
             [
              0,
              "#0d0887"
             ],
             [
              0.1111111111111111,
              "#46039f"
             ],
             [
              0.2222222222222222,
              "#7201a8"
             ],
             [
              0.3333333333333333,
              "#9c179e"
             ],
             [
              0.4444444444444444,
              "#bd3786"
             ],
             [
              0.5555555555555556,
              "#d8576b"
             ],
             [
              0.6666666666666666,
              "#ed7953"
             ],
             [
              0.7777777777777778,
              "#fb9f3a"
             ],
             [
              0.8888888888888888,
              "#fdca26"
             ],
             [
              1,
              "#f0f921"
             ]
            ],
            "type": "histogram2dcontour"
           }
          ],
          "mesh3d": [
           {
            "colorbar": {
             "outlinewidth": 0,
             "ticks": ""
            },
            "type": "mesh3d"
           }
          ],
          "parcoords": [
           {
            "line": {
             "colorbar": {
              "outlinewidth": 0,
              "ticks": ""
             }
            },
            "type": "parcoords"
           }
          ],
          "pie": [
           {
            "automargin": true,
            "type": "pie"
           }
          ],
          "scatter": [
           {
            "marker": {
             "colorbar": {
              "outlinewidth": 0,
              "ticks": ""
             }
            },
            "type": "scatter"
           }
          ],
          "scatter3d": [
           {
            "line": {
             "colorbar": {
              "outlinewidth": 0,
              "ticks": ""
             }
            },
            "marker": {
             "colorbar": {
              "outlinewidth": 0,
              "ticks": ""
             }
            },
            "type": "scatter3d"
           }
          ],
          "scattercarpet": [
           {
            "marker": {
             "colorbar": {
              "outlinewidth": 0,
              "ticks": ""
             }
            },
            "type": "scattercarpet"
           }
          ],
          "scattergeo": [
           {
            "marker": {
             "colorbar": {
              "outlinewidth": 0,
              "ticks": ""
             }
            },
            "type": "scattergeo"
           }
          ],
          "scattergl": [
           {
            "marker": {
             "colorbar": {
              "outlinewidth": 0,
              "ticks": ""
             }
            },
            "type": "scattergl"
           }
          ],
          "scattermapbox": [
           {
            "marker": {
             "colorbar": {
              "outlinewidth": 0,
              "ticks": ""
             }
            },
            "type": "scattermapbox"
           }
          ],
          "scatterpolar": [
           {
            "marker": {
             "colorbar": {
              "outlinewidth": 0,
              "ticks": ""
             }
            },
            "type": "scatterpolar"
           }
          ],
          "scatterpolargl": [
           {
            "marker": {
             "colorbar": {
              "outlinewidth": 0,
              "ticks": ""
             }
            },
            "type": "scatterpolargl"
           }
          ],
          "scatterternary": [
           {
            "marker": {
             "colorbar": {
              "outlinewidth": 0,
              "ticks": ""
             }
            },
            "type": "scatterternary"
           }
          ],
          "surface": [
           {
            "colorbar": {
             "outlinewidth": 0,
             "ticks": ""
            },
            "colorscale": [
             [
              0,
              "#0d0887"
             ],
             [
              0.1111111111111111,
              "#46039f"
             ],
             [
              0.2222222222222222,
              "#7201a8"
             ],
             [
              0.3333333333333333,
              "#9c179e"
             ],
             [
              0.4444444444444444,
              "#bd3786"
             ],
             [
              0.5555555555555556,
              "#d8576b"
             ],
             [
              0.6666666666666666,
              "#ed7953"
             ],
             [
              0.7777777777777778,
              "#fb9f3a"
             ],
             [
              0.8888888888888888,
              "#fdca26"
             ],
             [
              1,
              "#f0f921"
             ]
            ],
            "type": "surface"
           }
          ],
          "table": [
           {
            "cells": {
             "fill": {
              "color": "#EBF0F8"
             },
             "line": {
              "color": "white"
             }
            },
            "header": {
             "fill": {
              "color": "#C8D4E3"
             },
             "line": {
              "color": "white"
             }
            },
            "type": "table"
           }
          ]
         },
         "layout": {
          "annotationdefaults": {
           "arrowcolor": "#2a3f5f",
           "arrowhead": 0,
           "arrowwidth": 1
          },
          "autotypenumbers": "strict",
          "coloraxis": {
           "colorbar": {
            "outlinewidth": 0,
            "ticks": ""
           }
          },
          "colorscale": {
           "diverging": [
            [
             0,
             "#8e0152"
            ],
            [
             0.1,
             "#c51b7d"
            ],
            [
             0.2,
             "#de77ae"
            ],
            [
             0.3,
             "#f1b6da"
            ],
            [
             0.4,
             "#fde0ef"
            ],
            [
             0.5,
             "#f7f7f7"
            ],
            [
             0.6,
             "#e6f5d0"
            ],
            [
             0.7,
             "#b8e186"
            ],
            [
             0.8,
             "#7fbc41"
            ],
            [
             0.9,
             "#4d9221"
            ],
            [
             1,
             "#276419"
            ]
           ],
           "sequential": [
            [
             0,
             "#0d0887"
            ],
            [
             0.1111111111111111,
             "#46039f"
            ],
            [
             0.2222222222222222,
             "#7201a8"
            ],
            [
             0.3333333333333333,
             "#9c179e"
            ],
            [
             0.4444444444444444,
             "#bd3786"
            ],
            [
             0.5555555555555556,
             "#d8576b"
            ],
            [
             0.6666666666666666,
             "#ed7953"
            ],
            [
             0.7777777777777778,
             "#fb9f3a"
            ],
            [
             0.8888888888888888,
             "#fdca26"
            ],
            [
             1,
             "#f0f921"
            ]
           ],
           "sequentialminus": [
            [
             0,
             "#0d0887"
            ],
            [
             0.1111111111111111,
             "#46039f"
            ],
            [
             0.2222222222222222,
             "#7201a8"
            ],
            [
             0.3333333333333333,
             "#9c179e"
            ],
            [
             0.4444444444444444,
             "#bd3786"
            ],
            [
             0.5555555555555556,
             "#d8576b"
            ],
            [
             0.6666666666666666,
             "#ed7953"
            ],
            [
             0.7777777777777778,
             "#fb9f3a"
            ],
            [
             0.8888888888888888,
             "#fdca26"
            ],
            [
             1,
             "#f0f921"
            ]
           ]
          },
          "colorway": [
           "#636efa",
           "#EF553B",
           "#00cc96",
           "#ab63fa",
           "#FFA15A",
           "#19d3f3",
           "#FF6692",
           "#B6E880",
           "#FF97FF",
           "#FECB52"
          ],
          "font": {
           "color": "#2a3f5f"
          },
          "geo": {
           "bgcolor": "white",
           "lakecolor": "white",
           "landcolor": "#E5ECF6",
           "showlakes": true,
           "showland": true,
           "subunitcolor": "white"
          },
          "hoverlabel": {
           "align": "left"
          },
          "hovermode": "closest",
          "mapbox": {
           "style": "light"
          },
          "paper_bgcolor": "white",
          "plot_bgcolor": "#E5ECF6",
          "polar": {
           "angularaxis": {
            "gridcolor": "white",
            "linecolor": "white",
            "ticks": ""
           },
           "bgcolor": "#E5ECF6",
           "radialaxis": {
            "gridcolor": "white",
            "linecolor": "white",
            "ticks": ""
           }
          },
          "scene": {
           "xaxis": {
            "backgroundcolor": "#E5ECF6",
            "gridcolor": "white",
            "gridwidth": 2,
            "linecolor": "white",
            "showbackground": true,
            "ticks": "",
            "zerolinecolor": "white"
           },
           "yaxis": {
            "backgroundcolor": "#E5ECF6",
            "gridcolor": "white",
            "gridwidth": 2,
            "linecolor": "white",
            "showbackground": true,
            "ticks": "",
            "zerolinecolor": "white"
           },
           "zaxis": {
            "backgroundcolor": "#E5ECF6",
            "gridcolor": "white",
            "gridwidth": 2,
            "linecolor": "white",
            "showbackground": true,
            "ticks": "",
            "zerolinecolor": "white"
           }
          },
          "shapedefaults": {
           "line": {
            "color": "#2a3f5f"
           }
          },
          "ternary": {
           "aaxis": {
            "gridcolor": "white",
            "linecolor": "white",
            "ticks": ""
           },
           "baxis": {
            "gridcolor": "white",
            "linecolor": "white",
            "ticks": ""
           },
           "bgcolor": "#E5ECF6",
           "caxis": {
            "gridcolor": "white",
            "linecolor": "white",
            "ticks": ""
           }
          },
          "title": {
           "x": 0.05
          },
          "xaxis": {
           "automargin": true,
           "gridcolor": "white",
           "linecolor": "white",
           "ticks": "",
           "title": {
            "standoff": 15
           },
           "zerolinecolor": "white",
           "zerolinewidth": 2
          },
          "yaxis": {
           "automargin": true,
           "gridcolor": "white",
           "linecolor": "white",
           "ticks": "",
           "title": {
            "standoff": 15
           },
           "zerolinecolor": "white",
           "zerolinewidth": 2
          }
         }
        },
        "title": {
         "font": {
          "color": "#4D5663"
         }
        },
        "xaxis": {
         "gridcolor": "#E1E5ED",
         "showgrid": true,
         "tickfont": {
          "color": "#4D5663"
         },
         "title": {
          "font": {
           "color": "#4D5663"
          },
          "text": ""
         },
         "zerolinecolor": "#E1E5ED"
        },
        "xaxis2": {
         "anchor": "y2",
         "gridcolor": "#E1E5ED",
         "showgrid": true,
         "showticklabels": false,
         "tickfont": {
          "color": "#4D5663"
         },
         "title": {
          "font": {
           "color": "#4D5663"
          },
          "text": ""
         },
         "zerolinecolor": "#E1E5ED"
        },
        "yaxis": {
         "domain": [
          0.3,
          1
         ],
         "gridcolor": "#E1E5ED",
         "showgrid": true,
         "tickfont": {
          "color": "#4D5663"
         },
         "title": {
          "font": {
           "color": "#4D5663"
          },
          "text": ""
         },
         "zerolinecolor": "#E1E5ED"
        },
        "yaxis2": {
         "domain": [
          0,
          0.25
         ],
         "gridcolor": "#E1E5ED",
         "showgrid": true,
         "tickfont": {
          "color": "#4D5663"
         },
         "title": {
          "font": {
           "color": "#4D5663"
          },
          "text": "Spread"
         },
         "zerolinecolor": "#E1E5ED"
        }
       }
      },
      "text/html": [
       "<div>                            <div id=\"d7f9fa29-ffe9-4ccb-9732-2c88601f833c\" class=\"plotly-graph-div\" style=\"height:525px; width:100%;\"></div>            <script type=\"text/javascript\">                require([\"plotly\"], function(Plotly) {                    window.PLOTLYENV=window.PLOTLYENV || {};\n",
       "                    window.PLOTLYENV.BASE_URL='https://plot.ly';                                    if (document.getElementById(\"d7f9fa29-ffe9-4ccb-9732-2c88601f833c\")) {                    Plotly.newPlot(                        \"d7f9fa29-ffe9-4ccb-9732-2c88601f833c\",                        [{\"line\": {\"color\": \"rgba(255, 153, 51, 1.0)\", \"dash\": \"solid\", \"shape\": \"linear\", \"width\": 1.3}, \"mode\": \"lines\", \"name\": \"A\", \"text\": \"\", \"type\": \"scatter\", \"x\": [0, 1, 2, 3, 4, 5, 6, 7, 8, 9, 10, 11, 12, 13, 14, 15, 16, 17, 18, 19, 20, 21, 22, 23, 24, 25, 26, 27, 28, 29, 30, 31, 32, 33, 34, 35, 36, 37, 38, 39, 40, 41, 42, 43, 44, 45, 46, 47, 48, 49, 50, 51, 52, 53, 54, 55, 56, 57, 58, 59, 60, 61, 62, 63, 64, 65, 66, 67, 68, 69, 70, 71, 72, 73, 74, 75, 76, 77, 78, 79, 80, 81, 82, 83, 84, 85, 86, 87, 88, 89, 90, 91, 92, 93, 94, 95, 96, 97, 98, 99], \"y\": [1.13798425475934, -1.5511667265037368, -0.49910781628050077, 1.085004351054516, 1.3989590240733099, -0.2911375934861317, -1.5870990872964883, -0.27935482665627126, 0.3605252492517807, -0.2573222198131206, 0.1282283018327493, -0.07523399544764772, -1.209782190524917, 2.0998120955843382, 0.21015410636408016, 0.22039843592118114, -0.2750042028570783, -0.6425752651343553, 0.04922938202933533, -1.151271215568177, -0.42520307577080796, 0.286067143912526, 0.6534378509385754, 0.8055892428102114, 1.6706324275158206, -1.9144292516764323, -0.7130745443719025, 0.7132261507336397, 1.0879917537219244, 1.1428274385647352, 1.1052680624561735, -0.5017274571551676, -0.15486630452781308, -0.8648382795499453, -0.821833223346524, -0.9012730792736585, 0.6915059079700464, 0.9054765379391744, -1.2976938178943378, -2.53565236236453, -0.1468560126376463, 0.7415838145374852, 0.967262105578842, -0.35875049228952205, 0.8406410200429533, -0.03382970251039049, 0.8707112942651388, -1.4962151290981338, -0.07482657180383757, -2.0160590596318197, 0.3736129818346688, 1.6452214643540364, 1.7483148573896086, -1.4782529280436036, -0.1851835324174723, 0.07377001332300753, 0.36261478198089586, 0.8651189780670078, 0.6850474548860096, -0.7604619533012311, 0.6555732095574617, -0.2688445662091309, 2.284918084356147, -0.8340569074513916, 1.6567735333149083, 0.2924799350386549, -0.2735576072888158, 0.0661601600306233, -0.6484239909056564, 0.3878976614822351, -0.7011706453361762, 0.2833166864898419, 0.46257195200648377, 0.5553702337250296, -0.5010959672124472, -0.14217198426981456, 0.030937629523973564, -0.7574771731657584, 0.45118790988184454, 0.8219555020946994, 0.5957135274819632, 0.296850683691185, -0.12687894891679846, 1.6095887390402563, -0.4527220315030091, 0.971845763811533, 0.6888768190349028, 1.190978115499409, 1.553954249377355, -0.12605990653637028, 1.3525180232497602, 0.721154005304942, -1.9836464415088655, -0.7479971966715627, -0.06669017642695914, -0.9289839979546476, 0.4778549545203271, 0.28213164182506856, -1.1155992489230353, 0.4085009469861413]}, {\"line\": {\"color\": \"rgba(55, 128, 191, 1.0)\", \"dash\": \"solid\", \"shape\": \"linear\", \"width\": 1.3}, \"mode\": \"lines\", \"name\": \"B\", \"text\": \"\", \"type\": \"scatter\", \"x\": [0, 1, 2, 3, 4, 5, 6, 7, 8, 9, 10, 11, 12, 13, 14, 15, 16, 17, 18, 19, 20, 21, 22, 23, 24, 25, 26, 27, 28, 29, 30, 31, 32, 33, 34, 35, 36, 37, 38, 39, 40, 41, 42, 43, 44, 45, 46, 47, 48, 49, 50, 51, 52, 53, 54, 55, 56, 57, 58, 59, 60, 61, 62, 63, 64, 65, 66, 67, 68, 69, 70, 71, 72, 73, 74, 75, 76, 77, 78, 79, 80, 81, 82, 83, 84, 85, 86, 87, 88, 89, 90, 91, 92, 93, 94, 95, 96, 97, 98, 99], \"y\": [0.7323896324227073, -0.3284517281790686, -0.4510768322302432, 1.6259669689281526, 2.2430313429630293, -1.7897441106074743, 0.569351307124913, -0.64587704510535, -0.0028811213343762202, -0.6373272106113808, 1.0727062355724828, -2.952465256493198, 1.287542719369616, -1.9267498062823034, 2.0788433396371806, 0.43073404217299227, 0.26760125628746445, 1.0849032546496722, 1.3952877106807626, -0.6565850044269331, 0.3817056840001886, -0.7412006468853344, -1.1217400025261557, 0.6370813567298341, -0.5641382119507771, 0.4634853466013324, -0.8584405373757337, -0.31182260271644374, 0.3241918385448195, -1.33196541981774, -0.32846040497042905, -1.6413072197342926, 0.7173508042526268, -1.7799489677323204, -1.86186170165096, 0.10832184935546763, -1.0288381651747285, -0.545393753019585, -0.2650696867162592, 0.05143818057526999, 2.4823816265488032, -0.2501683134068812, -0.8065726277144815, 0.5501537595048036, 1.1282774686998163, -1.1732802076261226, -0.46217213437426197, -1.3361758119419371, 2.5199867408681107, 2.9378115385841097, -0.7262093920427323, 0.6618920921980426, -0.8331597086864062, -0.30617972029078255, -0.4785044386864302, -0.4311874108212848, 1.059597532517294, -1.5851754098869444, -0.039793079226337416, 0.9867240234550703, 1.3051413089883257, -0.5936323554912434, -0.7753853225554804, 0.25590786585761166, 1.547462128147694, -1.1023295816945362, -0.6222120723704447, -1.3188982035117294, -0.3093504949433165, -0.6769875209754437, -1.2333911783155913, -0.25666166671048446, -0.16532592175370936, -1.5355312465996227, -0.044051680488167134, -2.1457695866393056, 0.9910173713062925, -1.1693051260643423, 0.5160990345223325, 0.3034532039457703, 0.6409653165213176, 0.9651791752395708, -2.2583982537236387, 0.9926410629675069, 1.3397259187632276, 0.3781172112555631, 1.5690672504187282, -0.03013161830784265, 0.010106847671662566, 0.33347285351095557, 0.9112980654586149, 0.14301371449262146, -0.30880549994744216, -2.0760184562581383, -0.7149080366700209, -0.0918574051416281, 1.7923015769941466, -0.2022523157306176, 0.04800165228427791, 2.778983884871559]}, {\"connectgaps\": false, \"fill\": \"tozeroy\", \"line\": {\"color\": \"green\", \"dash\": \"solid\", \"shape\": \"linear\", \"width\": 0.5}, \"mode\": \"lines\", \"name\": \"Spread\", \"showlegend\": false, \"type\": \"scatter\", \"x\": [0, 1, 2, 3, 4, 5, 6, 7, 8, 9, 10, 11, 12, 13, 14, 15, 16, 17, 18, 19, 20, 21, 22, 23, 24, 25, 26, 27, 28, 29, 30, 31, 32, 33, 34, 35, 36, 37, 38, 39, 40, 41, 42, 43, 44, 45, 46, 47, 48, 49, 50, 51, 52, 53, 54, 55, 56, 57, 58, 59, 60, 61, 62, 63, 64, 65, 66, 67, 68, 69, 70, 71, 72, 73, 74, 75, 76, 77, 78, 79, 80, 81, 82, 83, 84, 85, 86, 87, 88, 89, 90, 91, 92, 93, 94, 95, 96, 97, 98, 99], \"xaxis\": \"x2\", \"y\": [0.4055946223366327, \"\", \"\", \"\", \"\", 1.4986065171213425, \"\", 0.3665222184490788, 0.36340637058615693, 0.38000499079826017, \"\", 2.87723126104555, \"\", 4.026561901866642, \"\", \"\", \"\", \"\", \"\", \"\", \"\", 1.0272677907978605, 1.7751778534647311, 0.16850788608037726, 2.2347706394665976, \"\", 0.14536599300383113, 1.0250487534500834, 0.7637999151771049, 2.474792858382475, 1.4337284674266026, 1.139579762579125, \"\", 0.9151106881823751, 1.040028478304436, \"\", 1.720344073144775, 1.4508702909587594, \"\", \"\", \"\", 0.9917521279443664, 1.7738347332933233, \"\", \"\", 1.1394505051157322, 1.3328834286394007, \"\", \"\", \"\", 1.0998223738774011, 0.9833293721559938, 2.5814745660760146, \"\", 0.2933209062689579, 0.5049574241442923, \"\", 2.450294387953952, 0.7248405341123471, \"\", \"\", 0.3247877892821125, 3.0603034069116277, \"\", 0.10931140516721438, 1.394809516733191, 0.34865446508162895, 1.3850583635423526, \"\", 1.0648851824576788, 0.5322205329794151, 0.5399783532003264, 0.6278978737601931, 2.090901480324652, \"\", 2.0035976023694912, \"\", 0.411827952898584, \"\", 0.5185022981489291, \"\", \"\", 2.13151930480684, 0.6169476760727495, \"\", 0.5937285525559699, \"\", 1.2211097338072516, 1.5438474017056925, \"\", 0.4412199577911453, 0.5781402908123205, \"\", 1.3280212595865755, 0.6482178602430617, \"\", \"\", 0.4843839575556862, \"\", \"\"], \"yaxis\": \"y2\"}, {\"connectgaps\": false, \"fill\": \"tozeroy\", \"line\": {\"color\": \"red\", \"dash\": \"solid\", \"shape\": \"linear\", \"width\": 0.5}, \"mode\": \"lines\", \"name\": \"Spread\", \"showlegend\": false, \"type\": \"scatter\", \"x\": [0, 1, 2, 3, 4, 5, 6, 7, 8, 9, 10, 11, 12, 13, 14, 15, 16, 17, 18, 19, 20, 21, 22, 23, 24, 25, 26, 27, 28, 29, 30, 31, 32, 33, 34, 35, 36, 37, 38, 39, 40, 41, 42, 43, 44, 45, 46, 47, 48, 49, 50, 51, 52, 53, 54, 55, 56, 57, 58, 59, 60, 61, 62, 63, 64, 65, 66, 67, 68, 69, 70, 71, 72, 73, 74, 75, 76, 77, 78, 79, 80, 81, 82, 83, 84, 85, 86, 87, 88, 89, 90, 91, 92, 93, 94, 95, 96, 97, 98, 99], \"xaxis\": \"x2\", \"y\": [\"\", -1.2227149983246681, -0.048030984050257575, -0.5409626178736366, -0.8440723188897195, \"\", -2.1564503944214013, \"\", \"\", \"\", -0.9444779337397335, \"\", -2.497324909894533, \"\", -1.8686892332731004, -0.21033560625181114, -0.5426054591445427, -1.7274785197840274, -1.3460583286514274, -0.4946862111412439, -0.8069087597709965, \"\", \"\", \"\", \"\", -2.3779145982777647, \"\", \"\", \"\", \"\", \"\", \"\", -0.8722171087804398, \"\", \"\", -1.0095949286291261, \"\", \"\", -1.0326241311780786, -2.5870905429398, -2.6292376391864494, \"\", \"\", -0.9089042517943257, -0.287636448656863, \"\", \"\", -0.16003931715619668, -2.594813312671948, -4.9538705982159295, \"\", \"\", \"\", -1.172073207752821, \"\", \"\", -0.6969827505363981, \"\", \"\", -1.7471859767563014, -0.649568099430864, \"\", \"\", -1.0899647733090032, \"\", \"\", \"\", \"\", -0.3390734959623399, \"\", \"\", \"\", \"\", \"\", -0.45704428672428005, \"\", -0.9600797417823189, \"\", -0.06491112464048798, \"\", -0.04525178903935445, -0.6683284915483858, \"\", \"\", -1.7924479502662367, \"\", -0.8801904313838254, \"\", \"\", -0.45953276004732585, \"\", \"\", -1.6748409415614234, \"\", \"\", -0.8371265928130195, -1.3144466224738194, \"\", -1.1636009012073132, -2.3704829378854178], \"yaxis\": \"y2\"}],                        {\"hovermode\": \"x\", \"legend\": {\"bgcolor\": \"#F5F6F9\", \"font\": {\"color\": \"#4D5663\"}}, \"paper_bgcolor\": \"#F5F6F9\", \"plot_bgcolor\": \"#F5F6F9\", \"template\": {\"data\": {\"bar\": [{\"error_x\": {\"color\": \"#2a3f5f\"}, \"error_y\": {\"color\": \"#2a3f5f\"}, \"marker\": {\"line\": {\"color\": \"#E5ECF6\", \"width\": 0.5}}, \"type\": \"bar\"}], \"barpolar\": [{\"marker\": {\"line\": {\"color\": \"#E5ECF6\", \"width\": 0.5}}, \"type\": \"barpolar\"}], \"carpet\": [{\"aaxis\": {\"endlinecolor\": \"#2a3f5f\", \"gridcolor\": \"white\", \"linecolor\": \"white\", \"minorgridcolor\": \"white\", \"startlinecolor\": \"#2a3f5f\"}, \"baxis\": {\"endlinecolor\": \"#2a3f5f\", \"gridcolor\": \"white\", \"linecolor\": \"white\", \"minorgridcolor\": \"white\", \"startlinecolor\": \"#2a3f5f\"}, \"type\": \"carpet\"}], \"choropleth\": [{\"colorbar\": {\"outlinewidth\": 0, \"ticks\": \"\"}, \"type\": \"choropleth\"}], \"contour\": [{\"colorbar\": {\"outlinewidth\": 0, \"ticks\": \"\"}, \"colorscale\": [[0.0, \"#0d0887\"], [0.1111111111111111, \"#46039f\"], [0.2222222222222222, \"#7201a8\"], [0.3333333333333333, \"#9c179e\"], [0.4444444444444444, \"#bd3786\"], [0.5555555555555556, \"#d8576b\"], [0.6666666666666666, \"#ed7953\"], [0.7777777777777778, \"#fb9f3a\"], [0.8888888888888888, \"#fdca26\"], [1.0, \"#f0f921\"]], \"type\": \"contour\"}], \"contourcarpet\": [{\"colorbar\": {\"outlinewidth\": 0, \"ticks\": \"\"}, \"type\": \"contourcarpet\"}], \"heatmap\": [{\"colorbar\": {\"outlinewidth\": 0, \"ticks\": \"\"}, \"colorscale\": [[0.0, \"#0d0887\"], [0.1111111111111111, \"#46039f\"], [0.2222222222222222, \"#7201a8\"], [0.3333333333333333, \"#9c179e\"], [0.4444444444444444, \"#bd3786\"], [0.5555555555555556, \"#d8576b\"], [0.6666666666666666, \"#ed7953\"], [0.7777777777777778, \"#fb9f3a\"], [0.8888888888888888, \"#fdca26\"], [1.0, \"#f0f921\"]], \"type\": \"heatmap\"}], \"heatmapgl\": [{\"colorbar\": {\"outlinewidth\": 0, \"ticks\": \"\"}, \"colorscale\": [[0.0, \"#0d0887\"], [0.1111111111111111, \"#46039f\"], [0.2222222222222222, \"#7201a8\"], [0.3333333333333333, \"#9c179e\"], [0.4444444444444444, \"#bd3786\"], [0.5555555555555556, \"#d8576b\"], [0.6666666666666666, \"#ed7953\"], [0.7777777777777778, \"#fb9f3a\"], [0.8888888888888888, \"#fdca26\"], [1.0, \"#f0f921\"]], \"type\": \"heatmapgl\"}], \"histogram\": [{\"marker\": {\"colorbar\": {\"outlinewidth\": 0, \"ticks\": \"\"}}, \"type\": \"histogram\"}], \"histogram2d\": [{\"colorbar\": {\"outlinewidth\": 0, \"ticks\": \"\"}, \"colorscale\": [[0.0, \"#0d0887\"], [0.1111111111111111, \"#46039f\"], [0.2222222222222222, \"#7201a8\"], [0.3333333333333333, \"#9c179e\"], [0.4444444444444444, \"#bd3786\"], [0.5555555555555556, \"#d8576b\"], [0.6666666666666666, \"#ed7953\"], [0.7777777777777778, \"#fb9f3a\"], [0.8888888888888888, \"#fdca26\"], [1.0, \"#f0f921\"]], \"type\": \"histogram2d\"}], \"histogram2dcontour\": [{\"colorbar\": {\"outlinewidth\": 0, \"ticks\": \"\"}, \"colorscale\": [[0.0, \"#0d0887\"], [0.1111111111111111, \"#46039f\"], [0.2222222222222222, \"#7201a8\"], [0.3333333333333333, \"#9c179e\"], [0.4444444444444444, \"#bd3786\"], [0.5555555555555556, \"#d8576b\"], [0.6666666666666666, \"#ed7953\"], [0.7777777777777778, \"#fb9f3a\"], [0.8888888888888888, \"#fdca26\"], [1.0, \"#f0f921\"]], \"type\": \"histogram2dcontour\"}], \"mesh3d\": [{\"colorbar\": {\"outlinewidth\": 0, \"ticks\": \"\"}, \"type\": \"mesh3d\"}], \"parcoords\": [{\"line\": {\"colorbar\": {\"outlinewidth\": 0, \"ticks\": \"\"}}, \"type\": \"parcoords\"}], \"pie\": [{\"automargin\": true, \"type\": \"pie\"}], \"scatter\": [{\"marker\": {\"colorbar\": {\"outlinewidth\": 0, \"ticks\": \"\"}}, \"type\": \"scatter\"}], \"scatter3d\": [{\"line\": {\"colorbar\": {\"outlinewidth\": 0, \"ticks\": \"\"}}, \"marker\": {\"colorbar\": {\"outlinewidth\": 0, \"ticks\": \"\"}}, \"type\": \"scatter3d\"}], \"scattercarpet\": [{\"marker\": {\"colorbar\": {\"outlinewidth\": 0, \"ticks\": \"\"}}, \"type\": \"scattercarpet\"}], \"scattergeo\": [{\"marker\": {\"colorbar\": {\"outlinewidth\": 0, \"ticks\": \"\"}}, \"type\": \"scattergeo\"}], \"scattergl\": [{\"marker\": {\"colorbar\": {\"outlinewidth\": 0, \"ticks\": \"\"}}, \"type\": \"scattergl\"}], \"scattermapbox\": [{\"marker\": {\"colorbar\": {\"outlinewidth\": 0, \"ticks\": \"\"}}, \"type\": \"scattermapbox\"}], \"scatterpolar\": [{\"marker\": {\"colorbar\": {\"outlinewidth\": 0, \"ticks\": \"\"}}, \"type\": \"scatterpolar\"}], \"scatterpolargl\": [{\"marker\": {\"colorbar\": {\"outlinewidth\": 0, \"ticks\": \"\"}}, \"type\": \"scatterpolargl\"}], \"scatterternary\": [{\"marker\": {\"colorbar\": {\"outlinewidth\": 0, \"ticks\": \"\"}}, \"type\": \"scatterternary\"}], \"surface\": [{\"colorbar\": {\"outlinewidth\": 0, \"ticks\": \"\"}, \"colorscale\": [[0.0, \"#0d0887\"], [0.1111111111111111, \"#46039f\"], [0.2222222222222222, \"#7201a8\"], [0.3333333333333333, \"#9c179e\"], [0.4444444444444444, \"#bd3786\"], [0.5555555555555556, \"#d8576b\"], [0.6666666666666666, \"#ed7953\"], [0.7777777777777778, \"#fb9f3a\"], [0.8888888888888888, \"#fdca26\"], [1.0, \"#f0f921\"]], \"type\": \"surface\"}], \"table\": [{\"cells\": {\"fill\": {\"color\": \"#EBF0F8\"}, \"line\": {\"color\": \"white\"}}, \"header\": {\"fill\": {\"color\": \"#C8D4E3\"}, \"line\": {\"color\": \"white\"}}, \"type\": \"table\"}]}, \"layout\": {\"annotationdefaults\": {\"arrowcolor\": \"#2a3f5f\", \"arrowhead\": 0, \"arrowwidth\": 1}, \"autotypenumbers\": \"strict\", \"coloraxis\": {\"colorbar\": {\"outlinewidth\": 0, \"ticks\": \"\"}}, \"colorscale\": {\"diverging\": [[0, \"#8e0152\"], [0.1, \"#c51b7d\"], [0.2, \"#de77ae\"], [0.3, \"#f1b6da\"], [0.4, \"#fde0ef\"], [0.5, \"#f7f7f7\"], [0.6, \"#e6f5d0\"], [0.7, \"#b8e186\"], [0.8, \"#7fbc41\"], [0.9, \"#4d9221\"], [1, \"#276419\"]], \"sequential\": [[0.0, \"#0d0887\"], [0.1111111111111111, \"#46039f\"], [0.2222222222222222, \"#7201a8\"], [0.3333333333333333, \"#9c179e\"], [0.4444444444444444, \"#bd3786\"], [0.5555555555555556, \"#d8576b\"], [0.6666666666666666, \"#ed7953\"], [0.7777777777777778, \"#fb9f3a\"], [0.8888888888888888, \"#fdca26\"], [1.0, \"#f0f921\"]], \"sequentialminus\": [[0.0, \"#0d0887\"], [0.1111111111111111, \"#46039f\"], [0.2222222222222222, \"#7201a8\"], [0.3333333333333333, \"#9c179e\"], [0.4444444444444444, \"#bd3786\"], [0.5555555555555556, \"#d8576b\"], [0.6666666666666666, \"#ed7953\"], [0.7777777777777778, \"#fb9f3a\"], [0.8888888888888888, \"#fdca26\"], [1.0, \"#f0f921\"]]}, \"colorway\": [\"#636efa\", \"#EF553B\", \"#00cc96\", \"#ab63fa\", \"#FFA15A\", \"#19d3f3\", \"#FF6692\", \"#B6E880\", \"#FF97FF\", \"#FECB52\"], \"font\": {\"color\": \"#2a3f5f\"}, \"geo\": {\"bgcolor\": \"white\", \"lakecolor\": \"white\", \"landcolor\": \"#E5ECF6\", \"showlakes\": true, \"showland\": true, \"subunitcolor\": \"white\"}, \"hoverlabel\": {\"align\": \"left\"}, \"hovermode\": \"closest\", \"mapbox\": {\"style\": \"light\"}, \"paper_bgcolor\": \"white\", \"plot_bgcolor\": \"#E5ECF6\", \"polar\": {\"angularaxis\": {\"gridcolor\": \"white\", \"linecolor\": \"white\", \"ticks\": \"\"}, \"bgcolor\": \"#E5ECF6\", \"radialaxis\": {\"gridcolor\": \"white\", \"linecolor\": \"white\", \"ticks\": \"\"}}, \"scene\": {\"xaxis\": {\"backgroundcolor\": \"#E5ECF6\", \"gridcolor\": \"white\", \"gridwidth\": 2, \"linecolor\": \"white\", \"showbackground\": true, \"ticks\": \"\", \"zerolinecolor\": \"white\"}, \"yaxis\": {\"backgroundcolor\": \"#E5ECF6\", \"gridcolor\": \"white\", \"gridwidth\": 2, \"linecolor\": \"white\", \"showbackground\": true, \"ticks\": \"\", \"zerolinecolor\": \"white\"}, \"zaxis\": {\"backgroundcolor\": \"#E5ECF6\", \"gridcolor\": \"white\", \"gridwidth\": 2, \"linecolor\": \"white\", \"showbackground\": true, \"ticks\": \"\", \"zerolinecolor\": \"white\"}}, \"shapedefaults\": {\"line\": {\"color\": \"#2a3f5f\"}}, \"ternary\": {\"aaxis\": {\"gridcolor\": \"white\", \"linecolor\": \"white\", \"ticks\": \"\"}, \"baxis\": {\"gridcolor\": \"white\", \"linecolor\": \"white\", \"ticks\": \"\"}, \"bgcolor\": \"#E5ECF6\", \"caxis\": {\"gridcolor\": \"white\", \"linecolor\": \"white\", \"ticks\": \"\"}}, \"title\": {\"x\": 0.05}, \"xaxis\": {\"automargin\": true, \"gridcolor\": \"white\", \"linecolor\": \"white\", \"ticks\": \"\", \"title\": {\"standoff\": 15}, \"zerolinecolor\": \"white\", \"zerolinewidth\": 2}, \"yaxis\": {\"automargin\": true, \"gridcolor\": \"white\", \"linecolor\": \"white\", \"ticks\": \"\", \"title\": {\"standoff\": 15}, \"zerolinecolor\": \"white\", \"zerolinewidth\": 2}}}, \"title\": {\"font\": {\"color\": \"#4D5663\"}}, \"xaxis\": {\"gridcolor\": \"#E1E5ED\", \"showgrid\": true, \"tickfont\": {\"color\": \"#4D5663\"}, \"title\": {\"font\": {\"color\": \"#4D5663\"}, \"text\": \"\"}, \"zerolinecolor\": \"#E1E5ED\"}, \"xaxis2\": {\"anchor\": \"y2\", \"gridcolor\": \"#E1E5ED\", \"showgrid\": true, \"showticklabels\": false, \"tickfont\": {\"color\": \"#4D5663\"}, \"title\": {\"font\": {\"color\": \"#4D5663\"}, \"text\": \"\"}, \"zerolinecolor\": \"#E1E5ED\"}, \"yaxis\": {\"domain\": [0.3, 1], \"gridcolor\": \"#E1E5ED\", \"showgrid\": true, \"tickfont\": {\"color\": \"#4D5663\"}, \"title\": {\"font\": {\"color\": \"#4D5663\"}, \"text\": \"\"}, \"zerolinecolor\": \"#E1E5ED\"}, \"yaxis2\": {\"domain\": [0, 0.25], \"gridcolor\": \"#E1E5ED\", \"showgrid\": true, \"tickfont\": {\"color\": \"#4D5663\"}, \"title\": {\"font\": {\"color\": \"#4D5663\"}, \"text\": \"Spread\"}, \"zerolinecolor\": \"#E1E5ED\"}},                        {\"showLink\": true, \"linkText\": \"Export to plot.ly\", \"plotlyServerURL\": \"https://plot.ly\", \"responsive\": true}                    ).then(function(){\n",
       "                            \n",
       "var gd = document.getElementById('d7f9fa29-ffe9-4ccb-9732-2c88601f833c');\n",
       "var x = new MutationObserver(function (mutations, observer) {{\n",
       "        var display = window.getComputedStyle(gd).display;\n",
       "        if (!display || display === 'none') {{\n",
       "            console.log([gd, 'removed!']);\n",
       "            Plotly.purge(gd);\n",
       "            observer.disconnect();\n",
       "        }}\n",
       "}});\n",
       "\n",
       "// Listen for the removal of the full notebook cells\n",
       "var notebookContainer = gd.closest('#notebook-container');\n",
       "if (notebookContainer) {{\n",
       "    x.observe(notebookContainer, {childList: true});\n",
       "}}\n",
       "\n",
       "// Listen for the clearing of the current output cell\n",
       "var outputEl = gd.closest('.output');\n",
       "if (outputEl) {{\n",
       "    x.observe(outputEl, {childList: true});\n",
       "}}\n",
       "\n",
       "                        })                };                });            </script>        </div>"
      ]
     },
     "metadata": {},
     "output_type": "display_data"
    }
   ],
   "source": [
    "df[['A','B']].iplot(kind='spread')"
   ]
  },
  {
   "cell_type": "code",
   "execution_count": 14,
   "id": "46aca52a",
   "metadata": {},
   "outputs": [
    {
     "data": {
      "application/vnd.plotly.v1+json": {
       "config": {
        "linkText": "Export to plot.ly",
        "plotlyServerURL": "https://plot.ly",
        "showLink": true
       },
       "data": [
        {
         "line": {
          "color": "rgba(255, 153, 51, 1.0)",
          "dash": "solid",
          "shape": "linear",
          "width": 1.3
         },
         "mode": "lines",
         "name": "A",
         "text": "",
         "type": "scatter",
         "x": [
          0,
          1,
          2,
          3,
          4,
          5,
          6,
          7,
          8,
          9,
          10,
          11,
          12,
          13,
          14,
          15,
          16,
          17,
          18,
          19,
          20,
          21,
          22,
          23,
          24,
          25,
          26,
          27,
          28,
          29,
          30,
          31,
          32,
          33,
          34,
          35,
          36,
          37,
          38,
          39,
          40,
          41,
          42,
          43,
          44,
          45,
          46,
          47,
          48,
          49,
          50,
          51,
          52,
          53,
          54,
          55,
          56,
          57,
          58,
          59,
          60,
          61,
          62,
          63,
          64,
          65,
          66,
          67,
          68,
          69,
          70,
          71,
          72,
          73,
          74,
          75,
          76,
          77,
          78,
          79,
          80,
          81,
          82,
          83,
          84,
          85,
          86,
          87,
          88,
          89,
          90,
          91,
          92,
          93,
          94,
          95,
          96,
          97,
          98,
          99
         ],
         "y": [
          1.13798425475934,
          -1.5511667265037368,
          -0.49910781628050077,
          1.085004351054516,
          1.3989590240733099,
          -0.2911375934861317,
          -1.5870990872964883,
          -0.27935482665627126,
          0.3605252492517807,
          -0.2573222198131206,
          0.1282283018327493,
          -0.07523399544764772,
          -1.209782190524917,
          2.0998120955843382,
          0.21015410636408016,
          0.22039843592118114,
          -0.2750042028570783,
          -0.6425752651343553,
          0.04922938202933533,
          -1.151271215568177,
          -0.42520307577080796,
          0.286067143912526,
          0.6534378509385754,
          0.8055892428102114,
          1.6706324275158206,
          -1.9144292516764323,
          -0.7130745443719025,
          0.7132261507336397,
          1.0879917537219244,
          1.1428274385647352,
          1.1052680624561735,
          -0.5017274571551676,
          -0.15486630452781308,
          -0.8648382795499453,
          -0.821833223346524,
          -0.9012730792736585,
          0.6915059079700464,
          0.9054765379391744,
          -1.2976938178943378,
          -2.53565236236453,
          -0.1468560126376463,
          0.7415838145374852,
          0.967262105578842,
          -0.35875049228952205,
          0.8406410200429533,
          -0.03382970251039049,
          0.8707112942651388,
          -1.4962151290981338,
          -0.07482657180383757,
          -2.0160590596318197,
          0.3736129818346688,
          1.6452214643540364,
          1.7483148573896086,
          -1.4782529280436036,
          -0.1851835324174723,
          0.07377001332300753,
          0.36261478198089586,
          0.8651189780670078,
          0.6850474548860096,
          -0.7604619533012311,
          0.6555732095574617,
          -0.2688445662091309,
          2.284918084356147,
          -0.8340569074513916,
          1.6567735333149083,
          0.2924799350386549,
          -0.2735576072888158,
          0.0661601600306233,
          -0.6484239909056564,
          0.3878976614822351,
          -0.7011706453361762,
          0.2833166864898419,
          0.46257195200648377,
          0.5553702337250296,
          -0.5010959672124472,
          -0.14217198426981456,
          0.030937629523973564,
          -0.7574771731657584,
          0.45118790988184454,
          0.8219555020946994,
          0.5957135274819632,
          0.296850683691185,
          -0.12687894891679846,
          1.6095887390402563,
          -0.4527220315030091,
          0.971845763811533,
          0.6888768190349028,
          1.190978115499409,
          1.553954249377355,
          -0.12605990653637028,
          1.3525180232497602,
          0.721154005304942,
          -1.9836464415088655,
          -0.7479971966715627,
          -0.06669017642695914,
          -0.9289839979546476,
          0.4778549545203271,
          0.28213164182506856,
          -1.1155992489230353,
          0.4085009469861413
         ]
        },
        {
         "line": {
          "color": "rgba(55, 128, 191, 1.0)",
          "dash": "solid",
          "shape": "linear",
          "width": 1.3
         },
         "mode": "lines",
         "name": "B",
         "text": "",
         "type": "scatter",
         "x": [
          0,
          1,
          2,
          3,
          4,
          5,
          6,
          7,
          8,
          9,
          10,
          11,
          12,
          13,
          14,
          15,
          16,
          17,
          18,
          19,
          20,
          21,
          22,
          23,
          24,
          25,
          26,
          27,
          28,
          29,
          30,
          31,
          32,
          33,
          34,
          35,
          36,
          37,
          38,
          39,
          40,
          41,
          42,
          43,
          44,
          45,
          46,
          47,
          48,
          49,
          50,
          51,
          52,
          53,
          54,
          55,
          56,
          57,
          58,
          59,
          60,
          61,
          62,
          63,
          64,
          65,
          66,
          67,
          68,
          69,
          70,
          71,
          72,
          73,
          74,
          75,
          76,
          77,
          78,
          79,
          80,
          81,
          82,
          83,
          84,
          85,
          86,
          87,
          88,
          89,
          90,
          91,
          92,
          93,
          94,
          95,
          96,
          97,
          98,
          99
         ],
         "y": [
          0.7323896324227073,
          -0.3284517281790686,
          -0.4510768322302432,
          1.6259669689281526,
          2.2430313429630293,
          -1.7897441106074743,
          0.569351307124913,
          -0.64587704510535,
          -0.0028811213343762202,
          -0.6373272106113808,
          1.0727062355724828,
          -2.952465256493198,
          1.287542719369616,
          -1.9267498062823034,
          2.0788433396371806,
          0.43073404217299227,
          0.26760125628746445,
          1.0849032546496722,
          1.3952877106807626,
          -0.6565850044269331,
          0.3817056840001886,
          -0.7412006468853344,
          -1.1217400025261557,
          0.6370813567298341,
          -0.5641382119507771,
          0.4634853466013324,
          -0.8584405373757337,
          -0.31182260271644374,
          0.3241918385448195,
          -1.33196541981774,
          -0.32846040497042905,
          -1.6413072197342926,
          0.7173508042526268,
          -1.7799489677323204,
          -1.86186170165096,
          0.10832184935546763,
          -1.0288381651747285,
          -0.545393753019585,
          -0.2650696867162592,
          0.05143818057526999,
          2.4823816265488032,
          -0.2501683134068812,
          -0.8065726277144815,
          0.5501537595048036,
          1.1282774686998163,
          -1.1732802076261226,
          -0.46217213437426197,
          -1.3361758119419371,
          2.5199867408681107,
          2.9378115385841097,
          -0.7262093920427323,
          0.6618920921980426,
          -0.8331597086864062,
          -0.30617972029078255,
          -0.4785044386864302,
          -0.4311874108212848,
          1.059597532517294,
          -1.5851754098869444,
          -0.039793079226337416,
          0.9867240234550703,
          1.3051413089883257,
          -0.5936323554912434,
          -0.7753853225554804,
          0.25590786585761166,
          1.547462128147694,
          -1.1023295816945362,
          -0.6222120723704447,
          -1.3188982035117294,
          -0.3093504949433165,
          -0.6769875209754437,
          -1.2333911783155913,
          -0.25666166671048446,
          -0.16532592175370936,
          -1.5355312465996227,
          -0.044051680488167134,
          -2.1457695866393056,
          0.9910173713062925,
          -1.1693051260643423,
          0.5160990345223325,
          0.3034532039457703,
          0.6409653165213176,
          0.9651791752395708,
          -2.2583982537236387,
          0.9926410629675069,
          1.3397259187632276,
          0.3781172112555631,
          1.5690672504187282,
          -0.03013161830784265,
          0.010106847671662566,
          0.33347285351095557,
          0.9112980654586149,
          0.14301371449262146,
          -0.30880549994744216,
          -2.0760184562581383,
          -0.7149080366700209,
          -0.0918574051416281,
          1.7923015769941466,
          -0.2022523157306176,
          0.04800165228427791,
          2.778983884871559
         ]
        }
       ],
       "layout": {
        "legend": {
         "bgcolor": "#F5F6F9",
         "font": {
          "color": "#4D5663"
         }
        },
        "paper_bgcolor": "#F5F6F9",
        "plot_bgcolor": "#F5F6F9",
        "template": {
         "data": {
          "bar": [
           {
            "error_x": {
             "color": "#2a3f5f"
            },
            "error_y": {
             "color": "#2a3f5f"
            },
            "marker": {
             "line": {
              "color": "#E5ECF6",
              "width": 0.5
             }
            },
            "type": "bar"
           }
          ],
          "barpolar": [
           {
            "marker": {
             "line": {
              "color": "#E5ECF6",
              "width": 0.5
             }
            },
            "type": "barpolar"
           }
          ],
          "carpet": [
           {
            "aaxis": {
             "endlinecolor": "#2a3f5f",
             "gridcolor": "white",
             "linecolor": "white",
             "minorgridcolor": "white",
             "startlinecolor": "#2a3f5f"
            },
            "baxis": {
             "endlinecolor": "#2a3f5f",
             "gridcolor": "white",
             "linecolor": "white",
             "minorgridcolor": "white",
             "startlinecolor": "#2a3f5f"
            },
            "type": "carpet"
           }
          ],
          "choropleth": [
           {
            "colorbar": {
             "outlinewidth": 0,
             "ticks": ""
            },
            "type": "choropleth"
           }
          ],
          "contour": [
           {
            "colorbar": {
             "outlinewidth": 0,
             "ticks": ""
            },
            "colorscale": [
             [
              0,
              "#0d0887"
             ],
             [
              0.1111111111111111,
              "#46039f"
             ],
             [
              0.2222222222222222,
              "#7201a8"
             ],
             [
              0.3333333333333333,
              "#9c179e"
             ],
             [
              0.4444444444444444,
              "#bd3786"
             ],
             [
              0.5555555555555556,
              "#d8576b"
             ],
             [
              0.6666666666666666,
              "#ed7953"
             ],
             [
              0.7777777777777778,
              "#fb9f3a"
             ],
             [
              0.8888888888888888,
              "#fdca26"
             ],
             [
              1,
              "#f0f921"
             ]
            ],
            "type": "contour"
           }
          ],
          "contourcarpet": [
           {
            "colorbar": {
             "outlinewidth": 0,
             "ticks": ""
            },
            "type": "contourcarpet"
           }
          ],
          "heatmap": [
           {
            "colorbar": {
             "outlinewidth": 0,
             "ticks": ""
            },
            "colorscale": [
             [
              0,
              "#0d0887"
             ],
             [
              0.1111111111111111,
              "#46039f"
             ],
             [
              0.2222222222222222,
              "#7201a8"
             ],
             [
              0.3333333333333333,
              "#9c179e"
             ],
             [
              0.4444444444444444,
              "#bd3786"
             ],
             [
              0.5555555555555556,
              "#d8576b"
             ],
             [
              0.6666666666666666,
              "#ed7953"
             ],
             [
              0.7777777777777778,
              "#fb9f3a"
             ],
             [
              0.8888888888888888,
              "#fdca26"
             ],
             [
              1,
              "#f0f921"
             ]
            ],
            "type": "heatmap"
           }
          ],
          "heatmapgl": [
           {
            "colorbar": {
             "outlinewidth": 0,
             "ticks": ""
            },
            "colorscale": [
             [
              0,
              "#0d0887"
             ],
             [
              0.1111111111111111,
              "#46039f"
             ],
             [
              0.2222222222222222,
              "#7201a8"
             ],
             [
              0.3333333333333333,
              "#9c179e"
             ],
             [
              0.4444444444444444,
              "#bd3786"
             ],
             [
              0.5555555555555556,
              "#d8576b"
             ],
             [
              0.6666666666666666,
              "#ed7953"
             ],
             [
              0.7777777777777778,
              "#fb9f3a"
             ],
             [
              0.8888888888888888,
              "#fdca26"
             ],
             [
              1,
              "#f0f921"
             ]
            ],
            "type": "heatmapgl"
           }
          ],
          "histogram": [
           {
            "marker": {
             "colorbar": {
              "outlinewidth": 0,
              "ticks": ""
             }
            },
            "type": "histogram"
           }
          ],
          "histogram2d": [
           {
            "colorbar": {
             "outlinewidth": 0,
             "ticks": ""
            },
            "colorscale": [
             [
              0,
              "#0d0887"
             ],
             [
              0.1111111111111111,
              "#46039f"
             ],
             [
              0.2222222222222222,
              "#7201a8"
             ],
             [
              0.3333333333333333,
              "#9c179e"
             ],
             [
              0.4444444444444444,
              "#bd3786"
             ],
             [
              0.5555555555555556,
              "#d8576b"
             ],
             [
              0.6666666666666666,
              "#ed7953"
             ],
             [
              0.7777777777777778,
              "#fb9f3a"
             ],
             [
              0.8888888888888888,
              "#fdca26"
             ],
             [
              1,
              "#f0f921"
             ]
            ],
            "type": "histogram2d"
           }
          ],
          "histogram2dcontour": [
           {
            "colorbar": {
             "outlinewidth": 0,
             "ticks": ""
            },
            "colorscale": [
             [
              0,
              "#0d0887"
             ],
             [
              0.1111111111111111,
              "#46039f"
             ],
             [
              0.2222222222222222,
              "#7201a8"
             ],
             [
              0.3333333333333333,
              "#9c179e"
             ],
             [
              0.4444444444444444,
              "#bd3786"
             ],
             [
              0.5555555555555556,
              "#d8576b"
             ],
             [
              0.6666666666666666,
              "#ed7953"
             ],
             [
              0.7777777777777778,
              "#fb9f3a"
             ],
             [
              0.8888888888888888,
              "#fdca26"
             ],
             [
              1,
              "#f0f921"
             ]
            ],
            "type": "histogram2dcontour"
           }
          ],
          "mesh3d": [
           {
            "colorbar": {
             "outlinewidth": 0,
             "ticks": ""
            },
            "type": "mesh3d"
           }
          ],
          "parcoords": [
           {
            "line": {
             "colorbar": {
              "outlinewidth": 0,
              "ticks": ""
             }
            },
            "type": "parcoords"
           }
          ],
          "pie": [
           {
            "automargin": true,
            "type": "pie"
           }
          ],
          "scatter": [
           {
            "marker": {
             "colorbar": {
              "outlinewidth": 0,
              "ticks": ""
             }
            },
            "type": "scatter"
           }
          ],
          "scatter3d": [
           {
            "line": {
             "colorbar": {
              "outlinewidth": 0,
              "ticks": ""
             }
            },
            "marker": {
             "colorbar": {
              "outlinewidth": 0,
              "ticks": ""
             }
            },
            "type": "scatter3d"
           }
          ],
          "scattercarpet": [
           {
            "marker": {
             "colorbar": {
              "outlinewidth": 0,
              "ticks": ""
             }
            },
            "type": "scattercarpet"
           }
          ],
          "scattergeo": [
           {
            "marker": {
             "colorbar": {
              "outlinewidth": 0,
              "ticks": ""
             }
            },
            "type": "scattergeo"
           }
          ],
          "scattergl": [
           {
            "marker": {
             "colorbar": {
              "outlinewidth": 0,
              "ticks": ""
             }
            },
            "type": "scattergl"
           }
          ],
          "scattermapbox": [
           {
            "marker": {
             "colorbar": {
              "outlinewidth": 0,
              "ticks": ""
             }
            },
            "type": "scattermapbox"
           }
          ],
          "scatterpolar": [
           {
            "marker": {
             "colorbar": {
              "outlinewidth": 0,
              "ticks": ""
             }
            },
            "type": "scatterpolar"
           }
          ],
          "scatterpolargl": [
           {
            "marker": {
             "colorbar": {
              "outlinewidth": 0,
              "ticks": ""
             }
            },
            "type": "scatterpolargl"
           }
          ],
          "scatterternary": [
           {
            "marker": {
             "colorbar": {
              "outlinewidth": 0,
              "ticks": ""
             }
            },
            "type": "scatterternary"
           }
          ],
          "surface": [
           {
            "colorbar": {
             "outlinewidth": 0,
             "ticks": ""
            },
            "colorscale": [
             [
              0,
              "#0d0887"
             ],
             [
              0.1111111111111111,
              "#46039f"
             ],
             [
              0.2222222222222222,
              "#7201a8"
             ],
             [
              0.3333333333333333,
              "#9c179e"
             ],
             [
              0.4444444444444444,
              "#bd3786"
             ],
             [
              0.5555555555555556,
              "#d8576b"
             ],
             [
              0.6666666666666666,
              "#ed7953"
             ],
             [
              0.7777777777777778,
              "#fb9f3a"
             ],
             [
              0.8888888888888888,
              "#fdca26"
             ],
             [
              1,
              "#f0f921"
             ]
            ],
            "type": "surface"
           }
          ],
          "table": [
           {
            "cells": {
             "fill": {
              "color": "#EBF0F8"
             },
             "line": {
              "color": "white"
             }
            },
            "header": {
             "fill": {
              "color": "#C8D4E3"
             },
             "line": {
              "color": "white"
             }
            },
            "type": "table"
           }
          ]
         },
         "layout": {
          "annotationdefaults": {
           "arrowcolor": "#2a3f5f",
           "arrowhead": 0,
           "arrowwidth": 1
          },
          "autotypenumbers": "strict",
          "coloraxis": {
           "colorbar": {
            "outlinewidth": 0,
            "ticks": ""
           }
          },
          "colorscale": {
           "diverging": [
            [
             0,
             "#8e0152"
            ],
            [
             0.1,
             "#c51b7d"
            ],
            [
             0.2,
             "#de77ae"
            ],
            [
             0.3,
             "#f1b6da"
            ],
            [
             0.4,
             "#fde0ef"
            ],
            [
             0.5,
             "#f7f7f7"
            ],
            [
             0.6,
             "#e6f5d0"
            ],
            [
             0.7,
             "#b8e186"
            ],
            [
             0.8,
             "#7fbc41"
            ],
            [
             0.9,
             "#4d9221"
            ],
            [
             1,
             "#276419"
            ]
           ],
           "sequential": [
            [
             0,
             "#0d0887"
            ],
            [
             0.1111111111111111,
             "#46039f"
            ],
            [
             0.2222222222222222,
             "#7201a8"
            ],
            [
             0.3333333333333333,
             "#9c179e"
            ],
            [
             0.4444444444444444,
             "#bd3786"
            ],
            [
             0.5555555555555556,
             "#d8576b"
            ],
            [
             0.6666666666666666,
             "#ed7953"
            ],
            [
             0.7777777777777778,
             "#fb9f3a"
            ],
            [
             0.8888888888888888,
             "#fdca26"
            ],
            [
             1,
             "#f0f921"
            ]
           ],
           "sequentialminus": [
            [
             0,
             "#0d0887"
            ],
            [
             0.1111111111111111,
             "#46039f"
            ],
            [
             0.2222222222222222,
             "#7201a8"
            ],
            [
             0.3333333333333333,
             "#9c179e"
            ],
            [
             0.4444444444444444,
             "#bd3786"
            ],
            [
             0.5555555555555556,
             "#d8576b"
            ],
            [
             0.6666666666666666,
             "#ed7953"
            ],
            [
             0.7777777777777778,
             "#fb9f3a"
            ],
            [
             0.8888888888888888,
             "#fdca26"
            ],
            [
             1,
             "#f0f921"
            ]
           ]
          },
          "colorway": [
           "#636efa",
           "#EF553B",
           "#00cc96",
           "#ab63fa",
           "#FFA15A",
           "#19d3f3",
           "#FF6692",
           "#B6E880",
           "#FF97FF",
           "#FECB52"
          ],
          "font": {
           "color": "#2a3f5f"
          },
          "geo": {
           "bgcolor": "white",
           "lakecolor": "white",
           "landcolor": "#E5ECF6",
           "showlakes": true,
           "showland": true,
           "subunitcolor": "white"
          },
          "hoverlabel": {
           "align": "left"
          },
          "hovermode": "closest",
          "mapbox": {
           "style": "light"
          },
          "paper_bgcolor": "white",
          "plot_bgcolor": "#E5ECF6",
          "polar": {
           "angularaxis": {
            "gridcolor": "white",
            "linecolor": "white",
            "ticks": ""
           },
           "bgcolor": "#E5ECF6",
           "radialaxis": {
            "gridcolor": "white",
            "linecolor": "white",
            "ticks": ""
           }
          },
          "scene": {
           "xaxis": {
            "backgroundcolor": "#E5ECF6",
            "gridcolor": "white",
            "gridwidth": 2,
            "linecolor": "white",
            "showbackground": true,
            "ticks": "",
            "zerolinecolor": "white"
           },
           "yaxis": {
            "backgroundcolor": "#E5ECF6",
            "gridcolor": "white",
            "gridwidth": 2,
            "linecolor": "white",
            "showbackground": true,
            "ticks": "",
            "zerolinecolor": "white"
           },
           "zaxis": {
            "backgroundcolor": "#E5ECF6",
            "gridcolor": "white",
            "gridwidth": 2,
            "linecolor": "white",
            "showbackground": true,
            "ticks": "",
            "zerolinecolor": "white"
           }
          },
          "shapedefaults": {
           "line": {
            "color": "#2a3f5f"
           }
          },
          "ternary": {
           "aaxis": {
            "gridcolor": "white",
            "linecolor": "white",
            "ticks": ""
           },
           "baxis": {
            "gridcolor": "white",
            "linecolor": "white",
            "ticks": ""
           },
           "bgcolor": "#E5ECF6",
           "caxis": {
            "gridcolor": "white",
            "linecolor": "white",
            "ticks": ""
           }
          },
          "title": {
           "x": 0.05
          },
          "xaxis": {
           "automargin": true,
           "gridcolor": "white",
           "linecolor": "white",
           "ticks": "",
           "title": {
            "standoff": 15
           },
           "zerolinecolor": "white",
           "zerolinewidth": 2
          },
          "yaxis": {
           "automargin": true,
           "gridcolor": "white",
           "linecolor": "white",
           "ticks": "",
           "title": {
            "standoff": 15
           },
           "zerolinecolor": "white",
           "zerolinewidth": 2
          }
         }
        },
        "title": {
         "font": {
          "color": "#4D5663"
         }
        },
        "xaxis": {
         "gridcolor": "#E1E5ED",
         "showgrid": true,
         "tickfont": {
          "color": "#4D5663"
         },
         "title": {
          "font": {
           "color": "#4D5663"
          },
          "text": ""
         },
         "zerolinecolor": "#E1E5ED"
        },
        "yaxis": {
         "gridcolor": "#E1E5ED",
         "showgrid": true,
         "tickfont": {
          "color": "#4D5663"
         },
         "title": {
          "font": {
           "color": "#4D5663"
          },
          "text": ""
         },
         "zerolinecolor": "#E1E5ED"
        }
       }
      },
      "text/html": [
       "<div>                            <div id=\"06b220c7-077e-42ca-ba68-f0fadfd7c426\" class=\"plotly-graph-div\" style=\"height:525px; width:100%;\"></div>            <script type=\"text/javascript\">                require([\"plotly\"], function(Plotly) {                    window.PLOTLYENV=window.PLOTLYENV || {};\n",
       "                    window.PLOTLYENV.BASE_URL='https://plot.ly';                                    if (document.getElementById(\"06b220c7-077e-42ca-ba68-f0fadfd7c426\")) {                    Plotly.newPlot(                        \"06b220c7-077e-42ca-ba68-f0fadfd7c426\",                        [{\"line\": {\"color\": \"rgba(255, 153, 51, 1.0)\", \"dash\": \"solid\", \"shape\": \"linear\", \"width\": 1.3}, \"mode\": \"lines\", \"name\": \"A\", \"text\": \"\", \"type\": \"scatter\", \"x\": [0, 1, 2, 3, 4, 5, 6, 7, 8, 9, 10, 11, 12, 13, 14, 15, 16, 17, 18, 19, 20, 21, 22, 23, 24, 25, 26, 27, 28, 29, 30, 31, 32, 33, 34, 35, 36, 37, 38, 39, 40, 41, 42, 43, 44, 45, 46, 47, 48, 49, 50, 51, 52, 53, 54, 55, 56, 57, 58, 59, 60, 61, 62, 63, 64, 65, 66, 67, 68, 69, 70, 71, 72, 73, 74, 75, 76, 77, 78, 79, 80, 81, 82, 83, 84, 85, 86, 87, 88, 89, 90, 91, 92, 93, 94, 95, 96, 97, 98, 99], \"y\": [1.13798425475934, -1.5511667265037368, -0.49910781628050077, 1.085004351054516, 1.3989590240733099, -0.2911375934861317, -1.5870990872964883, -0.27935482665627126, 0.3605252492517807, -0.2573222198131206, 0.1282283018327493, -0.07523399544764772, -1.209782190524917, 2.0998120955843382, 0.21015410636408016, 0.22039843592118114, -0.2750042028570783, -0.6425752651343553, 0.04922938202933533, -1.151271215568177, -0.42520307577080796, 0.286067143912526, 0.6534378509385754, 0.8055892428102114, 1.6706324275158206, -1.9144292516764323, -0.7130745443719025, 0.7132261507336397, 1.0879917537219244, 1.1428274385647352, 1.1052680624561735, -0.5017274571551676, -0.15486630452781308, -0.8648382795499453, -0.821833223346524, -0.9012730792736585, 0.6915059079700464, 0.9054765379391744, -1.2976938178943378, -2.53565236236453, -0.1468560126376463, 0.7415838145374852, 0.967262105578842, -0.35875049228952205, 0.8406410200429533, -0.03382970251039049, 0.8707112942651388, -1.4962151290981338, -0.07482657180383757, -2.0160590596318197, 0.3736129818346688, 1.6452214643540364, 1.7483148573896086, -1.4782529280436036, -0.1851835324174723, 0.07377001332300753, 0.36261478198089586, 0.8651189780670078, 0.6850474548860096, -0.7604619533012311, 0.6555732095574617, -0.2688445662091309, 2.284918084356147, -0.8340569074513916, 1.6567735333149083, 0.2924799350386549, -0.2735576072888158, 0.0661601600306233, -0.6484239909056564, 0.3878976614822351, -0.7011706453361762, 0.2833166864898419, 0.46257195200648377, 0.5553702337250296, -0.5010959672124472, -0.14217198426981456, 0.030937629523973564, -0.7574771731657584, 0.45118790988184454, 0.8219555020946994, 0.5957135274819632, 0.296850683691185, -0.12687894891679846, 1.6095887390402563, -0.4527220315030091, 0.971845763811533, 0.6888768190349028, 1.190978115499409, 1.553954249377355, -0.12605990653637028, 1.3525180232497602, 0.721154005304942, -1.9836464415088655, -0.7479971966715627, -0.06669017642695914, -0.9289839979546476, 0.4778549545203271, 0.28213164182506856, -1.1155992489230353, 0.4085009469861413]}, {\"line\": {\"color\": \"rgba(55, 128, 191, 1.0)\", \"dash\": \"solid\", \"shape\": \"linear\", \"width\": 1.3}, \"mode\": \"lines\", \"name\": \"B\", \"text\": \"\", \"type\": \"scatter\", \"x\": [0, 1, 2, 3, 4, 5, 6, 7, 8, 9, 10, 11, 12, 13, 14, 15, 16, 17, 18, 19, 20, 21, 22, 23, 24, 25, 26, 27, 28, 29, 30, 31, 32, 33, 34, 35, 36, 37, 38, 39, 40, 41, 42, 43, 44, 45, 46, 47, 48, 49, 50, 51, 52, 53, 54, 55, 56, 57, 58, 59, 60, 61, 62, 63, 64, 65, 66, 67, 68, 69, 70, 71, 72, 73, 74, 75, 76, 77, 78, 79, 80, 81, 82, 83, 84, 85, 86, 87, 88, 89, 90, 91, 92, 93, 94, 95, 96, 97, 98, 99], \"y\": [0.7323896324227073, -0.3284517281790686, -0.4510768322302432, 1.6259669689281526, 2.2430313429630293, -1.7897441106074743, 0.569351307124913, -0.64587704510535, -0.0028811213343762202, -0.6373272106113808, 1.0727062355724828, -2.952465256493198, 1.287542719369616, -1.9267498062823034, 2.0788433396371806, 0.43073404217299227, 0.26760125628746445, 1.0849032546496722, 1.3952877106807626, -0.6565850044269331, 0.3817056840001886, -0.7412006468853344, -1.1217400025261557, 0.6370813567298341, -0.5641382119507771, 0.4634853466013324, -0.8584405373757337, -0.31182260271644374, 0.3241918385448195, -1.33196541981774, -0.32846040497042905, -1.6413072197342926, 0.7173508042526268, -1.7799489677323204, -1.86186170165096, 0.10832184935546763, -1.0288381651747285, -0.545393753019585, -0.2650696867162592, 0.05143818057526999, 2.4823816265488032, -0.2501683134068812, -0.8065726277144815, 0.5501537595048036, 1.1282774686998163, -1.1732802076261226, -0.46217213437426197, -1.3361758119419371, 2.5199867408681107, 2.9378115385841097, -0.7262093920427323, 0.6618920921980426, -0.8331597086864062, -0.30617972029078255, -0.4785044386864302, -0.4311874108212848, 1.059597532517294, -1.5851754098869444, -0.039793079226337416, 0.9867240234550703, 1.3051413089883257, -0.5936323554912434, -0.7753853225554804, 0.25590786585761166, 1.547462128147694, -1.1023295816945362, -0.6222120723704447, -1.3188982035117294, -0.3093504949433165, -0.6769875209754437, -1.2333911783155913, -0.25666166671048446, -0.16532592175370936, -1.5355312465996227, -0.044051680488167134, -2.1457695866393056, 0.9910173713062925, -1.1693051260643423, 0.5160990345223325, 0.3034532039457703, 0.6409653165213176, 0.9651791752395708, -2.2583982537236387, 0.9926410629675069, 1.3397259187632276, 0.3781172112555631, 1.5690672504187282, -0.03013161830784265, 0.010106847671662566, 0.33347285351095557, 0.9112980654586149, 0.14301371449262146, -0.30880549994744216, -2.0760184562581383, -0.7149080366700209, -0.0918574051416281, 1.7923015769941466, -0.2022523157306176, 0.04800165228427791, 2.778983884871559]}],                        {\"legend\": {\"bgcolor\": \"#F5F6F9\", \"font\": {\"color\": \"#4D5663\"}}, \"paper_bgcolor\": \"#F5F6F9\", \"plot_bgcolor\": \"#F5F6F9\", \"template\": {\"data\": {\"bar\": [{\"error_x\": {\"color\": \"#2a3f5f\"}, \"error_y\": {\"color\": \"#2a3f5f\"}, \"marker\": {\"line\": {\"color\": \"#E5ECF6\", \"width\": 0.5}}, \"type\": \"bar\"}], \"barpolar\": [{\"marker\": {\"line\": {\"color\": \"#E5ECF6\", \"width\": 0.5}}, \"type\": \"barpolar\"}], \"carpet\": [{\"aaxis\": {\"endlinecolor\": \"#2a3f5f\", \"gridcolor\": \"white\", \"linecolor\": \"white\", \"minorgridcolor\": \"white\", \"startlinecolor\": \"#2a3f5f\"}, \"baxis\": {\"endlinecolor\": \"#2a3f5f\", \"gridcolor\": \"white\", \"linecolor\": \"white\", \"minorgridcolor\": \"white\", \"startlinecolor\": \"#2a3f5f\"}, \"type\": \"carpet\"}], \"choropleth\": [{\"colorbar\": {\"outlinewidth\": 0, \"ticks\": \"\"}, \"type\": \"choropleth\"}], \"contour\": [{\"colorbar\": {\"outlinewidth\": 0, \"ticks\": \"\"}, \"colorscale\": [[0.0, \"#0d0887\"], [0.1111111111111111, \"#46039f\"], [0.2222222222222222, \"#7201a8\"], [0.3333333333333333, \"#9c179e\"], [0.4444444444444444, \"#bd3786\"], [0.5555555555555556, \"#d8576b\"], [0.6666666666666666, \"#ed7953\"], [0.7777777777777778, \"#fb9f3a\"], [0.8888888888888888, \"#fdca26\"], [1.0, \"#f0f921\"]], \"type\": \"contour\"}], \"contourcarpet\": [{\"colorbar\": {\"outlinewidth\": 0, \"ticks\": \"\"}, \"type\": \"contourcarpet\"}], \"heatmap\": [{\"colorbar\": {\"outlinewidth\": 0, \"ticks\": \"\"}, \"colorscale\": [[0.0, \"#0d0887\"], [0.1111111111111111, \"#46039f\"], [0.2222222222222222, \"#7201a8\"], [0.3333333333333333, \"#9c179e\"], [0.4444444444444444, \"#bd3786\"], [0.5555555555555556, \"#d8576b\"], [0.6666666666666666, \"#ed7953\"], [0.7777777777777778, \"#fb9f3a\"], [0.8888888888888888, \"#fdca26\"], [1.0, \"#f0f921\"]], \"type\": \"heatmap\"}], \"heatmapgl\": [{\"colorbar\": {\"outlinewidth\": 0, \"ticks\": \"\"}, \"colorscale\": [[0.0, \"#0d0887\"], [0.1111111111111111, \"#46039f\"], [0.2222222222222222, \"#7201a8\"], [0.3333333333333333, \"#9c179e\"], [0.4444444444444444, \"#bd3786\"], [0.5555555555555556, \"#d8576b\"], [0.6666666666666666, \"#ed7953\"], [0.7777777777777778, \"#fb9f3a\"], [0.8888888888888888, \"#fdca26\"], [1.0, \"#f0f921\"]], \"type\": \"heatmapgl\"}], \"histogram\": [{\"marker\": {\"colorbar\": {\"outlinewidth\": 0, \"ticks\": \"\"}}, \"type\": \"histogram\"}], \"histogram2d\": [{\"colorbar\": {\"outlinewidth\": 0, \"ticks\": \"\"}, \"colorscale\": [[0.0, \"#0d0887\"], [0.1111111111111111, \"#46039f\"], [0.2222222222222222, \"#7201a8\"], [0.3333333333333333, \"#9c179e\"], [0.4444444444444444, \"#bd3786\"], [0.5555555555555556, \"#d8576b\"], [0.6666666666666666, \"#ed7953\"], [0.7777777777777778, \"#fb9f3a\"], [0.8888888888888888, \"#fdca26\"], [1.0, \"#f0f921\"]], \"type\": \"histogram2d\"}], \"histogram2dcontour\": [{\"colorbar\": {\"outlinewidth\": 0, \"ticks\": \"\"}, \"colorscale\": [[0.0, \"#0d0887\"], [0.1111111111111111, \"#46039f\"], [0.2222222222222222, \"#7201a8\"], [0.3333333333333333, \"#9c179e\"], [0.4444444444444444, \"#bd3786\"], [0.5555555555555556, \"#d8576b\"], [0.6666666666666666, \"#ed7953\"], [0.7777777777777778, \"#fb9f3a\"], [0.8888888888888888, \"#fdca26\"], [1.0, \"#f0f921\"]], \"type\": \"histogram2dcontour\"}], \"mesh3d\": [{\"colorbar\": {\"outlinewidth\": 0, \"ticks\": \"\"}, \"type\": \"mesh3d\"}], \"parcoords\": [{\"line\": {\"colorbar\": {\"outlinewidth\": 0, \"ticks\": \"\"}}, \"type\": \"parcoords\"}], \"pie\": [{\"automargin\": true, \"type\": \"pie\"}], \"scatter\": [{\"marker\": {\"colorbar\": {\"outlinewidth\": 0, \"ticks\": \"\"}}, \"type\": \"scatter\"}], \"scatter3d\": [{\"line\": {\"colorbar\": {\"outlinewidth\": 0, \"ticks\": \"\"}}, \"marker\": {\"colorbar\": {\"outlinewidth\": 0, \"ticks\": \"\"}}, \"type\": \"scatter3d\"}], \"scattercarpet\": [{\"marker\": {\"colorbar\": {\"outlinewidth\": 0, \"ticks\": \"\"}}, \"type\": \"scattercarpet\"}], \"scattergeo\": [{\"marker\": {\"colorbar\": {\"outlinewidth\": 0, \"ticks\": \"\"}}, \"type\": \"scattergeo\"}], \"scattergl\": [{\"marker\": {\"colorbar\": {\"outlinewidth\": 0, \"ticks\": \"\"}}, \"type\": \"scattergl\"}], \"scattermapbox\": [{\"marker\": {\"colorbar\": {\"outlinewidth\": 0, \"ticks\": \"\"}}, \"type\": \"scattermapbox\"}], \"scatterpolar\": [{\"marker\": {\"colorbar\": {\"outlinewidth\": 0, \"ticks\": \"\"}}, \"type\": \"scatterpolar\"}], \"scatterpolargl\": [{\"marker\": {\"colorbar\": {\"outlinewidth\": 0, \"ticks\": \"\"}}, \"type\": \"scatterpolargl\"}], \"scatterternary\": [{\"marker\": {\"colorbar\": {\"outlinewidth\": 0, \"ticks\": \"\"}}, \"type\": \"scatterternary\"}], \"surface\": [{\"colorbar\": {\"outlinewidth\": 0, \"ticks\": \"\"}, \"colorscale\": [[0.0, \"#0d0887\"], [0.1111111111111111, \"#46039f\"], [0.2222222222222222, \"#7201a8\"], [0.3333333333333333, \"#9c179e\"], [0.4444444444444444, \"#bd3786\"], [0.5555555555555556, \"#d8576b\"], [0.6666666666666666, \"#ed7953\"], [0.7777777777777778, \"#fb9f3a\"], [0.8888888888888888, \"#fdca26\"], [1.0, \"#f0f921\"]], \"type\": \"surface\"}], \"table\": [{\"cells\": {\"fill\": {\"color\": \"#EBF0F8\"}, \"line\": {\"color\": \"white\"}}, \"header\": {\"fill\": {\"color\": \"#C8D4E3\"}, \"line\": {\"color\": \"white\"}}, \"type\": \"table\"}]}, \"layout\": {\"annotationdefaults\": {\"arrowcolor\": \"#2a3f5f\", \"arrowhead\": 0, \"arrowwidth\": 1}, \"autotypenumbers\": \"strict\", \"coloraxis\": {\"colorbar\": {\"outlinewidth\": 0, \"ticks\": \"\"}}, \"colorscale\": {\"diverging\": [[0, \"#8e0152\"], [0.1, \"#c51b7d\"], [0.2, \"#de77ae\"], [0.3, \"#f1b6da\"], [0.4, \"#fde0ef\"], [0.5, \"#f7f7f7\"], [0.6, \"#e6f5d0\"], [0.7, \"#b8e186\"], [0.8, \"#7fbc41\"], [0.9, \"#4d9221\"], [1, \"#276419\"]], \"sequential\": [[0.0, \"#0d0887\"], [0.1111111111111111, \"#46039f\"], [0.2222222222222222, \"#7201a8\"], [0.3333333333333333, \"#9c179e\"], [0.4444444444444444, \"#bd3786\"], [0.5555555555555556, \"#d8576b\"], [0.6666666666666666, \"#ed7953\"], [0.7777777777777778, \"#fb9f3a\"], [0.8888888888888888, \"#fdca26\"], [1.0, \"#f0f921\"]], \"sequentialminus\": [[0.0, \"#0d0887\"], [0.1111111111111111, \"#46039f\"], [0.2222222222222222, \"#7201a8\"], [0.3333333333333333, \"#9c179e\"], [0.4444444444444444, \"#bd3786\"], [0.5555555555555556, \"#d8576b\"], [0.6666666666666666, \"#ed7953\"], [0.7777777777777778, \"#fb9f3a\"], [0.8888888888888888, \"#fdca26\"], [1.0, \"#f0f921\"]]}, \"colorway\": [\"#636efa\", \"#EF553B\", \"#00cc96\", \"#ab63fa\", \"#FFA15A\", \"#19d3f3\", \"#FF6692\", \"#B6E880\", \"#FF97FF\", \"#FECB52\"], \"font\": {\"color\": \"#2a3f5f\"}, \"geo\": {\"bgcolor\": \"white\", \"lakecolor\": \"white\", \"landcolor\": \"#E5ECF6\", \"showlakes\": true, \"showland\": true, \"subunitcolor\": \"white\"}, \"hoverlabel\": {\"align\": \"left\"}, \"hovermode\": \"closest\", \"mapbox\": {\"style\": \"light\"}, \"paper_bgcolor\": \"white\", \"plot_bgcolor\": \"#E5ECF6\", \"polar\": {\"angularaxis\": {\"gridcolor\": \"white\", \"linecolor\": \"white\", \"ticks\": \"\"}, \"bgcolor\": \"#E5ECF6\", \"radialaxis\": {\"gridcolor\": \"white\", \"linecolor\": \"white\", \"ticks\": \"\"}}, \"scene\": {\"xaxis\": {\"backgroundcolor\": \"#E5ECF6\", \"gridcolor\": \"white\", \"gridwidth\": 2, \"linecolor\": \"white\", \"showbackground\": true, \"ticks\": \"\", \"zerolinecolor\": \"white\"}, \"yaxis\": {\"backgroundcolor\": \"#E5ECF6\", \"gridcolor\": \"white\", \"gridwidth\": 2, \"linecolor\": \"white\", \"showbackground\": true, \"ticks\": \"\", \"zerolinecolor\": \"white\"}, \"zaxis\": {\"backgroundcolor\": \"#E5ECF6\", \"gridcolor\": \"white\", \"gridwidth\": 2, \"linecolor\": \"white\", \"showbackground\": true, \"ticks\": \"\", \"zerolinecolor\": \"white\"}}, \"shapedefaults\": {\"line\": {\"color\": \"#2a3f5f\"}}, \"ternary\": {\"aaxis\": {\"gridcolor\": \"white\", \"linecolor\": \"white\", \"ticks\": \"\"}, \"baxis\": {\"gridcolor\": \"white\", \"linecolor\": \"white\", \"ticks\": \"\"}, \"bgcolor\": \"#E5ECF6\", \"caxis\": {\"gridcolor\": \"white\", \"linecolor\": \"white\", \"ticks\": \"\"}}, \"title\": {\"x\": 0.05}, \"xaxis\": {\"automargin\": true, \"gridcolor\": \"white\", \"linecolor\": \"white\", \"ticks\": \"\", \"title\": {\"standoff\": 15}, \"zerolinecolor\": \"white\", \"zerolinewidth\": 2}, \"yaxis\": {\"automargin\": true, \"gridcolor\": \"white\", \"linecolor\": \"white\", \"ticks\": \"\", \"title\": {\"standoff\": 15}, \"zerolinecolor\": \"white\", \"zerolinewidth\": 2}}}, \"title\": {\"font\": {\"color\": \"#4D5663\"}}, \"xaxis\": {\"gridcolor\": \"#E1E5ED\", \"showgrid\": true, \"tickfont\": {\"color\": \"#4D5663\"}, \"title\": {\"font\": {\"color\": \"#4D5663\"}, \"text\": \"\"}, \"zerolinecolor\": \"#E1E5ED\"}, \"yaxis\": {\"gridcolor\": \"#E1E5ED\", \"showgrid\": true, \"tickfont\": {\"color\": \"#4D5663\"}, \"title\": {\"font\": {\"color\": \"#4D5663\"}, \"text\": \"\"}, \"zerolinecolor\": \"#E1E5ED\"}},                        {\"showLink\": true, \"linkText\": \"Export to plot.ly\", \"plotlyServerURL\": \"https://plot.ly\", \"responsive\": true}                    ).then(function(){\n",
       "                            \n",
       "var gd = document.getElementById('06b220c7-077e-42ca-ba68-f0fadfd7c426');\n",
       "var x = new MutationObserver(function (mutations, observer) {{\n",
       "        var display = window.getComputedStyle(gd).display;\n",
       "        if (!display || display === 'none') {{\n",
       "            console.log([gd, 'removed!']);\n",
       "            Plotly.purge(gd);\n",
       "            observer.disconnect();\n",
       "        }}\n",
       "}});\n",
       "\n",
       "// Listen for the removal of the full notebook cells\n",
       "var notebookContainer = gd.closest('#notebook-container');\n",
       "if (notebookContainer) {{\n",
       "    x.observe(notebookContainer, {childList: true});\n",
       "}}\n",
       "\n",
       "// Listen for the clearing of the current output cell\n",
       "var outputEl = gd.closest('.output');\n",
       "if (outputEl) {{\n",
       "    x.observe(outputEl, {childList: true});\n",
       "}}\n",
       "\n",
       "                        })                };                });            </script>        </div>"
      ]
     },
     "metadata": {},
     "output_type": "display_data"
    }
   ],
   "source": [
    "df[['A','B']].iplot()"
   ]
  },
  {
   "cell_type": "markdown",
   "id": "df5b346d",
   "metadata": {},
   "source": [
    "### Histogram"
   ]
  },
  {
   "cell_type": "code",
   "execution_count": 15,
   "id": "1f642dee",
   "metadata": {},
   "outputs": [
    {
     "data": {
      "application/vnd.plotly.v1+json": {
       "config": {
        "linkText": "Export to plot.ly",
        "plotlyServerURL": "https://plot.ly",
        "showLink": true
       },
       "data": [
        {
         "histfunc": "count",
         "histnorm": "",
         "marker": {
          "color": "rgba(255, 153, 51, 1.0)",
          "line": {
           "color": "#4D5663",
           "width": 1.3
          }
         },
         "name": "A",
         "nbinsx": 50,
         "opacity": 0.8,
         "orientation": "v",
         "type": "histogram",
         "x": [
          1.13798425475934,
          -1.5511667265037368,
          -0.49910781628050077,
          1.085004351054516,
          1.3989590240733099,
          -0.2911375934861317,
          -1.5870990872964883,
          -0.27935482665627126,
          0.3605252492517807,
          -0.2573222198131206,
          0.1282283018327493,
          -0.07523399544764772,
          -1.209782190524917,
          2.0998120955843382,
          0.21015410636408016,
          0.22039843592118114,
          -0.2750042028570783,
          -0.6425752651343553,
          0.04922938202933533,
          -1.151271215568177,
          -0.42520307577080796,
          0.286067143912526,
          0.6534378509385754,
          0.8055892428102114,
          1.6706324275158206,
          -1.9144292516764323,
          -0.7130745443719025,
          0.7132261507336397,
          1.0879917537219244,
          1.1428274385647352,
          1.1052680624561735,
          -0.5017274571551676,
          -0.15486630452781308,
          -0.8648382795499453,
          -0.821833223346524,
          -0.9012730792736585,
          0.6915059079700464,
          0.9054765379391744,
          -1.2976938178943378,
          -2.53565236236453,
          -0.1468560126376463,
          0.7415838145374852,
          0.967262105578842,
          -0.35875049228952205,
          0.8406410200429533,
          -0.03382970251039049,
          0.8707112942651388,
          -1.4962151290981338,
          -0.07482657180383757,
          -2.0160590596318197,
          0.3736129818346688,
          1.6452214643540364,
          1.7483148573896086,
          -1.4782529280436036,
          -0.1851835324174723,
          0.07377001332300753,
          0.36261478198089586,
          0.8651189780670078,
          0.6850474548860096,
          -0.7604619533012311,
          0.6555732095574617,
          -0.2688445662091309,
          2.284918084356147,
          -0.8340569074513916,
          1.6567735333149083,
          0.2924799350386549,
          -0.2735576072888158,
          0.0661601600306233,
          -0.6484239909056564,
          0.3878976614822351,
          -0.7011706453361762,
          0.2833166864898419,
          0.46257195200648377,
          0.5553702337250296,
          -0.5010959672124472,
          -0.14217198426981456,
          0.030937629523973564,
          -0.7574771731657584,
          0.45118790988184454,
          0.8219555020946994,
          0.5957135274819632,
          0.296850683691185,
          -0.12687894891679846,
          1.6095887390402563,
          -0.4527220315030091,
          0.971845763811533,
          0.6888768190349028,
          1.190978115499409,
          1.553954249377355,
          -0.12605990653637028,
          1.3525180232497602,
          0.721154005304942,
          -1.9836464415088655,
          -0.7479971966715627,
          -0.06669017642695914,
          -0.9289839979546476,
          0.4778549545203271,
          0.28213164182506856,
          -1.1155992489230353,
          0.4085009469861413
         ]
        },
        {
         "histfunc": "count",
         "histnorm": "",
         "marker": {
          "color": "rgba(55, 128, 191, 1.0)",
          "line": {
           "color": "#4D5663",
           "width": 1.3
          }
         },
         "name": "B",
         "nbinsx": 50,
         "opacity": 0.8,
         "orientation": "v",
         "type": "histogram",
         "x": [
          0.7323896324227073,
          -0.3284517281790686,
          -0.4510768322302432,
          1.6259669689281526,
          2.2430313429630293,
          -1.7897441106074743,
          0.569351307124913,
          -0.64587704510535,
          -0.0028811213343762202,
          -0.6373272106113808,
          1.0727062355724828,
          -2.952465256493198,
          1.287542719369616,
          -1.9267498062823034,
          2.0788433396371806,
          0.43073404217299227,
          0.26760125628746445,
          1.0849032546496722,
          1.3952877106807626,
          -0.6565850044269331,
          0.3817056840001886,
          -0.7412006468853344,
          -1.1217400025261557,
          0.6370813567298341,
          -0.5641382119507771,
          0.4634853466013324,
          -0.8584405373757337,
          -0.31182260271644374,
          0.3241918385448195,
          -1.33196541981774,
          -0.32846040497042905,
          -1.6413072197342926,
          0.7173508042526268,
          -1.7799489677323204,
          -1.86186170165096,
          0.10832184935546763,
          -1.0288381651747285,
          -0.545393753019585,
          -0.2650696867162592,
          0.05143818057526999,
          2.4823816265488032,
          -0.2501683134068812,
          -0.8065726277144815,
          0.5501537595048036,
          1.1282774686998163,
          -1.1732802076261226,
          -0.46217213437426197,
          -1.3361758119419371,
          2.5199867408681107,
          2.9378115385841097,
          -0.7262093920427323,
          0.6618920921980426,
          -0.8331597086864062,
          -0.30617972029078255,
          -0.4785044386864302,
          -0.4311874108212848,
          1.059597532517294,
          -1.5851754098869444,
          -0.039793079226337416,
          0.9867240234550703,
          1.3051413089883257,
          -0.5936323554912434,
          -0.7753853225554804,
          0.25590786585761166,
          1.547462128147694,
          -1.1023295816945362,
          -0.6222120723704447,
          -1.3188982035117294,
          -0.3093504949433165,
          -0.6769875209754437,
          -1.2333911783155913,
          -0.25666166671048446,
          -0.16532592175370936,
          -1.5355312465996227,
          -0.044051680488167134,
          -2.1457695866393056,
          0.9910173713062925,
          -1.1693051260643423,
          0.5160990345223325,
          0.3034532039457703,
          0.6409653165213176,
          0.9651791752395708,
          -2.2583982537236387,
          0.9926410629675069,
          1.3397259187632276,
          0.3781172112555631,
          1.5690672504187282,
          -0.03013161830784265,
          0.010106847671662566,
          0.33347285351095557,
          0.9112980654586149,
          0.14301371449262146,
          -0.30880549994744216,
          -2.0760184562581383,
          -0.7149080366700209,
          -0.0918574051416281,
          1.7923015769941466,
          -0.2022523157306176,
          0.04800165228427791,
          2.778983884871559
         ]
        },
        {
         "histfunc": "count",
         "histnorm": "",
         "marker": {
          "color": "rgba(50, 171, 96, 1.0)",
          "line": {
           "color": "#4D5663",
           "width": 1.3
          }
         },
         "name": "C",
         "nbinsx": 50,
         "opacity": 0.8,
         "orientation": "v",
         "type": "histogram",
         "x": [
          0.9222841373662842,
          -1.6804994666692668,
          0.3597681214930154,
          0.6946653457572813,
          -2.0228248476213033,
          -1.0666487463970504,
          0.3918601175968837,
          -1.0282306181688932,
          0.5043984366695315,
          -0.07651377152407639,
          -1.1623285544689614,
          0.9276143123506188,
          -1.090707015726742,
          -0.0931033450196046,
          0.4494439386635046,
          1.3714070313913298,
          -0.006318827300825494,
          1.5334398479509452,
          0.1612247171096429,
          -0.8019535864381443,
          -0.4881139574035609,
          -3.200042310179826,
          -0.03973690325032663,
          0.1469945458180234,
          -0.3114419421366963,
          0.20610076222518958,
          -0.5087114064580988,
          0.5334918748187668,
          0.2300146757080329,
          2.0670623682633136,
          0.8122964573456442,
          -0.5035504536337416,
          2.0609413304506967,
          -0.08935908323816356,
          1.5025156623202247,
          -1.2553037135233935,
          -0.5319221271715704,
          -1.0637936723981234,
          0.06723297017675449,
          0.5364541059211533,
          1.2525873959994334,
          1.6662869339320394,
          -1.427116342119559,
          1.0194420299278972,
          0.306989560029641,
          -0.5196358641816051,
          -0.30377574299331916,
          0.27850589876295145,
          -0.7607399517383897,
          -0.5702097644362375,
          0.3794360312670967,
          0.2849820599649263,
          -1.0247331757452582,
          -0.19712726346279044,
          -0.08737784294508043,
          0.7237044359826967,
          1.609588255758794,
          0.20354667439932378,
          -0.891918707340523,
          -0.3995257015270211,
          -0.4659778200620951,
          0.08922465615535513,
          1.130825856287499,
          -0.20675754509165864,
          1.3781811671034254,
          0.3026670169557407,
          1.0362145555068512,
          -0.028708808313712846,
          0.5897544927483535,
          -2.611862914600978,
          0.7859570095002909,
          -0.946454230866487,
          -0.40844451644157775,
          -1.1878447427647347,
          -0.8757213429417575,
          0.18141390708277777,
          -1.1925725795000022,
          -1.0830257229794367,
          -0.5691774720845683,
          1.2774508206588515,
          -0.45305354859705826,
          -1.0095700521188944,
          -0.6510699768671271,
          -0.10339800580912871,
          -0.3877013120159667,
          -1.3619512413525672,
          -1.1424960904648973,
          -1.0095360276547143,
          0.07749438904283287,
          -0.6663397998664455,
          -0.9043270074967882,
          -0.874141472868618,
          -0.9056454426723413,
          0.44926413048963243,
          0.15125183254240057,
          -0.11461729288434383,
          2.0234431862789983,
          0.13000998885060866,
          -0.6430570001159673,
          -0.021010091840642033
         ]
        },
        {
         "histfunc": "count",
         "histnorm": "",
         "marker": {
          "color": "rgba(128, 0, 128, 1.0)",
          "line": {
           "color": "#4D5663",
           "width": 1.3
          }
         },
         "name": "D",
         "nbinsx": 50,
         "opacity": 0.8,
         "orientation": "v",
         "type": "histogram",
         "x": [
          -0.49276694005153754,
          -1.5986208578767598,
          0.7491265136981557,
          1.312156108991257,
          0.08453779531317554,
          -0.2187343733372969,
          -0.8379765304819816,
          -0.0511028279959056,
          -0.017316963261710693,
          -1.0118519948123361,
          -0.16370932061274415,
          0.6458615260403444,
          -0.2244178728724846,
          -1.520217744365132,
          1.4283129738497007,
          0.25468222071115176,
          -0.38140155346182825,
          1.380638721998429,
          1.4520895824746396,
          -1.5319514701306376,
          -1.8828405990802903,
          0.9929435493683337,
          0.0926308022668882,
          0.8749211070050118,
          0.6223522233213582,
          -2.4089503300794064,
          -0.19754282713332516,
          -1.6476161906707616,
          1.6401794144989228,
          -0.6369476207431659,
          0.6974161394541564,
          -0.40020788591131307,
          0.9950022712269592,
          -0.44466503658659795,
          0.12599943253474874,
          -0.3707222092344457,
          1.9828291878087414,
          -0.658017774044128,
          -2.4079520031370234,
          0.038133392728422366,
          0.8472151165833635,
          0.5134263518989487,
          1.3526642802214088,
          -1.5860897426341527,
          1.6778139827116016,
          0.7640590919587001,
          0.7771332307041993,
          1.3528508384931222,
          0.9513228631476397,
          2.0711099176175964,
          -2.5368404843510173,
          -1.3415192299160754,
          -2.2198664797204213,
          0.26407355848848957,
          -0.9228894243282747,
          0.3903893166092727,
          0.690495614429746,
          2.6294349664221834,
          -1.0018758618494499,
          -0.7746264225990829,
          1.252967895470081,
          -0.5800015937270759,
          1.774442695877346,
          0.3006623955637737,
          -0.953781350527465,
          0.9737779320934462,
          1.8204930669143398,
          -0.17997660188272743,
          1.313904319436769,
          -0.48039991105997254,
          1.4591836201587236,
          -0.3646044945007691,
          -2.54730458507353,
          0.5034575972987234,
          -0.43940367807704345,
          0.21268562440517289,
          -1.3296483365012357,
          -0.31877779222053276,
          1.1951688280637907,
          1.5350471427808494,
          -0.07323618940973585,
          -1.1269942514030862,
          -0.4247276176477819,
          -0.9398456127581629,
          1.5369043842816101,
          -1.1870014693064666,
          1.4656538962054477,
          -0.565741535969565,
          -0.830059860318411,
          -0.289447855374188,
          -2.862452201994092,
          0.8855172927520567,
          0.7333716746271585,
          0.6787725431545305,
          0.3976557546382951,
          0.9596678020387314,
          0.7017388368109589,
          -0.7112984882624002,
          0.137061290177784,
          1.108603717615353
         ]
        }
       ],
       "layout": {
        "barmode": "overlay",
        "legend": {
         "bgcolor": "#F5F6F9",
         "font": {
          "color": "#4D5663"
         }
        },
        "paper_bgcolor": "#F5F6F9",
        "plot_bgcolor": "#F5F6F9",
        "template": {
         "data": {
          "bar": [
           {
            "error_x": {
             "color": "#2a3f5f"
            },
            "error_y": {
             "color": "#2a3f5f"
            },
            "marker": {
             "line": {
              "color": "#E5ECF6",
              "width": 0.5
             }
            },
            "type": "bar"
           }
          ],
          "barpolar": [
           {
            "marker": {
             "line": {
              "color": "#E5ECF6",
              "width": 0.5
             }
            },
            "type": "barpolar"
           }
          ],
          "carpet": [
           {
            "aaxis": {
             "endlinecolor": "#2a3f5f",
             "gridcolor": "white",
             "linecolor": "white",
             "minorgridcolor": "white",
             "startlinecolor": "#2a3f5f"
            },
            "baxis": {
             "endlinecolor": "#2a3f5f",
             "gridcolor": "white",
             "linecolor": "white",
             "minorgridcolor": "white",
             "startlinecolor": "#2a3f5f"
            },
            "type": "carpet"
           }
          ],
          "choropleth": [
           {
            "colorbar": {
             "outlinewidth": 0,
             "ticks": ""
            },
            "type": "choropleth"
           }
          ],
          "contour": [
           {
            "colorbar": {
             "outlinewidth": 0,
             "ticks": ""
            },
            "colorscale": [
             [
              0,
              "#0d0887"
             ],
             [
              0.1111111111111111,
              "#46039f"
             ],
             [
              0.2222222222222222,
              "#7201a8"
             ],
             [
              0.3333333333333333,
              "#9c179e"
             ],
             [
              0.4444444444444444,
              "#bd3786"
             ],
             [
              0.5555555555555556,
              "#d8576b"
             ],
             [
              0.6666666666666666,
              "#ed7953"
             ],
             [
              0.7777777777777778,
              "#fb9f3a"
             ],
             [
              0.8888888888888888,
              "#fdca26"
             ],
             [
              1,
              "#f0f921"
             ]
            ],
            "type": "contour"
           }
          ],
          "contourcarpet": [
           {
            "colorbar": {
             "outlinewidth": 0,
             "ticks": ""
            },
            "type": "contourcarpet"
           }
          ],
          "heatmap": [
           {
            "colorbar": {
             "outlinewidth": 0,
             "ticks": ""
            },
            "colorscale": [
             [
              0,
              "#0d0887"
             ],
             [
              0.1111111111111111,
              "#46039f"
             ],
             [
              0.2222222222222222,
              "#7201a8"
             ],
             [
              0.3333333333333333,
              "#9c179e"
             ],
             [
              0.4444444444444444,
              "#bd3786"
             ],
             [
              0.5555555555555556,
              "#d8576b"
             ],
             [
              0.6666666666666666,
              "#ed7953"
             ],
             [
              0.7777777777777778,
              "#fb9f3a"
             ],
             [
              0.8888888888888888,
              "#fdca26"
             ],
             [
              1,
              "#f0f921"
             ]
            ],
            "type": "heatmap"
           }
          ],
          "heatmapgl": [
           {
            "colorbar": {
             "outlinewidth": 0,
             "ticks": ""
            },
            "colorscale": [
             [
              0,
              "#0d0887"
             ],
             [
              0.1111111111111111,
              "#46039f"
             ],
             [
              0.2222222222222222,
              "#7201a8"
             ],
             [
              0.3333333333333333,
              "#9c179e"
             ],
             [
              0.4444444444444444,
              "#bd3786"
             ],
             [
              0.5555555555555556,
              "#d8576b"
             ],
             [
              0.6666666666666666,
              "#ed7953"
             ],
             [
              0.7777777777777778,
              "#fb9f3a"
             ],
             [
              0.8888888888888888,
              "#fdca26"
             ],
             [
              1,
              "#f0f921"
             ]
            ],
            "type": "heatmapgl"
           }
          ],
          "histogram": [
           {
            "marker": {
             "colorbar": {
              "outlinewidth": 0,
              "ticks": ""
             }
            },
            "type": "histogram"
           }
          ],
          "histogram2d": [
           {
            "colorbar": {
             "outlinewidth": 0,
             "ticks": ""
            },
            "colorscale": [
             [
              0,
              "#0d0887"
             ],
             [
              0.1111111111111111,
              "#46039f"
             ],
             [
              0.2222222222222222,
              "#7201a8"
             ],
             [
              0.3333333333333333,
              "#9c179e"
             ],
             [
              0.4444444444444444,
              "#bd3786"
             ],
             [
              0.5555555555555556,
              "#d8576b"
             ],
             [
              0.6666666666666666,
              "#ed7953"
             ],
             [
              0.7777777777777778,
              "#fb9f3a"
             ],
             [
              0.8888888888888888,
              "#fdca26"
             ],
             [
              1,
              "#f0f921"
             ]
            ],
            "type": "histogram2d"
           }
          ],
          "histogram2dcontour": [
           {
            "colorbar": {
             "outlinewidth": 0,
             "ticks": ""
            },
            "colorscale": [
             [
              0,
              "#0d0887"
             ],
             [
              0.1111111111111111,
              "#46039f"
             ],
             [
              0.2222222222222222,
              "#7201a8"
             ],
             [
              0.3333333333333333,
              "#9c179e"
             ],
             [
              0.4444444444444444,
              "#bd3786"
             ],
             [
              0.5555555555555556,
              "#d8576b"
             ],
             [
              0.6666666666666666,
              "#ed7953"
             ],
             [
              0.7777777777777778,
              "#fb9f3a"
             ],
             [
              0.8888888888888888,
              "#fdca26"
             ],
             [
              1,
              "#f0f921"
             ]
            ],
            "type": "histogram2dcontour"
           }
          ],
          "mesh3d": [
           {
            "colorbar": {
             "outlinewidth": 0,
             "ticks": ""
            },
            "type": "mesh3d"
           }
          ],
          "parcoords": [
           {
            "line": {
             "colorbar": {
              "outlinewidth": 0,
              "ticks": ""
             }
            },
            "type": "parcoords"
           }
          ],
          "pie": [
           {
            "automargin": true,
            "type": "pie"
           }
          ],
          "scatter": [
           {
            "marker": {
             "colorbar": {
              "outlinewidth": 0,
              "ticks": ""
             }
            },
            "type": "scatter"
           }
          ],
          "scatter3d": [
           {
            "line": {
             "colorbar": {
              "outlinewidth": 0,
              "ticks": ""
             }
            },
            "marker": {
             "colorbar": {
              "outlinewidth": 0,
              "ticks": ""
             }
            },
            "type": "scatter3d"
           }
          ],
          "scattercarpet": [
           {
            "marker": {
             "colorbar": {
              "outlinewidth": 0,
              "ticks": ""
             }
            },
            "type": "scattercarpet"
           }
          ],
          "scattergeo": [
           {
            "marker": {
             "colorbar": {
              "outlinewidth": 0,
              "ticks": ""
             }
            },
            "type": "scattergeo"
           }
          ],
          "scattergl": [
           {
            "marker": {
             "colorbar": {
              "outlinewidth": 0,
              "ticks": ""
             }
            },
            "type": "scattergl"
           }
          ],
          "scattermapbox": [
           {
            "marker": {
             "colorbar": {
              "outlinewidth": 0,
              "ticks": ""
             }
            },
            "type": "scattermapbox"
           }
          ],
          "scatterpolar": [
           {
            "marker": {
             "colorbar": {
              "outlinewidth": 0,
              "ticks": ""
             }
            },
            "type": "scatterpolar"
           }
          ],
          "scatterpolargl": [
           {
            "marker": {
             "colorbar": {
              "outlinewidth": 0,
              "ticks": ""
             }
            },
            "type": "scatterpolargl"
           }
          ],
          "scatterternary": [
           {
            "marker": {
             "colorbar": {
              "outlinewidth": 0,
              "ticks": ""
             }
            },
            "type": "scatterternary"
           }
          ],
          "surface": [
           {
            "colorbar": {
             "outlinewidth": 0,
             "ticks": ""
            },
            "colorscale": [
             [
              0,
              "#0d0887"
             ],
             [
              0.1111111111111111,
              "#46039f"
             ],
             [
              0.2222222222222222,
              "#7201a8"
             ],
             [
              0.3333333333333333,
              "#9c179e"
             ],
             [
              0.4444444444444444,
              "#bd3786"
             ],
             [
              0.5555555555555556,
              "#d8576b"
             ],
             [
              0.6666666666666666,
              "#ed7953"
             ],
             [
              0.7777777777777778,
              "#fb9f3a"
             ],
             [
              0.8888888888888888,
              "#fdca26"
             ],
             [
              1,
              "#f0f921"
             ]
            ],
            "type": "surface"
           }
          ],
          "table": [
           {
            "cells": {
             "fill": {
              "color": "#EBF0F8"
             },
             "line": {
              "color": "white"
             }
            },
            "header": {
             "fill": {
              "color": "#C8D4E3"
             },
             "line": {
              "color": "white"
             }
            },
            "type": "table"
           }
          ]
         },
         "layout": {
          "annotationdefaults": {
           "arrowcolor": "#2a3f5f",
           "arrowhead": 0,
           "arrowwidth": 1
          },
          "autotypenumbers": "strict",
          "coloraxis": {
           "colorbar": {
            "outlinewidth": 0,
            "ticks": ""
           }
          },
          "colorscale": {
           "diverging": [
            [
             0,
             "#8e0152"
            ],
            [
             0.1,
             "#c51b7d"
            ],
            [
             0.2,
             "#de77ae"
            ],
            [
             0.3,
             "#f1b6da"
            ],
            [
             0.4,
             "#fde0ef"
            ],
            [
             0.5,
             "#f7f7f7"
            ],
            [
             0.6,
             "#e6f5d0"
            ],
            [
             0.7,
             "#b8e186"
            ],
            [
             0.8,
             "#7fbc41"
            ],
            [
             0.9,
             "#4d9221"
            ],
            [
             1,
             "#276419"
            ]
           ],
           "sequential": [
            [
             0,
             "#0d0887"
            ],
            [
             0.1111111111111111,
             "#46039f"
            ],
            [
             0.2222222222222222,
             "#7201a8"
            ],
            [
             0.3333333333333333,
             "#9c179e"
            ],
            [
             0.4444444444444444,
             "#bd3786"
            ],
            [
             0.5555555555555556,
             "#d8576b"
            ],
            [
             0.6666666666666666,
             "#ed7953"
            ],
            [
             0.7777777777777778,
             "#fb9f3a"
            ],
            [
             0.8888888888888888,
             "#fdca26"
            ],
            [
             1,
             "#f0f921"
            ]
           ],
           "sequentialminus": [
            [
             0,
             "#0d0887"
            ],
            [
             0.1111111111111111,
             "#46039f"
            ],
            [
             0.2222222222222222,
             "#7201a8"
            ],
            [
             0.3333333333333333,
             "#9c179e"
            ],
            [
             0.4444444444444444,
             "#bd3786"
            ],
            [
             0.5555555555555556,
             "#d8576b"
            ],
            [
             0.6666666666666666,
             "#ed7953"
            ],
            [
             0.7777777777777778,
             "#fb9f3a"
            ],
            [
             0.8888888888888888,
             "#fdca26"
            ],
            [
             1,
             "#f0f921"
            ]
           ]
          },
          "colorway": [
           "#636efa",
           "#EF553B",
           "#00cc96",
           "#ab63fa",
           "#FFA15A",
           "#19d3f3",
           "#FF6692",
           "#B6E880",
           "#FF97FF",
           "#FECB52"
          ],
          "font": {
           "color": "#2a3f5f"
          },
          "geo": {
           "bgcolor": "white",
           "lakecolor": "white",
           "landcolor": "#E5ECF6",
           "showlakes": true,
           "showland": true,
           "subunitcolor": "white"
          },
          "hoverlabel": {
           "align": "left"
          },
          "hovermode": "closest",
          "mapbox": {
           "style": "light"
          },
          "paper_bgcolor": "white",
          "plot_bgcolor": "#E5ECF6",
          "polar": {
           "angularaxis": {
            "gridcolor": "white",
            "linecolor": "white",
            "ticks": ""
           },
           "bgcolor": "#E5ECF6",
           "radialaxis": {
            "gridcolor": "white",
            "linecolor": "white",
            "ticks": ""
           }
          },
          "scene": {
           "xaxis": {
            "backgroundcolor": "#E5ECF6",
            "gridcolor": "white",
            "gridwidth": 2,
            "linecolor": "white",
            "showbackground": true,
            "ticks": "",
            "zerolinecolor": "white"
           },
           "yaxis": {
            "backgroundcolor": "#E5ECF6",
            "gridcolor": "white",
            "gridwidth": 2,
            "linecolor": "white",
            "showbackground": true,
            "ticks": "",
            "zerolinecolor": "white"
           },
           "zaxis": {
            "backgroundcolor": "#E5ECF6",
            "gridcolor": "white",
            "gridwidth": 2,
            "linecolor": "white",
            "showbackground": true,
            "ticks": "",
            "zerolinecolor": "white"
           }
          },
          "shapedefaults": {
           "line": {
            "color": "#2a3f5f"
           }
          },
          "ternary": {
           "aaxis": {
            "gridcolor": "white",
            "linecolor": "white",
            "ticks": ""
           },
           "baxis": {
            "gridcolor": "white",
            "linecolor": "white",
            "ticks": ""
           },
           "bgcolor": "#E5ECF6",
           "caxis": {
            "gridcolor": "white",
            "linecolor": "white",
            "ticks": ""
           }
          },
          "title": {
           "x": 0.05
          },
          "xaxis": {
           "automargin": true,
           "gridcolor": "white",
           "linecolor": "white",
           "ticks": "",
           "title": {
            "standoff": 15
           },
           "zerolinecolor": "white",
           "zerolinewidth": 2
          },
          "yaxis": {
           "automargin": true,
           "gridcolor": "white",
           "linecolor": "white",
           "ticks": "",
           "title": {
            "standoff": 15
           },
           "zerolinecolor": "white",
           "zerolinewidth": 2
          }
         }
        },
        "title": {
         "font": {
          "color": "#4D5663"
         }
        },
        "xaxis": {
         "gridcolor": "#E1E5ED",
         "showgrid": true,
         "tickfont": {
          "color": "#4D5663"
         },
         "title": {
          "font": {
           "color": "#4D5663"
          },
          "text": ""
         },
         "zerolinecolor": "#E1E5ED"
        },
        "yaxis": {
         "gridcolor": "#E1E5ED",
         "showgrid": true,
         "tickfont": {
          "color": "#4D5663"
         },
         "title": {
          "font": {
           "color": "#4D5663"
          },
          "text": ""
         },
         "zerolinecolor": "#E1E5ED"
        }
       }
      },
      "text/html": [
       "<div>                            <div id=\"30d9a4dd-08ac-404a-8aae-306e20ea5d81\" class=\"plotly-graph-div\" style=\"height:525px; width:100%;\"></div>            <script type=\"text/javascript\">                require([\"plotly\"], function(Plotly) {                    window.PLOTLYENV=window.PLOTLYENV || {};\n",
       "                    window.PLOTLYENV.BASE_URL='https://plot.ly';                                    if (document.getElementById(\"30d9a4dd-08ac-404a-8aae-306e20ea5d81\")) {                    Plotly.newPlot(                        \"30d9a4dd-08ac-404a-8aae-306e20ea5d81\",                        [{\"histfunc\": \"count\", \"histnorm\": \"\", \"marker\": {\"color\": \"rgba(255, 153, 51, 1.0)\", \"line\": {\"color\": \"#4D5663\", \"width\": 1.3}}, \"name\": \"A\", \"nbinsx\": 50, \"opacity\": 0.8, \"orientation\": \"v\", \"type\": \"histogram\", \"x\": [1.13798425475934, -1.5511667265037368, -0.49910781628050077, 1.085004351054516, 1.3989590240733099, -0.2911375934861317, -1.5870990872964883, -0.27935482665627126, 0.3605252492517807, -0.2573222198131206, 0.1282283018327493, -0.07523399544764772, -1.209782190524917, 2.0998120955843382, 0.21015410636408016, 0.22039843592118114, -0.2750042028570783, -0.6425752651343553, 0.04922938202933533, -1.151271215568177, -0.42520307577080796, 0.286067143912526, 0.6534378509385754, 0.8055892428102114, 1.6706324275158206, -1.9144292516764323, -0.7130745443719025, 0.7132261507336397, 1.0879917537219244, 1.1428274385647352, 1.1052680624561735, -0.5017274571551676, -0.15486630452781308, -0.8648382795499453, -0.821833223346524, -0.9012730792736585, 0.6915059079700464, 0.9054765379391744, -1.2976938178943378, -2.53565236236453, -0.1468560126376463, 0.7415838145374852, 0.967262105578842, -0.35875049228952205, 0.8406410200429533, -0.03382970251039049, 0.8707112942651388, -1.4962151290981338, -0.07482657180383757, -2.0160590596318197, 0.3736129818346688, 1.6452214643540364, 1.7483148573896086, -1.4782529280436036, -0.1851835324174723, 0.07377001332300753, 0.36261478198089586, 0.8651189780670078, 0.6850474548860096, -0.7604619533012311, 0.6555732095574617, -0.2688445662091309, 2.284918084356147, -0.8340569074513916, 1.6567735333149083, 0.2924799350386549, -0.2735576072888158, 0.0661601600306233, -0.6484239909056564, 0.3878976614822351, -0.7011706453361762, 0.2833166864898419, 0.46257195200648377, 0.5553702337250296, -0.5010959672124472, -0.14217198426981456, 0.030937629523973564, -0.7574771731657584, 0.45118790988184454, 0.8219555020946994, 0.5957135274819632, 0.296850683691185, -0.12687894891679846, 1.6095887390402563, -0.4527220315030091, 0.971845763811533, 0.6888768190349028, 1.190978115499409, 1.553954249377355, -0.12605990653637028, 1.3525180232497602, 0.721154005304942, -1.9836464415088655, -0.7479971966715627, -0.06669017642695914, -0.9289839979546476, 0.4778549545203271, 0.28213164182506856, -1.1155992489230353, 0.4085009469861413]}, {\"histfunc\": \"count\", \"histnorm\": \"\", \"marker\": {\"color\": \"rgba(55, 128, 191, 1.0)\", \"line\": {\"color\": \"#4D5663\", \"width\": 1.3}}, \"name\": \"B\", \"nbinsx\": 50, \"opacity\": 0.8, \"orientation\": \"v\", \"type\": \"histogram\", \"x\": [0.7323896324227073, -0.3284517281790686, -0.4510768322302432, 1.6259669689281526, 2.2430313429630293, -1.7897441106074743, 0.569351307124913, -0.64587704510535, -0.0028811213343762202, -0.6373272106113808, 1.0727062355724828, -2.952465256493198, 1.287542719369616, -1.9267498062823034, 2.0788433396371806, 0.43073404217299227, 0.26760125628746445, 1.0849032546496722, 1.3952877106807626, -0.6565850044269331, 0.3817056840001886, -0.7412006468853344, -1.1217400025261557, 0.6370813567298341, -0.5641382119507771, 0.4634853466013324, -0.8584405373757337, -0.31182260271644374, 0.3241918385448195, -1.33196541981774, -0.32846040497042905, -1.6413072197342926, 0.7173508042526268, -1.7799489677323204, -1.86186170165096, 0.10832184935546763, -1.0288381651747285, -0.545393753019585, -0.2650696867162592, 0.05143818057526999, 2.4823816265488032, -0.2501683134068812, -0.8065726277144815, 0.5501537595048036, 1.1282774686998163, -1.1732802076261226, -0.46217213437426197, -1.3361758119419371, 2.5199867408681107, 2.9378115385841097, -0.7262093920427323, 0.6618920921980426, -0.8331597086864062, -0.30617972029078255, -0.4785044386864302, -0.4311874108212848, 1.059597532517294, -1.5851754098869444, -0.039793079226337416, 0.9867240234550703, 1.3051413089883257, -0.5936323554912434, -0.7753853225554804, 0.25590786585761166, 1.547462128147694, -1.1023295816945362, -0.6222120723704447, -1.3188982035117294, -0.3093504949433165, -0.6769875209754437, -1.2333911783155913, -0.25666166671048446, -0.16532592175370936, -1.5355312465996227, -0.044051680488167134, -2.1457695866393056, 0.9910173713062925, -1.1693051260643423, 0.5160990345223325, 0.3034532039457703, 0.6409653165213176, 0.9651791752395708, -2.2583982537236387, 0.9926410629675069, 1.3397259187632276, 0.3781172112555631, 1.5690672504187282, -0.03013161830784265, 0.010106847671662566, 0.33347285351095557, 0.9112980654586149, 0.14301371449262146, -0.30880549994744216, -2.0760184562581383, -0.7149080366700209, -0.0918574051416281, 1.7923015769941466, -0.2022523157306176, 0.04800165228427791, 2.778983884871559]}, {\"histfunc\": \"count\", \"histnorm\": \"\", \"marker\": {\"color\": \"rgba(50, 171, 96, 1.0)\", \"line\": {\"color\": \"#4D5663\", \"width\": 1.3}}, \"name\": \"C\", \"nbinsx\": 50, \"opacity\": 0.8, \"orientation\": \"v\", \"type\": \"histogram\", \"x\": [0.9222841373662842, -1.6804994666692668, 0.3597681214930154, 0.6946653457572813, -2.0228248476213033, -1.0666487463970504, 0.3918601175968837, -1.0282306181688932, 0.5043984366695315, -0.07651377152407639, -1.1623285544689614, 0.9276143123506188, -1.090707015726742, -0.0931033450196046, 0.4494439386635046, 1.3714070313913298, -0.006318827300825494, 1.5334398479509452, 0.1612247171096429, -0.8019535864381443, -0.4881139574035609, -3.200042310179826, -0.03973690325032663, 0.1469945458180234, -0.3114419421366963, 0.20610076222518958, -0.5087114064580988, 0.5334918748187668, 0.2300146757080329, 2.0670623682633136, 0.8122964573456442, -0.5035504536337416, 2.0609413304506967, -0.08935908323816356, 1.5025156623202247, -1.2553037135233935, -0.5319221271715704, -1.0637936723981234, 0.06723297017675449, 0.5364541059211533, 1.2525873959994334, 1.6662869339320394, -1.427116342119559, 1.0194420299278972, 0.306989560029641, -0.5196358641816051, -0.30377574299331916, 0.27850589876295145, -0.7607399517383897, -0.5702097644362375, 0.3794360312670967, 0.2849820599649263, -1.0247331757452582, -0.19712726346279044, -0.08737784294508043, 0.7237044359826967, 1.609588255758794, 0.20354667439932378, -0.891918707340523, -0.3995257015270211, -0.4659778200620951, 0.08922465615535513, 1.130825856287499, -0.20675754509165864, 1.3781811671034254, 0.3026670169557407, 1.0362145555068512, -0.028708808313712846, 0.5897544927483535, -2.611862914600978, 0.7859570095002909, -0.946454230866487, -0.40844451644157775, -1.1878447427647347, -0.8757213429417575, 0.18141390708277777, -1.1925725795000022, -1.0830257229794367, -0.5691774720845683, 1.2774508206588515, -0.45305354859705826, -1.0095700521188944, -0.6510699768671271, -0.10339800580912871, -0.3877013120159667, -1.3619512413525672, -1.1424960904648973, -1.0095360276547143, 0.07749438904283287, -0.6663397998664455, -0.9043270074967882, -0.874141472868618, -0.9056454426723413, 0.44926413048963243, 0.15125183254240057, -0.11461729288434383, 2.0234431862789983, 0.13000998885060866, -0.6430570001159673, -0.021010091840642033]}, {\"histfunc\": \"count\", \"histnorm\": \"\", \"marker\": {\"color\": \"rgba(128, 0, 128, 1.0)\", \"line\": {\"color\": \"#4D5663\", \"width\": 1.3}}, \"name\": \"D\", \"nbinsx\": 50, \"opacity\": 0.8, \"orientation\": \"v\", \"type\": \"histogram\", \"x\": [-0.49276694005153754, -1.5986208578767598, 0.7491265136981557, 1.312156108991257, 0.08453779531317554, -0.2187343733372969, -0.8379765304819816, -0.0511028279959056, -0.017316963261710693, -1.0118519948123361, -0.16370932061274415, 0.6458615260403444, -0.2244178728724846, -1.520217744365132, 1.4283129738497007, 0.25468222071115176, -0.38140155346182825, 1.380638721998429, 1.4520895824746396, -1.5319514701306376, -1.8828405990802903, 0.9929435493683337, 0.0926308022668882, 0.8749211070050118, 0.6223522233213582, -2.4089503300794064, -0.19754282713332516, -1.6476161906707616, 1.6401794144989228, -0.6369476207431659, 0.6974161394541564, -0.40020788591131307, 0.9950022712269592, -0.44466503658659795, 0.12599943253474874, -0.3707222092344457, 1.9828291878087414, -0.658017774044128, -2.4079520031370234, 0.038133392728422366, 0.8472151165833635, 0.5134263518989487, 1.3526642802214088, -1.5860897426341527, 1.6778139827116016, 0.7640590919587001, 0.7771332307041993, 1.3528508384931222, 0.9513228631476397, 2.0711099176175964, -2.5368404843510173, -1.3415192299160754, -2.2198664797204213, 0.26407355848848957, -0.9228894243282747, 0.3903893166092727, 0.690495614429746, 2.6294349664221834, -1.0018758618494499, -0.7746264225990829, 1.252967895470081, -0.5800015937270759, 1.774442695877346, 0.3006623955637737, -0.953781350527465, 0.9737779320934462, 1.8204930669143398, -0.17997660188272743, 1.313904319436769, -0.48039991105997254, 1.4591836201587236, -0.3646044945007691, -2.54730458507353, 0.5034575972987234, -0.43940367807704345, 0.21268562440517289, -1.3296483365012357, -0.31877779222053276, 1.1951688280637907, 1.5350471427808494, -0.07323618940973585, -1.1269942514030862, -0.4247276176477819, -0.9398456127581629, 1.5369043842816101, -1.1870014693064666, 1.4656538962054477, -0.565741535969565, -0.830059860318411, -0.289447855374188, -2.862452201994092, 0.8855172927520567, 0.7333716746271585, 0.6787725431545305, 0.3976557546382951, 0.9596678020387314, 0.7017388368109589, -0.7112984882624002, 0.137061290177784, 1.108603717615353]}],                        {\"barmode\": \"overlay\", \"legend\": {\"bgcolor\": \"#F5F6F9\", \"font\": {\"color\": \"#4D5663\"}}, \"paper_bgcolor\": \"#F5F6F9\", \"plot_bgcolor\": \"#F5F6F9\", \"template\": {\"data\": {\"bar\": [{\"error_x\": {\"color\": \"#2a3f5f\"}, \"error_y\": {\"color\": \"#2a3f5f\"}, \"marker\": {\"line\": {\"color\": \"#E5ECF6\", \"width\": 0.5}}, \"type\": \"bar\"}], \"barpolar\": [{\"marker\": {\"line\": {\"color\": \"#E5ECF6\", \"width\": 0.5}}, \"type\": \"barpolar\"}], \"carpet\": [{\"aaxis\": {\"endlinecolor\": \"#2a3f5f\", \"gridcolor\": \"white\", \"linecolor\": \"white\", \"minorgridcolor\": \"white\", \"startlinecolor\": \"#2a3f5f\"}, \"baxis\": {\"endlinecolor\": \"#2a3f5f\", \"gridcolor\": \"white\", \"linecolor\": \"white\", \"minorgridcolor\": \"white\", \"startlinecolor\": \"#2a3f5f\"}, \"type\": \"carpet\"}], \"choropleth\": [{\"colorbar\": {\"outlinewidth\": 0, \"ticks\": \"\"}, \"type\": \"choropleth\"}], \"contour\": [{\"colorbar\": {\"outlinewidth\": 0, \"ticks\": \"\"}, \"colorscale\": [[0.0, \"#0d0887\"], [0.1111111111111111, \"#46039f\"], [0.2222222222222222, \"#7201a8\"], [0.3333333333333333, \"#9c179e\"], [0.4444444444444444, \"#bd3786\"], [0.5555555555555556, \"#d8576b\"], [0.6666666666666666, \"#ed7953\"], [0.7777777777777778, \"#fb9f3a\"], [0.8888888888888888, \"#fdca26\"], [1.0, \"#f0f921\"]], \"type\": \"contour\"}], \"contourcarpet\": [{\"colorbar\": {\"outlinewidth\": 0, \"ticks\": \"\"}, \"type\": \"contourcarpet\"}], \"heatmap\": [{\"colorbar\": {\"outlinewidth\": 0, \"ticks\": \"\"}, \"colorscale\": [[0.0, \"#0d0887\"], [0.1111111111111111, \"#46039f\"], [0.2222222222222222, \"#7201a8\"], [0.3333333333333333, \"#9c179e\"], [0.4444444444444444, \"#bd3786\"], [0.5555555555555556, \"#d8576b\"], [0.6666666666666666, \"#ed7953\"], [0.7777777777777778, \"#fb9f3a\"], [0.8888888888888888, \"#fdca26\"], [1.0, \"#f0f921\"]], \"type\": \"heatmap\"}], \"heatmapgl\": [{\"colorbar\": {\"outlinewidth\": 0, \"ticks\": \"\"}, \"colorscale\": [[0.0, \"#0d0887\"], [0.1111111111111111, \"#46039f\"], [0.2222222222222222, \"#7201a8\"], [0.3333333333333333, \"#9c179e\"], [0.4444444444444444, \"#bd3786\"], [0.5555555555555556, \"#d8576b\"], [0.6666666666666666, \"#ed7953\"], [0.7777777777777778, \"#fb9f3a\"], [0.8888888888888888, \"#fdca26\"], [1.0, \"#f0f921\"]], \"type\": \"heatmapgl\"}], \"histogram\": [{\"marker\": {\"colorbar\": {\"outlinewidth\": 0, \"ticks\": \"\"}}, \"type\": \"histogram\"}], \"histogram2d\": [{\"colorbar\": {\"outlinewidth\": 0, \"ticks\": \"\"}, \"colorscale\": [[0.0, \"#0d0887\"], [0.1111111111111111, \"#46039f\"], [0.2222222222222222, \"#7201a8\"], [0.3333333333333333, \"#9c179e\"], [0.4444444444444444, \"#bd3786\"], [0.5555555555555556, \"#d8576b\"], [0.6666666666666666, \"#ed7953\"], [0.7777777777777778, \"#fb9f3a\"], [0.8888888888888888, \"#fdca26\"], [1.0, \"#f0f921\"]], \"type\": \"histogram2d\"}], \"histogram2dcontour\": [{\"colorbar\": {\"outlinewidth\": 0, \"ticks\": \"\"}, \"colorscale\": [[0.0, \"#0d0887\"], [0.1111111111111111, \"#46039f\"], [0.2222222222222222, \"#7201a8\"], [0.3333333333333333, \"#9c179e\"], [0.4444444444444444, \"#bd3786\"], [0.5555555555555556, \"#d8576b\"], [0.6666666666666666, \"#ed7953\"], [0.7777777777777778, \"#fb9f3a\"], [0.8888888888888888, \"#fdca26\"], [1.0, \"#f0f921\"]], \"type\": \"histogram2dcontour\"}], \"mesh3d\": [{\"colorbar\": {\"outlinewidth\": 0, \"ticks\": \"\"}, \"type\": \"mesh3d\"}], \"parcoords\": [{\"line\": {\"colorbar\": {\"outlinewidth\": 0, \"ticks\": \"\"}}, \"type\": \"parcoords\"}], \"pie\": [{\"automargin\": true, \"type\": \"pie\"}], \"scatter\": [{\"marker\": {\"colorbar\": {\"outlinewidth\": 0, \"ticks\": \"\"}}, \"type\": \"scatter\"}], \"scatter3d\": [{\"line\": {\"colorbar\": {\"outlinewidth\": 0, \"ticks\": \"\"}}, \"marker\": {\"colorbar\": {\"outlinewidth\": 0, \"ticks\": \"\"}}, \"type\": \"scatter3d\"}], \"scattercarpet\": [{\"marker\": {\"colorbar\": {\"outlinewidth\": 0, \"ticks\": \"\"}}, \"type\": \"scattercarpet\"}], \"scattergeo\": [{\"marker\": {\"colorbar\": {\"outlinewidth\": 0, \"ticks\": \"\"}}, \"type\": \"scattergeo\"}], \"scattergl\": [{\"marker\": {\"colorbar\": {\"outlinewidth\": 0, \"ticks\": \"\"}}, \"type\": \"scattergl\"}], \"scattermapbox\": [{\"marker\": {\"colorbar\": {\"outlinewidth\": 0, \"ticks\": \"\"}}, \"type\": \"scattermapbox\"}], \"scatterpolar\": [{\"marker\": {\"colorbar\": {\"outlinewidth\": 0, \"ticks\": \"\"}}, \"type\": \"scatterpolar\"}], \"scatterpolargl\": [{\"marker\": {\"colorbar\": {\"outlinewidth\": 0, \"ticks\": \"\"}}, \"type\": \"scatterpolargl\"}], \"scatterternary\": [{\"marker\": {\"colorbar\": {\"outlinewidth\": 0, \"ticks\": \"\"}}, \"type\": \"scatterternary\"}], \"surface\": [{\"colorbar\": {\"outlinewidth\": 0, \"ticks\": \"\"}, \"colorscale\": [[0.0, \"#0d0887\"], [0.1111111111111111, \"#46039f\"], [0.2222222222222222, \"#7201a8\"], [0.3333333333333333, \"#9c179e\"], [0.4444444444444444, \"#bd3786\"], [0.5555555555555556, \"#d8576b\"], [0.6666666666666666, \"#ed7953\"], [0.7777777777777778, \"#fb9f3a\"], [0.8888888888888888, \"#fdca26\"], [1.0, \"#f0f921\"]], \"type\": \"surface\"}], \"table\": [{\"cells\": {\"fill\": {\"color\": \"#EBF0F8\"}, \"line\": {\"color\": \"white\"}}, \"header\": {\"fill\": {\"color\": \"#C8D4E3\"}, \"line\": {\"color\": \"white\"}}, \"type\": \"table\"}]}, \"layout\": {\"annotationdefaults\": {\"arrowcolor\": \"#2a3f5f\", \"arrowhead\": 0, \"arrowwidth\": 1}, \"autotypenumbers\": \"strict\", \"coloraxis\": {\"colorbar\": {\"outlinewidth\": 0, \"ticks\": \"\"}}, \"colorscale\": {\"diverging\": [[0, \"#8e0152\"], [0.1, \"#c51b7d\"], [0.2, \"#de77ae\"], [0.3, \"#f1b6da\"], [0.4, \"#fde0ef\"], [0.5, \"#f7f7f7\"], [0.6, \"#e6f5d0\"], [0.7, \"#b8e186\"], [0.8, \"#7fbc41\"], [0.9, \"#4d9221\"], [1, \"#276419\"]], \"sequential\": [[0.0, \"#0d0887\"], [0.1111111111111111, \"#46039f\"], [0.2222222222222222, \"#7201a8\"], [0.3333333333333333, \"#9c179e\"], [0.4444444444444444, \"#bd3786\"], [0.5555555555555556, \"#d8576b\"], [0.6666666666666666, \"#ed7953\"], [0.7777777777777778, \"#fb9f3a\"], [0.8888888888888888, \"#fdca26\"], [1.0, \"#f0f921\"]], \"sequentialminus\": [[0.0, \"#0d0887\"], [0.1111111111111111, \"#46039f\"], [0.2222222222222222, \"#7201a8\"], [0.3333333333333333, \"#9c179e\"], [0.4444444444444444, \"#bd3786\"], [0.5555555555555556, \"#d8576b\"], [0.6666666666666666, \"#ed7953\"], [0.7777777777777778, \"#fb9f3a\"], [0.8888888888888888, \"#fdca26\"], [1.0, \"#f0f921\"]]}, \"colorway\": [\"#636efa\", \"#EF553B\", \"#00cc96\", \"#ab63fa\", \"#FFA15A\", \"#19d3f3\", \"#FF6692\", \"#B6E880\", \"#FF97FF\", \"#FECB52\"], \"font\": {\"color\": \"#2a3f5f\"}, \"geo\": {\"bgcolor\": \"white\", \"lakecolor\": \"white\", \"landcolor\": \"#E5ECF6\", \"showlakes\": true, \"showland\": true, \"subunitcolor\": \"white\"}, \"hoverlabel\": {\"align\": \"left\"}, \"hovermode\": \"closest\", \"mapbox\": {\"style\": \"light\"}, \"paper_bgcolor\": \"white\", \"plot_bgcolor\": \"#E5ECF6\", \"polar\": {\"angularaxis\": {\"gridcolor\": \"white\", \"linecolor\": \"white\", \"ticks\": \"\"}, \"bgcolor\": \"#E5ECF6\", \"radialaxis\": {\"gridcolor\": \"white\", \"linecolor\": \"white\", \"ticks\": \"\"}}, \"scene\": {\"xaxis\": {\"backgroundcolor\": \"#E5ECF6\", \"gridcolor\": \"white\", \"gridwidth\": 2, \"linecolor\": \"white\", \"showbackground\": true, \"ticks\": \"\", \"zerolinecolor\": \"white\"}, \"yaxis\": {\"backgroundcolor\": \"#E5ECF6\", \"gridcolor\": \"white\", \"gridwidth\": 2, \"linecolor\": \"white\", \"showbackground\": true, \"ticks\": \"\", \"zerolinecolor\": \"white\"}, \"zaxis\": {\"backgroundcolor\": \"#E5ECF6\", \"gridcolor\": \"white\", \"gridwidth\": 2, \"linecolor\": \"white\", \"showbackground\": true, \"ticks\": \"\", \"zerolinecolor\": \"white\"}}, \"shapedefaults\": {\"line\": {\"color\": \"#2a3f5f\"}}, \"ternary\": {\"aaxis\": {\"gridcolor\": \"white\", \"linecolor\": \"white\", \"ticks\": \"\"}, \"baxis\": {\"gridcolor\": \"white\", \"linecolor\": \"white\", \"ticks\": \"\"}, \"bgcolor\": \"#E5ECF6\", \"caxis\": {\"gridcolor\": \"white\", \"linecolor\": \"white\", \"ticks\": \"\"}}, \"title\": {\"x\": 0.05}, \"xaxis\": {\"automargin\": true, \"gridcolor\": \"white\", \"linecolor\": \"white\", \"ticks\": \"\", \"title\": {\"standoff\": 15}, \"zerolinecolor\": \"white\", \"zerolinewidth\": 2}, \"yaxis\": {\"automargin\": true, \"gridcolor\": \"white\", \"linecolor\": \"white\", \"ticks\": \"\", \"title\": {\"standoff\": 15}, \"zerolinecolor\": \"white\", \"zerolinewidth\": 2}}}, \"title\": {\"font\": {\"color\": \"#4D5663\"}}, \"xaxis\": {\"gridcolor\": \"#E1E5ED\", \"showgrid\": true, \"tickfont\": {\"color\": \"#4D5663\"}, \"title\": {\"font\": {\"color\": \"#4D5663\"}, \"text\": \"\"}, \"zerolinecolor\": \"#E1E5ED\"}, \"yaxis\": {\"gridcolor\": \"#E1E5ED\", \"showgrid\": true, \"tickfont\": {\"color\": \"#4D5663\"}, \"title\": {\"font\": {\"color\": \"#4D5663\"}, \"text\": \"\"}, \"zerolinecolor\": \"#E1E5ED\"}},                        {\"showLink\": true, \"linkText\": \"Export to plot.ly\", \"plotlyServerURL\": \"https://plot.ly\", \"responsive\": true}                    ).then(function(){\n",
       "                            \n",
       "var gd = document.getElementById('30d9a4dd-08ac-404a-8aae-306e20ea5d81');\n",
       "var x = new MutationObserver(function (mutations, observer) {{\n",
       "        var display = window.getComputedStyle(gd).display;\n",
       "        if (!display || display === 'none') {{\n",
       "            console.log([gd, 'removed!']);\n",
       "            Plotly.purge(gd);\n",
       "            observer.disconnect();\n",
       "        }}\n",
       "}});\n",
       "\n",
       "// Listen for the removal of the full notebook cells\n",
       "var notebookContainer = gd.closest('#notebook-container');\n",
       "if (notebookContainer) {{\n",
       "    x.observe(notebookContainer, {childList: true});\n",
       "}}\n",
       "\n",
       "// Listen for the clearing of the current output cell\n",
       "var outputEl = gd.closest('.output');\n",
       "if (outputEl) {{\n",
       "    x.observe(outputEl, {childList: true});\n",
       "}}\n",
       "\n",
       "                        })                };                });            </script>        </div>"
      ]
     },
     "metadata": {},
     "output_type": "display_data"
    }
   ],
   "source": [
    "df.iplot(kind='hist',bins=50)"
   ]
  },
  {
   "cell_type": "markdown",
   "id": "f6cdbbb8",
   "metadata": {},
   "source": [
    "### Bubble Plot"
   ]
  },
  {
   "cell_type": "code",
   "execution_count": 16,
   "id": "e8d5ce57",
   "metadata": {
    "scrolled": false
   },
   "outputs": [
    {
     "data": {
      "application/vnd.plotly.v1+json": {
       "config": {
        "linkText": "Export to plot.ly",
        "plotlyServerURL": "https://plot.ly",
        "showLink": true
       },
       "data": [
        {
         "marker": {
          "color": [
           "red",
           "red",
           "red",
           "red",
           "red",
           "red",
           "red",
           "red",
           "red",
           "red",
           "red",
           "red",
           "red",
           "red",
           "red",
           "red",
           "red",
           "red",
           "red",
           "red",
           "red",
           "red",
           "red",
           "red",
           "red",
           "red",
           "red",
           "red",
           "red",
           "red",
           "red",
           "red",
           "red",
           "red",
           "red",
           "red",
           "red",
           "red",
           "red",
           "red",
           "red",
           "red",
           "red",
           "red",
           "red",
           "red",
           "red",
           "red",
           "red",
           "red",
           "red",
           "red",
           "red",
           "red",
           "red",
           "red",
           "red",
           "red",
           "red",
           "red",
           "red",
           "red",
           "red",
           "red",
           "red",
           "red",
           "red",
           "red",
           "red",
           "red",
           "red",
           "red",
           "red",
           "red",
           "red",
           "red",
           "red",
           "red",
           "red",
           "red",
           "red",
           "red",
           "red",
           "red",
           "red",
           "red",
           "red",
           "red",
           "red",
           "red",
           "red",
           "red",
           "red",
           "red",
           "red",
           "red",
           "red",
           "red",
           "red",
           "red"
          ],
          "line": {
           "width": 1.3
          },
          "size": [
           90,
           40,
           79,
           85,
           34,
           52,
           80,
           53,
           82,
           71,
           50,
           90,
           52,
           70,
           81,
           98,
           72,
           101,
           75,
           57,
           63,
           12,
           72,
           75,
           66,
           76,
           63,
           82,
           77,
           112,
           88,
           63,
           111,
           71,
           101,
           48,
           62,
           52,
           74,
           82,
           96,
           104,
           45,
           92,
           78,
           62,
           66,
           78,
           58,
           61,
           79,
           78,
           53,
           69,
           71,
           86,
           103,
           76,
           55,
           65,
           63,
           74,
           94,
           68,
           98,
           78,
           92,
           72,
           83,
           23,
           87,
           54,
           65,
           50,
           56,
           76,
           50,
           52,
           61,
           97,
           64,
           53,
           60,
           70,
           65,
           46,
           51,
           53,
           74,
           60,
           55,
           56,
           55,
           81,
           75,
           70,
           111,
           75,
           60,
           72
          ],
          "symbol": "circle"
         },
         "mode": "markers",
         "text": "",
         "type": "scatter",
         "x": [
          1.13798425475934,
          -1.5511667265037368,
          -0.49910781628050077,
          1.085004351054516,
          1.3989590240733099,
          -0.2911375934861317,
          -1.5870990872964883,
          -0.27935482665627126,
          0.3605252492517807,
          -0.2573222198131206,
          0.1282283018327493,
          -0.07523399544764772,
          -1.209782190524917,
          2.0998120955843382,
          0.21015410636408016,
          0.22039843592118114,
          -0.2750042028570783,
          -0.6425752651343553,
          0.04922938202933533,
          -1.151271215568177,
          -0.42520307577080796,
          0.286067143912526,
          0.6534378509385754,
          0.8055892428102114,
          1.6706324275158206,
          -1.9144292516764323,
          -0.7130745443719025,
          0.7132261507336397,
          1.0879917537219244,
          1.1428274385647352,
          1.1052680624561735,
          -0.5017274571551676,
          -0.15486630452781308,
          -0.8648382795499453,
          -0.821833223346524,
          -0.9012730792736585,
          0.6915059079700464,
          0.9054765379391744,
          -1.2976938178943378,
          -2.53565236236453,
          -0.1468560126376463,
          0.7415838145374852,
          0.967262105578842,
          -0.35875049228952205,
          0.8406410200429533,
          -0.03382970251039049,
          0.8707112942651388,
          -1.4962151290981338,
          -0.07482657180383757,
          -2.0160590596318197,
          0.3736129818346688,
          1.6452214643540364,
          1.7483148573896086,
          -1.4782529280436036,
          -0.1851835324174723,
          0.07377001332300753,
          0.36261478198089586,
          0.8651189780670078,
          0.6850474548860096,
          -0.7604619533012311,
          0.6555732095574617,
          -0.2688445662091309,
          2.284918084356147,
          -0.8340569074513916,
          1.6567735333149083,
          0.2924799350386549,
          -0.2735576072888158,
          0.0661601600306233,
          -0.6484239909056564,
          0.3878976614822351,
          -0.7011706453361762,
          0.2833166864898419,
          0.46257195200648377,
          0.5553702337250296,
          -0.5010959672124472,
          -0.14217198426981456,
          0.030937629523973564,
          -0.7574771731657584,
          0.45118790988184454,
          0.8219555020946994,
          0.5957135274819632,
          0.296850683691185,
          -0.12687894891679846,
          1.6095887390402563,
          -0.4527220315030091,
          0.971845763811533,
          0.6888768190349028,
          1.190978115499409,
          1.553954249377355,
          -0.12605990653637028,
          1.3525180232497602,
          0.721154005304942,
          -1.9836464415088655,
          -0.7479971966715627,
          -0.06669017642695914,
          -0.9289839979546476,
          0.4778549545203271,
          0.28213164182506856,
          -1.1155992489230353,
          0.4085009469861413
         ],
         "y": [
          0.7323896324227073,
          -0.3284517281790686,
          -0.4510768322302432,
          1.6259669689281526,
          2.2430313429630293,
          -1.7897441106074743,
          0.569351307124913,
          -0.64587704510535,
          -0.0028811213343762202,
          -0.6373272106113808,
          1.0727062355724828,
          -2.952465256493198,
          1.287542719369616,
          -1.9267498062823034,
          2.0788433396371806,
          0.43073404217299227,
          0.26760125628746445,
          1.0849032546496722,
          1.3952877106807626,
          -0.6565850044269331,
          0.3817056840001886,
          -0.7412006468853344,
          -1.1217400025261557,
          0.6370813567298341,
          -0.5641382119507771,
          0.4634853466013324,
          -0.8584405373757337,
          -0.31182260271644374,
          0.3241918385448195,
          -1.33196541981774,
          -0.32846040497042905,
          -1.6413072197342926,
          0.7173508042526268,
          -1.7799489677323204,
          -1.86186170165096,
          0.10832184935546763,
          -1.0288381651747285,
          -0.545393753019585,
          -0.2650696867162592,
          0.05143818057526999,
          2.4823816265488032,
          -0.2501683134068812,
          -0.8065726277144815,
          0.5501537595048036,
          1.1282774686998163,
          -1.1732802076261226,
          -0.46217213437426197,
          -1.3361758119419371,
          2.5199867408681107,
          2.9378115385841097,
          -0.7262093920427323,
          0.6618920921980426,
          -0.8331597086864062,
          -0.30617972029078255,
          -0.4785044386864302,
          -0.4311874108212848,
          1.059597532517294,
          -1.5851754098869444,
          -0.039793079226337416,
          0.9867240234550703,
          1.3051413089883257,
          -0.5936323554912434,
          -0.7753853225554804,
          0.25590786585761166,
          1.547462128147694,
          -1.1023295816945362,
          -0.6222120723704447,
          -1.3188982035117294,
          -0.3093504949433165,
          -0.6769875209754437,
          -1.2333911783155913,
          -0.25666166671048446,
          -0.16532592175370936,
          -1.5355312465996227,
          -0.044051680488167134,
          -2.1457695866393056,
          0.9910173713062925,
          -1.1693051260643423,
          0.5160990345223325,
          0.3034532039457703,
          0.6409653165213176,
          0.9651791752395708,
          -2.2583982537236387,
          0.9926410629675069,
          1.3397259187632276,
          0.3781172112555631,
          1.5690672504187282,
          -0.03013161830784265,
          0.010106847671662566,
          0.33347285351095557,
          0.9112980654586149,
          0.14301371449262146,
          -0.30880549994744216,
          -2.0760184562581383,
          -0.7149080366700209,
          -0.0918574051416281,
          1.7923015769941466,
          -0.2022523157306176,
          0.04800165228427791,
          2.778983884871559
         ]
        }
       ],
       "layout": {
        "legend": {
         "bgcolor": "#F5F6F9",
         "font": {
          "color": "#4D5663"
         }
        },
        "paper_bgcolor": "#F5F6F9",
        "plot_bgcolor": "#F5F6F9",
        "template": {
         "data": {
          "bar": [
           {
            "error_x": {
             "color": "#2a3f5f"
            },
            "error_y": {
             "color": "#2a3f5f"
            },
            "marker": {
             "line": {
              "color": "#E5ECF6",
              "width": 0.5
             }
            },
            "type": "bar"
           }
          ],
          "barpolar": [
           {
            "marker": {
             "line": {
              "color": "#E5ECF6",
              "width": 0.5
             }
            },
            "type": "barpolar"
           }
          ],
          "carpet": [
           {
            "aaxis": {
             "endlinecolor": "#2a3f5f",
             "gridcolor": "white",
             "linecolor": "white",
             "minorgridcolor": "white",
             "startlinecolor": "#2a3f5f"
            },
            "baxis": {
             "endlinecolor": "#2a3f5f",
             "gridcolor": "white",
             "linecolor": "white",
             "minorgridcolor": "white",
             "startlinecolor": "#2a3f5f"
            },
            "type": "carpet"
           }
          ],
          "choropleth": [
           {
            "colorbar": {
             "outlinewidth": 0,
             "ticks": ""
            },
            "type": "choropleth"
           }
          ],
          "contour": [
           {
            "colorbar": {
             "outlinewidth": 0,
             "ticks": ""
            },
            "colorscale": [
             [
              0,
              "#0d0887"
             ],
             [
              0.1111111111111111,
              "#46039f"
             ],
             [
              0.2222222222222222,
              "#7201a8"
             ],
             [
              0.3333333333333333,
              "#9c179e"
             ],
             [
              0.4444444444444444,
              "#bd3786"
             ],
             [
              0.5555555555555556,
              "#d8576b"
             ],
             [
              0.6666666666666666,
              "#ed7953"
             ],
             [
              0.7777777777777778,
              "#fb9f3a"
             ],
             [
              0.8888888888888888,
              "#fdca26"
             ],
             [
              1,
              "#f0f921"
             ]
            ],
            "type": "contour"
           }
          ],
          "contourcarpet": [
           {
            "colorbar": {
             "outlinewidth": 0,
             "ticks": ""
            },
            "type": "contourcarpet"
           }
          ],
          "heatmap": [
           {
            "colorbar": {
             "outlinewidth": 0,
             "ticks": ""
            },
            "colorscale": [
             [
              0,
              "#0d0887"
             ],
             [
              0.1111111111111111,
              "#46039f"
             ],
             [
              0.2222222222222222,
              "#7201a8"
             ],
             [
              0.3333333333333333,
              "#9c179e"
             ],
             [
              0.4444444444444444,
              "#bd3786"
             ],
             [
              0.5555555555555556,
              "#d8576b"
             ],
             [
              0.6666666666666666,
              "#ed7953"
             ],
             [
              0.7777777777777778,
              "#fb9f3a"
             ],
             [
              0.8888888888888888,
              "#fdca26"
             ],
             [
              1,
              "#f0f921"
             ]
            ],
            "type": "heatmap"
           }
          ],
          "heatmapgl": [
           {
            "colorbar": {
             "outlinewidth": 0,
             "ticks": ""
            },
            "colorscale": [
             [
              0,
              "#0d0887"
             ],
             [
              0.1111111111111111,
              "#46039f"
             ],
             [
              0.2222222222222222,
              "#7201a8"
             ],
             [
              0.3333333333333333,
              "#9c179e"
             ],
             [
              0.4444444444444444,
              "#bd3786"
             ],
             [
              0.5555555555555556,
              "#d8576b"
             ],
             [
              0.6666666666666666,
              "#ed7953"
             ],
             [
              0.7777777777777778,
              "#fb9f3a"
             ],
             [
              0.8888888888888888,
              "#fdca26"
             ],
             [
              1,
              "#f0f921"
             ]
            ],
            "type": "heatmapgl"
           }
          ],
          "histogram": [
           {
            "marker": {
             "colorbar": {
              "outlinewidth": 0,
              "ticks": ""
             }
            },
            "type": "histogram"
           }
          ],
          "histogram2d": [
           {
            "colorbar": {
             "outlinewidth": 0,
             "ticks": ""
            },
            "colorscale": [
             [
              0,
              "#0d0887"
             ],
             [
              0.1111111111111111,
              "#46039f"
             ],
             [
              0.2222222222222222,
              "#7201a8"
             ],
             [
              0.3333333333333333,
              "#9c179e"
             ],
             [
              0.4444444444444444,
              "#bd3786"
             ],
             [
              0.5555555555555556,
              "#d8576b"
             ],
             [
              0.6666666666666666,
              "#ed7953"
             ],
             [
              0.7777777777777778,
              "#fb9f3a"
             ],
             [
              0.8888888888888888,
              "#fdca26"
             ],
             [
              1,
              "#f0f921"
             ]
            ],
            "type": "histogram2d"
           }
          ],
          "histogram2dcontour": [
           {
            "colorbar": {
             "outlinewidth": 0,
             "ticks": ""
            },
            "colorscale": [
             [
              0,
              "#0d0887"
             ],
             [
              0.1111111111111111,
              "#46039f"
             ],
             [
              0.2222222222222222,
              "#7201a8"
             ],
             [
              0.3333333333333333,
              "#9c179e"
             ],
             [
              0.4444444444444444,
              "#bd3786"
             ],
             [
              0.5555555555555556,
              "#d8576b"
             ],
             [
              0.6666666666666666,
              "#ed7953"
             ],
             [
              0.7777777777777778,
              "#fb9f3a"
             ],
             [
              0.8888888888888888,
              "#fdca26"
             ],
             [
              1,
              "#f0f921"
             ]
            ],
            "type": "histogram2dcontour"
           }
          ],
          "mesh3d": [
           {
            "colorbar": {
             "outlinewidth": 0,
             "ticks": ""
            },
            "type": "mesh3d"
           }
          ],
          "parcoords": [
           {
            "line": {
             "colorbar": {
              "outlinewidth": 0,
              "ticks": ""
             }
            },
            "type": "parcoords"
           }
          ],
          "pie": [
           {
            "automargin": true,
            "type": "pie"
           }
          ],
          "scatter": [
           {
            "marker": {
             "colorbar": {
              "outlinewidth": 0,
              "ticks": ""
             }
            },
            "type": "scatter"
           }
          ],
          "scatter3d": [
           {
            "line": {
             "colorbar": {
              "outlinewidth": 0,
              "ticks": ""
             }
            },
            "marker": {
             "colorbar": {
              "outlinewidth": 0,
              "ticks": ""
             }
            },
            "type": "scatter3d"
           }
          ],
          "scattercarpet": [
           {
            "marker": {
             "colorbar": {
              "outlinewidth": 0,
              "ticks": ""
             }
            },
            "type": "scattercarpet"
           }
          ],
          "scattergeo": [
           {
            "marker": {
             "colorbar": {
              "outlinewidth": 0,
              "ticks": ""
             }
            },
            "type": "scattergeo"
           }
          ],
          "scattergl": [
           {
            "marker": {
             "colorbar": {
              "outlinewidth": 0,
              "ticks": ""
             }
            },
            "type": "scattergl"
           }
          ],
          "scattermapbox": [
           {
            "marker": {
             "colorbar": {
              "outlinewidth": 0,
              "ticks": ""
             }
            },
            "type": "scattermapbox"
           }
          ],
          "scatterpolar": [
           {
            "marker": {
             "colorbar": {
              "outlinewidth": 0,
              "ticks": ""
             }
            },
            "type": "scatterpolar"
           }
          ],
          "scatterpolargl": [
           {
            "marker": {
             "colorbar": {
              "outlinewidth": 0,
              "ticks": ""
             }
            },
            "type": "scatterpolargl"
           }
          ],
          "scatterternary": [
           {
            "marker": {
             "colorbar": {
              "outlinewidth": 0,
              "ticks": ""
             }
            },
            "type": "scatterternary"
           }
          ],
          "surface": [
           {
            "colorbar": {
             "outlinewidth": 0,
             "ticks": ""
            },
            "colorscale": [
             [
              0,
              "#0d0887"
             ],
             [
              0.1111111111111111,
              "#46039f"
             ],
             [
              0.2222222222222222,
              "#7201a8"
             ],
             [
              0.3333333333333333,
              "#9c179e"
             ],
             [
              0.4444444444444444,
              "#bd3786"
             ],
             [
              0.5555555555555556,
              "#d8576b"
             ],
             [
              0.6666666666666666,
              "#ed7953"
             ],
             [
              0.7777777777777778,
              "#fb9f3a"
             ],
             [
              0.8888888888888888,
              "#fdca26"
             ],
             [
              1,
              "#f0f921"
             ]
            ],
            "type": "surface"
           }
          ],
          "table": [
           {
            "cells": {
             "fill": {
              "color": "#EBF0F8"
             },
             "line": {
              "color": "white"
             }
            },
            "header": {
             "fill": {
              "color": "#C8D4E3"
             },
             "line": {
              "color": "white"
             }
            },
            "type": "table"
           }
          ]
         },
         "layout": {
          "annotationdefaults": {
           "arrowcolor": "#2a3f5f",
           "arrowhead": 0,
           "arrowwidth": 1
          },
          "autotypenumbers": "strict",
          "coloraxis": {
           "colorbar": {
            "outlinewidth": 0,
            "ticks": ""
           }
          },
          "colorscale": {
           "diverging": [
            [
             0,
             "#8e0152"
            ],
            [
             0.1,
             "#c51b7d"
            ],
            [
             0.2,
             "#de77ae"
            ],
            [
             0.3,
             "#f1b6da"
            ],
            [
             0.4,
             "#fde0ef"
            ],
            [
             0.5,
             "#f7f7f7"
            ],
            [
             0.6,
             "#e6f5d0"
            ],
            [
             0.7,
             "#b8e186"
            ],
            [
             0.8,
             "#7fbc41"
            ],
            [
             0.9,
             "#4d9221"
            ],
            [
             1,
             "#276419"
            ]
           ],
           "sequential": [
            [
             0,
             "#0d0887"
            ],
            [
             0.1111111111111111,
             "#46039f"
            ],
            [
             0.2222222222222222,
             "#7201a8"
            ],
            [
             0.3333333333333333,
             "#9c179e"
            ],
            [
             0.4444444444444444,
             "#bd3786"
            ],
            [
             0.5555555555555556,
             "#d8576b"
            ],
            [
             0.6666666666666666,
             "#ed7953"
            ],
            [
             0.7777777777777778,
             "#fb9f3a"
            ],
            [
             0.8888888888888888,
             "#fdca26"
            ],
            [
             1,
             "#f0f921"
            ]
           ],
           "sequentialminus": [
            [
             0,
             "#0d0887"
            ],
            [
             0.1111111111111111,
             "#46039f"
            ],
            [
             0.2222222222222222,
             "#7201a8"
            ],
            [
             0.3333333333333333,
             "#9c179e"
            ],
            [
             0.4444444444444444,
             "#bd3786"
            ],
            [
             0.5555555555555556,
             "#d8576b"
            ],
            [
             0.6666666666666666,
             "#ed7953"
            ],
            [
             0.7777777777777778,
             "#fb9f3a"
            ],
            [
             0.8888888888888888,
             "#fdca26"
            ],
            [
             1,
             "#f0f921"
            ]
           ]
          },
          "colorway": [
           "#636efa",
           "#EF553B",
           "#00cc96",
           "#ab63fa",
           "#FFA15A",
           "#19d3f3",
           "#FF6692",
           "#B6E880",
           "#FF97FF",
           "#FECB52"
          ],
          "font": {
           "color": "#2a3f5f"
          },
          "geo": {
           "bgcolor": "white",
           "lakecolor": "white",
           "landcolor": "#E5ECF6",
           "showlakes": true,
           "showland": true,
           "subunitcolor": "white"
          },
          "hoverlabel": {
           "align": "left"
          },
          "hovermode": "closest",
          "mapbox": {
           "style": "light"
          },
          "paper_bgcolor": "white",
          "plot_bgcolor": "#E5ECF6",
          "polar": {
           "angularaxis": {
            "gridcolor": "white",
            "linecolor": "white",
            "ticks": ""
           },
           "bgcolor": "#E5ECF6",
           "radialaxis": {
            "gridcolor": "white",
            "linecolor": "white",
            "ticks": ""
           }
          },
          "scene": {
           "xaxis": {
            "backgroundcolor": "#E5ECF6",
            "gridcolor": "white",
            "gridwidth": 2,
            "linecolor": "white",
            "showbackground": true,
            "ticks": "",
            "zerolinecolor": "white"
           },
           "yaxis": {
            "backgroundcolor": "#E5ECF6",
            "gridcolor": "white",
            "gridwidth": 2,
            "linecolor": "white",
            "showbackground": true,
            "ticks": "",
            "zerolinecolor": "white"
           },
           "zaxis": {
            "backgroundcolor": "#E5ECF6",
            "gridcolor": "white",
            "gridwidth": 2,
            "linecolor": "white",
            "showbackground": true,
            "ticks": "",
            "zerolinecolor": "white"
           }
          },
          "shapedefaults": {
           "line": {
            "color": "#2a3f5f"
           }
          },
          "ternary": {
           "aaxis": {
            "gridcolor": "white",
            "linecolor": "white",
            "ticks": ""
           },
           "baxis": {
            "gridcolor": "white",
            "linecolor": "white",
            "ticks": ""
           },
           "bgcolor": "#E5ECF6",
           "caxis": {
            "gridcolor": "white",
            "linecolor": "white",
            "ticks": ""
           }
          },
          "title": {
           "x": 0.05
          },
          "xaxis": {
           "automargin": true,
           "gridcolor": "white",
           "linecolor": "white",
           "ticks": "",
           "title": {
            "standoff": 15
           },
           "zerolinecolor": "white",
           "zerolinewidth": 2
          },
          "yaxis": {
           "automargin": true,
           "gridcolor": "white",
           "linecolor": "white",
           "ticks": "",
           "title": {
            "standoff": 15
           },
           "zerolinecolor": "white",
           "zerolinewidth": 2
          }
         }
        },
        "title": {
         "font": {
          "color": "#4D5663"
         }
        },
        "xaxis": {
         "gridcolor": "#E1E5ED",
         "showgrid": true,
         "tickfont": {
          "color": "#4D5663"
         },
         "title": {
          "font": {
           "color": "#4D5663"
          },
          "text": ""
         },
         "zerolinecolor": "#E1E5ED"
        },
        "yaxis": {
         "gridcolor": "#E1E5ED",
         "showgrid": true,
         "tickfont": {
          "color": "#4D5663"
         },
         "title": {
          "font": {
           "color": "#4D5663"
          },
          "text": ""
         },
         "zerolinecolor": "#E1E5ED"
        }
       }
      },
      "text/html": [
       "<div>                            <div id=\"e40505c8-7096-4753-93a7-d57d3e7d7a09\" class=\"plotly-graph-div\" style=\"height:525px; width:100%;\"></div>            <script type=\"text/javascript\">                require([\"plotly\"], function(Plotly) {                    window.PLOTLYENV=window.PLOTLYENV || {};\n",
       "                    window.PLOTLYENV.BASE_URL='https://plot.ly';                                    if (document.getElementById(\"e40505c8-7096-4753-93a7-d57d3e7d7a09\")) {                    Plotly.newPlot(                        \"e40505c8-7096-4753-93a7-d57d3e7d7a09\",                        [{\"marker\": {\"color\": [\"red\", \"red\", \"red\", \"red\", \"red\", \"red\", \"red\", \"red\", \"red\", \"red\", \"red\", \"red\", \"red\", \"red\", \"red\", \"red\", \"red\", \"red\", \"red\", \"red\", \"red\", \"red\", \"red\", \"red\", \"red\", \"red\", \"red\", \"red\", \"red\", \"red\", \"red\", \"red\", \"red\", \"red\", \"red\", \"red\", \"red\", \"red\", \"red\", \"red\", \"red\", \"red\", \"red\", \"red\", \"red\", \"red\", \"red\", \"red\", \"red\", \"red\", \"red\", \"red\", \"red\", \"red\", \"red\", \"red\", \"red\", \"red\", \"red\", \"red\", \"red\", \"red\", \"red\", \"red\", \"red\", \"red\", \"red\", \"red\", \"red\", \"red\", \"red\", \"red\", \"red\", \"red\", \"red\", \"red\", \"red\", \"red\", \"red\", \"red\", \"red\", \"red\", \"red\", \"red\", \"red\", \"red\", \"red\", \"red\", \"red\", \"red\", \"red\", \"red\", \"red\", \"red\", \"red\", \"red\", \"red\", \"red\", \"red\", \"red\"], \"line\": {\"width\": 1.3}, \"size\": [90, 40, 79, 85, 34, 52, 80, 53, 82, 71, 50, 90, 52, 70, 81, 98, 72, 101, 75, 57, 63, 12, 72, 75, 66, 76, 63, 82, 77, 112, 88, 63, 111, 71, 101, 48, 62, 52, 74, 82, 96, 104, 45, 92, 78, 62, 66, 78, 58, 61, 79, 78, 53, 69, 71, 86, 103, 76, 55, 65, 63, 74, 94, 68, 98, 78, 92, 72, 83, 23, 87, 54, 65, 50, 56, 76, 50, 52, 61, 97, 64, 53, 60, 70, 65, 46, 51, 53, 74, 60, 55, 56, 55, 81, 75, 70, 111, 75, 60, 72], \"symbol\": \"circle\"}, \"mode\": \"markers\", \"text\": \"\", \"type\": \"scatter\", \"x\": [1.13798425475934, -1.5511667265037368, -0.49910781628050077, 1.085004351054516, 1.3989590240733099, -0.2911375934861317, -1.5870990872964883, -0.27935482665627126, 0.3605252492517807, -0.2573222198131206, 0.1282283018327493, -0.07523399544764772, -1.209782190524917, 2.0998120955843382, 0.21015410636408016, 0.22039843592118114, -0.2750042028570783, -0.6425752651343553, 0.04922938202933533, -1.151271215568177, -0.42520307577080796, 0.286067143912526, 0.6534378509385754, 0.8055892428102114, 1.6706324275158206, -1.9144292516764323, -0.7130745443719025, 0.7132261507336397, 1.0879917537219244, 1.1428274385647352, 1.1052680624561735, -0.5017274571551676, -0.15486630452781308, -0.8648382795499453, -0.821833223346524, -0.9012730792736585, 0.6915059079700464, 0.9054765379391744, -1.2976938178943378, -2.53565236236453, -0.1468560126376463, 0.7415838145374852, 0.967262105578842, -0.35875049228952205, 0.8406410200429533, -0.03382970251039049, 0.8707112942651388, -1.4962151290981338, -0.07482657180383757, -2.0160590596318197, 0.3736129818346688, 1.6452214643540364, 1.7483148573896086, -1.4782529280436036, -0.1851835324174723, 0.07377001332300753, 0.36261478198089586, 0.8651189780670078, 0.6850474548860096, -0.7604619533012311, 0.6555732095574617, -0.2688445662091309, 2.284918084356147, -0.8340569074513916, 1.6567735333149083, 0.2924799350386549, -0.2735576072888158, 0.0661601600306233, -0.6484239909056564, 0.3878976614822351, -0.7011706453361762, 0.2833166864898419, 0.46257195200648377, 0.5553702337250296, -0.5010959672124472, -0.14217198426981456, 0.030937629523973564, -0.7574771731657584, 0.45118790988184454, 0.8219555020946994, 0.5957135274819632, 0.296850683691185, -0.12687894891679846, 1.6095887390402563, -0.4527220315030091, 0.971845763811533, 0.6888768190349028, 1.190978115499409, 1.553954249377355, -0.12605990653637028, 1.3525180232497602, 0.721154005304942, -1.9836464415088655, -0.7479971966715627, -0.06669017642695914, -0.9289839979546476, 0.4778549545203271, 0.28213164182506856, -1.1155992489230353, 0.4085009469861413], \"y\": [0.7323896324227073, -0.3284517281790686, -0.4510768322302432, 1.6259669689281526, 2.2430313429630293, -1.7897441106074743, 0.569351307124913, -0.64587704510535, -0.0028811213343762202, -0.6373272106113808, 1.0727062355724828, -2.952465256493198, 1.287542719369616, -1.9267498062823034, 2.0788433396371806, 0.43073404217299227, 0.26760125628746445, 1.0849032546496722, 1.3952877106807626, -0.6565850044269331, 0.3817056840001886, -0.7412006468853344, -1.1217400025261557, 0.6370813567298341, -0.5641382119507771, 0.4634853466013324, -0.8584405373757337, -0.31182260271644374, 0.3241918385448195, -1.33196541981774, -0.32846040497042905, -1.6413072197342926, 0.7173508042526268, -1.7799489677323204, -1.86186170165096, 0.10832184935546763, -1.0288381651747285, -0.545393753019585, -0.2650696867162592, 0.05143818057526999, 2.4823816265488032, -0.2501683134068812, -0.8065726277144815, 0.5501537595048036, 1.1282774686998163, -1.1732802076261226, -0.46217213437426197, -1.3361758119419371, 2.5199867408681107, 2.9378115385841097, -0.7262093920427323, 0.6618920921980426, -0.8331597086864062, -0.30617972029078255, -0.4785044386864302, -0.4311874108212848, 1.059597532517294, -1.5851754098869444, -0.039793079226337416, 0.9867240234550703, 1.3051413089883257, -0.5936323554912434, -0.7753853225554804, 0.25590786585761166, 1.547462128147694, -1.1023295816945362, -0.6222120723704447, -1.3188982035117294, -0.3093504949433165, -0.6769875209754437, -1.2333911783155913, -0.25666166671048446, -0.16532592175370936, -1.5355312465996227, -0.044051680488167134, -2.1457695866393056, 0.9910173713062925, -1.1693051260643423, 0.5160990345223325, 0.3034532039457703, 0.6409653165213176, 0.9651791752395708, -2.2583982537236387, 0.9926410629675069, 1.3397259187632276, 0.3781172112555631, 1.5690672504187282, -0.03013161830784265, 0.010106847671662566, 0.33347285351095557, 0.9112980654586149, 0.14301371449262146, -0.30880549994744216, -2.0760184562581383, -0.7149080366700209, -0.0918574051416281, 1.7923015769941466, -0.2022523157306176, 0.04800165228427791, 2.778983884871559]}],                        {\"legend\": {\"bgcolor\": \"#F5F6F9\", \"font\": {\"color\": \"#4D5663\"}}, \"paper_bgcolor\": \"#F5F6F9\", \"plot_bgcolor\": \"#F5F6F9\", \"template\": {\"data\": {\"bar\": [{\"error_x\": {\"color\": \"#2a3f5f\"}, \"error_y\": {\"color\": \"#2a3f5f\"}, \"marker\": {\"line\": {\"color\": \"#E5ECF6\", \"width\": 0.5}}, \"type\": \"bar\"}], \"barpolar\": [{\"marker\": {\"line\": {\"color\": \"#E5ECF6\", \"width\": 0.5}}, \"type\": \"barpolar\"}], \"carpet\": [{\"aaxis\": {\"endlinecolor\": \"#2a3f5f\", \"gridcolor\": \"white\", \"linecolor\": \"white\", \"minorgridcolor\": \"white\", \"startlinecolor\": \"#2a3f5f\"}, \"baxis\": {\"endlinecolor\": \"#2a3f5f\", \"gridcolor\": \"white\", \"linecolor\": \"white\", \"minorgridcolor\": \"white\", \"startlinecolor\": \"#2a3f5f\"}, \"type\": \"carpet\"}], \"choropleth\": [{\"colorbar\": {\"outlinewidth\": 0, \"ticks\": \"\"}, \"type\": \"choropleth\"}], \"contour\": [{\"colorbar\": {\"outlinewidth\": 0, \"ticks\": \"\"}, \"colorscale\": [[0.0, \"#0d0887\"], [0.1111111111111111, \"#46039f\"], [0.2222222222222222, \"#7201a8\"], [0.3333333333333333, \"#9c179e\"], [0.4444444444444444, \"#bd3786\"], [0.5555555555555556, \"#d8576b\"], [0.6666666666666666, \"#ed7953\"], [0.7777777777777778, \"#fb9f3a\"], [0.8888888888888888, \"#fdca26\"], [1.0, \"#f0f921\"]], \"type\": \"contour\"}], \"contourcarpet\": [{\"colorbar\": {\"outlinewidth\": 0, \"ticks\": \"\"}, \"type\": \"contourcarpet\"}], \"heatmap\": [{\"colorbar\": {\"outlinewidth\": 0, \"ticks\": \"\"}, \"colorscale\": [[0.0, \"#0d0887\"], [0.1111111111111111, \"#46039f\"], [0.2222222222222222, \"#7201a8\"], [0.3333333333333333, \"#9c179e\"], [0.4444444444444444, \"#bd3786\"], [0.5555555555555556, \"#d8576b\"], [0.6666666666666666, \"#ed7953\"], [0.7777777777777778, \"#fb9f3a\"], [0.8888888888888888, \"#fdca26\"], [1.0, \"#f0f921\"]], \"type\": \"heatmap\"}], \"heatmapgl\": [{\"colorbar\": {\"outlinewidth\": 0, \"ticks\": \"\"}, \"colorscale\": [[0.0, \"#0d0887\"], [0.1111111111111111, \"#46039f\"], [0.2222222222222222, \"#7201a8\"], [0.3333333333333333, \"#9c179e\"], [0.4444444444444444, \"#bd3786\"], [0.5555555555555556, \"#d8576b\"], [0.6666666666666666, \"#ed7953\"], [0.7777777777777778, \"#fb9f3a\"], [0.8888888888888888, \"#fdca26\"], [1.0, \"#f0f921\"]], \"type\": \"heatmapgl\"}], \"histogram\": [{\"marker\": {\"colorbar\": {\"outlinewidth\": 0, \"ticks\": \"\"}}, \"type\": \"histogram\"}], \"histogram2d\": [{\"colorbar\": {\"outlinewidth\": 0, \"ticks\": \"\"}, \"colorscale\": [[0.0, \"#0d0887\"], [0.1111111111111111, \"#46039f\"], [0.2222222222222222, \"#7201a8\"], [0.3333333333333333, \"#9c179e\"], [0.4444444444444444, \"#bd3786\"], [0.5555555555555556, \"#d8576b\"], [0.6666666666666666, \"#ed7953\"], [0.7777777777777778, \"#fb9f3a\"], [0.8888888888888888, \"#fdca26\"], [1.0, \"#f0f921\"]], \"type\": \"histogram2d\"}], \"histogram2dcontour\": [{\"colorbar\": {\"outlinewidth\": 0, \"ticks\": \"\"}, \"colorscale\": [[0.0, \"#0d0887\"], [0.1111111111111111, \"#46039f\"], [0.2222222222222222, \"#7201a8\"], [0.3333333333333333, \"#9c179e\"], [0.4444444444444444, \"#bd3786\"], [0.5555555555555556, \"#d8576b\"], [0.6666666666666666, \"#ed7953\"], [0.7777777777777778, \"#fb9f3a\"], [0.8888888888888888, \"#fdca26\"], [1.0, \"#f0f921\"]], \"type\": \"histogram2dcontour\"}], \"mesh3d\": [{\"colorbar\": {\"outlinewidth\": 0, \"ticks\": \"\"}, \"type\": \"mesh3d\"}], \"parcoords\": [{\"line\": {\"colorbar\": {\"outlinewidth\": 0, \"ticks\": \"\"}}, \"type\": \"parcoords\"}], \"pie\": [{\"automargin\": true, \"type\": \"pie\"}], \"scatter\": [{\"marker\": {\"colorbar\": {\"outlinewidth\": 0, \"ticks\": \"\"}}, \"type\": \"scatter\"}], \"scatter3d\": [{\"line\": {\"colorbar\": {\"outlinewidth\": 0, \"ticks\": \"\"}}, \"marker\": {\"colorbar\": {\"outlinewidth\": 0, \"ticks\": \"\"}}, \"type\": \"scatter3d\"}], \"scattercarpet\": [{\"marker\": {\"colorbar\": {\"outlinewidth\": 0, \"ticks\": \"\"}}, \"type\": \"scattercarpet\"}], \"scattergeo\": [{\"marker\": {\"colorbar\": {\"outlinewidth\": 0, \"ticks\": \"\"}}, \"type\": \"scattergeo\"}], \"scattergl\": [{\"marker\": {\"colorbar\": {\"outlinewidth\": 0, \"ticks\": \"\"}}, \"type\": \"scattergl\"}], \"scattermapbox\": [{\"marker\": {\"colorbar\": {\"outlinewidth\": 0, \"ticks\": \"\"}}, \"type\": \"scattermapbox\"}], \"scatterpolar\": [{\"marker\": {\"colorbar\": {\"outlinewidth\": 0, \"ticks\": \"\"}}, \"type\": \"scatterpolar\"}], \"scatterpolargl\": [{\"marker\": {\"colorbar\": {\"outlinewidth\": 0, \"ticks\": \"\"}}, \"type\": \"scatterpolargl\"}], \"scatterternary\": [{\"marker\": {\"colorbar\": {\"outlinewidth\": 0, \"ticks\": \"\"}}, \"type\": \"scatterternary\"}], \"surface\": [{\"colorbar\": {\"outlinewidth\": 0, \"ticks\": \"\"}, \"colorscale\": [[0.0, \"#0d0887\"], [0.1111111111111111, \"#46039f\"], [0.2222222222222222, \"#7201a8\"], [0.3333333333333333, \"#9c179e\"], [0.4444444444444444, \"#bd3786\"], [0.5555555555555556, \"#d8576b\"], [0.6666666666666666, \"#ed7953\"], [0.7777777777777778, \"#fb9f3a\"], [0.8888888888888888, \"#fdca26\"], [1.0, \"#f0f921\"]], \"type\": \"surface\"}], \"table\": [{\"cells\": {\"fill\": {\"color\": \"#EBF0F8\"}, \"line\": {\"color\": \"white\"}}, \"header\": {\"fill\": {\"color\": \"#C8D4E3\"}, \"line\": {\"color\": \"white\"}}, \"type\": \"table\"}]}, \"layout\": {\"annotationdefaults\": {\"arrowcolor\": \"#2a3f5f\", \"arrowhead\": 0, \"arrowwidth\": 1}, \"autotypenumbers\": \"strict\", \"coloraxis\": {\"colorbar\": {\"outlinewidth\": 0, \"ticks\": \"\"}}, \"colorscale\": {\"diverging\": [[0, \"#8e0152\"], [0.1, \"#c51b7d\"], [0.2, \"#de77ae\"], [0.3, \"#f1b6da\"], [0.4, \"#fde0ef\"], [0.5, \"#f7f7f7\"], [0.6, \"#e6f5d0\"], [0.7, \"#b8e186\"], [0.8, \"#7fbc41\"], [0.9, \"#4d9221\"], [1, \"#276419\"]], \"sequential\": [[0.0, \"#0d0887\"], [0.1111111111111111, \"#46039f\"], [0.2222222222222222, \"#7201a8\"], [0.3333333333333333, \"#9c179e\"], [0.4444444444444444, \"#bd3786\"], [0.5555555555555556, \"#d8576b\"], [0.6666666666666666, \"#ed7953\"], [0.7777777777777778, \"#fb9f3a\"], [0.8888888888888888, \"#fdca26\"], [1.0, \"#f0f921\"]], \"sequentialminus\": [[0.0, \"#0d0887\"], [0.1111111111111111, \"#46039f\"], [0.2222222222222222, \"#7201a8\"], [0.3333333333333333, \"#9c179e\"], [0.4444444444444444, \"#bd3786\"], [0.5555555555555556, \"#d8576b\"], [0.6666666666666666, \"#ed7953\"], [0.7777777777777778, \"#fb9f3a\"], [0.8888888888888888, \"#fdca26\"], [1.0, \"#f0f921\"]]}, \"colorway\": [\"#636efa\", \"#EF553B\", \"#00cc96\", \"#ab63fa\", \"#FFA15A\", \"#19d3f3\", \"#FF6692\", \"#B6E880\", \"#FF97FF\", \"#FECB52\"], \"font\": {\"color\": \"#2a3f5f\"}, \"geo\": {\"bgcolor\": \"white\", \"lakecolor\": \"white\", \"landcolor\": \"#E5ECF6\", \"showlakes\": true, \"showland\": true, \"subunitcolor\": \"white\"}, \"hoverlabel\": {\"align\": \"left\"}, \"hovermode\": \"closest\", \"mapbox\": {\"style\": \"light\"}, \"paper_bgcolor\": \"white\", \"plot_bgcolor\": \"#E5ECF6\", \"polar\": {\"angularaxis\": {\"gridcolor\": \"white\", \"linecolor\": \"white\", \"ticks\": \"\"}, \"bgcolor\": \"#E5ECF6\", \"radialaxis\": {\"gridcolor\": \"white\", \"linecolor\": \"white\", \"ticks\": \"\"}}, \"scene\": {\"xaxis\": {\"backgroundcolor\": \"#E5ECF6\", \"gridcolor\": \"white\", \"gridwidth\": 2, \"linecolor\": \"white\", \"showbackground\": true, \"ticks\": \"\", \"zerolinecolor\": \"white\"}, \"yaxis\": {\"backgroundcolor\": \"#E5ECF6\", \"gridcolor\": \"white\", \"gridwidth\": 2, \"linecolor\": \"white\", \"showbackground\": true, \"ticks\": \"\", \"zerolinecolor\": \"white\"}, \"zaxis\": {\"backgroundcolor\": \"#E5ECF6\", \"gridcolor\": \"white\", \"gridwidth\": 2, \"linecolor\": \"white\", \"showbackground\": true, \"ticks\": \"\", \"zerolinecolor\": \"white\"}}, \"shapedefaults\": {\"line\": {\"color\": \"#2a3f5f\"}}, \"ternary\": {\"aaxis\": {\"gridcolor\": \"white\", \"linecolor\": \"white\", \"ticks\": \"\"}, \"baxis\": {\"gridcolor\": \"white\", \"linecolor\": \"white\", \"ticks\": \"\"}, \"bgcolor\": \"#E5ECF6\", \"caxis\": {\"gridcolor\": \"white\", \"linecolor\": \"white\", \"ticks\": \"\"}}, \"title\": {\"x\": 0.05}, \"xaxis\": {\"automargin\": true, \"gridcolor\": \"white\", \"linecolor\": \"white\", \"ticks\": \"\", \"title\": {\"standoff\": 15}, \"zerolinecolor\": \"white\", \"zerolinewidth\": 2}, \"yaxis\": {\"automargin\": true, \"gridcolor\": \"white\", \"linecolor\": \"white\", \"ticks\": \"\", \"title\": {\"standoff\": 15}, \"zerolinecolor\": \"white\", \"zerolinewidth\": 2}}}, \"title\": {\"font\": {\"color\": \"#4D5663\"}}, \"xaxis\": {\"gridcolor\": \"#E1E5ED\", \"showgrid\": true, \"tickfont\": {\"color\": \"#4D5663\"}, \"title\": {\"font\": {\"color\": \"#4D5663\"}, \"text\": \"\"}, \"zerolinecolor\": \"#E1E5ED\"}, \"yaxis\": {\"gridcolor\": \"#E1E5ED\", \"showgrid\": true, \"tickfont\": {\"color\": \"#4D5663\"}, \"title\": {\"font\": {\"color\": \"#4D5663\"}, \"text\": \"\"}, \"zerolinecolor\": \"#E1E5ED\"}},                        {\"showLink\": true, \"linkText\": \"Export to plot.ly\", \"plotlyServerURL\": \"https://plot.ly\", \"responsive\": true}                    ).then(function(){\n",
       "                            \n",
       "var gd = document.getElementById('e40505c8-7096-4753-93a7-d57d3e7d7a09');\n",
       "var x = new MutationObserver(function (mutations, observer) {{\n",
       "        var display = window.getComputedStyle(gd).display;\n",
       "        if (!display || display === 'none') {{\n",
       "            console.log([gd, 'removed!']);\n",
       "            Plotly.purge(gd);\n",
       "            observer.disconnect();\n",
       "        }}\n",
       "}});\n",
       "\n",
       "// Listen for the removal of the full notebook cells\n",
       "var notebookContainer = gd.closest('#notebook-container');\n",
       "if (notebookContainer) {{\n",
       "    x.observe(notebookContainer, {childList: true});\n",
       "}}\n",
       "\n",
       "// Listen for the clearing of the current output cell\n",
       "var outputEl = gd.closest('.output');\n",
       "if (outputEl) {{\n",
       "    x.observe(outputEl, {childList: true});\n",
       "}}\n",
       "\n",
       "                        })                };                });            </script>        </div>"
      ]
     },
     "metadata": {},
     "output_type": "display_data"
    }
   ],
   "source": [
    "df.iplot(kind='bubble',x='A',y='B',size='C',colors=\"red\")"
   ]
  },
  {
   "cell_type": "markdown",
   "id": "b79adfcb",
   "metadata": {},
   "source": [
    "### Scatter Matrix"
   ]
  },
  {
   "cell_type": "code",
   "execution_count": 17,
   "id": "23fac8bd",
   "metadata": {},
   "outputs": [
    {
     "data": {
      "application/vnd.plotly.v1+json": {
       "config": {
        "linkText": "Export to plot.ly",
        "plotlyServerURL": "https://plot.ly",
        "showLink": true
       },
       "data": [
        {
         "histfunc": "count",
         "histnorm": "",
         "marker": {
          "color": "rgba(255, 153, 51, 1.0)",
          "line": {
           "color": "#4D5663",
           "width": 1.3
          }
         },
         "name": "A",
         "nbinsx": 10,
         "opacity": 0.8,
         "orientation": "v",
         "type": "histogram",
         "x": [
          1.13798425475934,
          -1.5511667265037368,
          -0.49910781628050077,
          1.085004351054516,
          1.3989590240733099,
          -0.2911375934861317,
          -1.5870990872964883,
          -0.27935482665627126,
          0.3605252492517807,
          -0.2573222198131206,
          0.1282283018327493,
          -0.07523399544764772,
          -1.209782190524917,
          2.0998120955843382,
          0.21015410636408016,
          0.22039843592118114,
          -0.2750042028570783,
          -0.6425752651343553,
          0.04922938202933533,
          -1.151271215568177,
          -0.42520307577080796,
          0.286067143912526,
          0.6534378509385754,
          0.8055892428102114,
          1.6706324275158206,
          -1.9144292516764323,
          -0.7130745443719025,
          0.7132261507336397,
          1.0879917537219244,
          1.1428274385647352,
          1.1052680624561735,
          -0.5017274571551676,
          -0.15486630452781308,
          -0.8648382795499453,
          -0.821833223346524,
          -0.9012730792736585,
          0.6915059079700464,
          0.9054765379391744,
          -1.2976938178943378,
          -2.53565236236453,
          -0.1468560126376463,
          0.7415838145374852,
          0.967262105578842,
          -0.35875049228952205,
          0.8406410200429533,
          -0.03382970251039049,
          0.8707112942651388,
          -1.4962151290981338,
          -0.07482657180383757,
          -2.0160590596318197,
          0.3736129818346688,
          1.6452214643540364,
          1.7483148573896086,
          -1.4782529280436036,
          -0.1851835324174723,
          0.07377001332300753,
          0.36261478198089586,
          0.8651189780670078,
          0.6850474548860096,
          -0.7604619533012311,
          0.6555732095574617,
          -0.2688445662091309,
          2.284918084356147,
          -0.8340569074513916,
          1.6567735333149083,
          0.2924799350386549,
          -0.2735576072888158,
          0.0661601600306233,
          -0.6484239909056564,
          0.3878976614822351,
          -0.7011706453361762,
          0.2833166864898419,
          0.46257195200648377,
          0.5553702337250296,
          -0.5010959672124472,
          -0.14217198426981456,
          0.030937629523973564,
          -0.7574771731657584,
          0.45118790988184454,
          0.8219555020946994,
          0.5957135274819632,
          0.296850683691185,
          -0.12687894891679846,
          1.6095887390402563,
          -0.4527220315030091,
          0.971845763811533,
          0.6888768190349028,
          1.190978115499409,
          1.553954249377355,
          -0.12605990653637028,
          1.3525180232497602,
          0.721154005304942,
          -1.9836464415088655,
          -0.7479971966715627,
          -0.06669017642695914,
          -0.9289839979546476,
          0.4778549545203271,
          0.28213164182506856,
          -1.1155992489230353,
          0.4085009469861413
         ],
         "xaxis": "x",
         "yaxis": "y"
        },
        {
         "line": {
          "color": "rgba(128, 128, 128, 1.0)",
          "dash": "solid",
          "shape": "linear",
          "width": 1.3
         },
         "marker": {
          "size": 2,
          "symbol": "circle"
         },
         "mode": "markers",
         "name": "A",
         "text": "",
         "type": "scatter",
         "x": [
          0.7323896324227073,
          -0.3284517281790686,
          -0.4510768322302432,
          1.6259669689281526,
          2.2430313429630293,
          -1.7897441106074743,
          0.569351307124913,
          -0.64587704510535,
          -0.0028811213343762202,
          -0.6373272106113808,
          1.0727062355724828,
          -2.952465256493198,
          1.287542719369616,
          -1.9267498062823034,
          2.0788433396371806,
          0.43073404217299227,
          0.26760125628746445,
          1.0849032546496722,
          1.3952877106807626,
          -0.6565850044269331,
          0.3817056840001886,
          -0.7412006468853344,
          -1.1217400025261557,
          0.6370813567298341,
          -0.5641382119507771,
          0.4634853466013324,
          -0.8584405373757337,
          -0.31182260271644374,
          0.3241918385448195,
          -1.33196541981774,
          -0.32846040497042905,
          -1.6413072197342926,
          0.7173508042526268,
          -1.7799489677323204,
          -1.86186170165096,
          0.10832184935546763,
          -1.0288381651747285,
          -0.545393753019585,
          -0.2650696867162592,
          0.05143818057526999,
          2.4823816265488032,
          -0.2501683134068812,
          -0.8065726277144815,
          0.5501537595048036,
          1.1282774686998163,
          -1.1732802076261226,
          -0.46217213437426197,
          -1.3361758119419371,
          2.5199867408681107,
          2.9378115385841097,
          -0.7262093920427323,
          0.6618920921980426,
          -0.8331597086864062,
          -0.30617972029078255,
          -0.4785044386864302,
          -0.4311874108212848,
          1.059597532517294,
          -1.5851754098869444,
          -0.039793079226337416,
          0.9867240234550703,
          1.3051413089883257,
          -0.5936323554912434,
          -0.7753853225554804,
          0.25590786585761166,
          1.547462128147694,
          -1.1023295816945362,
          -0.6222120723704447,
          -1.3188982035117294,
          -0.3093504949433165,
          -0.6769875209754437,
          -1.2333911783155913,
          -0.25666166671048446,
          -0.16532592175370936,
          -1.5355312465996227,
          -0.044051680488167134,
          -2.1457695866393056,
          0.9910173713062925,
          -1.1693051260643423,
          0.5160990345223325,
          0.3034532039457703,
          0.6409653165213176,
          0.9651791752395708,
          -2.2583982537236387,
          0.9926410629675069,
          1.3397259187632276,
          0.3781172112555631,
          1.5690672504187282,
          -0.03013161830784265,
          0.010106847671662566,
          0.33347285351095557,
          0.9112980654586149,
          0.14301371449262146,
          -0.30880549994744216,
          -2.0760184562581383,
          -0.7149080366700209,
          -0.0918574051416281,
          1.7923015769941466,
          -0.2022523157306176,
          0.04800165228427791,
          2.778983884871559
         ],
         "xaxis": "x2",
         "y": [
          1.13798425475934,
          -1.5511667265037368,
          -0.49910781628050077,
          1.085004351054516,
          1.3989590240733099,
          -0.2911375934861317,
          -1.5870990872964883,
          -0.27935482665627126,
          0.3605252492517807,
          -0.2573222198131206,
          0.1282283018327493,
          -0.07523399544764772,
          -1.209782190524917,
          2.0998120955843382,
          0.21015410636408016,
          0.22039843592118114,
          -0.2750042028570783,
          -0.6425752651343553,
          0.04922938202933533,
          -1.151271215568177,
          -0.42520307577080796,
          0.286067143912526,
          0.6534378509385754,
          0.8055892428102114,
          1.6706324275158206,
          -1.9144292516764323,
          -0.7130745443719025,
          0.7132261507336397,
          1.0879917537219244,
          1.1428274385647352,
          1.1052680624561735,
          -0.5017274571551676,
          -0.15486630452781308,
          -0.8648382795499453,
          -0.821833223346524,
          -0.9012730792736585,
          0.6915059079700464,
          0.9054765379391744,
          -1.2976938178943378,
          -2.53565236236453,
          -0.1468560126376463,
          0.7415838145374852,
          0.967262105578842,
          -0.35875049228952205,
          0.8406410200429533,
          -0.03382970251039049,
          0.8707112942651388,
          -1.4962151290981338,
          -0.07482657180383757,
          -2.0160590596318197,
          0.3736129818346688,
          1.6452214643540364,
          1.7483148573896086,
          -1.4782529280436036,
          -0.1851835324174723,
          0.07377001332300753,
          0.36261478198089586,
          0.8651189780670078,
          0.6850474548860096,
          -0.7604619533012311,
          0.6555732095574617,
          -0.2688445662091309,
          2.284918084356147,
          -0.8340569074513916,
          1.6567735333149083,
          0.2924799350386549,
          -0.2735576072888158,
          0.0661601600306233,
          -0.6484239909056564,
          0.3878976614822351,
          -0.7011706453361762,
          0.2833166864898419,
          0.46257195200648377,
          0.5553702337250296,
          -0.5010959672124472,
          -0.14217198426981456,
          0.030937629523973564,
          -0.7574771731657584,
          0.45118790988184454,
          0.8219555020946994,
          0.5957135274819632,
          0.296850683691185,
          -0.12687894891679846,
          1.6095887390402563,
          -0.4527220315030091,
          0.971845763811533,
          0.6888768190349028,
          1.190978115499409,
          1.553954249377355,
          -0.12605990653637028,
          1.3525180232497602,
          0.721154005304942,
          -1.9836464415088655,
          -0.7479971966715627,
          -0.06669017642695914,
          -0.9289839979546476,
          0.4778549545203271,
          0.28213164182506856,
          -1.1155992489230353,
          0.4085009469861413
         ],
         "yaxis": "y2"
        },
        {
         "line": {
          "color": "rgba(128, 128, 128, 1.0)",
          "dash": "solid",
          "shape": "linear",
          "width": 1.3
         },
         "marker": {
          "size": 2,
          "symbol": "circle"
         },
         "mode": "markers",
         "name": "A",
         "text": "",
         "type": "scatter",
         "x": [
          0.9222841373662842,
          -1.6804994666692668,
          0.3597681214930154,
          0.6946653457572813,
          -2.0228248476213033,
          -1.0666487463970504,
          0.3918601175968837,
          -1.0282306181688932,
          0.5043984366695315,
          -0.07651377152407639,
          -1.1623285544689614,
          0.9276143123506188,
          -1.090707015726742,
          -0.0931033450196046,
          0.4494439386635046,
          1.3714070313913298,
          -0.006318827300825494,
          1.5334398479509452,
          0.1612247171096429,
          -0.8019535864381443,
          -0.4881139574035609,
          -3.200042310179826,
          -0.03973690325032663,
          0.1469945458180234,
          -0.3114419421366963,
          0.20610076222518958,
          -0.5087114064580988,
          0.5334918748187668,
          0.2300146757080329,
          2.0670623682633136,
          0.8122964573456442,
          -0.5035504536337416,
          2.0609413304506967,
          -0.08935908323816356,
          1.5025156623202247,
          -1.2553037135233935,
          -0.5319221271715704,
          -1.0637936723981234,
          0.06723297017675449,
          0.5364541059211533,
          1.2525873959994334,
          1.6662869339320394,
          -1.427116342119559,
          1.0194420299278972,
          0.306989560029641,
          -0.5196358641816051,
          -0.30377574299331916,
          0.27850589876295145,
          -0.7607399517383897,
          -0.5702097644362375,
          0.3794360312670967,
          0.2849820599649263,
          -1.0247331757452582,
          -0.19712726346279044,
          -0.08737784294508043,
          0.7237044359826967,
          1.609588255758794,
          0.20354667439932378,
          -0.891918707340523,
          -0.3995257015270211,
          -0.4659778200620951,
          0.08922465615535513,
          1.130825856287499,
          -0.20675754509165864,
          1.3781811671034254,
          0.3026670169557407,
          1.0362145555068512,
          -0.028708808313712846,
          0.5897544927483535,
          -2.611862914600978,
          0.7859570095002909,
          -0.946454230866487,
          -0.40844451644157775,
          -1.1878447427647347,
          -0.8757213429417575,
          0.18141390708277777,
          -1.1925725795000022,
          -1.0830257229794367,
          -0.5691774720845683,
          1.2774508206588515,
          -0.45305354859705826,
          -1.0095700521188944,
          -0.6510699768671271,
          -0.10339800580912871,
          -0.3877013120159667,
          -1.3619512413525672,
          -1.1424960904648973,
          -1.0095360276547143,
          0.07749438904283287,
          -0.6663397998664455,
          -0.9043270074967882,
          -0.874141472868618,
          -0.9056454426723413,
          0.44926413048963243,
          0.15125183254240057,
          -0.11461729288434383,
          2.0234431862789983,
          0.13000998885060866,
          -0.6430570001159673,
          -0.021010091840642033
         ],
         "xaxis": "x3",
         "y": [
          1.13798425475934,
          -1.5511667265037368,
          -0.49910781628050077,
          1.085004351054516,
          1.3989590240733099,
          -0.2911375934861317,
          -1.5870990872964883,
          -0.27935482665627126,
          0.3605252492517807,
          -0.2573222198131206,
          0.1282283018327493,
          -0.07523399544764772,
          -1.209782190524917,
          2.0998120955843382,
          0.21015410636408016,
          0.22039843592118114,
          -0.2750042028570783,
          -0.6425752651343553,
          0.04922938202933533,
          -1.151271215568177,
          -0.42520307577080796,
          0.286067143912526,
          0.6534378509385754,
          0.8055892428102114,
          1.6706324275158206,
          -1.9144292516764323,
          -0.7130745443719025,
          0.7132261507336397,
          1.0879917537219244,
          1.1428274385647352,
          1.1052680624561735,
          -0.5017274571551676,
          -0.15486630452781308,
          -0.8648382795499453,
          -0.821833223346524,
          -0.9012730792736585,
          0.6915059079700464,
          0.9054765379391744,
          -1.2976938178943378,
          -2.53565236236453,
          -0.1468560126376463,
          0.7415838145374852,
          0.967262105578842,
          -0.35875049228952205,
          0.8406410200429533,
          -0.03382970251039049,
          0.8707112942651388,
          -1.4962151290981338,
          -0.07482657180383757,
          -2.0160590596318197,
          0.3736129818346688,
          1.6452214643540364,
          1.7483148573896086,
          -1.4782529280436036,
          -0.1851835324174723,
          0.07377001332300753,
          0.36261478198089586,
          0.8651189780670078,
          0.6850474548860096,
          -0.7604619533012311,
          0.6555732095574617,
          -0.2688445662091309,
          2.284918084356147,
          -0.8340569074513916,
          1.6567735333149083,
          0.2924799350386549,
          -0.2735576072888158,
          0.0661601600306233,
          -0.6484239909056564,
          0.3878976614822351,
          -0.7011706453361762,
          0.2833166864898419,
          0.46257195200648377,
          0.5553702337250296,
          -0.5010959672124472,
          -0.14217198426981456,
          0.030937629523973564,
          -0.7574771731657584,
          0.45118790988184454,
          0.8219555020946994,
          0.5957135274819632,
          0.296850683691185,
          -0.12687894891679846,
          1.6095887390402563,
          -0.4527220315030091,
          0.971845763811533,
          0.6888768190349028,
          1.190978115499409,
          1.553954249377355,
          -0.12605990653637028,
          1.3525180232497602,
          0.721154005304942,
          -1.9836464415088655,
          -0.7479971966715627,
          -0.06669017642695914,
          -0.9289839979546476,
          0.4778549545203271,
          0.28213164182506856,
          -1.1155992489230353,
          0.4085009469861413
         ],
         "yaxis": "y3"
        },
        {
         "line": {
          "color": "rgba(128, 128, 128, 1.0)",
          "dash": "solid",
          "shape": "linear",
          "width": 1.3
         },
         "marker": {
          "size": 2,
          "symbol": "circle"
         },
         "mode": "markers",
         "name": "A",
         "text": "",
         "type": "scatter",
         "x": [
          -0.49276694005153754,
          -1.5986208578767598,
          0.7491265136981557,
          1.312156108991257,
          0.08453779531317554,
          -0.2187343733372969,
          -0.8379765304819816,
          -0.0511028279959056,
          -0.017316963261710693,
          -1.0118519948123361,
          -0.16370932061274415,
          0.6458615260403444,
          -0.2244178728724846,
          -1.520217744365132,
          1.4283129738497007,
          0.25468222071115176,
          -0.38140155346182825,
          1.380638721998429,
          1.4520895824746396,
          -1.5319514701306376,
          -1.8828405990802903,
          0.9929435493683337,
          0.0926308022668882,
          0.8749211070050118,
          0.6223522233213582,
          -2.4089503300794064,
          -0.19754282713332516,
          -1.6476161906707616,
          1.6401794144989228,
          -0.6369476207431659,
          0.6974161394541564,
          -0.40020788591131307,
          0.9950022712269592,
          -0.44466503658659795,
          0.12599943253474874,
          -0.3707222092344457,
          1.9828291878087414,
          -0.658017774044128,
          -2.4079520031370234,
          0.038133392728422366,
          0.8472151165833635,
          0.5134263518989487,
          1.3526642802214088,
          -1.5860897426341527,
          1.6778139827116016,
          0.7640590919587001,
          0.7771332307041993,
          1.3528508384931222,
          0.9513228631476397,
          2.0711099176175964,
          -2.5368404843510173,
          -1.3415192299160754,
          -2.2198664797204213,
          0.26407355848848957,
          -0.9228894243282747,
          0.3903893166092727,
          0.690495614429746,
          2.6294349664221834,
          -1.0018758618494499,
          -0.7746264225990829,
          1.252967895470081,
          -0.5800015937270759,
          1.774442695877346,
          0.3006623955637737,
          -0.953781350527465,
          0.9737779320934462,
          1.8204930669143398,
          -0.17997660188272743,
          1.313904319436769,
          -0.48039991105997254,
          1.4591836201587236,
          -0.3646044945007691,
          -2.54730458507353,
          0.5034575972987234,
          -0.43940367807704345,
          0.21268562440517289,
          -1.3296483365012357,
          -0.31877779222053276,
          1.1951688280637907,
          1.5350471427808494,
          -0.07323618940973585,
          -1.1269942514030862,
          -0.4247276176477819,
          -0.9398456127581629,
          1.5369043842816101,
          -1.1870014693064666,
          1.4656538962054477,
          -0.565741535969565,
          -0.830059860318411,
          -0.289447855374188,
          -2.862452201994092,
          0.8855172927520567,
          0.7333716746271585,
          0.6787725431545305,
          0.3976557546382951,
          0.9596678020387314,
          0.7017388368109589,
          -0.7112984882624002,
          0.137061290177784,
          1.108603717615353
         ],
         "xaxis": "x4",
         "y": [
          1.13798425475934,
          -1.5511667265037368,
          -0.49910781628050077,
          1.085004351054516,
          1.3989590240733099,
          -0.2911375934861317,
          -1.5870990872964883,
          -0.27935482665627126,
          0.3605252492517807,
          -0.2573222198131206,
          0.1282283018327493,
          -0.07523399544764772,
          -1.209782190524917,
          2.0998120955843382,
          0.21015410636408016,
          0.22039843592118114,
          -0.2750042028570783,
          -0.6425752651343553,
          0.04922938202933533,
          -1.151271215568177,
          -0.42520307577080796,
          0.286067143912526,
          0.6534378509385754,
          0.8055892428102114,
          1.6706324275158206,
          -1.9144292516764323,
          -0.7130745443719025,
          0.7132261507336397,
          1.0879917537219244,
          1.1428274385647352,
          1.1052680624561735,
          -0.5017274571551676,
          -0.15486630452781308,
          -0.8648382795499453,
          -0.821833223346524,
          -0.9012730792736585,
          0.6915059079700464,
          0.9054765379391744,
          -1.2976938178943378,
          -2.53565236236453,
          -0.1468560126376463,
          0.7415838145374852,
          0.967262105578842,
          -0.35875049228952205,
          0.8406410200429533,
          -0.03382970251039049,
          0.8707112942651388,
          -1.4962151290981338,
          -0.07482657180383757,
          -2.0160590596318197,
          0.3736129818346688,
          1.6452214643540364,
          1.7483148573896086,
          -1.4782529280436036,
          -0.1851835324174723,
          0.07377001332300753,
          0.36261478198089586,
          0.8651189780670078,
          0.6850474548860096,
          -0.7604619533012311,
          0.6555732095574617,
          -0.2688445662091309,
          2.284918084356147,
          -0.8340569074513916,
          1.6567735333149083,
          0.2924799350386549,
          -0.2735576072888158,
          0.0661601600306233,
          -0.6484239909056564,
          0.3878976614822351,
          -0.7011706453361762,
          0.2833166864898419,
          0.46257195200648377,
          0.5553702337250296,
          -0.5010959672124472,
          -0.14217198426981456,
          0.030937629523973564,
          -0.7574771731657584,
          0.45118790988184454,
          0.8219555020946994,
          0.5957135274819632,
          0.296850683691185,
          -0.12687894891679846,
          1.6095887390402563,
          -0.4527220315030091,
          0.971845763811533,
          0.6888768190349028,
          1.190978115499409,
          1.553954249377355,
          -0.12605990653637028,
          1.3525180232497602,
          0.721154005304942,
          -1.9836464415088655,
          -0.7479971966715627,
          -0.06669017642695914,
          -0.9289839979546476,
          0.4778549545203271,
          0.28213164182506856,
          -1.1155992489230353,
          0.4085009469861413
         ],
         "yaxis": "y4"
        },
        {
         "line": {
          "color": "rgba(128, 128, 128, 1.0)",
          "dash": "solid",
          "shape": "linear",
          "width": 1.3
         },
         "marker": {
          "size": 2,
          "symbol": "circle"
         },
         "mode": "markers",
         "name": "B",
         "text": "",
         "type": "scatter",
         "x": [
          1.13798425475934,
          -1.5511667265037368,
          -0.49910781628050077,
          1.085004351054516,
          1.3989590240733099,
          -0.2911375934861317,
          -1.5870990872964883,
          -0.27935482665627126,
          0.3605252492517807,
          -0.2573222198131206,
          0.1282283018327493,
          -0.07523399544764772,
          -1.209782190524917,
          2.0998120955843382,
          0.21015410636408016,
          0.22039843592118114,
          -0.2750042028570783,
          -0.6425752651343553,
          0.04922938202933533,
          -1.151271215568177,
          -0.42520307577080796,
          0.286067143912526,
          0.6534378509385754,
          0.8055892428102114,
          1.6706324275158206,
          -1.9144292516764323,
          -0.7130745443719025,
          0.7132261507336397,
          1.0879917537219244,
          1.1428274385647352,
          1.1052680624561735,
          -0.5017274571551676,
          -0.15486630452781308,
          -0.8648382795499453,
          -0.821833223346524,
          -0.9012730792736585,
          0.6915059079700464,
          0.9054765379391744,
          -1.2976938178943378,
          -2.53565236236453,
          -0.1468560126376463,
          0.7415838145374852,
          0.967262105578842,
          -0.35875049228952205,
          0.8406410200429533,
          -0.03382970251039049,
          0.8707112942651388,
          -1.4962151290981338,
          -0.07482657180383757,
          -2.0160590596318197,
          0.3736129818346688,
          1.6452214643540364,
          1.7483148573896086,
          -1.4782529280436036,
          -0.1851835324174723,
          0.07377001332300753,
          0.36261478198089586,
          0.8651189780670078,
          0.6850474548860096,
          -0.7604619533012311,
          0.6555732095574617,
          -0.2688445662091309,
          2.284918084356147,
          -0.8340569074513916,
          1.6567735333149083,
          0.2924799350386549,
          -0.2735576072888158,
          0.0661601600306233,
          -0.6484239909056564,
          0.3878976614822351,
          -0.7011706453361762,
          0.2833166864898419,
          0.46257195200648377,
          0.5553702337250296,
          -0.5010959672124472,
          -0.14217198426981456,
          0.030937629523973564,
          -0.7574771731657584,
          0.45118790988184454,
          0.8219555020946994,
          0.5957135274819632,
          0.296850683691185,
          -0.12687894891679846,
          1.6095887390402563,
          -0.4527220315030091,
          0.971845763811533,
          0.6888768190349028,
          1.190978115499409,
          1.553954249377355,
          -0.12605990653637028,
          1.3525180232497602,
          0.721154005304942,
          -1.9836464415088655,
          -0.7479971966715627,
          -0.06669017642695914,
          -0.9289839979546476,
          0.4778549545203271,
          0.28213164182506856,
          -1.1155992489230353,
          0.4085009469861413
         ],
         "xaxis": "x5",
         "y": [
          0.7323896324227073,
          -0.3284517281790686,
          -0.4510768322302432,
          1.6259669689281526,
          2.2430313429630293,
          -1.7897441106074743,
          0.569351307124913,
          -0.64587704510535,
          -0.0028811213343762202,
          -0.6373272106113808,
          1.0727062355724828,
          -2.952465256493198,
          1.287542719369616,
          -1.9267498062823034,
          2.0788433396371806,
          0.43073404217299227,
          0.26760125628746445,
          1.0849032546496722,
          1.3952877106807626,
          -0.6565850044269331,
          0.3817056840001886,
          -0.7412006468853344,
          -1.1217400025261557,
          0.6370813567298341,
          -0.5641382119507771,
          0.4634853466013324,
          -0.8584405373757337,
          -0.31182260271644374,
          0.3241918385448195,
          -1.33196541981774,
          -0.32846040497042905,
          -1.6413072197342926,
          0.7173508042526268,
          -1.7799489677323204,
          -1.86186170165096,
          0.10832184935546763,
          -1.0288381651747285,
          -0.545393753019585,
          -0.2650696867162592,
          0.05143818057526999,
          2.4823816265488032,
          -0.2501683134068812,
          -0.8065726277144815,
          0.5501537595048036,
          1.1282774686998163,
          -1.1732802076261226,
          -0.46217213437426197,
          -1.3361758119419371,
          2.5199867408681107,
          2.9378115385841097,
          -0.7262093920427323,
          0.6618920921980426,
          -0.8331597086864062,
          -0.30617972029078255,
          -0.4785044386864302,
          -0.4311874108212848,
          1.059597532517294,
          -1.5851754098869444,
          -0.039793079226337416,
          0.9867240234550703,
          1.3051413089883257,
          -0.5936323554912434,
          -0.7753853225554804,
          0.25590786585761166,
          1.547462128147694,
          -1.1023295816945362,
          -0.6222120723704447,
          -1.3188982035117294,
          -0.3093504949433165,
          -0.6769875209754437,
          -1.2333911783155913,
          -0.25666166671048446,
          -0.16532592175370936,
          -1.5355312465996227,
          -0.044051680488167134,
          -2.1457695866393056,
          0.9910173713062925,
          -1.1693051260643423,
          0.5160990345223325,
          0.3034532039457703,
          0.6409653165213176,
          0.9651791752395708,
          -2.2583982537236387,
          0.9926410629675069,
          1.3397259187632276,
          0.3781172112555631,
          1.5690672504187282,
          -0.03013161830784265,
          0.010106847671662566,
          0.33347285351095557,
          0.9112980654586149,
          0.14301371449262146,
          -0.30880549994744216,
          -2.0760184562581383,
          -0.7149080366700209,
          -0.0918574051416281,
          1.7923015769941466,
          -0.2022523157306176,
          0.04800165228427791,
          2.778983884871559
         ],
         "yaxis": "y5"
        },
        {
         "histfunc": "count",
         "histnorm": "",
         "marker": {
          "color": "rgba(55, 128, 191, 1.0)",
          "line": {
           "color": "#4D5663",
           "width": 1.3
          }
         },
         "name": "B",
         "nbinsx": 10,
         "opacity": 0.8,
         "orientation": "v",
         "type": "histogram",
         "x": [
          0.7323896324227073,
          -0.3284517281790686,
          -0.4510768322302432,
          1.6259669689281526,
          2.2430313429630293,
          -1.7897441106074743,
          0.569351307124913,
          -0.64587704510535,
          -0.0028811213343762202,
          -0.6373272106113808,
          1.0727062355724828,
          -2.952465256493198,
          1.287542719369616,
          -1.9267498062823034,
          2.0788433396371806,
          0.43073404217299227,
          0.26760125628746445,
          1.0849032546496722,
          1.3952877106807626,
          -0.6565850044269331,
          0.3817056840001886,
          -0.7412006468853344,
          -1.1217400025261557,
          0.6370813567298341,
          -0.5641382119507771,
          0.4634853466013324,
          -0.8584405373757337,
          -0.31182260271644374,
          0.3241918385448195,
          -1.33196541981774,
          -0.32846040497042905,
          -1.6413072197342926,
          0.7173508042526268,
          -1.7799489677323204,
          -1.86186170165096,
          0.10832184935546763,
          -1.0288381651747285,
          -0.545393753019585,
          -0.2650696867162592,
          0.05143818057526999,
          2.4823816265488032,
          -0.2501683134068812,
          -0.8065726277144815,
          0.5501537595048036,
          1.1282774686998163,
          -1.1732802076261226,
          -0.46217213437426197,
          -1.3361758119419371,
          2.5199867408681107,
          2.9378115385841097,
          -0.7262093920427323,
          0.6618920921980426,
          -0.8331597086864062,
          -0.30617972029078255,
          -0.4785044386864302,
          -0.4311874108212848,
          1.059597532517294,
          -1.5851754098869444,
          -0.039793079226337416,
          0.9867240234550703,
          1.3051413089883257,
          -0.5936323554912434,
          -0.7753853225554804,
          0.25590786585761166,
          1.547462128147694,
          -1.1023295816945362,
          -0.6222120723704447,
          -1.3188982035117294,
          -0.3093504949433165,
          -0.6769875209754437,
          -1.2333911783155913,
          -0.25666166671048446,
          -0.16532592175370936,
          -1.5355312465996227,
          -0.044051680488167134,
          -2.1457695866393056,
          0.9910173713062925,
          -1.1693051260643423,
          0.5160990345223325,
          0.3034532039457703,
          0.6409653165213176,
          0.9651791752395708,
          -2.2583982537236387,
          0.9926410629675069,
          1.3397259187632276,
          0.3781172112555631,
          1.5690672504187282,
          -0.03013161830784265,
          0.010106847671662566,
          0.33347285351095557,
          0.9112980654586149,
          0.14301371449262146,
          -0.30880549994744216,
          -2.0760184562581383,
          -0.7149080366700209,
          -0.0918574051416281,
          1.7923015769941466,
          -0.2022523157306176,
          0.04800165228427791,
          2.778983884871559
         ],
         "xaxis": "x6",
         "yaxis": "y6"
        },
        {
         "line": {
          "color": "rgba(128, 128, 128, 1.0)",
          "dash": "solid",
          "shape": "linear",
          "width": 1.3
         },
         "marker": {
          "size": 2,
          "symbol": "circle"
         },
         "mode": "markers",
         "name": "B",
         "text": "",
         "type": "scatter",
         "x": [
          0.9222841373662842,
          -1.6804994666692668,
          0.3597681214930154,
          0.6946653457572813,
          -2.0228248476213033,
          -1.0666487463970504,
          0.3918601175968837,
          -1.0282306181688932,
          0.5043984366695315,
          -0.07651377152407639,
          -1.1623285544689614,
          0.9276143123506188,
          -1.090707015726742,
          -0.0931033450196046,
          0.4494439386635046,
          1.3714070313913298,
          -0.006318827300825494,
          1.5334398479509452,
          0.1612247171096429,
          -0.8019535864381443,
          -0.4881139574035609,
          -3.200042310179826,
          -0.03973690325032663,
          0.1469945458180234,
          -0.3114419421366963,
          0.20610076222518958,
          -0.5087114064580988,
          0.5334918748187668,
          0.2300146757080329,
          2.0670623682633136,
          0.8122964573456442,
          -0.5035504536337416,
          2.0609413304506967,
          -0.08935908323816356,
          1.5025156623202247,
          -1.2553037135233935,
          -0.5319221271715704,
          -1.0637936723981234,
          0.06723297017675449,
          0.5364541059211533,
          1.2525873959994334,
          1.6662869339320394,
          -1.427116342119559,
          1.0194420299278972,
          0.306989560029641,
          -0.5196358641816051,
          -0.30377574299331916,
          0.27850589876295145,
          -0.7607399517383897,
          -0.5702097644362375,
          0.3794360312670967,
          0.2849820599649263,
          -1.0247331757452582,
          -0.19712726346279044,
          -0.08737784294508043,
          0.7237044359826967,
          1.609588255758794,
          0.20354667439932378,
          -0.891918707340523,
          -0.3995257015270211,
          -0.4659778200620951,
          0.08922465615535513,
          1.130825856287499,
          -0.20675754509165864,
          1.3781811671034254,
          0.3026670169557407,
          1.0362145555068512,
          -0.028708808313712846,
          0.5897544927483535,
          -2.611862914600978,
          0.7859570095002909,
          -0.946454230866487,
          -0.40844451644157775,
          -1.1878447427647347,
          -0.8757213429417575,
          0.18141390708277777,
          -1.1925725795000022,
          -1.0830257229794367,
          -0.5691774720845683,
          1.2774508206588515,
          -0.45305354859705826,
          -1.0095700521188944,
          -0.6510699768671271,
          -0.10339800580912871,
          -0.3877013120159667,
          -1.3619512413525672,
          -1.1424960904648973,
          -1.0095360276547143,
          0.07749438904283287,
          -0.6663397998664455,
          -0.9043270074967882,
          -0.874141472868618,
          -0.9056454426723413,
          0.44926413048963243,
          0.15125183254240057,
          -0.11461729288434383,
          2.0234431862789983,
          0.13000998885060866,
          -0.6430570001159673,
          -0.021010091840642033
         ],
         "xaxis": "x7",
         "y": [
          0.7323896324227073,
          -0.3284517281790686,
          -0.4510768322302432,
          1.6259669689281526,
          2.2430313429630293,
          -1.7897441106074743,
          0.569351307124913,
          -0.64587704510535,
          -0.0028811213343762202,
          -0.6373272106113808,
          1.0727062355724828,
          -2.952465256493198,
          1.287542719369616,
          -1.9267498062823034,
          2.0788433396371806,
          0.43073404217299227,
          0.26760125628746445,
          1.0849032546496722,
          1.3952877106807626,
          -0.6565850044269331,
          0.3817056840001886,
          -0.7412006468853344,
          -1.1217400025261557,
          0.6370813567298341,
          -0.5641382119507771,
          0.4634853466013324,
          -0.8584405373757337,
          -0.31182260271644374,
          0.3241918385448195,
          -1.33196541981774,
          -0.32846040497042905,
          -1.6413072197342926,
          0.7173508042526268,
          -1.7799489677323204,
          -1.86186170165096,
          0.10832184935546763,
          -1.0288381651747285,
          -0.545393753019585,
          -0.2650696867162592,
          0.05143818057526999,
          2.4823816265488032,
          -0.2501683134068812,
          -0.8065726277144815,
          0.5501537595048036,
          1.1282774686998163,
          -1.1732802076261226,
          -0.46217213437426197,
          -1.3361758119419371,
          2.5199867408681107,
          2.9378115385841097,
          -0.7262093920427323,
          0.6618920921980426,
          -0.8331597086864062,
          -0.30617972029078255,
          -0.4785044386864302,
          -0.4311874108212848,
          1.059597532517294,
          -1.5851754098869444,
          -0.039793079226337416,
          0.9867240234550703,
          1.3051413089883257,
          -0.5936323554912434,
          -0.7753853225554804,
          0.25590786585761166,
          1.547462128147694,
          -1.1023295816945362,
          -0.6222120723704447,
          -1.3188982035117294,
          -0.3093504949433165,
          -0.6769875209754437,
          -1.2333911783155913,
          -0.25666166671048446,
          -0.16532592175370936,
          -1.5355312465996227,
          -0.044051680488167134,
          -2.1457695866393056,
          0.9910173713062925,
          -1.1693051260643423,
          0.5160990345223325,
          0.3034532039457703,
          0.6409653165213176,
          0.9651791752395708,
          -2.2583982537236387,
          0.9926410629675069,
          1.3397259187632276,
          0.3781172112555631,
          1.5690672504187282,
          -0.03013161830784265,
          0.010106847671662566,
          0.33347285351095557,
          0.9112980654586149,
          0.14301371449262146,
          -0.30880549994744216,
          -2.0760184562581383,
          -0.7149080366700209,
          -0.0918574051416281,
          1.7923015769941466,
          -0.2022523157306176,
          0.04800165228427791,
          2.778983884871559
         ],
         "yaxis": "y7"
        },
        {
         "line": {
          "color": "rgba(128, 128, 128, 1.0)",
          "dash": "solid",
          "shape": "linear",
          "width": 1.3
         },
         "marker": {
          "size": 2,
          "symbol": "circle"
         },
         "mode": "markers",
         "name": "B",
         "text": "",
         "type": "scatter",
         "x": [
          -0.49276694005153754,
          -1.5986208578767598,
          0.7491265136981557,
          1.312156108991257,
          0.08453779531317554,
          -0.2187343733372969,
          -0.8379765304819816,
          -0.0511028279959056,
          -0.017316963261710693,
          -1.0118519948123361,
          -0.16370932061274415,
          0.6458615260403444,
          -0.2244178728724846,
          -1.520217744365132,
          1.4283129738497007,
          0.25468222071115176,
          -0.38140155346182825,
          1.380638721998429,
          1.4520895824746396,
          -1.5319514701306376,
          -1.8828405990802903,
          0.9929435493683337,
          0.0926308022668882,
          0.8749211070050118,
          0.6223522233213582,
          -2.4089503300794064,
          -0.19754282713332516,
          -1.6476161906707616,
          1.6401794144989228,
          -0.6369476207431659,
          0.6974161394541564,
          -0.40020788591131307,
          0.9950022712269592,
          -0.44466503658659795,
          0.12599943253474874,
          -0.3707222092344457,
          1.9828291878087414,
          -0.658017774044128,
          -2.4079520031370234,
          0.038133392728422366,
          0.8472151165833635,
          0.5134263518989487,
          1.3526642802214088,
          -1.5860897426341527,
          1.6778139827116016,
          0.7640590919587001,
          0.7771332307041993,
          1.3528508384931222,
          0.9513228631476397,
          2.0711099176175964,
          -2.5368404843510173,
          -1.3415192299160754,
          -2.2198664797204213,
          0.26407355848848957,
          -0.9228894243282747,
          0.3903893166092727,
          0.690495614429746,
          2.6294349664221834,
          -1.0018758618494499,
          -0.7746264225990829,
          1.252967895470081,
          -0.5800015937270759,
          1.774442695877346,
          0.3006623955637737,
          -0.953781350527465,
          0.9737779320934462,
          1.8204930669143398,
          -0.17997660188272743,
          1.313904319436769,
          -0.48039991105997254,
          1.4591836201587236,
          -0.3646044945007691,
          -2.54730458507353,
          0.5034575972987234,
          -0.43940367807704345,
          0.21268562440517289,
          -1.3296483365012357,
          -0.31877779222053276,
          1.1951688280637907,
          1.5350471427808494,
          -0.07323618940973585,
          -1.1269942514030862,
          -0.4247276176477819,
          -0.9398456127581629,
          1.5369043842816101,
          -1.1870014693064666,
          1.4656538962054477,
          -0.565741535969565,
          -0.830059860318411,
          -0.289447855374188,
          -2.862452201994092,
          0.8855172927520567,
          0.7333716746271585,
          0.6787725431545305,
          0.3976557546382951,
          0.9596678020387314,
          0.7017388368109589,
          -0.7112984882624002,
          0.137061290177784,
          1.108603717615353
         ],
         "xaxis": "x8",
         "y": [
          0.7323896324227073,
          -0.3284517281790686,
          -0.4510768322302432,
          1.6259669689281526,
          2.2430313429630293,
          -1.7897441106074743,
          0.569351307124913,
          -0.64587704510535,
          -0.0028811213343762202,
          -0.6373272106113808,
          1.0727062355724828,
          -2.952465256493198,
          1.287542719369616,
          -1.9267498062823034,
          2.0788433396371806,
          0.43073404217299227,
          0.26760125628746445,
          1.0849032546496722,
          1.3952877106807626,
          -0.6565850044269331,
          0.3817056840001886,
          -0.7412006468853344,
          -1.1217400025261557,
          0.6370813567298341,
          -0.5641382119507771,
          0.4634853466013324,
          -0.8584405373757337,
          -0.31182260271644374,
          0.3241918385448195,
          -1.33196541981774,
          -0.32846040497042905,
          -1.6413072197342926,
          0.7173508042526268,
          -1.7799489677323204,
          -1.86186170165096,
          0.10832184935546763,
          -1.0288381651747285,
          -0.545393753019585,
          -0.2650696867162592,
          0.05143818057526999,
          2.4823816265488032,
          -0.2501683134068812,
          -0.8065726277144815,
          0.5501537595048036,
          1.1282774686998163,
          -1.1732802076261226,
          -0.46217213437426197,
          -1.3361758119419371,
          2.5199867408681107,
          2.9378115385841097,
          -0.7262093920427323,
          0.6618920921980426,
          -0.8331597086864062,
          -0.30617972029078255,
          -0.4785044386864302,
          -0.4311874108212848,
          1.059597532517294,
          -1.5851754098869444,
          -0.039793079226337416,
          0.9867240234550703,
          1.3051413089883257,
          -0.5936323554912434,
          -0.7753853225554804,
          0.25590786585761166,
          1.547462128147694,
          -1.1023295816945362,
          -0.6222120723704447,
          -1.3188982035117294,
          -0.3093504949433165,
          -0.6769875209754437,
          -1.2333911783155913,
          -0.25666166671048446,
          -0.16532592175370936,
          -1.5355312465996227,
          -0.044051680488167134,
          -2.1457695866393056,
          0.9910173713062925,
          -1.1693051260643423,
          0.5160990345223325,
          0.3034532039457703,
          0.6409653165213176,
          0.9651791752395708,
          -2.2583982537236387,
          0.9926410629675069,
          1.3397259187632276,
          0.3781172112555631,
          1.5690672504187282,
          -0.03013161830784265,
          0.010106847671662566,
          0.33347285351095557,
          0.9112980654586149,
          0.14301371449262146,
          -0.30880549994744216,
          -2.0760184562581383,
          -0.7149080366700209,
          -0.0918574051416281,
          1.7923015769941466,
          -0.2022523157306176,
          0.04800165228427791,
          2.778983884871559
         ],
         "yaxis": "y8"
        },
        {
         "line": {
          "color": "rgba(128, 128, 128, 1.0)",
          "dash": "solid",
          "shape": "linear",
          "width": 1.3
         },
         "marker": {
          "size": 2,
          "symbol": "circle"
         },
         "mode": "markers",
         "name": "C",
         "text": "",
         "type": "scatter",
         "x": [
          1.13798425475934,
          -1.5511667265037368,
          -0.49910781628050077,
          1.085004351054516,
          1.3989590240733099,
          -0.2911375934861317,
          -1.5870990872964883,
          -0.27935482665627126,
          0.3605252492517807,
          -0.2573222198131206,
          0.1282283018327493,
          -0.07523399544764772,
          -1.209782190524917,
          2.0998120955843382,
          0.21015410636408016,
          0.22039843592118114,
          -0.2750042028570783,
          -0.6425752651343553,
          0.04922938202933533,
          -1.151271215568177,
          -0.42520307577080796,
          0.286067143912526,
          0.6534378509385754,
          0.8055892428102114,
          1.6706324275158206,
          -1.9144292516764323,
          -0.7130745443719025,
          0.7132261507336397,
          1.0879917537219244,
          1.1428274385647352,
          1.1052680624561735,
          -0.5017274571551676,
          -0.15486630452781308,
          -0.8648382795499453,
          -0.821833223346524,
          -0.9012730792736585,
          0.6915059079700464,
          0.9054765379391744,
          -1.2976938178943378,
          -2.53565236236453,
          -0.1468560126376463,
          0.7415838145374852,
          0.967262105578842,
          -0.35875049228952205,
          0.8406410200429533,
          -0.03382970251039049,
          0.8707112942651388,
          -1.4962151290981338,
          -0.07482657180383757,
          -2.0160590596318197,
          0.3736129818346688,
          1.6452214643540364,
          1.7483148573896086,
          -1.4782529280436036,
          -0.1851835324174723,
          0.07377001332300753,
          0.36261478198089586,
          0.8651189780670078,
          0.6850474548860096,
          -0.7604619533012311,
          0.6555732095574617,
          -0.2688445662091309,
          2.284918084356147,
          -0.8340569074513916,
          1.6567735333149083,
          0.2924799350386549,
          -0.2735576072888158,
          0.0661601600306233,
          -0.6484239909056564,
          0.3878976614822351,
          -0.7011706453361762,
          0.2833166864898419,
          0.46257195200648377,
          0.5553702337250296,
          -0.5010959672124472,
          -0.14217198426981456,
          0.030937629523973564,
          -0.7574771731657584,
          0.45118790988184454,
          0.8219555020946994,
          0.5957135274819632,
          0.296850683691185,
          -0.12687894891679846,
          1.6095887390402563,
          -0.4527220315030091,
          0.971845763811533,
          0.6888768190349028,
          1.190978115499409,
          1.553954249377355,
          -0.12605990653637028,
          1.3525180232497602,
          0.721154005304942,
          -1.9836464415088655,
          -0.7479971966715627,
          -0.06669017642695914,
          -0.9289839979546476,
          0.4778549545203271,
          0.28213164182506856,
          -1.1155992489230353,
          0.4085009469861413
         ],
         "xaxis": "x9",
         "y": [
          0.9222841373662842,
          -1.6804994666692668,
          0.3597681214930154,
          0.6946653457572813,
          -2.0228248476213033,
          -1.0666487463970504,
          0.3918601175968837,
          -1.0282306181688932,
          0.5043984366695315,
          -0.07651377152407639,
          -1.1623285544689614,
          0.9276143123506188,
          -1.090707015726742,
          -0.0931033450196046,
          0.4494439386635046,
          1.3714070313913298,
          -0.006318827300825494,
          1.5334398479509452,
          0.1612247171096429,
          -0.8019535864381443,
          -0.4881139574035609,
          -3.200042310179826,
          -0.03973690325032663,
          0.1469945458180234,
          -0.3114419421366963,
          0.20610076222518958,
          -0.5087114064580988,
          0.5334918748187668,
          0.2300146757080329,
          2.0670623682633136,
          0.8122964573456442,
          -0.5035504536337416,
          2.0609413304506967,
          -0.08935908323816356,
          1.5025156623202247,
          -1.2553037135233935,
          -0.5319221271715704,
          -1.0637936723981234,
          0.06723297017675449,
          0.5364541059211533,
          1.2525873959994334,
          1.6662869339320394,
          -1.427116342119559,
          1.0194420299278972,
          0.306989560029641,
          -0.5196358641816051,
          -0.30377574299331916,
          0.27850589876295145,
          -0.7607399517383897,
          -0.5702097644362375,
          0.3794360312670967,
          0.2849820599649263,
          -1.0247331757452582,
          -0.19712726346279044,
          -0.08737784294508043,
          0.7237044359826967,
          1.609588255758794,
          0.20354667439932378,
          -0.891918707340523,
          -0.3995257015270211,
          -0.4659778200620951,
          0.08922465615535513,
          1.130825856287499,
          -0.20675754509165864,
          1.3781811671034254,
          0.3026670169557407,
          1.0362145555068512,
          -0.028708808313712846,
          0.5897544927483535,
          -2.611862914600978,
          0.7859570095002909,
          -0.946454230866487,
          -0.40844451644157775,
          -1.1878447427647347,
          -0.8757213429417575,
          0.18141390708277777,
          -1.1925725795000022,
          -1.0830257229794367,
          -0.5691774720845683,
          1.2774508206588515,
          -0.45305354859705826,
          -1.0095700521188944,
          -0.6510699768671271,
          -0.10339800580912871,
          -0.3877013120159667,
          -1.3619512413525672,
          -1.1424960904648973,
          -1.0095360276547143,
          0.07749438904283287,
          -0.6663397998664455,
          -0.9043270074967882,
          -0.874141472868618,
          -0.9056454426723413,
          0.44926413048963243,
          0.15125183254240057,
          -0.11461729288434383,
          2.0234431862789983,
          0.13000998885060866,
          -0.6430570001159673,
          -0.021010091840642033
         ],
         "yaxis": "y9"
        },
        {
         "line": {
          "color": "rgba(128, 128, 128, 1.0)",
          "dash": "solid",
          "shape": "linear",
          "width": 1.3
         },
         "marker": {
          "size": 2,
          "symbol": "circle"
         },
         "mode": "markers",
         "name": "C",
         "text": "",
         "type": "scatter",
         "x": [
          0.7323896324227073,
          -0.3284517281790686,
          -0.4510768322302432,
          1.6259669689281526,
          2.2430313429630293,
          -1.7897441106074743,
          0.569351307124913,
          -0.64587704510535,
          -0.0028811213343762202,
          -0.6373272106113808,
          1.0727062355724828,
          -2.952465256493198,
          1.287542719369616,
          -1.9267498062823034,
          2.0788433396371806,
          0.43073404217299227,
          0.26760125628746445,
          1.0849032546496722,
          1.3952877106807626,
          -0.6565850044269331,
          0.3817056840001886,
          -0.7412006468853344,
          -1.1217400025261557,
          0.6370813567298341,
          -0.5641382119507771,
          0.4634853466013324,
          -0.8584405373757337,
          -0.31182260271644374,
          0.3241918385448195,
          -1.33196541981774,
          -0.32846040497042905,
          -1.6413072197342926,
          0.7173508042526268,
          -1.7799489677323204,
          -1.86186170165096,
          0.10832184935546763,
          -1.0288381651747285,
          -0.545393753019585,
          -0.2650696867162592,
          0.05143818057526999,
          2.4823816265488032,
          -0.2501683134068812,
          -0.8065726277144815,
          0.5501537595048036,
          1.1282774686998163,
          -1.1732802076261226,
          -0.46217213437426197,
          -1.3361758119419371,
          2.5199867408681107,
          2.9378115385841097,
          -0.7262093920427323,
          0.6618920921980426,
          -0.8331597086864062,
          -0.30617972029078255,
          -0.4785044386864302,
          -0.4311874108212848,
          1.059597532517294,
          -1.5851754098869444,
          -0.039793079226337416,
          0.9867240234550703,
          1.3051413089883257,
          -0.5936323554912434,
          -0.7753853225554804,
          0.25590786585761166,
          1.547462128147694,
          -1.1023295816945362,
          -0.6222120723704447,
          -1.3188982035117294,
          -0.3093504949433165,
          -0.6769875209754437,
          -1.2333911783155913,
          -0.25666166671048446,
          -0.16532592175370936,
          -1.5355312465996227,
          -0.044051680488167134,
          -2.1457695866393056,
          0.9910173713062925,
          -1.1693051260643423,
          0.5160990345223325,
          0.3034532039457703,
          0.6409653165213176,
          0.9651791752395708,
          -2.2583982537236387,
          0.9926410629675069,
          1.3397259187632276,
          0.3781172112555631,
          1.5690672504187282,
          -0.03013161830784265,
          0.010106847671662566,
          0.33347285351095557,
          0.9112980654586149,
          0.14301371449262146,
          -0.30880549994744216,
          -2.0760184562581383,
          -0.7149080366700209,
          -0.0918574051416281,
          1.7923015769941466,
          -0.2022523157306176,
          0.04800165228427791,
          2.778983884871559
         ],
         "xaxis": "x10",
         "y": [
          0.9222841373662842,
          -1.6804994666692668,
          0.3597681214930154,
          0.6946653457572813,
          -2.0228248476213033,
          -1.0666487463970504,
          0.3918601175968837,
          -1.0282306181688932,
          0.5043984366695315,
          -0.07651377152407639,
          -1.1623285544689614,
          0.9276143123506188,
          -1.090707015726742,
          -0.0931033450196046,
          0.4494439386635046,
          1.3714070313913298,
          -0.006318827300825494,
          1.5334398479509452,
          0.1612247171096429,
          -0.8019535864381443,
          -0.4881139574035609,
          -3.200042310179826,
          -0.03973690325032663,
          0.1469945458180234,
          -0.3114419421366963,
          0.20610076222518958,
          -0.5087114064580988,
          0.5334918748187668,
          0.2300146757080329,
          2.0670623682633136,
          0.8122964573456442,
          -0.5035504536337416,
          2.0609413304506967,
          -0.08935908323816356,
          1.5025156623202247,
          -1.2553037135233935,
          -0.5319221271715704,
          -1.0637936723981234,
          0.06723297017675449,
          0.5364541059211533,
          1.2525873959994334,
          1.6662869339320394,
          -1.427116342119559,
          1.0194420299278972,
          0.306989560029641,
          -0.5196358641816051,
          -0.30377574299331916,
          0.27850589876295145,
          -0.7607399517383897,
          -0.5702097644362375,
          0.3794360312670967,
          0.2849820599649263,
          -1.0247331757452582,
          -0.19712726346279044,
          -0.08737784294508043,
          0.7237044359826967,
          1.609588255758794,
          0.20354667439932378,
          -0.891918707340523,
          -0.3995257015270211,
          -0.4659778200620951,
          0.08922465615535513,
          1.130825856287499,
          -0.20675754509165864,
          1.3781811671034254,
          0.3026670169557407,
          1.0362145555068512,
          -0.028708808313712846,
          0.5897544927483535,
          -2.611862914600978,
          0.7859570095002909,
          -0.946454230866487,
          -0.40844451644157775,
          -1.1878447427647347,
          -0.8757213429417575,
          0.18141390708277777,
          -1.1925725795000022,
          -1.0830257229794367,
          -0.5691774720845683,
          1.2774508206588515,
          -0.45305354859705826,
          -1.0095700521188944,
          -0.6510699768671271,
          -0.10339800580912871,
          -0.3877013120159667,
          -1.3619512413525672,
          -1.1424960904648973,
          -1.0095360276547143,
          0.07749438904283287,
          -0.6663397998664455,
          -0.9043270074967882,
          -0.874141472868618,
          -0.9056454426723413,
          0.44926413048963243,
          0.15125183254240057,
          -0.11461729288434383,
          2.0234431862789983,
          0.13000998885060866,
          -0.6430570001159673,
          -0.021010091840642033
         ],
         "yaxis": "y10"
        },
        {
         "histfunc": "count",
         "histnorm": "",
         "marker": {
          "color": "rgba(50, 171, 96, 1.0)",
          "line": {
           "color": "#4D5663",
           "width": 1.3
          }
         },
         "name": "C",
         "nbinsx": 10,
         "opacity": 0.8,
         "orientation": "v",
         "type": "histogram",
         "x": [
          0.9222841373662842,
          -1.6804994666692668,
          0.3597681214930154,
          0.6946653457572813,
          -2.0228248476213033,
          -1.0666487463970504,
          0.3918601175968837,
          -1.0282306181688932,
          0.5043984366695315,
          -0.07651377152407639,
          -1.1623285544689614,
          0.9276143123506188,
          -1.090707015726742,
          -0.0931033450196046,
          0.4494439386635046,
          1.3714070313913298,
          -0.006318827300825494,
          1.5334398479509452,
          0.1612247171096429,
          -0.8019535864381443,
          -0.4881139574035609,
          -3.200042310179826,
          -0.03973690325032663,
          0.1469945458180234,
          -0.3114419421366963,
          0.20610076222518958,
          -0.5087114064580988,
          0.5334918748187668,
          0.2300146757080329,
          2.0670623682633136,
          0.8122964573456442,
          -0.5035504536337416,
          2.0609413304506967,
          -0.08935908323816356,
          1.5025156623202247,
          -1.2553037135233935,
          -0.5319221271715704,
          -1.0637936723981234,
          0.06723297017675449,
          0.5364541059211533,
          1.2525873959994334,
          1.6662869339320394,
          -1.427116342119559,
          1.0194420299278972,
          0.306989560029641,
          -0.5196358641816051,
          -0.30377574299331916,
          0.27850589876295145,
          -0.7607399517383897,
          -0.5702097644362375,
          0.3794360312670967,
          0.2849820599649263,
          -1.0247331757452582,
          -0.19712726346279044,
          -0.08737784294508043,
          0.7237044359826967,
          1.609588255758794,
          0.20354667439932378,
          -0.891918707340523,
          -0.3995257015270211,
          -0.4659778200620951,
          0.08922465615535513,
          1.130825856287499,
          -0.20675754509165864,
          1.3781811671034254,
          0.3026670169557407,
          1.0362145555068512,
          -0.028708808313712846,
          0.5897544927483535,
          -2.611862914600978,
          0.7859570095002909,
          -0.946454230866487,
          -0.40844451644157775,
          -1.1878447427647347,
          -0.8757213429417575,
          0.18141390708277777,
          -1.1925725795000022,
          -1.0830257229794367,
          -0.5691774720845683,
          1.2774508206588515,
          -0.45305354859705826,
          -1.0095700521188944,
          -0.6510699768671271,
          -0.10339800580912871,
          -0.3877013120159667,
          -1.3619512413525672,
          -1.1424960904648973,
          -1.0095360276547143,
          0.07749438904283287,
          -0.6663397998664455,
          -0.9043270074967882,
          -0.874141472868618,
          -0.9056454426723413,
          0.44926413048963243,
          0.15125183254240057,
          -0.11461729288434383,
          2.0234431862789983,
          0.13000998885060866,
          -0.6430570001159673,
          -0.021010091840642033
         ],
         "xaxis": "x11",
         "yaxis": "y11"
        },
        {
         "line": {
          "color": "rgba(128, 128, 128, 1.0)",
          "dash": "solid",
          "shape": "linear",
          "width": 1.3
         },
         "marker": {
          "size": 2,
          "symbol": "circle"
         },
         "mode": "markers",
         "name": "C",
         "text": "",
         "type": "scatter",
         "x": [
          -0.49276694005153754,
          -1.5986208578767598,
          0.7491265136981557,
          1.312156108991257,
          0.08453779531317554,
          -0.2187343733372969,
          -0.8379765304819816,
          -0.0511028279959056,
          -0.017316963261710693,
          -1.0118519948123361,
          -0.16370932061274415,
          0.6458615260403444,
          -0.2244178728724846,
          -1.520217744365132,
          1.4283129738497007,
          0.25468222071115176,
          -0.38140155346182825,
          1.380638721998429,
          1.4520895824746396,
          -1.5319514701306376,
          -1.8828405990802903,
          0.9929435493683337,
          0.0926308022668882,
          0.8749211070050118,
          0.6223522233213582,
          -2.4089503300794064,
          -0.19754282713332516,
          -1.6476161906707616,
          1.6401794144989228,
          -0.6369476207431659,
          0.6974161394541564,
          -0.40020788591131307,
          0.9950022712269592,
          -0.44466503658659795,
          0.12599943253474874,
          -0.3707222092344457,
          1.9828291878087414,
          -0.658017774044128,
          -2.4079520031370234,
          0.038133392728422366,
          0.8472151165833635,
          0.5134263518989487,
          1.3526642802214088,
          -1.5860897426341527,
          1.6778139827116016,
          0.7640590919587001,
          0.7771332307041993,
          1.3528508384931222,
          0.9513228631476397,
          2.0711099176175964,
          -2.5368404843510173,
          -1.3415192299160754,
          -2.2198664797204213,
          0.26407355848848957,
          -0.9228894243282747,
          0.3903893166092727,
          0.690495614429746,
          2.6294349664221834,
          -1.0018758618494499,
          -0.7746264225990829,
          1.252967895470081,
          -0.5800015937270759,
          1.774442695877346,
          0.3006623955637737,
          -0.953781350527465,
          0.9737779320934462,
          1.8204930669143398,
          -0.17997660188272743,
          1.313904319436769,
          -0.48039991105997254,
          1.4591836201587236,
          -0.3646044945007691,
          -2.54730458507353,
          0.5034575972987234,
          -0.43940367807704345,
          0.21268562440517289,
          -1.3296483365012357,
          -0.31877779222053276,
          1.1951688280637907,
          1.5350471427808494,
          -0.07323618940973585,
          -1.1269942514030862,
          -0.4247276176477819,
          -0.9398456127581629,
          1.5369043842816101,
          -1.1870014693064666,
          1.4656538962054477,
          -0.565741535969565,
          -0.830059860318411,
          -0.289447855374188,
          -2.862452201994092,
          0.8855172927520567,
          0.7333716746271585,
          0.6787725431545305,
          0.3976557546382951,
          0.9596678020387314,
          0.7017388368109589,
          -0.7112984882624002,
          0.137061290177784,
          1.108603717615353
         ],
         "xaxis": "x12",
         "y": [
          0.9222841373662842,
          -1.6804994666692668,
          0.3597681214930154,
          0.6946653457572813,
          -2.0228248476213033,
          -1.0666487463970504,
          0.3918601175968837,
          -1.0282306181688932,
          0.5043984366695315,
          -0.07651377152407639,
          -1.1623285544689614,
          0.9276143123506188,
          -1.090707015726742,
          -0.0931033450196046,
          0.4494439386635046,
          1.3714070313913298,
          -0.006318827300825494,
          1.5334398479509452,
          0.1612247171096429,
          -0.8019535864381443,
          -0.4881139574035609,
          -3.200042310179826,
          -0.03973690325032663,
          0.1469945458180234,
          -0.3114419421366963,
          0.20610076222518958,
          -0.5087114064580988,
          0.5334918748187668,
          0.2300146757080329,
          2.0670623682633136,
          0.8122964573456442,
          -0.5035504536337416,
          2.0609413304506967,
          -0.08935908323816356,
          1.5025156623202247,
          -1.2553037135233935,
          -0.5319221271715704,
          -1.0637936723981234,
          0.06723297017675449,
          0.5364541059211533,
          1.2525873959994334,
          1.6662869339320394,
          -1.427116342119559,
          1.0194420299278972,
          0.306989560029641,
          -0.5196358641816051,
          -0.30377574299331916,
          0.27850589876295145,
          -0.7607399517383897,
          -0.5702097644362375,
          0.3794360312670967,
          0.2849820599649263,
          -1.0247331757452582,
          -0.19712726346279044,
          -0.08737784294508043,
          0.7237044359826967,
          1.609588255758794,
          0.20354667439932378,
          -0.891918707340523,
          -0.3995257015270211,
          -0.4659778200620951,
          0.08922465615535513,
          1.130825856287499,
          -0.20675754509165864,
          1.3781811671034254,
          0.3026670169557407,
          1.0362145555068512,
          -0.028708808313712846,
          0.5897544927483535,
          -2.611862914600978,
          0.7859570095002909,
          -0.946454230866487,
          -0.40844451644157775,
          -1.1878447427647347,
          -0.8757213429417575,
          0.18141390708277777,
          -1.1925725795000022,
          -1.0830257229794367,
          -0.5691774720845683,
          1.2774508206588515,
          -0.45305354859705826,
          -1.0095700521188944,
          -0.6510699768671271,
          -0.10339800580912871,
          -0.3877013120159667,
          -1.3619512413525672,
          -1.1424960904648973,
          -1.0095360276547143,
          0.07749438904283287,
          -0.6663397998664455,
          -0.9043270074967882,
          -0.874141472868618,
          -0.9056454426723413,
          0.44926413048963243,
          0.15125183254240057,
          -0.11461729288434383,
          2.0234431862789983,
          0.13000998885060866,
          -0.6430570001159673,
          -0.021010091840642033
         ],
         "yaxis": "y12"
        },
        {
         "line": {
          "color": "rgba(128, 128, 128, 1.0)",
          "dash": "solid",
          "shape": "linear",
          "width": 1.3
         },
         "marker": {
          "size": 2,
          "symbol": "circle"
         },
         "mode": "markers",
         "name": "D",
         "text": "",
         "type": "scatter",
         "x": [
          1.13798425475934,
          -1.5511667265037368,
          -0.49910781628050077,
          1.085004351054516,
          1.3989590240733099,
          -0.2911375934861317,
          -1.5870990872964883,
          -0.27935482665627126,
          0.3605252492517807,
          -0.2573222198131206,
          0.1282283018327493,
          -0.07523399544764772,
          -1.209782190524917,
          2.0998120955843382,
          0.21015410636408016,
          0.22039843592118114,
          -0.2750042028570783,
          -0.6425752651343553,
          0.04922938202933533,
          -1.151271215568177,
          -0.42520307577080796,
          0.286067143912526,
          0.6534378509385754,
          0.8055892428102114,
          1.6706324275158206,
          -1.9144292516764323,
          -0.7130745443719025,
          0.7132261507336397,
          1.0879917537219244,
          1.1428274385647352,
          1.1052680624561735,
          -0.5017274571551676,
          -0.15486630452781308,
          -0.8648382795499453,
          -0.821833223346524,
          -0.9012730792736585,
          0.6915059079700464,
          0.9054765379391744,
          -1.2976938178943378,
          -2.53565236236453,
          -0.1468560126376463,
          0.7415838145374852,
          0.967262105578842,
          -0.35875049228952205,
          0.8406410200429533,
          -0.03382970251039049,
          0.8707112942651388,
          -1.4962151290981338,
          -0.07482657180383757,
          -2.0160590596318197,
          0.3736129818346688,
          1.6452214643540364,
          1.7483148573896086,
          -1.4782529280436036,
          -0.1851835324174723,
          0.07377001332300753,
          0.36261478198089586,
          0.8651189780670078,
          0.6850474548860096,
          -0.7604619533012311,
          0.6555732095574617,
          -0.2688445662091309,
          2.284918084356147,
          -0.8340569074513916,
          1.6567735333149083,
          0.2924799350386549,
          -0.2735576072888158,
          0.0661601600306233,
          -0.6484239909056564,
          0.3878976614822351,
          -0.7011706453361762,
          0.2833166864898419,
          0.46257195200648377,
          0.5553702337250296,
          -0.5010959672124472,
          -0.14217198426981456,
          0.030937629523973564,
          -0.7574771731657584,
          0.45118790988184454,
          0.8219555020946994,
          0.5957135274819632,
          0.296850683691185,
          -0.12687894891679846,
          1.6095887390402563,
          -0.4527220315030091,
          0.971845763811533,
          0.6888768190349028,
          1.190978115499409,
          1.553954249377355,
          -0.12605990653637028,
          1.3525180232497602,
          0.721154005304942,
          -1.9836464415088655,
          -0.7479971966715627,
          -0.06669017642695914,
          -0.9289839979546476,
          0.4778549545203271,
          0.28213164182506856,
          -1.1155992489230353,
          0.4085009469861413
         ],
         "xaxis": "x13",
         "y": [
          -0.49276694005153754,
          -1.5986208578767598,
          0.7491265136981557,
          1.312156108991257,
          0.08453779531317554,
          -0.2187343733372969,
          -0.8379765304819816,
          -0.0511028279959056,
          -0.017316963261710693,
          -1.0118519948123361,
          -0.16370932061274415,
          0.6458615260403444,
          -0.2244178728724846,
          -1.520217744365132,
          1.4283129738497007,
          0.25468222071115176,
          -0.38140155346182825,
          1.380638721998429,
          1.4520895824746396,
          -1.5319514701306376,
          -1.8828405990802903,
          0.9929435493683337,
          0.0926308022668882,
          0.8749211070050118,
          0.6223522233213582,
          -2.4089503300794064,
          -0.19754282713332516,
          -1.6476161906707616,
          1.6401794144989228,
          -0.6369476207431659,
          0.6974161394541564,
          -0.40020788591131307,
          0.9950022712269592,
          -0.44466503658659795,
          0.12599943253474874,
          -0.3707222092344457,
          1.9828291878087414,
          -0.658017774044128,
          -2.4079520031370234,
          0.038133392728422366,
          0.8472151165833635,
          0.5134263518989487,
          1.3526642802214088,
          -1.5860897426341527,
          1.6778139827116016,
          0.7640590919587001,
          0.7771332307041993,
          1.3528508384931222,
          0.9513228631476397,
          2.0711099176175964,
          -2.5368404843510173,
          -1.3415192299160754,
          -2.2198664797204213,
          0.26407355848848957,
          -0.9228894243282747,
          0.3903893166092727,
          0.690495614429746,
          2.6294349664221834,
          -1.0018758618494499,
          -0.7746264225990829,
          1.252967895470081,
          -0.5800015937270759,
          1.774442695877346,
          0.3006623955637737,
          -0.953781350527465,
          0.9737779320934462,
          1.8204930669143398,
          -0.17997660188272743,
          1.313904319436769,
          -0.48039991105997254,
          1.4591836201587236,
          -0.3646044945007691,
          -2.54730458507353,
          0.5034575972987234,
          -0.43940367807704345,
          0.21268562440517289,
          -1.3296483365012357,
          -0.31877779222053276,
          1.1951688280637907,
          1.5350471427808494,
          -0.07323618940973585,
          -1.1269942514030862,
          -0.4247276176477819,
          -0.9398456127581629,
          1.5369043842816101,
          -1.1870014693064666,
          1.4656538962054477,
          -0.565741535969565,
          -0.830059860318411,
          -0.289447855374188,
          -2.862452201994092,
          0.8855172927520567,
          0.7333716746271585,
          0.6787725431545305,
          0.3976557546382951,
          0.9596678020387314,
          0.7017388368109589,
          -0.7112984882624002,
          0.137061290177784,
          1.108603717615353
         ],
         "yaxis": "y13"
        },
        {
         "line": {
          "color": "rgba(128, 128, 128, 1.0)",
          "dash": "solid",
          "shape": "linear",
          "width": 1.3
         },
         "marker": {
          "size": 2,
          "symbol": "circle"
         },
         "mode": "markers",
         "name": "D",
         "text": "",
         "type": "scatter",
         "x": [
          0.7323896324227073,
          -0.3284517281790686,
          -0.4510768322302432,
          1.6259669689281526,
          2.2430313429630293,
          -1.7897441106074743,
          0.569351307124913,
          -0.64587704510535,
          -0.0028811213343762202,
          -0.6373272106113808,
          1.0727062355724828,
          -2.952465256493198,
          1.287542719369616,
          -1.9267498062823034,
          2.0788433396371806,
          0.43073404217299227,
          0.26760125628746445,
          1.0849032546496722,
          1.3952877106807626,
          -0.6565850044269331,
          0.3817056840001886,
          -0.7412006468853344,
          -1.1217400025261557,
          0.6370813567298341,
          -0.5641382119507771,
          0.4634853466013324,
          -0.8584405373757337,
          -0.31182260271644374,
          0.3241918385448195,
          -1.33196541981774,
          -0.32846040497042905,
          -1.6413072197342926,
          0.7173508042526268,
          -1.7799489677323204,
          -1.86186170165096,
          0.10832184935546763,
          -1.0288381651747285,
          -0.545393753019585,
          -0.2650696867162592,
          0.05143818057526999,
          2.4823816265488032,
          -0.2501683134068812,
          -0.8065726277144815,
          0.5501537595048036,
          1.1282774686998163,
          -1.1732802076261226,
          -0.46217213437426197,
          -1.3361758119419371,
          2.5199867408681107,
          2.9378115385841097,
          -0.7262093920427323,
          0.6618920921980426,
          -0.8331597086864062,
          -0.30617972029078255,
          -0.4785044386864302,
          -0.4311874108212848,
          1.059597532517294,
          -1.5851754098869444,
          -0.039793079226337416,
          0.9867240234550703,
          1.3051413089883257,
          -0.5936323554912434,
          -0.7753853225554804,
          0.25590786585761166,
          1.547462128147694,
          -1.1023295816945362,
          -0.6222120723704447,
          -1.3188982035117294,
          -0.3093504949433165,
          -0.6769875209754437,
          -1.2333911783155913,
          -0.25666166671048446,
          -0.16532592175370936,
          -1.5355312465996227,
          -0.044051680488167134,
          -2.1457695866393056,
          0.9910173713062925,
          -1.1693051260643423,
          0.5160990345223325,
          0.3034532039457703,
          0.6409653165213176,
          0.9651791752395708,
          -2.2583982537236387,
          0.9926410629675069,
          1.3397259187632276,
          0.3781172112555631,
          1.5690672504187282,
          -0.03013161830784265,
          0.010106847671662566,
          0.33347285351095557,
          0.9112980654586149,
          0.14301371449262146,
          -0.30880549994744216,
          -2.0760184562581383,
          -0.7149080366700209,
          -0.0918574051416281,
          1.7923015769941466,
          -0.2022523157306176,
          0.04800165228427791,
          2.778983884871559
         ],
         "xaxis": "x14",
         "y": [
          -0.49276694005153754,
          -1.5986208578767598,
          0.7491265136981557,
          1.312156108991257,
          0.08453779531317554,
          -0.2187343733372969,
          -0.8379765304819816,
          -0.0511028279959056,
          -0.017316963261710693,
          -1.0118519948123361,
          -0.16370932061274415,
          0.6458615260403444,
          -0.2244178728724846,
          -1.520217744365132,
          1.4283129738497007,
          0.25468222071115176,
          -0.38140155346182825,
          1.380638721998429,
          1.4520895824746396,
          -1.5319514701306376,
          -1.8828405990802903,
          0.9929435493683337,
          0.0926308022668882,
          0.8749211070050118,
          0.6223522233213582,
          -2.4089503300794064,
          -0.19754282713332516,
          -1.6476161906707616,
          1.6401794144989228,
          -0.6369476207431659,
          0.6974161394541564,
          -0.40020788591131307,
          0.9950022712269592,
          -0.44466503658659795,
          0.12599943253474874,
          -0.3707222092344457,
          1.9828291878087414,
          -0.658017774044128,
          -2.4079520031370234,
          0.038133392728422366,
          0.8472151165833635,
          0.5134263518989487,
          1.3526642802214088,
          -1.5860897426341527,
          1.6778139827116016,
          0.7640590919587001,
          0.7771332307041993,
          1.3528508384931222,
          0.9513228631476397,
          2.0711099176175964,
          -2.5368404843510173,
          -1.3415192299160754,
          -2.2198664797204213,
          0.26407355848848957,
          -0.9228894243282747,
          0.3903893166092727,
          0.690495614429746,
          2.6294349664221834,
          -1.0018758618494499,
          -0.7746264225990829,
          1.252967895470081,
          -0.5800015937270759,
          1.774442695877346,
          0.3006623955637737,
          -0.953781350527465,
          0.9737779320934462,
          1.8204930669143398,
          -0.17997660188272743,
          1.313904319436769,
          -0.48039991105997254,
          1.4591836201587236,
          -0.3646044945007691,
          -2.54730458507353,
          0.5034575972987234,
          -0.43940367807704345,
          0.21268562440517289,
          -1.3296483365012357,
          -0.31877779222053276,
          1.1951688280637907,
          1.5350471427808494,
          -0.07323618940973585,
          -1.1269942514030862,
          -0.4247276176477819,
          -0.9398456127581629,
          1.5369043842816101,
          -1.1870014693064666,
          1.4656538962054477,
          -0.565741535969565,
          -0.830059860318411,
          -0.289447855374188,
          -2.862452201994092,
          0.8855172927520567,
          0.7333716746271585,
          0.6787725431545305,
          0.3976557546382951,
          0.9596678020387314,
          0.7017388368109589,
          -0.7112984882624002,
          0.137061290177784,
          1.108603717615353
         ],
         "yaxis": "y14"
        },
        {
         "line": {
          "color": "rgba(128, 128, 128, 1.0)",
          "dash": "solid",
          "shape": "linear",
          "width": 1.3
         },
         "marker": {
          "size": 2,
          "symbol": "circle"
         },
         "mode": "markers",
         "name": "D",
         "text": "",
         "type": "scatter",
         "x": [
          0.9222841373662842,
          -1.6804994666692668,
          0.3597681214930154,
          0.6946653457572813,
          -2.0228248476213033,
          -1.0666487463970504,
          0.3918601175968837,
          -1.0282306181688932,
          0.5043984366695315,
          -0.07651377152407639,
          -1.1623285544689614,
          0.9276143123506188,
          -1.090707015726742,
          -0.0931033450196046,
          0.4494439386635046,
          1.3714070313913298,
          -0.006318827300825494,
          1.5334398479509452,
          0.1612247171096429,
          -0.8019535864381443,
          -0.4881139574035609,
          -3.200042310179826,
          -0.03973690325032663,
          0.1469945458180234,
          -0.3114419421366963,
          0.20610076222518958,
          -0.5087114064580988,
          0.5334918748187668,
          0.2300146757080329,
          2.0670623682633136,
          0.8122964573456442,
          -0.5035504536337416,
          2.0609413304506967,
          -0.08935908323816356,
          1.5025156623202247,
          -1.2553037135233935,
          -0.5319221271715704,
          -1.0637936723981234,
          0.06723297017675449,
          0.5364541059211533,
          1.2525873959994334,
          1.6662869339320394,
          -1.427116342119559,
          1.0194420299278972,
          0.306989560029641,
          -0.5196358641816051,
          -0.30377574299331916,
          0.27850589876295145,
          -0.7607399517383897,
          -0.5702097644362375,
          0.3794360312670967,
          0.2849820599649263,
          -1.0247331757452582,
          -0.19712726346279044,
          -0.08737784294508043,
          0.7237044359826967,
          1.609588255758794,
          0.20354667439932378,
          -0.891918707340523,
          -0.3995257015270211,
          -0.4659778200620951,
          0.08922465615535513,
          1.130825856287499,
          -0.20675754509165864,
          1.3781811671034254,
          0.3026670169557407,
          1.0362145555068512,
          -0.028708808313712846,
          0.5897544927483535,
          -2.611862914600978,
          0.7859570095002909,
          -0.946454230866487,
          -0.40844451644157775,
          -1.1878447427647347,
          -0.8757213429417575,
          0.18141390708277777,
          -1.1925725795000022,
          -1.0830257229794367,
          -0.5691774720845683,
          1.2774508206588515,
          -0.45305354859705826,
          -1.0095700521188944,
          -0.6510699768671271,
          -0.10339800580912871,
          -0.3877013120159667,
          -1.3619512413525672,
          -1.1424960904648973,
          -1.0095360276547143,
          0.07749438904283287,
          -0.6663397998664455,
          -0.9043270074967882,
          -0.874141472868618,
          -0.9056454426723413,
          0.44926413048963243,
          0.15125183254240057,
          -0.11461729288434383,
          2.0234431862789983,
          0.13000998885060866,
          -0.6430570001159673,
          -0.021010091840642033
         ],
         "xaxis": "x15",
         "y": [
          -0.49276694005153754,
          -1.5986208578767598,
          0.7491265136981557,
          1.312156108991257,
          0.08453779531317554,
          -0.2187343733372969,
          -0.8379765304819816,
          -0.0511028279959056,
          -0.017316963261710693,
          -1.0118519948123361,
          -0.16370932061274415,
          0.6458615260403444,
          -0.2244178728724846,
          -1.520217744365132,
          1.4283129738497007,
          0.25468222071115176,
          -0.38140155346182825,
          1.380638721998429,
          1.4520895824746396,
          -1.5319514701306376,
          -1.8828405990802903,
          0.9929435493683337,
          0.0926308022668882,
          0.8749211070050118,
          0.6223522233213582,
          -2.4089503300794064,
          -0.19754282713332516,
          -1.6476161906707616,
          1.6401794144989228,
          -0.6369476207431659,
          0.6974161394541564,
          -0.40020788591131307,
          0.9950022712269592,
          -0.44466503658659795,
          0.12599943253474874,
          -0.3707222092344457,
          1.9828291878087414,
          -0.658017774044128,
          -2.4079520031370234,
          0.038133392728422366,
          0.8472151165833635,
          0.5134263518989487,
          1.3526642802214088,
          -1.5860897426341527,
          1.6778139827116016,
          0.7640590919587001,
          0.7771332307041993,
          1.3528508384931222,
          0.9513228631476397,
          2.0711099176175964,
          -2.5368404843510173,
          -1.3415192299160754,
          -2.2198664797204213,
          0.26407355848848957,
          -0.9228894243282747,
          0.3903893166092727,
          0.690495614429746,
          2.6294349664221834,
          -1.0018758618494499,
          -0.7746264225990829,
          1.252967895470081,
          -0.5800015937270759,
          1.774442695877346,
          0.3006623955637737,
          -0.953781350527465,
          0.9737779320934462,
          1.8204930669143398,
          -0.17997660188272743,
          1.313904319436769,
          -0.48039991105997254,
          1.4591836201587236,
          -0.3646044945007691,
          -2.54730458507353,
          0.5034575972987234,
          -0.43940367807704345,
          0.21268562440517289,
          -1.3296483365012357,
          -0.31877779222053276,
          1.1951688280637907,
          1.5350471427808494,
          -0.07323618940973585,
          -1.1269942514030862,
          -0.4247276176477819,
          -0.9398456127581629,
          1.5369043842816101,
          -1.1870014693064666,
          1.4656538962054477,
          -0.565741535969565,
          -0.830059860318411,
          -0.289447855374188,
          -2.862452201994092,
          0.8855172927520567,
          0.7333716746271585,
          0.6787725431545305,
          0.3976557546382951,
          0.9596678020387314,
          0.7017388368109589,
          -0.7112984882624002,
          0.137061290177784,
          1.108603717615353
         ],
         "yaxis": "y15"
        },
        {
         "histfunc": "count",
         "histnorm": "",
         "marker": {
          "color": "rgba(128, 0, 128, 1.0)",
          "line": {
           "color": "#4D5663",
           "width": 1.3
          }
         },
         "name": "D",
         "nbinsx": 10,
         "opacity": 0.8,
         "orientation": "v",
         "type": "histogram",
         "x": [
          -0.49276694005153754,
          -1.5986208578767598,
          0.7491265136981557,
          1.312156108991257,
          0.08453779531317554,
          -0.2187343733372969,
          -0.8379765304819816,
          -0.0511028279959056,
          -0.017316963261710693,
          -1.0118519948123361,
          -0.16370932061274415,
          0.6458615260403444,
          -0.2244178728724846,
          -1.520217744365132,
          1.4283129738497007,
          0.25468222071115176,
          -0.38140155346182825,
          1.380638721998429,
          1.4520895824746396,
          -1.5319514701306376,
          -1.8828405990802903,
          0.9929435493683337,
          0.0926308022668882,
          0.8749211070050118,
          0.6223522233213582,
          -2.4089503300794064,
          -0.19754282713332516,
          -1.6476161906707616,
          1.6401794144989228,
          -0.6369476207431659,
          0.6974161394541564,
          -0.40020788591131307,
          0.9950022712269592,
          -0.44466503658659795,
          0.12599943253474874,
          -0.3707222092344457,
          1.9828291878087414,
          -0.658017774044128,
          -2.4079520031370234,
          0.038133392728422366,
          0.8472151165833635,
          0.5134263518989487,
          1.3526642802214088,
          -1.5860897426341527,
          1.6778139827116016,
          0.7640590919587001,
          0.7771332307041993,
          1.3528508384931222,
          0.9513228631476397,
          2.0711099176175964,
          -2.5368404843510173,
          -1.3415192299160754,
          -2.2198664797204213,
          0.26407355848848957,
          -0.9228894243282747,
          0.3903893166092727,
          0.690495614429746,
          2.6294349664221834,
          -1.0018758618494499,
          -0.7746264225990829,
          1.252967895470081,
          -0.5800015937270759,
          1.774442695877346,
          0.3006623955637737,
          -0.953781350527465,
          0.9737779320934462,
          1.8204930669143398,
          -0.17997660188272743,
          1.313904319436769,
          -0.48039991105997254,
          1.4591836201587236,
          -0.3646044945007691,
          -2.54730458507353,
          0.5034575972987234,
          -0.43940367807704345,
          0.21268562440517289,
          -1.3296483365012357,
          -0.31877779222053276,
          1.1951688280637907,
          1.5350471427808494,
          -0.07323618940973585,
          -1.1269942514030862,
          -0.4247276176477819,
          -0.9398456127581629,
          1.5369043842816101,
          -1.1870014693064666,
          1.4656538962054477,
          -0.565741535969565,
          -0.830059860318411,
          -0.289447855374188,
          -2.862452201994092,
          0.8855172927520567,
          0.7333716746271585,
          0.6787725431545305,
          0.3976557546382951,
          0.9596678020387314,
          0.7017388368109589,
          -0.7112984882624002,
          0.137061290177784,
          1.108603717615353
         ],
         "xaxis": "x16",
         "yaxis": "y16"
        }
       ],
       "layout": {
        "bargap": 0.02,
        "legend": {
         "bgcolor": "#F5F6F9",
         "font": {
          "color": "#4D5663"
         }
        },
        "paper_bgcolor": "#F5F6F9",
        "plot_bgcolor": "#F5F6F9",
        "showlegend": false,
        "template": {
         "data": {
          "bar": [
           {
            "error_x": {
             "color": "#2a3f5f"
            },
            "error_y": {
             "color": "#2a3f5f"
            },
            "marker": {
             "line": {
              "color": "#E5ECF6",
              "width": 0.5
             }
            },
            "type": "bar"
           }
          ],
          "barpolar": [
           {
            "marker": {
             "line": {
              "color": "#E5ECF6",
              "width": 0.5
             }
            },
            "type": "barpolar"
           }
          ],
          "carpet": [
           {
            "aaxis": {
             "endlinecolor": "#2a3f5f",
             "gridcolor": "white",
             "linecolor": "white",
             "minorgridcolor": "white",
             "startlinecolor": "#2a3f5f"
            },
            "baxis": {
             "endlinecolor": "#2a3f5f",
             "gridcolor": "white",
             "linecolor": "white",
             "minorgridcolor": "white",
             "startlinecolor": "#2a3f5f"
            },
            "type": "carpet"
           }
          ],
          "choropleth": [
           {
            "colorbar": {
             "outlinewidth": 0,
             "ticks": ""
            },
            "type": "choropleth"
           }
          ],
          "contour": [
           {
            "colorbar": {
             "outlinewidth": 0,
             "ticks": ""
            },
            "colorscale": [
             [
              0,
              "#0d0887"
             ],
             [
              0.1111111111111111,
              "#46039f"
             ],
             [
              0.2222222222222222,
              "#7201a8"
             ],
             [
              0.3333333333333333,
              "#9c179e"
             ],
             [
              0.4444444444444444,
              "#bd3786"
             ],
             [
              0.5555555555555556,
              "#d8576b"
             ],
             [
              0.6666666666666666,
              "#ed7953"
             ],
             [
              0.7777777777777778,
              "#fb9f3a"
             ],
             [
              0.8888888888888888,
              "#fdca26"
             ],
             [
              1,
              "#f0f921"
             ]
            ],
            "type": "contour"
           }
          ],
          "contourcarpet": [
           {
            "colorbar": {
             "outlinewidth": 0,
             "ticks": ""
            },
            "type": "contourcarpet"
           }
          ],
          "heatmap": [
           {
            "colorbar": {
             "outlinewidth": 0,
             "ticks": ""
            },
            "colorscale": [
             [
              0,
              "#0d0887"
             ],
             [
              0.1111111111111111,
              "#46039f"
             ],
             [
              0.2222222222222222,
              "#7201a8"
             ],
             [
              0.3333333333333333,
              "#9c179e"
             ],
             [
              0.4444444444444444,
              "#bd3786"
             ],
             [
              0.5555555555555556,
              "#d8576b"
             ],
             [
              0.6666666666666666,
              "#ed7953"
             ],
             [
              0.7777777777777778,
              "#fb9f3a"
             ],
             [
              0.8888888888888888,
              "#fdca26"
             ],
             [
              1,
              "#f0f921"
             ]
            ],
            "type": "heatmap"
           }
          ],
          "heatmapgl": [
           {
            "colorbar": {
             "outlinewidth": 0,
             "ticks": ""
            },
            "colorscale": [
             [
              0,
              "#0d0887"
             ],
             [
              0.1111111111111111,
              "#46039f"
             ],
             [
              0.2222222222222222,
              "#7201a8"
             ],
             [
              0.3333333333333333,
              "#9c179e"
             ],
             [
              0.4444444444444444,
              "#bd3786"
             ],
             [
              0.5555555555555556,
              "#d8576b"
             ],
             [
              0.6666666666666666,
              "#ed7953"
             ],
             [
              0.7777777777777778,
              "#fb9f3a"
             ],
             [
              0.8888888888888888,
              "#fdca26"
             ],
             [
              1,
              "#f0f921"
             ]
            ],
            "type": "heatmapgl"
           }
          ],
          "histogram": [
           {
            "marker": {
             "colorbar": {
              "outlinewidth": 0,
              "ticks": ""
             }
            },
            "type": "histogram"
           }
          ],
          "histogram2d": [
           {
            "colorbar": {
             "outlinewidth": 0,
             "ticks": ""
            },
            "colorscale": [
             [
              0,
              "#0d0887"
             ],
             [
              0.1111111111111111,
              "#46039f"
             ],
             [
              0.2222222222222222,
              "#7201a8"
             ],
             [
              0.3333333333333333,
              "#9c179e"
             ],
             [
              0.4444444444444444,
              "#bd3786"
             ],
             [
              0.5555555555555556,
              "#d8576b"
             ],
             [
              0.6666666666666666,
              "#ed7953"
             ],
             [
              0.7777777777777778,
              "#fb9f3a"
             ],
             [
              0.8888888888888888,
              "#fdca26"
             ],
             [
              1,
              "#f0f921"
             ]
            ],
            "type": "histogram2d"
           }
          ],
          "histogram2dcontour": [
           {
            "colorbar": {
             "outlinewidth": 0,
             "ticks": ""
            },
            "colorscale": [
             [
              0,
              "#0d0887"
             ],
             [
              0.1111111111111111,
              "#46039f"
             ],
             [
              0.2222222222222222,
              "#7201a8"
             ],
             [
              0.3333333333333333,
              "#9c179e"
             ],
             [
              0.4444444444444444,
              "#bd3786"
             ],
             [
              0.5555555555555556,
              "#d8576b"
             ],
             [
              0.6666666666666666,
              "#ed7953"
             ],
             [
              0.7777777777777778,
              "#fb9f3a"
             ],
             [
              0.8888888888888888,
              "#fdca26"
             ],
             [
              1,
              "#f0f921"
             ]
            ],
            "type": "histogram2dcontour"
           }
          ],
          "mesh3d": [
           {
            "colorbar": {
             "outlinewidth": 0,
             "ticks": ""
            },
            "type": "mesh3d"
           }
          ],
          "parcoords": [
           {
            "line": {
             "colorbar": {
              "outlinewidth": 0,
              "ticks": ""
             }
            },
            "type": "parcoords"
           }
          ],
          "pie": [
           {
            "automargin": true,
            "type": "pie"
           }
          ],
          "scatter": [
           {
            "marker": {
             "colorbar": {
              "outlinewidth": 0,
              "ticks": ""
             }
            },
            "type": "scatter"
           }
          ],
          "scatter3d": [
           {
            "line": {
             "colorbar": {
              "outlinewidth": 0,
              "ticks": ""
             }
            },
            "marker": {
             "colorbar": {
              "outlinewidth": 0,
              "ticks": ""
             }
            },
            "type": "scatter3d"
           }
          ],
          "scattercarpet": [
           {
            "marker": {
             "colorbar": {
              "outlinewidth": 0,
              "ticks": ""
             }
            },
            "type": "scattercarpet"
           }
          ],
          "scattergeo": [
           {
            "marker": {
             "colorbar": {
              "outlinewidth": 0,
              "ticks": ""
             }
            },
            "type": "scattergeo"
           }
          ],
          "scattergl": [
           {
            "marker": {
             "colorbar": {
              "outlinewidth": 0,
              "ticks": ""
             }
            },
            "type": "scattergl"
           }
          ],
          "scattermapbox": [
           {
            "marker": {
             "colorbar": {
              "outlinewidth": 0,
              "ticks": ""
             }
            },
            "type": "scattermapbox"
           }
          ],
          "scatterpolar": [
           {
            "marker": {
             "colorbar": {
              "outlinewidth": 0,
              "ticks": ""
             }
            },
            "type": "scatterpolar"
           }
          ],
          "scatterpolargl": [
           {
            "marker": {
             "colorbar": {
              "outlinewidth": 0,
              "ticks": ""
             }
            },
            "type": "scatterpolargl"
           }
          ],
          "scatterternary": [
           {
            "marker": {
             "colorbar": {
              "outlinewidth": 0,
              "ticks": ""
             }
            },
            "type": "scatterternary"
           }
          ],
          "surface": [
           {
            "colorbar": {
             "outlinewidth": 0,
             "ticks": ""
            },
            "colorscale": [
             [
              0,
              "#0d0887"
             ],
             [
              0.1111111111111111,
              "#46039f"
             ],
             [
              0.2222222222222222,
              "#7201a8"
             ],
             [
              0.3333333333333333,
              "#9c179e"
             ],
             [
              0.4444444444444444,
              "#bd3786"
             ],
             [
              0.5555555555555556,
              "#d8576b"
             ],
             [
              0.6666666666666666,
              "#ed7953"
             ],
             [
              0.7777777777777778,
              "#fb9f3a"
             ],
             [
              0.8888888888888888,
              "#fdca26"
             ],
             [
              1,
              "#f0f921"
             ]
            ],
            "type": "surface"
           }
          ],
          "table": [
           {
            "cells": {
             "fill": {
              "color": "#EBF0F8"
             },
             "line": {
              "color": "white"
             }
            },
            "header": {
             "fill": {
              "color": "#C8D4E3"
             },
             "line": {
              "color": "white"
             }
            },
            "type": "table"
           }
          ]
         },
         "layout": {
          "annotationdefaults": {
           "arrowcolor": "#2a3f5f",
           "arrowhead": 0,
           "arrowwidth": 1
          },
          "autotypenumbers": "strict",
          "coloraxis": {
           "colorbar": {
            "outlinewidth": 0,
            "ticks": ""
           }
          },
          "colorscale": {
           "diverging": [
            [
             0,
             "#8e0152"
            ],
            [
             0.1,
             "#c51b7d"
            ],
            [
             0.2,
             "#de77ae"
            ],
            [
             0.3,
             "#f1b6da"
            ],
            [
             0.4,
             "#fde0ef"
            ],
            [
             0.5,
             "#f7f7f7"
            ],
            [
             0.6,
             "#e6f5d0"
            ],
            [
             0.7,
             "#b8e186"
            ],
            [
             0.8,
             "#7fbc41"
            ],
            [
             0.9,
             "#4d9221"
            ],
            [
             1,
             "#276419"
            ]
           ],
           "sequential": [
            [
             0,
             "#0d0887"
            ],
            [
             0.1111111111111111,
             "#46039f"
            ],
            [
             0.2222222222222222,
             "#7201a8"
            ],
            [
             0.3333333333333333,
             "#9c179e"
            ],
            [
             0.4444444444444444,
             "#bd3786"
            ],
            [
             0.5555555555555556,
             "#d8576b"
            ],
            [
             0.6666666666666666,
             "#ed7953"
            ],
            [
             0.7777777777777778,
             "#fb9f3a"
            ],
            [
             0.8888888888888888,
             "#fdca26"
            ],
            [
             1,
             "#f0f921"
            ]
           ],
           "sequentialminus": [
            [
             0,
             "#0d0887"
            ],
            [
             0.1111111111111111,
             "#46039f"
            ],
            [
             0.2222222222222222,
             "#7201a8"
            ],
            [
             0.3333333333333333,
             "#9c179e"
            ],
            [
             0.4444444444444444,
             "#bd3786"
            ],
            [
             0.5555555555555556,
             "#d8576b"
            ],
            [
             0.6666666666666666,
             "#ed7953"
            ],
            [
             0.7777777777777778,
             "#fb9f3a"
            ],
            [
             0.8888888888888888,
             "#fdca26"
            ],
            [
             1,
             "#f0f921"
            ]
           ]
          },
          "colorway": [
           "#636efa",
           "#EF553B",
           "#00cc96",
           "#ab63fa",
           "#FFA15A",
           "#19d3f3",
           "#FF6692",
           "#B6E880",
           "#FF97FF",
           "#FECB52"
          ],
          "font": {
           "color": "#2a3f5f"
          },
          "geo": {
           "bgcolor": "white",
           "lakecolor": "white",
           "landcolor": "#E5ECF6",
           "showlakes": true,
           "showland": true,
           "subunitcolor": "white"
          },
          "hoverlabel": {
           "align": "left"
          },
          "hovermode": "closest",
          "mapbox": {
           "style": "light"
          },
          "paper_bgcolor": "white",
          "plot_bgcolor": "#E5ECF6",
          "polar": {
           "angularaxis": {
            "gridcolor": "white",
            "linecolor": "white",
            "ticks": ""
           },
           "bgcolor": "#E5ECF6",
           "radialaxis": {
            "gridcolor": "white",
            "linecolor": "white",
            "ticks": ""
           }
          },
          "scene": {
           "xaxis": {
            "backgroundcolor": "#E5ECF6",
            "gridcolor": "white",
            "gridwidth": 2,
            "linecolor": "white",
            "showbackground": true,
            "ticks": "",
            "zerolinecolor": "white"
           },
           "yaxis": {
            "backgroundcolor": "#E5ECF6",
            "gridcolor": "white",
            "gridwidth": 2,
            "linecolor": "white",
            "showbackground": true,
            "ticks": "",
            "zerolinecolor": "white"
           },
           "zaxis": {
            "backgroundcolor": "#E5ECF6",
            "gridcolor": "white",
            "gridwidth": 2,
            "linecolor": "white",
            "showbackground": true,
            "ticks": "",
            "zerolinecolor": "white"
           }
          },
          "shapedefaults": {
           "line": {
            "color": "#2a3f5f"
           }
          },
          "ternary": {
           "aaxis": {
            "gridcolor": "white",
            "linecolor": "white",
            "ticks": ""
           },
           "baxis": {
            "gridcolor": "white",
            "linecolor": "white",
            "ticks": ""
           },
           "bgcolor": "#E5ECF6",
           "caxis": {
            "gridcolor": "white",
            "linecolor": "white",
            "ticks": ""
           }
          },
          "title": {
           "x": 0.05
          },
          "xaxis": {
           "automargin": true,
           "gridcolor": "white",
           "linecolor": "white",
           "ticks": "",
           "title": {
            "standoff": 15
           },
           "zerolinecolor": "white",
           "zerolinewidth": 2
          },
          "yaxis": {
           "automargin": true,
           "gridcolor": "white",
           "linecolor": "white",
           "ticks": "",
           "title": {
            "standoff": 15
           },
           "zerolinecolor": "white",
           "zerolinewidth": 2
          }
         }
        },
        "title": {
         "font": {
          "color": "#4D5663"
         }
        },
        "xaxis": {
         "anchor": "y",
         "domain": [
          0,
          0.2125
         ],
         "gridcolor": "#E1E5ED",
         "showgrid": false,
         "tickfont": {
          "color": "#4D5663"
         },
         "title": {
          "font": {
           "color": "#4D5663"
          },
          "text": ""
         },
         "zerolinecolor": "#E1E5ED"
        },
        "xaxis10": {
         "anchor": "y10",
         "domain": [
          0.2625,
          0.475
         ],
         "gridcolor": "#E1E5ED",
         "showgrid": false,
         "tickfont": {
          "color": "#4D5663"
         },
         "title": {
          "font": {
           "color": "#4D5663"
          },
          "text": ""
         },
         "zerolinecolor": "#E1E5ED"
        },
        "xaxis11": {
         "anchor": "y11",
         "domain": [
          0.525,
          0.7375
         ],
         "gridcolor": "#E1E5ED",
         "showgrid": false,
         "tickfont": {
          "color": "#4D5663"
         },
         "title": {
          "font": {
           "color": "#4D5663"
          },
          "text": ""
         },
         "zerolinecolor": "#E1E5ED"
        },
        "xaxis12": {
         "anchor": "y12",
         "domain": [
          0.7875,
          1
         ],
         "gridcolor": "#E1E5ED",
         "showgrid": false,
         "tickfont": {
          "color": "#4D5663"
         },
         "title": {
          "font": {
           "color": "#4D5663"
          },
          "text": ""
         },
         "zerolinecolor": "#E1E5ED"
        },
        "xaxis13": {
         "anchor": "y13",
         "domain": [
          0,
          0.2125
         ],
         "gridcolor": "#E1E5ED",
         "showgrid": false,
         "tickfont": {
          "color": "#4D5663"
         },
         "title": {
          "font": {
           "color": "#4D5663"
          },
          "text": ""
         },
         "zerolinecolor": "#E1E5ED"
        },
        "xaxis14": {
         "anchor": "y14",
         "domain": [
          0.2625,
          0.475
         ],
         "gridcolor": "#E1E5ED",
         "showgrid": false,
         "tickfont": {
          "color": "#4D5663"
         },
         "title": {
          "font": {
           "color": "#4D5663"
          },
          "text": ""
         },
         "zerolinecolor": "#E1E5ED"
        },
        "xaxis15": {
         "anchor": "y15",
         "domain": [
          0.525,
          0.7375
         ],
         "gridcolor": "#E1E5ED",
         "showgrid": false,
         "tickfont": {
          "color": "#4D5663"
         },
         "title": {
          "font": {
           "color": "#4D5663"
          },
          "text": ""
         },
         "zerolinecolor": "#E1E5ED"
        },
        "xaxis16": {
         "anchor": "y16",
         "domain": [
          0.7875,
          1
         ],
         "gridcolor": "#E1E5ED",
         "showgrid": false,
         "tickfont": {
          "color": "#4D5663"
         },
         "title": {
          "font": {
           "color": "#4D5663"
          },
          "text": ""
         },
         "zerolinecolor": "#E1E5ED"
        },
        "xaxis2": {
         "anchor": "y2",
         "domain": [
          0.2625,
          0.475
         ],
         "gridcolor": "#E1E5ED",
         "showgrid": false,
         "tickfont": {
          "color": "#4D5663"
         },
         "title": {
          "font": {
           "color": "#4D5663"
          },
          "text": ""
         },
         "zerolinecolor": "#E1E5ED"
        },
        "xaxis3": {
         "anchor": "y3",
         "domain": [
          0.525,
          0.7375
         ],
         "gridcolor": "#E1E5ED",
         "showgrid": false,
         "tickfont": {
          "color": "#4D5663"
         },
         "title": {
          "font": {
           "color": "#4D5663"
          },
          "text": ""
         },
         "zerolinecolor": "#E1E5ED"
        },
        "xaxis4": {
         "anchor": "y4",
         "domain": [
          0.7875,
          1
         ],
         "gridcolor": "#E1E5ED",
         "showgrid": false,
         "tickfont": {
          "color": "#4D5663"
         },
         "title": {
          "font": {
           "color": "#4D5663"
          },
          "text": ""
         },
         "zerolinecolor": "#E1E5ED"
        },
        "xaxis5": {
         "anchor": "y5",
         "domain": [
          0,
          0.2125
         ],
         "gridcolor": "#E1E5ED",
         "showgrid": false,
         "tickfont": {
          "color": "#4D5663"
         },
         "title": {
          "font": {
           "color": "#4D5663"
          },
          "text": ""
         },
         "zerolinecolor": "#E1E5ED"
        },
        "xaxis6": {
         "anchor": "y6",
         "domain": [
          0.2625,
          0.475
         ],
         "gridcolor": "#E1E5ED",
         "showgrid": false,
         "tickfont": {
          "color": "#4D5663"
         },
         "title": {
          "font": {
           "color": "#4D5663"
          },
          "text": ""
         },
         "zerolinecolor": "#E1E5ED"
        },
        "xaxis7": {
         "anchor": "y7",
         "domain": [
          0.525,
          0.7375
         ],
         "gridcolor": "#E1E5ED",
         "showgrid": false,
         "tickfont": {
          "color": "#4D5663"
         },
         "title": {
          "font": {
           "color": "#4D5663"
          },
          "text": ""
         },
         "zerolinecolor": "#E1E5ED"
        },
        "xaxis8": {
         "anchor": "y8",
         "domain": [
          0.7875,
          1
         ],
         "gridcolor": "#E1E5ED",
         "showgrid": false,
         "tickfont": {
          "color": "#4D5663"
         },
         "title": {
          "font": {
           "color": "#4D5663"
          },
          "text": ""
         },
         "zerolinecolor": "#E1E5ED"
        },
        "xaxis9": {
         "anchor": "y9",
         "domain": [
          0,
          0.2125
         ],
         "gridcolor": "#E1E5ED",
         "showgrid": false,
         "tickfont": {
          "color": "#4D5663"
         },
         "title": {
          "font": {
           "color": "#4D5663"
          },
          "text": ""
         },
         "zerolinecolor": "#E1E5ED"
        },
        "yaxis": {
         "anchor": "x",
         "domain": [
          0.8025,
          1
         ],
         "gridcolor": "#E1E5ED",
         "showgrid": false,
         "tickfont": {
          "color": "#4D5663"
         },
         "title": {
          "font": {
           "color": "#4D5663"
          },
          "text": ""
         },
         "zerolinecolor": "#E1E5ED"
        },
        "yaxis10": {
         "anchor": "x10",
         "domain": [
          0.2675,
          0.465
         ],
         "gridcolor": "#E1E5ED",
         "showgrid": false,
         "tickfont": {
          "color": "#4D5663"
         },
         "title": {
          "font": {
           "color": "#4D5663"
          },
          "text": ""
         },
         "zerolinecolor": "#E1E5ED"
        },
        "yaxis11": {
         "anchor": "x11",
         "domain": [
          0.2675,
          0.465
         ],
         "gridcolor": "#E1E5ED",
         "showgrid": false,
         "tickfont": {
          "color": "#4D5663"
         },
         "title": {
          "font": {
           "color": "#4D5663"
          },
          "text": ""
         },
         "zerolinecolor": "#E1E5ED"
        },
        "yaxis12": {
         "anchor": "x12",
         "domain": [
          0.2675,
          0.465
         ],
         "gridcolor": "#E1E5ED",
         "showgrid": false,
         "tickfont": {
          "color": "#4D5663"
         },
         "title": {
          "font": {
           "color": "#4D5663"
          },
          "text": ""
         },
         "zerolinecolor": "#E1E5ED"
        },
        "yaxis13": {
         "anchor": "x13",
         "domain": [
          0,
          0.1975
         ],
         "gridcolor": "#E1E5ED",
         "showgrid": false,
         "tickfont": {
          "color": "#4D5663"
         },
         "title": {
          "font": {
           "color": "#4D5663"
          },
          "text": ""
         },
         "zerolinecolor": "#E1E5ED"
        },
        "yaxis14": {
         "anchor": "x14",
         "domain": [
          0,
          0.1975
         ],
         "gridcolor": "#E1E5ED",
         "showgrid": false,
         "tickfont": {
          "color": "#4D5663"
         },
         "title": {
          "font": {
           "color": "#4D5663"
          },
          "text": ""
         },
         "zerolinecolor": "#E1E5ED"
        },
        "yaxis15": {
         "anchor": "x15",
         "domain": [
          0,
          0.1975
         ],
         "gridcolor": "#E1E5ED",
         "showgrid": false,
         "tickfont": {
          "color": "#4D5663"
         },
         "title": {
          "font": {
           "color": "#4D5663"
          },
          "text": ""
         },
         "zerolinecolor": "#E1E5ED"
        },
        "yaxis16": {
         "anchor": "x16",
         "domain": [
          0,
          0.1975
         ],
         "gridcolor": "#E1E5ED",
         "showgrid": false,
         "tickfont": {
          "color": "#4D5663"
         },
         "title": {
          "font": {
           "color": "#4D5663"
          },
          "text": ""
         },
         "zerolinecolor": "#E1E5ED"
        },
        "yaxis2": {
         "anchor": "x2",
         "domain": [
          0.8025,
          1
         ],
         "gridcolor": "#E1E5ED",
         "showgrid": false,
         "tickfont": {
          "color": "#4D5663"
         },
         "title": {
          "font": {
           "color": "#4D5663"
          },
          "text": ""
         },
         "zerolinecolor": "#E1E5ED"
        },
        "yaxis3": {
         "anchor": "x3",
         "domain": [
          0.8025,
          1
         ],
         "gridcolor": "#E1E5ED",
         "showgrid": false,
         "tickfont": {
          "color": "#4D5663"
         },
         "title": {
          "font": {
           "color": "#4D5663"
          },
          "text": ""
         },
         "zerolinecolor": "#E1E5ED"
        },
        "yaxis4": {
         "anchor": "x4",
         "domain": [
          0.8025,
          1
         ],
         "gridcolor": "#E1E5ED",
         "showgrid": false,
         "tickfont": {
          "color": "#4D5663"
         },
         "title": {
          "font": {
           "color": "#4D5663"
          },
          "text": ""
         },
         "zerolinecolor": "#E1E5ED"
        },
        "yaxis5": {
         "anchor": "x5",
         "domain": [
          0.535,
          0.7325
         ],
         "gridcolor": "#E1E5ED",
         "showgrid": false,
         "tickfont": {
          "color": "#4D5663"
         },
         "title": {
          "font": {
           "color": "#4D5663"
          },
          "text": ""
         },
         "zerolinecolor": "#E1E5ED"
        },
        "yaxis6": {
         "anchor": "x6",
         "domain": [
          0.535,
          0.7325
         ],
         "gridcolor": "#E1E5ED",
         "showgrid": false,
         "tickfont": {
          "color": "#4D5663"
         },
         "title": {
          "font": {
           "color": "#4D5663"
          },
          "text": ""
         },
         "zerolinecolor": "#E1E5ED"
        },
        "yaxis7": {
         "anchor": "x7",
         "domain": [
          0.535,
          0.7325
         ],
         "gridcolor": "#E1E5ED",
         "showgrid": false,
         "tickfont": {
          "color": "#4D5663"
         },
         "title": {
          "font": {
           "color": "#4D5663"
          },
          "text": ""
         },
         "zerolinecolor": "#E1E5ED"
        },
        "yaxis8": {
         "anchor": "x8",
         "domain": [
          0.535,
          0.7325
         ],
         "gridcolor": "#E1E5ED",
         "showgrid": false,
         "tickfont": {
          "color": "#4D5663"
         },
         "title": {
          "font": {
           "color": "#4D5663"
          },
          "text": ""
         },
         "zerolinecolor": "#E1E5ED"
        },
        "yaxis9": {
         "anchor": "x9",
         "domain": [
          0.2675,
          0.465
         ],
         "gridcolor": "#E1E5ED",
         "showgrid": false,
         "tickfont": {
          "color": "#4D5663"
         },
         "title": {
          "font": {
           "color": "#4D5663"
          },
          "text": ""
         },
         "zerolinecolor": "#E1E5ED"
        }
       }
      },
      "text/html": [
       "<div>                            <div id=\"fc28ec93-072e-42b1-885d-9e05d0c3157d\" class=\"plotly-graph-div\" style=\"height:525px; width:100%;\"></div>            <script type=\"text/javascript\">                require([\"plotly\"], function(Plotly) {                    window.PLOTLYENV=window.PLOTLYENV || {};\n",
       "                    window.PLOTLYENV.BASE_URL='https://plot.ly';                                    if (document.getElementById(\"fc28ec93-072e-42b1-885d-9e05d0c3157d\")) {                    Plotly.newPlot(                        \"fc28ec93-072e-42b1-885d-9e05d0c3157d\",                        [{\"histfunc\": \"count\", \"histnorm\": \"\", \"marker\": {\"color\": \"rgba(255, 153, 51, 1.0)\", \"line\": {\"color\": \"#4D5663\", \"width\": 1.3}}, \"name\": \"A\", \"nbinsx\": 10, \"opacity\": 0.8, \"orientation\": \"v\", \"type\": \"histogram\", \"x\": [1.13798425475934, -1.5511667265037368, -0.49910781628050077, 1.085004351054516, 1.3989590240733099, -0.2911375934861317, -1.5870990872964883, -0.27935482665627126, 0.3605252492517807, -0.2573222198131206, 0.1282283018327493, -0.07523399544764772, -1.209782190524917, 2.0998120955843382, 0.21015410636408016, 0.22039843592118114, -0.2750042028570783, -0.6425752651343553, 0.04922938202933533, -1.151271215568177, -0.42520307577080796, 0.286067143912526, 0.6534378509385754, 0.8055892428102114, 1.6706324275158206, -1.9144292516764323, -0.7130745443719025, 0.7132261507336397, 1.0879917537219244, 1.1428274385647352, 1.1052680624561735, -0.5017274571551676, -0.15486630452781308, -0.8648382795499453, -0.821833223346524, -0.9012730792736585, 0.6915059079700464, 0.9054765379391744, -1.2976938178943378, -2.53565236236453, -0.1468560126376463, 0.7415838145374852, 0.967262105578842, -0.35875049228952205, 0.8406410200429533, -0.03382970251039049, 0.8707112942651388, -1.4962151290981338, -0.07482657180383757, -2.0160590596318197, 0.3736129818346688, 1.6452214643540364, 1.7483148573896086, -1.4782529280436036, -0.1851835324174723, 0.07377001332300753, 0.36261478198089586, 0.8651189780670078, 0.6850474548860096, -0.7604619533012311, 0.6555732095574617, -0.2688445662091309, 2.284918084356147, -0.8340569074513916, 1.6567735333149083, 0.2924799350386549, -0.2735576072888158, 0.0661601600306233, -0.6484239909056564, 0.3878976614822351, -0.7011706453361762, 0.2833166864898419, 0.46257195200648377, 0.5553702337250296, -0.5010959672124472, -0.14217198426981456, 0.030937629523973564, -0.7574771731657584, 0.45118790988184454, 0.8219555020946994, 0.5957135274819632, 0.296850683691185, -0.12687894891679846, 1.6095887390402563, -0.4527220315030091, 0.971845763811533, 0.6888768190349028, 1.190978115499409, 1.553954249377355, -0.12605990653637028, 1.3525180232497602, 0.721154005304942, -1.9836464415088655, -0.7479971966715627, -0.06669017642695914, -0.9289839979546476, 0.4778549545203271, 0.28213164182506856, -1.1155992489230353, 0.4085009469861413], \"xaxis\": \"x\", \"yaxis\": \"y\"}, {\"line\": {\"color\": \"rgba(128, 128, 128, 1.0)\", \"dash\": \"solid\", \"shape\": \"linear\", \"width\": 1.3}, \"marker\": {\"size\": 2, \"symbol\": \"circle\"}, \"mode\": \"markers\", \"name\": \"A\", \"text\": \"\", \"type\": \"scatter\", \"x\": [0.7323896324227073, -0.3284517281790686, -0.4510768322302432, 1.6259669689281526, 2.2430313429630293, -1.7897441106074743, 0.569351307124913, -0.64587704510535, -0.0028811213343762202, -0.6373272106113808, 1.0727062355724828, -2.952465256493198, 1.287542719369616, -1.9267498062823034, 2.0788433396371806, 0.43073404217299227, 0.26760125628746445, 1.0849032546496722, 1.3952877106807626, -0.6565850044269331, 0.3817056840001886, -0.7412006468853344, -1.1217400025261557, 0.6370813567298341, -0.5641382119507771, 0.4634853466013324, -0.8584405373757337, -0.31182260271644374, 0.3241918385448195, -1.33196541981774, -0.32846040497042905, -1.6413072197342926, 0.7173508042526268, -1.7799489677323204, -1.86186170165096, 0.10832184935546763, -1.0288381651747285, -0.545393753019585, -0.2650696867162592, 0.05143818057526999, 2.4823816265488032, -0.2501683134068812, -0.8065726277144815, 0.5501537595048036, 1.1282774686998163, -1.1732802076261226, -0.46217213437426197, -1.3361758119419371, 2.5199867408681107, 2.9378115385841097, -0.7262093920427323, 0.6618920921980426, -0.8331597086864062, -0.30617972029078255, -0.4785044386864302, -0.4311874108212848, 1.059597532517294, -1.5851754098869444, -0.039793079226337416, 0.9867240234550703, 1.3051413089883257, -0.5936323554912434, -0.7753853225554804, 0.25590786585761166, 1.547462128147694, -1.1023295816945362, -0.6222120723704447, -1.3188982035117294, -0.3093504949433165, -0.6769875209754437, -1.2333911783155913, -0.25666166671048446, -0.16532592175370936, -1.5355312465996227, -0.044051680488167134, -2.1457695866393056, 0.9910173713062925, -1.1693051260643423, 0.5160990345223325, 0.3034532039457703, 0.6409653165213176, 0.9651791752395708, -2.2583982537236387, 0.9926410629675069, 1.3397259187632276, 0.3781172112555631, 1.5690672504187282, -0.03013161830784265, 0.010106847671662566, 0.33347285351095557, 0.9112980654586149, 0.14301371449262146, -0.30880549994744216, -2.0760184562581383, -0.7149080366700209, -0.0918574051416281, 1.7923015769941466, -0.2022523157306176, 0.04800165228427791, 2.778983884871559], \"xaxis\": \"x2\", \"y\": [1.13798425475934, -1.5511667265037368, -0.49910781628050077, 1.085004351054516, 1.3989590240733099, -0.2911375934861317, -1.5870990872964883, -0.27935482665627126, 0.3605252492517807, -0.2573222198131206, 0.1282283018327493, -0.07523399544764772, -1.209782190524917, 2.0998120955843382, 0.21015410636408016, 0.22039843592118114, -0.2750042028570783, -0.6425752651343553, 0.04922938202933533, -1.151271215568177, -0.42520307577080796, 0.286067143912526, 0.6534378509385754, 0.8055892428102114, 1.6706324275158206, -1.9144292516764323, -0.7130745443719025, 0.7132261507336397, 1.0879917537219244, 1.1428274385647352, 1.1052680624561735, -0.5017274571551676, -0.15486630452781308, -0.8648382795499453, -0.821833223346524, -0.9012730792736585, 0.6915059079700464, 0.9054765379391744, -1.2976938178943378, -2.53565236236453, -0.1468560126376463, 0.7415838145374852, 0.967262105578842, -0.35875049228952205, 0.8406410200429533, -0.03382970251039049, 0.8707112942651388, -1.4962151290981338, -0.07482657180383757, -2.0160590596318197, 0.3736129818346688, 1.6452214643540364, 1.7483148573896086, -1.4782529280436036, -0.1851835324174723, 0.07377001332300753, 0.36261478198089586, 0.8651189780670078, 0.6850474548860096, -0.7604619533012311, 0.6555732095574617, -0.2688445662091309, 2.284918084356147, -0.8340569074513916, 1.6567735333149083, 0.2924799350386549, -0.2735576072888158, 0.0661601600306233, -0.6484239909056564, 0.3878976614822351, -0.7011706453361762, 0.2833166864898419, 0.46257195200648377, 0.5553702337250296, -0.5010959672124472, -0.14217198426981456, 0.030937629523973564, -0.7574771731657584, 0.45118790988184454, 0.8219555020946994, 0.5957135274819632, 0.296850683691185, -0.12687894891679846, 1.6095887390402563, -0.4527220315030091, 0.971845763811533, 0.6888768190349028, 1.190978115499409, 1.553954249377355, -0.12605990653637028, 1.3525180232497602, 0.721154005304942, -1.9836464415088655, -0.7479971966715627, -0.06669017642695914, -0.9289839979546476, 0.4778549545203271, 0.28213164182506856, -1.1155992489230353, 0.4085009469861413], \"yaxis\": \"y2\"}, {\"line\": {\"color\": \"rgba(128, 128, 128, 1.0)\", \"dash\": \"solid\", \"shape\": \"linear\", \"width\": 1.3}, \"marker\": {\"size\": 2, \"symbol\": \"circle\"}, \"mode\": \"markers\", \"name\": \"A\", \"text\": \"\", \"type\": \"scatter\", \"x\": [0.9222841373662842, -1.6804994666692668, 0.3597681214930154, 0.6946653457572813, -2.0228248476213033, -1.0666487463970504, 0.3918601175968837, -1.0282306181688932, 0.5043984366695315, -0.07651377152407639, -1.1623285544689614, 0.9276143123506188, -1.090707015726742, -0.0931033450196046, 0.4494439386635046, 1.3714070313913298, -0.006318827300825494, 1.5334398479509452, 0.1612247171096429, -0.8019535864381443, -0.4881139574035609, -3.200042310179826, -0.03973690325032663, 0.1469945458180234, -0.3114419421366963, 0.20610076222518958, -0.5087114064580988, 0.5334918748187668, 0.2300146757080329, 2.0670623682633136, 0.8122964573456442, -0.5035504536337416, 2.0609413304506967, -0.08935908323816356, 1.5025156623202247, -1.2553037135233935, -0.5319221271715704, -1.0637936723981234, 0.06723297017675449, 0.5364541059211533, 1.2525873959994334, 1.6662869339320394, -1.427116342119559, 1.0194420299278972, 0.306989560029641, -0.5196358641816051, -0.30377574299331916, 0.27850589876295145, -0.7607399517383897, -0.5702097644362375, 0.3794360312670967, 0.2849820599649263, -1.0247331757452582, -0.19712726346279044, -0.08737784294508043, 0.7237044359826967, 1.609588255758794, 0.20354667439932378, -0.891918707340523, -0.3995257015270211, -0.4659778200620951, 0.08922465615535513, 1.130825856287499, -0.20675754509165864, 1.3781811671034254, 0.3026670169557407, 1.0362145555068512, -0.028708808313712846, 0.5897544927483535, -2.611862914600978, 0.7859570095002909, -0.946454230866487, -0.40844451644157775, -1.1878447427647347, -0.8757213429417575, 0.18141390708277777, -1.1925725795000022, -1.0830257229794367, -0.5691774720845683, 1.2774508206588515, -0.45305354859705826, -1.0095700521188944, -0.6510699768671271, -0.10339800580912871, -0.3877013120159667, -1.3619512413525672, -1.1424960904648973, -1.0095360276547143, 0.07749438904283287, -0.6663397998664455, -0.9043270074967882, -0.874141472868618, -0.9056454426723413, 0.44926413048963243, 0.15125183254240057, -0.11461729288434383, 2.0234431862789983, 0.13000998885060866, -0.6430570001159673, -0.021010091840642033], \"xaxis\": \"x3\", \"y\": [1.13798425475934, -1.5511667265037368, -0.49910781628050077, 1.085004351054516, 1.3989590240733099, -0.2911375934861317, -1.5870990872964883, -0.27935482665627126, 0.3605252492517807, -0.2573222198131206, 0.1282283018327493, -0.07523399544764772, -1.209782190524917, 2.0998120955843382, 0.21015410636408016, 0.22039843592118114, -0.2750042028570783, -0.6425752651343553, 0.04922938202933533, -1.151271215568177, -0.42520307577080796, 0.286067143912526, 0.6534378509385754, 0.8055892428102114, 1.6706324275158206, -1.9144292516764323, -0.7130745443719025, 0.7132261507336397, 1.0879917537219244, 1.1428274385647352, 1.1052680624561735, -0.5017274571551676, -0.15486630452781308, -0.8648382795499453, -0.821833223346524, -0.9012730792736585, 0.6915059079700464, 0.9054765379391744, -1.2976938178943378, -2.53565236236453, -0.1468560126376463, 0.7415838145374852, 0.967262105578842, -0.35875049228952205, 0.8406410200429533, -0.03382970251039049, 0.8707112942651388, -1.4962151290981338, -0.07482657180383757, -2.0160590596318197, 0.3736129818346688, 1.6452214643540364, 1.7483148573896086, -1.4782529280436036, -0.1851835324174723, 0.07377001332300753, 0.36261478198089586, 0.8651189780670078, 0.6850474548860096, -0.7604619533012311, 0.6555732095574617, -0.2688445662091309, 2.284918084356147, -0.8340569074513916, 1.6567735333149083, 0.2924799350386549, -0.2735576072888158, 0.0661601600306233, -0.6484239909056564, 0.3878976614822351, -0.7011706453361762, 0.2833166864898419, 0.46257195200648377, 0.5553702337250296, -0.5010959672124472, -0.14217198426981456, 0.030937629523973564, -0.7574771731657584, 0.45118790988184454, 0.8219555020946994, 0.5957135274819632, 0.296850683691185, -0.12687894891679846, 1.6095887390402563, -0.4527220315030091, 0.971845763811533, 0.6888768190349028, 1.190978115499409, 1.553954249377355, -0.12605990653637028, 1.3525180232497602, 0.721154005304942, -1.9836464415088655, -0.7479971966715627, -0.06669017642695914, -0.9289839979546476, 0.4778549545203271, 0.28213164182506856, -1.1155992489230353, 0.4085009469861413], \"yaxis\": \"y3\"}, {\"line\": {\"color\": \"rgba(128, 128, 128, 1.0)\", \"dash\": \"solid\", \"shape\": \"linear\", \"width\": 1.3}, \"marker\": {\"size\": 2, \"symbol\": \"circle\"}, \"mode\": \"markers\", \"name\": \"A\", \"text\": \"\", \"type\": \"scatter\", \"x\": [-0.49276694005153754, -1.5986208578767598, 0.7491265136981557, 1.312156108991257, 0.08453779531317554, -0.2187343733372969, -0.8379765304819816, -0.0511028279959056, -0.017316963261710693, -1.0118519948123361, -0.16370932061274415, 0.6458615260403444, -0.2244178728724846, -1.520217744365132, 1.4283129738497007, 0.25468222071115176, -0.38140155346182825, 1.380638721998429, 1.4520895824746396, -1.5319514701306376, -1.8828405990802903, 0.9929435493683337, 0.0926308022668882, 0.8749211070050118, 0.6223522233213582, -2.4089503300794064, -0.19754282713332516, -1.6476161906707616, 1.6401794144989228, -0.6369476207431659, 0.6974161394541564, -0.40020788591131307, 0.9950022712269592, -0.44466503658659795, 0.12599943253474874, -0.3707222092344457, 1.9828291878087414, -0.658017774044128, -2.4079520031370234, 0.038133392728422366, 0.8472151165833635, 0.5134263518989487, 1.3526642802214088, -1.5860897426341527, 1.6778139827116016, 0.7640590919587001, 0.7771332307041993, 1.3528508384931222, 0.9513228631476397, 2.0711099176175964, -2.5368404843510173, -1.3415192299160754, -2.2198664797204213, 0.26407355848848957, -0.9228894243282747, 0.3903893166092727, 0.690495614429746, 2.6294349664221834, -1.0018758618494499, -0.7746264225990829, 1.252967895470081, -0.5800015937270759, 1.774442695877346, 0.3006623955637737, -0.953781350527465, 0.9737779320934462, 1.8204930669143398, -0.17997660188272743, 1.313904319436769, -0.48039991105997254, 1.4591836201587236, -0.3646044945007691, -2.54730458507353, 0.5034575972987234, -0.43940367807704345, 0.21268562440517289, -1.3296483365012357, -0.31877779222053276, 1.1951688280637907, 1.5350471427808494, -0.07323618940973585, -1.1269942514030862, -0.4247276176477819, -0.9398456127581629, 1.5369043842816101, -1.1870014693064666, 1.4656538962054477, -0.565741535969565, -0.830059860318411, -0.289447855374188, -2.862452201994092, 0.8855172927520567, 0.7333716746271585, 0.6787725431545305, 0.3976557546382951, 0.9596678020387314, 0.7017388368109589, -0.7112984882624002, 0.137061290177784, 1.108603717615353], \"xaxis\": \"x4\", \"y\": [1.13798425475934, -1.5511667265037368, -0.49910781628050077, 1.085004351054516, 1.3989590240733099, -0.2911375934861317, -1.5870990872964883, -0.27935482665627126, 0.3605252492517807, -0.2573222198131206, 0.1282283018327493, -0.07523399544764772, -1.209782190524917, 2.0998120955843382, 0.21015410636408016, 0.22039843592118114, -0.2750042028570783, -0.6425752651343553, 0.04922938202933533, -1.151271215568177, -0.42520307577080796, 0.286067143912526, 0.6534378509385754, 0.8055892428102114, 1.6706324275158206, -1.9144292516764323, -0.7130745443719025, 0.7132261507336397, 1.0879917537219244, 1.1428274385647352, 1.1052680624561735, -0.5017274571551676, -0.15486630452781308, -0.8648382795499453, -0.821833223346524, -0.9012730792736585, 0.6915059079700464, 0.9054765379391744, -1.2976938178943378, -2.53565236236453, -0.1468560126376463, 0.7415838145374852, 0.967262105578842, -0.35875049228952205, 0.8406410200429533, -0.03382970251039049, 0.8707112942651388, -1.4962151290981338, -0.07482657180383757, -2.0160590596318197, 0.3736129818346688, 1.6452214643540364, 1.7483148573896086, -1.4782529280436036, -0.1851835324174723, 0.07377001332300753, 0.36261478198089586, 0.8651189780670078, 0.6850474548860096, -0.7604619533012311, 0.6555732095574617, -0.2688445662091309, 2.284918084356147, -0.8340569074513916, 1.6567735333149083, 0.2924799350386549, -0.2735576072888158, 0.0661601600306233, -0.6484239909056564, 0.3878976614822351, -0.7011706453361762, 0.2833166864898419, 0.46257195200648377, 0.5553702337250296, -0.5010959672124472, -0.14217198426981456, 0.030937629523973564, -0.7574771731657584, 0.45118790988184454, 0.8219555020946994, 0.5957135274819632, 0.296850683691185, -0.12687894891679846, 1.6095887390402563, -0.4527220315030091, 0.971845763811533, 0.6888768190349028, 1.190978115499409, 1.553954249377355, -0.12605990653637028, 1.3525180232497602, 0.721154005304942, -1.9836464415088655, -0.7479971966715627, -0.06669017642695914, -0.9289839979546476, 0.4778549545203271, 0.28213164182506856, -1.1155992489230353, 0.4085009469861413], \"yaxis\": \"y4\"}, {\"line\": {\"color\": \"rgba(128, 128, 128, 1.0)\", \"dash\": \"solid\", \"shape\": \"linear\", \"width\": 1.3}, \"marker\": {\"size\": 2, \"symbol\": \"circle\"}, \"mode\": \"markers\", \"name\": \"B\", \"text\": \"\", \"type\": \"scatter\", \"x\": [1.13798425475934, -1.5511667265037368, -0.49910781628050077, 1.085004351054516, 1.3989590240733099, -0.2911375934861317, -1.5870990872964883, -0.27935482665627126, 0.3605252492517807, -0.2573222198131206, 0.1282283018327493, -0.07523399544764772, -1.209782190524917, 2.0998120955843382, 0.21015410636408016, 0.22039843592118114, -0.2750042028570783, -0.6425752651343553, 0.04922938202933533, -1.151271215568177, -0.42520307577080796, 0.286067143912526, 0.6534378509385754, 0.8055892428102114, 1.6706324275158206, -1.9144292516764323, -0.7130745443719025, 0.7132261507336397, 1.0879917537219244, 1.1428274385647352, 1.1052680624561735, -0.5017274571551676, -0.15486630452781308, -0.8648382795499453, -0.821833223346524, -0.9012730792736585, 0.6915059079700464, 0.9054765379391744, -1.2976938178943378, -2.53565236236453, -0.1468560126376463, 0.7415838145374852, 0.967262105578842, -0.35875049228952205, 0.8406410200429533, -0.03382970251039049, 0.8707112942651388, -1.4962151290981338, -0.07482657180383757, -2.0160590596318197, 0.3736129818346688, 1.6452214643540364, 1.7483148573896086, -1.4782529280436036, -0.1851835324174723, 0.07377001332300753, 0.36261478198089586, 0.8651189780670078, 0.6850474548860096, -0.7604619533012311, 0.6555732095574617, -0.2688445662091309, 2.284918084356147, -0.8340569074513916, 1.6567735333149083, 0.2924799350386549, -0.2735576072888158, 0.0661601600306233, -0.6484239909056564, 0.3878976614822351, -0.7011706453361762, 0.2833166864898419, 0.46257195200648377, 0.5553702337250296, -0.5010959672124472, -0.14217198426981456, 0.030937629523973564, -0.7574771731657584, 0.45118790988184454, 0.8219555020946994, 0.5957135274819632, 0.296850683691185, -0.12687894891679846, 1.6095887390402563, -0.4527220315030091, 0.971845763811533, 0.6888768190349028, 1.190978115499409, 1.553954249377355, -0.12605990653637028, 1.3525180232497602, 0.721154005304942, -1.9836464415088655, -0.7479971966715627, -0.06669017642695914, -0.9289839979546476, 0.4778549545203271, 0.28213164182506856, -1.1155992489230353, 0.4085009469861413], \"xaxis\": \"x5\", \"y\": [0.7323896324227073, -0.3284517281790686, -0.4510768322302432, 1.6259669689281526, 2.2430313429630293, -1.7897441106074743, 0.569351307124913, -0.64587704510535, -0.0028811213343762202, -0.6373272106113808, 1.0727062355724828, -2.952465256493198, 1.287542719369616, -1.9267498062823034, 2.0788433396371806, 0.43073404217299227, 0.26760125628746445, 1.0849032546496722, 1.3952877106807626, -0.6565850044269331, 0.3817056840001886, -0.7412006468853344, -1.1217400025261557, 0.6370813567298341, -0.5641382119507771, 0.4634853466013324, -0.8584405373757337, -0.31182260271644374, 0.3241918385448195, -1.33196541981774, -0.32846040497042905, -1.6413072197342926, 0.7173508042526268, -1.7799489677323204, -1.86186170165096, 0.10832184935546763, -1.0288381651747285, -0.545393753019585, -0.2650696867162592, 0.05143818057526999, 2.4823816265488032, -0.2501683134068812, -0.8065726277144815, 0.5501537595048036, 1.1282774686998163, -1.1732802076261226, -0.46217213437426197, -1.3361758119419371, 2.5199867408681107, 2.9378115385841097, -0.7262093920427323, 0.6618920921980426, -0.8331597086864062, -0.30617972029078255, -0.4785044386864302, -0.4311874108212848, 1.059597532517294, -1.5851754098869444, -0.039793079226337416, 0.9867240234550703, 1.3051413089883257, -0.5936323554912434, -0.7753853225554804, 0.25590786585761166, 1.547462128147694, -1.1023295816945362, -0.6222120723704447, -1.3188982035117294, -0.3093504949433165, -0.6769875209754437, -1.2333911783155913, -0.25666166671048446, -0.16532592175370936, -1.5355312465996227, -0.044051680488167134, -2.1457695866393056, 0.9910173713062925, -1.1693051260643423, 0.5160990345223325, 0.3034532039457703, 0.6409653165213176, 0.9651791752395708, -2.2583982537236387, 0.9926410629675069, 1.3397259187632276, 0.3781172112555631, 1.5690672504187282, -0.03013161830784265, 0.010106847671662566, 0.33347285351095557, 0.9112980654586149, 0.14301371449262146, -0.30880549994744216, -2.0760184562581383, -0.7149080366700209, -0.0918574051416281, 1.7923015769941466, -0.2022523157306176, 0.04800165228427791, 2.778983884871559], \"yaxis\": \"y5\"}, {\"histfunc\": \"count\", \"histnorm\": \"\", \"marker\": {\"color\": \"rgba(55, 128, 191, 1.0)\", \"line\": {\"color\": \"#4D5663\", \"width\": 1.3}}, \"name\": \"B\", \"nbinsx\": 10, \"opacity\": 0.8, \"orientation\": \"v\", \"type\": \"histogram\", \"x\": [0.7323896324227073, -0.3284517281790686, -0.4510768322302432, 1.6259669689281526, 2.2430313429630293, -1.7897441106074743, 0.569351307124913, -0.64587704510535, -0.0028811213343762202, -0.6373272106113808, 1.0727062355724828, -2.952465256493198, 1.287542719369616, -1.9267498062823034, 2.0788433396371806, 0.43073404217299227, 0.26760125628746445, 1.0849032546496722, 1.3952877106807626, -0.6565850044269331, 0.3817056840001886, -0.7412006468853344, -1.1217400025261557, 0.6370813567298341, -0.5641382119507771, 0.4634853466013324, -0.8584405373757337, -0.31182260271644374, 0.3241918385448195, -1.33196541981774, -0.32846040497042905, -1.6413072197342926, 0.7173508042526268, -1.7799489677323204, -1.86186170165096, 0.10832184935546763, -1.0288381651747285, -0.545393753019585, -0.2650696867162592, 0.05143818057526999, 2.4823816265488032, -0.2501683134068812, -0.8065726277144815, 0.5501537595048036, 1.1282774686998163, -1.1732802076261226, -0.46217213437426197, -1.3361758119419371, 2.5199867408681107, 2.9378115385841097, -0.7262093920427323, 0.6618920921980426, -0.8331597086864062, -0.30617972029078255, -0.4785044386864302, -0.4311874108212848, 1.059597532517294, -1.5851754098869444, -0.039793079226337416, 0.9867240234550703, 1.3051413089883257, -0.5936323554912434, -0.7753853225554804, 0.25590786585761166, 1.547462128147694, -1.1023295816945362, -0.6222120723704447, -1.3188982035117294, -0.3093504949433165, -0.6769875209754437, -1.2333911783155913, -0.25666166671048446, -0.16532592175370936, -1.5355312465996227, -0.044051680488167134, -2.1457695866393056, 0.9910173713062925, -1.1693051260643423, 0.5160990345223325, 0.3034532039457703, 0.6409653165213176, 0.9651791752395708, -2.2583982537236387, 0.9926410629675069, 1.3397259187632276, 0.3781172112555631, 1.5690672504187282, -0.03013161830784265, 0.010106847671662566, 0.33347285351095557, 0.9112980654586149, 0.14301371449262146, -0.30880549994744216, -2.0760184562581383, -0.7149080366700209, -0.0918574051416281, 1.7923015769941466, -0.2022523157306176, 0.04800165228427791, 2.778983884871559], \"xaxis\": \"x6\", \"yaxis\": \"y6\"}, {\"line\": {\"color\": \"rgba(128, 128, 128, 1.0)\", \"dash\": \"solid\", \"shape\": \"linear\", \"width\": 1.3}, \"marker\": {\"size\": 2, \"symbol\": \"circle\"}, \"mode\": \"markers\", \"name\": \"B\", \"text\": \"\", \"type\": \"scatter\", \"x\": [0.9222841373662842, -1.6804994666692668, 0.3597681214930154, 0.6946653457572813, -2.0228248476213033, -1.0666487463970504, 0.3918601175968837, -1.0282306181688932, 0.5043984366695315, -0.07651377152407639, -1.1623285544689614, 0.9276143123506188, -1.090707015726742, -0.0931033450196046, 0.4494439386635046, 1.3714070313913298, -0.006318827300825494, 1.5334398479509452, 0.1612247171096429, -0.8019535864381443, -0.4881139574035609, -3.200042310179826, -0.03973690325032663, 0.1469945458180234, -0.3114419421366963, 0.20610076222518958, -0.5087114064580988, 0.5334918748187668, 0.2300146757080329, 2.0670623682633136, 0.8122964573456442, -0.5035504536337416, 2.0609413304506967, -0.08935908323816356, 1.5025156623202247, -1.2553037135233935, -0.5319221271715704, -1.0637936723981234, 0.06723297017675449, 0.5364541059211533, 1.2525873959994334, 1.6662869339320394, -1.427116342119559, 1.0194420299278972, 0.306989560029641, -0.5196358641816051, -0.30377574299331916, 0.27850589876295145, -0.7607399517383897, -0.5702097644362375, 0.3794360312670967, 0.2849820599649263, -1.0247331757452582, -0.19712726346279044, -0.08737784294508043, 0.7237044359826967, 1.609588255758794, 0.20354667439932378, -0.891918707340523, -0.3995257015270211, -0.4659778200620951, 0.08922465615535513, 1.130825856287499, -0.20675754509165864, 1.3781811671034254, 0.3026670169557407, 1.0362145555068512, -0.028708808313712846, 0.5897544927483535, -2.611862914600978, 0.7859570095002909, -0.946454230866487, -0.40844451644157775, -1.1878447427647347, -0.8757213429417575, 0.18141390708277777, -1.1925725795000022, -1.0830257229794367, -0.5691774720845683, 1.2774508206588515, -0.45305354859705826, -1.0095700521188944, -0.6510699768671271, -0.10339800580912871, -0.3877013120159667, -1.3619512413525672, -1.1424960904648973, -1.0095360276547143, 0.07749438904283287, -0.6663397998664455, -0.9043270074967882, -0.874141472868618, -0.9056454426723413, 0.44926413048963243, 0.15125183254240057, -0.11461729288434383, 2.0234431862789983, 0.13000998885060866, -0.6430570001159673, -0.021010091840642033], \"xaxis\": \"x7\", \"y\": [0.7323896324227073, -0.3284517281790686, -0.4510768322302432, 1.6259669689281526, 2.2430313429630293, -1.7897441106074743, 0.569351307124913, -0.64587704510535, -0.0028811213343762202, -0.6373272106113808, 1.0727062355724828, -2.952465256493198, 1.287542719369616, -1.9267498062823034, 2.0788433396371806, 0.43073404217299227, 0.26760125628746445, 1.0849032546496722, 1.3952877106807626, -0.6565850044269331, 0.3817056840001886, -0.7412006468853344, -1.1217400025261557, 0.6370813567298341, -0.5641382119507771, 0.4634853466013324, -0.8584405373757337, -0.31182260271644374, 0.3241918385448195, -1.33196541981774, -0.32846040497042905, -1.6413072197342926, 0.7173508042526268, -1.7799489677323204, -1.86186170165096, 0.10832184935546763, -1.0288381651747285, -0.545393753019585, -0.2650696867162592, 0.05143818057526999, 2.4823816265488032, -0.2501683134068812, -0.8065726277144815, 0.5501537595048036, 1.1282774686998163, -1.1732802076261226, -0.46217213437426197, -1.3361758119419371, 2.5199867408681107, 2.9378115385841097, -0.7262093920427323, 0.6618920921980426, -0.8331597086864062, -0.30617972029078255, -0.4785044386864302, -0.4311874108212848, 1.059597532517294, -1.5851754098869444, -0.039793079226337416, 0.9867240234550703, 1.3051413089883257, -0.5936323554912434, -0.7753853225554804, 0.25590786585761166, 1.547462128147694, -1.1023295816945362, -0.6222120723704447, -1.3188982035117294, -0.3093504949433165, -0.6769875209754437, -1.2333911783155913, -0.25666166671048446, -0.16532592175370936, -1.5355312465996227, -0.044051680488167134, -2.1457695866393056, 0.9910173713062925, -1.1693051260643423, 0.5160990345223325, 0.3034532039457703, 0.6409653165213176, 0.9651791752395708, -2.2583982537236387, 0.9926410629675069, 1.3397259187632276, 0.3781172112555631, 1.5690672504187282, -0.03013161830784265, 0.010106847671662566, 0.33347285351095557, 0.9112980654586149, 0.14301371449262146, -0.30880549994744216, -2.0760184562581383, -0.7149080366700209, -0.0918574051416281, 1.7923015769941466, -0.2022523157306176, 0.04800165228427791, 2.778983884871559], \"yaxis\": \"y7\"}, {\"line\": {\"color\": \"rgba(128, 128, 128, 1.0)\", \"dash\": \"solid\", \"shape\": \"linear\", \"width\": 1.3}, \"marker\": {\"size\": 2, \"symbol\": \"circle\"}, \"mode\": \"markers\", \"name\": \"B\", \"text\": \"\", \"type\": \"scatter\", \"x\": [-0.49276694005153754, -1.5986208578767598, 0.7491265136981557, 1.312156108991257, 0.08453779531317554, -0.2187343733372969, -0.8379765304819816, -0.0511028279959056, -0.017316963261710693, -1.0118519948123361, -0.16370932061274415, 0.6458615260403444, -0.2244178728724846, -1.520217744365132, 1.4283129738497007, 0.25468222071115176, -0.38140155346182825, 1.380638721998429, 1.4520895824746396, -1.5319514701306376, -1.8828405990802903, 0.9929435493683337, 0.0926308022668882, 0.8749211070050118, 0.6223522233213582, -2.4089503300794064, -0.19754282713332516, -1.6476161906707616, 1.6401794144989228, -0.6369476207431659, 0.6974161394541564, -0.40020788591131307, 0.9950022712269592, -0.44466503658659795, 0.12599943253474874, -0.3707222092344457, 1.9828291878087414, -0.658017774044128, -2.4079520031370234, 0.038133392728422366, 0.8472151165833635, 0.5134263518989487, 1.3526642802214088, -1.5860897426341527, 1.6778139827116016, 0.7640590919587001, 0.7771332307041993, 1.3528508384931222, 0.9513228631476397, 2.0711099176175964, -2.5368404843510173, -1.3415192299160754, -2.2198664797204213, 0.26407355848848957, -0.9228894243282747, 0.3903893166092727, 0.690495614429746, 2.6294349664221834, -1.0018758618494499, -0.7746264225990829, 1.252967895470081, -0.5800015937270759, 1.774442695877346, 0.3006623955637737, -0.953781350527465, 0.9737779320934462, 1.8204930669143398, -0.17997660188272743, 1.313904319436769, -0.48039991105997254, 1.4591836201587236, -0.3646044945007691, -2.54730458507353, 0.5034575972987234, -0.43940367807704345, 0.21268562440517289, -1.3296483365012357, -0.31877779222053276, 1.1951688280637907, 1.5350471427808494, -0.07323618940973585, -1.1269942514030862, -0.4247276176477819, -0.9398456127581629, 1.5369043842816101, -1.1870014693064666, 1.4656538962054477, -0.565741535969565, -0.830059860318411, -0.289447855374188, -2.862452201994092, 0.8855172927520567, 0.7333716746271585, 0.6787725431545305, 0.3976557546382951, 0.9596678020387314, 0.7017388368109589, -0.7112984882624002, 0.137061290177784, 1.108603717615353], \"xaxis\": \"x8\", \"y\": [0.7323896324227073, -0.3284517281790686, -0.4510768322302432, 1.6259669689281526, 2.2430313429630293, -1.7897441106074743, 0.569351307124913, -0.64587704510535, -0.0028811213343762202, -0.6373272106113808, 1.0727062355724828, -2.952465256493198, 1.287542719369616, -1.9267498062823034, 2.0788433396371806, 0.43073404217299227, 0.26760125628746445, 1.0849032546496722, 1.3952877106807626, -0.6565850044269331, 0.3817056840001886, -0.7412006468853344, -1.1217400025261557, 0.6370813567298341, -0.5641382119507771, 0.4634853466013324, -0.8584405373757337, -0.31182260271644374, 0.3241918385448195, -1.33196541981774, -0.32846040497042905, -1.6413072197342926, 0.7173508042526268, -1.7799489677323204, -1.86186170165096, 0.10832184935546763, -1.0288381651747285, -0.545393753019585, -0.2650696867162592, 0.05143818057526999, 2.4823816265488032, -0.2501683134068812, -0.8065726277144815, 0.5501537595048036, 1.1282774686998163, -1.1732802076261226, -0.46217213437426197, -1.3361758119419371, 2.5199867408681107, 2.9378115385841097, -0.7262093920427323, 0.6618920921980426, -0.8331597086864062, -0.30617972029078255, -0.4785044386864302, -0.4311874108212848, 1.059597532517294, -1.5851754098869444, -0.039793079226337416, 0.9867240234550703, 1.3051413089883257, -0.5936323554912434, -0.7753853225554804, 0.25590786585761166, 1.547462128147694, -1.1023295816945362, -0.6222120723704447, -1.3188982035117294, -0.3093504949433165, -0.6769875209754437, -1.2333911783155913, -0.25666166671048446, -0.16532592175370936, -1.5355312465996227, -0.044051680488167134, -2.1457695866393056, 0.9910173713062925, -1.1693051260643423, 0.5160990345223325, 0.3034532039457703, 0.6409653165213176, 0.9651791752395708, -2.2583982537236387, 0.9926410629675069, 1.3397259187632276, 0.3781172112555631, 1.5690672504187282, -0.03013161830784265, 0.010106847671662566, 0.33347285351095557, 0.9112980654586149, 0.14301371449262146, -0.30880549994744216, -2.0760184562581383, -0.7149080366700209, -0.0918574051416281, 1.7923015769941466, -0.2022523157306176, 0.04800165228427791, 2.778983884871559], \"yaxis\": \"y8\"}, {\"line\": {\"color\": \"rgba(128, 128, 128, 1.0)\", \"dash\": \"solid\", \"shape\": \"linear\", \"width\": 1.3}, \"marker\": {\"size\": 2, \"symbol\": \"circle\"}, \"mode\": \"markers\", \"name\": \"C\", \"text\": \"\", \"type\": \"scatter\", \"x\": [1.13798425475934, -1.5511667265037368, -0.49910781628050077, 1.085004351054516, 1.3989590240733099, -0.2911375934861317, -1.5870990872964883, -0.27935482665627126, 0.3605252492517807, -0.2573222198131206, 0.1282283018327493, -0.07523399544764772, -1.209782190524917, 2.0998120955843382, 0.21015410636408016, 0.22039843592118114, -0.2750042028570783, -0.6425752651343553, 0.04922938202933533, -1.151271215568177, -0.42520307577080796, 0.286067143912526, 0.6534378509385754, 0.8055892428102114, 1.6706324275158206, -1.9144292516764323, -0.7130745443719025, 0.7132261507336397, 1.0879917537219244, 1.1428274385647352, 1.1052680624561735, -0.5017274571551676, -0.15486630452781308, -0.8648382795499453, -0.821833223346524, -0.9012730792736585, 0.6915059079700464, 0.9054765379391744, -1.2976938178943378, -2.53565236236453, -0.1468560126376463, 0.7415838145374852, 0.967262105578842, -0.35875049228952205, 0.8406410200429533, -0.03382970251039049, 0.8707112942651388, -1.4962151290981338, -0.07482657180383757, -2.0160590596318197, 0.3736129818346688, 1.6452214643540364, 1.7483148573896086, -1.4782529280436036, -0.1851835324174723, 0.07377001332300753, 0.36261478198089586, 0.8651189780670078, 0.6850474548860096, -0.7604619533012311, 0.6555732095574617, -0.2688445662091309, 2.284918084356147, -0.8340569074513916, 1.6567735333149083, 0.2924799350386549, -0.2735576072888158, 0.0661601600306233, -0.6484239909056564, 0.3878976614822351, -0.7011706453361762, 0.2833166864898419, 0.46257195200648377, 0.5553702337250296, -0.5010959672124472, -0.14217198426981456, 0.030937629523973564, -0.7574771731657584, 0.45118790988184454, 0.8219555020946994, 0.5957135274819632, 0.296850683691185, -0.12687894891679846, 1.6095887390402563, -0.4527220315030091, 0.971845763811533, 0.6888768190349028, 1.190978115499409, 1.553954249377355, -0.12605990653637028, 1.3525180232497602, 0.721154005304942, -1.9836464415088655, -0.7479971966715627, -0.06669017642695914, -0.9289839979546476, 0.4778549545203271, 0.28213164182506856, -1.1155992489230353, 0.4085009469861413], \"xaxis\": \"x9\", \"y\": [0.9222841373662842, -1.6804994666692668, 0.3597681214930154, 0.6946653457572813, -2.0228248476213033, -1.0666487463970504, 0.3918601175968837, -1.0282306181688932, 0.5043984366695315, -0.07651377152407639, -1.1623285544689614, 0.9276143123506188, -1.090707015726742, -0.0931033450196046, 0.4494439386635046, 1.3714070313913298, -0.006318827300825494, 1.5334398479509452, 0.1612247171096429, -0.8019535864381443, -0.4881139574035609, -3.200042310179826, -0.03973690325032663, 0.1469945458180234, -0.3114419421366963, 0.20610076222518958, -0.5087114064580988, 0.5334918748187668, 0.2300146757080329, 2.0670623682633136, 0.8122964573456442, -0.5035504536337416, 2.0609413304506967, -0.08935908323816356, 1.5025156623202247, -1.2553037135233935, -0.5319221271715704, -1.0637936723981234, 0.06723297017675449, 0.5364541059211533, 1.2525873959994334, 1.6662869339320394, -1.427116342119559, 1.0194420299278972, 0.306989560029641, -0.5196358641816051, -0.30377574299331916, 0.27850589876295145, -0.7607399517383897, -0.5702097644362375, 0.3794360312670967, 0.2849820599649263, -1.0247331757452582, -0.19712726346279044, -0.08737784294508043, 0.7237044359826967, 1.609588255758794, 0.20354667439932378, -0.891918707340523, -0.3995257015270211, -0.4659778200620951, 0.08922465615535513, 1.130825856287499, -0.20675754509165864, 1.3781811671034254, 0.3026670169557407, 1.0362145555068512, -0.028708808313712846, 0.5897544927483535, -2.611862914600978, 0.7859570095002909, -0.946454230866487, -0.40844451644157775, -1.1878447427647347, -0.8757213429417575, 0.18141390708277777, -1.1925725795000022, -1.0830257229794367, -0.5691774720845683, 1.2774508206588515, -0.45305354859705826, -1.0095700521188944, -0.6510699768671271, -0.10339800580912871, -0.3877013120159667, -1.3619512413525672, -1.1424960904648973, -1.0095360276547143, 0.07749438904283287, -0.6663397998664455, -0.9043270074967882, -0.874141472868618, -0.9056454426723413, 0.44926413048963243, 0.15125183254240057, -0.11461729288434383, 2.0234431862789983, 0.13000998885060866, -0.6430570001159673, -0.021010091840642033], \"yaxis\": \"y9\"}, {\"line\": {\"color\": \"rgba(128, 128, 128, 1.0)\", \"dash\": \"solid\", \"shape\": \"linear\", \"width\": 1.3}, \"marker\": {\"size\": 2, \"symbol\": \"circle\"}, \"mode\": \"markers\", \"name\": \"C\", \"text\": \"\", \"type\": \"scatter\", \"x\": [0.7323896324227073, -0.3284517281790686, -0.4510768322302432, 1.6259669689281526, 2.2430313429630293, -1.7897441106074743, 0.569351307124913, -0.64587704510535, -0.0028811213343762202, -0.6373272106113808, 1.0727062355724828, -2.952465256493198, 1.287542719369616, -1.9267498062823034, 2.0788433396371806, 0.43073404217299227, 0.26760125628746445, 1.0849032546496722, 1.3952877106807626, -0.6565850044269331, 0.3817056840001886, -0.7412006468853344, -1.1217400025261557, 0.6370813567298341, -0.5641382119507771, 0.4634853466013324, -0.8584405373757337, -0.31182260271644374, 0.3241918385448195, -1.33196541981774, -0.32846040497042905, -1.6413072197342926, 0.7173508042526268, -1.7799489677323204, -1.86186170165096, 0.10832184935546763, -1.0288381651747285, -0.545393753019585, -0.2650696867162592, 0.05143818057526999, 2.4823816265488032, -0.2501683134068812, -0.8065726277144815, 0.5501537595048036, 1.1282774686998163, -1.1732802076261226, -0.46217213437426197, -1.3361758119419371, 2.5199867408681107, 2.9378115385841097, -0.7262093920427323, 0.6618920921980426, -0.8331597086864062, -0.30617972029078255, -0.4785044386864302, -0.4311874108212848, 1.059597532517294, -1.5851754098869444, -0.039793079226337416, 0.9867240234550703, 1.3051413089883257, -0.5936323554912434, -0.7753853225554804, 0.25590786585761166, 1.547462128147694, -1.1023295816945362, -0.6222120723704447, -1.3188982035117294, -0.3093504949433165, -0.6769875209754437, -1.2333911783155913, -0.25666166671048446, -0.16532592175370936, -1.5355312465996227, -0.044051680488167134, -2.1457695866393056, 0.9910173713062925, -1.1693051260643423, 0.5160990345223325, 0.3034532039457703, 0.6409653165213176, 0.9651791752395708, -2.2583982537236387, 0.9926410629675069, 1.3397259187632276, 0.3781172112555631, 1.5690672504187282, -0.03013161830784265, 0.010106847671662566, 0.33347285351095557, 0.9112980654586149, 0.14301371449262146, -0.30880549994744216, -2.0760184562581383, -0.7149080366700209, -0.0918574051416281, 1.7923015769941466, -0.2022523157306176, 0.04800165228427791, 2.778983884871559], \"xaxis\": \"x10\", \"y\": [0.9222841373662842, -1.6804994666692668, 0.3597681214930154, 0.6946653457572813, -2.0228248476213033, -1.0666487463970504, 0.3918601175968837, -1.0282306181688932, 0.5043984366695315, -0.07651377152407639, -1.1623285544689614, 0.9276143123506188, -1.090707015726742, -0.0931033450196046, 0.4494439386635046, 1.3714070313913298, -0.006318827300825494, 1.5334398479509452, 0.1612247171096429, -0.8019535864381443, -0.4881139574035609, -3.200042310179826, -0.03973690325032663, 0.1469945458180234, -0.3114419421366963, 0.20610076222518958, -0.5087114064580988, 0.5334918748187668, 0.2300146757080329, 2.0670623682633136, 0.8122964573456442, -0.5035504536337416, 2.0609413304506967, -0.08935908323816356, 1.5025156623202247, -1.2553037135233935, -0.5319221271715704, -1.0637936723981234, 0.06723297017675449, 0.5364541059211533, 1.2525873959994334, 1.6662869339320394, -1.427116342119559, 1.0194420299278972, 0.306989560029641, -0.5196358641816051, -0.30377574299331916, 0.27850589876295145, -0.7607399517383897, -0.5702097644362375, 0.3794360312670967, 0.2849820599649263, -1.0247331757452582, -0.19712726346279044, -0.08737784294508043, 0.7237044359826967, 1.609588255758794, 0.20354667439932378, -0.891918707340523, -0.3995257015270211, -0.4659778200620951, 0.08922465615535513, 1.130825856287499, -0.20675754509165864, 1.3781811671034254, 0.3026670169557407, 1.0362145555068512, -0.028708808313712846, 0.5897544927483535, -2.611862914600978, 0.7859570095002909, -0.946454230866487, -0.40844451644157775, -1.1878447427647347, -0.8757213429417575, 0.18141390708277777, -1.1925725795000022, -1.0830257229794367, -0.5691774720845683, 1.2774508206588515, -0.45305354859705826, -1.0095700521188944, -0.6510699768671271, -0.10339800580912871, -0.3877013120159667, -1.3619512413525672, -1.1424960904648973, -1.0095360276547143, 0.07749438904283287, -0.6663397998664455, -0.9043270074967882, -0.874141472868618, -0.9056454426723413, 0.44926413048963243, 0.15125183254240057, -0.11461729288434383, 2.0234431862789983, 0.13000998885060866, -0.6430570001159673, -0.021010091840642033], \"yaxis\": \"y10\"}, {\"histfunc\": \"count\", \"histnorm\": \"\", \"marker\": {\"color\": \"rgba(50, 171, 96, 1.0)\", \"line\": {\"color\": \"#4D5663\", \"width\": 1.3}}, \"name\": \"C\", \"nbinsx\": 10, \"opacity\": 0.8, \"orientation\": \"v\", \"type\": \"histogram\", \"x\": [0.9222841373662842, -1.6804994666692668, 0.3597681214930154, 0.6946653457572813, -2.0228248476213033, -1.0666487463970504, 0.3918601175968837, -1.0282306181688932, 0.5043984366695315, -0.07651377152407639, -1.1623285544689614, 0.9276143123506188, -1.090707015726742, -0.0931033450196046, 0.4494439386635046, 1.3714070313913298, -0.006318827300825494, 1.5334398479509452, 0.1612247171096429, -0.8019535864381443, -0.4881139574035609, -3.200042310179826, -0.03973690325032663, 0.1469945458180234, -0.3114419421366963, 0.20610076222518958, -0.5087114064580988, 0.5334918748187668, 0.2300146757080329, 2.0670623682633136, 0.8122964573456442, -0.5035504536337416, 2.0609413304506967, -0.08935908323816356, 1.5025156623202247, -1.2553037135233935, -0.5319221271715704, -1.0637936723981234, 0.06723297017675449, 0.5364541059211533, 1.2525873959994334, 1.6662869339320394, -1.427116342119559, 1.0194420299278972, 0.306989560029641, -0.5196358641816051, -0.30377574299331916, 0.27850589876295145, -0.7607399517383897, -0.5702097644362375, 0.3794360312670967, 0.2849820599649263, -1.0247331757452582, -0.19712726346279044, -0.08737784294508043, 0.7237044359826967, 1.609588255758794, 0.20354667439932378, -0.891918707340523, -0.3995257015270211, -0.4659778200620951, 0.08922465615535513, 1.130825856287499, -0.20675754509165864, 1.3781811671034254, 0.3026670169557407, 1.0362145555068512, -0.028708808313712846, 0.5897544927483535, -2.611862914600978, 0.7859570095002909, -0.946454230866487, -0.40844451644157775, -1.1878447427647347, -0.8757213429417575, 0.18141390708277777, -1.1925725795000022, -1.0830257229794367, -0.5691774720845683, 1.2774508206588515, -0.45305354859705826, -1.0095700521188944, -0.6510699768671271, -0.10339800580912871, -0.3877013120159667, -1.3619512413525672, -1.1424960904648973, -1.0095360276547143, 0.07749438904283287, -0.6663397998664455, -0.9043270074967882, -0.874141472868618, -0.9056454426723413, 0.44926413048963243, 0.15125183254240057, -0.11461729288434383, 2.0234431862789983, 0.13000998885060866, -0.6430570001159673, -0.021010091840642033], \"xaxis\": \"x11\", \"yaxis\": \"y11\"}, {\"line\": {\"color\": \"rgba(128, 128, 128, 1.0)\", \"dash\": \"solid\", \"shape\": \"linear\", \"width\": 1.3}, \"marker\": {\"size\": 2, \"symbol\": \"circle\"}, \"mode\": \"markers\", \"name\": \"C\", \"text\": \"\", \"type\": \"scatter\", \"x\": [-0.49276694005153754, -1.5986208578767598, 0.7491265136981557, 1.312156108991257, 0.08453779531317554, -0.2187343733372969, -0.8379765304819816, -0.0511028279959056, -0.017316963261710693, -1.0118519948123361, -0.16370932061274415, 0.6458615260403444, -0.2244178728724846, -1.520217744365132, 1.4283129738497007, 0.25468222071115176, -0.38140155346182825, 1.380638721998429, 1.4520895824746396, -1.5319514701306376, -1.8828405990802903, 0.9929435493683337, 0.0926308022668882, 0.8749211070050118, 0.6223522233213582, -2.4089503300794064, -0.19754282713332516, -1.6476161906707616, 1.6401794144989228, -0.6369476207431659, 0.6974161394541564, -0.40020788591131307, 0.9950022712269592, -0.44466503658659795, 0.12599943253474874, -0.3707222092344457, 1.9828291878087414, -0.658017774044128, -2.4079520031370234, 0.038133392728422366, 0.8472151165833635, 0.5134263518989487, 1.3526642802214088, -1.5860897426341527, 1.6778139827116016, 0.7640590919587001, 0.7771332307041993, 1.3528508384931222, 0.9513228631476397, 2.0711099176175964, -2.5368404843510173, -1.3415192299160754, -2.2198664797204213, 0.26407355848848957, -0.9228894243282747, 0.3903893166092727, 0.690495614429746, 2.6294349664221834, -1.0018758618494499, -0.7746264225990829, 1.252967895470081, -0.5800015937270759, 1.774442695877346, 0.3006623955637737, -0.953781350527465, 0.9737779320934462, 1.8204930669143398, -0.17997660188272743, 1.313904319436769, -0.48039991105997254, 1.4591836201587236, -0.3646044945007691, -2.54730458507353, 0.5034575972987234, -0.43940367807704345, 0.21268562440517289, -1.3296483365012357, -0.31877779222053276, 1.1951688280637907, 1.5350471427808494, -0.07323618940973585, -1.1269942514030862, -0.4247276176477819, -0.9398456127581629, 1.5369043842816101, -1.1870014693064666, 1.4656538962054477, -0.565741535969565, -0.830059860318411, -0.289447855374188, -2.862452201994092, 0.8855172927520567, 0.7333716746271585, 0.6787725431545305, 0.3976557546382951, 0.9596678020387314, 0.7017388368109589, -0.7112984882624002, 0.137061290177784, 1.108603717615353], \"xaxis\": \"x12\", \"y\": [0.9222841373662842, -1.6804994666692668, 0.3597681214930154, 0.6946653457572813, -2.0228248476213033, -1.0666487463970504, 0.3918601175968837, -1.0282306181688932, 0.5043984366695315, -0.07651377152407639, -1.1623285544689614, 0.9276143123506188, -1.090707015726742, -0.0931033450196046, 0.4494439386635046, 1.3714070313913298, -0.006318827300825494, 1.5334398479509452, 0.1612247171096429, -0.8019535864381443, -0.4881139574035609, -3.200042310179826, -0.03973690325032663, 0.1469945458180234, -0.3114419421366963, 0.20610076222518958, -0.5087114064580988, 0.5334918748187668, 0.2300146757080329, 2.0670623682633136, 0.8122964573456442, -0.5035504536337416, 2.0609413304506967, -0.08935908323816356, 1.5025156623202247, -1.2553037135233935, -0.5319221271715704, -1.0637936723981234, 0.06723297017675449, 0.5364541059211533, 1.2525873959994334, 1.6662869339320394, -1.427116342119559, 1.0194420299278972, 0.306989560029641, -0.5196358641816051, -0.30377574299331916, 0.27850589876295145, -0.7607399517383897, -0.5702097644362375, 0.3794360312670967, 0.2849820599649263, -1.0247331757452582, -0.19712726346279044, -0.08737784294508043, 0.7237044359826967, 1.609588255758794, 0.20354667439932378, -0.891918707340523, -0.3995257015270211, -0.4659778200620951, 0.08922465615535513, 1.130825856287499, -0.20675754509165864, 1.3781811671034254, 0.3026670169557407, 1.0362145555068512, -0.028708808313712846, 0.5897544927483535, -2.611862914600978, 0.7859570095002909, -0.946454230866487, -0.40844451644157775, -1.1878447427647347, -0.8757213429417575, 0.18141390708277777, -1.1925725795000022, -1.0830257229794367, -0.5691774720845683, 1.2774508206588515, -0.45305354859705826, -1.0095700521188944, -0.6510699768671271, -0.10339800580912871, -0.3877013120159667, -1.3619512413525672, -1.1424960904648973, -1.0095360276547143, 0.07749438904283287, -0.6663397998664455, -0.9043270074967882, -0.874141472868618, -0.9056454426723413, 0.44926413048963243, 0.15125183254240057, -0.11461729288434383, 2.0234431862789983, 0.13000998885060866, -0.6430570001159673, -0.021010091840642033], \"yaxis\": \"y12\"}, {\"line\": {\"color\": \"rgba(128, 128, 128, 1.0)\", \"dash\": \"solid\", \"shape\": \"linear\", \"width\": 1.3}, \"marker\": {\"size\": 2, \"symbol\": \"circle\"}, \"mode\": \"markers\", \"name\": \"D\", \"text\": \"\", \"type\": \"scatter\", \"x\": [1.13798425475934, -1.5511667265037368, -0.49910781628050077, 1.085004351054516, 1.3989590240733099, -0.2911375934861317, -1.5870990872964883, -0.27935482665627126, 0.3605252492517807, -0.2573222198131206, 0.1282283018327493, -0.07523399544764772, -1.209782190524917, 2.0998120955843382, 0.21015410636408016, 0.22039843592118114, -0.2750042028570783, -0.6425752651343553, 0.04922938202933533, -1.151271215568177, -0.42520307577080796, 0.286067143912526, 0.6534378509385754, 0.8055892428102114, 1.6706324275158206, -1.9144292516764323, -0.7130745443719025, 0.7132261507336397, 1.0879917537219244, 1.1428274385647352, 1.1052680624561735, -0.5017274571551676, -0.15486630452781308, -0.8648382795499453, -0.821833223346524, -0.9012730792736585, 0.6915059079700464, 0.9054765379391744, -1.2976938178943378, -2.53565236236453, -0.1468560126376463, 0.7415838145374852, 0.967262105578842, -0.35875049228952205, 0.8406410200429533, -0.03382970251039049, 0.8707112942651388, -1.4962151290981338, -0.07482657180383757, -2.0160590596318197, 0.3736129818346688, 1.6452214643540364, 1.7483148573896086, -1.4782529280436036, -0.1851835324174723, 0.07377001332300753, 0.36261478198089586, 0.8651189780670078, 0.6850474548860096, -0.7604619533012311, 0.6555732095574617, -0.2688445662091309, 2.284918084356147, -0.8340569074513916, 1.6567735333149083, 0.2924799350386549, -0.2735576072888158, 0.0661601600306233, -0.6484239909056564, 0.3878976614822351, -0.7011706453361762, 0.2833166864898419, 0.46257195200648377, 0.5553702337250296, -0.5010959672124472, -0.14217198426981456, 0.030937629523973564, -0.7574771731657584, 0.45118790988184454, 0.8219555020946994, 0.5957135274819632, 0.296850683691185, -0.12687894891679846, 1.6095887390402563, -0.4527220315030091, 0.971845763811533, 0.6888768190349028, 1.190978115499409, 1.553954249377355, -0.12605990653637028, 1.3525180232497602, 0.721154005304942, -1.9836464415088655, -0.7479971966715627, -0.06669017642695914, -0.9289839979546476, 0.4778549545203271, 0.28213164182506856, -1.1155992489230353, 0.4085009469861413], \"xaxis\": \"x13\", \"y\": [-0.49276694005153754, -1.5986208578767598, 0.7491265136981557, 1.312156108991257, 0.08453779531317554, -0.2187343733372969, -0.8379765304819816, -0.0511028279959056, -0.017316963261710693, -1.0118519948123361, -0.16370932061274415, 0.6458615260403444, -0.2244178728724846, -1.520217744365132, 1.4283129738497007, 0.25468222071115176, -0.38140155346182825, 1.380638721998429, 1.4520895824746396, -1.5319514701306376, -1.8828405990802903, 0.9929435493683337, 0.0926308022668882, 0.8749211070050118, 0.6223522233213582, -2.4089503300794064, -0.19754282713332516, -1.6476161906707616, 1.6401794144989228, -0.6369476207431659, 0.6974161394541564, -0.40020788591131307, 0.9950022712269592, -0.44466503658659795, 0.12599943253474874, -0.3707222092344457, 1.9828291878087414, -0.658017774044128, -2.4079520031370234, 0.038133392728422366, 0.8472151165833635, 0.5134263518989487, 1.3526642802214088, -1.5860897426341527, 1.6778139827116016, 0.7640590919587001, 0.7771332307041993, 1.3528508384931222, 0.9513228631476397, 2.0711099176175964, -2.5368404843510173, -1.3415192299160754, -2.2198664797204213, 0.26407355848848957, -0.9228894243282747, 0.3903893166092727, 0.690495614429746, 2.6294349664221834, -1.0018758618494499, -0.7746264225990829, 1.252967895470081, -0.5800015937270759, 1.774442695877346, 0.3006623955637737, -0.953781350527465, 0.9737779320934462, 1.8204930669143398, -0.17997660188272743, 1.313904319436769, -0.48039991105997254, 1.4591836201587236, -0.3646044945007691, -2.54730458507353, 0.5034575972987234, -0.43940367807704345, 0.21268562440517289, -1.3296483365012357, -0.31877779222053276, 1.1951688280637907, 1.5350471427808494, -0.07323618940973585, -1.1269942514030862, -0.4247276176477819, -0.9398456127581629, 1.5369043842816101, -1.1870014693064666, 1.4656538962054477, -0.565741535969565, -0.830059860318411, -0.289447855374188, -2.862452201994092, 0.8855172927520567, 0.7333716746271585, 0.6787725431545305, 0.3976557546382951, 0.9596678020387314, 0.7017388368109589, -0.7112984882624002, 0.137061290177784, 1.108603717615353], \"yaxis\": \"y13\"}, {\"line\": {\"color\": \"rgba(128, 128, 128, 1.0)\", \"dash\": \"solid\", \"shape\": \"linear\", \"width\": 1.3}, \"marker\": {\"size\": 2, \"symbol\": \"circle\"}, \"mode\": \"markers\", \"name\": \"D\", \"text\": \"\", \"type\": \"scatter\", \"x\": [0.7323896324227073, -0.3284517281790686, -0.4510768322302432, 1.6259669689281526, 2.2430313429630293, -1.7897441106074743, 0.569351307124913, -0.64587704510535, -0.0028811213343762202, -0.6373272106113808, 1.0727062355724828, -2.952465256493198, 1.287542719369616, -1.9267498062823034, 2.0788433396371806, 0.43073404217299227, 0.26760125628746445, 1.0849032546496722, 1.3952877106807626, -0.6565850044269331, 0.3817056840001886, -0.7412006468853344, -1.1217400025261557, 0.6370813567298341, -0.5641382119507771, 0.4634853466013324, -0.8584405373757337, -0.31182260271644374, 0.3241918385448195, -1.33196541981774, -0.32846040497042905, -1.6413072197342926, 0.7173508042526268, -1.7799489677323204, -1.86186170165096, 0.10832184935546763, -1.0288381651747285, -0.545393753019585, -0.2650696867162592, 0.05143818057526999, 2.4823816265488032, -0.2501683134068812, -0.8065726277144815, 0.5501537595048036, 1.1282774686998163, -1.1732802076261226, -0.46217213437426197, -1.3361758119419371, 2.5199867408681107, 2.9378115385841097, -0.7262093920427323, 0.6618920921980426, -0.8331597086864062, -0.30617972029078255, -0.4785044386864302, -0.4311874108212848, 1.059597532517294, -1.5851754098869444, -0.039793079226337416, 0.9867240234550703, 1.3051413089883257, -0.5936323554912434, -0.7753853225554804, 0.25590786585761166, 1.547462128147694, -1.1023295816945362, -0.6222120723704447, -1.3188982035117294, -0.3093504949433165, -0.6769875209754437, -1.2333911783155913, -0.25666166671048446, -0.16532592175370936, -1.5355312465996227, -0.044051680488167134, -2.1457695866393056, 0.9910173713062925, -1.1693051260643423, 0.5160990345223325, 0.3034532039457703, 0.6409653165213176, 0.9651791752395708, -2.2583982537236387, 0.9926410629675069, 1.3397259187632276, 0.3781172112555631, 1.5690672504187282, -0.03013161830784265, 0.010106847671662566, 0.33347285351095557, 0.9112980654586149, 0.14301371449262146, -0.30880549994744216, -2.0760184562581383, -0.7149080366700209, -0.0918574051416281, 1.7923015769941466, -0.2022523157306176, 0.04800165228427791, 2.778983884871559], \"xaxis\": \"x14\", \"y\": [-0.49276694005153754, -1.5986208578767598, 0.7491265136981557, 1.312156108991257, 0.08453779531317554, -0.2187343733372969, -0.8379765304819816, -0.0511028279959056, -0.017316963261710693, -1.0118519948123361, -0.16370932061274415, 0.6458615260403444, -0.2244178728724846, -1.520217744365132, 1.4283129738497007, 0.25468222071115176, -0.38140155346182825, 1.380638721998429, 1.4520895824746396, -1.5319514701306376, -1.8828405990802903, 0.9929435493683337, 0.0926308022668882, 0.8749211070050118, 0.6223522233213582, -2.4089503300794064, -0.19754282713332516, -1.6476161906707616, 1.6401794144989228, -0.6369476207431659, 0.6974161394541564, -0.40020788591131307, 0.9950022712269592, -0.44466503658659795, 0.12599943253474874, -0.3707222092344457, 1.9828291878087414, -0.658017774044128, -2.4079520031370234, 0.038133392728422366, 0.8472151165833635, 0.5134263518989487, 1.3526642802214088, -1.5860897426341527, 1.6778139827116016, 0.7640590919587001, 0.7771332307041993, 1.3528508384931222, 0.9513228631476397, 2.0711099176175964, -2.5368404843510173, -1.3415192299160754, -2.2198664797204213, 0.26407355848848957, -0.9228894243282747, 0.3903893166092727, 0.690495614429746, 2.6294349664221834, -1.0018758618494499, -0.7746264225990829, 1.252967895470081, -0.5800015937270759, 1.774442695877346, 0.3006623955637737, -0.953781350527465, 0.9737779320934462, 1.8204930669143398, -0.17997660188272743, 1.313904319436769, -0.48039991105997254, 1.4591836201587236, -0.3646044945007691, -2.54730458507353, 0.5034575972987234, -0.43940367807704345, 0.21268562440517289, -1.3296483365012357, -0.31877779222053276, 1.1951688280637907, 1.5350471427808494, -0.07323618940973585, -1.1269942514030862, -0.4247276176477819, -0.9398456127581629, 1.5369043842816101, -1.1870014693064666, 1.4656538962054477, -0.565741535969565, -0.830059860318411, -0.289447855374188, -2.862452201994092, 0.8855172927520567, 0.7333716746271585, 0.6787725431545305, 0.3976557546382951, 0.9596678020387314, 0.7017388368109589, -0.7112984882624002, 0.137061290177784, 1.108603717615353], \"yaxis\": \"y14\"}, {\"line\": {\"color\": \"rgba(128, 128, 128, 1.0)\", \"dash\": \"solid\", \"shape\": \"linear\", \"width\": 1.3}, \"marker\": {\"size\": 2, \"symbol\": \"circle\"}, \"mode\": \"markers\", \"name\": \"D\", \"text\": \"\", \"type\": \"scatter\", \"x\": [0.9222841373662842, -1.6804994666692668, 0.3597681214930154, 0.6946653457572813, -2.0228248476213033, -1.0666487463970504, 0.3918601175968837, -1.0282306181688932, 0.5043984366695315, -0.07651377152407639, -1.1623285544689614, 0.9276143123506188, -1.090707015726742, -0.0931033450196046, 0.4494439386635046, 1.3714070313913298, -0.006318827300825494, 1.5334398479509452, 0.1612247171096429, -0.8019535864381443, -0.4881139574035609, -3.200042310179826, -0.03973690325032663, 0.1469945458180234, -0.3114419421366963, 0.20610076222518958, -0.5087114064580988, 0.5334918748187668, 0.2300146757080329, 2.0670623682633136, 0.8122964573456442, -0.5035504536337416, 2.0609413304506967, -0.08935908323816356, 1.5025156623202247, -1.2553037135233935, -0.5319221271715704, -1.0637936723981234, 0.06723297017675449, 0.5364541059211533, 1.2525873959994334, 1.6662869339320394, -1.427116342119559, 1.0194420299278972, 0.306989560029641, -0.5196358641816051, -0.30377574299331916, 0.27850589876295145, -0.7607399517383897, -0.5702097644362375, 0.3794360312670967, 0.2849820599649263, -1.0247331757452582, -0.19712726346279044, -0.08737784294508043, 0.7237044359826967, 1.609588255758794, 0.20354667439932378, -0.891918707340523, -0.3995257015270211, -0.4659778200620951, 0.08922465615535513, 1.130825856287499, -0.20675754509165864, 1.3781811671034254, 0.3026670169557407, 1.0362145555068512, -0.028708808313712846, 0.5897544927483535, -2.611862914600978, 0.7859570095002909, -0.946454230866487, -0.40844451644157775, -1.1878447427647347, -0.8757213429417575, 0.18141390708277777, -1.1925725795000022, -1.0830257229794367, -0.5691774720845683, 1.2774508206588515, -0.45305354859705826, -1.0095700521188944, -0.6510699768671271, -0.10339800580912871, -0.3877013120159667, -1.3619512413525672, -1.1424960904648973, -1.0095360276547143, 0.07749438904283287, -0.6663397998664455, -0.9043270074967882, -0.874141472868618, -0.9056454426723413, 0.44926413048963243, 0.15125183254240057, -0.11461729288434383, 2.0234431862789983, 0.13000998885060866, -0.6430570001159673, -0.021010091840642033], \"xaxis\": \"x15\", \"y\": [-0.49276694005153754, -1.5986208578767598, 0.7491265136981557, 1.312156108991257, 0.08453779531317554, -0.2187343733372969, -0.8379765304819816, -0.0511028279959056, -0.017316963261710693, -1.0118519948123361, -0.16370932061274415, 0.6458615260403444, -0.2244178728724846, -1.520217744365132, 1.4283129738497007, 0.25468222071115176, -0.38140155346182825, 1.380638721998429, 1.4520895824746396, -1.5319514701306376, -1.8828405990802903, 0.9929435493683337, 0.0926308022668882, 0.8749211070050118, 0.6223522233213582, -2.4089503300794064, -0.19754282713332516, -1.6476161906707616, 1.6401794144989228, -0.6369476207431659, 0.6974161394541564, -0.40020788591131307, 0.9950022712269592, -0.44466503658659795, 0.12599943253474874, -0.3707222092344457, 1.9828291878087414, -0.658017774044128, -2.4079520031370234, 0.038133392728422366, 0.8472151165833635, 0.5134263518989487, 1.3526642802214088, -1.5860897426341527, 1.6778139827116016, 0.7640590919587001, 0.7771332307041993, 1.3528508384931222, 0.9513228631476397, 2.0711099176175964, -2.5368404843510173, -1.3415192299160754, -2.2198664797204213, 0.26407355848848957, -0.9228894243282747, 0.3903893166092727, 0.690495614429746, 2.6294349664221834, -1.0018758618494499, -0.7746264225990829, 1.252967895470081, -0.5800015937270759, 1.774442695877346, 0.3006623955637737, -0.953781350527465, 0.9737779320934462, 1.8204930669143398, -0.17997660188272743, 1.313904319436769, -0.48039991105997254, 1.4591836201587236, -0.3646044945007691, -2.54730458507353, 0.5034575972987234, -0.43940367807704345, 0.21268562440517289, -1.3296483365012357, -0.31877779222053276, 1.1951688280637907, 1.5350471427808494, -0.07323618940973585, -1.1269942514030862, -0.4247276176477819, -0.9398456127581629, 1.5369043842816101, -1.1870014693064666, 1.4656538962054477, -0.565741535969565, -0.830059860318411, -0.289447855374188, -2.862452201994092, 0.8855172927520567, 0.7333716746271585, 0.6787725431545305, 0.3976557546382951, 0.9596678020387314, 0.7017388368109589, -0.7112984882624002, 0.137061290177784, 1.108603717615353], \"yaxis\": \"y15\"}, {\"histfunc\": \"count\", \"histnorm\": \"\", \"marker\": {\"color\": \"rgba(128, 0, 128, 1.0)\", \"line\": {\"color\": \"#4D5663\", \"width\": 1.3}}, \"name\": \"D\", \"nbinsx\": 10, \"opacity\": 0.8, \"orientation\": \"v\", \"type\": \"histogram\", \"x\": [-0.49276694005153754, -1.5986208578767598, 0.7491265136981557, 1.312156108991257, 0.08453779531317554, -0.2187343733372969, -0.8379765304819816, -0.0511028279959056, -0.017316963261710693, -1.0118519948123361, -0.16370932061274415, 0.6458615260403444, -0.2244178728724846, -1.520217744365132, 1.4283129738497007, 0.25468222071115176, -0.38140155346182825, 1.380638721998429, 1.4520895824746396, -1.5319514701306376, -1.8828405990802903, 0.9929435493683337, 0.0926308022668882, 0.8749211070050118, 0.6223522233213582, -2.4089503300794064, -0.19754282713332516, -1.6476161906707616, 1.6401794144989228, -0.6369476207431659, 0.6974161394541564, -0.40020788591131307, 0.9950022712269592, -0.44466503658659795, 0.12599943253474874, -0.3707222092344457, 1.9828291878087414, -0.658017774044128, -2.4079520031370234, 0.038133392728422366, 0.8472151165833635, 0.5134263518989487, 1.3526642802214088, -1.5860897426341527, 1.6778139827116016, 0.7640590919587001, 0.7771332307041993, 1.3528508384931222, 0.9513228631476397, 2.0711099176175964, -2.5368404843510173, -1.3415192299160754, -2.2198664797204213, 0.26407355848848957, -0.9228894243282747, 0.3903893166092727, 0.690495614429746, 2.6294349664221834, -1.0018758618494499, -0.7746264225990829, 1.252967895470081, -0.5800015937270759, 1.774442695877346, 0.3006623955637737, -0.953781350527465, 0.9737779320934462, 1.8204930669143398, -0.17997660188272743, 1.313904319436769, -0.48039991105997254, 1.4591836201587236, -0.3646044945007691, -2.54730458507353, 0.5034575972987234, -0.43940367807704345, 0.21268562440517289, -1.3296483365012357, -0.31877779222053276, 1.1951688280637907, 1.5350471427808494, -0.07323618940973585, -1.1269942514030862, -0.4247276176477819, -0.9398456127581629, 1.5369043842816101, -1.1870014693064666, 1.4656538962054477, -0.565741535969565, -0.830059860318411, -0.289447855374188, -2.862452201994092, 0.8855172927520567, 0.7333716746271585, 0.6787725431545305, 0.3976557546382951, 0.9596678020387314, 0.7017388368109589, -0.7112984882624002, 0.137061290177784, 1.108603717615353], \"xaxis\": \"x16\", \"yaxis\": \"y16\"}],                        {\"bargap\": 0.02, \"legend\": {\"bgcolor\": \"#F5F6F9\", \"font\": {\"color\": \"#4D5663\"}}, \"paper_bgcolor\": \"#F5F6F9\", \"plot_bgcolor\": \"#F5F6F9\", \"showlegend\": false, \"template\": {\"data\": {\"bar\": [{\"error_x\": {\"color\": \"#2a3f5f\"}, \"error_y\": {\"color\": \"#2a3f5f\"}, \"marker\": {\"line\": {\"color\": \"#E5ECF6\", \"width\": 0.5}}, \"type\": \"bar\"}], \"barpolar\": [{\"marker\": {\"line\": {\"color\": \"#E5ECF6\", \"width\": 0.5}}, \"type\": \"barpolar\"}], \"carpet\": [{\"aaxis\": {\"endlinecolor\": \"#2a3f5f\", \"gridcolor\": \"white\", \"linecolor\": \"white\", \"minorgridcolor\": \"white\", \"startlinecolor\": \"#2a3f5f\"}, \"baxis\": {\"endlinecolor\": \"#2a3f5f\", \"gridcolor\": \"white\", \"linecolor\": \"white\", \"minorgridcolor\": \"white\", \"startlinecolor\": \"#2a3f5f\"}, \"type\": \"carpet\"}], \"choropleth\": [{\"colorbar\": {\"outlinewidth\": 0, \"ticks\": \"\"}, \"type\": \"choropleth\"}], \"contour\": [{\"colorbar\": {\"outlinewidth\": 0, \"ticks\": \"\"}, \"colorscale\": [[0.0, \"#0d0887\"], [0.1111111111111111, \"#46039f\"], [0.2222222222222222, \"#7201a8\"], [0.3333333333333333, \"#9c179e\"], [0.4444444444444444, \"#bd3786\"], [0.5555555555555556, \"#d8576b\"], [0.6666666666666666, \"#ed7953\"], [0.7777777777777778, \"#fb9f3a\"], [0.8888888888888888, \"#fdca26\"], [1.0, \"#f0f921\"]], \"type\": \"contour\"}], \"contourcarpet\": [{\"colorbar\": {\"outlinewidth\": 0, \"ticks\": \"\"}, \"type\": \"contourcarpet\"}], \"heatmap\": [{\"colorbar\": {\"outlinewidth\": 0, \"ticks\": \"\"}, \"colorscale\": [[0.0, \"#0d0887\"], [0.1111111111111111, \"#46039f\"], [0.2222222222222222, \"#7201a8\"], [0.3333333333333333, \"#9c179e\"], [0.4444444444444444, \"#bd3786\"], [0.5555555555555556, \"#d8576b\"], [0.6666666666666666, \"#ed7953\"], [0.7777777777777778, \"#fb9f3a\"], [0.8888888888888888, \"#fdca26\"], [1.0, \"#f0f921\"]], \"type\": \"heatmap\"}], \"heatmapgl\": [{\"colorbar\": {\"outlinewidth\": 0, \"ticks\": \"\"}, \"colorscale\": [[0.0, \"#0d0887\"], [0.1111111111111111, \"#46039f\"], [0.2222222222222222, \"#7201a8\"], [0.3333333333333333, \"#9c179e\"], [0.4444444444444444, \"#bd3786\"], [0.5555555555555556, \"#d8576b\"], [0.6666666666666666, \"#ed7953\"], [0.7777777777777778, \"#fb9f3a\"], [0.8888888888888888, \"#fdca26\"], [1.0, \"#f0f921\"]], \"type\": \"heatmapgl\"}], \"histogram\": [{\"marker\": {\"colorbar\": {\"outlinewidth\": 0, \"ticks\": \"\"}}, \"type\": \"histogram\"}], \"histogram2d\": [{\"colorbar\": {\"outlinewidth\": 0, \"ticks\": \"\"}, \"colorscale\": [[0.0, \"#0d0887\"], [0.1111111111111111, \"#46039f\"], [0.2222222222222222, \"#7201a8\"], [0.3333333333333333, \"#9c179e\"], [0.4444444444444444, \"#bd3786\"], [0.5555555555555556, \"#d8576b\"], [0.6666666666666666, \"#ed7953\"], [0.7777777777777778, \"#fb9f3a\"], [0.8888888888888888, \"#fdca26\"], [1.0, \"#f0f921\"]], \"type\": \"histogram2d\"}], \"histogram2dcontour\": [{\"colorbar\": {\"outlinewidth\": 0, \"ticks\": \"\"}, \"colorscale\": [[0.0, \"#0d0887\"], [0.1111111111111111, \"#46039f\"], [0.2222222222222222, \"#7201a8\"], [0.3333333333333333, \"#9c179e\"], [0.4444444444444444, \"#bd3786\"], [0.5555555555555556, \"#d8576b\"], [0.6666666666666666, \"#ed7953\"], [0.7777777777777778, \"#fb9f3a\"], [0.8888888888888888, \"#fdca26\"], [1.0, \"#f0f921\"]], \"type\": \"histogram2dcontour\"}], \"mesh3d\": [{\"colorbar\": {\"outlinewidth\": 0, \"ticks\": \"\"}, \"type\": \"mesh3d\"}], \"parcoords\": [{\"line\": {\"colorbar\": {\"outlinewidth\": 0, \"ticks\": \"\"}}, \"type\": \"parcoords\"}], \"pie\": [{\"automargin\": true, \"type\": \"pie\"}], \"scatter\": [{\"marker\": {\"colorbar\": {\"outlinewidth\": 0, \"ticks\": \"\"}}, \"type\": \"scatter\"}], \"scatter3d\": [{\"line\": {\"colorbar\": {\"outlinewidth\": 0, \"ticks\": \"\"}}, \"marker\": {\"colorbar\": {\"outlinewidth\": 0, \"ticks\": \"\"}}, \"type\": \"scatter3d\"}], \"scattercarpet\": [{\"marker\": {\"colorbar\": {\"outlinewidth\": 0, \"ticks\": \"\"}}, \"type\": \"scattercarpet\"}], \"scattergeo\": [{\"marker\": {\"colorbar\": {\"outlinewidth\": 0, \"ticks\": \"\"}}, \"type\": \"scattergeo\"}], \"scattergl\": [{\"marker\": {\"colorbar\": {\"outlinewidth\": 0, \"ticks\": \"\"}}, \"type\": \"scattergl\"}], \"scattermapbox\": [{\"marker\": {\"colorbar\": {\"outlinewidth\": 0, \"ticks\": \"\"}}, \"type\": \"scattermapbox\"}], \"scatterpolar\": [{\"marker\": {\"colorbar\": {\"outlinewidth\": 0, \"ticks\": \"\"}}, \"type\": \"scatterpolar\"}], \"scatterpolargl\": [{\"marker\": {\"colorbar\": {\"outlinewidth\": 0, \"ticks\": \"\"}}, \"type\": \"scatterpolargl\"}], \"scatterternary\": [{\"marker\": {\"colorbar\": {\"outlinewidth\": 0, \"ticks\": \"\"}}, \"type\": \"scatterternary\"}], \"surface\": [{\"colorbar\": {\"outlinewidth\": 0, \"ticks\": \"\"}, \"colorscale\": [[0.0, \"#0d0887\"], [0.1111111111111111, \"#46039f\"], [0.2222222222222222, \"#7201a8\"], [0.3333333333333333, \"#9c179e\"], [0.4444444444444444, \"#bd3786\"], [0.5555555555555556, \"#d8576b\"], [0.6666666666666666, \"#ed7953\"], [0.7777777777777778, \"#fb9f3a\"], [0.8888888888888888, \"#fdca26\"], [1.0, \"#f0f921\"]], \"type\": \"surface\"}], \"table\": [{\"cells\": {\"fill\": {\"color\": \"#EBF0F8\"}, \"line\": {\"color\": \"white\"}}, \"header\": {\"fill\": {\"color\": \"#C8D4E3\"}, \"line\": {\"color\": \"white\"}}, \"type\": \"table\"}]}, \"layout\": {\"annotationdefaults\": {\"arrowcolor\": \"#2a3f5f\", \"arrowhead\": 0, \"arrowwidth\": 1}, \"autotypenumbers\": \"strict\", \"coloraxis\": {\"colorbar\": {\"outlinewidth\": 0, \"ticks\": \"\"}}, \"colorscale\": {\"diverging\": [[0, \"#8e0152\"], [0.1, \"#c51b7d\"], [0.2, \"#de77ae\"], [0.3, \"#f1b6da\"], [0.4, \"#fde0ef\"], [0.5, \"#f7f7f7\"], [0.6, \"#e6f5d0\"], [0.7, \"#b8e186\"], [0.8, \"#7fbc41\"], [0.9, \"#4d9221\"], [1, \"#276419\"]], \"sequential\": [[0.0, \"#0d0887\"], [0.1111111111111111, \"#46039f\"], [0.2222222222222222, \"#7201a8\"], [0.3333333333333333, \"#9c179e\"], [0.4444444444444444, \"#bd3786\"], [0.5555555555555556, \"#d8576b\"], [0.6666666666666666, \"#ed7953\"], [0.7777777777777778, \"#fb9f3a\"], [0.8888888888888888, \"#fdca26\"], [1.0, \"#f0f921\"]], \"sequentialminus\": [[0.0, \"#0d0887\"], [0.1111111111111111, \"#46039f\"], [0.2222222222222222, \"#7201a8\"], [0.3333333333333333, \"#9c179e\"], [0.4444444444444444, \"#bd3786\"], [0.5555555555555556, \"#d8576b\"], [0.6666666666666666, \"#ed7953\"], [0.7777777777777778, \"#fb9f3a\"], [0.8888888888888888, \"#fdca26\"], [1.0, \"#f0f921\"]]}, \"colorway\": [\"#636efa\", \"#EF553B\", \"#00cc96\", \"#ab63fa\", \"#FFA15A\", \"#19d3f3\", \"#FF6692\", \"#B6E880\", \"#FF97FF\", \"#FECB52\"], \"font\": {\"color\": \"#2a3f5f\"}, \"geo\": {\"bgcolor\": \"white\", \"lakecolor\": \"white\", \"landcolor\": \"#E5ECF6\", \"showlakes\": true, \"showland\": true, \"subunitcolor\": \"white\"}, \"hoverlabel\": {\"align\": \"left\"}, \"hovermode\": \"closest\", \"mapbox\": {\"style\": \"light\"}, \"paper_bgcolor\": \"white\", \"plot_bgcolor\": \"#E5ECF6\", \"polar\": {\"angularaxis\": {\"gridcolor\": \"white\", \"linecolor\": \"white\", \"ticks\": \"\"}, \"bgcolor\": \"#E5ECF6\", \"radialaxis\": {\"gridcolor\": \"white\", \"linecolor\": \"white\", \"ticks\": \"\"}}, \"scene\": {\"xaxis\": {\"backgroundcolor\": \"#E5ECF6\", \"gridcolor\": \"white\", \"gridwidth\": 2, \"linecolor\": \"white\", \"showbackground\": true, \"ticks\": \"\", \"zerolinecolor\": \"white\"}, \"yaxis\": {\"backgroundcolor\": \"#E5ECF6\", \"gridcolor\": \"white\", \"gridwidth\": 2, \"linecolor\": \"white\", \"showbackground\": true, \"ticks\": \"\", \"zerolinecolor\": \"white\"}, \"zaxis\": {\"backgroundcolor\": \"#E5ECF6\", \"gridcolor\": \"white\", \"gridwidth\": 2, \"linecolor\": \"white\", \"showbackground\": true, \"ticks\": \"\", \"zerolinecolor\": \"white\"}}, \"shapedefaults\": {\"line\": {\"color\": \"#2a3f5f\"}}, \"ternary\": {\"aaxis\": {\"gridcolor\": \"white\", \"linecolor\": \"white\", \"ticks\": \"\"}, \"baxis\": {\"gridcolor\": \"white\", \"linecolor\": \"white\", \"ticks\": \"\"}, \"bgcolor\": \"#E5ECF6\", \"caxis\": {\"gridcolor\": \"white\", \"linecolor\": \"white\", \"ticks\": \"\"}}, \"title\": {\"x\": 0.05}, \"xaxis\": {\"automargin\": true, \"gridcolor\": \"white\", \"linecolor\": \"white\", \"ticks\": \"\", \"title\": {\"standoff\": 15}, \"zerolinecolor\": \"white\", \"zerolinewidth\": 2}, \"yaxis\": {\"automargin\": true, \"gridcolor\": \"white\", \"linecolor\": \"white\", \"ticks\": \"\", \"title\": {\"standoff\": 15}, \"zerolinecolor\": \"white\", \"zerolinewidth\": 2}}}, \"title\": {\"font\": {\"color\": \"#4D5663\"}}, \"xaxis\": {\"anchor\": \"y\", \"domain\": [0.0, 0.2125], \"gridcolor\": \"#E1E5ED\", \"showgrid\": false, \"tickfont\": {\"color\": \"#4D5663\"}, \"title\": {\"font\": {\"color\": \"#4D5663\"}, \"text\": \"\"}, \"zerolinecolor\": \"#E1E5ED\"}, \"xaxis10\": {\"anchor\": \"y10\", \"domain\": [0.2625, 0.475], \"gridcolor\": \"#E1E5ED\", \"showgrid\": false, \"tickfont\": {\"color\": \"#4D5663\"}, \"title\": {\"font\": {\"color\": \"#4D5663\"}, \"text\": \"\"}, \"zerolinecolor\": \"#E1E5ED\"}, \"xaxis11\": {\"anchor\": \"y11\", \"domain\": [0.525, 0.7375], \"gridcolor\": \"#E1E5ED\", \"showgrid\": false, \"tickfont\": {\"color\": \"#4D5663\"}, \"title\": {\"font\": {\"color\": \"#4D5663\"}, \"text\": \"\"}, \"zerolinecolor\": \"#E1E5ED\"}, \"xaxis12\": {\"anchor\": \"y12\", \"domain\": [0.7875, 1.0], \"gridcolor\": \"#E1E5ED\", \"showgrid\": false, \"tickfont\": {\"color\": \"#4D5663\"}, \"title\": {\"font\": {\"color\": \"#4D5663\"}, \"text\": \"\"}, \"zerolinecolor\": \"#E1E5ED\"}, \"xaxis13\": {\"anchor\": \"y13\", \"domain\": [0.0, 0.2125], \"gridcolor\": \"#E1E5ED\", \"showgrid\": false, \"tickfont\": {\"color\": \"#4D5663\"}, \"title\": {\"font\": {\"color\": \"#4D5663\"}, \"text\": \"\"}, \"zerolinecolor\": \"#E1E5ED\"}, \"xaxis14\": {\"anchor\": \"y14\", \"domain\": [0.2625, 0.475], \"gridcolor\": \"#E1E5ED\", \"showgrid\": false, \"tickfont\": {\"color\": \"#4D5663\"}, \"title\": {\"font\": {\"color\": \"#4D5663\"}, \"text\": \"\"}, \"zerolinecolor\": \"#E1E5ED\"}, \"xaxis15\": {\"anchor\": \"y15\", \"domain\": [0.525, 0.7375], \"gridcolor\": \"#E1E5ED\", \"showgrid\": false, \"tickfont\": {\"color\": \"#4D5663\"}, \"title\": {\"font\": {\"color\": \"#4D5663\"}, \"text\": \"\"}, \"zerolinecolor\": \"#E1E5ED\"}, \"xaxis16\": {\"anchor\": \"y16\", \"domain\": [0.7875, 1.0], \"gridcolor\": \"#E1E5ED\", \"showgrid\": false, \"tickfont\": {\"color\": \"#4D5663\"}, \"title\": {\"font\": {\"color\": \"#4D5663\"}, \"text\": \"\"}, \"zerolinecolor\": \"#E1E5ED\"}, \"xaxis2\": {\"anchor\": \"y2\", \"domain\": [0.2625, 0.475], \"gridcolor\": \"#E1E5ED\", \"showgrid\": false, \"tickfont\": {\"color\": \"#4D5663\"}, \"title\": {\"font\": {\"color\": \"#4D5663\"}, \"text\": \"\"}, \"zerolinecolor\": \"#E1E5ED\"}, \"xaxis3\": {\"anchor\": \"y3\", \"domain\": [0.525, 0.7375], \"gridcolor\": \"#E1E5ED\", \"showgrid\": false, \"tickfont\": {\"color\": \"#4D5663\"}, \"title\": {\"font\": {\"color\": \"#4D5663\"}, \"text\": \"\"}, \"zerolinecolor\": \"#E1E5ED\"}, \"xaxis4\": {\"anchor\": \"y4\", \"domain\": [0.7875, 1.0], \"gridcolor\": \"#E1E5ED\", \"showgrid\": false, \"tickfont\": {\"color\": \"#4D5663\"}, \"title\": {\"font\": {\"color\": \"#4D5663\"}, \"text\": \"\"}, \"zerolinecolor\": \"#E1E5ED\"}, \"xaxis5\": {\"anchor\": \"y5\", \"domain\": [0.0, 0.2125], \"gridcolor\": \"#E1E5ED\", \"showgrid\": false, \"tickfont\": {\"color\": \"#4D5663\"}, \"title\": {\"font\": {\"color\": \"#4D5663\"}, \"text\": \"\"}, \"zerolinecolor\": \"#E1E5ED\"}, \"xaxis6\": {\"anchor\": \"y6\", \"domain\": [0.2625, 0.475], \"gridcolor\": \"#E1E5ED\", \"showgrid\": false, \"tickfont\": {\"color\": \"#4D5663\"}, \"title\": {\"font\": {\"color\": \"#4D5663\"}, \"text\": \"\"}, \"zerolinecolor\": \"#E1E5ED\"}, \"xaxis7\": {\"anchor\": \"y7\", \"domain\": [0.525, 0.7375], \"gridcolor\": \"#E1E5ED\", \"showgrid\": false, \"tickfont\": {\"color\": \"#4D5663\"}, \"title\": {\"font\": {\"color\": \"#4D5663\"}, \"text\": \"\"}, \"zerolinecolor\": \"#E1E5ED\"}, \"xaxis8\": {\"anchor\": \"y8\", \"domain\": [0.7875, 1.0], \"gridcolor\": \"#E1E5ED\", \"showgrid\": false, \"tickfont\": {\"color\": \"#4D5663\"}, \"title\": {\"font\": {\"color\": \"#4D5663\"}, \"text\": \"\"}, \"zerolinecolor\": \"#E1E5ED\"}, \"xaxis9\": {\"anchor\": \"y9\", \"domain\": [0.0, 0.2125], \"gridcolor\": \"#E1E5ED\", \"showgrid\": false, \"tickfont\": {\"color\": \"#4D5663\"}, \"title\": {\"font\": {\"color\": \"#4D5663\"}, \"text\": \"\"}, \"zerolinecolor\": \"#E1E5ED\"}, \"yaxis\": {\"anchor\": \"x\", \"domain\": [0.8025, 1.0], \"gridcolor\": \"#E1E5ED\", \"showgrid\": false, \"tickfont\": {\"color\": \"#4D5663\"}, \"title\": {\"font\": {\"color\": \"#4D5663\"}, \"text\": \"\"}, \"zerolinecolor\": \"#E1E5ED\"}, \"yaxis10\": {\"anchor\": \"x10\", \"domain\": [0.2675, 0.465], \"gridcolor\": \"#E1E5ED\", \"showgrid\": false, \"tickfont\": {\"color\": \"#4D5663\"}, \"title\": {\"font\": {\"color\": \"#4D5663\"}, \"text\": \"\"}, \"zerolinecolor\": \"#E1E5ED\"}, \"yaxis11\": {\"anchor\": \"x11\", \"domain\": [0.2675, 0.465], \"gridcolor\": \"#E1E5ED\", \"showgrid\": false, \"tickfont\": {\"color\": \"#4D5663\"}, \"title\": {\"font\": {\"color\": \"#4D5663\"}, \"text\": \"\"}, \"zerolinecolor\": \"#E1E5ED\"}, \"yaxis12\": {\"anchor\": \"x12\", \"domain\": [0.2675, 0.465], \"gridcolor\": \"#E1E5ED\", \"showgrid\": false, \"tickfont\": {\"color\": \"#4D5663\"}, \"title\": {\"font\": {\"color\": \"#4D5663\"}, \"text\": \"\"}, \"zerolinecolor\": \"#E1E5ED\"}, \"yaxis13\": {\"anchor\": \"x13\", \"domain\": [0.0, 0.1975], \"gridcolor\": \"#E1E5ED\", \"showgrid\": false, \"tickfont\": {\"color\": \"#4D5663\"}, \"title\": {\"font\": {\"color\": \"#4D5663\"}, \"text\": \"\"}, \"zerolinecolor\": \"#E1E5ED\"}, \"yaxis14\": {\"anchor\": \"x14\", \"domain\": [0.0, 0.1975], \"gridcolor\": \"#E1E5ED\", \"showgrid\": false, \"tickfont\": {\"color\": \"#4D5663\"}, \"title\": {\"font\": {\"color\": \"#4D5663\"}, \"text\": \"\"}, \"zerolinecolor\": \"#E1E5ED\"}, \"yaxis15\": {\"anchor\": \"x15\", \"domain\": [0.0, 0.1975], \"gridcolor\": \"#E1E5ED\", \"showgrid\": false, \"tickfont\": {\"color\": \"#4D5663\"}, \"title\": {\"font\": {\"color\": \"#4D5663\"}, \"text\": \"\"}, \"zerolinecolor\": \"#E1E5ED\"}, \"yaxis16\": {\"anchor\": \"x16\", \"domain\": [0.0, 0.1975], \"gridcolor\": \"#E1E5ED\", \"showgrid\": false, \"tickfont\": {\"color\": \"#4D5663\"}, \"title\": {\"font\": {\"color\": \"#4D5663\"}, \"text\": \"\"}, \"zerolinecolor\": \"#E1E5ED\"}, \"yaxis2\": {\"anchor\": \"x2\", \"domain\": [0.8025, 1.0], \"gridcolor\": \"#E1E5ED\", \"showgrid\": false, \"tickfont\": {\"color\": \"#4D5663\"}, \"title\": {\"font\": {\"color\": \"#4D5663\"}, \"text\": \"\"}, \"zerolinecolor\": \"#E1E5ED\"}, \"yaxis3\": {\"anchor\": \"x3\", \"domain\": [0.8025, 1.0], \"gridcolor\": \"#E1E5ED\", \"showgrid\": false, \"tickfont\": {\"color\": \"#4D5663\"}, \"title\": {\"font\": {\"color\": \"#4D5663\"}, \"text\": \"\"}, \"zerolinecolor\": \"#E1E5ED\"}, \"yaxis4\": {\"anchor\": \"x4\", \"domain\": [0.8025, 1.0], \"gridcolor\": \"#E1E5ED\", \"showgrid\": false, \"tickfont\": {\"color\": \"#4D5663\"}, \"title\": {\"font\": {\"color\": \"#4D5663\"}, \"text\": \"\"}, \"zerolinecolor\": \"#E1E5ED\"}, \"yaxis5\": {\"anchor\": \"x5\", \"domain\": [0.535, 0.7325], \"gridcolor\": \"#E1E5ED\", \"showgrid\": false, \"tickfont\": {\"color\": \"#4D5663\"}, \"title\": {\"font\": {\"color\": \"#4D5663\"}, \"text\": \"\"}, \"zerolinecolor\": \"#E1E5ED\"}, \"yaxis6\": {\"anchor\": \"x6\", \"domain\": [0.535, 0.7325], \"gridcolor\": \"#E1E5ED\", \"showgrid\": false, \"tickfont\": {\"color\": \"#4D5663\"}, \"title\": {\"font\": {\"color\": \"#4D5663\"}, \"text\": \"\"}, \"zerolinecolor\": \"#E1E5ED\"}, \"yaxis7\": {\"anchor\": \"x7\", \"domain\": [0.535, 0.7325], \"gridcolor\": \"#E1E5ED\", \"showgrid\": false, \"tickfont\": {\"color\": \"#4D5663\"}, \"title\": {\"font\": {\"color\": \"#4D5663\"}, \"text\": \"\"}, \"zerolinecolor\": \"#E1E5ED\"}, \"yaxis8\": {\"anchor\": \"x8\", \"domain\": [0.535, 0.7325], \"gridcolor\": \"#E1E5ED\", \"showgrid\": false, \"tickfont\": {\"color\": \"#4D5663\"}, \"title\": {\"font\": {\"color\": \"#4D5663\"}, \"text\": \"\"}, \"zerolinecolor\": \"#E1E5ED\"}, \"yaxis9\": {\"anchor\": \"x9\", \"domain\": [0.2675, 0.465], \"gridcolor\": \"#E1E5ED\", \"showgrid\": false, \"tickfont\": {\"color\": \"#4D5663\"}, \"title\": {\"font\": {\"color\": \"#4D5663\"}, \"text\": \"\"}, \"zerolinecolor\": \"#E1E5ED\"}},                        {\"showLink\": true, \"linkText\": \"Export to plot.ly\", \"plotlyServerURL\": \"https://plot.ly\", \"responsive\": true}                    ).then(function(){\n",
       "                            \n",
       "var gd = document.getElementById('fc28ec93-072e-42b1-885d-9e05d0c3157d');\n",
       "var x = new MutationObserver(function (mutations, observer) {{\n",
       "        var display = window.getComputedStyle(gd).display;\n",
       "        if (!display || display === 'none') {{\n",
       "            console.log([gd, 'removed!']);\n",
       "            Plotly.purge(gd);\n",
       "            observer.disconnect();\n",
       "        }}\n",
       "}});\n",
       "\n",
       "// Listen for the removal of the full notebook cells\n",
       "var notebookContainer = gd.closest('#notebook-container');\n",
       "if (notebookContainer) {{\n",
       "    x.observe(notebookContainer, {childList: true});\n",
       "}}\n",
       "\n",
       "// Listen for the clearing of the current output cell\n",
       "var outputEl = gd.closest('.output');\n",
       "if (outputEl) {{\n",
       "    x.observe(outputEl, {childList: true});\n",
       "}}\n",
       "\n",
       "                        })                };                });            </script>        </div>"
      ]
     },
     "metadata": {},
     "output_type": "display_data"
    }
   ],
   "source": [
    "df.scatter_matrix()"
   ]
  },
  {
   "cell_type": "markdown",
   "id": "e242cde4",
   "metadata": {},
   "source": [
    "# Choropleth Maps"
   ]
  },
  {
   "cell_type": "code",
   "execution_count": 18,
   "id": "d33bc0e7",
   "metadata": {},
   "outputs": [],
   "source": [
    "import chart_studio.plotly as py\n",
    "import plotly.graph_objs as go"
   ]
  },
  {
   "cell_type": "markdown",
   "id": "217f7a54",
   "metadata": {},
   "source": [
    "## Choropleth US Maps\n",
    "### Typical example"
   ]
  },
  {
   "cell_type": "markdown",
   "id": "adcf30d1",
   "metadata": {},
   "source": [
    "Build our data dictionary. Easiest way to do this is to use the **dict()** function of the general form:\n",
    "\n",
    "* type = 'choropleth',\n",
    "* locations = list of states\n",
    "* locationmode = 'USA-states'\n",
    "* colorscale= :\n",
    "\n",
    "Either a predefined string:\n",
    "\n",
    "    'pairs' | 'Greys' | 'Greens' | 'Bluered' | 'Hot' | 'Picnic' | 'Portland' | 'Jet' | 'RdBu' | 'Blackbody' | 'Earth' | 'Electric' \n",
    "\n",
    "or create a [custom colorscale](https://plot.ly/python/heatmap-and-contour-colorscales/)\n",
    "\n",
    "* text= list or array of text to display per point\n",
    "* z= array of values on z axis (color of state)\n",
    "* colorbar = {'title':'Colorbar Title'})\n"
   ]
  },
  {
   "cell_type": "code",
   "execution_count": 19,
   "id": "89fad6c3",
   "metadata": {},
   "outputs": [],
   "source": [
    "data = dict(type = \"choropleth\",\n",
    "           locations = [\"AZ\", \"CA\", \"NY\"],\n",
    "           locationmode = \"USA-states\",\n",
    "           colorscale = \"Portland\",\n",
    "           text = [\"text1\", \"text2\", \"text3\"],\n",
    "           z = [1, 2, 3],\n",
    "           colorbar = {\"title\":\"Colorbar Title\"})"
   ]
  },
  {
   "cell_type": "markdown",
   "id": "3ebdee73",
   "metadata": {},
   "source": [
    "Then create the layout nested dictionary:"
   ]
  },
  {
   "cell_type": "code",
   "execution_count": 20,
   "id": "531890d7",
   "metadata": {},
   "outputs": [],
   "source": [
    "layout = dict(geo = {'scope':'usa'})"
   ]
  },
  {
   "cell_type": "markdown",
   "id": "b0ac63f9",
   "metadata": {},
   "source": [
    "Then we use: \n",
    "\n",
    "    go.Figure(data = [data],layout = layout)\n",
    "    \n",
    "to set up the object that finally gets passed into iplot()"
   ]
  },
  {
   "cell_type": "code",
   "execution_count": 21,
   "id": "52609e12",
   "metadata": {},
   "outputs": [],
   "source": [
    "choromap = go.Figure(data = [data], layout=layout)"
   ]
  },
  {
   "cell_type": "code",
   "execution_count": 22,
   "id": "ca8213f3",
   "metadata": {},
   "outputs": [
    {
     "data": {
      "application/vnd.plotly.v1+json": {
       "config": {
        "linkText": "Export to plot.ly",
        "plotlyServerURL": "https://plot.ly",
        "showLink": false
       },
       "data": [
        {
         "colorbar": {
          "title": {
           "text": "Colorbar Title"
          }
         },
         "colorscale": [
          [
           0,
           "rgb(12,51,131)"
          ],
          [
           0.25,
           "rgb(10,136,186)"
          ],
          [
           0.5,
           "rgb(242,211,56)"
          ],
          [
           0.75,
           "rgb(242,143,56)"
          ],
          [
           1,
           "rgb(217,30,30)"
          ]
         ],
         "locationmode": "USA-states",
         "locations": [
          "AZ",
          "CA",
          "NY"
         ],
         "text": [
          "text1",
          "text2",
          "text3"
         ],
         "type": "choropleth",
         "z": [
          1,
          2,
          3
         ]
        }
       ],
       "layout": {
        "geo": {
         "scope": "usa"
        },
        "template": {
         "data": {
          "bar": [
           {
            "error_x": {
             "color": "#2a3f5f"
            },
            "error_y": {
             "color": "#2a3f5f"
            },
            "marker": {
             "line": {
              "color": "#E5ECF6",
              "width": 0.5
             }
            },
            "type": "bar"
           }
          ],
          "barpolar": [
           {
            "marker": {
             "line": {
              "color": "#E5ECF6",
              "width": 0.5
             }
            },
            "type": "barpolar"
           }
          ],
          "carpet": [
           {
            "aaxis": {
             "endlinecolor": "#2a3f5f",
             "gridcolor": "white",
             "linecolor": "white",
             "minorgridcolor": "white",
             "startlinecolor": "#2a3f5f"
            },
            "baxis": {
             "endlinecolor": "#2a3f5f",
             "gridcolor": "white",
             "linecolor": "white",
             "minorgridcolor": "white",
             "startlinecolor": "#2a3f5f"
            },
            "type": "carpet"
           }
          ],
          "choropleth": [
           {
            "colorbar": {
             "outlinewidth": 0,
             "ticks": ""
            },
            "type": "choropleth"
           }
          ],
          "contour": [
           {
            "colorbar": {
             "outlinewidth": 0,
             "ticks": ""
            },
            "colorscale": [
             [
              0,
              "#0d0887"
             ],
             [
              0.1111111111111111,
              "#46039f"
             ],
             [
              0.2222222222222222,
              "#7201a8"
             ],
             [
              0.3333333333333333,
              "#9c179e"
             ],
             [
              0.4444444444444444,
              "#bd3786"
             ],
             [
              0.5555555555555556,
              "#d8576b"
             ],
             [
              0.6666666666666666,
              "#ed7953"
             ],
             [
              0.7777777777777778,
              "#fb9f3a"
             ],
             [
              0.8888888888888888,
              "#fdca26"
             ],
             [
              1,
              "#f0f921"
             ]
            ],
            "type": "contour"
           }
          ],
          "contourcarpet": [
           {
            "colorbar": {
             "outlinewidth": 0,
             "ticks": ""
            },
            "type": "contourcarpet"
           }
          ],
          "heatmap": [
           {
            "colorbar": {
             "outlinewidth": 0,
             "ticks": ""
            },
            "colorscale": [
             [
              0,
              "#0d0887"
             ],
             [
              0.1111111111111111,
              "#46039f"
             ],
             [
              0.2222222222222222,
              "#7201a8"
             ],
             [
              0.3333333333333333,
              "#9c179e"
             ],
             [
              0.4444444444444444,
              "#bd3786"
             ],
             [
              0.5555555555555556,
              "#d8576b"
             ],
             [
              0.6666666666666666,
              "#ed7953"
             ],
             [
              0.7777777777777778,
              "#fb9f3a"
             ],
             [
              0.8888888888888888,
              "#fdca26"
             ],
             [
              1,
              "#f0f921"
             ]
            ],
            "type": "heatmap"
           }
          ],
          "heatmapgl": [
           {
            "colorbar": {
             "outlinewidth": 0,
             "ticks": ""
            },
            "colorscale": [
             [
              0,
              "#0d0887"
             ],
             [
              0.1111111111111111,
              "#46039f"
             ],
             [
              0.2222222222222222,
              "#7201a8"
             ],
             [
              0.3333333333333333,
              "#9c179e"
             ],
             [
              0.4444444444444444,
              "#bd3786"
             ],
             [
              0.5555555555555556,
              "#d8576b"
             ],
             [
              0.6666666666666666,
              "#ed7953"
             ],
             [
              0.7777777777777778,
              "#fb9f3a"
             ],
             [
              0.8888888888888888,
              "#fdca26"
             ],
             [
              1,
              "#f0f921"
             ]
            ],
            "type": "heatmapgl"
           }
          ],
          "histogram": [
           {
            "marker": {
             "colorbar": {
              "outlinewidth": 0,
              "ticks": ""
             }
            },
            "type": "histogram"
           }
          ],
          "histogram2d": [
           {
            "colorbar": {
             "outlinewidth": 0,
             "ticks": ""
            },
            "colorscale": [
             [
              0,
              "#0d0887"
             ],
             [
              0.1111111111111111,
              "#46039f"
             ],
             [
              0.2222222222222222,
              "#7201a8"
             ],
             [
              0.3333333333333333,
              "#9c179e"
             ],
             [
              0.4444444444444444,
              "#bd3786"
             ],
             [
              0.5555555555555556,
              "#d8576b"
             ],
             [
              0.6666666666666666,
              "#ed7953"
             ],
             [
              0.7777777777777778,
              "#fb9f3a"
             ],
             [
              0.8888888888888888,
              "#fdca26"
             ],
             [
              1,
              "#f0f921"
             ]
            ],
            "type": "histogram2d"
           }
          ],
          "histogram2dcontour": [
           {
            "colorbar": {
             "outlinewidth": 0,
             "ticks": ""
            },
            "colorscale": [
             [
              0,
              "#0d0887"
             ],
             [
              0.1111111111111111,
              "#46039f"
             ],
             [
              0.2222222222222222,
              "#7201a8"
             ],
             [
              0.3333333333333333,
              "#9c179e"
             ],
             [
              0.4444444444444444,
              "#bd3786"
             ],
             [
              0.5555555555555556,
              "#d8576b"
             ],
             [
              0.6666666666666666,
              "#ed7953"
             ],
             [
              0.7777777777777778,
              "#fb9f3a"
             ],
             [
              0.8888888888888888,
              "#fdca26"
             ],
             [
              1,
              "#f0f921"
             ]
            ],
            "type": "histogram2dcontour"
           }
          ],
          "mesh3d": [
           {
            "colorbar": {
             "outlinewidth": 0,
             "ticks": ""
            },
            "type": "mesh3d"
           }
          ],
          "parcoords": [
           {
            "line": {
             "colorbar": {
              "outlinewidth": 0,
              "ticks": ""
             }
            },
            "type": "parcoords"
           }
          ],
          "pie": [
           {
            "automargin": true,
            "type": "pie"
           }
          ],
          "scatter": [
           {
            "marker": {
             "colorbar": {
              "outlinewidth": 0,
              "ticks": ""
             }
            },
            "type": "scatter"
           }
          ],
          "scatter3d": [
           {
            "line": {
             "colorbar": {
              "outlinewidth": 0,
              "ticks": ""
             }
            },
            "marker": {
             "colorbar": {
              "outlinewidth": 0,
              "ticks": ""
             }
            },
            "type": "scatter3d"
           }
          ],
          "scattercarpet": [
           {
            "marker": {
             "colorbar": {
              "outlinewidth": 0,
              "ticks": ""
             }
            },
            "type": "scattercarpet"
           }
          ],
          "scattergeo": [
           {
            "marker": {
             "colorbar": {
              "outlinewidth": 0,
              "ticks": ""
             }
            },
            "type": "scattergeo"
           }
          ],
          "scattergl": [
           {
            "marker": {
             "colorbar": {
              "outlinewidth": 0,
              "ticks": ""
             }
            },
            "type": "scattergl"
           }
          ],
          "scattermapbox": [
           {
            "marker": {
             "colorbar": {
              "outlinewidth": 0,
              "ticks": ""
             }
            },
            "type": "scattermapbox"
           }
          ],
          "scatterpolar": [
           {
            "marker": {
             "colorbar": {
              "outlinewidth": 0,
              "ticks": ""
             }
            },
            "type": "scatterpolar"
           }
          ],
          "scatterpolargl": [
           {
            "marker": {
             "colorbar": {
              "outlinewidth": 0,
              "ticks": ""
             }
            },
            "type": "scatterpolargl"
           }
          ],
          "scatterternary": [
           {
            "marker": {
             "colorbar": {
              "outlinewidth": 0,
              "ticks": ""
             }
            },
            "type": "scatterternary"
           }
          ],
          "surface": [
           {
            "colorbar": {
             "outlinewidth": 0,
             "ticks": ""
            },
            "colorscale": [
             [
              0,
              "#0d0887"
             ],
             [
              0.1111111111111111,
              "#46039f"
             ],
             [
              0.2222222222222222,
              "#7201a8"
             ],
             [
              0.3333333333333333,
              "#9c179e"
             ],
             [
              0.4444444444444444,
              "#bd3786"
             ],
             [
              0.5555555555555556,
              "#d8576b"
             ],
             [
              0.6666666666666666,
              "#ed7953"
             ],
             [
              0.7777777777777778,
              "#fb9f3a"
             ],
             [
              0.8888888888888888,
              "#fdca26"
             ],
             [
              1,
              "#f0f921"
             ]
            ],
            "type": "surface"
           }
          ],
          "table": [
           {
            "cells": {
             "fill": {
              "color": "#EBF0F8"
             },
             "line": {
              "color": "white"
             }
            },
            "header": {
             "fill": {
              "color": "#C8D4E3"
             },
             "line": {
              "color": "white"
             }
            },
            "type": "table"
           }
          ]
         },
         "layout": {
          "annotationdefaults": {
           "arrowcolor": "#2a3f5f",
           "arrowhead": 0,
           "arrowwidth": 1
          },
          "autotypenumbers": "strict",
          "coloraxis": {
           "colorbar": {
            "outlinewidth": 0,
            "ticks": ""
           }
          },
          "colorscale": {
           "diverging": [
            [
             0,
             "#8e0152"
            ],
            [
             0.1,
             "#c51b7d"
            ],
            [
             0.2,
             "#de77ae"
            ],
            [
             0.3,
             "#f1b6da"
            ],
            [
             0.4,
             "#fde0ef"
            ],
            [
             0.5,
             "#f7f7f7"
            ],
            [
             0.6,
             "#e6f5d0"
            ],
            [
             0.7,
             "#b8e186"
            ],
            [
             0.8,
             "#7fbc41"
            ],
            [
             0.9,
             "#4d9221"
            ],
            [
             1,
             "#276419"
            ]
           ],
           "sequential": [
            [
             0,
             "#0d0887"
            ],
            [
             0.1111111111111111,
             "#46039f"
            ],
            [
             0.2222222222222222,
             "#7201a8"
            ],
            [
             0.3333333333333333,
             "#9c179e"
            ],
            [
             0.4444444444444444,
             "#bd3786"
            ],
            [
             0.5555555555555556,
             "#d8576b"
            ],
            [
             0.6666666666666666,
             "#ed7953"
            ],
            [
             0.7777777777777778,
             "#fb9f3a"
            ],
            [
             0.8888888888888888,
             "#fdca26"
            ],
            [
             1,
             "#f0f921"
            ]
           ],
           "sequentialminus": [
            [
             0,
             "#0d0887"
            ],
            [
             0.1111111111111111,
             "#46039f"
            ],
            [
             0.2222222222222222,
             "#7201a8"
            ],
            [
             0.3333333333333333,
             "#9c179e"
            ],
            [
             0.4444444444444444,
             "#bd3786"
            ],
            [
             0.5555555555555556,
             "#d8576b"
            ],
            [
             0.6666666666666666,
             "#ed7953"
            ],
            [
             0.7777777777777778,
             "#fb9f3a"
            ],
            [
             0.8888888888888888,
             "#fdca26"
            ],
            [
             1,
             "#f0f921"
            ]
           ]
          },
          "colorway": [
           "#636efa",
           "#EF553B",
           "#00cc96",
           "#ab63fa",
           "#FFA15A",
           "#19d3f3",
           "#FF6692",
           "#B6E880",
           "#FF97FF",
           "#FECB52"
          ],
          "font": {
           "color": "#2a3f5f"
          },
          "geo": {
           "bgcolor": "white",
           "lakecolor": "white",
           "landcolor": "#E5ECF6",
           "showlakes": true,
           "showland": true,
           "subunitcolor": "white"
          },
          "hoverlabel": {
           "align": "left"
          },
          "hovermode": "closest",
          "mapbox": {
           "style": "light"
          },
          "paper_bgcolor": "white",
          "plot_bgcolor": "#E5ECF6",
          "polar": {
           "angularaxis": {
            "gridcolor": "white",
            "linecolor": "white",
            "ticks": ""
           },
           "bgcolor": "#E5ECF6",
           "radialaxis": {
            "gridcolor": "white",
            "linecolor": "white",
            "ticks": ""
           }
          },
          "scene": {
           "xaxis": {
            "backgroundcolor": "#E5ECF6",
            "gridcolor": "white",
            "gridwidth": 2,
            "linecolor": "white",
            "showbackground": true,
            "ticks": "",
            "zerolinecolor": "white"
           },
           "yaxis": {
            "backgroundcolor": "#E5ECF6",
            "gridcolor": "white",
            "gridwidth": 2,
            "linecolor": "white",
            "showbackground": true,
            "ticks": "",
            "zerolinecolor": "white"
           },
           "zaxis": {
            "backgroundcolor": "#E5ECF6",
            "gridcolor": "white",
            "gridwidth": 2,
            "linecolor": "white",
            "showbackground": true,
            "ticks": "",
            "zerolinecolor": "white"
           }
          },
          "shapedefaults": {
           "line": {
            "color": "#2a3f5f"
           }
          },
          "ternary": {
           "aaxis": {
            "gridcolor": "white",
            "linecolor": "white",
            "ticks": ""
           },
           "baxis": {
            "gridcolor": "white",
            "linecolor": "white",
            "ticks": ""
           },
           "bgcolor": "#E5ECF6",
           "caxis": {
            "gridcolor": "white",
            "linecolor": "white",
            "ticks": ""
           }
          },
          "title": {
           "x": 0.05
          },
          "xaxis": {
           "automargin": true,
           "gridcolor": "white",
           "linecolor": "white",
           "ticks": "",
           "title": {
            "standoff": 15
           },
           "zerolinecolor": "white",
           "zerolinewidth": 2
          },
          "yaxis": {
           "automargin": true,
           "gridcolor": "white",
           "linecolor": "white",
           "ticks": "",
           "title": {
            "standoff": 15
           },
           "zerolinecolor": "white",
           "zerolinewidth": 2
          }
         }
        }
       }
      },
      "text/html": [
       "<div>                            <div id=\"eca022d3-79e3-4bae-9af6-62ef319df8da\" class=\"plotly-graph-div\" style=\"height:525px; width:100%;\"></div>            <script type=\"text/javascript\">                require([\"plotly\"], function(Plotly) {                    window.PLOTLYENV=window.PLOTLYENV || {};                                    if (document.getElementById(\"eca022d3-79e3-4bae-9af6-62ef319df8da\")) {                    Plotly.newPlot(                        \"eca022d3-79e3-4bae-9af6-62ef319df8da\",                        [{\"colorbar\": {\"title\": {\"text\": \"Colorbar Title\"}}, \"colorscale\": [[0.0, \"rgb(12,51,131)\"], [0.25, \"rgb(10,136,186)\"], [0.5, \"rgb(242,211,56)\"], [0.75, \"rgb(242,143,56)\"], [1.0, \"rgb(217,30,30)\"]], \"locationmode\": \"USA-states\", \"locations\": [\"AZ\", \"CA\", \"NY\"], \"text\": [\"text1\", \"text2\", \"text3\"], \"type\": \"choropleth\", \"z\": [1, 2, 3]}],                        {\"geo\": {\"scope\": \"usa\"}, \"template\": {\"data\": {\"bar\": [{\"error_x\": {\"color\": \"#2a3f5f\"}, \"error_y\": {\"color\": \"#2a3f5f\"}, \"marker\": {\"line\": {\"color\": \"#E5ECF6\", \"width\": 0.5}}, \"type\": \"bar\"}], \"barpolar\": [{\"marker\": {\"line\": {\"color\": \"#E5ECF6\", \"width\": 0.5}}, \"type\": \"barpolar\"}], \"carpet\": [{\"aaxis\": {\"endlinecolor\": \"#2a3f5f\", \"gridcolor\": \"white\", \"linecolor\": \"white\", \"minorgridcolor\": \"white\", \"startlinecolor\": \"#2a3f5f\"}, \"baxis\": {\"endlinecolor\": \"#2a3f5f\", \"gridcolor\": \"white\", \"linecolor\": \"white\", \"minorgridcolor\": \"white\", \"startlinecolor\": \"#2a3f5f\"}, \"type\": \"carpet\"}], \"choropleth\": [{\"colorbar\": {\"outlinewidth\": 0, \"ticks\": \"\"}, \"type\": \"choropleth\"}], \"contour\": [{\"colorbar\": {\"outlinewidth\": 0, \"ticks\": \"\"}, \"colorscale\": [[0.0, \"#0d0887\"], [0.1111111111111111, \"#46039f\"], [0.2222222222222222, \"#7201a8\"], [0.3333333333333333, \"#9c179e\"], [0.4444444444444444, \"#bd3786\"], [0.5555555555555556, \"#d8576b\"], [0.6666666666666666, \"#ed7953\"], [0.7777777777777778, \"#fb9f3a\"], [0.8888888888888888, \"#fdca26\"], [1.0, \"#f0f921\"]], \"type\": \"contour\"}], \"contourcarpet\": [{\"colorbar\": {\"outlinewidth\": 0, \"ticks\": \"\"}, \"type\": \"contourcarpet\"}], \"heatmap\": [{\"colorbar\": {\"outlinewidth\": 0, \"ticks\": \"\"}, \"colorscale\": [[0.0, \"#0d0887\"], [0.1111111111111111, \"#46039f\"], [0.2222222222222222, \"#7201a8\"], [0.3333333333333333, \"#9c179e\"], [0.4444444444444444, \"#bd3786\"], [0.5555555555555556, \"#d8576b\"], [0.6666666666666666, \"#ed7953\"], [0.7777777777777778, \"#fb9f3a\"], [0.8888888888888888, \"#fdca26\"], [1.0, \"#f0f921\"]], \"type\": \"heatmap\"}], \"heatmapgl\": [{\"colorbar\": {\"outlinewidth\": 0, \"ticks\": \"\"}, \"colorscale\": [[0.0, \"#0d0887\"], [0.1111111111111111, \"#46039f\"], [0.2222222222222222, \"#7201a8\"], [0.3333333333333333, \"#9c179e\"], [0.4444444444444444, \"#bd3786\"], [0.5555555555555556, \"#d8576b\"], [0.6666666666666666, \"#ed7953\"], [0.7777777777777778, \"#fb9f3a\"], [0.8888888888888888, \"#fdca26\"], [1.0, \"#f0f921\"]], \"type\": \"heatmapgl\"}], \"histogram\": [{\"marker\": {\"colorbar\": {\"outlinewidth\": 0, \"ticks\": \"\"}}, \"type\": \"histogram\"}], \"histogram2d\": [{\"colorbar\": {\"outlinewidth\": 0, \"ticks\": \"\"}, \"colorscale\": [[0.0, \"#0d0887\"], [0.1111111111111111, \"#46039f\"], [0.2222222222222222, \"#7201a8\"], [0.3333333333333333, \"#9c179e\"], [0.4444444444444444, \"#bd3786\"], [0.5555555555555556, \"#d8576b\"], [0.6666666666666666, \"#ed7953\"], [0.7777777777777778, \"#fb9f3a\"], [0.8888888888888888, \"#fdca26\"], [1.0, \"#f0f921\"]], \"type\": \"histogram2d\"}], \"histogram2dcontour\": [{\"colorbar\": {\"outlinewidth\": 0, \"ticks\": \"\"}, \"colorscale\": [[0.0, \"#0d0887\"], [0.1111111111111111, \"#46039f\"], [0.2222222222222222, \"#7201a8\"], [0.3333333333333333, \"#9c179e\"], [0.4444444444444444, \"#bd3786\"], [0.5555555555555556, \"#d8576b\"], [0.6666666666666666, \"#ed7953\"], [0.7777777777777778, \"#fb9f3a\"], [0.8888888888888888, \"#fdca26\"], [1.0, \"#f0f921\"]], \"type\": \"histogram2dcontour\"}], \"mesh3d\": [{\"colorbar\": {\"outlinewidth\": 0, \"ticks\": \"\"}, \"type\": \"mesh3d\"}], \"parcoords\": [{\"line\": {\"colorbar\": {\"outlinewidth\": 0, \"ticks\": \"\"}}, \"type\": \"parcoords\"}], \"pie\": [{\"automargin\": true, \"type\": \"pie\"}], \"scatter\": [{\"marker\": {\"colorbar\": {\"outlinewidth\": 0, \"ticks\": \"\"}}, \"type\": \"scatter\"}], \"scatter3d\": [{\"line\": {\"colorbar\": {\"outlinewidth\": 0, \"ticks\": \"\"}}, \"marker\": {\"colorbar\": {\"outlinewidth\": 0, \"ticks\": \"\"}}, \"type\": \"scatter3d\"}], \"scattercarpet\": [{\"marker\": {\"colorbar\": {\"outlinewidth\": 0, \"ticks\": \"\"}}, \"type\": \"scattercarpet\"}], \"scattergeo\": [{\"marker\": {\"colorbar\": {\"outlinewidth\": 0, \"ticks\": \"\"}}, \"type\": \"scattergeo\"}], \"scattergl\": [{\"marker\": {\"colorbar\": {\"outlinewidth\": 0, \"ticks\": \"\"}}, \"type\": \"scattergl\"}], \"scattermapbox\": [{\"marker\": {\"colorbar\": {\"outlinewidth\": 0, \"ticks\": \"\"}}, \"type\": \"scattermapbox\"}], \"scatterpolar\": [{\"marker\": {\"colorbar\": {\"outlinewidth\": 0, \"ticks\": \"\"}}, \"type\": \"scatterpolar\"}], \"scatterpolargl\": [{\"marker\": {\"colorbar\": {\"outlinewidth\": 0, \"ticks\": \"\"}}, \"type\": \"scatterpolargl\"}], \"scatterternary\": [{\"marker\": {\"colorbar\": {\"outlinewidth\": 0, \"ticks\": \"\"}}, \"type\": \"scatterternary\"}], \"surface\": [{\"colorbar\": {\"outlinewidth\": 0, \"ticks\": \"\"}, \"colorscale\": [[0.0, \"#0d0887\"], [0.1111111111111111, \"#46039f\"], [0.2222222222222222, \"#7201a8\"], [0.3333333333333333, \"#9c179e\"], [0.4444444444444444, \"#bd3786\"], [0.5555555555555556, \"#d8576b\"], [0.6666666666666666, \"#ed7953\"], [0.7777777777777778, \"#fb9f3a\"], [0.8888888888888888, \"#fdca26\"], [1.0, \"#f0f921\"]], \"type\": \"surface\"}], \"table\": [{\"cells\": {\"fill\": {\"color\": \"#EBF0F8\"}, \"line\": {\"color\": \"white\"}}, \"header\": {\"fill\": {\"color\": \"#C8D4E3\"}, \"line\": {\"color\": \"white\"}}, \"type\": \"table\"}]}, \"layout\": {\"annotationdefaults\": {\"arrowcolor\": \"#2a3f5f\", \"arrowhead\": 0, \"arrowwidth\": 1}, \"autotypenumbers\": \"strict\", \"coloraxis\": {\"colorbar\": {\"outlinewidth\": 0, \"ticks\": \"\"}}, \"colorscale\": {\"diverging\": [[0, \"#8e0152\"], [0.1, \"#c51b7d\"], [0.2, \"#de77ae\"], [0.3, \"#f1b6da\"], [0.4, \"#fde0ef\"], [0.5, \"#f7f7f7\"], [0.6, \"#e6f5d0\"], [0.7, \"#b8e186\"], [0.8, \"#7fbc41\"], [0.9, \"#4d9221\"], [1, \"#276419\"]], \"sequential\": [[0.0, \"#0d0887\"], [0.1111111111111111, \"#46039f\"], [0.2222222222222222, \"#7201a8\"], [0.3333333333333333, \"#9c179e\"], [0.4444444444444444, \"#bd3786\"], [0.5555555555555556, \"#d8576b\"], [0.6666666666666666, \"#ed7953\"], [0.7777777777777778, \"#fb9f3a\"], [0.8888888888888888, \"#fdca26\"], [1.0, \"#f0f921\"]], \"sequentialminus\": [[0.0, \"#0d0887\"], [0.1111111111111111, \"#46039f\"], [0.2222222222222222, \"#7201a8\"], [0.3333333333333333, \"#9c179e\"], [0.4444444444444444, \"#bd3786\"], [0.5555555555555556, \"#d8576b\"], [0.6666666666666666, \"#ed7953\"], [0.7777777777777778, \"#fb9f3a\"], [0.8888888888888888, \"#fdca26\"], [1.0, \"#f0f921\"]]}, \"colorway\": [\"#636efa\", \"#EF553B\", \"#00cc96\", \"#ab63fa\", \"#FFA15A\", \"#19d3f3\", \"#FF6692\", \"#B6E880\", \"#FF97FF\", \"#FECB52\"], \"font\": {\"color\": \"#2a3f5f\"}, \"geo\": {\"bgcolor\": \"white\", \"lakecolor\": \"white\", \"landcolor\": \"#E5ECF6\", \"showlakes\": true, \"showland\": true, \"subunitcolor\": \"white\"}, \"hoverlabel\": {\"align\": \"left\"}, \"hovermode\": \"closest\", \"mapbox\": {\"style\": \"light\"}, \"paper_bgcolor\": \"white\", \"plot_bgcolor\": \"#E5ECF6\", \"polar\": {\"angularaxis\": {\"gridcolor\": \"white\", \"linecolor\": \"white\", \"ticks\": \"\"}, \"bgcolor\": \"#E5ECF6\", \"radialaxis\": {\"gridcolor\": \"white\", \"linecolor\": \"white\", \"ticks\": \"\"}}, \"scene\": {\"xaxis\": {\"backgroundcolor\": \"#E5ECF6\", \"gridcolor\": \"white\", \"gridwidth\": 2, \"linecolor\": \"white\", \"showbackground\": true, \"ticks\": \"\", \"zerolinecolor\": \"white\"}, \"yaxis\": {\"backgroundcolor\": \"#E5ECF6\", \"gridcolor\": \"white\", \"gridwidth\": 2, \"linecolor\": \"white\", \"showbackground\": true, \"ticks\": \"\", \"zerolinecolor\": \"white\"}, \"zaxis\": {\"backgroundcolor\": \"#E5ECF6\", \"gridcolor\": \"white\", \"gridwidth\": 2, \"linecolor\": \"white\", \"showbackground\": true, \"ticks\": \"\", \"zerolinecolor\": \"white\"}}, \"shapedefaults\": {\"line\": {\"color\": \"#2a3f5f\"}}, \"ternary\": {\"aaxis\": {\"gridcolor\": \"white\", \"linecolor\": \"white\", \"ticks\": \"\"}, \"baxis\": {\"gridcolor\": \"white\", \"linecolor\": \"white\", \"ticks\": \"\"}, \"bgcolor\": \"#E5ECF6\", \"caxis\": {\"gridcolor\": \"white\", \"linecolor\": \"white\", \"ticks\": \"\"}}, \"title\": {\"x\": 0.05}, \"xaxis\": {\"automargin\": true, \"gridcolor\": \"white\", \"linecolor\": \"white\", \"ticks\": \"\", \"title\": {\"standoff\": 15}, \"zerolinecolor\": \"white\", \"zerolinewidth\": 2}, \"yaxis\": {\"automargin\": true, \"gridcolor\": \"white\", \"linecolor\": \"white\", \"ticks\": \"\", \"title\": {\"standoff\": 15}, \"zerolinecolor\": \"white\", \"zerolinewidth\": 2}}}},                        {\"responsive\": true}                    ).then(function(){\n",
       "                            \n",
       "var gd = document.getElementById('eca022d3-79e3-4bae-9af6-62ef319df8da');\n",
       "var x = new MutationObserver(function (mutations, observer) {{\n",
       "        var display = window.getComputedStyle(gd).display;\n",
       "        if (!display || display === 'none') {{\n",
       "            console.log([gd, 'removed!']);\n",
       "            Plotly.purge(gd);\n",
       "            observer.disconnect();\n",
       "        }}\n",
       "}});\n",
       "\n",
       "// Listen for the removal of the full notebook cells\n",
       "var notebookContainer = gd.closest('#notebook-container');\n",
       "if (notebookContainer) {{\n",
       "    x.observe(notebookContainer, {childList: true});\n",
       "}}\n",
       "\n",
       "// Listen for the clearing of the current output cell\n",
       "var outputEl = gd.closest('.output');\n",
       "if (outputEl) {{\n",
       "    x.observe(outputEl, {childList: true});\n",
       "}}\n",
       "\n",
       "                        })                };                });            </script>        </div>"
      ]
     },
     "metadata": {},
     "output_type": "display_data"
    }
   ],
   "source": [
    "iplot(choromap)"
   ]
  },
  {
   "cell_type": "markdown",
   "id": "08bad98f",
   "metadata": {},
   "source": [
    "### Real Data US Map Choropleth"
   ]
  },
  {
   "cell_type": "code",
   "execution_count": 23,
   "id": "0bf4c92e",
   "metadata": {
    "scrolled": false
   },
   "outputs": [
    {
     "data": {
      "text/html": [
       "<div>\n",
       "<style scoped>\n",
       "    .dataframe tbody tr th:only-of-type {\n",
       "        vertical-align: middle;\n",
       "    }\n",
       "\n",
       "    .dataframe tbody tr th {\n",
       "        vertical-align: top;\n",
       "    }\n",
       "\n",
       "    .dataframe thead th {\n",
       "        text-align: right;\n",
       "    }\n",
       "</style>\n",
       "<table border=\"1\" class=\"dataframe\">\n",
       "  <thead>\n",
       "    <tr style=\"text-align: right;\">\n",
       "      <th></th>\n",
       "      <th>code</th>\n",
       "      <th>state</th>\n",
       "      <th>category</th>\n",
       "      <th>total exports</th>\n",
       "      <th>beef</th>\n",
       "      <th>pork</th>\n",
       "      <th>poultry</th>\n",
       "      <th>dairy</th>\n",
       "      <th>fruits fresh</th>\n",
       "      <th>fruits proc</th>\n",
       "      <th>total fruits</th>\n",
       "      <th>veggies fresh</th>\n",
       "      <th>veggies proc</th>\n",
       "      <th>total veggies</th>\n",
       "      <th>corn</th>\n",
       "      <th>wheat</th>\n",
       "      <th>cotton</th>\n",
       "      <th>text</th>\n",
       "    </tr>\n",
       "  </thead>\n",
       "  <tbody>\n",
       "    <tr>\n",
       "      <th>0</th>\n",
       "      <td>AL</td>\n",
       "      <td>Alabama</td>\n",
       "      <td>state</td>\n",
       "      <td>1390.63</td>\n",
       "      <td>34.4</td>\n",
       "      <td>10.6</td>\n",
       "      <td>481.0</td>\n",
       "      <td>4.06</td>\n",
       "      <td>8.0</td>\n",
       "      <td>17.1</td>\n",
       "      <td>25.11</td>\n",
       "      <td>5.5</td>\n",
       "      <td>8.9</td>\n",
       "      <td>14.33</td>\n",
       "      <td>34.9</td>\n",
       "      <td>70.0</td>\n",
       "      <td>317.61</td>\n",
       "      <td>Alabama&lt;br&gt;Beef 34.4 Dairy 4.06&lt;br&gt;Fruits 25.1...</td>\n",
       "    </tr>\n",
       "    <tr>\n",
       "      <th>1</th>\n",
       "      <td>AK</td>\n",
       "      <td>Alaska</td>\n",
       "      <td>state</td>\n",
       "      <td>13.31</td>\n",
       "      <td>0.2</td>\n",
       "      <td>0.1</td>\n",
       "      <td>0.0</td>\n",
       "      <td>0.19</td>\n",
       "      <td>0.0</td>\n",
       "      <td>0.0</td>\n",
       "      <td>0.00</td>\n",
       "      <td>0.6</td>\n",
       "      <td>1.0</td>\n",
       "      <td>1.56</td>\n",
       "      <td>0.0</td>\n",
       "      <td>0.0</td>\n",
       "      <td>0.00</td>\n",
       "      <td>Alaska&lt;br&gt;Beef 0.2 Dairy 0.19&lt;br&gt;Fruits 0.0 Ve...</td>\n",
       "    </tr>\n",
       "    <tr>\n",
       "      <th>2</th>\n",
       "      <td>AZ</td>\n",
       "      <td>Arizona</td>\n",
       "      <td>state</td>\n",
       "      <td>1463.17</td>\n",
       "      <td>71.3</td>\n",
       "      <td>17.9</td>\n",
       "      <td>0.0</td>\n",
       "      <td>105.48</td>\n",
       "      <td>19.3</td>\n",
       "      <td>41.0</td>\n",
       "      <td>60.27</td>\n",
       "      <td>147.5</td>\n",
       "      <td>239.4</td>\n",
       "      <td>386.91</td>\n",
       "      <td>7.3</td>\n",
       "      <td>48.7</td>\n",
       "      <td>423.95</td>\n",
       "      <td>Arizona&lt;br&gt;Beef 71.3 Dairy 105.48&lt;br&gt;Fruits 60...</td>\n",
       "    </tr>\n",
       "    <tr>\n",
       "      <th>3</th>\n",
       "      <td>AR</td>\n",
       "      <td>Arkansas</td>\n",
       "      <td>state</td>\n",
       "      <td>3586.02</td>\n",
       "      <td>53.2</td>\n",
       "      <td>29.4</td>\n",
       "      <td>562.9</td>\n",
       "      <td>3.53</td>\n",
       "      <td>2.2</td>\n",
       "      <td>4.7</td>\n",
       "      <td>6.88</td>\n",
       "      <td>4.4</td>\n",
       "      <td>7.1</td>\n",
       "      <td>11.45</td>\n",
       "      <td>69.5</td>\n",
       "      <td>114.5</td>\n",
       "      <td>665.44</td>\n",
       "      <td>Arkansas&lt;br&gt;Beef 53.2 Dairy 3.53&lt;br&gt;Fruits 6.8...</td>\n",
       "    </tr>\n",
       "    <tr>\n",
       "      <th>4</th>\n",
       "      <td>CA</td>\n",
       "      <td>California</td>\n",
       "      <td>state</td>\n",
       "      <td>16472.88</td>\n",
       "      <td>228.7</td>\n",
       "      <td>11.1</td>\n",
       "      <td>225.4</td>\n",
       "      <td>929.95</td>\n",
       "      <td>2791.8</td>\n",
       "      <td>5944.6</td>\n",
       "      <td>8736.40</td>\n",
       "      <td>803.2</td>\n",
       "      <td>1303.5</td>\n",
       "      <td>2106.79</td>\n",
       "      <td>34.6</td>\n",
       "      <td>249.3</td>\n",
       "      <td>1064.95</td>\n",
       "      <td>California&lt;br&gt;Beef 228.7 Dairy 929.95&lt;br&gt;Frui...</td>\n",
       "    </tr>\n",
       "  </tbody>\n",
       "</table>\n",
       "</div>"
      ],
      "text/plain": [
       "  code        state category  total exports   beef  pork  poultry   dairy  \\\n",
       "0   AL      Alabama    state        1390.63   34.4  10.6    481.0    4.06   \n",
       "1   AK       Alaska    state          13.31    0.2   0.1      0.0    0.19   \n",
       "2   AZ      Arizona    state        1463.17   71.3  17.9      0.0  105.48   \n",
       "3   AR     Arkansas    state        3586.02   53.2  29.4    562.9    3.53   \n",
       "4   CA   California    state       16472.88  228.7  11.1    225.4  929.95   \n",
       "\n",
       "   fruits fresh  fruits proc  total fruits  veggies fresh  veggies proc  \\\n",
       "0           8.0         17.1         25.11            5.5           8.9   \n",
       "1           0.0          0.0          0.00            0.6           1.0   \n",
       "2          19.3         41.0         60.27          147.5         239.4   \n",
       "3           2.2          4.7          6.88            4.4           7.1   \n",
       "4        2791.8       5944.6       8736.40          803.2        1303.5   \n",
       "\n",
       "   total veggies  corn  wheat   cotton  \\\n",
       "0          14.33  34.9   70.0   317.61   \n",
       "1           1.56   0.0    0.0     0.00   \n",
       "2         386.91   7.3   48.7   423.95   \n",
       "3          11.45  69.5  114.5   665.44   \n",
       "4        2106.79  34.6  249.3  1064.95   \n",
       "\n",
       "                                                text  \n",
       "0  Alabama<br>Beef 34.4 Dairy 4.06<br>Fruits 25.1...  \n",
       "1  Alaska<br>Beef 0.2 Dairy 0.19<br>Fruits 0.0 Ve...  \n",
       "2  Arizona<br>Beef 71.3 Dairy 105.48<br>Fruits 60...  \n",
       "3  Arkansas<br>Beef 53.2 Dairy 3.53<br>Fruits 6.8...  \n",
       "4   California<br>Beef 228.7 Dairy 929.95<br>Frui...  "
      ]
     },
     "execution_count": 23,
     "metadata": {},
     "output_type": "execute_result"
    }
   ],
   "source": [
    "US_AGRI = pd.read_csv('2011_US_AGRI_Exports')\n",
    "US_AGRI.head()"
   ]
  },
  {
   "cell_type": "markdown",
   "id": "228069f9",
   "metadata": {},
   "source": [
    "Now out data dictionary with some extra marker and colorbar arguments:"
   ]
  },
  {
   "cell_type": "code",
   "execution_count": 24,
   "id": "0358a9d2",
   "metadata": {},
   "outputs": [],
   "source": [
    "data = dict(type='choropleth',\n",
    "            colorscale = \"ylorrd\",\n",
    "            locations = US_AGRI['code'],\n",
    "            z = US_AGRI['total exports'],\n",
    "            locationmode = 'USA-states',\n",
    "            text = US_AGRI['text'],\n",
    "            marker = dict(line = dict(color = 'rgb(255,255,255)',width = 2)),\n",
    "            colorbar = {'title':\"Millions USD\"}\n",
    "            ) "
   ]
  },
  {
   "cell_type": "markdown",
   "id": "b740eec5",
   "metadata": {},
   "source": [
    "And our layout dictionary with some more arguments:"
   ]
  },
  {
   "cell_type": "code",
   "execution_count": 25,
   "id": "f59c17bc",
   "metadata": {},
   "outputs": [],
   "source": [
    "layout = dict(title = '2011 US Agriculture Exports by State',\n",
    "              geo = dict(scope='usa',\n",
    "                         showlakes = True,\n",
    "                         lakecolor = 'rgb(85,173,240)')\n",
    "             )"
   ]
  },
  {
   "cell_type": "code",
   "execution_count": 26,
   "id": "446d1eb6",
   "metadata": {},
   "outputs": [],
   "source": [
    "choromap = go.Figure(data = [data],layout = layout)"
   ]
  },
  {
   "cell_type": "code",
   "execution_count": 27,
   "id": "9b783b37",
   "metadata": {},
   "outputs": [
    {
     "data": {
      "application/vnd.plotly.v1+json": {
       "config": {
        "linkText": "Export to plot.ly",
        "plotlyServerURL": "https://plot.ly",
        "showLink": false
       },
       "data": [
        {
         "colorbar": {
          "title": {
           "text": "Millions USD"
          }
         },
         "colorscale": [
          [
           0,
           "rgb(255,255,204)"
          ],
          [
           0.125,
           "rgb(255,237,160)"
          ],
          [
           0.25,
           "rgb(254,217,118)"
          ],
          [
           0.375,
           "rgb(254,178,76)"
          ],
          [
           0.5,
           "rgb(253,141,60)"
          ],
          [
           0.625,
           "rgb(252,78,42)"
          ],
          [
           0.75,
           "rgb(227,26,28)"
          ],
          [
           0.875,
           "rgb(189,0,38)"
          ],
          [
           1,
           "rgb(128,0,38)"
          ]
         ],
         "locationmode": "USA-states",
         "locations": [
          "AL",
          "AK",
          "AZ",
          "AR",
          "CA",
          "CO",
          "CT",
          "DE",
          "FL",
          "GA",
          "HI",
          "ID",
          "IL",
          "IN",
          "IA",
          "KS",
          "KY",
          "LA",
          "ME",
          "MD",
          "MA",
          "MI",
          "MN",
          "MS",
          "MO",
          "MT",
          "NE",
          "NV",
          "NH",
          "NJ",
          "NM",
          "NY",
          "NC",
          "ND",
          "OH",
          "OK",
          "OR",
          "PA",
          "RI",
          "SC",
          "SD",
          "TN",
          "TX",
          "UT",
          "VT",
          "VA",
          "WA",
          "WV",
          "WI",
          "WY"
         ],
         "marker": {
          "line": {
           "color": "rgb(255,255,255)",
           "width": 2
          }
         },
         "text": [
          "Alabama<br>Beef 34.4 Dairy 4.06<br>Fruits 25.11 Veggies 14.33<br>Wheat 70.0 Corn 34.9",
          "Alaska<br>Beef 0.2 Dairy 0.19<br>Fruits 0.0 Veggies 1.56<br>Wheat 0.0 Corn 0.0",
          "Arizona<br>Beef 71.3 Dairy 105.48<br>Fruits 60.27 Veggies 386.91<br>Wheat 48.7 Corn 7.3",
          "Arkansas<br>Beef 53.2 Dairy 3.53<br>Fruits 6.88 Veggies 11.45<br>Wheat 114.5 Corn 69.5",
          " California<br>Beef 228.7 Dairy 929.95<br>Fruits 8736.4 Veggies 2106.79<br>Wheat 249.3 Corn 34.6",
          "Colorado<br>Beef 261.4 Dairy 71.94<br>Fruits 17.99 Veggies 118.27<br>Wheat 400.5 Corn 183.2",
          "Connecticut<br>Beef 1.1 Dairy 9.49<br>Fruits 13.1 Veggies 11.16<br>Wheat 0.0 Corn 0.0",
          "Delaware<br>Beef 0.4 Dairy 2.3<br>Fruits 1.53 Veggies 20.03<br>Wheat 22.9 Corn 26.9",
          "Florida<br>Beef 42.6 Dairy 66.31<br>Fruits 1371.36 Veggies 450.86<br>Wheat 1.8 Corn 3.5",
          "Georgia<br>Beef 31.0 Dairy 38.38<br>Fruits 233.51 Veggies 154.77<br>Wheat 65.4 Corn 57.8",
          "Hawaii<br>Beef 4.0 Dairy 1.16<br>Fruits 55.51 Veggies 24.83<br>Wheat 0.0 Corn 0.0",
          "Idaho<br>Beef 119.8 Dairy 294.6<br>Fruits 21.64 Veggies 319.19<br>Wheat 568.2 Corn 24.0",
          "Illinois<br>Beef 53.7 Dairy 45.82<br>Fruits 12.53 Veggies 39.95<br>Wheat 223.8 Corn 2228.5",
          "Indiana<br>Beef 21.9 Dairy 89.7<br>Fruits 12.98 Veggies 37.89<br>Wheat 114.0 Corn 1123.2",
          "Iowa<br>Beef 289.8 Dairy 107.0<br>Fruits 3.24 Veggies 7.1<br>Wheat 3.1 Corn 2529.8",
          "Kansas<br>Beef 659.3 Dairy 65.45<br>Fruits 3.11 Veggies 9.32<br>Wheat 1426.5 Corn 457.3",
          "Kentucky<br>Beef 54.8 Dairy 28.27<br>Fruits 6.6 Veggies 0.0<br>Wheat 149.3 Corn 179.1",
          "Louisiana<br>Beef 19.8 Dairy 6.02<br>Fruits 17.83 Veggies 17.25<br>Wheat 78.7 Corn 91.4",
          "Maine<br>Beef 1.4 Dairy 16.18<br>Fruits 52.01 Veggies 62.9<br>Wheat 0.0 Corn 0.0",
          "Maryland<br>Beef 5.6 Dairy 24.81<br>Fruits 12.9 Veggies 20.43<br>Wheat 55.8 Corn 54.1",
          "Massachusetts<br>Beef 0.6 Dairy 5.81<br>Fruits 80.83 Veggies 21.13<br>Wheat 0.0 Corn 0.0",
          "Michigan<br>Beef 37.7 Dairy 214.82<br>Fruits 257.69 Veggies 189.96<br>Wheat 247.0 Corn 381.5",
          "Minnesota<br>Beef 112.3 Dairy 218.05<br>Fruits 7.91 Veggies 120.37<br>Wheat 538.1 Corn 1264.3",
          "Mississippi<br>Beef 12.8 Dairy 5.45<br>Fruits 17.04 Veggies 27.87<br>Wheat 102.2 Corn 110.0",
          "Missouri<br>Beef 137.2 Dairy 34.26<br>Fruits 13.18 Veggies 17.9<br>Wheat 161.7 Corn 428.8",
          "Montana<br>Beef 105.0 Dairy 6.82<br>Fruits 3.3 Veggies 45.27<br>Wheat 1198.1 Corn 5.4",
          "Nebraska<br>Beef 762.2 Dairy 30.07<br>Fruits 2.16 Veggies 53.5<br>Wheat 292.3 Corn 1735.9",
          "Nevada<br>Beef 21.8 Dairy 16.57<br>Fruits 1.19 Veggies 27.93<br>Wheat 5.4 Corn 0.0",
          "New Hampshire<br>Beef 0.6 Dairy 7.46<br>Fruits 7.98 Veggies 4.5<br>Wheat 0.0 Corn 0.0",
          "New Jersey<br>Beef 0.8 Dairy 3.37<br>Fruits 109.45 Veggies 56.54<br>Wheat 6.7 Corn 10.1",
          "New Mexico<br>Beef 117.2 Dairy 191.01<br>Fruits 101.9 Veggies 43.88<br>Wheat 13.9 Corn 11.2",
          "New York<br>Beef 22.2 Dairy 331.8<br>Fruits 202.56 Veggies 143.37<br>Wheat 29.9 Corn 106.1",
          "North Carolina<br>Beef 24.8 Dairy 24.9<br>Fruits 74.47 Veggies 150.45<br>Wheat 200.3 Corn 92.2",
          "North Dakota<br>Beef 78.5 Dairy 8.14<br>Fruits 0.25 Veggies 130.79<br>Wheat 1664.5 Corn 236.1",
          "Ohio<br>Beef 36.2 Dairy 134.57<br>Fruits 27.21 Veggies 53.53<br>Wheat 207.4 Corn 535.1",
          "Oklahoma<br>Beef 337.6 Dairy 24.35<br>Fruits 9.24 Veggies 8.9<br>Wheat 324.8 Corn 27.5",
          "Oregon<br>Beef 58.8 Dairy 63.66<br>Fruits 315.04 Veggies 126.5<br>Wheat 320.3 Corn 11.7",
          "Pennsylvania<br>Beef 50.9 Dairy 280.87<br>Fruits 89.48 Veggies 38.26<br>Wheat 41.0 Corn 112.1",
          "Rhode Island<br>Beef 0.1 Dairy 0.52<br>Fruits 2.83 Veggies 3.02<br>Wheat 0.0 Corn 0.0",
          "South Carolina<br>Beef 15.2 Dairy 7.62<br>Fruits 53.45 Veggies 42.66<br>Wheat 55.3 Corn 32.1",
          "South Dakota<br>Beef 193.5 Dairy 46.77<br>Fruits 0.8 Veggies 4.06<br>Wheat 704.5 Corn 643.6",
          "Tennessee<br>Beef 51.1 Dairy 21.18<br>Fruits 6.23 Veggies 24.67<br>Wheat 100.0 Corn 88.8",
          "Texas<br>Beef 961.0 Dairy 240.55<br>Fruits 99.9 Veggies 115.23<br>Wheat 309.7 Corn 167.2",
          "Utah<br>Beef 27.9 Dairy 48.6<br>Fruits 12.34 Veggies 6.6<br>Wheat 42.8 Corn 5.3",
          "Vermont<br>Beef 6.2 Dairy 65.98<br>Fruits 8.01 Veggies 4.05<br>Wheat 0.0 Corn 0.0",
          "Virginia<br>Beef 39.5 Dairy 47.85<br>Fruits 36.48 Veggies 27.25<br>Wheat 77.5 Corn 39.5",
          "Washington<br>Beef 59.2 Dairy 154.18<br>Fruits 1738.57 Veggies 363.79<br>Wheat 786.3 Corn 29.5",
          "West Virginia<br>Beef 12.0 Dairy 3.9<br>Fruits 11.54 Veggies 0.0<br>Wheat 1.6 Corn 3.5",
          "Wisconsin<br>Beef 107.3 Dairy 633.6<br>Fruits 133.8 Veggies 148.99<br>Wheat 96.7 Corn 460.5",
          "Wyoming<br>Beef 75.1 Dairy 2.89<br>Fruits 0.17 Veggies 10.23<br>Wheat 20.7 Corn 9.0"
         ],
         "type": "choropleth",
         "z": [
          1390.63,
          13.31,
          1463.17,
          3586.02,
          16472.88,
          1851.33,
          259.62,
          282.19,
          3764.09,
          2860.84,
          401.84,
          2078.89,
          8709.48,
          5050.23,
          11273.76,
          4589.01,
          1889.15,
          1914.23,
          278.37,
          692.75,
          248.65,
          3164.16,
          7192.33,
          2170.8,
          3933.42,
          1718,
          7114.13,
          139.89,
          73.06,
          500.4,
          751.58,
          1488.9,
          3806.05,
          3761.96,
          3979.79,
          1646.41,
          1794.57,
          1969.87,
          31.59,
          929.93,
          3770.19,
          1535.13,
          6648.22,
          453.39,
          180.14,
          1146.48,
          3894.81,
          138.89,
          3090.23,
          349.69
         ]
        }
       ],
       "layout": {
        "geo": {
         "lakecolor": "rgb(85,173,240)",
         "scope": "usa",
         "showlakes": true
        },
        "template": {
         "data": {
          "bar": [
           {
            "error_x": {
             "color": "#2a3f5f"
            },
            "error_y": {
             "color": "#2a3f5f"
            },
            "marker": {
             "line": {
              "color": "#E5ECF6",
              "width": 0.5
             }
            },
            "type": "bar"
           }
          ],
          "barpolar": [
           {
            "marker": {
             "line": {
              "color": "#E5ECF6",
              "width": 0.5
             }
            },
            "type": "barpolar"
           }
          ],
          "carpet": [
           {
            "aaxis": {
             "endlinecolor": "#2a3f5f",
             "gridcolor": "white",
             "linecolor": "white",
             "minorgridcolor": "white",
             "startlinecolor": "#2a3f5f"
            },
            "baxis": {
             "endlinecolor": "#2a3f5f",
             "gridcolor": "white",
             "linecolor": "white",
             "minorgridcolor": "white",
             "startlinecolor": "#2a3f5f"
            },
            "type": "carpet"
           }
          ],
          "choropleth": [
           {
            "colorbar": {
             "outlinewidth": 0,
             "ticks": ""
            },
            "type": "choropleth"
           }
          ],
          "contour": [
           {
            "colorbar": {
             "outlinewidth": 0,
             "ticks": ""
            },
            "colorscale": [
             [
              0,
              "#0d0887"
             ],
             [
              0.1111111111111111,
              "#46039f"
             ],
             [
              0.2222222222222222,
              "#7201a8"
             ],
             [
              0.3333333333333333,
              "#9c179e"
             ],
             [
              0.4444444444444444,
              "#bd3786"
             ],
             [
              0.5555555555555556,
              "#d8576b"
             ],
             [
              0.6666666666666666,
              "#ed7953"
             ],
             [
              0.7777777777777778,
              "#fb9f3a"
             ],
             [
              0.8888888888888888,
              "#fdca26"
             ],
             [
              1,
              "#f0f921"
             ]
            ],
            "type": "contour"
           }
          ],
          "contourcarpet": [
           {
            "colorbar": {
             "outlinewidth": 0,
             "ticks": ""
            },
            "type": "contourcarpet"
           }
          ],
          "heatmap": [
           {
            "colorbar": {
             "outlinewidth": 0,
             "ticks": ""
            },
            "colorscale": [
             [
              0,
              "#0d0887"
             ],
             [
              0.1111111111111111,
              "#46039f"
             ],
             [
              0.2222222222222222,
              "#7201a8"
             ],
             [
              0.3333333333333333,
              "#9c179e"
             ],
             [
              0.4444444444444444,
              "#bd3786"
             ],
             [
              0.5555555555555556,
              "#d8576b"
             ],
             [
              0.6666666666666666,
              "#ed7953"
             ],
             [
              0.7777777777777778,
              "#fb9f3a"
             ],
             [
              0.8888888888888888,
              "#fdca26"
             ],
             [
              1,
              "#f0f921"
             ]
            ],
            "type": "heatmap"
           }
          ],
          "heatmapgl": [
           {
            "colorbar": {
             "outlinewidth": 0,
             "ticks": ""
            },
            "colorscale": [
             [
              0,
              "#0d0887"
             ],
             [
              0.1111111111111111,
              "#46039f"
             ],
             [
              0.2222222222222222,
              "#7201a8"
             ],
             [
              0.3333333333333333,
              "#9c179e"
             ],
             [
              0.4444444444444444,
              "#bd3786"
             ],
             [
              0.5555555555555556,
              "#d8576b"
             ],
             [
              0.6666666666666666,
              "#ed7953"
             ],
             [
              0.7777777777777778,
              "#fb9f3a"
             ],
             [
              0.8888888888888888,
              "#fdca26"
             ],
             [
              1,
              "#f0f921"
             ]
            ],
            "type": "heatmapgl"
           }
          ],
          "histogram": [
           {
            "marker": {
             "colorbar": {
              "outlinewidth": 0,
              "ticks": ""
             }
            },
            "type": "histogram"
           }
          ],
          "histogram2d": [
           {
            "colorbar": {
             "outlinewidth": 0,
             "ticks": ""
            },
            "colorscale": [
             [
              0,
              "#0d0887"
             ],
             [
              0.1111111111111111,
              "#46039f"
             ],
             [
              0.2222222222222222,
              "#7201a8"
             ],
             [
              0.3333333333333333,
              "#9c179e"
             ],
             [
              0.4444444444444444,
              "#bd3786"
             ],
             [
              0.5555555555555556,
              "#d8576b"
             ],
             [
              0.6666666666666666,
              "#ed7953"
             ],
             [
              0.7777777777777778,
              "#fb9f3a"
             ],
             [
              0.8888888888888888,
              "#fdca26"
             ],
             [
              1,
              "#f0f921"
             ]
            ],
            "type": "histogram2d"
           }
          ],
          "histogram2dcontour": [
           {
            "colorbar": {
             "outlinewidth": 0,
             "ticks": ""
            },
            "colorscale": [
             [
              0,
              "#0d0887"
             ],
             [
              0.1111111111111111,
              "#46039f"
             ],
             [
              0.2222222222222222,
              "#7201a8"
             ],
             [
              0.3333333333333333,
              "#9c179e"
             ],
             [
              0.4444444444444444,
              "#bd3786"
             ],
             [
              0.5555555555555556,
              "#d8576b"
             ],
             [
              0.6666666666666666,
              "#ed7953"
             ],
             [
              0.7777777777777778,
              "#fb9f3a"
             ],
             [
              0.8888888888888888,
              "#fdca26"
             ],
             [
              1,
              "#f0f921"
             ]
            ],
            "type": "histogram2dcontour"
           }
          ],
          "mesh3d": [
           {
            "colorbar": {
             "outlinewidth": 0,
             "ticks": ""
            },
            "type": "mesh3d"
           }
          ],
          "parcoords": [
           {
            "line": {
             "colorbar": {
              "outlinewidth": 0,
              "ticks": ""
             }
            },
            "type": "parcoords"
           }
          ],
          "pie": [
           {
            "automargin": true,
            "type": "pie"
           }
          ],
          "scatter": [
           {
            "marker": {
             "colorbar": {
              "outlinewidth": 0,
              "ticks": ""
             }
            },
            "type": "scatter"
           }
          ],
          "scatter3d": [
           {
            "line": {
             "colorbar": {
              "outlinewidth": 0,
              "ticks": ""
             }
            },
            "marker": {
             "colorbar": {
              "outlinewidth": 0,
              "ticks": ""
             }
            },
            "type": "scatter3d"
           }
          ],
          "scattercarpet": [
           {
            "marker": {
             "colorbar": {
              "outlinewidth": 0,
              "ticks": ""
             }
            },
            "type": "scattercarpet"
           }
          ],
          "scattergeo": [
           {
            "marker": {
             "colorbar": {
              "outlinewidth": 0,
              "ticks": ""
             }
            },
            "type": "scattergeo"
           }
          ],
          "scattergl": [
           {
            "marker": {
             "colorbar": {
              "outlinewidth": 0,
              "ticks": ""
             }
            },
            "type": "scattergl"
           }
          ],
          "scattermapbox": [
           {
            "marker": {
             "colorbar": {
              "outlinewidth": 0,
              "ticks": ""
             }
            },
            "type": "scattermapbox"
           }
          ],
          "scatterpolar": [
           {
            "marker": {
             "colorbar": {
              "outlinewidth": 0,
              "ticks": ""
             }
            },
            "type": "scatterpolar"
           }
          ],
          "scatterpolargl": [
           {
            "marker": {
             "colorbar": {
              "outlinewidth": 0,
              "ticks": ""
             }
            },
            "type": "scatterpolargl"
           }
          ],
          "scatterternary": [
           {
            "marker": {
             "colorbar": {
              "outlinewidth": 0,
              "ticks": ""
             }
            },
            "type": "scatterternary"
           }
          ],
          "surface": [
           {
            "colorbar": {
             "outlinewidth": 0,
             "ticks": ""
            },
            "colorscale": [
             [
              0,
              "#0d0887"
             ],
             [
              0.1111111111111111,
              "#46039f"
             ],
             [
              0.2222222222222222,
              "#7201a8"
             ],
             [
              0.3333333333333333,
              "#9c179e"
             ],
             [
              0.4444444444444444,
              "#bd3786"
             ],
             [
              0.5555555555555556,
              "#d8576b"
             ],
             [
              0.6666666666666666,
              "#ed7953"
             ],
             [
              0.7777777777777778,
              "#fb9f3a"
             ],
             [
              0.8888888888888888,
              "#fdca26"
             ],
             [
              1,
              "#f0f921"
             ]
            ],
            "type": "surface"
           }
          ],
          "table": [
           {
            "cells": {
             "fill": {
              "color": "#EBF0F8"
             },
             "line": {
              "color": "white"
             }
            },
            "header": {
             "fill": {
              "color": "#C8D4E3"
             },
             "line": {
              "color": "white"
             }
            },
            "type": "table"
           }
          ]
         },
         "layout": {
          "annotationdefaults": {
           "arrowcolor": "#2a3f5f",
           "arrowhead": 0,
           "arrowwidth": 1
          },
          "autotypenumbers": "strict",
          "coloraxis": {
           "colorbar": {
            "outlinewidth": 0,
            "ticks": ""
           }
          },
          "colorscale": {
           "diverging": [
            [
             0,
             "#8e0152"
            ],
            [
             0.1,
             "#c51b7d"
            ],
            [
             0.2,
             "#de77ae"
            ],
            [
             0.3,
             "#f1b6da"
            ],
            [
             0.4,
             "#fde0ef"
            ],
            [
             0.5,
             "#f7f7f7"
            ],
            [
             0.6,
             "#e6f5d0"
            ],
            [
             0.7,
             "#b8e186"
            ],
            [
             0.8,
             "#7fbc41"
            ],
            [
             0.9,
             "#4d9221"
            ],
            [
             1,
             "#276419"
            ]
           ],
           "sequential": [
            [
             0,
             "#0d0887"
            ],
            [
             0.1111111111111111,
             "#46039f"
            ],
            [
             0.2222222222222222,
             "#7201a8"
            ],
            [
             0.3333333333333333,
             "#9c179e"
            ],
            [
             0.4444444444444444,
             "#bd3786"
            ],
            [
             0.5555555555555556,
             "#d8576b"
            ],
            [
             0.6666666666666666,
             "#ed7953"
            ],
            [
             0.7777777777777778,
             "#fb9f3a"
            ],
            [
             0.8888888888888888,
             "#fdca26"
            ],
            [
             1,
             "#f0f921"
            ]
           ],
           "sequentialminus": [
            [
             0,
             "#0d0887"
            ],
            [
             0.1111111111111111,
             "#46039f"
            ],
            [
             0.2222222222222222,
             "#7201a8"
            ],
            [
             0.3333333333333333,
             "#9c179e"
            ],
            [
             0.4444444444444444,
             "#bd3786"
            ],
            [
             0.5555555555555556,
             "#d8576b"
            ],
            [
             0.6666666666666666,
             "#ed7953"
            ],
            [
             0.7777777777777778,
             "#fb9f3a"
            ],
            [
             0.8888888888888888,
             "#fdca26"
            ],
            [
             1,
             "#f0f921"
            ]
           ]
          },
          "colorway": [
           "#636efa",
           "#EF553B",
           "#00cc96",
           "#ab63fa",
           "#FFA15A",
           "#19d3f3",
           "#FF6692",
           "#B6E880",
           "#FF97FF",
           "#FECB52"
          ],
          "font": {
           "color": "#2a3f5f"
          },
          "geo": {
           "bgcolor": "white",
           "lakecolor": "white",
           "landcolor": "#E5ECF6",
           "showlakes": true,
           "showland": true,
           "subunitcolor": "white"
          },
          "hoverlabel": {
           "align": "left"
          },
          "hovermode": "closest",
          "mapbox": {
           "style": "light"
          },
          "paper_bgcolor": "white",
          "plot_bgcolor": "#E5ECF6",
          "polar": {
           "angularaxis": {
            "gridcolor": "white",
            "linecolor": "white",
            "ticks": ""
           },
           "bgcolor": "#E5ECF6",
           "radialaxis": {
            "gridcolor": "white",
            "linecolor": "white",
            "ticks": ""
           }
          },
          "scene": {
           "xaxis": {
            "backgroundcolor": "#E5ECF6",
            "gridcolor": "white",
            "gridwidth": 2,
            "linecolor": "white",
            "showbackground": true,
            "ticks": "",
            "zerolinecolor": "white"
           },
           "yaxis": {
            "backgroundcolor": "#E5ECF6",
            "gridcolor": "white",
            "gridwidth": 2,
            "linecolor": "white",
            "showbackground": true,
            "ticks": "",
            "zerolinecolor": "white"
           },
           "zaxis": {
            "backgroundcolor": "#E5ECF6",
            "gridcolor": "white",
            "gridwidth": 2,
            "linecolor": "white",
            "showbackground": true,
            "ticks": "",
            "zerolinecolor": "white"
           }
          },
          "shapedefaults": {
           "line": {
            "color": "#2a3f5f"
           }
          },
          "ternary": {
           "aaxis": {
            "gridcolor": "white",
            "linecolor": "white",
            "ticks": ""
           },
           "baxis": {
            "gridcolor": "white",
            "linecolor": "white",
            "ticks": ""
           },
           "bgcolor": "#E5ECF6",
           "caxis": {
            "gridcolor": "white",
            "linecolor": "white",
            "ticks": ""
           }
          },
          "title": {
           "x": 0.05
          },
          "xaxis": {
           "automargin": true,
           "gridcolor": "white",
           "linecolor": "white",
           "ticks": "",
           "title": {
            "standoff": 15
           },
           "zerolinecolor": "white",
           "zerolinewidth": 2
          },
          "yaxis": {
           "automargin": true,
           "gridcolor": "white",
           "linecolor": "white",
           "ticks": "",
           "title": {
            "standoff": 15
           },
           "zerolinecolor": "white",
           "zerolinewidth": 2
          }
         }
        },
        "title": {
         "text": "2011 US Agriculture Exports by State"
        }
       }
      },
      "text/html": [
       "<div>                            <div id=\"59b5584f-d960-4354-b1fa-bdb3251af32b\" class=\"plotly-graph-div\" style=\"height:525px; width:100%;\"></div>            <script type=\"text/javascript\">                require([\"plotly\"], function(Plotly) {                    window.PLOTLYENV=window.PLOTLYENV || {};                                    if (document.getElementById(\"59b5584f-d960-4354-b1fa-bdb3251af32b\")) {                    Plotly.newPlot(                        \"59b5584f-d960-4354-b1fa-bdb3251af32b\",                        [{\"colorbar\": {\"title\": {\"text\": \"Millions USD\"}}, \"colorscale\": [[0.0, \"rgb(255,255,204)\"], [0.125, \"rgb(255,237,160)\"], [0.25, \"rgb(254,217,118)\"], [0.375, \"rgb(254,178,76)\"], [0.5, \"rgb(253,141,60)\"], [0.625, \"rgb(252,78,42)\"], [0.75, \"rgb(227,26,28)\"], [0.875, \"rgb(189,0,38)\"], [1.0, \"rgb(128,0,38)\"]], \"locationmode\": \"USA-states\", \"locations\": [\"AL\", \"AK\", \"AZ\", \"AR\", \"CA\", \"CO\", \"CT\", \"DE\", \"FL\", \"GA\", \"HI\", \"ID\", \"IL\", \"IN\", \"IA\", \"KS\", \"KY\", \"LA\", \"ME\", \"MD\", \"MA\", \"MI\", \"MN\", \"MS\", \"MO\", \"MT\", \"NE\", \"NV\", \"NH\", \"NJ\", \"NM\", \"NY\", \"NC\", \"ND\", \"OH\", \"OK\", \"OR\", \"PA\", \"RI\", \"SC\", \"SD\", \"TN\", \"TX\", \"UT\", \"VT\", \"VA\", \"WA\", \"WV\", \"WI\", \"WY\"], \"marker\": {\"line\": {\"color\": \"rgb(255,255,255)\", \"width\": 2}}, \"text\": [\"Alabama<br>Beef 34.4 Dairy 4.06<br>Fruits 25.11 Veggies 14.33<br>Wheat 70.0 Corn 34.9\", \"Alaska<br>Beef 0.2 Dairy 0.19<br>Fruits 0.0 Veggies 1.56<br>Wheat 0.0 Corn 0.0\", \"Arizona<br>Beef 71.3 Dairy 105.48<br>Fruits 60.27 Veggies 386.91<br>Wheat 48.7 Corn 7.3\", \"Arkansas<br>Beef 53.2 Dairy 3.53<br>Fruits 6.88 Veggies 11.45<br>Wheat 114.5 Corn 69.5\", \" California<br>Beef 228.7 Dairy 929.95<br>Fruits 8736.4 Veggies 2106.79<br>Wheat 249.3 Corn 34.6\", \"Colorado<br>Beef 261.4 Dairy 71.94<br>Fruits 17.99 Veggies 118.27<br>Wheat 400.5 Corn 183.2\", \"Connecticut<br>Beef 1.1 Dairy 9.49<br>Fruits 13.1 Veggies 11.16<br>Wheat 0.0 Corn 0.0\", \"Delaware<br>Beef 0.4 Dairy 2.3<br>Fruits 1.53 Veggies 20.03<br>Wheat 22.9 Corn 26.9\", \"Florida<br>Beef 42.6 Dairy 66.31<br>Fruits 1371.36 Veggies 450.86<br>Wheat 1.8 Corn 3.5\", \"Georgia<br>Beef 31.0 Dairy 38.38<br>Fruits 233.51 Veggies 154.77<br>Wheat 65.4 Corn 57.8\", \"Hawaii<br>Beef 4.0 Dairy 1.16<br>Fruits 55.51 Veggies 24.83<br>Wheat 0.0 Corn 0.0\", \"Idaho<br>Beef 119.8 Dairy 294.6<br>Fruits 21.64 Veggies 319.19<br>Wheat 568.2 Corn 24.0\", \"Illinois<br>Beef 53.7 Dairy 45.82<br>Fruits 12.53 Veggies 39.95<br>Wheat 223.8 Corn 2228.5\", \"Indiana<br>Beef 21.9 Dairy 89.7<br>Fruits 12.98 Veggies 37.89<br>Wheat 114.0 Corn 1123.2\", \"Iowa<br>Beef 289.8 Dairy 107.0<br>Fruits 3.24 Veggies 7.1<br>Wheat 3.1 Corn 2529.8\", \"Kansas<br>Beef 659.3 Dairy 65.45<br>Fruits 3.11 Veggies 9.32<br>Wheat 1426.5 Corn 457.3\", \"Kentucky<br>Beef 54.8 Dairy 28.27<br>Fruits 6.6 Veggies 0.0<br>Wheat 149.3 Corn 179.1\", \"Louisiana<br>Beef 19.8 Dairy 6.02<br>Fruits 17.83 Veggies 17.25<br>Wheat 78.7 Corn 91.4\", \"Maine<br>Beef 1.4 Dairy 16.18<br>Fruits 52.01 Veggies 62.9<br>Wheat 0.0 Corn 0.0\", \"Maryland<br>Beef 5.6 Dairy 24.81<br>Fruits 12.9 Veggies 20.43<br>Wheat 55.8 Corn 54.1\", \"Massachusetts<br>Beef 0.6 Dairy 5.81<br>Fruits 80.83 Veggies 21.13<br>Wheat 0.0 Corn 0.0\", \"Michigan<br>Beef 37.7 Dairy 214.82<br>Fruits 257.69 Veggies 189.96<br>Wheat 247.0 Corn 381.5\", \"Minnesota<br>Beef 112.3 Dairy 218.05<br>Fruits 7.91 Veggies 120.37<br>Wheat 538.1 Corn 1264.3\", \"Mississippi<br>Beef 12.8 Dairy 5.45<br>Fruits 17.04 Veggies 27.87<br>Wheat 102.2 Corn 110.0\", \"Missouri<br>Beef 137.2 Dairy 34.26<br>Fruits 13.18 Veggies 17.9<br>Wheat 161.7 Corn 428.8\", \"Montana<br>Beef 105.0 Dairy 6.82<br>Fruits 3.3 Veggies 45.27<br>Wheat 1198.1 Corn 5.4\", \"Nebraska<br>Beef 762.2 Dairy 30.07<br>Fruits 2.16 Veggies 53.5<br>Wheat 292.3 Corn 1735.9\", \"Nevada<br>Beef 21.8 Dairy 16.57<br>Fruits 1.19 Veggies 27.93<br>Wheat 5.4 Corn 0.0\", \"New Hampshire<br>Beef 0.6 Dairy 7.46<br>Fruits 7.98 Veggies 4.5<br>Wheat 0.0 Corn 0.0\", \"New Jersey<br>Beef 0.8 Dairy 3.37<br>Fruits 109.45 Veggies 56.54<br>Wheat 6.7 Corn 10.1\", \"New Mexico<br>Beef 117.2 Dairy 191.01<br>Fruits 101.9 Veggies 43.88<br>Wheat 13.9 Corn 11.2\", \"New York<br>Beef 22.2 Dairy 331.8<br>Fruits 202.56 Veggies 143.37<br>Wheat 29.9 Corn 106.1\", \"North Carolina<br>Beef 24.8 Dairy 24.9<br>Fruits 74.47 Veggies 150.45<br>Wheat 200.3 Corn 92.2\", \"North Dakota<br>Beef 78.5 Dairy 8.14<br>Fruits 0.25 Veggies 130.79<br>Wheat 1664.5 Corn 236.1\", \"Ohio<br>Beef 36.2 Dairy 134.57<br>Fruits 27.21 Veggies 53.53<br>Wheat 207.4 Corn 535.1\", \"Oklahoma<br>Beef 337.6 Dairy 24.35<br>Fruits 9.24 Veggies 8.9<br>Wheat 324.8 Corn 27.5\", \"Oregon<br>Beef 58.8 Dairy 63.66<br>Fruits 315.04 Veggies 126.5<br>Wheat 320.3 Corn 11.7\", \"Pennsylvania<br>Beef 50.9 Dairy 280.87<br>Fruits 89.48 Veggies 38.26<br>Wheat 41.0 Corn 112.1\", \"Rhode Island<br>Beef 0.1 Dairy 0.52<br>Fruits 2.83 Veggies 3.02<br>Wheat 0.0 Corn 0.0\", \"South Carolina<br>Beef 15.2 Dairy 7.62<br>Fruits 53.45 Veggies 42.66<br>Wheat 55.3 Corn 32.1\", \"South Dakota<br>Beef 193.5 Dairy 46.77<br>Fruits 0.8 Veggies 4.06<br>Wheat 704.5 Corn 643.6\", \"Tennessee<br>Beef 51.1 Dairy 21.18<br>Fruits 6.23 Veggies 24.67<br>Wheat 100.0 Corn 88.8\", \"Texas<br>Beef 961.0 Dairy 240.55<br>Fruits 99.9 Veggies 115.23<br>Wheat 309.7 Corn 167.2\", \"Utah<br>Beef 27.9 Dairy 48.6<br>Fruits 12.34 Veggies 6.6<br>Wheat 42.8 Corn 5.3\", \"Vermont<br>Beef 6.2 Dairy 65.98<br>Fruits 8.01 Veggies 4.05<br>Wheat 0.0 Corn 0.0\", \"Virginia<br>Beef 39.5 Dairy 47.85<br>Fruits 36.48 Veggies 27.25<br>Wheat 77.5 Corn 39.5\", \"Washington<br>Beef 59.2 Dairy 154.18<br>Fruits 1738.57 Veggies 363.79<br>Wheat 786.3 Corn 29.5\", \"West Virginia<br>Beef 12.0 Dairy 3.9<br>Fruits 11.54 Veggies 0.0<br>Wheat 1.6 Corn 3.5\", \"Wisconsin<br>Beef 107.3 Dairy 633.6<br>Fruits 133.8 Veggies 148.99<br>Wheat 96.7 Corn 460.5\", \"Wyoming<br>Beef 75.1 Dairy 2.89<br>Fruits 0.17 Veggies 10.23<br>Wheat 20.7 Corn 9.0\"], \"type\": \"choropleth\", \"z\": [1390.63, 13.31, 1463.17, 3586.02, 16472.88, 1851.33, 259.62, 282.19, 3764.09, 2860.84, 401.84, 2078.89, 8709.48, 5050.23, 11273.76, 4589.01, 1889.15, 1914.23, 278.37, 692.75, 248.65, 3164.16, 7192.33, 2170.8, 3933.42, 1718.0, 7114.13, 139.89, 73.06, 500.4, 751.58, 1488.9, 3806.05, 3761.96, 3979.79, 1646.41, 1794.57, 1969.87, 31.59, 929.93, 3770.19, 1535.13, 6648.22, 453.39, 180.14, 1146.48, 3894.81, 138.89, 3090.23, 349.69]}],                        {\"geo\": {\"lakecolor\": \"rgb(85,173,240)\", \"scope\": \"usa\", \"showlakes\": true}, \"template\": {\"data\": {\"bar\": [{\"error_x\": {\"color\": \"#2a3f5f\"}, \"error_y\": {\"color\": \"#2a3f5f\"}, \"marker\": {\"line\": {\"color\": \"#E5ECF6\", \"width\": 0.5}}, \"type\": \"bar\"}], \"barpolar\": [{\"marker\": {\"line\": {\"color\": \"#E5ECF6\", \"width\": 0.5}}, \"type\": \"barpolar\"}], \"carpet\": [{\"aaxis\": {\"endlinecolor\": \"#2a3f5f\", \"gridcolor\": \"white\", \"linecolor\": \"white\", \"minorgridcolor\": \"white\", \"startlinecolor\": \"#2a3f5f\"}, \"baxis\": {\"endlinecolor\": \"#2a3f5f\", \"gridcolor\": \"white\", \"linecolor\": \"white\", \"minorgridcolor\": \"white\", \"startlinecolor\": \"#2a3f5f\"}, \"type\": \"carpet\"}], \"choropleth\": [{\"colorbar\": {\"outlinewidth\": 0, \"ticks\": \"\"}, \"type\": \"choropleth\"}], \"contour\": [{\"colorbar\": {\"outlinewidth\": 0, \"ticks\": \"\"}, \"colorscale\": [[0.0, \"#0d0887\"], [0.1111111111111111, \"#46039f\"], [0.2222222222222222, \"#7201a8\"], [0.3333333333333333, \"#9c179e\"], [0.4444444444444444, \"#bd3786\"], [0.5555555555555556, \"#d8576b\"], [0.6666666666666666, \"#ed7953\"], [0.7777777777777778, \"#fb9f3a\"], [0.8888888888888888, \"#fdca26\"], [1.0, \"#f0f921\"]], \"type\": \"contour\"}], \"contourcarpet\": [{\"colorbar\": {\"outlinewidth\": 0, \"ticks\": \"\"}, \"type\": \"contourcarpet\"}], \"heatmap\": [{\"colorbar\": {\"outlinewidth\": 0, \"ticks\": \"\"}, \"colorscale\": [[0.0, \"#0d0887\"], [0.1111111111111111, \"#46039f\"], [0.2222222222222222, \"#7201a8\"], [0.3333333333333333, \"#9c179e\"], [0.4444444444444444, \"#bd3786\"], [0.5555555555555556, \"#d8576b\"], [0.6666666666666666, \"#ed7953\"], [0.7777777777777778, \"#fb9f3a\"], [0.8888888888888888, \"#fdca26\"], [1.0, \"#f0f921\"]], \"type\": \"heatmap\"}], \"heatmapgl\": [{\"colorbar\": {\"outlinewidth\": 0, \"ticks\": \"\"}, \"colorscale\": [[0.0, \"#0d0887\"], [0.1111111111111111, \"#46039f\"], [0.2222222222222222, \"#7201a8\"], [0.3333333333333333, \"#9c179e\"], [0.4444444444444444, \"#bd3786\"], [0.5555555555555556, \"#d8576b\"], [0.6666666666666666, \"#ed7953\"], [0.7777777777777778, \"#fb9f3a\"], [0.8888888888888888, \"#fdca26\"], [1.0, \"#f0f921\"]], \"type\": \"heatmapgl\"}], \"histogram\": [{\"marker\": {\"colorbar\": {\"outlinewidth\": 0, \"ticks\": \"\"}}, \"type\": \"histogram\"}], \"histogram2d\": [{\"colorbar\": {\"outlinewidth\": 0, \"ticks\": \"\"}, \"colorscale\": [[0.0, \"#0d0887\"], [0.1111111111111111, \"#46039f\"], [0.2222222222222222, \"#7201a8\"], [0.3333333333333333, \"#9c179e\"], [0.4444444444444444, \"#bd3786\"], [0.5555555555555556, \"#d8576b\"], [0.6666666666666666, \"#ed7953\"], [0.7777777777777778, \"#fb9f3a\"], [0.8888888888888888, \"#fdca26\"], [1.0, \"#f0f921\"]], \"type\": \"histogram2d\"}], \"histogram2dcontour\": [{\"colorbar\": {\"outlinewidth\": 0, \"ticks\": \"\"}, \"colorscale\": [[0.0, \"#0d0887\"], [0.1111111111111111, \"#46039f\"], [0.2222222222222222, \"#7201a8\"], [0.3333333333333333, \"#9c179e\"], [0.4444444444444444, \"#bd3786\"], [0.5555555555555556, \"#d8576b\"], [0.6666666666666666, \"#ed7953\"], [0.7777777777777778, \"#fb9f3a\"], [0.8888888888888888, \"#fdca26\"], [1.0, \"#f0f921\"]], \"type\": \"histogram2dcontour\"}], \"mesh3d\": [{\"colorbar\": {\"outlinewidth\": 0, \"ticks\": \"\"}, \"type\": \"mesh3d\"}], \"parcoords\": [{\"line\": {\"colorbar\": {\"outlinewidth\": 0, \"ticks\": \"\"}}, \"type\": \"parcoords\"}], \"pie\": [{\"automargin\": true, \"type\": \"pie\"}], \"scatter\": [{\"marker\": {\"colorbar\": {\"outlinewidth\": 0, \"ticks\": \"\"}}, \"type\": \"scatter\"}], \"scatter3d\": [{\"line\": {\"colorbar\": {\"outlinewidth\": 0, \"ticks\": \"\"}}, \"marker\": {\"colorbar\": {\"outlinewidth\": 0, \"ticks\": \"\"}}, \"type\": \"scatter3d\"}], \"scattercarpet\": [{\"marker\": {\"colorbar\": {\"outlinewidth\": 0, \"ticks\": \"\"}}, \"type\": \"scattercarpet\"}], \"scattergeo\": [{\"marker\": {\"colorbar\": {\"outlinewidth\": 0, \"ticks\": \"\"}}, \"type\": \"scattergeo\"}], \"scattergl\": [{\"marker\": {\"colorbar\": {\"outlinewidth\": 0, \"ticks\": \"\"}}, \"type\": \"scattergl\"}], \"scattermapbox\": [{\"marker\": {\"colorbar\": {\"outlinewidth\": 0, \"ticks\": \"\"}}, \"type\": \"scattermapbox\"}], \"scatterpolar\": [{\"marker\": {\"colorbar\": {\"outlinewidth\": 0, \"ticks\": \"\"}}, \"type\": \"scatterpolar\"}], \"scatterpolargl\": [{\"marker\": {\"colorbar\": {\"outlinewidth\": 0, \"ticks\": \"\"}}, \"type\": \"scatterpolargl\"}], \"scatterternary\": [{\"marker\": {\"colorbar\": {\"outlinewidth\": 0, \"ticks\": \"\"}}, \"type\": \"scatterternary\"}], \"surface\": [{\"colorbar\": {\"outlinewidth\": 0, \"ticks\": \"\"}, \"colorscale\": [[0.0, \"#0d0887\"], [0.1111111111111111, \"#46039f\"], [0.2222222222222222, \"#7201a8\"], [0.3333333333333333, \"#9c179e\"], [0.4444444444444444, \"#bd3786\"], [0.5555555555555556, \"#d8576b\"], [0.6666666666666666, \"#ed7953\"], [0.7777777777777778, \"#fb9f3a\"], [0.8888888888888888, \"#fdca26\"], [1.0, \"#f0f921\"]], \"type\": \"surface\"}], \"table\": [{\"cells\": {\"fill\": {\"color\": \"#EBF0F8\"}, \"line\": {\"color\": \"white\"}}, \"header\": {\"fill\": {\"color\": \"#C8D4E3\"}, \"line\": {\"color\": \"white\"}}, \"type\": \"table\"}]}, \"layout\": {\"annotationdefaults\": {\"arrowcolor\": \"#2a3f5f\", \"arrowhead\": 0, \"arrowwidth\": 1}, \"autotypenumbers\": \"strict\", \"coloraxis\": {\"colorbar\": {\"outlinewidth\": 0, \"ticks\": \"\"}}, \"colorscale\": {\"diverging\": [[0, \"#8e0152\"], [0.1, \"#c51b7d\"], [0.2, \"#de77ae\"], [0.3, \"#f1b6da\"], [0.4, \"#fde0ef\"], [0.5, \"#f7f7f7\"], [0.6, \"#e6f5d0\"], [0.7, \"#b8e186\"], [0.8, \"#7fbc41\"], [0.9, \"#4d9221\"], [1, \"#276419\"]], \"sequential\": [[0.0, \"#0d0887\"], [0.1111111111111111, \"#46039f\"], [0.2222222222222222, \"#7201a8\"], [0.3333333333333333, \"#9c179e\"], [0.4444444444444444, \"#bd3786\"], [0.5555555555555556, \"#d8576b\"], [0.6666666666666666, \"#ed7953\"], [0.7777777777777778, \"#fb9f3a\"], [0.8888888888888888, \"#fdca26\"], [1.0, \"#f0f921\"]], \"sequentialminus\": [[0.0, \"#0d0887\"], [0.1111111111111111, \"#46039f\"], [0.2222222222222222, \"#7201a8\"], [0.3333333333333333, \"#9c179e\"], [0.4444444444444444, \"#bd3786\"], [0.5555555555555556, \"#d8576b\"], [0.6666666666666666, \"#ed7953\"], [0.7777777777777778, \"#fb9f3a\"], [0.8888888888888888, \"#fdca26\"], [1.0, \"#f0f921\"]]}, \"colorway\": [\"#636efa\", \"#EF553B\", \"#00cc96\", \"#ab63fa\", \"#FFA15A\", \"#19d3f3\", \"#FF6692\", \"#B6E880\", \"#FF97FF\", \"#FECB52\"], \"font\": {\"color\": \"#2a3f5f\"}, \"geo\": {\"bgcolor\": \"white\", \"lakecolor\": \"white\", \"landcolor\": \"#E5ECF6\", \"showlakes\": true, \"showland\": true, \"subunitcolor\": \"white\"}, \"hoverlabel\": {\"align\": \"left\"}, \"hovermode\": \"closest\", \"mapbox\": {\"style\": \"light\"}, \"paper_bgcolor\": \"white\", \"plot_bgcolor\": \"#E5ECF6\", \"polar\": {\"angularaxis\": {\"gridcolor\": \"white\", \"linecolor\": \"white\", \"ticks\": \"\"}, \"bgcolor\": \"#E5ECF6\", \"radialaxis\": {\"gridcolor\": \"white\", \"linecolor\": \"white\", \"ticks\": \"\"}}, \"scene\": {\"xaxis\": {\"backgroundcolor\": \"#E5ECF6\", \"gridcolor\": \"white\", \"gridwidth\": 2, \"linecolor\": \"white\", \"showbackground\": true, \"ticks\": \"\", \"zerolinecolor\": \"white\"}, \"yaxis\": {\"backgroundcolor\": \"#E5ECF6\", \"gridcolor\": \"white\", \"gridwidth\": 2, \"linecolor\": \"white\", \"showbackground\": true, \"ticks\": \"\", \"zerolinecolor\": \"white\"}, \"zaxis\": {\"backgroundcolor\": \"#E5ECF6\", \"gridcolor\": \"white\", \"gridwidth\": 2, \"linecolor\": \"white\", \"showbackground\": true, \"ticks\": \"\", \"zerolinecolor\": \"white\"}}, \"shapedefaults\": {\"line\": {\"color\": \"#2a3f5f\"}}, \"ternary\": {\"aaxis\": {\"gridcolor\": \"white\", \"linecolor\": \"white\", \"ticks\": \"\"}, \"baxis\": {\"gridcolor\": \"white\", \"linecolor\": \"white\", \"ticks\": \"\"}, \"bgcolor\": \"#E5ECF6\", \"caxis\": {\"gridcolor\": \"white\", \"linecolor\": \"white\", \"ticks\": \"\"}}, \"title\": {\"x\": 0.05}, \"xaxis\": {\"automargin\": true, \"gridcolor\": \"white\", \"linecolor\": \"white\", \"ticks\": \"\", \"title\": {\"standoff\": 15}, \"zerolinecolor\": \"white\", \"zerolinewidth\": 2}, \"yaxis\": {\"automargin\": true, \"gridcolor\": \"white\", \"linecolor\": \"white\", \"ticks\": \"\", \"title\": {\"standoff\": 15}, \"zerolinecolor\": \"white\", \"zerolinewidth\": 2}}}, \"title\": {\"text\": \"2011 US Agriculture Exports by State\"}},                        {\"responsive\": true}                    ).then(function(){\n",
       "                            \n",
       "var gd = document.getElementById('59b5584f-d960-4354-b1fa-bdb3251af32b');\n",
       "var x = new MutationObserver(function (mutations, observer) {{\n",
       "        var display = window.getComputedStyle(gd).display;\n",
       "        if (!display || display === 'none') {{\n",
       "            console.log([gd, 'removed!']);\n",
       "            Plotly.purge(gd);\n",
       "            observer.disconnect();\n",
       "        }}\n",
       "}});\n",
       "\n",
       "// Listen for the removal of the full notebook cells\n",
       "var notebookContainer = gd.closest('#notebook-container');\n",
       "if (notebookContainer) {{\n",
       "    x.observe(notebookContainer, {childList: true});\n",
       "}}\n",
       "\n",
       "// Listen for the clearing of the current output cell\n",
       "var outputEl = gd.closest('.output');\n",
       "if (outputEl) {{\n",
       "    x.observe(outputEl, {childList: true});\n",
       "}}\n",
       "\n",
       "                        })                };                });            </script>        </div>"
      ]
     },
     "metadata": {},
     "output_type": "display_data"
    }
   ],
   "source": [
    "iplot(choromap)"
   ]
  },
  {
   "cell_type": "markdown",
   "id": "95610b64",
   "metadata": {},
   "source": [
    "## Choropleth World Maps"
   ]
  },
  {
   "cell_type": "code",
   "execution_count": 28,
   "id": "6bcd56aa",
   "metadata": {},
   "outputs": [
    {
     "data": {
      "text/html": [
       "<div>\n",
       "<style scoped>\n",
       "    .dataframe tbody tr th:only-of-type {\n",
       "        vertical-align: middle;\n",
       "    }\n",
       "\n",
       "    .dataframe tbody tr th {\n",
       "        vertical-align: top;\n",
       "    }\n",
       "\n",
       "    .dataframe thead th {\n",
       "        text-align: right;\n",
       "    }\n",
       "</style>\n",
       "<table border=\"1\" class=\"dataframe\">\n",
       "  <thead>\n",
       "    <tr style=\"text-align: right;\">\n",
       "      <th></th>\n",
       "      <th>COUNTRY</th>\n",
       "      <th>GDP (BILLIONS)</th>\n",
       "      <th>CODE</th>\n",
       "    </tr>\n",
       "  </thead>\n",
       "  <tbody>\n",
       "    <tr>\n",
       "      <th>0</th>\n",
       "      <td>Afghanistan</td>\n",
       "      <td>21.71</td>\n",
       "      <td>AFG</td>\n",
       "    </tr>\n",
       "    <tr>\n",
       "      <th>1</th>\n",
       "      <td>Albania</td>\n",
       "      <td>13.40</td>\n",
       "      <td>ALB</td>\n",
       "    </tr>\n",
       "    <tr>\n",
       "      <th>2</th>\n",
       "      <td>Algeria</td>\n",
       "      <td>227.80</td>\n",
       "      <td>DZA</td>\n",
       "    </tr>\n",
       "    <tr>\n",
       "      <th>3</th>\n",
       "      <td>American Samoa</td>\n",
       "      <td>0.75</td>\n",
       "      <td>ASM</td>\n",
       "    </tr>\n",
       "    <tr>\n",
       "      <th>4</th>\n",
       "      <td>Andorra</td>\n",
       "      <td>4.80</td>\n",
       "      <td>AND</td>\n",
       "    </tr>\n",
       "  </tbody>\n",
       "</table>\n",
       "</div>"
      ],
      "text/plain": [
       "          COUNTRY  GDP (BILLIONS) CODE\n",
       "0     Afghanistan           21.71  AFG\n",
       "1         Albania           13.40  ALB\n",
       "2         Algeria          227.80  DZA\n",
       "3  American Samoa            0.75  ASM\n",
       "4         Andorra            4.80  AND"
      ]
     },
     "execution_count": 28,
     "metadata": {},
     "output_type": "execute_result"
    }
   ],
   "source": [
    "World_GDP = pd.read_csv('2014_World_GDP')\n",
    "World_GDP.head()"
   ]
  },
  {
   "cell_type": "code",
   "execution_count": 29,
   "id": "60c8405a",
   "metadata": {},
   "outputs": [],
   "source": [
    "data = dict(\n",
    "        type = \"choropleth\",\n",
    "        locations = World_GDP[\"CODE\"],\n",
    "        locationmode = 'ISO-3',\n",
    "        colorscale = \"ylorrd\",\n",
    "        z = World_GDP[\"GDP (BILLIONS)\"],\n",
    "        text = World_GDP[\"COUNTRY\"],\n",
    "        colorbar = {\"title\":\"GDP\"})"
   ]
  },
  {
   "cell_type": "code",
   "execution_count": 30,
   "id": "db1859c0",
   "metadata": {},
   "outputs": [],
   "source": [
    "layout = dict(\n",
    "    title = '2014 Global GDP',\n",
    "    geo = dict(scope = \"world\",\n",
    "        showframe = True,\n",
    "        projection = {'type':'mercator'}\n",
    "    )\n",
    ")"
   ]
  },
  {
   "cell_type": "code",
   "execution_count": 31,
   "id": "ec7efea2",
   "metadata": {},
   "outputs": [],
   "source": [
    "choromap = go.Figure(data=[data], layout=layout)"
   ]
  },
  {
   "cell_type": "code",
   "execution_count": 32,
   "id": "585db418",
   "metadata": {},
   "outputs": [
    {
     "data": {
      "application/vnd.plotly.v1+json": {
       "config": {
        "linkText": "Export to plot.ly",
        "plotlyServerURL": "https://plot.ly",
        "showLink": false
       },
       "data": [
        {
         "colorbar": {
          "title": {
           "text": "GDP"
          }
         },
         "colorscale": [
          [
           0,
           "rgb(255,255,204)"
          ],
          [
           0.125,
           "rgb(255,237,160)"
          ],
          [
           0.25,
           "rgb(254,217,118)"
          ],
          [
           0.375,
           "rgb(254,178,76)"
          ],
          [
           0.5,
           "rgb(253,141,60)"
          ],
          [
           0.625,
           "rgb(252,78,42)"
          ],
          [
           0.75,
           "rgb(227,26,28)"
          ],
          [
           0.875,
           "rgb(189,0,38)"
          ],
          [
           1,
           "rgb(128,0,38)"
          ]
         ],
         "locationmode": "ISO-3",
         "locations": [
          "AFG",
          "ALB",
          "DZA",
          "ASM",
          "AND",
          "AGO",
          "AIA",
          "ATG",
          "ARG",
          "ARM",
          "ABW",
          "AUS",
          "AUT",
          "AZE",
          "BHM",
          "BHR",
          "BGD",
          "BRB",
          "BLR",
          "BEL",
          "BLZ",
          "BEN",
          "BMU",
          "BTN",
          "BOL",
          "BIH",
          "BWA",
          "BRA",
          "VGB",
          "BRN",
          "BGR",
          "BFA",
          "MMR",
          "BDI",
          "CPV",
          "KHM",
          "CMR",
          "CAN",
          "CYM",
          "CAF",
          "TCD",
          "CHL",
          "CHN",
          "COL",
          "COM",
          "COD",
          "COG",
          "COK",
          "CRI",
          "CIV",
          "HRV",
          "CUB",
          "CUW",
          "CYP",
          "CZE",
          "DNK",
          "DJI",
          "DMA",
          "DOM",
          "ECU",
          "EGY",
          "SLV",
          "GNQ",
          "ERI",
          "EST",
          "ETH",
          "FLK",
          "FRO",
          "FJI",
          "FIN",
          "FRA",
          "PYF",
          "GAB",
          "GMB",
          "GEO",
          "DEU",
          "GHA",
          "GIB",
          "GRC",
          "GRL",
          "GRD",
          "GUM",
          "GTM",
          "GGY",
          "GNB",
          "GIN",
          "GUY",
          "HTI",
          "HND",
          "HKG",
          "HUN",
          "ISL",
          "IND",
          "IDN",
          "IRN",
          "IRQ",
          "IRL",
          "IMN",
          "ISR",
          "ITA",
          "JAM",
          "JPN",
          "JEY",
          "JOR",
          "KAZ",
          "KEN",
          "KIR",
          "KOR",
          "PRK",
          "KSV",
          "KWT",
          "KGZ",
          "LAO",
          "LVA",
          "LBN",
          "LSO",
          "LBR",
          "LBY",
          "LIE",
          "LTU",
          "LUX",
          "MAC",
          "MKD",
          "MDG",
          "MWI",
          "MYS",
          "MDV",
          "MLI",
          "MLT",
          "MHL",
          "MRT",
          "MUS",
          "MEX",
          "FSM",
          "MDA",
          "MCO",
          "MNG",
          "MNE",
          "MAR",
          "MOZ",
          "NAM",
          "NPL",
          "NLD",
          "NCL",
          "NZL",
          "NIC",
          "NGA",
          "NER",
          "NIU",
          "MNP",
          "NOR",
          "OMN",
          "PAK",
          "PLW",
          "PAN",
          "PNG",
          "PRY",
          "PER",
          "PHL",
          "POL",
          "PRT",
          "PRI",
          "QAT",
          "ROU",
          "RUS",
          "RWA",
          "KNA",
          "LCA",
          "MAF",
          "SPM",
          "VCT",
          "WSM",
          "SMR",
          "STP",
          "SAU",
          "SEN",
          "SRB",
          "SYC",
          "SLE",
          "SGP",
          "SXM",
          "SVK",
          "SVN",
          "SLB",
          "SOM",
          "ZAF",
          "SSD",
          "ESP",
          "LKA",
          "SDN",
          "SUR",
          "SWZ",
          "SWE",
          "CHE",
          "SYR",
          "TWN",
          "TJK",
          "TZA",
          "THA",
          "TLS",
          "TGO",
          "TON",
          "TTO",
          "TUN",
          "TUR",
          "TKM",
          "TUV",
          "UGA",
          "UKR",
          "ARE",
          "GBR",
          "USA",
          "URY",
          "UZB",
          "VUT",
          "VEN",
          "VNM",
          "VGB",
          "WBG",
          "YEM",
          "ZMB",
          "ZWE"
         ],
         "text": [
          "Afghanistan",
          "Albania",
          "Algeria",
          "American Samoa",
          "Andorra",
          "Angola",
          "Anguilla",
          "Antigua and Barbuda",
          "Argentina",
          "Armenia",
          "Aruba",
          "Australia",
          "Austria",
          "Azerbaijan",
          "Bahamas, The",
          "Bahrain",
          "Bangladesh",
          "Barbados",
          "Belarus",
          "Belgium",
          "Belize",
          "Benin",
          "Bermuda",
          "Bhutan",
          "Bolivia",
          "Bosnia and Herzegovina",
          "Botswana",
          "Brazil",
          "British Virgin Islands",
          "Brunei",
          "Bulgaria",
          "Burkina Faso",
          "Burma",
          "Burundi",
          "Cabo Verde",
          "Cambodia",
          "Cameroon",
          "Canada",
          "Cayman Islands",
          "Central African Republic",
          "Chad",
          "Chile",
          "China",
          "Colombia",
          "Comoros",
          "Congo, Democratic Republic of the",
          "Congo, Republic of the",
          "Cook Islands",
          "Costa Rica",
          "Cote d'Ivoire",
          "Croatia",
          "Cuba",
          "Curacao",
          "Cyprus",
          "Czech Republic",
          "Denmark",
          "Djibouti",
          "Dominica",
          "Dominican Republic",
          "Ecuador",
          "Egypt",
          "El Salvador",
          "Equatorial Guinea",
          "Eritrea",
          "Estonia",
          "Ethiopia",
          "Falkland Islands (Islas Malvinas)",
          "Faroe Islands",
          "Fiji",
          "Finland",
          "France",
          "French Polynesia",
          "Gabon",
          "Gambia, The",
          "Georgia",
          "Germany",
          "Ghana",
          "Gibraltar",
          "Greece",
          "Greenland",
          "Grenada",
          "Guam",
          "Guatemala",
          "Guernsey",
          "Guinea-Bissau",
          "Guinea",
          "Guyana",
          "Haiti",
          "Honduras",
          "Hong Kong",
          "Hungary",
          "Iceland",
          "India",
          "Indonesia",
          "Iran",
          "Iraq",
          "Ireland",
          "Isle of Man",
          "Israel",
          "Italy",
          "Jamaica",
          "Japan",
          "Jersey",
          "Jordan",
          "Kazakhstan",
          "Kenya",
          "Kiribati",
          "Korea, North",
          "Korea, South",
          "Kosovo",
          "Kuwait",
          "Kyrgyzstan",
          "Laos",
          "Latvia",
          "Lebanon",
          "Lesotho",
          "Liberia",
          "Libya",
          "Liechtenstein",
          "Lithuania",
          "Luxembourg",
          "Macau",
          "Macedonia",
          "Madagascar",
          "Malawi",
          "Malaysia",
          "Maldives",
          "Mali",
          "Malta",
          "Marshall Islands",
          "Mauritania",
          "Mauritius",
          "Mexico",
          "Micronesia, Federated States of",
          "Moldova",
          "Monaco",
          "Mongolia",
          "Montenegro",
          "Morocco",
          "Mozambique",
          "Namibia",
          "Nepal",
          "Netherlands",
          "New Caledonia",
          "New Zealand",
          "Nicaragua",
          "Nigeria",
          "Niger",
          "Niue",
          "Northern Mariana Islands",
          "Norway",
          "Oman",
          "Pakistan",
          "Palau",
          "Panama",
          "Papua New Guinea",
          "Paraguay",
          "Peru",
          "Philippines",
          "Poland",
          "Portugal",
          "Puerto Rico",
          "Qatar",
          "Romania",
          "Russia",
          "Rwanda",
          "Saint Kitts and Nevis",
          "Saint Lucia",
          "Saint Martin",
          "Saint Pierre and Miquelon",
          "Saint Vincent and the Grenadines",
          "Samoa",
          "San Marino",
          "Sao Tome and Principe",
          "Saudi Arabia",
          "Senegal",
          "Serbia",
          "Seychelles",
          "Sierra Leone",
          "Singapore",
          "Sint Maarten",
          "Slovakia",
          "Slovenia",
          "Solomon Islands",
          "Somalia",
          "South Africa",
          "South Sudan",
          "Spain",
          "Sri Lanka",
          "Sudan",
          "Suriname",
          "Swaziland",
          "Sweden",
          "Switzerland",
          "Syria",
          "Taiwan",
          "Tajikistan",
          "Tanzania",
          "Thailand",
          "Timor-Leste",
          "Togo",
          "Tonga",
          "Trinidad and Tobago",
          "Tunisia",
          "Turkey",
          "Turkmenistan",
          "Tuvalu",
          "Uganda",
          "Ukraine",
          "United Arab Emirates",
          "United Kingdom",
          "United States",
          "Uruguay",
          "Uzbekistan",
          "Vanuatu",
          "Venezuela",
          "Vietnam",
          "Virgin Islands",
          "West Bank",
          "Yemen",
          "Zambia",
          "Zimbabwe"
         ],
         "type": "choropleth",
         "z": [
          21.71,
          13.4,
          227.8,
          0.75,
          4.8,
          131.4,
          0.18,
          1.24,
          536.2,
          10.88,
          2.52,
          1483,
          436.1,
          77.91,
          8.65,
          34.05,
          186.6,
          4.28,
          75.25,
          527.8,
          1.67,
          9.24,
          5.2,
          2.09,
          34.08,
          19.55,
          16.3,
          2244,
          1.1,
          17.43,
          55.08,
          13.38,
          65.29,
          3.04,
          1.98,
          16.9,
          32.16,
          1794,
          2.25,
          1.73,
          15.84,
          264.1,
          10360,
          400.1,
          0.72,
          32.67,
          14.11,
          0.18,
          50.46,
          33.96,
          57.18,
          77.15,
          5.6,
          21.34,
          205.6,
          347.2,
          1.58,
          0.51,
          64.05,
          100.5,
          284.9,
          25.14,
          15.4,
          3.87,
          26.36,
          49.86,
          0.16,
          2.32,
          4.17,
          276.3,
          2902,
          7.15,
          20.68,
          0.92,
          16.13,
          3820,
          35.48,
          1.85,
          246.4,
          2.16,
          0.84,
          4.6,
          58.3,
          2.74,
          1.04,
          6.77,
          3.14,
          8.92,
          19.37,
          292.7,
          129.7,
          16.2,
          2048,
          856.1,
          402.7,
          232.2,
          245.8,
          4.08,
          305,
          2129,
          13.92,
          4770,
          5.77,
          36.55,
          225.6,
          62.72,
          0.16,
          28,
          1410,
          5.99,
          179.3,
          7.65,
          11.71,
          32.82,
          47.5,
          2.46,
          2.07,
          49.34,
          5.11,
          48.72,
          63.93,
          51.68,
          10.92,
          11.19,
          4.41,
          336.9,
          2.41,
          12.04,
          10.57,
          0.18,
          4.29,
          12.72,
          1296,
          0.34,
          7.74,
          6.06,
          11.73,
          4.66,
          112.6,
          16.59,
          13.11,
          19.64,
          880.4,
          11.1,
          201,
          11.85,
          594.3,
          8.29,
          0.01,
          1.23,
          511.6,
          80.54,
          237.5,
          0.65,
          44.69,
          16.1,
          31.3,
          208.2,
          284.6,
          552.2,
          228.2,
          93.52,
          212,
          199,
          2057,
          8,
          0.81,
          1.35,
          0.56,
          0.22,
          0.75,
          0.83,
          1.86,
          0.36,
          777.9,
          15.88,
          42.65,
          1.47,
          5.41,
          307.9,
          304.1,
          99.75,
          49.93,
          1.16,
          2.37,
          341.2,
          11.89,
          1400,
          71.57,
          70.03,
          5.27,
          3.84,
          559.1,
          679,
          64.7,
          529.5,
          9.16,
          36.62,
          373.8,
          4.51,
          4.84,
          0.49,
          29.63,
          49.12,
          813.3,
          43.5,
          0.04,
          26.09,
          134.9,
          416.4,
          2848,
          17420,
          55.6,
          63.08,
          0.82,
          209.2,
          187.8,
          5.08,
          6.64,
          45.45,
          25.61,
          13.74
         ]
        }
       ],
       "layout": {
        "geo": {
         "projection": {
          "type": "mercator"
         },
         "scope": "world",
         "showframe": true
        },
        "template": {
         "data": {
          "bar": [
           {
            "error_x": {
             "color": "#2a3f5f"
            },
            "error_y": {
             "color": "#2a3f5f"
            },
            "marker": {
             "line": {
              "color": "#E5ECF6",
              "width": 0.5
             }
            },
            "type": "bar"
           }
          ],
          "barpolar": [
           {
            "marker": {
             "line": {
              "color": "#E5ECF6",
              "width": 0.5
             }
            },
            "type": "barpolar"
           }
          ],
          "carpet": [
           {
            "aaxis": {
             "endlinecolor": "#2a3f5f",
             "gridcolor": "white",
             "linecolor": "white",
             "minorgridcolor": "white",
             "startlinecolor": "#2a3f5f"
            },
            "baxis": {
             "endlinecolor": "#2a3f5f",
             "gridcolor": "white",
             "linecolor": "white",
             "minorgridcolor": "white",
             "startlinecolor": "#2a3f5f"
            },
            "type": "carpet"
           }
          ],
          "choropleth": [
           {
            "colorbar": {
             "outlinewidth": 0,
             "ticks": ""
            },
            "type": "choropleth"
           }
          ],
          "contour": [
           {
            "colorbar": {
             "outlinewidth": 0,
             "ticks": ""
            },
            "colorscale": [
             [
              0,
              "#0d0887"
             ],
             [
              0.1111111111111111,
              "#46039f"
             ],
             [
              0.2222222222222222,
              "#7201a8"
             ],
             [
              0.3333333333333333,
              "#9c179e"
             ],
             [
              0.4444444444444444,
              "#bd3786"
             ],
             [
              0.5555555555555556,
              "#d8576b"
             ],
             [
              0.6666666666666666,
              "#ed7953"
             ],
             [
              0.7777777777777778,
              "#fb9f3a"
             ],
             [
              0.8888888888888888,
              "#fdca26"
             ],
             [
              1,
              "#f0f921"
             ]
            ],
            "type": "contour"
           }
          ],
          "contourcarpet": [
           {
            "colorbar": {
             "outlinewidth": 0,
             "ticks": ""
            },
            "type": "contourcarpet"
           }
          ],
          "heatmap": [
           {
            "colorbar": {
             "outlinewidth": 0,
             "ticks": ""
            },
            "colorscale": [
             [
              0,
              "#0d0887"
             ],
             [
              0.1111111111111111,
              "#46039f"
             ],
             [
              0.2222222222222222,
              "#7201a8"
             ],
             [
              0.3333333333333333,
              "#9c179e"
             ],
             [
              0.4444444444444444,
              "#bd3786"
             ],
             [
              0.5555555555555556,
              "#d8576b"
             ],
             [
              0.6666666666666666,
              "#ed7953"
             ],
             [
              0.7777777777777778,
              "#fb9f3a"
             ],
             [
              0.8888888888888888,
              "#fdca26"
             ],
             [
              1,
              "#f0f921"
             ]
            ],
            "type": "heatmap"
           }
          ],
          "heatmapgl": [
           {
            "colorbar": {
             "outlinewidth": 0,
             "ticks": ""
            },
            "colorscale": [
             [
              0,
              "#0d0887"
             ],
             [
              0.1111111111111111,
              "#46039f"
             ],
             [
              0.2222222222222222,
              "#7201a8"
             ],
             [
              0.3333333333333333,
              "#9c179e"
             ],
             [
              0.4444444444444444,
              "#bd3786"
             ],
             [
              0.5555555555555556,
              "#d8576b"
             ],
             [
              0.6666666666666666,
              "#ed7953"
             ],
             [
              0.7777777777777778,
              "#fb9f3a"
             ],
             [
              0.8888888888888888,
              "#fdca26"
             ],
             [
              1,
              "#f0f921"
             ]
            ],
            "type": "heatmapgl"
           }
          ],
          "histogram": [
           {
            "marker": {
             "colorbar": {
              "outlinewidth": 0,
              "ticks": ""
             }
            },
            "type": "histogram"
           }
          ],
          "histogram2d": [
           {
            "colorbar": {
             "outlinewidth": 0,
             "ticks": ""
            },
            "colorscale": [
             [
              0,
              "#0d0887"
             ],
             [
              0.1111111111111111,
              "#46039f"
             ],
             [
              0.2222222222222222,
              "#7201a8"
             ],
             [
              0.3333333333333333,
              "#9c179e"
             ],
             [
              0.4444444444444444,
              "#bd3786"
             ],
             [
              0.5555555555555556,
              "#d8576b"
             ],
             [
              0.6666666666666666,
              "#ed7953"
             ],
             [
              0.7777777777777778,
              "#fb9f3a"
             ],
             [
              0.8888888888888888,
              "#fdca26"
             ],
             [
              1,
              "#f0f921"
             ]
            ],
            "type": "histogram2d"
           }
          ],
          "histogram2dcontour": [
           {
            "colorbar": {
             "outlinewidth": 0,
             "ticks": ""
            },
            "colorscale": [
             [
              0,
              "#0d0887"
             ],
             [
              0.1111111111111111,
              "#46039f"
             ],
             [
              0.2222222222222222,
              "#7201a8"
             ],
             [
              0.3333333333333333,
              "#9c179e"
             ],
             [
              0.4444444444444444,
              "#bd3786"
             ],
             [
              0.5555555555555556,
              "#d8576b"
             ],
             [
              0.6666666666666666,
              "#ed7953"
             ],
             [
              0.7777777777777778,
              "#fb9f3a"
             ],
             [
              0.8888888888888888,
              "#fdca26"
             ],
             [
              1,
              "#f0f921"
             ]
            ],
            "type": "histogram2dcontour"
           }
          ],
          "mesh3d": [
           {
            "colorbar": {
             "outlinewidth": 0,
             "ticks": ""
            },
            "type": "mesh3d"
           }
          ],
          "parcoords": [
           {
            "line": {
             "colorbar": {
              "outlinewidth": 0,
              "ticks": ""
             }
            },
            "type": "parcoords"
           }
          ],
          "pie": [
           {
            "automargin": true,
            "type": "pie"
           }
          ],
          "scatter": [
           {
            "marker": {
             "colorbar": {
              "outlinewidth": 0,
              "ticks": ""
             }
            },
            "type": "scatter"
           }
          ],
          "scatter3d": [
           {
            "line": {
             "colorbar": {
              "outlinewidth": 0,
              "ticks": ""
             }
            },
            "marker": {
             "colorbar": {
              "outlinewidth": 0,
              "ticks": ""
             }
            },
            "type": "scatter3d"
           }
          ],
          "scattercarpet": [
           {
            "marker": {
             "colorbar": {
              "outlinewidth": 0,
              "ticks": ""
             }
            },
            "type": "scattercarpet"
           }
          ],
          "scattergeo": [
           {
            "marker": {
             "colorbar": {
              "outlinewidth": 0,
              "ticks": ""
             }
            },
            "type": "scattergeo"
           }
          ],
          "scattergl": [
           {
            "marker": {
             "colorbar": {
              "outlinewidth": 0,
              "ticks": ""
             }
            },
            "type": "scattergl"
           }
          ],
          "scattermapbox": [
           {
            "marker": {
             "colorbar": {
              "outlinewidth": 0,
              "ticks": ""
             }
            },
            "type": "scattermapbox"
           }
          ],
          "scatterpolar": [
           {
            "marker": {
             "colorbar": {
              "outlinewidth": 0,
              "ticks": ""
             }
            },
            "type": "scatterpolar"
           }
          ],
          "scatterpolargl": [
           {
            "marker": {
             "colorbar": {
              "outlinewidth": 0,
              "ticks": ""
             }
            },
            "type": "scatterpolargl"
           }
          ],
          "scatterternary": [
           {
            "marker": {
             "colorbar": {
              "outlinewidth": 0,
              "ticks": ""
             }
            },
            "type": "scatterternary"
           }
          ],
          "surface": [
           {
            "colorbar": {
             "outlinewidth": 0,
             "ticks": ""
            },
            "colorscale": [
             [
              0,
              "#0d0887"
             ],
             [
              0.1111111111111111,
              "#46039f"
             ],
             [
              0.2222222222222222,
              "#7201a8"
             ],
             [
              0.3333333333333333,
              "#9c179e"
             ],
             [
              0.4444444444444444,
              "#bd3786"
             ],
             [
              0.5555555555555556,
              "#d8576b"
             ],
             [
              0.6666666666666666,
              "#ed7953"
             ],
             [
              0.7777777777777778,
              "#fb9f3a"
             ],
             [
              0.8888888888888888,
              "#fdca26"
             ],
             [
              1,
              "#f0f921"
             ]
            ],
            "type": "surface"
           }
          ],
          "table": [
           {
            "cells": {
             "fill": {
              "color": "#EBF0F8"
             },
             "line": {
              "color": "white"
             }
            },
            "header": {
             "fill": {
              "color": "#C8D4E3"
             },
             "line": {
              "color": "white"
             }
            },
            "type": "table"
           }
          ]
         },
         "layout": {
          "annotationdefaults": {
           "arrowcolor": "#2a3f5f",
           "arrowhead": 0,
           "arrowwidth": 1
          },
          "autotypenumbers": "strict",
          "coloraxis": {
           "colorbar": {
            "outlinewidth": 0,
            "ticks": ""
           }
          },
          "colorscale": {
           "diverging": [
            [
             0,
             "#8e0152"
            ],
            [
             0.1,
             "#c51b7d"
            ],
            [
             0.2,
             "#de77ae"
            ],
            [
             0.3,
             "#f1b6da"
            ],
            [
             0.4,
             "#fde0ef"
            ],
            [
             0.5,
             "#f7f7f7"
            ],
            [
             0.6,
             "#e6f5d0"
            ],
            [
             0.7,
             "#b8e186"
            ],
            [
             0.8,
             "#7fbc41"
            ],
            [
             0.9,
             "#4d9221"
            ],
            [
             1,
             "#276419"
            ]
           ],
           "sequential": [
            [
             0,
             "#0d0887"
            ],
            [
             0.1111111111111111,
             "#46039f"
            ],
            [
             0.2222222222222222,
             "#7201a8"
            ],
            [
             0.3333333333333333,
             "#9c179e"
            ],
            [
             0.4444444444444444,
             "#bd3786"
            ],
            [
             0.5555555555555556,
             "#d8576b"
            ],
            [
             0.6666666666666666,
             "#ed7953"
            ],
            [
             0.7777777777777778,
             "#fb9f3a"
            ],
            [
             0.8888888888888888,
             "#fdca26"
            ],
            [
             1,
             "#f0f921"
            ]
           ],
           "sequentialminus": [
            [
             0,
             "#0d0887"
            ],
            [
             0.1111111111111111,
             "#46039f"
            ],
            [
             0.2222222222222222,
             "#7201a8"
            ],
            [
             0.3333333333333333,
             "#9c179e"
            ],
            [
             0.4444444444444444,
             "#bd3786"
            ],
            [
             0.5555555555555556,
             "#d8576b"
            ],
            [
             0.6666666666666666,
             "#ed7953"
            ],
            [
             0.7777777777777778,
             "#fb9f3a"
            ],
            [
             0.8888888888888888,
             "#fdca26"
            ],
            [
             1,
             "#f0f921"
            ]
           ]
          },
          "colorway": [
           "#636efa",
           "#EF553B",
           "#00cc96",
           "#ab63fa",
           "#FFA15A",
           "#19d3f3",
           "#FF6692",
           "#B6E880",
           "#FF97FF",
           "#FECB52"
          ],
          "font": {
           "color": "#2a3f5f"
          },
          "geo": {
           "bgcolor": "white",
           "lakecolor": "white",
           "landcolor": "#E5ECF6",
           "showlakes": true,
           "showland": true,
           "subunitcolor": "white"
          },
          "hoverlabel": {
           "align": "left"
          },
          "hovermode": "closest",
          "mapbox": {
           "style": "light"
          },
          "paper_bgcolor": "white",
          "plot_bgcolor": "#E5ECF6",
          "polar": {
           "angularaxis": {
            "gridcolor": "white",
            "linecolor": "white",
            "ticks": ""
           },
           "bgcolor": "#E5ECF6",
           "radialaxis": {
            "gridcolor": "white",
            "linecolor": "white",
            "ticks": ""
           }
          },
          "scene": {
           "xaxis": {
            "backgroundcolor": "#E5ECF6",
            "gridcolor": "white",
            "gridwidth": 2,
            "linecolor": "white",
            "showbackground": true,
            "ticks": "",
            "zerolinecolor": "white"
           },
           "yaxis": {
            "backgroundcolor": "#E5ECF6",
            "gridcolor": "white",
            "gridwidth": 2,
            "linecolor": "white",
            "showbackground": true,
            "ticks": "",
            "zerolinecolor": "white"
           },
           "zaxis": {
            "backgroundcolor": "#E5ECF6",
            "gridcolor": "white",
            "gridwidth": 2,
            "linecolor": "white",
            "showbackground": true,
            "ticks": "",
            "zerolinecolor": "white"
           }
          },
          "shapedefaults": {
           "line": {
            "color": "#2a3f5f"
           }
          },
          "ternary": {
           "aaxis": {
            "gridcolor": "white",
            "linecolor": "white",
            "ticks": ""
           },
           "baxis": {
            "gridcolor": "white",
            "linecolor": "white",
            "ticks": ""
           },
           "bgcolor": "#E5ECF6",
           "caxis": {
            "gridcolor": "white",
            "linecolor": "white",
            "ticks": ""
           }
          },
          "title": {
           "x": 0.05
          },
          "xaxis": {
           "automargin": true,
           "gridcolor": "white",
           "linecolor": "white",
           "ticks": "",
           "title": {
            "standoff": 15
           },
           "zerolinecolor": "white",
           "zerolinewidth": 2
          },
          "yaxis": {
           "automargin": true,
           "gridcolor": "white",
           "linecolor": "white",
           "ticks": "",
           "title": {
            "standoff": 15
           },
           "zerolinecolor": "white",
           "zerolinewidth": 2
          }
         }
        },
        "title": {
         "text": "2014 Global GDP"
        }
       }
      },
      "text/html": [
       "<div>                            <div id=\"d1143136-207c-4db9-8bb2-199dc6103a25\" class=\"plotly-graph-div\" style=\"height:525px; width:100%;\"></div>            <script type=\"text/javascript\">                require([\"plotly\"], function(Plotly) {                    window.PLOTLYENV=window.PLOTLYENV || {};                                    if (document.getElementById(\"d1143136-207c-4db9-8bb2-199dc6103a25\")) {                    Plotly.newPlot(                        \"d1143136-207c-4db9-8bb2-199dc6103a25\",                        [{\"colorbar\": {\"title\": {\"text\": \"GDP\"}}, \"colorscale\": [[0.0, \"rgb(255,255,204)\"], [0.125, \"rgb(255,237,160)\"], [0.25, \"rgb(254,217,118)\"], [0.375, \"rgb(254,178,76)\"], [0.5, \"rgb(253,141,60)\"], [0.625, \"rgb(252,78,42)\"], [0.75, \"rgb(227,26,28)\"], [0.875, \"rgb(189,0,38)\"], [1.0, \"rgb(128,0,38)\"]], \"locationmode\": \"ISO-3\", \"locations\": [\"AFG\", \"ALB\", \"DZA\", \"ASM\", \"AND\", \"AGO\", \"AIA\", \"ATG\", \"ARG\", \"ARM\", \"ABW\", \"AUS\", \"AUT\", \"AZE\", \"BHM\", \"BHR\", \"BGD\", \"BRB\", \"BLR\", \"BEL\", \"BLZ\", \"BEN\", \"BMU\", \"BTN\", \"BOL\", \"BIH\", \"BWA\", \"BRA\", \"VGB\", \"BRN\", \"BGR\", \"BFA\", \"MMR\", \"BDI\", \"CPV\", \"KHM\", \"CMR\", \"CAN\", \"CYM\", \"CAF\", \"TCD\", \"CHL\", \"CHN\", \"COL\", \"COM\", \"COD\", \"COG\", \"COK\", \"CRI\", \"CIV\", \"HRV\", \"CUB\", \"CUW\", \"CYP\", \"CZE\", \"DNK\", \"DJI\", \"DMA\", \"DOM\", \"ECU\", \"EGY\", \"SLV\", \"GNQ\", \"ERI\", \"EST\", \"ETH\", \"FLK\", \"FRO\", \"FJI\", \"FIN\", \"FRA\", \"PYF\", \"GAB\", \"GMB\", \"GEO\", \"DEU\", \"GHA\", \"GIB\", \"GRC\", \"GRL\", \"GRD\", \"GUM\", \"GTM\", \"GGY\", \"GNB\", \"GIN\", \"GUY\", \"HTI\", \"HND\", \"HKG\", \"HUN\", \"ISL\", \"IND\", \"IDN\", \"IRN\", \"IRQ\", \"IRL\", \"IMN\", \"ISR\", \"ITA\", \"JAM\", \"JPN\", \"JEY\", \"JOR\", \"KAZ\", \"KEN\", \"KIR\", \"KOR\", \"PRK\", \"KSV\", \"KWT\", \"KGZ\", \"LAO\", \"LVA\", \"LBN\", \"LSO\", \"LBR\", \"LBY\", \"LIE\", \"LTU\", \"LUX\", \"MAC\", \"MKD\", \"MDG\", \"MWI\", \"MYS\", \"MDV\", \"MLI\", \"MLT\", \"MHL\", \"MRT\", \"MUS\", \"MEX\", \"FSM\", \"MDA\", \"MCO\", \"MNG\", \"MNE\", \"MAR\", \"MOZ\", \"NAM\", \"NPL\", \"NLD\", \"NCL\", \"NZL\", \"NIC\", \"NGA\", \"NER\", \"NIU\", \"MNP\", \"NOR\", \"OMN\", \"PAK\", \"PLW\", \"PAN\", \"PNG\", \"PRY\", \"PER\", \"PHL\", \"POL\", \"PRT\", \"PRI\", \"QAT\", \"ROU\", \"RUS\", \"RWA\", \"KNA\", \"LCA\", \"MAF\", \"SPM\", \"VCT\", \"WSM\", \"SMR\", \"STP\", \"SAU\", \"SEN\", \"SRB\", \"SYC\", \"SLE\", \"SGP\", \"SXM\", \"SVK\", \"SVN\", \"SLB\", \"SOM\", \"ZAF\", \"SSD\", \"ESP\", \"LKA\", \"SDN\", \"SUR\", \"SWZ\", \"SWE\", \"CHE\", \"SYR\", \"TWN\", \"TJK\", \"TZA\", \"THA\", \"TLS\", \"TGO\", \"TON\", \"TTO\", \"TUN\", \"TUR\", \"TKM\", \"TUV\", \"UGA\", \"UKR\", \"ARE\", \"GBR\", \"USA\", \"URY\", \"UZB\", \"VUT\", \"VEN\", \"VNM\", \"VGB\", \"WBG\", \"YEM\", \"ZMB\", \"ZWE\"], \"text\": [\"Afghanistan\", \"Albania\", \"Algeria\", \"American Samoa\", \"Andorra\", \"Angola\", \"Anguilla\", \"Antigua and Barbuda\", \"Argentina\", \"Armenia\", \"Aruba\", \"Australia\", \"Austria\", \"Azerbaijan\", \"Bahamas, The\", \"Bahrain\", \"Bangladesh\", \"Barbados\", \"Belarus\", \"Belgium\", \"Belize\", \"Benin\", \"Bermuda\", \"Bhutan\", \"Bolivia\", \"Bosnia and Herzegovina\", \"Botswana\", \"Brazil\", \"British Virgin Islands\", \"Brunei\", \"Bulgaria\", \"Burkina Faso\", \"Burma\", \"Burundi\", \"Cabo Verde\", \"Cambodia\", \"Cameroon\", \"Canada\", \"Cayman Islands\", \"Central African Republic\", \"Chad\", \"Chile\", \"China\", \"Colombia\", \"Comoros\", \"Congo, Democratic Republic of the\", \"Congo, Republic of the\", \"Cook Islands\", \"Costa Rica\", \"Cote d'Ivoire\", \"Croatia\", \"Cuba\", \"Curacao\", \"Cyprus\", \"Czech Republic\", \"Denmark\", \"Djibouti\", \"Dominica\", \"Dominican Republic\", \"Ecuador\", \"Egypt\", \"El Salvador\", \"Equatorial Guinea\", \"Eritrea\", \"Estonia\", \"Ethiopia\", \"Falkland Islands (Islas Malvinas)\", \"Faroe Islands\", \"Fiji\", \"Finland\", \"France\", \"French Polynesia\", \"Gabon\", \"Gambia, The\", \"Georgia\", \"Germany\", \"Ghana\", \"Gibraltar\", \"Greece\", \"Greenland\", \"Grenada\", \"Guam\", \"Guatemala\", \"Guernsey\", \"Guinea-Bissau\", \"Guinea\", \"Guyana\", \"Haiti\", \"Honduras\", \"Hong Kong\", \"Hungary\", \"Iceland\", \"India\", \"Indonesia\", \"Iran\", \"Iraq\", \"Ireland\", \"Isle of Man\", \"Israel\", \"Italy\", \"Jamaica\", \"Japan\", \"Jersey\", \"Jordan\", \"Kazakhstan\", \"Kenya\", \"Kiribati\", \"Korea, North\", \"Korea, South\", \"Kosovo\", \"Kuwait\", \"Kyrgyzstan\", \"Laos\", \"Latvia\", \"Lebanon\", \"Lesotho\", \"Liberia\", \"Libya\", \"Liechtenstein\", \"Lithuania\", \"Luxembourg\", \"Macau\", \"Macedonia\", \"Madagascar\", \"Malawi\", \"Malaysia\", \"Maldives\", \"Mali\", \"Malta\", \"Marshall Islands\", \"Mauritania\", \"Mauritius\", \"Mexico\", \"Micronesia, Federated States of\", \"Moldova\", \"Monaco\", \"Mongolia\", \"Montenegro\", \"Morocco\", \"Mozambique\", \"Namibia\", \"Nepal\", \"Netherlands\", \"New Caledonia\", \"New Zealand\", \"Nicaragua\", \"Nigeria\", \"Niger\", \"Niue\", \"Northern Mariana Islands\", \"Norway\", \"Oman\", \"Pakistan\", \"Palau\", \"Panama\", \"Papua New Guinea\", \"Paraguay\", \"Peru\", \"Philippines\", \"Poland\", \"Portugal\", \"Puerto Rico\", \"Qatar\", \"Romania\", \"Russia\", \"Rwanda\", \"Saint Kitts and Nevis\", \"Saint Lucia\", \"Saint Martin\", \"Saint Pierre and Miquelon\", \"Saint Vincent and the Grenadines\", \"Samoa\", \"San Marino\", \"Sao Tome and Principe\", \"Saudi Arabia\", \"Senegal\", \"Serbia\", \"Seychelles\", \"Sierra Leone\", \"Singapore\", \"Sint Maarten\", \"Slovakia\", \"Slovenia\", \"Solomon Islands\", \"Somalia\", \"South Africa\", \"South Sudan\", \"Spain\", \"Sri Lanka\", \"Sudan\", \"Suriname\", \"Swaziland\", \"Sweden\", \"Switzerland\", \"Syria\", \"Taiwan\", \"Tajikistan\", \"Tanzania\", \"Thailand\", \"Timor-Leste\", \"Togo\", \"Tonga\", \"Trinidad and Tobago\", \"Tunisia\", \"Turkey\", \"Turkmenistan\", \"Tuvalu\", \"Uganda\", \"Ukraine\", \"United Arab Emirates\", \"United Kingdom\", \"United States\", \"Uruguay\", \"Uzbekistan\", \"Vanuatu\", \"Venezuela\", \"Vietnam\", \"Virgin Islands\", \"West Bank\", \"Yemen\", \"Zambia\", \"Zimbabwe\"], \"type\": \"choropleth\", \"z\": [21.71, 13.4, 227.8, 0.75, 4.8, 131.4, 0.18, 1.24, 536.2, 10.88, 2.52, 1483.0, 436.1, 77.91, 8.65, 34.05, 186.6, 4.28, 75.25, 527.8, 1.67, 9.24, 5.2, 2.09, 34.08, 19.55, 16.3, 2244.0, 1.1, 17.43, 55.08, 13.38, 65.29, 3.04, 1.98, 16.9, 32.16, 1794.0, 2.25, 1.73, 15.84, 264.1, 10360.0, 400.1, 0.72, 32.67, 14.11, 0.18, 50.46, 33.96, 57.18, 77.15, 5.6, 21.34, 205.6, 347.2, 1.58, 0.51, 64.05, 100.5, 284.9, 25.14, 15.4, 3.87, 26.36, 49.86, 0.16, 2.32, 4.17, 276.3, 2902.0, 7.15, 20.68, 0.92, 16.13, 3820.0, 35.48, 1.85, 246.4, 2.16, 0.84, 4.6, 58.3, 2.74, 1.04, 6.77, 3.14, 8.92, 19.37, 292.7, 129.7, 16.2, 2048.0, 856.1, 402.7, 232.2, 245.8, 4.08, 305.0, 2129.0, 13.92, 4770.0, 5.77, 36.55, 225.6, 62.72, 0.16, 28.0, 1410.0, 5.99, 179.3, 7.65, 11.71, 32.82, 47.5, 2.46, 2.07, 49.34, 5.11, 48.72, 63.93, 51.68, 10.92, 11.19, 4.41, 336.9, 2.41, 12.04, 10.57, 0.18, 4.29, 12.72, 1296.0, 0.34, 7.74, 6.06, 11.73, 4.66, 112.6, 16.59, 13.11, 19.64, 880.4, 11.1, 201.0, 11.85, 594.3, 8.29, 0.01, 1.23, 511.6, 80.54, 237.5, 0.65, 44.69, 16.1, 31.3, 208.2, 284.6, 552.2, 228.2, 93.52, 212.0, 199.0, 2057.0, 8.0, 0.81, 1.35, 0.56, 0.22, 0.75, 0.83, 1.86, 0.36, 777.9, 15.88, 42.65, 1.47, 5.41, 307.9, 304.1, 99.75, 49.93, 1.16, 2.37, 341.2, 11.89, 1400.0, 71.57, 70.03, 5.27, 3.84, 559.1, 679.0, 64.7, 529.5, 9.16, 36.62, 373.8, 4.51, 4.84, 0.49, 29.63, 49.12, 813.3, 43.5, 0.04, 26.09, 134.9, 416.4, 2848.0, 17420.0, 55.6, 63.08, 0.82, 209.2, 187.8, 5.08, 6.64, 45.45, 25.61, 13.74]}],                        {\"geo\": {\"projection\": {\"type\": \"mercator\"}, \"scope\": \"world\", \"showframe\": true}, \"template\": {\"data\": {\"bar\": [{\"error_x\": {\"color\": \"#2a3f5f\"}, \"error_y\": {\"color\": \"#2a3f5f\"}, \"marker\": {\"line\": {\"color\": \"#E5ECF6\", \"width\": 0.5}}, \"type\": \"bar\"}], \"barpolar\": [{\"marker\": {\"line\": {\"color\": \"#E5ECF6\", \"width\": 0.5}}, \"type\": \"barpolar\"}], \"carpet\": [{\"aaxis\": {\"endlinecolor\": \"#2a3f5f\", \"gridcolor\": \"white\", \"linecolor\": \"white\", \"minorgridcolor\": \"white\", \"startlinecolor\": \"#2a3f5f\"}, \"baxis\": {\"endlinecolor\": \"#2a3f5f\", \"gridcolor\": \"white\", \"linecolor\": \"white\", \"minorgridcolor\": \"white\", \"startlinecolor\": \"#2a3f5f\"}, \"type\": \"carpet\"}], \"choropleth\": [{\"colorbar\": {\"outlinewidth\": 0, \"ticks\": \"\"}, \"type\": \"choropleth\"}], \"contour\": [{\"colorbar\": {\"outlinewidth\": 0, \"ticks\": \"\"}, \"colorscale\": [[0.0, \"#0d0887\"], [0.1111111111111111, \"#46039f\"], [0.2222222222222222, \"#7201a8\"], [0.3333333333333333, \"#9c179e\"], [0.4444444444444444, \"#bd3786\"], [0.5555555555555556, \"#d8576b\"], [0.6666666666666666, \"#ed7953\"], [0.7777777777777778, \"#fb9f3a\"], [0.8888888888888888, \"#fdca26\"], [1.0, \"#f0f921\"]], \"type\": \"contour\"}], \"contourcarpet\": [{\"colorbar\": {\"outlinewidth\": 0, \"ticks\": \"\"}, \"type\": \"contourcarpet\"}], \"heatmap\": [{\"colorbar\": {\"outlinewidth\": 0, \"ticks\": \"\"}, \"colorscale\": [[0.0, \"#0d0887\"], [0.1111111111111111, \"#46039f\"], [0.2222222222222222, \"#7201a8\"], [0.3333333333333333, \"#9c179e\"], [0.4444444444444444, \"#bd3786\"], [0.5555555555555556, \"#d8576b\"], [0.6666666666666666, \"#ed7953\"], [0.7777777777777778, \"#fb9f3a\"], [0.8888888888888888, \"#fdca26\"], [1.0, \"#f0f921\"]], \"type\": \"heatmap\"}], \"heatmapgl\": [{\"colorbar\": {\"outlinewidth\": 0, \"ticks\": \"\"}, \"colorscale\": [[0.0, \"#0d0887\"], [0.1111111111111111, \"#46039f\"], [0.2222222222222222, \"#7201a8\"], [0.3333333333333333, \"#9c179e\"], [0.4444444444444444, \"#bd3786\"], [0.5555555555555556, \"#d8576b\"], [0.6666666666666666, \"#ed7953\"], [0.7777777777777778, \"#fb9f3a\"], [0.8888888888888888, \"#fdca26\"], [1.0, \"#f0f921\"]], \"type\": \"heatmapgl\"}], \"histogram\": [{\"marker\": {\"colorbar\": {\"outlinewidth\": 0, \"ticks\": \"\"}}, \"type\": \"histogram\"}], \"histogram2d\": [{\"colorbar\": {\"outlinewidth\": 0, \"ticks\": \"\"}, \"colorscale\": [[0.0, \"#0d0887\"], [0.1111111111111111, \"#46039f\"], [0.2222222222222222, \"#7201a8\"], [0.3333333333333333, \"#9c179e\"], [0.4444444444444444, \"#bd3786\"], [0.5555555555555556, \"#d8576b\"], [0.6666666666666666, \"#ed7953\"], [0.7777777777777778, \"#fb9f3a\"], [0.8888888888888888, \"#fdca26\"], [1.0, \"#f0f921\"]], \"type\": \"histogram2d\"}], \"histogram2dcontour\": [{\"colorbar\": {\"outlinewidth\": 0, \"ticks\": \"\"}, \"colorscale\": [[0.0, \"#0d0887\"], [0.1111111111111111, \"#46039f\"], [0.2222222222222222, \"#7201a8\"], [0.3333333333333333, \"#9c179e\"], [0.4444444444444444, \"#bd3786\"], [0.5555555555555556, \"#d8576b\"], [0.6666666666666666, \"#ed7953\"], [0.7777777777777778, \"#fb9f3a\"], [0.8888888888888888, \"#fdca26\"], [1.0, \"#f0f921\"]], \"type\": \"histogram2dcontour\"}], \"mesh3d\": [{\"colorbar\": {\"outlinewidth\": 0, \"ticks\": \"\"}, \"type\": \"mesh3d\"}], \"parcoords\": [{\"line\": {\"colorbar\": {\"outlinewidth\": 0, \"ticks\": \"\"}}, \"type\": \"parcoords\"}], \"pie\": [{\"automargin\": true, \"type\": \"pie\"}], \"scatter\": [{\"marker\": {\"colorbar\": {\"outlinewidth\": 0, \"ticks\": \"\"}}, \"type\": \"scatter\"}], \"scatter3d\": [{\"line\": {\"colorbar\": {\"outlinewidth\": 0, \"ticks\": \"\"}}, \"marker\": {\"colorbar\": {\"outlinewidth\": 0, \"ticks\": \"\"}}, \"type\": \"scatter3d\"}], \"scattercarpet\": [{\"marker\": {\"colorbar\": {\"outlinewidth\": 0, \"ticks\": \"\"}}, \"type\": \"scattercarpet\"}], \"scattergeo\": [{\"marker\": {\"colorbar\": {\"outlinewidth\": 0, \"ticks\": \"\"}}, \"type\": \"scattergeo\"}], \"scattergl\": [{\"marker\": {\"colorbar\": {\"outlinewidth\": 0, \"ticks\": \"\"}}, \"type\": \"scattergl\"}], \"scattermapbox\": [{\"marker\": {\"colorbar\": {\"outlinewidth\": 0, \"ticks\": \"\"}}, \"type\": \"scattermapbox\"}], \"scatterpolar\": [{\"marker\": {\"colorbar\": {\"outlinewidth\": 0, \"ticks\": \"\"}}, \"type\": \"scatterpolar\"}], \"scatterpolargl\": [{\"marker\": {\"colorbar\": {\"outlinewidth\": 0, \"ticks\": \"\"}}, \"type\": \"scatterpolargl\"}], \"scatterternary\": [{\"marker\": {\"colorbar\": {\"outlinewidth\": 0, \"ticks\": \"\"}}, \"type\": \"scatterternary\"}], \"surface\": [{\"colorbar\": {\"outlinewidth\": 0, \"ticks\": \"\"}, \"colorscale\": [[0.0, \"#0d0887\"], [0.1111111111111111, \"#46039f\"], [0.2222222222222222, \"#7201a8\"], [0.3333333333333333, \"#9c179e\"], [0.4444444444444444, \"#bd3786\"], [0.5555555555555556, \"#d8576b\"], [0.6666666666666666, \"#ed7953\"], [0.7777777777777778, \"#fb9f3a\"], [0.8888888888888888, \"#fdca26\"], [1.0, \"#f0f921\"]], \"type\": \"surface\"}], \"table\": [{\"cells\": {\"fill\": {\"color\": \"#EBF0F8\"}, \"line\": {\"color\": \"white\"}}, \"header\": {\"fill\": {\"color\": \"#C8D4E3\"}, \"line\": {\"color\": \"white\"}}, \"type\": \"table\"}]}, \"layout\": {\"annotationdefaults\": {\"arrowcolor\": \"#2a3f5f\", \"arrowhead\": 0, \"arrowwidth\": 1}, \"autotypenumbers\": \"strict\", \"coloraxis\": {\"colorbar\": {\"outlinewidth\": 0, \"ticks\": \"\"}}, \"colorscale\": {\"diverging\": [[0, \"#8e0152\"], [0.1, \"#c51b7d\"], [0.2, \"#de77ae\"], [0.3, \"#f1b6da\"], [0.4, \"#fde0ef\"], [0.5, \"#f7f7f7\"], [0.6, \"#e6f5d0\"], [0.7, \"#b8e186\"], [0.8, \"#7fbc41\"], [0.9, \"#4d9221\"], [1, \"#276419\"]], \"sequential\": [[0.0, \"#0d0887\"], [0.1111111111111111, \"#46039f\"], [0.2222222222222222, \"#7201a8\"], [0.3333333333333333, \"#9c179e\"], [0.4444444444444444, \"#bd3786\"], [0.5555555555555556, \"#d8576b\"], [0.6666666666666666, \"#ed7953\"], [0.7777777777777778, \"#fb9f3a\"], [0.8888888888888888, \"#fdca26\"], [1.0, \"#f0f921\"]], \"sequentialminus\": [[0.0, \"#0d0887\"], [0.1111111111111111, \"#46039f\"], [0.2222222222222222, \"#7201a8\"], [0.3333333333333333, \"#9c179e\"], [0.4444444444444444, \"#bd3786\"], [0.5555555555555556, \"#d8576b\"], [0.6666666666666666, \"#ed7953\"], [0.7777777777777778, \"#fb9f3a\"], [0.8888888888888888, \"#fdca26\"], [1.0, \"#f0f921\"]]}, \"colorway\": [\"#636efa\", \"#EF553B\", \"#00cc96\", \"#ab63fa\", \"#FFA15A\", \"#19d3f3\", \"#FF6692\", \"#B6E880\", \"#FF97FF\", \"#FECB52\"], \"font\": {\"color\": \"#2a3f5f\"}, \"geo\": {\"bgcolor\": \"white\", \"lakecolor\": \"white\", \"landcolor\": \"#E5ECF6\", \"showlakes\": true, \"showland\": true, \"subunitcolor\": \"white\"}, \"hoverlabel\": {\"align\": \"left\"}, \"hovermode\": \"closest\", \"mapbox\": {\"style\": \"light\"}, \"paper_bgcolor\": \"white\", \"plot_bgcolor\": \"#E5ECF6\", \"polar\": {\"angularaxis\": {\"gridcolor\": \"white\", \"linecolor\": \"white\", \"ticks\": \"\"}, \"bgcolor\": \"#E5ECF6\", \"radialaxis\": {\"gridcolor\": \"white\", \"linecolor\": \"white\", \"ticks\": \"\"}}, \"scene\": {\"xaxis\": {\"backgroundcolor\": \"#E5ECF6\", \"gridcolor\": \"white\", \"gridwidth\": 2, \"linecolor\": \"white\", \"showbackground\": true, \"ticks\": \"\", \"zerolinecolor\": \"white\"}, \"yaxis\": {\"backgroundcolor\": \"#E5ECF6\", \"gridcolor\": \"white\", \"gridwidth\": 2, \"linecolor\": \"white\", \"showbackground\": true, \"ticks\": \"\", \"zerolinecolor\": \"white\"}, \"zaxis\": {\"backgroundcolor\": \"#E5ECF6\", \"gridcolor\": \"white\", \"gridwidth\": 2, \"linecolor\": \"white\", \"showbackground\": true, \"ticks\": \"\", \"zerolinecolor\": \"white\"}}, \"shapedefaults\": {\"line\": {\"color\": \"#2a3f5f\"}}, \"ternary\": {\"aaxis\": {\"gridcolor\": \"white\", \"linecolor\": \"white\", \"ticks\": \"\"}, \"baxis\": {\"gridcolor\": \"white\", \"linecolor\": \"white\", \"ticks\": \"\"}, \"bgcolor\": \"#E5ECF6\", \"caxis\": {\"gridcolor\": \"white\", \"linecolor\": \"white\", \"ticks\": \"\"}}, \"title\": {\"x\": 0.05}, \"xaxis\": {\"automargin\": true, \"gridcolor\": \"white\", \"linecolor\": \"white\", \"ticks\": \"\", \"title\": {\"standoff\": 15}, \"zerolinecolor\": \"white\", \"zerolinewidth\": 2}, \"yaxis\": {\"automargin\": true, \"gridcolor\": \"white\", \"linecolor\": \"white\", \"ticks\": \"\", \"title\": {\"standoff\": 15}, \"zerolinecolor\": \"white\", \"zerolinewidth\": 2}}}, \"title\": {\"text\": \"2014 Global GDP\"}},                        {\"responsive\": true}                    ).then(function(){\n",
       "                            \n",
       "var gd = document.getElementById('d1143136-207c-4db9-8bb2-199dc6103a25');\n",
       "var x = new MutationObserver(function (mutations, observer) {{\n",
       "        var display = window.getComputedStyle(gd).display;\n",
       "        if (!display || display === 'none') {{\n",
       "            console.log([gd, 'removed!']);\n",
       "            Plotly.purge(gd);\n",
       "            observer.disconnect();\n",
       "        }}\n",
       "}});\n",
       "\n",
       "// Listen for the removal of the full notebook cells\n",
       "var notebookContainer = gd.closest('#notebook-container');\n",
       "if (notebookContainer) {{\n",
       "    x.observe(notebookContainer, {childList: true});\n",
       "}}\n",
       "\n",
       "// Listen for the clearing of the current output cell\n",
       "var outputEl = gd.closest('.output');\n",
       "if (outputEl) {{\n",
       "    x.observe(outputEl, {childList: true});\n",
       "}}\n",
       "\n",
       "                        })                };                });            </script>        </div>"
      ]
     },
     "metadata": {},
     "output_type": "display_data"
    }
   ],
   "source": [
    "iplot(choromap)"
   ]
  },
  {
   "cell_type": "code",
   "execution_count": 33,
   "id": "64419fb3",
   "metadata": {},
   "outputs": [
    {
     "data": {
      "text/plain": [
       "'temp-plot.html'"
      ]
     },
     "execution_count": 33,
     "metadata": {},
     "output_type": "execute_result"
    }
   ],
   "source": [
    "plot(choromap)"
   ]
  }
 ],
 "metadata": {
  "kernelspec": {
   "display_name": "Python 3",
   "language": "python",
   "name": "python3"
  },
  "language_info": {
   "codemirror_mode": {
    "name": "ipython",
    "version": 3
   },
   "file_extension": ".py",
   "mimetype": "text/x-python",
   "name": "python",
   "nbconvert_exporter": "python",
   "pygments_lexer": "ipython3",
   "version": "3.7.7"
  },
  "toc": {
   "base_numbering": 1,
   "nav_menu": {},
   "number_sections": true,
   "sideBar": true,
   "skip_h1_title": true,
   "title_cell": "Table of Contents",
   "title_sidebar": "Contents",
   "toc_cell": false,
   "toc_position": {
    "height": "calc(100% - 180px)",
    "left": "10px",
    "top": "150px",
    "width": "288px"
   },
   "toc_section_display": true,
   "toc_window_display": false
  },
  "varInspector": {
   "cols": {
    "lenName": 16,
    "lenType": 16,
    "lenVar": 40
   },
   "kernels_config": {
    "python": {
     "delete_cmd_postfix": "",
     "delete_cmd_prefix": "del ",
     "library": "var_list.py",
     "varRefreshCmd": "print(var_dic_list())"
    },
    "r": {
     "delete_cmd_postfix": ") ",
     "delete_cmd_prefix": "rm(",
     "library": "var_list.r",
     "varRefreshCmd": "cat(var_dic_list()) "
    }
   },
   "types_to_exclude": [
    "module",
    "function",
    "builtin_function_or_method",
    "instance",
    "_Feature"
   ],
   "window_display": true
  }
 },
 "nbformat": 4,
 "nbformat_minor": 5
}
